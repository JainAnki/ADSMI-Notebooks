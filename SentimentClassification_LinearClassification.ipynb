{
  "nbformat": 4,
  "nbformat_minor": 0,
  "metadata": {
    "colab": {
      "provenance": [],
      "include_colab_link": true
    },
    "kernelspec": {
      "name": "python3",
      "display_name": "Python 3"
    },
    "language_info": {
      "name": "python"
    }
  },
  "cells": [
    {
      "cell_type": "markdown",
      "metadata": {
        "id": "view-in-github",
        "colab_type": "text"
      },
      "source": [
        "<a href=\"https://colab.research.google.com/github/JainAnki/ADSMI-Notebooks/blob/main/SentimentClassification_LinearClassification.ipynb\" target=\"_parent\"><img src=\"https://colab.research.google.com/assets/colab-badge.svg\" alt=\"Open In Colab\"/></a>"
      ]
    },
    {
      "cell_type": "markdown",
      "metadata": {
        "id": "powered-thong"
      },
      "source": [
        "# Applied Data Science and Machine Intelligence\n",
        "## A program by IIT Madras and TalentSprint\n",
        "### Module 2 Mini Project: Sentiment Analysis using linear classifiers and unsupervised clustering."
      ]
    },
    {
      "cell_type": "markdown",
      "metadata": {
        "id": "1nK0fzdQzk0g"
      },
      "source": [
        "## Learning Objectives\n",
        "\n",
        "At the end of the mini project, you will be able to -\n",
        "\n",
        "* use a real world dataset.\n",
        "* undertake several important steps like cleaning the data and normalizing the data points.\n",
        "* do sentiment classification.\n",
        "* compare between different types of classification methods and their pros and cons. \n",
        "* compare between supervised and unsupervised (clustering) techniques. "
      ]
    },
    {
      "cell_type": "markdown",
      "source": [
        "### Goal of the project\n",
        "The goal of this project is to train linear classification models that can recognize the sentiment of the reviewer. In this project we will be dealing with only positive and negative sentiments (binary classification).\n",
        "\n",
        "**Disclaimer**: \n",
        "There are multiple ways to solve this problem, as there is no unique formula to solve.\n",
        "This is just one such approach."
      ],
      "metadata": {
        "id": "FvhRny6xpviu"
      }
    },
    {
      "cell_type": "markdown",
      "metadata": {
        "id": "hungry-accident"
      },
      "source": [
        "**Packages used:**  \n",
        "* `Pandas` for data frames and easy to read csv files  \n",
        "* `Numpy` for array and matrix mathematics functions  \n",
        "* `Matplotlib` and `Seaborn` for visualization\n",
        "*  `sklearn` for the metrics and pre-processing\n",
        "* `scipy` for helper functions required at various stages of the project.\n",
        "* `warnings` is used to supress warnings from different libraries used in the project."
      ]
    },
    {
      "cell_type": "markdown",
      "metadata": {
        "id": "u-g3SLm-DLEW"
      },
      "source": [
        "### Importing the packages"
      ]
    },
    {
      "cell_type": "code",
      "metadata": {
        "id": "e_V0z4eaDILg"
      },
      "source": [
        "# Importing standard libraries\n",
        "import numpy as np\n",
        "import matplotlib.pyplot as plt\n",
        "import matplotlib.cm as cm\n",
        "import pandas as pd\n",
        "import scipy\n",
        "import math\n",
        "import random\n",
        "\n",
        "# Importing linear classification algorithms\n",
        "from sklearn.neighbors import KNeighborsClassifier\n",
        "from sklearn import svm\n",
        "from sklearn.linear_model import LogisticRegression\n",
        "from sklearn.discriminant_analysis import LinearDiscriminantAnalysis       \n",
        "from sklearn.tree import DecisionTreeClassifier       \n",
        "from sklearn.naive_bayes import GaussianNB\n",
        "from sklearn import tree\n",
        "from sklearn.ensemble import VotingClassifier, RandomForestClassifier\n",
        "\n",
        "# Importing the clustering algorithms\n",
        "from sklearn.cluster import MiniBatchKMeans\n",
        "from sklearn.cluster import AgglomerativeClustering\n",
        "from sklearn.mixture import GaussianMixture\n",
        "\n",
        "# Importing preprocessing functions\n",
        "from sklearn.preprocessing import MinMaxScaler\n",
        "from sklearn.preprocessing import StandardScaler\n",
        "from sklearn.model_selection import train_test_split\n",
        "from sklearn.feature_extraction.text import TfidfVectorizer\n",
        "from sklearn.decomposition import PCA\n",
        "from sklearn.decomposition import TruncatedSVD\n",
        "\n",
        "# Importing metrics\n",
        "from sklearn.metrics import accuracy_score\n",
        "from sklearn.metrics import f1_score\n",
        "\n",
        "# Suppressing warnings\n",
        "import warnings\n",
        "warnings.filterwarnings('ignore')"
      ],
      "execution_count": null,
      "outputs": []
    },
    {
      "cell_type": "markdown",
      "metadata": {
        "id": "ImHVICmvttXp"
      },
      "source": [
        "### Downloading a dataset containing amazon review information along with ratings"
      ]
    },
    {
      "cell_type": "code",
      "source": [
        "#@title Download Dataset\n",
        "!wget https://cdn.iisc.talentsprint.com/ADSMI/Datasets/amazon_reviews.zip\n",
        "!unzip \"amazon_reviews.zip\""
      ],
      "metadata": {
        "cellView": "form",
        "id": "W6N0zeDVl79J",
        "colab": {
          "base_uri": "https://localhost:8080/"
        },
        "outputId": "6fa474e0-5d8b-424e-b8a9-72a1268cd60e"
      },
      "execution_count": null,
      "outputs": [
        {
          "output_type": "stream",
          "name": "stdout",
          "text": [
            "--2022-09-19 04:07:14--  https://cdn.iisc.talentsprint.com/ADSMI/Datasets/amazon_reviews.zip\n",
            "Resolving cdn.iisc.talentsprint.com (cdn.iisc.talentsprint.com)... 172.105.52.210\n",
            "Connecting to cdn.iisc.talentsprint.com (cdn.iisc.talentsprint.com)|172.105.52.210|:443... connected.\n",
            "HTTP request sent, awaiting response... 200 OK\n",
            "Length: 29949034 (29M) [application/zip]\n",
            "Saving to: ‘amazon_reviews.zip’\n",
            "\n",
            "amazon_reviews.zip  100%[===================>]  28.56M  6.28MB/s    in 4.5s    \n",
            "\n",
            "2022-09-19 04:07:20 (6.28 MB/s) - ‘amazon_reviews.zip’ saved [29949034/29949034]\n",
            "\n",
            "Archive:  amazon_reviews.zip\n",
            "  inflating: amazon_reviews.csv      \n"
          ]
        }
      ]
    },
    {
      "cell_type": "markdown",
      "metadata": {
        "id": "9padyuWLABc0"
      },
      "source": [
        "## How does the dataset look like?\n",
        "Lets use a standard dataset from Amazon which contains reviews and ratings from the customer. The original dataset has three features: name(name of the products), review(Customer reviews of the products), and rating(rating of the customer of a product ranging from 1 to 5). The review column will be the input column and the rating column will be used to understand the sentiments of the review. Here are some important data preprocessing steps:\n",
        "The dataset has about 183,500 rows of data. There are 1147 null values which will be removed.\n",
        "As the dataset is pretty big, it takes a lot of time to run some machine learning algorithms. We will use 30% of the data in this project which is still 54,000+ data points! The sample will be representative of the whole dataset.\n",
        "If the rating is 1 and 2 that will be considered a negative review. And if the review is 3, 4, and 5, the review will be considered as a  positive review. We add a new column named ‘sentiments’ to the dataset that will use 1 for the positive reviews and 0 for the negative reviews. We read and display the contents of the dataset down below."
      ]
    },
    {
      "cell_type": "code",
      "metadata": {
        "id": "QcNuYIaXABc1",
        "colab": {
          "base_uri": "https://localhost:8080/",
          "height": 224
        },
        "outputId": "b69802c4-a22c-40c7-a7bb-a7a997b6f2d5"
      },
      "source": [
        "#Read the dataset from the downloaded csv file\n",
        "df = pd.read_csv('amazon_reviews.csv')\n",
        "\n",
        "#getting rid of null values\n",
        "df = df.dropna()\n",
        "\n",
        "#Taking a 90% representative sample\n",
        "np.random.seed(34)\n",
        "df1 = df.sample(frac = 0.3)\n",
        "\n",
        "#Adding the sentiments column\n",
        "df1['sentiments'] = df1.rating.apply(lambda x: 0 if x in [1, 2] else 1)\n",
        "\n",
        "print (\"First five rows of the dataset\")\n",
        "df1.head(5)"
      ],
      "execution_count": null,
      "outputs": [
        {
          "output_type": "stream",
          "name": "stdout",
          "text": [
            "First five rows of the dataset\n"
          ]
        },
        {
          "output_type": "execute_result",
          "data": {
            "text/plain": [
              "                                                     name  \\\n",
              "165191  aden + anais Rayon From Bamboo Crib Sheet, Azu...   \n",
              "108775  Hand Held Scalp Head Massager - Set of Three (...   \n",
              "162820             Clevamama ClevaFoam Baby Pillow, Cream   \n",
              "148217  Kids Line Velour Changing Pad Cover, Pirate Party   \n",
              "46428                      Angel Dear Blankie, Green Frog   \n",
              "\n",
              "                                                   review  rating  sentiments  \n",
              "165191  An off-white or cream sheet that is so soft. I...       5           1  \n",
              "108775  I was skeptical about how well these will work...       5           1  \n",
              "162820  It soft and material appears to be excellent. ...       5           1  \n",
              "148217  This is a very nice cover. I have two because ...       5           1  \n",
              "46428   I love these Lovies. They are cute, soft and d...       5           1  "
            ],
            "text/html": [
              "\n",
              "  <div id=\"df-59efcec0-383f-44ce-8c93-4ad38c5ce784\">\n",
              "    <div class=\"colab-df-container\">\n",
              "      <div>\n",
              "<style scoped>\n",
              "    .dataframe tbody tr th:only-of-type {\n",
              "        vertical-align: middle;\n",
              "    }\n",
              "\n",
              "    .dataframe tbody tr th {\n",
              "        vertical-align: top;\n",
              "    }\n",
              "\n",
              "    .dataframe thead th {\n",
              "        text-align: right;\n",
              "    }\n",
              "</style>\n",
              "<table border=\"1\" class=\"dataframe\">\n",
              "  <thead>\n",
              "    <tr style=\"text-align: right;\">\n",
              "      <th></th>\n",
              "      <th>name</th>\n",
              "      <th>review</th>\n",
              "      <th>rating</th>\n",
              "      <th>sentiments</th>\n",
              "    </tr>\n",
              "  </thead>\n",
              "  <tbody>\n",
              "    <tr>\n",
              "      <th>165191</th>\n",
              "      <td>aden + anais Rayon From Bamboo Crib Sheet, Azu...</td>\n",
              "      <td>An off-white or cream sheet that is so soft. I...</td>\n",
              "      <td>5</td>\n",
              "      <td>1</td>\n",
              "    </tr>\n",
              "    <tr>\n",
              "      <th>108775</th>\n",
              "      <td>Hand Held Scalp Head Massager - Set of Three (...</td>\n",
              "      <td>I was skeptical about how well these will work...</td>\n",
              "      <td>5</td>\n",
              "      <td>1</td>\n",
              "    </tr>\n",
              "    <tr>\n",
              "      <th>162820</th>\n",
              "      <td>Clevamama ClevaFoam Baby Pillow, Cream</td>\n",
              "      <td>It soft and material appears to be excellent. ...</td>\n",
              "      <td>5</td>\n",
              "      <td>1</td>\n",
              "    </tr>\n",
              "    <tr>\n",
              "      <th>148217</th>\n",
              "      <td>Kids Line Velour Changing Pad Cover, Pirate Party</td>\n",
              "      <td>This is a very nice cover. I have two because ...</td>\n",
              "      <td>5</td>\n",
              "      <td>1</td>\n",
              "    </tr>\n",
              "    <tr>\n",
              "      <th>46428</th>\n",
              "      <td>Angel Dear Blankie, Green Frog</td>\n",
              "      <td>I love these Lovies. They are cute, soft and d...</td>\n",
              "      <td>5</td>\n",
              "      <td>1</td>\n",
              "    </tr>\n",
              "  </tbody>\n",
              "</table>\n",
              "</div>\n",
              "      <button class=\"colab-df-convert\" onclick=\"convertToInteractive('df-59efcec0-383f-44ce-8c93-4ad38c5ce784')\"\n",
              "              title=\"Convert this dataframe to an interactive table.\"\n",
              "              style=\"display:none;\">\n",
              "        \n",
              "  <svg xmlns=\"http://www.w3.org/2000/svg\" height=\"24px\"viewBox=\"0 0 24 24\"\n",
              "       width=\"24px\">\n",
              "    <path d=\"M0 0h24v24H0V0z\" fill=\"none\"/>\n",
              "    <path d=\"M18.56 5.44l.94 2.06.94-2.06 2.06-.94-2.06-.94-.94-2.06-.94 2.06-2.06.94zm-11 1L8.5 8.5l.94-2.06 2.06-.94-2.06-.94L8.5 2.5l-.94 2.06-2.06.94zm10 10l.94 2.06.94-2.06 2.06-.94-2.06-.94-.94-2.06-.94 2.06-2.06.94z\"/><path d=\"M17.41 7.96l-1.37-1.37c-.4-.4-.92-.59-1.43-.59-.52 0-1.04.2-1.43.59L10.3 9.45l-7.72 7.72c-.78.78-.78 2.05 0 2.83L4 21.41c.39.39.9.59 1.41.59.51 0 1.02-.2 1.41-.59l7.78-7.78 2.81-2.81c.8-.78.8-2.07 0-2.86zM5.41 20L4 18.59l7.72-7.72 1.47 1.35L5.41 20z\"/>\n",
              "  </svg>\n",
              "      </button>\n",
              "      \n",
              "  <style>\n",
              "    .colab-df-container {\n",
              "      display:flex;\n",
              "      flex-wrap:wrap;\n",
              "      gap: 12px;\n",
              "    }\n",
              "\n",
              "    .colab-df-convert {\n",
              "      background-color: #E8F0FE;\n",
              "      border: none;\n",
              "      border-radius: 50%;\n",
              "      cursor: pointer;\n",
              "      display: none;\n",
              "      fill: #1967D2;\n",
              "      height: 32px;\n",
              "      padding: 0 0 0 0;\n",
              "      width: 32px;\n",
              "    }\n",
              "\n",
              "    .colab-df-convert:hover {\n",
              "      background-color: #E2EBFA;\n",
              "      box-shadow: 0px 1px 2px rgba(60, 64, 67, 0.3), 0px 1px 3px 1px rgba(60, 64, 67, 0.15);\n",
              "      fill: #174EA6;\n",
              "    }\n",
              "\n",
              "    [theme=dark] .colab-df-convert {\n",
              "      background-color: #3B4455;\n",
              "      fill: #D2E3FC;\n",
              "    }\n",
              "\n",
              "    [theme=dark] .colab-df-convert:hover {\n",
              "      background-color: #434B5C;\n",
              "      box-shadow: 0px 1px 3px 1px rgba(0, 0, 0, 0.15);\n",
              "      filter: drop-shadow(0px 1px 2px rgba(0, 0, 0, 0.3));\n",
              "      fill: #FFFFFF;\n",
              "    }\n",
              "  </style>\n",
              "\n",
              "      <script>\n",
              "        const buttonEl =\n",
              "          document.querySelector('#df-59efcec0-383f-44ce-8c93-4ad38c5ce784 button.colab-df-convert');\n",
              "        buttonEl.style.display =\n",
              "          google.colab.kernel.accessAllowed ? 'block' : 'none';\n",
              "\n",
              "        async function convertToInteractive(key) {\n",
              "          const element = document.querySelector('#df-59efcec0-383f-44ce-8c93-4ad38c5ce784');\n",
              "          const dataTable =\n",
              "            await google.colab.kernel.invokeFunction('convertToInteractive',\n",
              "                                                     [key], {});\n",
              "          if (!dataTable) return;\n",
              "\n",
              "          const docLinkHtml = 'Like what you see? Visit the ' +\n",
              "            '<a target=\"_blank\" href=https://colab.research.google.com/notebooks/data_table.ipynb>data table notebook</a>'\n",
              "            + ' to learn more about interactive tables.';\n",
              "          element.innerHTML = '';\n",
              "          dataTable['output_type'] = 'display_data';\n",
              "          await google.colab.output.renderOutput(dataTable, element);\n",
              "          const docLink = document.createElement('div');\n",
              "          docLink.innerHTML = docLinkHtml;\n",
              "          element.appendChild(docLink);\n",
              "        }\n",
              "      </script>\n",
              "    </div>\n",
              "  </div>\n",
              "  "
            ]
          },
          "metadata": {},
          "execution_count": 3
        }
      ]
    },
    {
      "cell_type": "markdown",
      "source": [
        "### Shape of the data"
      ],
      "metadata": {
        "id": "a-vhOphFWDI2"
      }
    },
    {
      "cell_type": "code",
      "source": [
        "print (\"Shape of the data: \", df1.shape)"
      ],
      "metadata": {
        "colab": {
          "base_uri": "https://localhost:8080/"
        },
        "id": "u9g_dpAxWFY2",
        "outputId": "33cab075-bedf-4a9f-b8b6-b3a786835b07"
      },
      "execution_count": null,
      "outputs": [
        {
          "output_type": "stream",
          "name": "stdout",
          "text": [
            "Shape of the data:  (54715, 4)\n"
          ]
        }
      ]
    },
    {
      "cell_type": "markdown",
      "source": [
        "### Defining the input and expected output from our model.\n",
        "\n",
        "Before starting the sentiment analysis, it is necessary to define the input features and the labels. Here there is only one feature, which is the ‘review’. The label will be the ‘sentiments’. The goal of this project is to train a model that can output if a review is positive or negative. Therefore, we store the data using two variables named `X` and `y`."
      ],
      "metadata": {
        "id": "ieSXtfFWo2Kw"
      }
    },
    {
      "cell_type": "code",
      "source": [
        "# X is the input to the sentiment classifier\n",
        "X = df1['review']\n",
        "\n",
        "# y is the ground-truth/expected output to the sentiment classifier\n",
        "y = df1['sentiments']"
      ],
      "metadata": {
        "id": "59m4ZexjpKRd"
      },
      "execution_count": null,
      "outputs": []
    },
    {
      "cell_type": "markdown",
      "source": [
        "### Preprocessing the data\n",
        "As we can see the data is present in the form of text. We cannot feed them directly to a machine learning algorithm which deals with real numbers. Thus, we first preprocess and vectorize the whole data. We use a TFIDF based vectorizer to vectorize the data. We also split the data into train and test splits using a `sklearn` function. The train and test splits (90% train and 10% test) will be kept the same throughout this project and to maintain parity and comparability between the algorithms."
      ],
      "metadata": {
        "id": "da7DKdq_qrjJ"
      }
    },
    {
      "cell_type": "code",
      "source": [
        "# Splitting the data into train and test splits\n",
        "# We keep 90% for training and 10% for testing.\n",
        "X_train, X_test, y_train, y_test = train_test_split(X, y, test_size = 0.1, random_state=24)\n",
        "\n",
        "# Defining the TFIDF vectorizer\n",
        "vectorizer = TfidfVectorizer()\n",
        "\n",
        "# Generating the vectorized output for each sentences in train and test sets.\n",
        "X_train_vec = vectorizer.fit_transform(X_train)\n",
        "X_test_vec = vectorizer.transform(X_test)\n",
        "\n",
        "print (\"The shape of train inputs: \", X_train_vec.shape)\n",
        "print (\"The shape of test inputs: \", X_test_vec.shape)"
      ],
      "metadata": {
        "colab": {
          "base_uri": "https://localhost:8080/"
        },
        "id": "4xkXtx9is6cz",
        "outputId": "68658368-86a0-42f9-98cf-7574eeb7dfe0"
      },
      "execution_count": null,
      "outputs": [
        {
          "output_type": "stream",
          "name": "stdout",
          "text": [
            "The shape of train inputs:  (49243, 35520)\n",
            "The shape of test inputs:  (5472, 35520)\n"
          ]
        }
      ]
    },
    {
      "cell_type": "markdown",
      "source": [
        "We have the data preprocessed at this stage. We can now dive into the next level of algorithms for linear classification."
      ],
      "metadata": {
        "id": "ZZ4C4p6WuK4a"
      }
    },
    {
      "cell_type": "markdown",
      "source": [
        "### Metrics to be used to measure the performance\n",
        "\n",
        "We will use two metrics to measure performance of each algorithm.\n",
        "\n",
        "1. Accuracy.\n",
        "2. F1 Score.\n",
        "\n",
        "Both of these are imported from the `sklearn` library."
      ],
      "metadata": {
        "id": "fYrg-Ic9kBDK"
      }
    },
    {
      "cell_type": "markdown",
      "source": [
        "### K-Nearest Neighbour Classifier\n",
        "As already covered in the assignments, K-NN is a non-parametric algorithm, which means it does not make any assumption on underlying data. It is also called a lazy learner algorithm because it does not learn from the training set immediately instead it stores the dataset and at the time of classification, it checks the relative distance of any test data point with all points in the train set to make a decision.\n",
        "\n"
      ],
      "metadata": {
        "id": "pZTKy3mouXcL"
      }
    },
    {
      "cell_type": "code",
      "source": [
        "# Define the KNN classifier\n",
        "# Number of neighbours is 5\n",
        "knn = KNeighborsClassifier(n_neighbors=5)\n",
        "\n",
        "# Training the KNN classifier\n",
        "knn.fit(X_train_vec, y_train)\n",
        "\n",
        "# Calculating accuracy on the KNN classifier\n",
        "# The accuracy is within 0 and 1 in this snippet\n",
        "knn_score = knn.score(X_test_vec, y_test)\n",
        "print(\"Accuracy of the sentiment classification using the KNN classifier: \", knn_score)\n",
        "\n",
        "# Predicting on the test set\n",
        "y_pred = knn.predict(X_test_vec)\n",
        "\n",
        "# F1 score calculation\n",
        "knn_f1_score = f1_score(y_pred, y_test)\n",
        "\n",
        "print (\"F1 Score for sentiment classification using the KNN classifier: \", knn_f1_score)"
      ],
      "metadata": {
        "colab": {
          "base_uri": "https://localhost:8080/"
        },
        "id": "bnvvXMSJyp_b",
        "outputId": "189a776f-5135-4102-af5c-a2704f5f7ac9"
      },
      "execution_count": null,
      "outputs": [
        {
          "output_type": "stream",
          "name": "stdout",
          "text": [
            "Accuracy of the sentiment classification using the KNN classifier:  0.8634868421052632\n",
            "F1 Score for sentiment classification using the KNN classifier:  0.924811273276296\n"
          ]
        }
      ]
    },
    {
      "cell_type": "markdown",
      "source": [
        "Please change the parameter `n_neighbors` to different values to check its effect on the accuracy! "
      ],
      "metadata": {
        "id": "BfHtAVSALZW6"
      }
    },
    {
      "cell_type": "markdown",
      "source": [
        "### Logistic Regression\n",
        "\n",
        "Once we have tested out the KNN classifier, we now move on to other algorithms which can be used for classification. The next algorithm which we will check is the logistic regression algorithm. \n",
        "\n",
        "The logistic function, more popularly called the sigmoid function was to describe properties of population growth in ecology, rising quickly and maxing out at the carrying capacity of the environment. \n",
        "\n",
        "It’s an S-shaped curve that can take any real-valued number and map it into a value between 0 and 1, but never exactly at those limits.\n",
        "\n",
        "$\\frac{1}{ (1 + e^{-value})}$\n",
        "\n",
        "Where $e$ is the base of the natural logarithms and value is the actual numerical value that you want to transform. Below is a plot of the numbers between $-5$ and $5$ transformed into the range $0$ and $1$ using the logistic function."
      ],
      "metadata": {
        "id": "cbIR56fuLroc"
      }
    },
    {
      "cell_type": "markdown",
      "source": [
        "Therefore, we now use the logistic regression algorithm to classify our dataset into positive and negative sentiments."
      ],
      "metadata": {
        "id": "ix0nCnMHQDjg"
      }
    },
    {
      "cell_type": "code",
      "source": [
        "# Logistic regression model is defined\n",
        "logistic_regression = LogisticRegression()\n",
        "\n",
        "# Training the logistic regression classifier\n",
        "logistic_regression.fit(X_train_vec, y_train)\n",
        "\n",
        "# Calculating accuracy on the logistic regression classifier\n",
        "# The accuracy is within 0 and 1 in this snippet\n",
        "lr_score = logistic_regression.score(X_test_vec, y_test)\n",
        "print(\"Accuracy of the sentiment classification using the Logistic Regression based classifier: \", lr_score)\n",
        "\n",
        "# Predicting on the test set\n",
        "y_pred_lr = logistic_regression.predict(X_test_vec)\n",
        "\n",
        "# F1 score calculation\n",
        "lr_f1_score = f1_score(y_pred_lr, y_test)\n",
        "\n",
        "print (\"F1 Score for sentiment classification using the Logistic Regression based classifier: \", lr_f1_score)"
      ],
      "metadata": {
        "colab": {
          "base_uri": "https://localhost:8080/"
        },
        "id": "BET93iG3QQ9p",
        "outputId": "5a81e0dc-b790-4c7e-b164-5bc813e39c91"
      },
      "execution_count": null,
      "outputs": [
        {
          "output_type": "stream",
          "name": "stdout",
          "text": [
            "Accuracy of the sentiment classification using the Logistic Regression based classifier:  0.908625730994152\n",
            "F1 Score for sentiment classification using the Logistic Regression based classifier:  0.94824016563147\n"
          ]
        }
      ]
    },
    {
      "cell_type": "markdown",
      "source": [
        "As we see, logistic regression gives a $4\\%$ accuracy increase compared to a KNN based classifier. Similarly the F1 score also improved by $2\\%$ compared to the KNN classifier's results."
      ],
      "metadata": {
        "id": "zE1YITPnQMHG"
      }
    },
    {
      "cell_type": "markdown",
      "source": [
        "### Support Vector Machines and Dimensionality Reduction using PCA\n",
        "\n",
        "The next classifier we look into are support vector machines. \n",
        "\n",
        "![wget](https://cdn.talentsprint.com/aiml/aiml_2020_b14_hyd/experiment_details_backup/linear_data.png)\n",
        "\n",
        "While the other classifiers such as the perceptron and the logistic regression uses a similar concept of finding a boundary between two classes using a straight line, SVMs aim to maximize this boundary. Therefore, not only the SVM tries to find a boundary, it tries to find the best boundary that separates the two classes. Again, with very simple tricks the two class classification can be easily extended to a multiclass classification. The formal formulation of a SVM is,\n",
        "\n",
        "$g(x) = w^Tx + b$, is the equation of the line we want to find with weights $w$ and a bias $b$.\n",
        "\n",
        "Now as seen from the figure, $g(x) = k$ and $g(x) = -k$ will give two worst lines for classification as they are right at the boundary of one of the classes. We need to maximize the distance of the line from both of the classes.\n",
        "\n",
        "Therefore,\n",
        "\n",
        "Maximize $k$ such that :\n",
        "\n",
        "$-w^Tx + b \\geq k \\: for \\: d_i == 1$\n",
        "\n",
        "$-w^Tx + b \\leq k \\: for \\: d_i == -1$\n",
        "\n",
        "We keep $g(x) \\geq 1$ and minimize $||w||$.\n",
        "\n",
        "We finally write the final minimization function (uses Lagrangians to come to this solution).\n",
        "\n",
        "Minimize: $J(w, b, \\alpha) = \\frac{1}{2}w^Tw - \\Sigma_{i=1}^{N}(\\alpha_id_i(w^Tx_i + b)) + \\Sigma_{i=1}^{N}(\\alpha_i)$\n",
        "\n",
        "There are multiple types of SVM. We first use the standard linear SVM and check the performance of the model. However, SVM cannot be directly used on this dataset. "
      ],
      "metadata": {
        "id": "ff1NVdOJQ51m"
      }
    },
    {
      "cell_type": "markdown",
      "source": [
        "#### Reducing the number of feature dimensions in the input data\n",
        "\n"
      ],
      "metadata": {
        "id": "AwLAE15tofeS"
      }
    },
    {
      "cell_type": "markdown",
      "source": [
        "The data is too large and the normal SVM function from `sklearn` will take a lot of time to run. Therefore, we first apply a PCA based dimensionality reduction technique on the input data. This will be followed by different types of SVM techniques and the performance can be compared. Since, dimensionality reduction is applied, a slight drop in performance is expected. However, with the improvement in the time taken for training a SVM in mind, it is important we first apply PCA based dimensionality reduction."
      ],
      "metadata": {
        "id": "s8puAA4nk7qG"
      }
    },
    {
      "cell_type": "markdown",
      "source": [
        "In principal component analysis, this relationship is quantified by finding a list of the principal axes in the data, and using those axes to describe the dataset.Using PCA for dimensionality reduction involves zeroing out one or more of the smallest principal components, resulting in a lower-dimensional projection of the data that preserves the maximal data variance."
      ],
      "metadata": {
        "id": "y2vWpzFjpVKc"
      }
    },
    {
      "cell_type": "code",
      "source": [
        "# Defining the PCA model\n",
        "# We use the truncated SVD function because our TFIDF vectorizer has generated a sparse input matrix\n",
        "pca = TruncatedSVD(20)\n",
        "\n",
        "# Fitting the training data\n",
        "pca.fit(X_train_vec)\n",
        "\n",
        "# Reducing the dimensions of the training data\n",
        "X_train_vec_dim_reduced = pca.transform(X_train_vec)\n",
        "\n",
        "# Reducing the dimensions of the testing data\n",
        "X_test_vec_dim_reduced = pca.transform(X_test_vec)"
      ],
      "metadata": {
        "id": "1alr8BANp7Tb"
      },
      "execution_count": null,
      "outputs": []
    },
    {
      "cell_type": "markdown",
      "source": [
        "Please change the number of components (set at $20$ currently!) and see the effect it has on the performance."
      ],
      "metadata": {
        "id": "4wfhyU81yEl0"
      }
    },
    {
      "cell_type": "markdown",
      "source": [
        "#### Hard margin SVM classifier"
      ],
      "metadata": {
        "id": "t-Bf0pSWsAyb"
      }
    },
    {
      "cell_type": "markdown",
      "source": [
        "Now that we have reduced the dimension of the data, we can train and evaluate the performance of the SVM classifier. Please note that the following SVM is a hard margin SVM classifier. "
      ],
      "metadata": {
        "id": "xPwcxIGRp7kj"
      }
    },
    {
      "cell_type": "code",
      "source": [
        "# Linear SVM is defined.\n",
        "svm_classifier = svm.SVC(kernel='linear', random_state=0, gamma='auto')\n",
        "\n",
        "# Training the SVM classifier\n",
        "svm_classifier.fit(X_train_vec_dim_reduced, y_train)\n",
        "\n",
        "# Calculating accuracy on the SVM classifier\n",
        "# The accuracy is within 0 and 1 in this snippet\n",
        "svm_score = svm_classifier.score(X_test_vec_dim_reduced, y_test)\n",
        "print(\"Accuracy of the sentiment classification using linear SVM: \", svm_score)\n",
        "\n",
        "# Predicting on the test set\n",
        "y_pred_svm = svm_classifier.predict(X_test_vec_dim_reduced)\n",
        "\n",
        "# F1 score calculation\n",
        "f1_svm_score = f1_score(y_pred_svm, y_test)\n",
        "\n",
        "print (\"F1 Score for sentiment classification using linear SVM: \", f1_svm_score)"
      ],
      "metadata": {
        "colab": {
          "base_uri": "https://localhost:8080/"
        },
        "id": "ovINxJWzlGgO",
        "outputId": "a3d81e56-bdca-4711-a86c-f2c75e3648f3"
      },
      "execution_count": null,
      "outputs": [
        {
          "output_type": "stream",
          "name": "stdout",
          "text": [
            "Accuracy of the sentiment classification using linear SVM:  0.8536184210526315\n",
            "F1 Score for sentiment classification using linear SVM:  0.9210292812777285\n"
          ]
        }
      ]
    },
    {
      "cell_type": "markdown",
      "source": [
        "#### Soft margin SVM classifier"
      ],
      "metadata": {
        "id": "fczMbxXcsOil"
      }
    },
    {
      "cell_type": "markdown",
      "source": [
        "We now train a soft margin SVM classifier. The soft margin SVM allows for some level of tolerence to mis-classifications during training to overfit less on the training data. Let us see its effect."
      ],
      "metadata": {
        "id": "Ou1U7DgHr-m8"
      }
    },
    {
      "cell_type": "code",
      "source": [
        "# Linear SVM is defined.\n",
        "svm_classifier_sm = svm.SVC(kernel='linear', random_state=0, C=10)\n",
        "\n",
        "# Training the SVM classifier\n",
        "svm_classifier_sm.fit(X_train_vec_dim_reduced, y_train)\n",
        "\n",
        "# Calculating accuracy on the soft margin SVM classifier\n",
        "# The accuracy is within 0 and 1 in this snippet\n",
        "svm_score_sm = svm_classifier_sm.score(X_test_vec_dim_reduced, y_test)\n",
        "print(\"Accuracy of the sentiment classification using soft margin SVM: \", svm_score_sm)\n",
        "\n",
        "# Predicting on the test set\n",
        "y_pred_svm_sm = svm_classifier_sm.predict(X_test_vec_dim_reduced)\n",
        "\n",
        "# F1 score calculation\n",
        "f1_svm_score_sm = f1_score(y_pred_svm_sm, y_test)\n",
        "\n",
        "print (\"F1 Score for sentiment classification using soft margin SVM: \", f1_svm_score_sm)"
      ],
      "metadata": {
        "id": "1xocxvq9stTi",
        "colab": {
          "base_uri": "https://localhost:8080/"
        },
        "outputId": "64c87525-b79c-49de-8b2f-14e30d4a5944"
      },
      "execution_count": null,
      "outputs": [
        {
          "output_type": "stream",
          "name": "stdout",
          "text": [
            "Accuracy of the sentiment classification using soft margin SVM:  0.8536184210526315\n",
            "F1 Score for sentiment classification using soft margin SVM:  0.9210292812777285\n"
          ]
        }
      ]
    },
    {
      "cell_type": "markdown",
      "source": [
        "Please check how accuracy and F score varies with $C$. Also note the run times. "
      ],
      "metadata": {
        "id": "8heGzCVCwLAk"
      }
    },
    {
      "cell_type": "markdown",
      "source": [
        "#### Kernel SVM\n",
        "We will check the effect of using Kernel SVMs on the performance. Kernel functions project the data into higher dimensional space which allows the data to be separated linearly in that space. This is especially useful when the data in not linearly separable in the original input space."
      ],
      "metadata": {
        "id": "ukrckP5iyUW1"
      }
    },
    {
      "cell_type": "code",
      "source": [
        "# Kernel SVM is defined.\n",
        "svm_classifier_kernel = svm.SVC(kernel='rbf', random_state=0)\n",
        "\n",
        "# Training the SVM classifier\n",
        "svm_classifier_kernel.fit(X_train_vec_dim_reduced, y_train)\n",
        "\n",
        "# Calculating accuracy on the kernel SVM classifier\n",
        "# The accuracy is within 0 and 1 in this snippet\n",
        "svm_score_kernel = svm_classifier_kernel.score(X_test_vec_dim_reduced, y_test)\n",
        "print(\"Accuracy of the sentiment classification using kernel SVM: \", svm_score_kernel)\n",
        "\n",
        "# Predicting on the test set\n",
        "y_pred_svm_kernel = svm_classifier_kernel.predict(X_test_vec_dim_reduced)\n",
        "\n",
        "# F1 score calculation\n",
        "f1_svm_score_kernel = f1_score(y_pred_svm_kernel, y_test)\n",
        "print (\"F1 Score for sentiment classification using kernel SVM: \", f1_svm_score_kernel)"
      ],
      "metadata": {
        "colab": {
          "base_uri": "https://localhost:8080/"
        },
        "id": "y1OoUR3Axkhw",
        "outputId": "17134744-6b61-40ba-fb88-c79e73fd1dc1"
      },
      "execution_count": null,
      "outputs": [
        {
          "output_type": "stream",
          "name": "stdout",
          "text": [
            "Accuracy of the sentiment classification using kernel SVM:  0.8536184210526315\n",
            "F1 Score for sentiment classification using kernel SVM:  0.9210292812777285\n"
          ]
        }
      ]
    },
    {
      "cell_type": "markdown",
      "source": [
        "### Naive Bayes\n",
        "\n",
        "These classifiers are built on the Bayes rule. We try to find the probability of a label given the observations made, which we can write as $P(L~|~{D})$.\n",
        "Bayes's theorem tells us how to express this in terms of quantities we can compute more directly:\n",
        "\n",
        "$$\n",
        "P(L~|~{\\rm D}) = \\frac{P({\\rm D}~|~L)P(L)}{P({\\rm D})}\n",
        "$$\n",
        "\n",
        "If we have two classes (two labels), let them be denoted by $L_1$ and $L_2$—then one way to make this decision is to compute the ratio of the posterior probabilities for each label:\n",
        "\n",
        "$$\n",
        "\\frac{P(L_1~|~{\\rm D})}{P(L_2~|~{\\rm D})} = \\frac{P({\\rm D}~|~L_1)}{P({\\rm D}~|~L_2)}\\frac{P(L_1)}{P(L_2)}\n",
        "$$\n",
        "\n",
        "All we need now is some model by which we can compute $P({\\rm D}~|~L_i)$ for each label.\n",
        "Such a model is called a *generative model* because it specifies the hypothetical random process that generates the data.\n",
        "Specifying this generative model for each label is the main piece of the training of such a Bayesian classifier.\n",
        "The general version of such a training step is a very difficult task, but we can make it simpler through a \"Naive\" assumption that each label is associated with a speicfic distribution (often a gaussian)."
      ],
      "metadata": {
        "id": "9gQ4zLqA2ZEn"
      }
    },
    {
      "cell_type": "code",
      "source": [
        "# Defining the naive bayes model. In this we assume the distribution associated with a label is a gaussian one.\n",
        "nb = GaussianNB()\n",
        "\n",
        "# Training the model on the train split\n",
        "nb.fit(X_train_vec_dim_reduced, y_train);\n",
        "\n",
        "# Calculating accuracy on the naive bayes classifier\n",
        "# The accuracy is within 0 and 1 in this snippet\n",
        "score_nb = nb.score(X_test_vec_dim_reduced, y_test)\n",
        "print(\"Accuracy of the sentiment classification using Naive Bayes: \", score_nb)\n",
        "\n",
        "# Predicting on the test set\n",
        "y_pred_nb = nb.predict(X_test_vec_dim_reduced)\n",
        "\n",
        "# F1 score calculation\n",
        "f1_nb_score = f1_score(y_pred_nb, y_test)\n",
        "\n",
        "print (\"F1 Score for sentiment classification using Naive Bayes: \", f1_nb_score)"
      ],
      "metadata": {
        "colab": {
          "base_uri": "https://localhost:8080/"
        },
        "id": "pVvmu9Zn32uQ",
        "outputId": "4d93e532-2416-4281-d012-87381973e5b6"
      },
      "execution_count": null,
      "outputs": [
        {
          "output_type": "stream",
          "name": "stdout",
          "text": [
            "Accuracy of the sentiment classification using Naive Bayes:  0.8137792397660819\n",
            "F1 Score for sentiment classification using Naive Bayes:  0.889682797445058\n"
          ]
        }
      ]
    },
    {
      "cell_type": "markdown",
      "source": [
        "### Decision Trees\n",
        "\n"
      ],
      "metadata": {
        "id": "SUtw1jqB5Obc"
      }
    },
    {
      "cell_type": "markdown",
      "source": [
        "Till now we have seen KNN, logistic regression, different types of SVM classifiers. Let us now check out a different type of a classifier called the Decision Trees. Decision Trees are supervised Machine Learning algorithms that can perform both classification and regression tasks and even multioutput tasks. They can handle complex datasets. As the name shows, it uses a tree-like model to make decisions in order to classify or predict according to the problem. It is an ML algorithm that progressively divides datasets into smaller data groups based on a descriptive feature until it reaches sets that are small enough to be described by some label.\n",
        "\n",
        "The most important part of a decision tree is its explainability!\n",
        "\n",
        "The importance of decision tree algorithm is that it has many applications in the real world. For example:\n",
        "\n",
        "1. In the Healthcare sector: To develop Clinical Decision Analysis tools which allow decision-makers to apply for evidence-based medicine and make objective clinical decisions when faced with complex situations.\n",
        "2. Virtual Assistants (Chatbots): To develop chatbots that provide information and assistance to customers in any required domain.\n",
        "3. Retail and Marketing: Sentiment analysis detects the pulse of customer feedback and emotions and allows organizations to learn about customer choices and drives decisions."
      ],
      "metadata": {
        "id": "tMsGMfv3yCSH"
      }
    },
    {
      "cell_type": "code",
      "source": [
        "# Create DT classifier with max_depth = 5\n",
        "dt = DecisionTreeClassifier(max_depth = 5, random_state=1234)\n",
        "\n",
        "# Fit the DT with the training data\n",
        "dt.fit(X_train_vec, y_train)\n",
        "\n",
        "# Calculating accuracy on the decision tree classifier\n",
        "# The accuracy is within 0 and 1 in this snippet\n",
        "score_dt = dt.score(X_test_vec, y_test)\n",
        "print(\"Accuracy of the sentiment classification using Decision Trees: \", score_dt)\n",
        "\n",
        "# Predicting on the test set\n",
        "y_pred_dt = dt.predict(X_test_vec)\n",
        "\n",
        "# F1 score calculation\n",
        "f1_dt_score = f1_score(y_pred_dt, y_test)\n",
        "\n",
        "print (\"F1 Score for sentiment classification using Decision Trees: \", f1_dt_score)"
      ],
      "metadata": {
        "colab": {
          "base_uri": "https://localhost:8080/"
        },
        "id": "LEv046VFz-Za",
        "outputId": "4de33db4-d13c-42e1-a269-63a0000402e9"
      },
      "execution_count": null,
      "outputs": [
        {
          "output_type": "stream",
          "name": "stdout",
          "text": [
            "Accuracy of the sentiment classification using Decision Trees:  0.8609283625730995\n",
            "F1 Score for sentiment classification using Decision Trees:  0.9238466926848794\n"
          ]
        }
      ]
    },
    {
      "cell_type": "markdown",
      "source": [
        "We can also check the result of the decision tree by printing it. Lets check that out too."
      ],
      "metadata": {
        "id": "rC6VQYhw19fH"
      }
    },
    {
      "cell_type": "code",
      "source": [
        "# Generating text representation\n",
        "text_representation = tree.export_text(dt)\n",
        "\n",
        "\n",
        "# Displaying the result\n",
        "print (\"The decision tree generated is: \\n\")\n",
        "print(text_representation)"
      ],
      "metadata": {
        "colab": {
          "base_uri": "https://localhost:8080/"
        },
        "id": "O0qSCvB_1XSm",
        "outputId": "7a5145fb-0144-4740-9ae7-e9b7db629808"
      },
      "execution_count": null,
      "outputs": [
        {
          "output_type": "stream",
          "name": "stdout",
          "text": [
            "The decision tree generated is: \n",
            "\n",
            "|--- feature_34317 <= 0.04\n",
            "|   |--- feature_21050 <= 0.03\n",
            "|   |   |--- feature_9708 <= 0.04\n",
            "|   |   |   |--- feature_26144 <= 0.05\n",
            "|   |   |   |   |--- feature_26147 <= 0.08\n",
            "|   |   |   |   |   |--- class: 1\n",
            "|   |   |   |   |--- feature_26147 >  0.08\n",
            "|   |   |   |   |   |--- class: 0\n",
            "|   |   |   |--- feature_26144 >  0.05\n",
            "|   |   |   |   |--- feature_16821 <= 0.03\n",
            "|   |   |   |   |   |--- class: 0\n",
            "|   |   |   |   |--- feature_16821 >  0.03\n",
            "|   |   |   |   |   |--- class: 1\n",
            "|   |   |--- feature_9708 >  0.04\n",
            "|   |   |   |--- feature_33843 <= 0.07\n",
            "|   |   |   |   |--- feature_2414 <= 0.11\n",
            "|   |   |   |   |   |--- class: 0\n",
            "|   |   |   |   |--- feature_2414 >  0.11\n",
            "|   |   |   |   |   |--- class: 1\n",
            "|   |   |   |--- feature_33843 >  0.07\n",
            "|   |   |   |   |--- feature_31219 <= 0.08\n",
            "|   |   |   |   |   |--- class: 0\n",
            "|   |   |   |   |--- feature_31219 >  0.08\n",
            "|   |   |   |   |   |--- class: 1\n",
            "|   |--- feature_21050 >  0.03\n",
            "|   |   |--- feature_18618 <= 0.02\n",
            "|   |   |   |--- feature_10776 <= 0.02\n",
            "|   |   |   |   |--- feature_14317 <= 0.04\n",
            "|   |   |   |   |   |--- class: 1\n",
            "|   |   |   |   |--- feature_14317 >  0.04\n",
            "|   |   |   |   |   |--- class: 1\n",
            "|   |   |   |--- feature_10776 >  0.02\n",
            "|   |   |   |   |--- feature_26144 <= 0.02\n",
            "|   |   |   |   |   |--- class: 1\n",
            "|   |   |   |   |--- feature_26144 >  0.02\n",
            "|   |   |   |   |   |--- class: 1\n",
            "|   |   |--- feature_18618 >  0.02\n",
            "|   |   |   |--- feature_9708 <= 0.02\n",
            "|   |   |   |   |--- feature_9710 <= 0.09\n",
            "|   |   |   |   |   |--- class: 1\n",
            "|   |   |   |   |--- feature_9710 >  0.09\n",
            "|   |   |   |   |   |--- class: 0\n",
            "|   |   |   |--- feature_9708 >  0.02\n",
            "|   |   |   |   |--- feature_24724 <= 0.05\n",
            "|   |   |   |   |   |--- class: 1\n",
            "|   |   |   |   |--- feature_24724 >  0.05\n",
            "|   |   |   |   |   |--- class: 0\n",
            "|--- feature_34317 >  0.04\n",
            "|   |--- feature_20009 <= 0.06\n",
            "|   |   |--- feature_18355 <= 0.01\n",
            "|   |   |   |--- feature_31398 <= 0.03\n",
            "|   |   |   |   |--- feature_18618 <= 0.03\n",
            "|   |   |   |   |   |--- class: 0\n",
            "|   |   |   |   |--- feature_18618 >  0.03\n",
            "|   |   |   |   |   |--- class: 1\n",
            "|   |   |   |--- feature_31398 >  0.03\n",
            "|   |   |   |   |--- feature_35399 <= 0.04\n",
            "|   |   |   |   |   |--- class: 1\n",
            "|   |   |   |   |--- feature_35399 >  0.04\n",
            "|   |   |   |   |   |--- class: 0\n",
            "|   |   |--- feature_18355 >  0.01\n",
            "|   |   |   |--- feature_34764 <= 0.03\n",
            "|   |   |   |   |--- feature_4764 <= 0.05\n",
            "|   |   |   |   |   |--- class: 1\n",
            "|   |   |   |   |--- feature_4764 >  0.05\n",
            "|   |   |   |   |   |--- class: 0\n",
            "|   |   |   |--- feature_34764 >  0.03\n",
            "|   |   |   |   |--- feature_34888 <= 0.02\n",
            "|   |   |   |   |   |--- class: 0\n",
            "|   |   |   |   |--- feature_34888 >  0.02\n",
            "|   |   |   |   |   |--- class: 1\n",
            "|   |--- feature_20009 >  0.06\n",
            "|   |   |--- feature_10776 <= 0.03\n",
            "|   |   |   |--- feature_18634 <= 0.02\n",
            "|   |   |   |   |--- feature_2295 <= 0.03\n",
            "|   |   |   |   |   |--- class: 0\n",
            "|   |   |   |   |--- feature_2295 >  0.03\n",
            "|   |   |   |   |   |--- class: 1\n",
            "|   |   |   |--- feature_18634 >  0.02\n",
            "|   |   |   |   |--- feature_20009 <= 0.08\n",
            "|   |   |   |   |   |--- class: 0\n",
            "|   |   |   |   |--- feature_20009 >  0.08\n",
            "|   |   |   |   |   |--- class: 1\n",
            "|   |   |--- feature_10776 >  0.03\n",
            "|   |   |   |--- feature_16821 <= 0.01\n",
            "|   |   |   |   |--- feature_35052 <= 0.04\n",
            "|   |   |   |   |   |--- class: 0\n",
            "|   |   |   |   |--- feature_35052 >  0.04\n",
            "|   |   |   |   |   |--- class: 1\n",
            "|   |   |   |--- feature_16821 >  0.01\n",
            "|   |   |   |   |--- feature_20063 <= 0.08\n",
            "|   |   |   |   |   |--- class: 1\n",
            "|   |   |   |   |--- feature_20063 >  0.08\n",
            "|   |   |   |   |   |--- class: 0\n",
            "\n"
          ]
        }
      ]
    },
    {
      "cell_type": "markdown",
      "source": [
        "Please change the parameter `max_depth` and check its effect on the accuracy and F score for decision trees!"
      ],
      "metadata": {
        "id": "ukks4KlZ2TtU"
      }
    },
    {
      "cell_type": "markdown",
      "source": [
        "### Ensemble Learning\n",
        "Till now we have been dealing with standalone models. However, what happens if we use multiple linear classifiers together? Therefore, instead of using a single predictor if we aggregate the predictions of a group of predictors (such as classifiers or regressors), we will often get better predictions than with the best individual predictor. A group of predictors is called an ensemble, thus, this technique is called Ensemble Learning, and an Ensemble Learning algorithm is called an Ensemble method. There are multiple types of ensemble methods that can be used. The most common method is voting.\n",
        "\n",
        "Therefore, we take a look at this technique and check its performance for our task!"
      ],
      "metadata": {
        "id": "_I9pyJOh2cq2"
      }
    },
    {
      "cell_type": "markdown",
      "source": [
        "In this technique, we first define multiple classifiers (all of them used above). We then train all of them as well as the voting scheme to check the final result. Also, since the Naive Bayes and the SVMs take dimensionally reduced input (original dimensions will cause RAM overflow), we feed dimensionally reduced inputs to all the classifiers."
      ],
      "metadata": {
        "id": "KfpXoIn0Hsdv"
      }
    },
    {
      "cell_type": "code",
      "source": [
        "# Define LogisticRegression, KNN, SVM, Naive Bayes and VotingClassifier\n",
        "log_clf = LogisticRegression()\n",
        "knn_clf = KNeighborsClassifier(n_neighbors=5)\n",
        "nb_clf = GaussianNB()\n",
        "svc_clf = svm.SVC(kernel='linear', random_state=0, gamma='auto', probability=True)\n",
        "\n",
        "# Creating list of tuples having [(name1, classifier1),...]\n",
        "classifiers = [('lr', log_clf), ('knn', knn_clf), ('svm', svc_clf), ('nb', nb_clf)]\n",
        "\n",
        "# Defining the voting classifier\n",
        "voting_clf = VotingClassifier(estimators= classifiers, voting='soft')\n",
        "\n",
        "# Training all the classifiers one by one\n",
        "# Printing the accuracy for each of them\n",
        "for clf in (log_clf, knn_clf, svc_clf, nb_clf, voting_clf):\n",
        "    clf.fit(X_train_vec_dim_reduced, y_train)\n",
        "    y_pred = clf.predict(X_test_vec_dim_reduced)\n",
        "    print(clf.__class__.__name__, \" - Accuracy: \", accuracy_score(y_test, y_pred))"
      ],
      "metadata": {
        "colab": {
          "base_uri": "https://localhost:8080/"
        },
        "id": "LpjQWjgt46BI",
        "outputId": "8987e27e-a12f-4756-9ec2-f177d99bf255"
      },
      "execution_count": null,
      "outputs": [
        {
          "output_type": "stream",
          "name": "stdout",
          "text": [
            "LogisticRegression  - Accuracy:  0.8556286549707602\n",
            "KNeighborsClassifier  - Accuracy:  0.8382675438596491\n",
            "SVC  - Accuracy:  0.8536184210526315\n",
            "GaussianNB  - Accuracy:  0.8137792397660819\n",
            "VotingClassifier  - Accuracy:  0.856359649122807\n"
          ]
        }
      ]
    },
    {
      "cell_type": "markdown",
      "source": [
        "As we can see, the accuracy of the voting classifier (ensemble of all the classifiers) is the best among all and shows some improvement! Next, we check out random forests which uses multiple decision trees in an ensemble manner."
      ],
      "metadata": {
        "id": "uF-Lx6ENHh-0"
      }
    },
    {
      "cell_type": "markdown",
      "source": [
        "### Random Forests\n",
        "\n",
        "A random forest is a collection of decision trees whose results are aggregated into one final result. Random Forest  is a supervised classification algorithm. There is a direct relationship between the number of trees in the forest and the results it can get: the larger the number of trees, the more accurate the result. But here creating the forest is not the same as constructing the decision tree with the information gain or gain index approach.\n",
        "Steps:\n",
        "1. Randomly select “k” features from total “m” features where k << m as shown in the figure below\n",
        "2. Among the “k” features, calculate the node “d” using the best split point\n",
        "3. Split the node into leaf nodes using the best split\n",
        "4. Repeat the 1 to 3 steps until “l” number of nodes has been reached.\n",
        "5. Build forest by repeating steps 1 to 4 for “n” number times to create “n” number of trees.\n",
        "6. Take the test features and use the rules of each randomly created decision tree to predict the outcome and stores the predicted outcome (target)\n",
        "7. Calculate the votes for each predicted target\n",
        "8. Consider the high voted predicted target as the final prediction from the random forest algorithm"
      ],
      "metadata": {
        "id": "K8w3yOx8JKuR"
      }
    },
    {
      "cell_type": "markdown",
      "source": [
        "We use this method to check the performance of our task too."
      ],
      "metadata": {
        "id": "rWWVBqrPKF-s"
      }
    },
    {
      "cell_type": "code",
      "source": [
        "# Defining the random forest classifier \n",
        "rf = RandomForestClassifier(n_estimators=300, max_depth=5, max_leaf_nodes=32, random_state=12)\n",
        "\n",
        "# Fitting the training data on the random forest classifier\n",
        "rf.fit(X_train_vec, y_train)\n",
        "\n",
        "# Predicting outputs on the test set\n",
        "y_pred_rf = rf.predict(X_test_vec)\n",
        "\n",
        "# Calculating scores\n",
        "f1_rf_score = f1_score(y_pred_rf, y_test)\n",
        "score_rf = accuracy_score(y_pred_rf, y_test)\n",
        "\n",
        "# Printing accuracy and F1 score for the algorithm\n",
        "print(\"Accuracy of the sentiment classification using Random Forests: \", score_rf)\n",
        "print (\"F1 score of the sentiment classification using Random Forests: \", f1_rf_score)"
      ],
      "metadata": {
        "colab": {
          "base_uri": "https://localhost:8080/"
        },
        "id": "HAi_ay7nKSFh",
        "outputId": "3636bea6-c546-4786-9edd-2fd67adcddb9"
      },
      "execution_count": null,
      "outputs": [
        {
          "output_type": "stream",
          "name": "stdout",
          "text": [
            "Accuracy of the sentiment classification using Random Forests:  0.8536184210526315\n",
            "F1 score of the sentiment classification using Random Forests:  0.9210292812777285\n"
          ]
        }
      ]
    },
    {
      "cell_type": "markdown",
      "source": [
        "The random forest function has multiple other attributes which can be tried out and the performance can be noted. The attributes will be available in https://scikit-learn.org/stable/modules/generated/sklearn.ensemble.RandomForestClassifier.html"
      ],
      "metadata": {
        "id": "DmNpuOLyL7tE"
      }
    },
    {
      "cell_type": "markdown",
      "source": [
        "Till now we have been using the labels to train all the algorithms on the training data. This comes under the paradigm of supervised learning. However, can this be done by a unsupervised manner. This means, we wont be providing labels while training certain algorithms and the algorithms are tasked to find the patterns present in the dataset by themselves. Let us delve into such clustering algorithms."
      ],
      "metadata": {
        "id": "CPfK602uMTyU"
      }
    },
    {
      "cell_type": "markdown",
      "source": [
        "### Unsupervised Learning (Clustering in our case)\n",
        "\n",
        "#### K-Means Clustering\n",
        "The K-Means algorithm searches for a pre-determined number of clusters within an unlabeled multidimensional dataset. It accomplishes this using a simple conception of what the optimal clustering looks like:\n",
        "\n",
        "The \"cluster center\" is the arithmetic mean of all the points belonging to the cluster.\n",
        "Each point is closer to its own cluster center than to other cluster centers.\n",
        "These two assumptions are the basis of the k-means model.\n",
        "\n",
        "We use the `MiniBatchKMeans` function from the `sklearn` library for this task. We don't use the normal K-Means functions to improve the speed of execution. \n",
        "\n",
        "Here the number of clusters is equal to 2 because we have 2 classes and we want the model to cluster the data into 2 clusters.\n",
        "\n"
      ],
      "metadata": {
        "id": "6PLtUrePNvfD"
      }
    },
    {
      "cell_type": "code",
      "source": [
        "# Defining the KMeans model\n",
        "kmeans = MiniBatchKMeans(n_clusters=2)\n",
        "\n",
        "# Training the model.\n",
        "# Check how we don't use labels! :)\n",
        "kmeans.fit(X_train_vec)\n",
        "\n",
        "# A helper function to help labelling the test predictions\n",
        "def label(n_clusters, real_labels, labels):\n",
        "    permutation=[]\n",
        "    for i in range(n_clusters):\n",
        "        idx = labels == i\n",
        "        new_label=scipy.stats.mode(real_labels[idx])[0][0]  # Choose the most common label among data points in the cluster\n",
        "        permutation.append(new_label)\n",
        "    return permutation\n",
        "\n",
        "# Assigning a label to each cluster\n",
        "labelled_clusters = label(2, y_train, kmeans.labels_)\n",
        "\n",
        "# Predicting outputs on the test set\n",
        "test_labels = kmeans.predict(X_test_vec)\n",
        "\n",
        "# Calculating scores\n",
        "f1_kmeans_score = f1_score([ labelled_clusters[label] for label in test_labels], y_test)\n",
        "score_kmeans = accuracy_score([ labelled_clusters[label] for label in test_labels], y_test)\n",
        "\n",
        "# Printing accuracy and F1 score for the algorithm\n",
        "print(\"Accuracy of the sentiment classification using KMeans: \", score_kmeans)\n",
        "print (\"F1 score of the sentiment classification using KMeans: \", f1_kmeans_score)"
      ],
      "metadata": {
        "colab": {
          "base_uri": "https://localhost:8080/"
        },
        "id": "nUmBvLmxOgp7",
        "outputId": "92362a5a-b5e6-444b-d513-9bd452a01a2f"
      },
      "execution_count": null,
      "outputs": [
        {
          "output_type": "stream",
          "name": "stdout",
          "text": [
            "Accuracy of the sentiment classification using KMeans:  0.8536184210526315\n",
            "F1 score of the sentiment classification using KMeans:  0.9210292812777285\n"
          ]
        }
      ]
    },
    {
      "cell_type": "markdown",
      "source": [
        "We find that even with an unsupervised learning algorithm, we are able to get a good amount of accuracy on this dataset. Please note that, this will not be the case for most of the other algorithms, but seems to work fine on our dataset."
      ],
      "metadata": {
        "id": "qf1GyBceQQs0"
      }
    },
    {
      "cell_type": "markdown",
      "source": [
        "How to plot the K-Means clusters? Let us try out another cool stuff. We use PCA to make the data 2 dimensional and then apply K-Means and check what happens."
      ],
      "metadata": {
        "id": "2iWCZ49ERACp"
      }
    },
    {
      "cell_type": "code",
      "source": [
        "# Defining the PCA model\n",
        "# We use the truncated SVD function because our TFIDF vectorizer has generated a sparse input matrix\n",
        "pca = TruncatedSVD(2)\n",
        "\n",
        "# Fitting the training data\n",
        "pca.fit(X_train_vec)\n",
        "\n",
        "# Reducing the dimensions of the training data\n",
        "X_train_vec_dim_reduced_2 = pca.transform(X_train_vec)\n",
        "\n",
        "# Reducing the dimensions of the testing data\n",
        "X_test_vec_dim_reduced_2 = pca.transform(X_test_vec)\n",
        "\n",
        "plt.scatter(X_train_vec_dim_reduced_2[:, 0], X_train_vec_dim_reduced_2[:, 1])"
      ],
      "metadata": {
        "colab": {
          "base_uri": "https://localhost:8080/",
          "height": 283
        },
        "id": "UGOE4CarRUhP",
        "outputId": "d750ca35-c6ee-4310-b087-92d78fe1e29d"
      },
      "execution_count": null,
      "outputs": [
        {
          "output_type": "execute_result",
          "data": {
            "text/plain": [
              "<matplotlib.collections.PathCollection at 0x7f6e6e6cb510>"
            ]
          },
          "metadata": {},
          "execution_count": 19
        },
        {
          "output_type": "display_data",
          "data": {
            "text/plain": [
              "<Figure size 432x288 with 1 Axes>"
            ],
            "image/png": "[encoded data removed]"
          },
          "metadata": {
            "needs_background": "light"
          }
        }
      ]
    },
    {
      "cell_type": "code",
      "source": [
        "# Defining the KMeans model\n",
        "kmeans_2 = MiniBatchKMeans(n_clusters=2)\n",
        "\n",
        "# Training the model.\n",
        "# Check how we don't use labels! :)\n",
        "kmeans_2.fit(X_train_vec_dim_reduced_2)\n",
        "\n",
        "# Plotting the clusters\n",
        "plt.scatter(X_train_vec_dim_reduced_2[:, 0], X_train_vec_dim_reduced_2[:, 1], c=kmeans_2.labels_);"
      ],
      "metadata": {
        "colab": {
          "base_uri": "https://localhost:8080/",
          "height": 265
        },
        "id": "XymsyX10RxeO",
        "outputId": "23c2023d-5833-4b90-d059-06b8d01c3b39"
      },
      "execution_count": null,
      "outputs": [
        {
          "output_type": "display_data",
          "data": {
            "text/plain": [
              "<Figure size 432x288 with 1 Axes>"
            ],
            "image/png": "[encoded data removed]"
          },
          "metadata": {
            "needs_background": "light"
          }
        }
      ]
    },
    {
      "cell_type": "markdown",
      "source": [
        "#### Gaussian Mixture Models\n",
        "\n",
        "We next check our results on another type of clustering which is very popular in the literature. The Gaussian Mixture Models. Gaussian Mixture Models (GMMs) assume that there are a certain number of Gaussian distributions, and each of these distributions represent a cluster. Hence, a Gaussian Mixture Model tends to group the data points belonging to a single distribution together. Gaussian Mixture Models are probabilistic models and use the soft clustering approach for distributing the points in different clusters. Therefore, for any given point we will check its probability of belonging to one of the $n$ gaussian distributions."
      ],
      "metadata": {
        "id": "jZsfnTE_Qgcg"
      }
    },
    {
      "cell_type": "code",
      "source": [
        "# Defining the GMM\n",
        "model_gmm = GaussianMixture(n_components=2, random_state=0)\n",
        "\n",
        "# Fitting the training data\n",
        "# X_train_vec_dim_reduced_2 has the training data\n",
        "model_gmm.fit(X_train_vec_dim_reduced_2)\n",
        "\n",
        "# Get the train and test set predictions\n",
        "gmm_labels_train = model_gmm.predict(X_train_vec_dim_reduced_2)\n",
        "gmm_labels = model_gmm.predict(X_test_vec_dim_reduced_2)\n",
        "\n",
        "# Calculating scores\n",
        "f1_gmm_score = f1_score(gmm_labels, y_test)\n",
        "score_gmm = accuracy_score(gmm_labels, y_test)\n",
        "\n",
        "# Printing accuracy and F1 score for the algorithm\n",
        "print(\"Accuracy of the sentiment classification using GMM: \", score_gmm)\n",
        "print (\"F1 score of the sentiment classification using GMM: \", f1_gmm_score)\n",
        "\n",
        "# Plotting the results\n",
        "plt.scatter(X_train_vec_dim_reduced_2[:, 0], X_train_vec_dim_reduced_2[:, 1], c=gmm_labels_train);"
      ],
      "metadata": {
        "colab": {
          "base_uri": "https://localhost:8080/",
          "height": 300
        },
        "id": "q8gwwJYfTwXi",
        "outputId": "b2cf6fba-1f05-4c08-ff87-2bfd5b04f1d8"
      },
      "execution_count": null,
      "outputs": [
        {
          "output_type": "stream",
          "name": "stdout",
          "text": [
            "Accuracy of the sentiment classification using GMM:  0.48410087719298245\n",
            "F1 score of the sentiment classification using GMM:  0.6093814860938148\n"
          ]
        },
        {
          "output_type": "display_data",
          "data": {
            "text/plain": [
              "<Figure size 432x288 with 1 Axes>"
            ],
            "image/png": "[encoded data removed]"
          },
          "metadata": {
            "needs_background": "light"
          }
        }
      ]
    },
    {
      "cell_type": "markdown",
      "source": [
        "## Visualizing some results\n",
        "\n",
        "We have trained both supervised and unsupervised classification algorithms till now. Let us now check out some sentences and their corresponding predictions. We pick the predictions randomly from the logistic regression algorithm and show here. You can change variable names and check predictions from other algorithms."
      ],
      "metadata": {
        "id": "xDmyTIijV0I3"
      }
    },
    {
      "cell_type": "code",
      "source": [
        "def label2text(label):\n",
        "  if label == 1:\n",
        "    return \"POSITIVE EMOTION\"\n",
        "  else:\n",
        "    return \"NEGATIVE EMOTION\"\n",
        "\n",
        "def get_index(random_key, all_keys):\n",
        "  for i, one_key in enumerate(all_keys):\n",
        "    if one_key == random_key:\n",
        "      return i"
      ],
      "metadata": {
        "id": "n5FVs0qQaVRB"
      },
      "execution_count": null,
      "outputs": []
    },
    {
      "cell_type": "code",
      "source": [
        "# We already have stored the predictions (labels) previously.\n",
        "# y_pred_lr has the predictions from logistic regression. \n",
        "# Try other y_pred_.. for outputs from other algorithms\n",
        "\n",
        "# Select random index\n",
        "random_key = random.choice(X_test.keys())\n",
        "\n",
        "# Printing the sentence\n",
        "print (\"Sentence\")\n",
        "print (\"----------------------------------------------\")\n",
        "print (X_test[random_key])\n",
        "print (\"----------------------------------------------\")\n",
        "print (\"\\n\\n\")\n",
        "\n",
        "# Printing the ground-truth label\n",
        "print (\"Ground-truth Label\")\n",
        "print (\"----------------------------------------------\")\n",
        "print (label2text(y_test[random_key]))\n",
        "print (\"----------------------------------------------\")\n",
        "print (\"\\n\\n\")\n",
        "\n",
        "\n",
        "# Printing the predicted label\n",
        "# You need to change this part of the code to get the rest of the classifier results\n",
        "# Change y_pred_lr to other y_preds here\n",
        "print (\"Predicted Label\")\n",
        "print (\"----------------------------------------------\")\n",
        "\n",
        "random_idx = get_index(random_key, X_test.keys())\n",
        "print (label2text(y_pred_lr[random_idx]))\n",
        "print (\"----------------------------------------------\")\n",
        "print (\"\\n\\n\")"
      ],
      "metadata": {
        "colab": {
          "base_uri": "https://localhost:8080/"
        },
        "id": "AWgZQ6agXmEs",
        "outputId": "6684757f-41c0-437a-ad7d-9d4066005674"
      },
      "execution_count": null,
      "outputs": [
        {
          "output_type": "stream",
          "name": "stdout",
          "text": [
            "Sentence\n",
            "----------------------------------------------\n",
            "This product arrived as described and very quickly. It is exactly what I needed to design my dons playroom. The squares are a nice large size to cover the area. Found a better price in the stores however.\n",
            "----------------------------------------------\n",
            "\n",
            "\n",
            "\n",
            "Ground-truth Label\n",
            "----------------------------------------------\n",
            "POSITIVE EMOTION\n",
            "----------------------------------------------\n",
            "\n",
            "\n",
            "\n",
            "Predicted Label\n",
            "----------------------------------------------\n",
            "POSITIVE EMOTION\n",
            "----------------------------------------------\n",
            "\n",
            "\n",
            "\n"
          ]
        }
      ]
    },
    {
      "cell_type": "markdown",
      "source": [
        "## Input your own sentences and check results!\n",
        "\n",
        "We can even enter and input our own sentences. Please keep the sentences to be imaginary reviews. Since the model has only seen amazon reviews, it will be otherwise harder to predict anything. The sentences must first be vectorized using the TFIDF vectorizer followed by passing through any of the trained models. Again, we only show results from the Logistic Regression network. Please remember that SVM and Naive Bayes uses PCA first to dimensionally reduce the data. This means that we need to do the same steps incase we want to get outputs from those models. \n",
        "\n"
      ],
      "metadata": {
        "id": "dlLzH_mNcfuK"
      }
    },
    {
      "cell_type": "code",
      "source": [
        "# Inputting the review into the code\n",
        "# We use user input in the form of the library function called \"input\"\n",
        "input_review = input(\"Enter your review in the text box and hit ENTER: \")\n",
        "\n",
        "# Printing the review for reference\n",
        "print (\"Your review: \", input_review)\n",
        "\n",
        "# Using TFIDF vectorizer for the text\n",
        "X_test_user = vectorizer.transform([input_review])\n",
        "\n",
        "# Predicting the output from the logistic regression system\n",
        "user_pred_lr = logistic_regression.predict(X_test_user)\n",
        "\n",
        "# Printing the result\n",
        "print (label2text(user_pred_lr))\n",
        "\n",
        "\n",
        "\n",
        "\n"
      ],
      "metadata": {
        "colab": {
          "base_uri": "https://localhost:8080/"
        },
        "id": "fykBPaqbdSoj",
        "outputId": "ea408cc1-a7aa-4c32-cfc8-96d2d07e604a"
      },
      "execution_count": null,
      "outputs": [
        {
          "output_type": "stream",
          "name": "stdout",
          "text": [
            "Enter your review in the text box and hit ENTER: Movie is awesome and interesting\n",
            "Your review:  Movie is awesome and interesting\n",
            "POSITIVE EMOTION\n"
          ]
        }
      ]
    },
    {
      "cell_type": "markdown",
      "source": [
        "## Report the findings\n",
        "\n",
        "Report the outputs you get from different reviews and in the different classifiers?"
      ],
      "metadata": {
        "id": "48Zj4CO7fLE8"
      }
    }
  ]
}