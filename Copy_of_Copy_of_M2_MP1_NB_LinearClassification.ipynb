{
  "nbformat": 4,
  "nbformat_minor": 0,
  "metadata": {
    "colab": {
      "name": "Copy of Copy of M2_MP1_NB_LinearClassification.ipynb",
      "provenance": [],
      "collapsed_sections": [],
      "include_colab_link": true
    },
    "kernelspec": {
      "name": "python3",
      "display_name": "Python 3"
    },
    "language_info": {
      "name": "python"
    },
    "accelerator": "GPU"
  },
  "cells": [
    {
      "cell_type": "markdown",
      "metadata": {
        "id": "view-in-github",
        "colab_type": "text"
      },
      "source": [
        "<a href=\"https://colab.research.google.com/github/JainAnki/ADSMI-Notebooks/blob/main/Copy_of_Copy_of_M2_MP1_NB_LinearClassification.ipynb\" target=\"_parent\"><img src=\"https://colab.research.google.com/assets/colab-badge.svg\" alt=\"Open In Colab\"/></a>"
      ]
    },
    {
      "cell_type": "markdown",
      "metadata": {
        "id": "powered-thong"
      },
      "source": [
        "# Applied Data Science and Machine Intelligence\n",
        "## A program by IIT Madras and TalentSprint\n",
        "### Module 2 Mini Project: Sentiment Analysis using linear classifiers and unsupervised clustering."
      ]
    },
    {
      "cell_type": "markdown",
      "metadata": {
        "id": "1nK0fzdQzk0g"
      },
      "source": [
        "## Learning Objectives\n",
        "\n",
        "At the end of the mini project, you will be able to -\n",
        "\n",
        "* use a real world dataset.\n",
        "* undertake several important steps like cleaning the data and normalizing the data points.\n",
        "* do sentiment classification.\n",
        "* compare between different types of classification methods and their pros and cons. \n",
        "* compare between supervised and unsupervised (clustering) techniques. "
      ]
    },
    {
      "cell_type": "markdown",
      "source": [
        "### Goal of the project\n",
        "The goal of this project is to train linear classification models that can recognize the sentiment of the reviewer. In this project we will be dealing with only positive and negative sentiments (binary classification).\n",
        "\n",
        "**Disclaimer**: \n",
        "There are multiple ways to solve this problem, as there is no unique formula to solve.\n",
        "This is just one such approach.\n"
      ],
      "metadata": {
        "id": "FvhRny6xpviu"
      }
    },
    {
      "cell_type": "markdown",
      "metadata": {
        "id": "hungry-accident"
      },
      "source": [
        "**Packages used:**  \n",
        "* `Pandas` for data frames and easy to read csv files  \n",
        "* `Numpy` for array and matrix mathematics functions  \n",
        "* `Matplotlib` and `Seaborn` for visualization\n",
        "*  `sklearn` for the metrics and pre-processing\n",
        "* `scipy` for helper functions required at various stages of the project.\n",
        "* `warnings` is used to supress warnings from different libraries used in the project."
      ]
    },
    {
      "cell_type": "markdown",
      "metadata": {
        "id": "u-g3SLm-DLEW"
      },
      "source": [
        "### Importing the packages"
      ]
    },
    {
      "cell_type": "code",
      "metadata": {
        "id": "e_V0z4eaDILg"
      },
      "source": [
        "# Importing standard libraries\n",
        "import numpy as np\n",
        "import matplotlib.pyplot as plt\n",
        "import matplotlib.cm as cm\n",
        "import seaborn as sns\n",
        "import pandas as pd\n",
        "import scipy\n",
        "import math\n",
        "import random\n",
        "\n",
        "# Importing linear classification algorithms\n",
        "from sklearn.neighbors import KNeighborsClassifier\n",
        "from sklearn import svm\n",
        "from sklearn.linear_model import LogisticRegression\n",
        "from sklearn.discriminant_analysis import LinearDiscriminantAnalysis       \n",
        "from sklearn.tree import DecisionTreeClassifier       \n",
        "from sklearn.naive_bayes import GaussianNB\n",
        "from sklearn import tree\n",
        "from sklearn.ensemble import VotingClassifier, RandomForestClassifier\n",
        "\n",
        "# Importing the clustering algorithms\n",
        "from sklearn.cluster import MiniBatchKMeans\n",
        "from sklearn.cluster import AgglomerativeClustering\n",
        "from sklearn.mixture import GaussianMixture\n",
        "\n",
        "# Importing preprocessing functions\n",
        "from sklearn.preprocessing import MinMaxScaler\n",
        "from sklearn.preprocessing import StandardScaler\n",
        "from sklearn.model_selection import train_test_split\n",
        "from sklearn.feature_extraction.text import TfidfVectorizer\n",
        "from sklearn.decomposition import PCA\n",
        "from sklearn.decomposition import TruncatedSVD\n",
        "\n",
        "# Importing metrics\n",
        "from sklearn.metrics import accuracy_score\n",
        "from sklearn.metrics import f1_score\n",
        "\n",
        "# Suppressing warnings\n",
        "import warnings\n",
        "warnings.filterwarnings('ignore')"
      ],
      "execution_count": null,
      "outputs": []
    },
    {
      "cell_type": "markdown",
      "metadata": {
        "id": "0L9eRrC6ABcy"
      },
      "source": [
        "### Downloading a dataset containing amazon review information along with ratings\n",
        "To download the data, we will use **`!gdown`**. \n"
      ]
    },
    {
      "cell_type": "code",
      "metadata": {
        "id": "GWP8wZ-2ABcy",
        "colab": {
          "base_uri": "https://localhost:8080/"
        },
        "outputId": "8ac60366-11b4-4f5c-a1e0-bf86f564288f"
      },
      "source": [
        "# Downloading the dataset from the Google Drive link.\n",
        "!gdown https://drive.google.com/uc?id=1kd0RZvI4ur2ehkv4zAriXg6g2W1Mh3xO"
      ],
      "execution_count": null,
      "outputs": [
        {
          "output_type": "stream",
          "name": "stdout",
          "text": [
            "Downloading...\n",
            "From: https://drive.google.com/uc?id=1kd0RZvI4ur2ehkv4zAriXg6g2W1Mh3xO\n",
            "To: /content/amazon_baby.csv\n",
            "\r  0% 0.00/88.8M [00:00<?, ?B/s]\r  8% 7.34M/88.8M [00:00<00:01, 71.9MB/s]\r 37% 32.5M/88.8M [00:00<00:00, 175MB/s] \r 69% 61.3M/88.8M [00:00<00:00, 226MB/s]\r100% 88.8M/88.8M [00:00<00:00, 228MB/s]\n"
          ]
        }
      ]
    },
    {
      "cell_type": "markdown",
      "metadata": {
        "id": "9padyuWLABc0"
      },
      "source": [
        "## How does the dataset look like?\n",
        "Lets use a standard dataset from Amazon which contains reviews and ratings from the customer. The original dataset has three features: name(name of the products), review(Customer reviews of the products), and rating(rating of the customer of a product ranging from 1 to 5). The review column will be the input column and the rating column will be used to understand the sentiments of the review. Here are some important data preprocessing steps:\n",
        "The dataset has about 183,500 rows of data. There are 1147 null values which will be removed.\n",
        "As the dataset is pretty big, it takes a lot of time to run some machine learning algorithms. We will use 30% of the data in this project which is still 54,000+ data points! The sample will be representative of the whole dataset.\n",
        "If the rating is 1 and 2 that will be considered a negative review. And if the review is 3, 4, and 5, the review will be considered as a  positive review. We add a new column named ‘sentiments’ to the dataset that will use 1 for the positive reviews and 0 for the negative reviews. We read and display the contents of the dataset down below."
      ]
    },
    {
      "cell_type": "markdown",
      "source": [
        "**Exercise 1**: Load the data and perform the following (1 points)\n",
        "- Exploratory Data Analysis \n",
        "- Preprocessing \n",
        "\n",
        "\n",
        "**Hints:** \n",
        "\n",
        "- checking for the number of rows and columns\n",
        "- summary of the dataset\n",
        "- statistical description of the features \n",
        "- check for the duplicate values\n",
        "- Show the top 5 and the last 5 rows of the data\n",
        "- check for the null values, and handle them if *any*"
      ],
      "metadata": {
        "id": "o2tXX5YAqcqX"
      }
    },
    {
      "cell_type": "markdown",
      "source": [
        "For Exercises, 2 to 9, use sklearn library to model, fir, train and see the metrics [Accuracy and F1_score]. Writing your own custom functions is  not required.\n",
        "\n",
        "\n",
        "1.   **Exercise 1**: Load the data and perform the following : (1 point)\n",
        "      - Exploratory Data Analysis \n",
        "      - Preprocessing \n",
        "2.   **Exercise 2**: **Implementation using K-Nearest Neighbor (KNN) Classifier**:  (1 point)\n",
        "\n",
        "3.   **Exercise 3**: **Implementation using Support Vector Machines (SVM) Classifier**:  (3 points)\n",
        "      - First Reduce the features using PCA\n",
        "      - use Hard-Margin Classifier\n",
        "      - use Soft-Margin Classifier\n",
        "      - use Kernel SVM Classifier\n",
        "4.   **Exercise 4**: **Implementation using Decision Trees**:  (1 point)\n",
        "5.   **Exercise 5**: **Implementation using Ensemble Classifier**:  (1 point) \n",
        "      - use LogisticRegression, KNN, SVM, and VotingClassifier as the weak classifiers\n",
        "\n",
        "6.   **Exercise 6**: **Implementation using Random Forest Classifier**:  (1 point)\n",
        "7.   **Exercise 7**: **Implementation using Clustering**: (1 point)\n",
        "      - k Means Clustering\n",
        "      - Gaussian Mixture Models\n",
        "8.   **Exercise 8**: **Test your own sentence**: (1 point)\n",
        "      - Input your sentences ( One for positive and negative each)\n",
        "      - Print the output sentiment."
      ],
      "metadata": {
        "id": "s7F0lQeoxJa3"
      }
    },
    {
      "cell_type": "markdown",
      "source": [
        "**Sample code using Logistic Regression**\n",
        "\n",
        "The logistic function, more popularly called the sigmoid function was to describe properties of population growth in ecology, rising quickly and maxing out at the carrying capacity of the environment. \n",
        "\n",
        "It’s an S-shaped curve that can take any real-valued number and map it into a value between 0 and 1, but never exactly at those limits.\n",
        "\n",
        "$\\frac{1}{ (1 + e^{-value})}$\n",
        "\n",
        "Where $e$ is the base of the natural logarithms and value is the actual numerical value that you want to transform. Below is a plot of the numbers between $-5$ and $5$ transformed into the range $0$ and $1$ using the logistic function.\n",
        "\n"
      ],
      "metadata": {
        "id": "k7Raxweqx6UL"
      }
    },
    {
      "cell_type": "code",
      "source": [
        "# Logistic regression model is defined\n",
        "logistic_regression = LogisticRegression()\n",
        "\n",
        "# Training the logistic regression classifier\n",
        "logistic_regression.fit(X_train_vec, y_train)\n",
        "\n",
        "# Calculating accuracy on the logistic regression classifier\n",
        "# The accuracy is within 0 and 1 in this snippet\n",
        "lr_score = logistic_regression.score(X_test_vec, y_test)\n",
        "print(\"Accuracy of the sentiment classification using the Logistic Regression based classifier: \", lr_score)\n",
        "\n",
        "# Predicting on the test set\n",
        "y_pred_lr = logistic_regression.predict(X_test_vec)\n",
        "\n",
        "# F1 score calculation\n",
        "lr_f1_score = f1_score(y_pred_lr, y_test)\n",
        "\n",
        "print (\"F1 Score for sentiment classification using the Logistic Regression based classifier: \", lr_f1_score)"
      ],
      "metadata": {
        "id": "uoH7Z9uiwbbd",
        "outputId": "049c57ab-2994-48d4-f4de-1123eefbd185",
        "colab": {
          "base_uri": "https://localhost:8080/",
          "height": 245
        },
        "collapsed": true
      },
      "execution_count": null,
      "outputs": [
        {
          "output_type": "error",
          "ename": "NameError",
          "evalue": "ignored",
          "traceback": [
            "\u001b[0;31m---------------------------------------------------------------------------\u001b[0m",
            "\u001b[0;31mNameError\u001b[0m                                 Traceback (most recent call last)",
            "\u001b[0;32m<ipython-input-4-fc887091dcc2>\u001b[0m in \u001b[0;36m<module>\u001b[0;34m()\u001b[0m\n\u001b[1;32m      3\u001b[0m \u001b[0;34m\u001b[0m\u001b[0m\n\u001b[1;32m      4\u001b[0m \u001b[0;31m# Training the logistic regression classifier\u001b[0m\u001b[0;34m\u001b[0m\u001b[0;34m\u001b[0m\u001b[0;34m\u001b[0m\u001b[0m\n\u001b[0;32m----> 5\u001b[0;31m \u001b[0mlogistic_regression\u001b[0m\u001b[0;34m.\u001b[0m\u001b[0mfit\u001b[0m\u001b[0;34m(\u001b[0m\u001b[0mX_train_vec\u001b[0m\u001b[0;34m,\u001b[0m \u001b[0my_train\u001b[0m\u001b[0;34m)\u001b[0m\u001b[0;34m\u001b[0m\u001b[0;34m\u001b[0m\u001b[0m\n\u001b[0m\u001b[1;32m      6\u001b[0m \u001b[0;34m\u001b[0m\u001b[0m\n\u001b[1;32m      7\u001b[0m \u001b[0;31m# Calculating accuracy on the logistic regression classifier\u001b[0m\u001b[0;34m\u001b[0m\u001b[0;34m\u001b[0m\u001b[0;34m\u001b[0m\u001b[0m\n",
            "\u001b[0;31mNameError\u001b[0m: name 'X_train_vec' is not defined"
          ]
        }
      ]
    },
    {
      "cell_type": "markdown",
      "source": [
        "**Exercise 1**: Load the data and perform the following: (1 point)\n",
        "\n",
        "- Exploratory Data Analysis (Use Pandas, Seaborn)\n",
        "- Preprocessing (Use Pandas)\n",
        "\n",
        "**Hints:** \n",
        "\n",
        "- checking for the number of rows and columns\n",
        "- summary of the dataset\n",
        "- statistical description of the features \n",
        "- check for the duplicate values\n",
        "- Show the top 5 and the last 5 rows of the data\n",
        "- check for the null values, and handle them if *any*"
      ],
      "metadata": {
        "id": "pOMTJSEH3_JY"
      }
    },
    {
      "cell_type": "code",
      "source": [
        "# YOUR CODE HERE\n",
        "review_data = pd.read_csv('amazon_baby.csv')\n",
        "review_data"
      ],
      "metadata": {
        "colab": {
          "base_uri": "https://localhost:8080/",
          "height": 423
        },
        "id": "J97s1tIX-DNN",
        "outputId": "29a23c6f-e0b3-4d29-a01b-a39ed14c931f"
      },
      "execution_count": null,
      "outputs": [
        {
          "output_type": "execute_result",
          "data": {
            "text/plain": [
              "                                                     name  \\\n",
              "0                                Planetwise Flannel Wipes   \n",
              "1                                   Planetwise Wipe Pouch   \n",
              "2                     Annas Dream Full Quilt with 2 Shams   \n",
              "3       Stop Pacifier Sucking without tears with Thumb...   \n",
              "4       Stop Pacifier Sucking without tears with Thumb...   \n",
              "...                                                   ...   \n",
              "183526  Baby Teething Necklace for Mom Pretty Donut Sh...   \n",
              "183527  Baby Teething Necklace for Mom Pretty Donut Sh...   \n",
              "183528   Abstract 2 PK Baby / Toddler Training Cup (Pink)   \n",
              "183529  Baby Food Freezer Tray - Bacteria Resistant, B...   \n",
              "183530  Best 2 Pack Baby Car Shade for Kids - Window S...   \n",
              "\n",
              "                                                   review  rating  \n",
              "0       These flannel wipes are OK, but in my opinion ...       3  \n",
              "1       it came early and was not disappointed. i love...       5  \n",
              "2       Very soft and comfortable and warmer than it l...       5  \n",
              "3       This is a product well worth the purchase.  I ...       5  \n",
              "4       All of my kids have cried non-stop when I trie...       5  \n",
              "...                                                   ...     ...  \n",
              "183526  Such a great idea! very handy to have and look...       5  \n",
              "183527  This product rocks!  It is a great blend of fu...       5  \n",
              "183528  This item looks great and cool for my kids.......       5  \n",
              "183529  I am extremely happy with this product. I have...       5  \n",
              "183530  I love this product very mush . I have bought ...       5  \n",
              "\n",
              "[183531 rows x 3 columns]"
            ],
            "text/html": [
              "\n",
              "  <div id=\"df-807b4a4e-7767-45f6-a5cf-8b72b08b9625\">\n",
              "    <div class=\"colab-df-container\">\n",
              "      <div>\n",
              "<style scoped>\n",
              "    .dataframe tbody tr th:only-of-type {\n",
              "        vertical-align: middle;\n",
              "    }\n",
              "\n",
              "    .dataframe tbody tr th {\n",
              "        vertical-align: top;\n",
              "    }\n",
              "\n",
              "    .dataframe thead th {\n",
              "        text-align: right;\n",
              "    }\n",
              "</style>\n",
              "<table border=\"1\" class=\"dataframe\">\n",
              "  <thead>\n",
              "    <tr style=\"text-align: right;\">\n",
              "      <th></th>\n",
              "      <th>name</th>\n",
              "      <th>review</th>\n",
              "      <th>rating</th>\n",
              "    </tr>\n",
              "  </thead>\n",
              "  <tbody>\n",
              "    <tr>\n",
              "      <th>0</th>\n",
              "      <td>Planetwise Flannel Wipes</td>\n",
              "      <td>These flannel wipes are OK, but in my opinion ...</td>\n",
              "      <td>3</td>\n",
              "    </tr>\n",
              "    <tr>\n",
              "      <th>1</th>\n",
              "      <td>Planetwise Wipe Pouch</td>\n",
              "      <td>it came early and was not disappointed. i love...</td>\n",
              "      <td>5</td>\n",
              "    </tr>\n",
              "    <tr>\n",
              "      <th>2</th>\n",
              "      <td>Annas Dream Full Quilt with 2 Shams</td>\n",
              "      <td>Very soft and comfortable and warmer than it l...</td>\n",
              "      <td>5</td>\n",
              "    </tr>\n",
              "    <tr>\n",
              "      <th>3</th>\n",
              "      <td>Stop Pacifier Sucking without tears with Thumb...</td>\n",
              "      <td>This is a product well worth the purchase.  I ...</td>\n",
              "      <td>5</td>\n",
              "    </tr>\n",
              "    <tr>\n",
              "      <th>4</th>\n",
              "      <td>Stop Pacifier Sucking without tears with Thumb...</td>\n",
              "      <td>All of my kids have cried non-stop when I trie...</td>\n",
              "      <td>5</td>\n",
              "    </tr>\n",
              "    <tr>\n",
              "      <th>...</th>\n",
              "      <td>...</td>\n",
              "      <td>...</td>\n",
              "      <td>...</td>\n",
              "    </tr>\n",
              "    <tr>\n",
              "      <th>183526</th>\n",
              "      <td>Baby Teething Necklace for Mom Pretty Donut Sh...</td>\n",
              "      <td>Such a great idea! very handy to have and look...</td>\n",
              "      <td>5</td>\n",
              "    </tr>\n",
              "    <tr>\n",
              "      <th>183527</th>\n",
              "      <td>Baby Teething Necklace for Mom Pretty Donut Sh...</td>\n",
              "      <td>This product rocks!  It is a great blend of fu...</td>\n",
              "      <td>5</td>\n",
              "    </tr>\n",
              "    <tr>\n",
              "      <th>183528</th>\n",
              "      <td>Abstract 2 PK Baby / Toddler Training Cup (Pink)</td>\n",
              "      <td>This item looks great and cool for my kids.......</td>\n",
              "      <td>5</td>\n",
              "    </tr>\n",
              "    <tr>\n",
              "      <th>183529</th>\n",
              "      <td>Baby Food Freezer Tray - Bacteria Resistant, B...</td>\n",
              "      <td>I am extremely happy with this product. I have...</td>\n",
              "      <td>5</td>\n",
              "    </tr>\n",
              "    <tr>\n",
              "      <th>183530</th>\n",
              "      <td>Best 2 Pack Baby Car Shade for Kids - Window S...</td>\n",
              "      <td>I love this product very mush . I have bought ...</td>\n",
              "      <td>5</td>\n",
              "    </tr>\n",
              "  </tbody>\n",
              "</table>\n",
              "<p>183531 rows × 3 columns</p>\n",
              "</div>\n",
              "      <button class=\"colab-df-convert\" onclick=\"convertToInteractive('df-807b4a4e-7767-45f6-a5cf-8b72b08b9625')\"\n",
              "              title=\"Convert this dataframe to an interactive table.\"\n",
              "              style=\"display:none;\">\n",
              "        \n",
              "  <svg xmlns=\"http://www.w3.org/2000/svg\" height=\"24px\"viewBox=\"0 0 24 24\"\n",
              "       width=\"24px\">\n",
              "    <path d=\"M0 0h24v24H0V0z\" fill=\"none\"/>\n",
              "    <path d=\"M18.56 5.44l.94 2.06.94-2.06 2.06-.94-2.06-.94-.94-2.06-.94 2.06-2.06.94zm-11 1L8.5 8.5l.94-2.06 2.06-.94-2.06-.94L8.5 2.5l-.94 2.06-2.06.94zm10 10l.94 2.06.94-2.06 2.06-.94-2.06-.94-.94-2.06-.94 2.06-2.06.94z\"/><path d=\"M17.41 7.96l-1.37-1.37c-.4-.4-.92-.59-1.43-.59-.52 0-1.04.2-1.43.59L10.3 9.45l-7.72 7.72c-.78.78-.78 2.05 0 2.83L4 21.41c.39.39.9.59 1.41.59.51 0 1.02-.2 1.41-.59l7.78-7.78 2.81-2.81c.8-.78.8-2.07 0-2.86zM5.41 20L4 18.59l7.72-7.72 1.47 1.35L5.41 20z\"/>\n",
              "  </svg>\n",
              "      </button>\n",
              "      \n",
              "  <style>\n",
              "    .colab-df-container {\n",
              "      display:flex;\n",
              "      flex-wrap:wrap;\n",
              "      gap: 12px;\n",
              "    }\n",
              "\n",
              "    .colab-df-convert {\n",
              "      background-color: #E8F0FE;\n",
              "      border: none;\n",
              "      border-radius: 50%;\n",
              "      cursor: pointer;\n",
              "      display: none;\n",
              "      fill: #1967D2;\n",
              "      height: 32px;\n",
              "      padding: 0 0 0 0;\n",
              "      width: 32px;\n",
              "    }\n",
              "\n",
              "    .colab-df-convert:hover {\n",
              "      background-color: #E2EBFA;\n",
              "      box-shadow: 0px 1px 2px rgba(60, 64, 67, 0.3), 0px 1px 3px 1px rgba(60, 64, 67, 0.15);\n",
              "      fill: #174EA6;\n",
              "    }\n",
              "\n",
              "    [theme=dark] .colab-df-convert {\n",
              "      background-color: #3B4455;\n",
              "      fill: #D2E3FC;\n",
              "    }\n",
              "\n",
              "    [theme=dark] .colab-df-convert:hover {\n",
              "      background-color: #434B5C;\n",
              "      box-shadow: 0px 1px 3px 1px rgba(0, 0, 0, 0.15);\n",
              "      filter: drop-shadow(0px 1px 2px rgba(0, 0, 0, 0.3));\n",
              "      fill: #FFFFFF;\n",
              "    }\n",
              "  </style>\n",
              "\n",
              "      <script>\n",
              "        const buttonEl =\n",
              "          document.querySelector('#df-807b4a4e-7767-45f6-a5cf-8b72b08b9625 button.colab-df-convert');\n",
              "        buttonEl.style.display =\n",
              "          google.colab.kernel.accessAllowed ? 'block' : 'none';\n",
              "\n",
              "        async function convertToInteractive(key) {\n",
              "          const element = document.querySelector('#df-807b4a4e-7767-45f6-a5cf-8b72b08b9625');\n",
              "          const dataTable =\n",
              "            await google.colab.kernel.invokeFunction('convertToInteractive',\n",
              "                                                     [key], {});\n",
              "          if (!dataTable) return;\n",
              "\n",
              "          const docLinkHtml = 'Like what you see? Visit the ' +\n",
              "            '<a target=\"_blank\" href=https://colab.research.google.com/notebooks/data_table.ipynb>data table notebook</a>'\n",
              "            + ' to learn more about interactive tables.';\n",
              "          element.innerHTML = '';\n",
              "          dataTable['output_type'] = 'display_data';\n",
              "          await google.colab.output.renderOutput(dataTable, element);\n",
              "          const docLink = document.createElement('div');\n",
              "          docLink.innerHTML = docLinkHtml;\n",
              "          element.appendChild(docLink);\n",
              "        }\n",
              "      </script>\n",
              "    </div>\n",
              "  </div>\n",
              "  "
            ]
          },
          "metadata": {},
          "execution_count": 86
        }
      ]
    },
    {
      "cell_type": "code",
      "source": [
        "review_data.shape #checking for the number of rows and columns"
      ],
      "metadata": {
        "colab": {
          "base_uri": "https://localhost:8080/"
        },
        "id": "UTNcjbvL9thh",
        "outputId": "b845c385-6b94-4487-fa0b-0d2df9800bee"
      },
      "execution_count": null,
      "outputs": [
        {
          "output_type": "execute_result",
          "data": {
            "text/plain": [
              "(183531, 3)"
            ]
          },
          "metadata": {},
          "execution_count": 87
        }
      ]
    },
    {
      "cell_type": "code",
      "source": [
        "review_data.info() #summary of the dataset"
      ],
      "metadata": {
        "colab": {
          "base_uri": "https://localhost:8080/"
        },
        "id": "Jb__-pra9tex",
        "outputId": "1b7ef3a6-f814-491d-8865-1d8ea7fab4ec"
      },
      "execution_count": null,
      "outputs": [
        {
          "output_type": "stream",
          "name": "stdout",
          "text": [
            "<class 'pandas.core.frame.DataFrame'>\n",
            "RangeIndex: 183531 entries, 0 to 183530\n",
            "Data columns (total 3 columns):\n",
            " #   Column  Non-Null Count   Dtype \n",
            "---  ------  --------------   ----- \n",
            " 0   name    183213 non-null  object\n",
            " 1   review  182702 non-null  object\n",
            " 2   rating  183531 non-null  int64 \n",
            "dtypes: int64(1), object(2)\n",
            "memory usage: 4.2+ MB\n"
          ]
        }
      ]
    },
    {
      "cell_type": "code",
      "source": [
        "review_data.describe() #statistical description of the features"
      ],
      "metadata": {
        "colab": {
          "base_uri": "https://localhost:8080/",
          "height": 300
        },
        "id": "5B509d5l9tb5",
        "outputId": "dc4e93b2-6668-4bfc-8274-28d821eab37a"
      },
      "execution_count": null,
      "outputs": [
        {
          "output_type": "execute_result",
          "data": {
            "text/plain": [
              "              rating\n",
              "count  183531.000000\n",
              "mean        4.120448\n",
              "std         1.285017\n",
              "min         1.000000\n",
              "25%         4.000000\n",
              "50%         5.000000\n",
              "75%         5.000000\n",
              "max         5.000000"
            ],
            "text/html": [
              "\n",
              "  <div id=\"df-3d5ad92a-5908-4b11-b0ff-5a4699709964\">\n",
              "    <div class=\"colab-df-container\">\n",
              "      <div>\n",
              "<style scoped>\n",
              "    .dataframe tbody tr th:only-of-type {\n",
              "        vertical-align: middle;\n",
              "    }\n",
              "\n",
              "    .dataframe tbody tr th {\n",
              "        vertical-align: top;\n",
              "    }\n",
              "\n",
              "    .dataframe thead th {\n",
              "        text-align: right;\n",
              "    }\n",
              "</style>\n",
              "<table border=\"1\" class=\"dataframe\">\n",
              "  <thead>\n",
              "    <tr style=\"text-align: right;\">\n",
              "      <th></th>\n",
              "      <th>rating</th>\n",
              "    </tr>\n",
              "  </thead>\n",
              "  <tbody>\n",
              "    <tr>\n",
              "      <th>count</th>\n",
              "      <td>183531.000000</td>\n",
              "    </tr>\n",
              "    <tr>\n",
              "      <th>mean</th>\n",
              "      <td>4.120448</td>\n",
              "    </tr>\n",
              "    <tr>\n",
              "      <th>std</th>\n",
              "      <td>1.285017</td>\n",
              "    </tr>\n",
              "    <tr>\n",
              "      <th>min</th>\n",
              "      <td>1.000000</td>\n",
              "    </tr>\n",
              "    <tr>\n",
              "      <th>25%</th>\n",
              "      <td>4.000000</td>\n",
              "    </tr>\n",
              "    <tr>\n",
              "      <th>50%</th>\n",
              "      <td>5.000000</td>\n",
              "    </tr>\n",
              "    <tr>\n",
              "      <th>75%</th>\n",
              "      <td>5.000000</td>\n",
              "    </tr>\n",
              "    <tr>\n",
              "      <th>max</th>\n",
              "      <td>5.000000</td>\n",
              "    </tr>\n",
              "  </tbody>\n",
              "</table>\n",
              "</div>\n",
              "      <button class=\"colab-df-convert\" onclick=\"convertToInteractive('df-3d5ad92a-5908-4b11-b0ff-5a4699709964')\"\n",
              "              title=\"Convert this dataframe to an interactive table.\"\n",
              "              style=\"display:none;\">\n",
              "        \n",
              "  <svg xmlns=\"http://www.w3.org/2000/svg\" height=\"24px\"viewBox=\"0 0 24 24\"\n",
              "       width=\"24px\">\n",
              "    <path d=\"M0 0h24v24H0V0z\" fill=\"none\"/>\n",
              "    <path d=\"M18.56 5.44l.94 2.06.94-2.06 2.06-.94-2.06-.94-.94-2.06-.94 2.06-2.06.94zm-11 1L8.5 8.5l.94-2.06 2.06-.94-2.06-.94L8.5 2.5l-.94 2.06-2.06.94zm10 10l.94 2.06.94-2.06 2.06-.94-2.06-.94-.94-2.06-.94 2.06-2.06.94z\"/><path d=\"M17.41 7.96l-1.37-1.37c-.4-.4-.92-.59-1.43-.59-.52 0-1.04.2-1.43.59L10.3 9.45l-7.72 7.72c-.78.78-.78 2.05 0 2.83L4 21.41c.39.39.9.59 1.41.59.51 0 1.02-.2 1.41-.59l7.78-7.78 2.81-2.81c.8-.78.8-2.07 0-2.86zM5.41 20L4 18.59l7.72-7.72 1.47 1.35L5.41 20z\"/>\n",
              "  </svg>\n",
              "      </button>\n",
              "      \n",
              "  <style>\n",
              "    .colab-df-container {\n",
              "      display:flex;\n",
              "      flex-wrap:wrap;\n",
              "      gap: 12px;\n",
              "    }\n",
              "\n",
              "    .colab-df-convert {\n",
              "      background-color: #E8F0FE;\n",
              "      border: none;\n",
              "      border-radius: 50%;\n",
              "      cursor: pointer;\n",
              "      display: none;\n",
              "      fill: #1967D2;\n",
              "      height: 32px;\n",
              "      padding: 0 0 0 0;\n",
              "      width: 32px;\n",
              "    }\n",
              "\n",
              "    .colab-df-convert:hover {\n",
              "      background-color: #E2EBFA;\n",
              "      box-shadow: 0px 1px 2px rgba(60, 64, 67, 0.3), 0px 1px 3px 1px rgba(60, 64, 67, 0.15);\n",
              "      fill: #174EA6;\n",
              "    }\n",
              "\n",
              "    [theme=dark] .colab-df-convert {\n",
              "      background-color: #3B4455;\n",
              "      fill: #D2E3FC;\n",
              "    }\n",
              "\n",
              "    [theme=dark] .colab-df-convert:hover {\n",
              "      background-color: #434B5C;\n",
              "      box-shadow: 0px 1px 3px 1px rgba(0, 0, 0, 0.15);\n",
              "      filter: drop-shadow(0px 1px 2px rgba(0, 0, 0, 0.3));\n",
              "      fill: #FFFFFF;\n",
              "    }\n",
              "  </style>\n",
              "\n",
              "      <script>\n",
              "        const buttonEl =\n",
              "          document.querySelector('#df-3d5ad92a-5908-4b11-b0ff-5a4699709964 button.colab-df-convert');\n",
              "        buttonEl.style.display =\n",
              "          google.colab.kernel.accessAllowed ? 'block' : 'none';\n",
              "\n",
              "        async function convertToInteractive(key) {\n",
              "          const element = document.querySelector('#df-3d5ad92a-5908-4b11-b0ff-5a4699709964');\n",
              "          const dataTable =\n",
              "            await google.colab.kernel.invokeFunction('convertToInteractive',\n",
              "                                                     [key], {});\n",
              "          if (!dataTable) return;\n",
              "\n",
              "          const docLinkHtml = 'Like what you see? Visit the ' +\n",
              "            '<a target=\"_blank\" href=https://colab.research.google.com/notebooks/data_table.ipynb>data table notebook</a>'\n",
              "            + ' to learn more about interactive tables.';\n",
              "          element.innerHTML = '';\n",
              "          dataTable['output_type'] = 'display_data';\n",
              "          await google.colab.output.renderOutput(dataTable, element);\n",
              "          const docLink = document.createElement('div');\n",
              "          docLink.innerHTML = docLinkHtml;\n",
              "          element.appendChild(docLink);\n",
              "        }\n",
              "      </script>\n",
              "    </div>\n",
              "  </div>\n",
              "  "
            ]
          },
          "metadata": {},
          "execution_count": 89
        }
      ]
    },
    {
      "cell_type": "code",
      "source": [
        "#check for the duplicate values\n",
        "review_data.duplicated()"
      ],
      "metadata": {
        "colab": {
          "base_uri": "https://localhost:8080/"
        },
        "id": "ut4BLUaZ9tZU",
        "outputId": "b6d8d3a3-d77a-4c4d-b625-e4bd59bab1b4"
      },
      "execution_count": null,
      "outputs": [
        {
          "output_type": "execute_result",
          "data": {
            "text/plain": [
              "0         False\n",
              "1         False\n",
              "2         False\n",
              "3         False\n",
              "4         False\n",
              "          ...  \n",
              "183526    False\n",
              "183527    False\n",
              "183528    False\n",
              "183529    False\n",
              "183530    False\n",
              "Length: 183531, dtype: bool"
            ]
          },
          "metadata": {},
          "execution_count": 90
        }
      ]
    },
    {
      "cell_type": "code",
      "source": [
        "print(review_data.duplicated().value_counts()) #count of duplicated values if any"
      ],
      "metadata": {
        "colab": {
          "base_uri": "https://localhost:8080/"
        },
        "id": "adtu7bh99tWh",
        "outputId": "6ab6e657-e1fc-40a0-e284-9167abdf23e4"
      },
      "execution_count": null,
      "outputs": [
        {
          "output_type": "stream",
          "name": "stdout",
          "text": [
            "False    183469\n",
            "True         62\n",
            "dtype: int64\n"
          ]
        }
      ]
    },
    {
      "cell_type": "code",
      "source": [
        "review_data.head() #top 5 rows of the dataset"
      ],
      "metadata": {
        "colab": {
          "base_uri": "https://localhost:8080/",
          "height": 206
        },
        "id": "fxbtbljT9tMp",
        "outputId": "9bfcc153-45db-4115-9f15-c3acd9d1b850"
      },
      "execution_count": null,
      "outputs": [
        {
          "output_type": "execute_result",
          "data": {
            "text/plain": [
              "                                                name  \\\n",
              "0                           Planetwise Flannel Wipes   \n",
              "1                              Planetwise Wipe Pouch   \n",
              "2                Annas Dream Full Quilt with 2 Shams   \n",
              "3  Stop Pacifier Sucking without tears with Thumb...   \n",
              "4  Stop Pacifier Sucking without tears with Thumb...   \n",
              "\n",
              "                                              review  rating  \n",
              "0  These flannel wipes are OK, but in my opinion ...       3  \n",
              "1  it came early and was not disappointed. i love...       5  \n",
              "2  Very soft and comfortable and warmer than it l...       5  \n",
              "3  This is a product well worth the purchase.  I ...       5  \n",
              "4  All of my kids have cried non-stop when I trie...       5  "
            ],
            "text/html": [
              "\n",
              "  <div id=\"df-c589408f-cb69-40e6-8663-3a99993b8e91\">\n",
              "    <div class=\"colab-df-container\">\n",
              "      <div>\n",
              "<style scoped>\n",
              "    .dataframe tbody tr th:only-of-type {\n",
              "        vertical-align: middle;\n",
              "    }\n",
              "\n",
              "    .dataframe tbody tr th {\n",
              "        vertical-align: top;\n",
              "    }\n",
              "\n",
              "    .dataframe thead th {\n",
              "        text-align: right;\n",
              "    }\n",
              "</style>\n",
              "<table border=\"1\" class=\"dataframe\">\n",
              "  <thead>\n",
              "    <tr style=\"text-align: right;\">\n",
              "      <th></th>\n",
              "      <th>name</th>\n",
              "      <th>review</th>\n",
              "      <th>rating</th>\n",
              "    </tr>\n",
              "  </thead>\n",
              "  <tbody>\n",
              "    <tr>\n",
              "      <th>0</th>\n",
              "      <td>Planetwise Flannel Wipes</td>\n",
              "      <td>These flannel wipes are OK, but in my opinion ...</td>\n",
              "      <td>3</td>\n",
              "    </tr>\n",
              "    <tr>\n",
              "      <th>1</th>\n",
              "      <td>Planetwise Wipe Pouch</td>\n",
              "      <td>it came early and was not disappointed. i love...</td>\n",
              "      <td>5</td>\n",
              "    </tr>\n",
              "    <tr>\n",
              "      <th>2</th>\n",
              "      <td>Annas Dream Full Quilt with 2 Shams</td>\n",
              "      <td>Very soft and comfortable and warmer than it l...</td>\n",
              "      <td>5</td>\n",
              "    </tr>\n",
              "    <tr>\n",
              "      <th>3</th>\n",
              "      <td>Stop Pacifier Sucking without tears with Thumb...</td>\n",
              "      <td>This is a product well worth the purchase.  I ...</td>\n",
              "      <td>5</td>\n",
              "    </tr>\n",
              "    <tr>\n",
              "      <th>4</th>\n",
              "      <td>Stop Pacifier Sucking without tears with Thumb...</td>\n",
              "      <td>All of my kids have cried non-stop when I trie...</td>\n",
              "      <td>5</td>\n",
              "    </tr>\n",
              "  </tbody>\n",
              "</table>\n",
              "</div>\n",
              "      <button class=\"colab-df-convert\" onclick=\"convertToInteractive('df-c589408f-cb69-40e6-8663-3a99993b8e91')\"\n",
              "              title=\"Convert this dataframe to an interactive table.\"\n",
              "              style=\"display:none;\">\n",
              "        \n",
              "  <svg xmlns=\"http://www.w3.org/2000/svg\" height=\"24px\"viewBox=\"0 0 24 24\"\n",
              "       width=\"24px\">\n",
              "    <path d=\"M0 0h24v24H0V0z\" fill=\"none\"/>\n",
              "    <path d=\"M18.56 5.44l.94 2.06.94-2.06 2.06-.94-2.06-.94-.94-2.06-.94 2.06-2.06.94zm-11 1L8.5 8.5l.94-2.06 2.06-.94-2.06-.94L8.5 2.5l-.94 2.06-2.06.94zm10 10l.94 2.06.94-2.06 2.06-.94-2.06-.94-.94-2.06-.94 2.06-2.06.94z\"/><path d=\"M17.41 7.96l-1.37-1.37c-.4-.4-.92-.59-1.43-.59-.52 0-1.04.2-1.43.59L10.3 9.45l-7.72 7.72c-.78.78-.78 2.05 0 2.83L4 21.41c.39.39.9.59 1.41.59.51 0 1.02-.2 1.41-.59l7.78-7.78 2.81-2.81c.8-.78.8-2.07 0-2.86zM5.41 20L4 18.59l7.72-7.72 1.47 1.35L5.41 20z\"/>\n",
              "  </svg>\n",
              "      </button>\n",
              "      \n",
              "  <style>\n",
              "    .colab-df-container {\n",
              "      display:flex;\n",
              "      flex-wrap:wrap;\n",
              "      gap: 12px;\n",
              "    }\n",
              "\n",
              "    .colab-df-convert {\n",
              "      background-color: #E8F0FE;\n",
              "      border: none;\n",
              "      border-radius: 50%;\n",
              "      cursor: pointer;\n",
              "      display: none;\n",
              "      fill: #1967D2;\n",
              "      height: 32px;\n",
              "      padding: 0 0 0 0;\n",
              "      width: 32px;\n",
              "    }\n",
              "\n",
              "    .colab-df-convert:hover {\n",
              "      background-color: #E2EBFA;\n",
              "      box-shadow: 0px 1px 2px rgba(60, 64, 67, 0.3), 0px 1px 3px 1px rgba(60, 64, 67, 0.15);\n",
              "      fill: #174EA6;\n",
              "    }\n",
              "\n",
              "    [theme=dark] .colab-df-convert {\n",
              "      background-color: #3B4455;\n",
              "      fill: #D2E3FC;\n",
              "    }\n",
              "\n",
              "    [theme=dark] .colab-df-convert:hover {\n",
              "      background-color: #434B5C;\n",
              "      box-shadow: 0px 1px 3px 1px rgba(0, 0, 0, 0.15);\n",
              "      filter: drop-shadow(0px 1px 2px rgba(0, 0, 0, 0.3));\n",
              "      fill: #FFFFFF;\n",
              "    }\n",
              "  </style>\n",
              "\n",
              "      <script>\n",
              "        const buttonEl =\n",
              "          document.querySelector('#df-c589408f-cb69-40e6-8663-3a99993b8e91 button.colab-df-convert');\n",
              "        buttonEl.style.display =\n",
              "          google.colab.kernel.accessAllowed ? 'block' : 'none';\n",
              "\n",
              "        async function convertToInteractive(key) {\n",
              "          const element = document.querySelector('#df-c589408f-cb69-40e6-8663-3a99993b8e91');\n",
              "          const dataTable =\n",
              "            await google.colab.kernel.invokeFunction('convertToInteractive',\n",
              "                                                     [key], {});\n",
              "          if (!dataTable) return;\n",
              "\n",
              "          const docLinkHtml = 'Like what you see? Visit the ' +\n",
              "            '<a target=\"_blank\" href=https://colab.research.google.com/notebooks/data_table.ipynb>data table notebook</a>'\n",
              "            + ' to learn more about interactive tables.';\n",
              "          element.innerHTML = '';\n",
              "          dataTable['output_type'] = 'display_data';\n",
              "          await google.colab.output.renderOutput(dataTable, element);\n",
              "          const docLink = document.createElement('div');\n",
              "          docLink.innerHTML = docLinkHtml;\n",
              "          element.appendChild(docLink);\n",
              "        }\n",
              "      </script>\n",
              "    </div>\n",
              "  </div>\n",
              "  "
            ]
          },
          "metadata": {},
          "execution_count": 92
        }
      ]
    },
    {
      "cell_type": "code",
      "source": [
        "review_data.tail() #last 5 rows of the data"
      ],
      "metadata": {
        "colab": {
          "base_uri": "https://localhost:8080/",
          "height": 206
        },
        "id": "ThHjOLkE9tQR",
        "outputId": "c01d3436-11fe-4b78-e366-bdba6775f8cc"
      },
      "execution_count": null,
      "outputs": [
        {
          "output_type": "execute_result",
          "data": {
            "text/plain": [
              "                                                     name  \\\n",
              "183526  Baby Teething Necklace for Mom Pretty Donut Sh...   \n",
              "183527  Baby Teething Necklace for Mom Pretty Donut Sh...   \n",
              "183528   Abstract 2 PK Baby / Toddler Training Cup (Pink)   \n",
              "183529  Baby Food Freezer Tray - Bacteria Resistant, B...   \n",
              "183530  Best 2 Pack Baby Car Shade for Kids - Window S...   \n",
              "\n",
              "                                                   review  rating  \n",
              "183526  Such a great idea! very handy to have and look...       5  \n",
              "183527  This product rocks!  It is a great blend of fu...       5  \n",
              "183528  This item looks great and cool for my kids.......       5  \n",
              "183529  I am extremely happy with this product. I have...       5  \n",
              "183530  I love this product very mush . I have bought ...       5  "
            ],
            "text/html": [
              "\n",
              "  <div id=\"df-75933f6d-27d1-43f1-8b11-39b5d722c2c7\">\n",
              "    <div class=\"colab-df-container\">\n",
              "      <div>\n",
              "<style scoped>\n",
              "    .dataframe tbody tr th:only-of-type {\n",
              "        vertical-align: middle;\n",
              "    }\n",
              "\n",
              "    .dataframe tbody tr th {\n",
              "        vertical-align: top;\n",
              "    }\n",
              "\n",
              "    .dataframe thead th {\n",
              "        text-align: right;\n",
              "    }\n",
              "</style>\n",
              "<table border=\"1\" class=\"dataframe\">\n",
              "  <thead>\n",
              "    <tr style=\"text-align: right;\">\n",
              "      <th></th>\n",
              "      <th>name</th>\n",
              "      <th>review</th>\n",
              "      <th>rating</th>\n",
              "    </tr>\n",
              "  </thead>\n",
              "  <tbody>\n",
              "    <tr>\n",
              "      <th>183526</th>\n",
              "      <td>Baby Teething Necklace for Mom Pretty Donut Sh...</td>\n",
              "      <td>Such a great idea! very handy to have and look...</td>\n",
              "      <td>5</td>\n",
              "    </tr>\n",
              "    <tr>\n",
              "      <th>183527</th>\n",
              "      <td>Baby Teething Necklace for Mom Pretty Donut Sh...</td>\n",
              "      <td>This product rocks!  It is a great blend of fu...</td>\n",
              "      <td>5</td>\n",
              "    </tr>\n",
              "    <tr>\n",
              "      <th>183528</th>\n",
              "      <td>Abstract 2 PK Baby / Toddler Training Cup (Pink)</td>\n",
              "      <td>This item looks great and cool for my kids.......</td>\n",
              "      <td>5</td>\n",
              "    </tr>\n",
              "    <tr>\n",
              "      <th>183529</th>\n",
              "      <td>Baby Food Freezer Tray - Bacteria Resistant, B...</td>\n",
              "      <td>I am extremely happy with this product. I have...</td>\n",
              "      <td>5</td>\n",
              "    </tr>\n",
              "    <tr>\n",
              "      <th>183530</th>\n",
              "      <td>Best 2 Pack Baby Car Shade for Kids - Window S...</td>\n",
              "      <td>I love this product very mush . I have bought ...</td>\n",
              "      <td>5</td>\n",
              "    </tr>\n",
              "  </tbody>\n",
              "</table>\n",
              "</div>\n",
              "      <button class=\"colab-df-convert\" onclick=\"convertToInteractive('df-75933f6d-27d1-43f1-8b11-39b5d722c2c7')\"\n",
              "              title=\"Convert this dataframe to an interactive table.\"\n",
              "              style=\"display:none;\">\n",
              "        \n",
              "  <svg xmlns=\"http://www.w3.org/2000/svg\" height=\"24px\"viewBox=\"0 0 24 24\"\n",
              "       width=\"24px\">\n",
              "    <path d=\"M0 0h24v24H0V0z\" fill=\"none\"/>\n",
              "    <path d=\"M18.56 5.44l.94 2.06.94-2.06 2.06-.94-2.06-.94-.94-2.06-.94 2.06-2.06.94zm-11 1L8.5 8.5l.94-2.06 2.06-.94-2.06-.94L8.5 2.5l-.94 2.06-2.06.94zm10 10l.94 2.06.94-2.06 2.06-.94-2.06-.94-.94-2.06-.94 2.06-2.06.94z\"/><path d=\"M17.41 7.96l-1.37-1.37c-.4-.4-.92-.59-1.43-.59-.52 0-1.04.2-1.43.59L10.3 9.45l-7.72 7.72c-.78.78-.78 2.05 0 2.83L4 21.41c.39.39.9.59 1.41.59.51 0 1.02-.2 1.41-.59l7.78-7.78 2.81-2.81c.8-.78.8-2.07 0-2.86zM5.41 20L4 18.59l7.72-7.72 1.47 1.35L5.41 20z\"/>\n",
              "  </svg>\n",
              "      </button>\n",
              "      \n",
              "  <style>\n",
              "    .colab-df-container {\n",
              "      display:flex;\n",
              "      flex-wrap:wrap;\n",
              "      gap: 12px;\n",
              "    }\n",
              "\n",
              "    .colab-df-convert {\n",
              "      background-color: #E8F0FE;\n",
              "      border: none;\n",
              "      border-radius: 50%;\n",
              "      cursor: pointer;\n",
              "      display: none;\n",
              "      fill: #1967D2;\n",
              "      height: 32px;\n",
              "      padding: 0 0 0 0;\n",
              "      width: 32px;\n",
              "    }\n",
              "\n",
              "    .colab-df-convert:hover {\n",
              "      background-color: #E2EBFA;\n",
              "      box-shadow: 0px 1px 2px rgba(60, 64, 67, 0.3), 0px 1px 3px 1px rgba(60, 64, 67, 0.15);\n",
              "      fill: #174EA6;\n",
              "    }\n",
              "\n",
              "    [theme=dark] .colab-df-convert {\n",
              "      background-color: #3B4455;\n",
              "      fill: #D2E3FC;\n",
              "    }\n",
              "\n",
              "    [theme=dark] .colab-df-convert:hover {\n",
              "      background-color: #434B5C;\n",
              "      box-shadow: 0px 1px 3px 1px rgba(0, 0, 0, 0.15);\n",
              "      filter: drop-shadow(0px 1px 2px rgba(0, 0, 0, 0.3));\n",
              "      fill: #FFFFFF;\n",
              "    }\n",
              "  </style>\n",
              "\n",
              "      <script>\n",
              "        const buttonEl =\n",
              "          document.querySelector('#df-75933f6d-27d1-43f1-8b11-39b5d722c2c7 button.colab-df-convert');\n",
              "        buttonEl.style.display =\n",
              "          google.colab.kernel.accessAllowed ? 'block' : 'none';\n",
              "\n",
              "        async function convertToInteractive(key) {\n",
              "          const element = document.querySelector('#df-75933f6d-27d1-43f1-8b11-39b5d722c2c7');\n",
              "          const dataTable =\n",
              "            await google.colab.kernel.invokeFunction('convertToInteractive',\n",
              "                                                     [key], {});\n",
              "          if (!dataTable) return;\n",
              "\n",
              "          const docLinkHtml = 'Like what you see? Visit the ' +\n",
              "            '<a target=\"_blank\" href=https://colab.research.google.com/notebooks/data_table.ipynb>data table notebook</a>'\n",
              "            + ' to learn more about interactive tables.';\n",
              "          element.innerHTML = '';\n",
              "          dataTable['output_type'] = 'display_data';\n",
              "          await google.colab.output.renderOutput(dataTable, element);\n",
              "          const docLink = document.createElement('div');\n",
              "          docLink.innerHTML = docLinkHtml;\n",
              "          element.appendChild(docLink);\n",
              "        }\n",
              "      </script>\n",
              "    </div>\n",
              "  </div>\n",
              "  "
            ]
          },
          "metadata": {},
          "execution_count": 93
        }
      ]
    },
    {
      "cell_type": "code",
      "source": [
        "#check of the null values\n",
        "review_data.isnull().values.any()"
      ],
      "metadata": {
        "colab": {
          "base_uri": "https://localhost:8080/"
        },
        "id": "jp4kv4AP_E7t",
        "outputId": "1f553690-3ab4-4ed0-8ae0-0414296843e9"
      },
      "execution_count": null,
      "outputs": [
        {
          "output_type": "execute_result",
          "data": {
            "text/plain": [
              "True"
            ]
          },
          "metadata": {},
          "execution_count": 94
        }
      ]
    },
    {
      "cell_type": "code",
      "source": [
        "review_data.isnull().value_counts() #count null values if any"
      ],
      "metadata": {
        "colab": {
          "base_uri": "https://localhost:8080/"
        },
        "id": "eMd5fB5z_E1k",
        "outputId": "99553a88-4859-41c0-dabf-e551ad937e6b"
      },
      "execution_count": null,
      "outputs": [
        {
          "output_type": "execute_result",
          "data": {
            "text/plain": [
              "name   review  rating\n",
              "False  False   False     182384\n",
              "       True    False        829\n",
              "True   False   False        318\n",
              "dtype: int64"
            ]
          },
          "metadata": {},
          "execution_count": 95
        }
      ]
    },
    {
      "cell_type": "code",
      "source": [
        "len(review_data) - len(review_data.dropna())"
      ],
      "metadata": {
        "colab": {
          "base_uri": "https://localhost:8080/"
        },
        "id": "jK7K2Dn6_EwN",
        "outputId": "36e3beff-6de1-43f3-a3e7-56a3a637e2c0"
      },
      "execution_count": null,
      "outputs": [
        {
          "output_type": "execute_result",
          "data": {
            "text/plain": [
              "1147"
            ]
          },
          "metadata": {},
          "execution_count": 96
        }
      ]
    },
    {
      "cell_type": "code",
      "source": [
        "#Handle null values in case any\n",
        "review_data.dropna(inplace=True)\n",
        "\n",
        "#Handle null values in case any\n",
        "# dropna()\n",
        "# fillna(pad, bfill)\n",
        "# replace()\n",
        "# interpolate()"
      ],
      "metadata": {
        "id": "OVRLovDY_Eyz"
      },
      "execution_count": null,
      "outputs": []
    },
    {
      "cell_type": "code",
      "source": [
        "review_data.shape"
      ],
      "metadata": {
        "id": "_iKegvGG3_TP",
        "colab": {
          "base_uri": "https://localhost:8080/"
        },
        "outputId": "b5fa7e54-8947-46f8-a576-518c4c25cb07"
      },
      "execution_count": null,
      "outputs": [
        {
          "output_type": "execute_result",
          "data": {
            "text/plain": [
              "(182384, 3)"
            ]
          },
          "metadata": {},
          "execution_count": 98
        }
      ]
    },
    {
      "cell_type": "markdown",
      "source": [
        "**Exercise 2**: **Implementation using K-Nearest Neighbor (KNN) Classifier**:  (1 point)\n",
        "\n",
        "\n",
        "[Refer to the Logistic Regression Example in the above cells]\n",
        "\n",
        "- Define the KNN classifier with Number of neighbours=5 using sklearn's **KNeighborsClassifier** function\n",
        "- Train the KNN classifier\n",
        "- Predict the test set\n",
        "- Calculate accuracy on the KNN classifier\n",
        "- Compute the F1 score"
      ],
      "metadata": {
        "id": "EX9ah2Jc4X_M"
      }
    },
    {
      "cell_type": "code",
      "source": [
        "#lets first create sentiments column with 0, 1 values (0: review 1,2; 1: review 3,4,5)\n",
        "review_data['sentiment'] = 1 \n",
        "review_data.loc[review_data['rating'] < 3, 'sentiment'] = 0"
      ],
      "metadata": {
        "id": "vwKArO0cC3V0"
      },
      "execution_count": null,
      "outputs": []
    },
    {
      "cell_type": "code",
      "source": [
        "int(0.3 * len(review_data))"
      ],
      "metadata": {
        "colab": {
          "base_uri": "https://localhost:8080/"
        },
        "id": "aiQn9hc1XY54",
        "outputId": "4f154ca8-e816-4063-c044-45195f4eac75"
      },
      "execution_count": null,
      "outputs": [
        {
          "output_type": "execute_result",
          "data": {
            "text/plain": [
              "54715"
            ]
          },
          "metadata": {},
          "execution_count": 100
        }
      ]
    },
    {
      "cell_type": "code",
      "source": [
        "review_data = review_data[:54715]"
      ],
      "metadata": {
        "id": "GF2iVJE2YtF0"
      },
      "execution_count": null,
      "outputs": []
    },
    {
      "cell_type": "code",
      "source": [
        "X = review_data['review'] #input\n",
        "y = review_data['sentiment'] #target"
      ],
      "metadata": {
        "id": "NkUfGjRnC3RR"
      },
      "execution_count": null,
      "outputs": []
    },
    {
      "cell_type": "code",
      "source": [
        "x_train, x_test, y_train, y_test = train_test_split(X, y, random_state=42) #split data into train, test"
      ],
      "metadata": {
        "id": "yeSXHU0BC3NR"
      },
      "execution_count": null,
      "outputs": []
    },
    {
      "cell_type": "code",
      "source": [
        "#convert string to float\n",
        "from sklearn.feature_extraction.text import CountVectorizer\n",
        "cv = CountVectorizer()\n",
        "X_train = cv.fit_transform(x_train)\n",
        "X_test = cv.transform(x_test)"
      ],
      "metadata": {
        "id": "ufsI9cVUHMoA"
      },
      "execution_count": null,
      "outputs": []
    },
    {
      "cell_type": "code",
      "source": [
        "knn = KNeighborsClassifier() #instansiate model object"
      ],
      "metadata": {
        "id": "V0MncjrtC3KY"
      },
      "execution_count": null,
      "outputs": []
    },
    {
      "cell_type": "code",
      "source": [
        "knn.fit(X_train, y_train) #fit on training data"
      ],
      "metadata": {
        "colab": {
          "base_uri": "https://localhost:8080/"
        },
        "id": "CKs4fYb0C3E4",
        "outputId": "347a5715-6d63-423e-cada-2bd7c7a9067a"
      },
      "execution_count": null,
      "outputs": [
        {
          "output_type": "execute_result",
          "data": {
            "text/plain": [
              "KNeighborsClassifier()"
            ]
          },
          "metadata": {},
          "execution_count": 106
        }
      ]
    },
    {
      "cell_type": "code",
      "source": [
        "test_pred = knn.predict(X_test) #predict on test data\n",
        "test_pred"
      ],
      "metadata": {
        "colab": {
          "base_uri": "https://localhost:8080/"
        },
        "id": "Stt3-w8yC3CJ",
        "outputId": "0c9b65fa-9969-40e4-907a-8a40c173a13c"
      },
      "execution_count": null,
      "outputs": [
        {
          "output_type": "execute_result",
          "data": {
            "text/plain": [
              "array([1, 1, 1, ..., 1, 1, 1])"
            ]
          },
          "metadata": {},
          "execution_count": 107
        }
      ]
    },
    {
      "cell_type": "code",
      "source": [
        "accuracy_score(y_test, test_pred) #accuracy"
      ],
      "metadata": {
        "id": "omrI_SQk4jA8",
        "colab": {
          "base_uri": "https://localhost:8080/"
        },
        "outputId": "fd9eba80-20ff-4936-fd71-a63155d1997d"
      },
      "execution_count": null,
      "outputs": [
        {
          "output_type": "execute_result",
          "data": {
            "text/plain": [
              "0.8369032824036845"
            ]
          },
          "metadata": {},
          "execution_count": 108
        }
      ]
    },
    {
      "cell_type": "code",
      "source": [
        "f1_score(y_test, test_pred) #f1 score"
      ],
      "metadata": {
        "colab": {
          "base_uri": "https://localhost:8080/"
        },
        "id": "JwfnKqUSKhXx",
        "outputId": "c5c19b19-7727-42af-ad52-1f9c934aba54"
      },
      "execution_count": null,
      "outputs": [
        {
          "output_type": "execute_result",
          "data": {
            "text/plain": [
              "0.9101019462465245"
            ]
          },
          "metadata": {},
          "execution_count": 109
        }
      ]
    },
    {
      "cell_type": "markdown",
      "source": [
        "**Exercise 3**: **Implementation using Support Vector Machines (SVM) Classifier**:  (3 points)\n",
        "  - First Reduce the features using PCA\n",
        "  - use Hard-Margin Classifier\n",
        "  - use Soft-Margin Classifier\n",
        "  - use Kernel SVM Classifier\n",
        "\n",
        "\n",
        "\n",
        "Background:\n",
        "The next classifier we look into are support vector machines. \n",
        "\n",
        "![wget](https://cdn.talentsprint.com/aiml/aiml_2020_b14_hyd/experiment_details_backup/linear_data.png)\n",
        "\n",
        "While the other classifiers such as the perceptron and the logistic regression uses a similar concept of finding a boundary between two classes using a straight line, SVMs aim to maximize this boundary. Therefore, not only the SVM tries to find a boundary, it tries to find the best boundary that separates the two classes. Again, with very simple tricks the two class classification can be easily extended to a multiclass classification. The formal formulation of a SVM is,\n",
        "\n",
        "$g(x) = w^Tx + b$, is the equation of the line we want to find with weights $w$ and a bias $b$.\n",
        "\n",
        "Now as seen from the figure, $g(x) = k$ and $g(x) = -k$ will give two worst lines for classification as they are right at the boundary of one of the classes. We need to maximize the distance of the line from both of the classes.\n",
        "\n",
        "Therefore,\n",
        "\n",
        "Maximize $k$ such that :\n",
        "\n",
        "$-w^Tx + b \\geq k \\: for \\: d_i == 1$\n",
        "\n",
        "$-w^Tx + b \\leq k \\: for \\: d_i == -1$\n",
        "\n",
        "We keep $g(x) \\geq 1$ and minimize $||w||$.\n",
        "\n",
        "We finally write the final minimization function (uses Lagrangians to come to this solution).\n",
        "\n",
        "Minimize: $J(w, b, \\alpha) = \\frac{1}{2}w^Tw - \\Sigma_{i=1}^{N}(\\alpha_id_i(w^Tx_i + b)) + \\Sigma_{i=1}^{N}(\\alpha_i)$\n",
        "\n",
        "There are multiple types of SVM. We first use the standard linear SVM and check the performance of the model. However, SVM cannot be directly used on this dataset.   "
      ],
      "metadata": {
        "id": "LHgubZ294yfU"
      }
    },
    {
      "cell_type": "markdown",
      "source": [
        "The data is too large and the normal SVM function from `sklearn` will take a lot of time to run. Therefore, we first apply a PCA based dimensionality reduction technique on the input data. This will be followed by different types of SVM techniques and the performance can be compared. Since, dimensionality reduction is applied, a slight drop in performance is expected. However, with the improvement in the time taken for training a SVM in mind, it is important we first apply PCA based dimensionality reduction.\n",
        "\n",
        "In principal component analysis, this relationship is quantified by finding a list of the principal axes in the data, and using those axes to describe the dataset.Using PCA for dimensionality reduction involves zeroing out one or more of the smallest principal components, resulting in a lower-dimensional projection of the data that preserves the maximal data variance.\n",
        "\n",
        "\n",
        "**Hints**\n",
        "- Define the PCA model using sklearn's **TruncatedSVD**\n",
        "- Fit the training data using **model.fit**\n",
        "- Reduce the dimensions of the training data using **model.transform**\n",
        "- Reduce the dimensions of the testing data using **model.transform**\n",
        "\n",
        "\n",
        "- Use sklearn's **svm.SVC**. Appropriately choose the arguments - *kernel*, *gamma*, and *C* for hard-margin, soft-margin and kernel SVM classifiers.\n",
        "\n"
      ],
      "metadata": {
        "id": "75AdOM0W9qJz"
      }
    },
    {
      "cell_type": "code",
      "source": [
        "pca_model = TruncatedSVD() #initansiate pca model"
      ],
      "metadata": {
        "id": "zmdSQoR4OEdz"
      },
      "execution_count": null,
      "outputs": []
    },
    {
      "cell_type": "code",
      "source": [
        "pca_model.fit(X_train, y_train) #train pca model"
      ],
      "metadata": {
        "colab": {
          "base_uri": "https://localhost:8080/"
        },
        "id": "su1nRG2COEbn",
        "outputId": "c4f929ed-f73c-4360-db9c-403ce0323427"
      },
      "execution_count": null,
      "outputs": [
        {
          "output_type": "execute_result",
          "data": {
            "text/plain": [
              "TruncatedSVD()"
            ]
          },
          "metadata": {},
          "execution_count": 111
        }
      ]
    },
    {
      "cell_type": "code",
      "source": [
        "red_x_train = pca_model.transform(X_train) #transform training data\n",
        "red_x_test = pca_model.transform(X_test) #transform test data"
      ],
      "metadata": {
        "id": "Ay5k8Nm_OEZX"
      },
      "execution_count": null,
      "outputs": []
    },
    {
      "cell_type": "code",
      "source": [
        "#hard-margin\n",
        "model = svm.SVC() #C=1, kernel='rbf'"
      ],
      "metadata": {
        "id": "Hh9XAQB6OEXB"
      },
      "execution_count": null,
      "outputs": []
    },
    {
      "cell_type": "code",
      "source": [
        "model.fit(red_x_train, y_train)"
      ],
      "metadata": {
        "colab": {
          "base_uri": "https://localhost:8080/"
        },
        "id": "8L6T06MsVbTt",
        "outputId": "4757aef7-848b-490b-fb1a-8430ba817079"
      },
      "execution_count": null,
      "outputs": [
        {
          "output_type": "execute_result",
          "data": {
            "text/plain": [
              "SVC()"
            ]
          },
          "metadata": {},
          "execution_count": 114
        }
      ]
    },
    {
      "cell_type": "code",
      "source": [
        "test_pred = model.predict(red_x_test)"
      ],
      "metadata": {
        "id": "V6ON9-BzVbQm"
      },
      "execution_count": null,
      "outputs": []
    },
    {
      "cell_type": "code",
      "source": [
        "accuracy_score(y_test, test_pred)"
      ],
      "metadata": {
        "colab": {
          "base_uri": "https://localhost:8080/"
        },
        "id": "eRZFqqKyXEKH",
        "outputId": "6aa8a072-30a5-435f-de51-dc1625f401ed"
      },
      "execution_count": null,
      "outputs": [
        {
          "output_type": "execute_result",
          "data": {
            "text/plain": [
              "0.8385846918634403"
            ]
          },
          "metadata": {},
          "execution_count": 116
        }
      ]
    },
    {
      "cell_type": "code",
      "source": [
        "f1_score(y_test, test_pred) #f1 score"
      ],
      "metadata": {
        "colab": {
          "base_uri": "https://localhost:8080/"
        },
        "id": "EhE9chK7XNbs",
        "outputId": "8ab8fddb-a943-4f7b-c9d0-c1987ef7ac91"
      },
      "execution_count": null,
      "outputs": [
        {
          "output_type": "execute_result",
          "data": {
            "text/plain": [
              "0.91220675944334"
            ]
          },
          "metadata": {},
          "execution_count": 117
        }
      ]
    },
    {
      "cell_type": "code",
      "source": [
        "#soft-margin\n",
        "model = svm.SVC(C=0.1, kernel='linear', gamma='auto')"
      ],
      "metadata": {
        "id": "pHOJ2JE5OEUR"
      },
      "execution_count": null,
      "outputs": []
    },
    {
      "cell_type": "code",
      "source": [
        "model.fit(red_x_train, y_train)"
      ],
      "metadata": {
        "colab": {
          "base_uri": "https://localhost:8080/"
        },
        "id": "ZuCQcDhTZw1Q",
        "outputId": "52fba0bd-8dd3-4268-a714-88bcbf64a4b3"
      },
      "execution_count": null,
      "outputs": [
        {
          "output_type": "execute_result",
          "data": {
            "text/plain": [
              "SVC(C=0.1, gamma='auto', kernel='linear')"
            ]
          },
          "metadata": {},
          "execution_count": 119
        }
      ]
    },
    {
      "cell_type": "code",
      "source": [
        "test_pred = model.predict(red_x_test)"
      ],
      "metadata": {
        "id": "ON8NZMWAZwyv"
      },
      "execution_count": null,
      "outputs": []
    },
    {
      "cell_type": "code",
      "source": [
        "print(accuracy_score(y_test, test_pred))\n",
        "print(f1_score(y_test, test_pred)) #f1 score"
      ],
      "metadata": {
        "colab": {
          "base_uri": "https://localhost:8080/"
        },
        "id": "oi330aw-ZwwB",
        "outputId": "3a87673d-681b-42b5-953c-75fafe460b32"
      },
      "execution_count": null,
      "outputs": [
        {
          "output_type": "stream",
          "name": "stdout",
          "text": [
            "0.8385846918634403\n",
            "0.91220675944334\n"
          ]
        }
      ]
    },
    {
      "cell_type": "code",
      "source": [
        "#kernel SVM"
      ],
      "metadata": {
        "id": "jBSmtBxXOERq"
      },
      "execution_count": null,
      "outputs": []
    },
    {
      "cell_type": "code",
      "source": [
        "model = svm.SVC(C=0.8, kernel='rbf', gamma='auto')"
      ],
      "metadata": {
        "id": "8zngBMwSOEOn"
      },
      "execution_count": null,
      "outputs": []
    },
    {
      "cell_type": "code",
      "source": [
        "# YOUR CODE(s) HERE\n",
        "model.fit(red_x_train, y_train)"
      ],
      "metadata": {
        "id": "rHfsD6lR4yfU",
        "colab": {
          "base_uri": "https://localhost:8080/"
        },
        "outputId": "33bcd5c8-4862-4c09-9320-7fba1a2f5911"
      },
      "execution_count": null,
      "outputs": [
        {
          "output_type": "execute_result",
          "data": {
            "text/plain": [
              "SVC(C=0.8, gamma='auto')"
            ]
          },
          "metadata": {},
          "execution_count": 124
        }
      ]
    },
    {
      "cell_type": "code",
      "source": [
        "test_pred = model.predict(red_x_test)"
      ],
      "metadata": {
        "id": "61ab6oCRhrlu"
      },
      "execution_count": null,
      "outputs": []
    },
    {
      "cell_type": "code",
      "source": [
        "print(accuracy_score(y_test, test_pred))\n",
        "print(f1_score(y_test, test_pred)) #f1 score"
      ],
      "metadata": {
        "colab": {
          "base_uri": "https://localhost:8080/"
        },
        "id": "drCeLxGJhuOR",
        "outputId": "cb4c458a-37c7-4cdf-82e1-cb97987d67bd"
      },
      "execution_count": null,
      "outputs": [
        {
          "output_type": "stream",
          "name": "stdout",
          "text": [
            "0.8385115871043205\n",
            "0.9121635055071773\n"
          ]
        }
      ]
    },
    {
      "cell_type": "markdown",
      "source": [
        "4.   **Exercise 4**: **Implementation using Decision Trees**:  (1 point)\n",
        "\n",
        "Decision Trees are supervised Machine Learning algorithms that can perform both classification and regression tasks and even multioutput tasks. They can handle complex datasets. As the name shows, it uses a tree-like model to make decisions in order to classify or predict according to the problem. It is an ML algorithm that progressively divides datasets into smaller data groups based on a descriptive feature until it reaches sets that are small enough to be described by some label.\n",
        "\n",
        "The most important part of a decision tree is its explainability!\n",
        "\n",
        "The importance of decision tree algorithm is that it has many applications in the real world. For example:\n",
        "\n",
        "1. In the Healthcare sector: To develop Clinical Decision Analysis tools which allow decision-makers to apply for evidence-based medicine and make objective clinical decisions when faced with complex situations.\n",
        "2. Virtual Assistants (Chatbots): To develop chatbots that provide information and assistance to customers in any required domain.\n",
        "3. Retail and Marketing: Sentiment analysis detects the pulse of customer feedback and emotions and allows organizations to learn about customer choices and drives decisions.\n",
        "\n",
        "**Hint**\n",
        "Use sklearn's **DecisionTreeClassifier** function"
      ],
      "metadata": {
        "id": "RD_CHfNy4zCM"
      }
    },
    {
      "cell_type": "code",
      "source": [
        "DT = DecisionTreeClassifier()\n",
        "\n",
        "DT.fit(red_x_train, y_train)\n",
        "test_pred = DT.predict(red_x_test)\n",
        "print(accuracy_score(y_test, test_pred))\n",
        "print(f1_score(y_test, test_pred)) #f1 score"
      ],
      "metadata": {
        "id": "o2yJdTmm4zCN",
        "colab": {
          "base_uri": "https://localhost:8080/"
        },
        "outputId": "ac65e926-c619-4a7f-8db7-1bf528437384"
      },
      "execution_count": null,
      "outputs": [
        {
          "output_type": "stream",
          "name": "stdout",
          "text": [
            "0.72987791505227\n",
            "0.8383144444930644\n"
          ]
        }
      ]
    },
    {
      "cell_type": "markdown",
      "source": [
        "**Exercise 5**: **Implementation using Ensemble Classifier**:  (1 point) \n",
        "- use LogisticRegression, KNN, SVM, Naive Bayes and VotingClassifier as the weak classifiers"
      ],
      "metadata": {
        "id": "IJncymcr42fg"
      }
    },
    {
      "cell_type": "code",
      "source": [
        "#clf1 = svm.SVC()\n",
        "clf2 = KNeighborsClassifier()\n",
        "clf3 = GaussianNB()\n",
        "clf4 = LogisticRegression()"
      ],
      "metadata": {
        "id": "IGWY8iP8nAum"
      },
      "execution_count": null,
      "outputs": []
    },
    {
      "cell_type": "code",
      "source": [
        "eclf1 = VotingClassifier(estimators=[('knn', clf2), ('gnb', clf3), ('lr', clf4)], voting='hard')"
      ],
      "metadata": {
        "id": "O0q19471nAsN"
      },
      "execution_count": null,
      "outputs": []
    },
    {
      "cell_type": "code",
      "source": [
        "from scipy import sparse\n",
        "eclf1.fit(sparse.csr_matrix(red_x_train).toarray(), y_train)"
      ],
      "metadata": {
        "colab": {
          "base_uri": "https://localhost:8080/"
        },
        "id": "c7V6UeEawfmX",
        "outputId": "214d57a6-acc6-4ca8-e11b-6e81a4c3b71a"
      },
      "execution_count": null,
      "outputs": [
        {
          "output_type": "execute_result",
          "data": {
            "text/plain": [
              "VotingClassifier(estimators=[('knn', KNeighborsClassifier()),\n",
              "                             ('gnb', GaussianNB()),\n",
              "                             ('lr', LogisticRegression())])"
            ]
          },
          "metadata": {},
          "execution_count": 131
        }
      ]
    },
    {
      "cell_type": "code",
      "source": [
        "test_pred =eclf1.predict(red_x_test)"
      ],
      "metadata": {
        "id": "XP0zQm6Nwfj_"
      },
      "execution_count": null,
      "outputs": []
    },
    {
      "cell_type": "code",
      "source": [
        "print(accuracy_score(y_test, test_pred))\n",
        "print(f1_score(y_test, test_pred)) #f1 score"
      ],
      "metadata": {
        "id": "3W0cSIqewfgz",
        "colab": {
          "base_uri": "https://localhost:8080/"
        },
        "outputId": "bcff50cd-a667-4b52-c1ce-696b85236204"
      },
      "execution_count": null,
      "outputs": [
        {
          "output_type": "stream",
          "name": "stdout",
          "text": [
            "0.8371957014401638\n",
            "0.911363184079602\n"
          ]
        }
      ]
    },
    {
      "cell_type": "markdown",
      "source": [
        "**Exercise 6**: **Implementation using Random Forest Classifier**:  (1 point)\n",
        "\n",
        "A random forest is a collection of decision trees whose results are aggregated into one final result. Random Forest  is a supervised classification algorithm. There is a direct relationship between the number of trees in the forest and the results it can get: the larger the number of trees, the more accurate the result. But here creating the forest is not the same as constructing the decision tree with the information gain or gain index approach.\n",
        "Steps:\n",
        "1. Randomly select “k” features from total “m” features where k << m as shown in the figure below\n",
        "2. Among the “k” features, calculate the node “d” using the best split point\n",
        "3. Split the node into leaf nodes using the best split\n",
        "4. Repeat the 1 to 3 steps until “l” number of nodes has been reached.\n",
        "5. Build forest by repeating steps 1 to 4 for “n” number times to create “n” number of trees.\n",
        "6. Take the test features and use the rules of each randomly created decision tree to predict the outcome and stores the predicted outcome (target)\n",
        "7. Calculate the votes for each predicted target\n",
        "8. Consider the high voted predicted target as the final prediction from the random forest algorithm\n",
        "\n",
        "**Hint**:\n",
        "- Use sklearn's **RandomForestClassifier**\n",
        "- Experiment with n_estimators, max_depth, max_leaf_nodes"
      ],
      "metadata": {
        "id": "fW-wW8Or40zA"
      }
    },
    {
      "cell_type": "code",
      "source": [
        "forest = RandomForestClassifier(n_estimators=1000, max_leaf_nodes=50)"
      ],
      "metadata": {
        "id": "SvvDAwWe40zB"
      },
      "execution_count": null,
      "outputs": []
    },
    {
      "cell_type": "code",
      "source": [
        "\n",
        "forest.fit(X_train, y_train)\n",
        "test_pred = forest.predict(X_test)\n",
        "print(accuracy_score(y_test, test_pred))\n",
        "print(f1_score(y_test, test_pred)) #f1 score"
      ],
      "metadata": {
        "colab": {
          "base_uri": "https://localhost:8080/"
        },
        "id": "bOEBdbe0dqGv",
        "outputId": "db77ea4a-065b-4e97-c8b4-9e892a42fdfd"
      },
      "execution_count": null,
      "outputs": [
        {
          "output_type": "stream",
          "name": "stdout",
          "text": [
            "0.8385846918634403\n",
            "0.91220675944334\n"
          ]
        }
      ]
    },
    {
      "cell_type": "markdown",
      "source": [
        "**Exercise 7**: **Implementation using Clustering**: (1 point)\n",
        "- k Means Clustering, with and without PCA=2\n",
        "- Gaussian Mixture Models\n",
        "\n",
        "**Hints**:\n",
        "- Use sklearn's **MiniBatchKMeans**\n",
        "- Use sklearn's **GaussianMixture**"
      ],
      "metadata": {
        "id": "ohCDKM-Z47AQ"
      }
    },
    {
      "cell_type": "code",
      "source": [
        "# A helper function to help labelling the test predictions\n",
        "def label(n_clusters, real_labels, labels):\n",
        "    permutation=[]\n",
        "    for i in range(n_clusters):\n",
        "        idx = labels == i\n",
        "        new_label=scipy.stats.mode(real_labels[idx])[0][0]  # Choose the most common label among data points in the cluster\n",
        "        permutation.append(new_label)\n",
        "    return permutation\n",
        "\n",
        "# Use the above custom function\n",
        "# YOUR CODE(s) HERE"
      ],
      "metadata": {
        "id": "iHXnEVJ147AQ"
      },
      "execution_count": null,
      "outputs": []
    },
    {
      "cell_type": "code",
      "source": [
        "from sklearn.cluster import MiniBatchKMeans\n",
        "from sklearn.cluster import AgglomerativeClustering\n",
        "from sklearn.mixture import GaussianMixture"
      ],
      "metadata": {
        "id": "vCBIA3SCljFj"
      },
      "execution_count": null,
      "outputs": []
    },
    {
      "cell_type": "code",
      "source": [
        "kmeans  = MiniBatchKMeans()"
      ],
      "metadata": {
        "id": "xo1KFSulljDP"
      },
      "execution_count": null,
      "outputs": []
    },
    {
      "cell_type": "code",
      "source": [
        "kmeans.fit(X_train)"
      ],
      "metadata": {
        "colab": {
          "base_uri": "https://localhost:8080/"
        },
        "id": "RjW-j8A8li_2",
        "outputId": "326bc677-dfd0-44ca-e277-22dd9d5836e8"
      },
      "execution_count": null,
      "outputs": [
        {
          "output_type": "execute_result",
          "data": {
            "text/plain": [
              "MiniBatchKMeans()"
            ]
          },
          "metadata": {},
          "execution_count": 139
        }
      ]
    },
    {
      "cell_type": "code",
      "source": [
        "test_pred = kmeans.predict(X_test)"
      ],
      "metadata": {
        "id": "AYTAKaIjmEQp"
      },
      "execution_count": null,
      "outputs": []
    },
    {
      "cell_type": "markdown",
      "source": [
        "**Exercise 8**: **Test your own sentence**: (1 point)\n",
        "- Input your sentences ( One for positive and negative each)\n",
        "- Print the output sentiment.**Exercise**"
      ],
      "metadata": {
        "id": "ZF5k-DwF4838"
      }
    },
    {
      "cell_type": "code",
      "source": [
        "negative = 'i did not liek the product, it was damaged'\n",
        "positive = 'i loved using this kit. it has great quality'"
      ],
      "metadata": {
        "id": "MJpgmJV844yS"
      },
      "execution_count": null,
      "outputs": []
    },
    {
      "cell_type": "code",
      "source": [
        "vc = CountVectorizer()\n",
        "test = vc.fit_transform([negative, positive])"
      ],
      "metadata": {
        "id": "PCOiZyLkn2z2"
      },
      "execution_count": null,
      "outputs": []
    },
    {
      "cell_type": "code",
      "source": [
        "test = test.toarray()"
      ],
      "metadata": {
        "id": "SA7s2zd5oPwB"
      },
      "execution_count": null,
      "outputs": []
    },
    {
      "cell_type": "code",
      "source": [
        "eclf1.predict(test.T)"
      ],
      "metadata": {
        "colab": {
          "base_uri": "https://localhost:8080/"
        },
        "id": "erukYbWKsEIr",
        "outputId": "3c73b798-fc21-40f7-852a-8a39ef1eb01f"
      },
      "execution_count": null,
      "outputs": [
        {
          "output_type": "execute_result",
          "data": {
            "text/plain": [
              "array([1, 1, 1, 1, 1, 1, 1, 1, 1, 1, 1, 1, 1, 1, 1])"
            ]
          },
          "metadata": {},
          "execution_count": 144
        }
      ]
    },
    {
      "cell_type": "code",
      "source": [
        "model.predict(test.T)"
      ],
      "metadata": {
        "colab": {
          "base_uri": "https://localhost:8080/"
        },
        "id": "LqCvWvNpsOCy",
        "outputId": "6b61dec3-de64-4172-af55-a345b109bd31"
      },
      "execution_count": null,
      "outputs": [
        {
          "output_type": "execute_result",
          "data": {
            "text/plain": [
              "array([1, 1, 1, 1, 1, 1, 1, 1, 1, 1, 1, 1, 1, 1, 1])"
            ]
          },
          "metadata": {},
          "execution_count": 147
        }
      ]
    },
    {
      "cell_type": "code",
      "source": [
        "X_test"
      ],
      "metadata": {
        "id": "gS-GEJbetS6F"
      },
      "execution_count": null,
      "outputs": []
    },
    {
      "cell_type": "code",
      "source": [
        "test"
      ],
      "metadata": {
        "id": "u-1BsjBOtVnG"
      },
      "execution_count": null,
      "outputs": []
    },
    {
      "cell_type": "code",
      "source": [
        ""
      ],
      "metadata": {
        "id": "l4HUqS-UtXs9"
      },
      "execution_count": null,
      "outputs": []
    }
  ]
}