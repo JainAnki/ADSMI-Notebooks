{
  "cells": [
    {
      "cell_type": "markdown",
      "metadata": {
        "id": "view-in-github",
        "colab_type": "text"
      },
      "source": [
        "<a href=\"https://colab.research.google.com/github/JainAnki/ADSMI-Notebooks/blob/main/Credit_Card_Default_Prediction_another_solution.ipynb\" target=\"_parent\"><img src=\"https://colab.research.google.com/assets/colab-badge.svg\" alt=\"Open In Colab\"/></a>"
      ]
    },
    {
      "cell_type": "markdown",
      "metadata": {
        "id": "powered-thong"
      },
      "source": [
        "# Applied Data Science and Machine Intelligence\n",
        "## A program by IIT Madras and TalentSprint\n",
        "### Mini Project: Credit Card Default Risk Analysis"
      ]
    },
    {
      "cell_type": "markdown",
      "metadata": {
        "id": "1nK0fzdQzk0g"
      },
      "source": [
        "## Learning Objectives\n",
        "\n",
        "At the end of the mini project, you will be able to\n",
        "\n",
        "* understand the application of machine learning in financial sector\n",
        "* use a real world dataset.\n",
        "* compare between different types of classification methods and their pros and cons."
      ]
    },
    {
      "cell_type": "markdown",
      "metadata": {
        "id": "hungry-accident"
      },
      "source": [
        "**Packages used:**  \n",
        "* `Pandas` for data frames and easy to read csv files  \n",
        "* `Numpy` for array and matrix mathematics functions  \n",
        "* `Matplotlib` and `Seaborn` for visualization\n",
        "*  `sklearn` for the metrics and pre-processing\n",
        "\n"
      ]
    },
    {
      "cell_type": "markdown",
      "metadata": {
        "id": "AClW5O_SI7cL"
      },
      "source": [
        "### Dataset Description\n",
        "\n",
        "The dataset chosen for this mini project is [default of credit card clients Data Set](https://archive.ics.uci.edu/ml/datasets/default+of+credit+card+clients) with 30000 instances each having 25 attributes.\n",
        "\n"
      ]
    },
    {
      "cell_type": "code",
      "execution_count": null,
      "metadata": {
        "_cell_guid": "79c7e3d0-c299-4dcb-8224-4455121ee9b0",
        "_uuid": "d629ff2d2480ee46fbb7e2d37f6b5fab8052498a",
        "execution": {
          "iopub.execute_input": "2020-12-05T22:24:16.523522Z",
          "iopub.status.busy": "2020-12-05T22:24:16.522759Z",
          "iopub.status.idle": "2020-12-05T22:24:17.920125Z",
          "shell.execute_reply": "2020-12-05T22:24:17.918933Z"
        },
        "papermill": {
          "duration": 1.421007,
          "end_time": "2020-12-05T22:24:17.920272",
          "exception": false,
          "start_time": "2020-12-05T22:24:16.499265",
          "status": "completed"
        },
        "tags": [],
        "id": "PjDTpmCTHBo9"
      },
      "outputs": [],
      "source": [
        "# import the libraries used for machine learning\n",
        "import numpy as np\n",
        "import pandas as pd\n",
        "import scipy.optimize as opt\n",
        "\n",
        "import matplotlib.pyplot as plt\n",
        "import seaborn as sns\n",
        "from pandas import set_option\n",
        "from pandas_profiling import ProfileReport\n",
        "plt.style.use('ggplot')\n",
        "\n",
        "\n",
        "from sklearn.preprocessing import StandardScaler\n",
        "from sklearn.model_selection import train_test_split\n",
        "\n",
        "from sklearn.linear_model import LogisticRegression\n",
        "from sklearn.svm import SVC\n",
        "from sklearn.neural_network import MLPClassifier\n",
        "from sklearn.model_selection import KFold \n",
        "from sklearn.ensemble import RandomForestClassifier\n",
        "import xgboost as xgb\n",
        "from xgboost import XGBClassifier\n",
        "from sklearn.model_selection import cross_val_score\n",
        "from sklearn.metrics import classification_report\n",
        "from sklearn.metrics import confusion_matrix\n",
        "from sklearn.metrics import plot_precision_recall_curve\n",
        "from sklearn.metrics import roc_curve\n",
        "\n",
        "import os"
      ]
    },
    {
      "cell_type": "markdown",
      "source": [
        "**Exercise 1**: Load the data show the top few rows of the dataframe.  (1 point)"
      ],
      "metadata": {
        "id": "NcrPoZuecj4F"
      }
    },
    {
      "cell_type": "code",
      "source": [
        "from google.colab import files\n",
        "uploaded = files.upload()"
      ],
      "metadata": {
        "colab": {
          "resources": {
            "http://localhost:8080/nbextensions/google.colab/files.js": {
              "data": "Ly8gQ29weXJpZ2h0IDIwMTcgR29vZ2xlIExMQwovLwovLyBMaWNlbnNlZCB1bmRlciB0aGUgQXBhY2hlIExpY2Vuc2UsIFZlcnNpb24gMi4wICh0aGUgIkxpY2Vuc2UiKTsKLy8geW91IG1heSBub3QgdXNlIHRoaXMgZmlsZSBleGNlcHQgaW4gY29tcGxpYW5jZSB3aXRoIHRoZSBMaWNlbnNlLgovLyBZb3UgbWF5IG9idGFpbiBhIGNvcHkgb2YgdGhlIExpY2Vuc2UgYXQKLy8KLy8gICAgICBodHRwOi8vd3d3LmFwYWNoZS5vcmcvbGljZW5zZXMvTElDRU5TRS0yLjAKLy8KLy8gVW5sZXNzIHJlcXVpcmVkIGJ5IGFwcGxpY2FibGUgbGF3IG9yIGFncmVlZCB0byBpbiB3cml0aW5nLCBzb2Z0d2FyZQovLyBkaXN0cmlidXRlZCB1bmRlciB0aGUgTGljZW5zZSBpcyBkaXN0cmlidXRlZCBvbiBhbiAiQVMgSVMiIEJBU0lTLAovLyBXSVRIT1VUIFdBUlJBTlRJRVMgT1IgQ09ORElUSU9OUyBPRiBBTlkgS0lORCwgZWl0aGVyIGV4cHJlc3Mgb3IgaW1wbGllZC4KLy8gU2VlIHRoZSBMaWNlbnNlIGZvciB0aGUgc3BlY2lmaWMgbGFuZ3VhZ2UgZ292ZXJuaW5nIHBlcm1pc3Npb25zIGFuZAovLyBsaW1pdGF0aW9ucyB1bmRlciB0aGUgTGljZW5zZS4KCi8qKgogKiBAZmlsZW92ZXJ2aWV3IEhlbHBlcnMgZm9yIGdvb2dsZS5jb2xhYiBQeXRob24gbW9kdWxlLgogKi8KKGZ1bmN0aW9uKHNjb3BlKSB7CmZ1bmN0aW9uIHNwYW4odGV4dCwgc3R5bGVBdHRyaWJ1dGVzID0ge30pIHsKICBjb25zdCBlbGVtZW50ID0gZG9jdW1lbnQuY3JlYXRlRWxlbWVudCgnc3BhbicpOwogIGVsZW1lbnQudGV4dENvbnRlbnQgPSB0ZXh0OwogIGZvciAoY29uc3Qga2V5IG9mIE9iamVjdC5rZXlzKHN0eWxlQXR0cmlidXRlcykpIHsKICAgIGVsZW1lbnQuc3R5bGVba2V5XSA9IHN0eWxlQXR0cmlidXRlc1trZXldOwogIH0KICByZXR1cm4gZWxlbWVudDsKfQoKLy8gTWF4IG51bWJlciBvZiBieXRlcyB3aGljaCB3aWxsIGJlIHVwbG9hZGVkIGF0IGEgdGltZS4KY29uc3QgTUFYX1BBWUxPQURfU0laRSA9IDEwMCAqIDEwMjQ7CgpmdW5jdGlvbiBfdXBsb2FkRmlsZXMoaW5wdXRJZCwgb3V0cHV0SWQpIHsKICBjb25zdCBzdGVwcyA9IHVwbG9hZEZpbGVzU3RlcChpbnB1dElkLCBvdXRwdXRJZCk7CiAgY29uc3Qgb3V0cHV0RWxlbWVudCA9IGRvY3VtZW50LmdldEVsZW1lbnRCeUlkKG91dHB1dElkKTsKICAvLyBDYWNoZSBzdGVwcyBvbiB0aGUgb3V0cHV0RWxlbWVudCB0byBtYWtlIGl0IGF2YWlsYWJsZSBmb3IgdGhlIG5leHQgY2FsbAogIC8vIHRvIHVwbG9hZEZpbGVzQ29udGludWUgZnJvbSBQeXRob24uCiAgb3V0cHV0RWxlbWVudC5zdGVwcyA9IHN0ZXBzOwoKICByZXR1cm4gX3VwbG9hZEZpbGVzQ29udGludWUob3V0cHV0SWQpOwp9CgovLyBUaGlzIGlzIHJvdWdobHkgYW4gYXN5bmMgZ2VuZXJhdG9yIChub3Qgc3VwcG9ydGVkIGluIHRoZSBicm93c2VyIHlldCksCi8vIHdoZXJlIHRoZXJlIGFyZSBtdWx0aXBsZSBhc3luY2hyb25vdXMgc3RlcHMgYW5kIHRoZSBQeXRob24gc2lkZSBpcyBnb2luZwovLyB0byBwb2xsIGZvciBjb21wbGV0aW9uIG9mIGVhY2ggc3RlcC4KLy8gVGhpcyB1c2VzIGEgUHJvbWlzZSB0byBibG9jayB0aGUgcHl0aG9uIHNpZGUgb24gY29tcGxldGlvbiBvZiBlYWNoIHN0ZXAsCi8vIHRoZW4gcGFzc2VzIHRoZSByZXN1bHQgb2YgdGhlIHByZXZpb3VzIHN0ZXAgYXMgdGhlIGlucHV0IHRvIHRoZSBuZXh0IHN0ZXAuCmZ1bmN0aW9uIF91cGxvYWRGaWxlc0NvbnRpbnVlKG91dHB1dElkKSB7CiAgY29uc3Qgb3V0cHV0RWxlbWVudCA9IGRvY3VtZW50LmdldEVsZW1lbnRCeUlkKG91dHB1dElkKTsKICBjb25zdCBzdGVwcyA9IG91dHB1dEVsZW1lbnQuc3RlcHM7CgogIGNvbnN0IG5leHQgPSBzdGVwcy5uZXh0KG91dHB1dEVsZW1lbnQubGFzdFByb21pc2VWYWx1ZSk7CiAgcmV0dXJuIFByb21pc2UucmVzb2x2ZShuZXh0LnZhbHVlLnByb21pc2UpLnRoZW4oKHZhbHVlKSA9PiB7CiAgICAvLyBDYWNoZSB0aGUgbGFzdCBwcm9taXNlIHZhbHVlIHRvIG1ha2UgaXQgYXZhaWxhYmxlIHRvIHRoZSBuZXh0CiAgICAvLyBzdGVwIG9mIHRoZSBnZW5lcmF0b3IuCiAgICBvdXRwdXRFbGVtZW50Lmxhc3RQcm9taXNlVmFsdWUgPSB2YWx1ZTsKICAgIHJldHVybiBuZXh0LnZhbHVlLnJlc3BvbnNlOwogIH0pOwp9CgovKioKICogR2VuZXJhdG9yIGZ1bmN0aW9uIHdoaWNoIGlzIGNhbGxlZCBiZXR3ZWVuIGVhY2ggYXN5bmMgc3RlcCBvZiB0aGUgdXBsb2FkCiAqIHByb2Nlc3MuCiAqIEBwYXJhbSB7c3RyaW5nfSBpbnB1dElkIEVsZW1lbnQgSUQgb2YgdGhlIGlucHV0IGZpbGUgcGlja2VyIGVsZW1lbnQuCiAqIEBwYXJhbSB7c3RyaW5nfSBvdXRwdXRJZCBFbGVtZW50IElEIG9mIHRoZSBvdXRwdXQgZGlzcGxheS4KICogQHJldHVybiB7IUl0ZXJhYmxlPCFPYmplY3Q+fSBJdGVyYWJsZSBvZiBuZXh0IHN0ZXBzLgogKi8KZnVuY3Rpb24qIHVwbG9hZEZpbGVzU3RlcChpbnB1dElkLCBvdXRwdXRJZCkgewogIGNvbnN0IGlucHV0RWxlbWVudCA9IGRvY3VtZW50LmdldEVsZW1lbnRCeUlkKGlucHV0SWQpOwogIGlucHV0RWxlbWVudC5kaXNhYmxlZCA9IGZhbHNlOwoKICBjb25zdCBvdXRwdXRFbGVtZW50ID0gZG9jdW1lbnQuZ2V0RWxlbWVudEJ5SWQob3V0cHV0SWQpOwogIG91dHB1dEVsZW1lbnQuaW5uZXJIVE1MID0gJyc7CgogIGNvbnN0IHBpY2tlZFByb21pc2UgPSBuZXcgUHJvbWlzZSgocmVzb2x2ZSkgPT4gewogICAgaW5wdXRFbGVtZW50LmFkZEV2ZW50TGlzdGVuZXIoJ2NoYW5nZScsIChlKSA9PiB7CiAgICAgIHJlc29sdmUoZS50YXJnZXQuZmlsZXMpOwogICAgfSk7CiAgfSk7CgogIGNvbnN0IGNhbmNlbCA9IGRvY3VtZW50LmNyZWF0ZUVsZW1lbnQoJ2J1dHRvbicpOwogIGlucHV0RWxlbWVudC5wYXJlbnRFbGVtZW50LmFwcGVuZENoaWxkKGNhbmNlbCk7CiAgY2FuY2VsLnRleHRDb250ZW50ID0gJ0NhbmNlbCB1cGxvYWQnOwogIGNvbnN0IGNhbmNlbFByb21pc2UgPSBuZXcgUHJvbWlzZSgocmVzb2x2ZSkgPT4gewogICAgY2FuY2VsLm9uY2xpY2sgPSAoKSA9PiB7CiAgICAgIHJlc29sdmUobnVsbCk7CiAgICB9OwogIH0pOwoKICAvLyBXYWl0IGZvciB0aGUgdXNlciB0byBwaWNrIHRoZSBmaWxlcy4KICBjb25zdCBmaWxlcyA9IHlpZWxkIHsKICAgIHByb21pc2U6IFByb21pc2UucmFjZShbcGlja2VkUHJvbWlzZSwgY2FuY2VsUHJvbWlzZV0pLAogICAgcmVzcG9uc2U6IHsKICAgICAgYWN0aW9uOiAnc3RhcnRpbmcnLAogICAgfQogIH07CgogIGNhbmNlbC5yZW1vdmUoKTsKCiAgLy8gRGlzYWJsZSB0aGUgaW5wdXQgZWxlbWVudCBzaW5jZSBmdXJ0aGVyIHBpY2tzIGFyZSBub3QgYWxsb3dlZC4KICBpbnB1dEVsZW1lbnQuZGlzYWJsZWQgPSB0cnVlOwoKICBpZiAoIWZpbGVzKSB7CiAgICByZXR1cm4gewogICAgICByZXNwb25zZTogewogICAgICAgIGFjdGlvbjogJ2NvbXBsZXRlJywKICAgICAgfQogICAgfTsKICB9CgogIGZvciAoY29uc3QgZmlsZSBvZiBmaWxlcykgewogICAgY29uc3QgbGkgPSBkb2N1bWVudC5jcmVhdGVFbGVtZW50KCdsaScpOwogICAgbGkuYXBwZW5kKHNwYW4oZmlsZS5uYW1lLCB7Zm9udFdlaWdodDogJ2JvbGQnfSkpOwogICAgbGkuYXBwZW5kKHNwYW4oCiAgICAgICAgYCgke2ZpbGUudHlwZSB8fCAnbi9hJ30pIC0gJHtmaWxlLnNpemV9IGJ5dGVzLCBgICsKICAgICAgICBgbGFzdCBtb2RpZmllZDogJHsKICAgICAgICAgICAgZmlsZS5sYXN0TW9kaWZpZWREYXRlID8gZmlsZS5sYXN0TW9kaWZpZWREYXRlLnRvTG9jYWxlRGF0ZVN0cmluZygpIDoKICAgICAgICAgICAgICAgICAgICAgICAgICAgICAgICAgICAgJ24vYSd9IC0gYCkpOwogICAgY29uc3QgcGVyY2VudCA9IHNwYW4oJzAlIGRvbmUnKTsKICAgIGxpLmFwcGVuZENoaWxkKHBlcmNlbnQpOwoKICAgIG91dHB1dEVsZW1lbnQuYXBwZW5kQ2hpbGQobGkpOwoKICAgIGNvbnN0IGZpbGVEYXRhUHJvbWlzZSA9IG5ldyBQcm9taXNlKChyZXNvbHZlKSA9PiB7CiAgICAgIGNvbnN0IHJlYWRlciA9IG5ldyBGaWxlUmVhZGVyKCk7CiAgICAgIHJlYWRlci5vbmxvYWQgPSAoZSkgPT4gewogICAgICAgIHJlc29sdmUoZS50YXJnZXQucmVzdWx0KTsKICAgICAgfTsKICAgICAgcmVhZGVyLnJlYWRBc0FycmF5QnVmZmVyKGZpbGUpOwogICAgfSk7CiAgICAvLyBXYWl0IGZvciB0aGUgZGF0YSB0byBiZSByZWFkeS4KICAgIGxldCBmaWxlRGF0YSA9IHlpZWxkIHsKICAgICAgcHJvbWlzZTogZmlsZURhdGFQcm9taXNlLAogICAgICByZXNwb25zZTogewogICAgICAgIGFjdGlvbjogJ2NvbnRpbnVlJywKICAgICAgfQogICAgfTsKCiAgICAvLyBVc2UgYSBjaHVua2VkIHNlbmRpbmcgdG8gYXZvaWQgbWVzc2FnZSBzaXplIGxpbWl0cy4gU2VlIGIvNjIxMTU2NjAuCiAgICBsZXQgcG9zaXRpb24gPSAwOwogICAgZG8gewogICAgICBjb25zdCBsZW5ndGggPSBNYXRoLm1pbihmaWxlRGF0YS5ieXRlTGVuZ3RoIC0gcG9zaXRpb24sIE1BWF9QQVlMT0FEX1NJWkUpOwogICAgICBjb25zdCBjaHVuayA9IG5ldyBVaW50OEFycmF5KGZpbGVEYXRhLCBwb3NpdGlvbiwgbGVuZ3RoKTsKICAgICAgcG9zaXRpb24gKz0gbGVuZ3RoOwoKICAgICAgY29uc3QgYmFzZTY0ID0gYnRvYShTdHJpbmcuZnJvbUNoYXJDb2RlLmFwcGx5KG51bGwsIGNodW5rKSk7CiAgICAgIHlpZWxkIHsKICAgICAgICByZXNwb25zZTogewogICAgICAgICAgYWN0aW9uOiAnYXBwZW5kJywKICAgICAgICAgIGZpbGU6IGZpbGUubmFtZSwKICAgICAgICAgIGRhdGE6IGJhc2U2NCwKICAgICAgICB9LAogICAgICB9OwoKICAgICAgbGV0IHBlcmNlbnREb25lID0gZmlsZURhdGEuYnl0ZUxlbmd0aCA9PT0gMCA/CiAgICAgICAgICAxMDAgOgogICAgICAgICAgTWF0aC5yb3VuZCgocG9zaXRpb24gLyBmaWxlRGF0YS5ieXRlTGVuZ3RoKSAqIDEwMCk7CiAgICAgIHBlcmNlbnQudGV4dENvbnRlbnQgPSBgJHtwZXJjZW50RG9uZX0lIGRvbmVgOwoKICAgIH0gd2hpbGUgKHBvc2l0aW9uIDwgZmlsZURhdGEuYnl0ZUxlbmd0aCk7CiAgfQoKICAvLyBBbGwgZG9uZS4KICB5aWVsZCB7CiAgICByZXNwb25zZTogewogICAgICBhY3Rpb246ICdjb21wbGV0ZScsCiAgICB9CiAgfTsKfQoKc2NvcGUuZ29vZ2xlID0gc2NvcGUuZ29vZ2xlIHx8IHt9OwpzY29wZS5nb29nbGUuY29sYWIgPSBzY29wZS5nb29nbGUuY29sYWIgfHwge307CnNjb3BlLmdvb2dsZS5jb2xhYi5fZmlsZXMgPSB7CiAgX3VwbG9hZEZpbGVzLAogIF91cGxvYWRGaWxlc0NvbnRpbnVlLAp9Owp9KShzZWxmKTsK",
              "ok": true,
              "headers": [
                [
                  "content-type",
                  "application/javascript"
                ]
              ],
              "status": 200,
              "status_text": ""
            }
          },
          "base_uri": "https://localhost:8080/",
          "height": 73
        },
        "id": "pkXH17aAHQR2",
        "outputId": "25a70717-c2a3-4a7f-9e24-24257a3d0a7b"
      },
      "execution_count": null,
      "outputs": [
        {
          "output_type": "display_data",
          "data": {
            "text/html": [
              "\n",
              "     <input type=\"file\" id=\"files-0b156959-a119-4ece-92e2-01eabc936920\" name=\"files[]\" multiple disabled\n",
              "        style=\"border:none\" />\n",
              "     <output id=\"result-0b156959-a119-4ece-92e2-01eabc936920\">\n",
              "      Upload widget is only available when the cell has been executed in the\n",
              "      current browser session. Please rerun this cell to enable.\n",
              "      </output>\n",
              "      <script src=\"/nbextensions/google.colab/files.js\"></script> "
            ],
            "text/plain": [
              "<IPython.core.display.HTML object>"
            ]
          },
          "metadata": {}
        },
        {
          "output_type": "stream",
          "name": "stdout",
          "text": [
            "Saving default_of_credit_card_clients.csv to default_of_credit_card_clients.csv\n"
          ]
        }
      ]
    },
    {
      "cell_type": "code",
      "execution_count": null,
      "metadata": {
        "execution": {
          "iopub.execute_input": "2020-12-05T22:24:17.968982Z",
          "iopub.status.busy": "2020-12-05T22:24:17.968148Z",
          "iopub.status.idle": "2020-12-05T22:24:18.149989Z",
          "shell.execute_reply": "2020-12-05T22:24:18.149238Z"
        },
        "papermill": {
          "duration": 0.212996,
          "end_time": "2020-12-05T22:24:18.150129",
          "exception": false,
          "start_time": "2020-12-05T22:24:17.937133",
          "status": "completed"
        },
        "tags": [],
        "id": "ebO2P6SPHBo_"
      },
      "outputs": [],
      "source": [
        "data = pd.read_csv('default_of_credit_card_clients.csv')"
      ]
    },
    {
      "cell_type": "code",
      "execution_count": null,
      "metadata": {
        "execution": {
          "iopub.execute_input": "2020-12-05T22:24:18.204891Z",
          "iopub.status.busy": "2020-12-05T22:24:18.204031Z",
          "iopub.status.idle": "2020-12-05T22:24:18.260194Z",
          "shell.execute_reply": "2020-12-05T22:24:18.261053Z"
        },
        "papermill": {
          "duration": 0.094677,
          "end_time": "2020-12-05T22:24:18.261263",
          "exception": false,
          "start_time": "2020-12-05T22:24:18.166586",
          "status": "completed"
        },
        "tags": [],
        "colab": {
          "base_uri": "https://localhost:8080/",
          "height": 423
        },
        "id": "qp_FMBj9HBpA",
        "outputId": "e6f1173c-0c9a-4ca6-db2b-0450898b61f0"
      },
      "outputs": [
        {
          "output_type": "execute_result",
          "data": {
            "text/html": [
              "\n",
              "  <div id=\"df-8e25133a-2689-4347-8581-bfddd025fa61\">\n",
              "    <div class=\"colab-df-container\">\n",
              "      <div>\n",
              "<style scoped>\n",
              "    .dataframe tbody tr th:only-of-type {\n",
              "        vertical-align: middle;\n",
              "    }\n",
              "\n",
              "    .dataframe tbody tr th {\n",
              "        vertical-align: top;\n",
              "    }\n",
              "\n",
              "    .dataframe thead th {\n",
              "        text-align: right;\n",
              "    }\n",
              "</style>\n",
              "<table border=\"1\" class=\"dataframe\">\n",
              "  <thead>\n",
              "    <tr style=\"text-align: right;\">\n",
              "      <th></th>\n",
              "      <th>Unnamed: 0</th>\n",
              "      <th>X1</th>\n",
              "      <th>X2</th>\n",
              "      <th>X3</th>\n",
              "      <th>X4</th>\n",
              "      <th>X5</th>\n",
              "      <th>X6</th>\n",
              "      <th>X7</th>\n",
              "      <th>X8</th>\n",
              "      <th>X9</th>\n",
              "      <th>X10</th>\n",
              "      <th>X11</th>\n",
              "      <th>X12</th>\n",
              "      <th>X13</th>\n",
              "      <th>X14</th>\n",
              "      <th>X15</th>\n",
              "      <th>X16</th>\n",
              "      <th>X17</th>\n",
              "      <th>X18</th>\n",
              "      <th>X19</th>\n",
              "      <th>X20</th>\n",
              "      <th>X21</th>\n",
              "      <th>X22</th>\n",
              "      <th>X23</th>\n",
              "      <th>Y</th>\n",
              "    </tr>\n",
              "  </thead>\n",
              "  <tbody>\n",
              "    <tr>\n",
              "      <th>1</th>\n",
              "      <td>1</td>\n",
              "      <td>20000</td>\n",
              "      <td>2</td>\n",
              "      <td>2</td>\n",
              "      <td>1</td>\n",
              "      <td>24</td>\n",
              "      <td>2</td>\n",
              "      <td>2</td>\n",
              "      <td>-1</td>\n",
              "      <td>-1</td>\n",
              "      <td>-2</td>\n",
              "      <td>-2</td>\n",
              "      <td>3913</td>\n",
              "      <td>3102</td>\n",
              "      <td>689</td>\n",
              "      <td>0</td>\n",
              "      <td>0</td>\n",
              "      <td>0</td>\n",
              "      <td>0</td>\n",
              "      <td>689</td>\n",
              "      <td>0</td>\n",
              "      <td>0</td>\n",
              "      <td>0</td>\n",
              "      <td>0</td>\n",
              "      <td>1</td>\n",
              "    </tr>\n",
              "    <tr>\n",
              "      <th>2</th>\n",
              "      <td>2</td>\n",
              "      <td>120000</td>\n",
              "      <td>2</td>\n",
              "      <td>2</td>\n",
              "      <td>2</td>\n",
              "      <td>26</td>\n",
              "      <td>-1</td>\n",
              "      <td>2</td>\n",
              "      <td>0</td>\n",
              "      <td>0</td>\n",
              "      <td>0</td>\n",
              "      <td>2</td>\n",
              "      <td>2682</td>\n",
              "      <td>1725</td>\n",
              "      <td>2682</td>\n",
              "      <td>3272</td>\n",
              "      <td>3455</td>\n",
              "      <td>3261</td>\n",
              "      <td>0</td>\n",
              "      <td>1000</td>\n",
              "      <td>1000</td>\n",
              "      <td>1000</td>\n",
              "      <td>0</td>\n",
              "      <td>2000</td>\n",
              "      <td>1</td>\n",
              "    </tr>\n",
              "    <tr>\n",
              "      <th>3</th>\n",
              "      <td>3</td>\n",
              "      <td>90000</td>\n",
              "      <td>2</td>\n",
              "      <td>2</td>\n",
              "      <td>2</td>\n",
              "      <td>34</td>\n",
              "      <td>0</td>\n",
              "      <td>0</td>\n",
              "      <td>0</td>\n",
              "      <td>0</td>\n",
              "      <td>0</td>\n",
              "      <td>0</td>\n",
              "      <td>29239</td>\n",
              "      <td>14027</td>\n",
              "      <td>13559</td>\n",
              "      <td>14331</td>\n",
              "      <td>14948</td>\n",
              "      <td>15549</td>\n",
              "      <td>1518</td>\n",
              "      <td>1500</td>\n",
              "      <td>1000</td>\n",
              "      <td>1000</td>\n",
              "      <td>1000</td>\n",
              "      <td>5000</td>\n",
              "      <td>0</td>\n",
              "    </tr>\n",
              "    <tr>\n",
              "      <th>4</th>\n",
              "      <td>4</td>\n",
              "      <td>50000</td>\n",
              "      <td>2</td>\n",
              "      <td>2</td>\n",
              "      <td>1</td>\n",
              "      <td>37</td>\n",
              "      <td>0</td>\n",
              "      <td>0</td>\n",
              "      <td>0</td>\n",
              "      <td>0</td>\n",
              "      <td>0</td>\n",
              "      <td>0</td>\n",
              "      <td>46990</td>\n",
              "      <td>48233</td>\n",
              "      <td>49291</td>\n",
              "      <td>28314</td>\n",
              "      <td>28959</td>\n",
              "      <td>29547</td>\n",
              "      <td>2000</td>\n",
              "      <td>2019</td>\n",
              "      <td>1200</td>\n",
              "      <td>1100</td>\n",
              "      <td>1069</td>\n",
              "      <td>1000</td>\n",
              "      <td>0</td>\n",
              "    </tr>\n",
              "    <tr>\n",
              "      <th>5</th>\n",
              "      <td>5</td>\n",
              "      <td>50000</td>\n",
              "      <td>1</td>\n",
              "      <td>2</td>\n",
              "      <td>1</td>\n",
              "      <td>57</td>\n",
              "      <td>-1</td>\n",
              "      <td>0</td>\n",
              "      <td>-1</td>\n",
              "      <td>0</td>\n",
              "      <td>0</td>\n",
              "      <td>0</td>\n",
              "      <td>8617</td>\n",
              "      <td>5670</td>\n",
              "      <td>35835</td>\n",
              "      <td>20940</td>\n",
              "      <td>19146</td>\n",
              "      <td>19131</td>\n",
              "      <td>2000</td>\n",
              "      <td>36681</td>\n",
              "      <td>10000</td>\n",
              "      <td>9000</td>\n",
              "      <td>689</td>\n",
              "      <td>679</td>\n",
              "      <td>0</td>\n",
              "    </tr>\n",
              "    <tr>\n",
              "      <th>...</th>\n",
              "      <td>...</td>\n",
              "      <td>...</td>\n",
              "      <td>...</td>\n",
              "      <td>...</td>\n",
              "      <td>...</td>\n",
              "      <td>...</td>\n",
              "      <td>...</td>\n",
              "      <td>...</td>\n",
              "      <td>...</td>\n",
              "      <td>...</td>\n",
              "      <td>...</td>\n",
              "      <td>...</td>\n",
              "      <td>...</td>\n",
              "      <td>...</td>\n",
              "      <td>...</td>\n",
              "      <td>...</td>\n",
              "      <td>...</td>\n",
              "      <td>...</td>\n",
              "      <td>...</td>\n",
              "      <td>...</td>\n",
              "      <td>...</td>\n",
              "      <td>...</td>\n",
              "      <td>...</td>\n",
              "      <td>...</td>\n",
              "      <td>...</td>\n",
              "    </tr>\n",
              "    <tr>\n",
              "      <th>29996</th>\n",
              "      <td>29996</td>\n",
              "      <td>220000</td>\n",
              "      <td>1</td>\n",
              "      <td>3</td>\n",
              "      <td>1</td>\n",
              "      <td>39</td>\n",
              "      <td>0</td>\n",
              "      <td>0</td>\n",
              "      <td>0</td>\n",
              "      <td>0</td>\n",
              "      <td>0</td>\n",
              "      <td>0</td>\n",
              "      <td>188948</td>\n",
              "      <td>192815</td>\n",
              "      <td>208365</td>\n",
              "      <td>88004</td>\n",
              "      <td>31237</td>\n",
              "      <td>15980</td>\n",
              "      <td>8500</td>\n",
              "      <td>20000</td>\n",
              "      <td>5003</td>\n",
              "      <td>3047</td>\n",
              "      <td>5000</td>\n",
              "      <td>1000</td>\n",
              "      <td>0</td>\n",
              "    </tr>\n",
              "    <tr>\n",
              "      <th>29997</th>\n",
              "      <td>29997</td>\n",
              "      <td>150000</td>\n",
              "      <td>1</td>\n",
              "      <td>3</td>\n",
              "      <td>2</td>\n",
              "      <td>43</td>\n",
              "      <td>-1</td>\n",
              "      <td>-1</td>\n",
              "      <td>-1</td>\n",
              "      <td>-1</td>\n",
              "      <td>0</td>\n",
              "      <td>0</td>\n",
              "      <td>1683</td>\n",
              "      <td>1828</td>\n",
              "      <td>3502</td>\n",
              "      <td>8979</td>\n",
              "      <td>5190</td>\n",
              "      <td>0</td>\n",
              "      <td>1837</td>\n",
              "      <td>3526</td>\n",
              "      <td>8998</td>\n",
              "      <td>129</td>\n",
              "      <td>0</td>\n",
              "      <td>0</td>\n",
              "      <td>0</td>\n",
              "    </tr>\n",
              "    <tr>\n",
              "      <th>29998</th>\n",
              "      <td>29998</td>\n",
              "      <td>30000</td>\n",
              "      <td>1</td>\n",
              "      <td>2</td>\n",
              "      <td>2</td>\n",
              "      <td>37</td>\n",
              "      <td>4</td>\n",
              "      <td>3</td>\n",
              "      <td>2</td>\n",
              "      <td>-1</td>\n",
              "      <td>0</td>\n",
              "      <td>0</td>\n",
              "      <td>3565</td>\n",
              "      <td>3356</td>\n",
              "      <td>2758</td>\n",
              "      <td>20878</td>\n",
              "      <td>20582</td>\n",
              "      <td>19357</td>\n",
              "      <td>0</td>\n",
              "      <td>0</td>\n",
              "      <td>22000</td>\n",
              "      <td>4200</td>\n",
              "      <td>2000</td>\n",
              "      <td>3100</td>\n",
              "      <td>1</td>\n",
              "    </tr>\n",
              "    <tr>\n",
              "      <th>29999</th>\n",
              "      <td>29999</td>\n",
              "      <td>80000</td>\n",
              "      <td>1</td>\n",
              "      <td>3</td>\n",
              "      <td>1</td>\n",
              "      <td>41</td>\n",
              "      <td>1</td>\n",
              "      <td>-1</td>\n",
              "      <td>0</td>\n",
              "      <td>0</td>\n",
              "      <td>0</td>\n",
              "      <td>-1</td>\n",
              "      <td>-1645</td>\n",
              "      <td>78379</td>\n",
              "      <td>76304</td>\n",
              "      <td>52774</td>\n",
              "      <td>11855</td>\n",
              "      <td>48944</td>\n",
              "      <td>85900</td>\n",
              "      <td>3409</td>\n",
              "      <td>1178</td>\n",
              "      <td>1926</td>\n",
              "      <td>52964</td>\n",
              "      <td>1804</td>\n",
              "      <td>1</td>\n",
              "    </tr>\n",
              "    <tr>\n",
              "      <th>30000</th>\n",
              "      <td>30000</td>\n",
              "      <td>50000</td>\n",
              "      <td>1</td>\n",
              "      <td>2</td>\n",
              "      <td>1</td>\n",
              "      <td>46</td>\n",
              "      <td>0</td>\n",
              "      <td>0</td>\n",
              "      <td>0</td>\n",
              "      <td>0</td>\n",
              "      <td>0</td>\n",
              "      <td>0</td>\n",
              "      <td>47929</td>\n",
              "      <td>48905</td>\n",
              "      <td>49764</td>\n",
              "      <td>36535</td>\n",
              "      <td>32428</td>\n",
              "      <td>15313</td>\n",
              "      <td>2078</td>\n",
              "      <td>1800</td>\n",
              "      <td>1430</td>\n",
              "      <td>1000</td>\n",
              "      <td>1000</td>\n",
              "      <td>1000</td>\n",
              "      <td>1</td>\n",
              "    </tr>\n",
              "  </tbody>\n",
              "</table>\n",
              "<p>30000 rows × 25 columns</p>\n",
              "</div>\n",
              "      <button class=\"colab-df-convert\" onclick=\"convertToInteractive('df-8e25133a-2689-4347-8581-bfddd025fa61')\"\n",
              "              title=\"Convert this dataframe to an interactive table.\"\n",
              "              style=\"display:none;\">\n",
              "        \n",
              "  <svg xmlns=\"http://www.w3.org/2000/svg\" height=\"24px\"viewBox=\"0 0 24 24\"\n",
              "       width=\"24px\">\n",
              "    <path d=\"M0 0h24v24H0V0z\" fill=\"none\"/>\n",
              "    <path d=\"M18.56 5.44l.94 2.06.94-2.06 2.06-.94-2.06-.94-.94-2.06-.94 2.06-2.06.94zm-11 1L8.5 8.5l.94-2.06 2.06-.94-2.06-.94L8.5 2.5l-.94 2.06-2.06.94zm10 10l.94 2.06.94-2.06 2.06-.94-2.06-.94-.94-2.06-.94 2.06-2.06.94z\"/><path d=\"M17.41 7.96l-1.37-1.37c-.4-.4-.92-.59-1.43-.59-.52 0-1.04.2-1.43.59L10.3 9.45l-7.72 7.72c-.78.78-.78 2.05 0 2.83L4 21.41c.39.39.9.59 1.41.59.51 0 1.02-.2 1.41-.59l7.78-7.78 2.81-2.81c.8-.78.8-2.07 0-2.86zM5.41 20L4 18.59l7.72-7.72 1.47 1.35L5.41 20z\"/>\n",
              "  </svg>\n",
              "      </button>\n",
              "      \n",
              "  <style>\n",
              "    .colab-df-container {\n",
              "      display:flex;\n",
              "      flex-wrap:wrap;\n",
              "      gap: 12px;\n",
              "    }\n",
              "\n",
              "    .colab-df-convert {\n",
              "      background-color: #E8F0FE;\n",
              "      border: none;\n",
              "      border-radius: 50%;\n",
              "      cursor: pointer;\n",
              "      display: none;\n",
              "      fill: #1967D2;\n",
              "      height: 32px;\n",
              "      padding: 0 0 0 0;\n",
              "      width: 32px;\n",
              "    }\n",
              "\n",
              "    .colab-df-convert:hover {\n",
              "      background-color: #E2EBFA;\n",
              "      box-shadow: 0px 1px 2px rgba(60, 64, 67, 0.3), 0px 1px 3px 1px rgba(60, 64, 67, 0.15);\n",
              "      fill: #174EA6;\n",
              "    }\n",
              "\n",
              "    [theme=dark] .colab-df-convert {\n",
              "      background-color: #3B4455;\n",
              "      fill: #D2E3FC;\n",
              "    }\n",
              "\n",
              "    [theme=dark] .colab-df-convert:hover {\n",
              "      background-color: #434B5C;\n",
              "      box-shadow: 0px 1px 3px 1px rgba(0, 0, 0, 0.15);\n",
              "      filter: drop-shadow(0px 1px 2px rgba(0, 0, 0, 0.3));\n",
              "      fill: #FFFFFF;\n",
              "    }\n",
              "  </style>\n",
              "\n",
              "      <script>\n",
              "        const buttonEl =\n",
              "          document.querySelector('#df-8e25133a-2689-4347-8581-bfddd025fa61 button.colab-df-convert');\n",
              "        buttonEl.style.display =\n",
              "          google.colab.kernel.accessAllowed ? 'block' : 'none';\n",
              "\n",
              "        async function convertToInteractive(key) {\n",
              "          const element = document.querySelector('#df-8e25133a-2689-4347-8581-bfddd025fa61');\n",
              "          const dataTable =\n",
              "            await google.colab.kernel.invokeFunction('convertToInteractive',\n",
              "                                                     [key], {});\n",
              "          if (!dataTable) return;\n",
              "\n",
              "          const docLinkHtml = 'Like what you see? Visit the ' +\n",
              "            '<a target=\"_blank\" href=https://colab.research.google.com/notebooks/data_table.ipynb>data table notebook</a>'\n",
              "            + ' to learn more about interactive tables.';\n",
              "          element.innerHTML = '';\n",
              "          dataTable['output_type'] = 'display_data';\n",
              "          await google.colab.output.renderOutput(dataTable, element);\n",
              "          const docLink = document.createElement('div');\n",
              "          docLink.innerHTML = docLinkHtml;\n",
              "          element.appendChild(docLink);\n",
              "        }\n",
              "      </script>\n",
              "    </div>\n",
              "  </div>\n",
              "  "
            ],
            "text/plain": [
              "      Unnamed: 0      X1 X2 X3 X4  X5  ...    X19    X20   X21    X22   X23  Y\n",
              "1              1   20000  2  2  1  24  ...    689      0     0      0     0  1\n",
              "2              2  120000  2  2  2  26  ...   1000   1000  1000      0  2000  1\n",
              "3              3   90000  2  2  2  34  ...   1500   1000  1000   1000  5000  0\n",
              "4              4   50000  2  2  1  37  ...   2019   1200  1100   1069  1000  0\n",
              "5              5   50000  1  2  1  57  ...  36681  10000  9000    689   679  0\n",
              "...          ...     ... .. .. ..  ..  ...    ...    ...   ...    ...   ... ..\n",
              "29996      29996  220000  1  3  1  39  ...  20000   5003  3047   5000  1000  0\n",
              "29997      29997  150000  1  3  2  43  ...   3526   8998   129      0     0  0\n",
              "29998      29998   30000  1  2  2  37  ...      0  22000  4200   2000  3100  1\n",
              "29999      29999   80000  1  3  1  41  ...   3409   1178  1926  52964  1804  1\n",
              "30000      30000   50000  1  2  1  46  ...   1800   1430  1000   1000  1000  1\n",
              "\n",
              "[30000 rows x 25 columns]"
            ]
          },
          "metadata": {},
          "execution_count": 4
        }
      ],
      "source": [
        "data = data.drop(labels=0, axis=0)\n",
        "data\n"
      ]
    },
    {
      "cell_type": "markdown",
      "source": [
        "**Exercise 2**: Perform the following\n",
        "\n",
        "- Exploratory Data Analysis (2 points)\n",
        "- Preprocessing (1 point)"
      ],
      "metadata": {
        "id": "29Oq9udac60t"
      }
    },
    {
      "cell_type": "markdown",
      "source": [
        "## Exploratory data analysis\n",
        "\n",
        "there are total 23 explanatory variables and one response variable. Some variable need to be converted to categories. such as.\n",
        "\n",
        "* __Gender(X2)__\n",
        "1 = Male, 2 = Female\n",
        "\n",
        "* __EDUCATION(X3)__\n",
        "1 = graduate school; 2 = university; 3 = high school; 4 = others\n",
        "* __Marital status(X4)__\n",
        "1 = married; 2 = single; 3 = others\n",
        "* __Repayment status(X6-X11)__\n",
        "   -2= no consumption, -1= pay duly, 1 = payment delay for one month, 2 = payment delay for two months, ...,8 = payment delay for eight months,9 = payment delay for nine months and above\n",
        "\n",
        "   these variables should be converted to categorical variable\n"
      ],
      "metadata": {
        "id": "PVtUB23odCz_"
      }
    },
    {
      "cell_type": "code",
      "execution_count": null,
      "metadata": {
        "execution": {
          "iopub.execute_input": "2020-12-05T22:24:18.306512Z",
          "iopub.status.busy": "2020-12-05T22:24:18.305276Z",
          "iopub.status.idle": "2020-12-05T22:24:18.322984Z",
          "shell.execute_reply": "2020-12-05T22:24:18.322225Z"
        },
        "papermill": {
          "duration": 0.040835,
          "end_time": "2020-12-05T22:24:18.323112",
          "exception": false,
          "start_time": "2020-12-05T22:24:18.282277",
          "status": "completed"
        },
        "tags": [],
        "colab": {
          "base_uri": "https://localhost:8080/"
        },
        "id": "NAwfynJcHBpC",
        "outputId": "daeb49f5-48eb-4f55-9676-a8e391aeffc0"
      },
      "outputs": [
        {
          "output_type": "stream",
          "name": "stdout",
          "text": [
            "<class 'pandas.core.frame.DataFrame'>\n",
            "Int64Index: 30000 entries, 1 to 30000\n",
            "Data columns (total 24 columns):\n",
            " #   Column  Non-Null Count  Dtype \n",
            "---  ------  --------------  ----- \n",
            " 0   X1      30000 non-null  object\n",
            " 1   X2      30000 non-null  object\n",
            " 2   X3      30000 non-null  object\n",
            " 3   X4      30000 non-null  object\n",
            " 4   X5      30000 non-null  object\n",
            " 5   X6      30000 non-null  object\n",
            " 6   X7      30000 non-null  object\n",
            " 7   X8      30000 non-null  object\n",
            " 8   X9      30000 non-null  object\n",
            " 9   X10     30000 non-null  object\n",
            " 10  X11     30000 non-null  object\n",
            " 11  X12     30000 non-null  object\n",
            " 12  X13     30000 non-null  object\n",
            " 13  X14     30000 non-null  object\n",
            " 14  X15     30000 non-null  object\n",
            " 15  X16     30000 non-null  object\n",
            " 16  X17     30000 non-null  object\n",
            " 17  X18     30000 non-null  object\n",
            " 18  X19     30000 non-null  object\n",
            " 19  X20     30000 non-null  object\n",
            " 20  X21     30000 non-null  object\n",
            " 21  X22     30000 non-null  object\n",
            " 22  X23     30000 non-null  object\n",
            " 23  Y       30000 non-null  object\n",
            "dtypes: object(24)\n",
            "memory usage: 5.7+ MB\n"
          ]
        }
      ],
      "source": [
        "data.drop('Unnamed: 0', axis = 1, inplace =True) # drop column \"ID\"\n",
        "data.info()"
      ]
    },
    {
      "cell_type": "markdown",
      "source": [
        "### Statistics\n",
        "The detail statistics of the dataset "
      ],
      "metadata": {
        "id": "M6OUV5kGdJ9q"
      }
    },
    {
      "cell_type": "code",
      "source": [
        "print(\"STATISTICS OF NUMERIC COLUMNS\")\n",
        "print()\n",
        "print(data.describe().T)"
      ],
      "metadata": {
        "colab": {
          "base_uri": "https://localhost:8080/"
        },
        "id": "ng6HO4Ofdho_",
        "outputId": "fa08aca7-41a7-4bdf-ab64-adc965003afc"
      },
      "execution_count": null,
      "outputs": [
        {
          "output_type": "stream",
          "name": "stdout",
          "text": [
            "STATISTICS OF NUMERIC COLUMNS\n",
            "\n",
            "     count unique    top   freq\n",
            "X1   30000     81  50000   3365\n",
            "X2   30000      2      2  18112\n",
            "X3   30000      7      2  14030\n",
            "X4   30000      4      2  15964\n",
            "X5   30000     56     29   1605\n",
            "X6   30000     11      0  14737\n",
            "X7   30000     11      0  15730\n",
            "X8   30000     11      0  15764\n",
            "X9   30000     11      0  16455\n",
            "X10  30000     10      0  16947\n",
            "X11  30000     10      0  16286\n",
            "X12  30000  22723      0   2008\n",
            "X13  30000  22346      0   2506\n",
            "X14  30000  22026      0   2870\n",
            "X15  30000  21548      0   3195\n",
            "X16  30000  21010      0   3506\n",
            "X17  30000  20604      0   4020\n",
            "X18  30000   7943      0   5249\n",
            "X19  30000   7899      0   5396\n",
            "X20  30000   7518      0   5968\n",
            "X21  30000   6937      0   6408\n",
            "X22  30000   6897      0   6703\n",
            "X23  30000   6939      0   7173\n",
            "Y    30000      2      0  23364\n"
          ]
        }
      ]
    },
    {
      "cell_type": "code",
      "source": [
        "data.X2.value_counts() # male, female counts"
      ],
      "metadata": {
        "colab": {
          "base_uri": "https://localhost:8080/"
        },
        "id": "7AWT1X3FHyy1",
        "outputId": "267c6e56-5266-4cf6-baf6-8fcd01de6f3c"
      },
      "execution_count": null,
      "outputs": [
        {
          "output_type": "execute_result",
          "data": {
            "text/plain": [
              "2    18112\n",
              "1    11888\n",
              "Name: X2, dtype: int64"
            ]
          },
          "metadata": {},
          "execution_count": 7
        }
      ]
    },
    {
      "cell_type": "code",
      "source": [
        "data.X3.value_counts() #Education categories"
      ],
      "metadata": {
        "colab": {
          "base_uri": "https://localhost:8080/"
        },
        "id": "ZIJ8AKdwIADM",
        "outputId": "99708773-2dd4-4baf-986a-33ff02bc2e7d"
      },
      "execution_count": null,
      "outputs": [
        {
          "output_type": "execute_result",
          "data": {
            "text/plain": [
              "2    14030\n",
              "1    10585\n",
              "3     4917\n",
              "5      280\n",
              "4      123\n",
              "6       51\n",
              "0       14\n",
              "Name: X3, dtype: int64"
            ]
          },
          "metadata": {},
          "execution_count": 8
        }
      ]
    },
    {
      "cell_type": "code",
      "source": [
        "data.X4.value_counts() # Marriage catagories"
      ],
      "metadata": {
        "colab": {
          "base_uri": "https://localhost:8080/"
        },
        "id": "7bAXh64QITt7",
        "outputId": "16d29311-62af-486b-9e57-b30378e2b2a6"
      },
      "execution_count": null,
      "outputs": [
        {
          "output_type": "execute_result",
          "data": {
            "text/plain": [
              "2    15964\n",
              "1    13659\n",
              "3      323\n",
              "0       54\n",
              "Name: X4, dtype: int64"
            ]
          },
          "metadata": {},
          "execution_count": 9
        }
      ]
    },
    {
      "cell_type": "code",
      "source": [
        "data.X6.describe()"
      ],
      "metadata": {
        "colab": {
          "base_uri": "https://localhost:8080/"
        },
        "id": "_wZa00OFInpK",
        "outputId": "2b7745fa-91b6-4fc9-b489-d29e5ea0dd3c"
      },
      "execution_count": null,
      "outputs": [
        {
          "output_type": "execute_result",
          "data": {
            "text/plain": [
              "count     30000\n",
              "unique       11\n",
              "top           0\n",
              "freq      14737\n",
              "Name: X6, dtype: object"
            ]
          },
          "metadata": {},
          "execution_count": 10
        }
      ]
    },
    {
      "cell_type": "markdown",
      "metadata": {
        "papermill": {
          "duration": 0.017445,
          "end_time": "2020-12-05T22:24:18.358487",
          "exception": false,
          "start_time": "2020-12-05T22:24:18.341042",
          "status": "completed"
        },
        "tags": [],
        "id": "gmATdL80HBpC"
      },
      "source": [
        "# Visualization"
      ]
    },
    {
      "cell_type": "code",
      "source": [
        "from IPython.core.pylabtools import figsize\n",
        "# The frequency of defaults\n",
        "yes = (data.Y.value_counts(normalize=True)*100)\n",
        "yes.plot.bar() \n",
        "plt.xticks(fontsize=12, rotation=0)\n",
        "plt.yticks(fontsize=12)\n",
        "plt.title(\"Probability Of Defaulting Payment Next Month\", fontsize=15)\n",
        "for x,y in zip([0,1],yes):\n",
        "    plt.text(x,y,y,fontsize=12)\n",
        "plt.show()"
      ],
      "metadata": {
        "id": "BQC0pJa9oKoR",
        "colab": {
          "base_uri": "https://localhost:8080/",
          "height": 286
        },
        "outputId": "af3f4115-1f5d-4450-ba7f-fb56dd5b2e60"
      },
      "execution_count": null,
      "outputs": [
        {
          "output_type": "display_data",
          "data": {
            "image/png": "[encoded data removed]",
            "text/plain": [
              "<Figure size 432x288 with 1 Axes>"
            ]
          },
          "metadata": {
            "needs_background": "light"
          }
        }
      ]
    },
    {
      "cell_type": "code",
      "source": [
        "plt.subplots(figsize=(20,5))\n",
        "plt.subplot(121)\n",
        "sns.distplot(data.X1) #limit_balance\n",
        "\n",
        "plt.subplot(122)\n",
        "sns.distplot(data.X5) #age\n",
        "\n",
        "plt.show()"
      ],
      "metadata": {
        "colab": {
          "base_uri": "https://localhost:8080/",
          "height": 437
        },
        "id": "f8dsT4QODJG3",
        "outputId": "01f802e3-2409-4110-ce34-2690d8a3abd6"
      },
      "execution_count": null,
      "outputs": [
        {
          "output_type": "stream",
          "name": "stderr",
          "text": [
            "/usr/local/lib/python3.7/dist-packages/seaborn/distributions.py:2619: FutureWarning: `distplot` is a deprecated function and will be removed in a future version. Please adapt your code to use either `displot` (a figure-level function with similar flexibility) or `histplot` (an axes-level function for histograms).\n",
            "  warnings.warn(msg, FutureWarning)\n",
            "/usr/local/lib/python3.7/dist-packages/seaborn/distributions.py:2619: FutureWarning: `distplot` is a deprecated function and will be removed in a future version. Please adapt your code to use either `displot` (a figure-level function with similar flexibility) or `histplot` (an axes-level function for histograms).\n",
            "  warnings.warn(msg, FutureWarning)\n"
          ]
        },
        {
          "output_type": "display_data",
          "data": {
            "image/png": "[encoded data removed]",
            "text/plain": [
              "<Figure size 1440x360 with 2 Axes>"
            ]
          },
          "metadata": {
            "needs_background": "light"
          }
        }
      ]
    },
    {
      "cell_type": "code",
      "execution_count": null,
      "metadata": {
        "execution": {
          "iopub.execute_input": "2020-12-05T22:24:18.402978Z",
          "iopub.status.busy": "2020-12-05T22:24:18.402162Z",
          "iopub.status.idle": "2020-12-05T22:24:21.168368Z",
          "shell.execute_reply": "2020-12-05T22:24:21.168998Z"
        },
        "papermill": {
          "duration": 2.792902,
          "end_time": "2020-12-05T22:24:21.169161",
          "exception": false,
          "start_time": "2020-12-05T22:24:18.376259",
          "status": "completed"
        },
        "tags": [],
        "colab": {
          "base_uri": "https://localhost:8080/",
          "height": 441
        },
        "id": "3BvwbuYHHBpD",
        "outputId": "af40eaac-031f-4fc4-af84-83148048e91b"
      },
      "outputs": [
        {
          "output_type": "display_data",
          "data": {
            "image/png": "[encoded data removed]",
            "text/plain": [
              "<Figure size 864x432 with 8 Axes>"
            ]
          },
          "metadata": {
            "needs_background": "light"
          }
        }
      ],
      "source": [
        "# ploting defaulter(Y), marriage(X4) vs age(X5)\n",
        "\n",
        "                                          \n",
        "g = sns.FacetGrid(data, row='Y', col='X4')\n",
        "g = g.map(plt.hist, 'X5')\n",
        "plt.show()"
      ]
    },
    {
      "cell_type": "code",
      "source": [
        "# ploting defaulter(Y), sex(X2) vs age(X5)\n",
        "g = sns.FacetGrid(data, row='Y', col='X2')\n",
        "g = g.map(plt.hist, 'X5')\n",
        "plt.show()"
      ],
      "metadata": {
        "colab": {
          "base_uri": "https://localhost:8080/",
          "height": 441
        },
        "id": "TnHBw3sujsgW",
        "outputId": "60f1d377-6811-4960-da69-397d40184653"
      },
      "execution_count": null,
      "outputs": [
        {
          "output_type": "display_data",
          "data": {
            "image/png": "[encoded data removed]",
            "text/plain": [
              "<Figure size 432x432 with 4 Axes>"
            ]
          },
          "metadata": {
            "needs_background": "light"
          }
        }
      ]
    },
    {
      "cell_type": "markdown",
      "metadata": {
        "papermill": {
          "duration": 0.024364,
          "end_time": "2020-12-05T22:24:21.218423",
          "exception": false,
          "start_time": "2020-12-05T22:24:21.194059",
          "status": "completed"
        },
        "tags": [],
        "id": "6lhtBgTgHBpD"
      },
      "source": [
        "# Preprocessing"
      ]
    },
    {
      "cell_type": "code",
      "execution_count": null,
      "metadata": {
        "execution": {
          "iopub.execute_input": "2020-12-05T22:24:21.275163Z",
          "iopub.status.busy": "2020-12-05T22:24:21.274351Z",
          "iopub.status.idle": "2020-12-05T22:24:21.278220Z",
          "shell.execute_reply": "2020-12-05T22:24:21.277452Z"
        },
        "papermill": {
          "duration": 0.034976,
          "end_time": "2020-12-05T22:24:21.278344",
          "exception": false,
          "start_time": "2020-12-05T22:24:21.243368",
          "status": "completed"
        },
        "tags": [],
        "colab": {
          "base_uri": "https://localhost:8080/"
        },
        "id": "gss6lkYFHBpD",
        "outputId": "7c3648cc-a706-430d-fa49-97408a1cdb28"
      },
      "outputs": [
        {
          "output_type": "execute_result",
          "data": {
            "text/plain": [
              "dict_items([('X3', 'EDU')])"
            ]
          },
          "metadata": {},
          "execution_count": 16
        }
      ],
      "source": [
        "{'X3': 'EDU'}.items()"
      ]
    },
    {
      "cell_type": "code",
      "execution_count": null,
      "metadata": {
        "execution": {
          "iopub.execute_input": "2020-12-05T22:24:21.337696Z",
          "iopub.status.busy": "2020-12-05T22:24:21.336904Z",
          "iopub.status.idle": "2020-12-05T22:24:21.340647Z",
          "shell.execute_reply": "2020-12-05T22:24:21.339998Z"
        },
        "papermill": {
          "duration": 0.036888,
          "end_time": "2020-12-05T22:24:21.340804",
          "exception": false,
          "start_time": "2020-12-05T22:24:21.303916",
          "status": "completed"
        },
        "tags": [],
        "id": "_w4MGj3gHBpE"
      },
      "outputs": [],
      "source": [
        "def onehot_encode(df, column_dict):\n",
        "    df = df.copy()\n",
        "    for column, prefix in column_dict.items():\n",
        "        dummies = pd.get_dummies(df[column], prefix=prefix)\n",
        "        df = pd.concat([df, dummies], axis=1)\n",
        "        df = df.drop(column, axis=1)\n",
        "    return df"
      ]
    },
    {
      "cell_type": "code",
      "execution_count": null,
      "metadata": {
        "execution": {
          "iopub.execute_input": "2020-12-05T22:24:21.402049Z",
          "iopub.status.busy": "2020-12-05T22:24:21.400977Z",
          "iopub.status.idle": "2020-12-05T22:24:21.404633Z",
          "shell.execute_reply": "2020-12-05T22:24:21.403837Z"
        },
        "papermill": {
          "duration": 0.038303,
          "end_time": "2020-12-05T22:24:21.404782",
          "exception": false,
          "start_time": "2020-12-05T22:24:21.366479",
          "status": "completed"
        },
        "tags": [],
        "id": "S1xBYVknHBpE"
      },
      "outputs": [],
      "source": [
        "def preprocess_inputs(df):\n",
        "    df = df.copy()\n",
        "    \n",
        "    # Drop ID\n",
        "\n",
        "    \n",
        "    df = onehot_encode(\n",
        "        df,\n",
        "        {\n",
        "            'X3': 'EDU',\n",
        "            'X4': 'MAR'\n",
        "        }\n",
        "    )\n",
        "    \n",
        "    # Split df into X and y\n",
        "    y = df['Y'].copy()\n",
        "    X = df.drop('Y', axis=1).copy()\n",
        "    \n",
        "    # Scale X with a standard scaler\n",
        "    scaler = StandardScaler()\n",
        "    X = pd.DataFrame(scaler.fit_transform(X), columns=X.columns)\n",
        "    \n",
        "    return X, y"
      ]
    },
    {
      "cell_type": "code",
      "execution_count": null,
      "metadata": {
        "execution": {
          "iopub.execute_input": "2020-12-05T22:24:21.461508Z",
          "iopub.status.busy": "2020-12-05T22:24:21.460705Z",
          "iopub.status.idle": "2020-12-05T22:24:21.542328Z",
          "shell.execute_reply": "2020-12-05T22:24:21.541580Z"
        },
        "papermill": {
          "duration": 0.112126,
          "end_time": "2020-12-05T22:24:21.542458",
          "exception": false,
          "start_time": "2020-12-05T22:24:21.430332",
          "status": "completed"
        },
        "tags": [],
        "id": "vhONP_PSHBpF"
      },
      "outputs": [],
      "source": [
        "X, y = preprocess_inputs(data)"
      ]
    },
    {
      "cell_type": "code",
      "execution_count": null,
      "metadata": {
        "execution": {
          "iopub.execute_input": "2020-12-05T22:24:21.601188Z",
          "iopub.status.busy": "2020-12-05T22:24:21.600393Z",
          "iopub.status.idle": "2020-12-05T22:24:21.635685Z",
          "shell.execute_reply": "2020-12-05T22:24:21.634936Z"
        },
        "papermill": {
          "duration": 0.067191,
          "end_time": "2020-12-05T22:24:21.635838",
          "exception": false,
          "start_time": "2020-12-05T22:24:21.568647",
          "status": "completed"
        },
        "tags": [],
        "colab": {
          "base_uri": "https://localhost:8080/",
          "height": 488
        },
        "id": "4mUIzIEbHBpF",
        "outputId": "c2b0d723-a098-4ea0-820a-8f09a7e2d0ff"
      },
      "outputs": [
        {
          "output_type": "execute_result",
          "data": {
            "text/html": [
              "\n",
              "  <div id=\"df-cb78cdfb-ffc3-478e-aaf1-2f8b48e916c7\">\n",
              "    <div class=\"colab-df-container\">\n",
              "      <div>\n",
              "<style scoped>\n",
              "    .dataframe tbody tr th:only-of-type {\n",
              "        vertical-align: middle;\n",
              "    }\n",
              "\n",
              "    .dataframe tbody tr th {\n",
              "        vertical-align: top;\n",
              "    }\n",
              "\n",
              "    .dataframe thead th {\n",
              "        text-align: right;\n",
              "    }\n",
              "</style>\n",
              "<table border=\"1\" class=\"dataframe\">\n",
              "  <thead>\n",
              "    <tr style=\"text-align: right;\">\n",
              "      <th></th>\n",
              "      <th>X1</th>\n",
              "      <th>X2</th>\n",
              "      <th>X5</th>\n",
              "      <th>X6</th>\n",
              "      <th>X7</th>\n",
              "      <th>X8</th>\n",
              "      <th>X9</th>\n",
              "      <th>X10</th>\n",
              "      <th>X11</th>\n",
              "      <th>X12</th>\n",
              "      <th>X13</th>\n",
              "      <th>X14</th>\n",
              "      <th>X15</th>\n",
              "      <th>X16</th>\n",
              "      <th>X17</th>\n",
              "      <th>X18</th>\n",
              "      <th>X19</th>\n",
              "      <th>X20</th>\n",
              "      <th>X21</th>\n",
              "      <th>X22</th>\n",
              "      <th>X23</th>\n",
              "      <th>EDU_0</th>\n",
              "      <th>EDU_1</th>\n",
              "      <th>EDU_2</th>\n",
              "      <th>EDU_3</th>\n",
              "      <th>EDU_4</th>\n",
              "      <th>EDU_5</th>\n",
              "      <th>EDU_6</th>\n",
              "      <th>MAR_0</th>\n",
              "      <th>MAR_1</th>\n",
              "      <th>MAR_2</th>\n",
              "      <th>MAR_3</th>\n",
              "    </tr>\n",
              "  </thead>\n",
              "  <tbody>\n",
              "    <tr>\n",
              "      <th>0</th>\n",
              "      <td>-1.136720</td>\n",
              "      <td>0.810161</td>\n",
              "      <td>-1.246020</td>\n",
              "      <td>1.794564</td>\n",
              "      <td>1.782348</td>\n",
              "      <td>-0.696663</td>\n",
              "      <td>-0.666599</td>\n",
              "      <td>-1.530046</td>\n",
              "      <td>-1.486041</td>\n",
              "      <td>-0.642501</td>\n",
              "      <td>-0.647399</td>\n",
              "      <td>-0.667993</td>\n",
              "      <td>-0.672497</td>\n",
              "      <td>-0.663059</td>\n",
              "      <td>-0.652724</td>\n",
              "      <td>-0.341942</td>\n",
              "      <td>-0.227086</td>\n",
              "      <td>-0.296801</td>\n",
              "      <td>-0.308063</td>\n",
              "      <td>-0.314136</td>\n",
              "      <td>-0.293382</td>\n",
              "      <td>-0.021608</td>\n",
              "      <td>-0.738375</td>\n",
              "      <td>1.066900</td>\n",
              "      <td>-0.442752</td>\n",
              "      <td>-0.064163</td>\n",
              "      <td>-0.097063</td>\n",
              "      <td>-0.041266</td>\n",
              "      <td>-0.042465</td>\n",
              "      <td>1.093780</td>\n",
              "      <td>-1.066471</td>\n",
              "      <td>-0.104326</td>\n",
              "    </tr>\n",
              "    <tr>\n",
              "      <th>1</th>\n",
              "      <td>-0.365981</td>\n",
              "      <td>0.810161</td>\n",
              "      <td>-1.029047</td>\n",
              "      <td>-0.874991</td>\n",
              "      <td>1.782348</td>\n",
              "      <td>0.138865</td>\n",
              "      <td>0.188746</td>\n",
              "      <td>0.234917</td>\n",
              "      <td>1.992316</td>\n",
              "      <td>-0.659219</td>\n",
              "      <td>-0.666747</td>\n",
              "      <td>-0.639254</td>\n",
              "      <td>-0.621636</td>\n",
              "      <td>-0.606229</td>\n",
              "      <td>-0.597966</td>\n",
              "      <td>-0.341942</td>\n",
              "      <td>-0.213588</td>\n",
              "      <td>-0.240005</td>\n",
              "      <td>-0.244230</td>\n",
              "      <td>-0.314136</td>\n",
              "      <td>-0.180878</td>\n",
              "      <td>-0.021608</td>\n",
              "      <td>-0.738375</td>\n",
              "      <td>1.066900</td>\n",
              "      <td>-0.442752</td>\n",
              "      <td>-0.064163</td>\n",
              "      <td>-0.097063</td>\n",
              "      <td>-0.041266</td>\n",
              "      <td>-0.042465</td>\n",
              "      <td>-0.914261</td>\n",
              "      <td>0.937672</td>\n",
              "      <td>-0.104326</td>\n",
              "    </tr>\n",
              "    <tr>\n",
              "      <th>2</th>\n",
              "      <td>-0.597202</td>\n",
              "      <td>0.810161</td>\n",
              "      <td>-0.161156</td>\n",
              "      <td>0.014861</td>\n",
              "      <td>0.111736</td>\n",
              "      <td>0.138865</td>\n",
              "      <td>0.188746</td>\n",
              "      <td>0.234917</td>\n",
              "      <td>0.253137</td>\n",
              "      <td>-0.298560</td>\n",
              "      <td>-0.493899</td>\n",
              "      <td>-0.482408</td>\n",
              "      <td>-0.449730</td>\n",
              "      <td>-0.417188</td>\n",
              "      <td>-0.391630</td>\n",
              "      <td>-0.250292</td>\n",
              "      <td>-0.191887</td>\n",
              "      <td>-0.240005</td>\n",
              "      <td>-0.244230</td>\n",
              "      <td>-0.248683</td>\n",
              "      <td>-0.012122</td>\n",
              "      <td>-0.021608</td>\n",
              "      <td>-0.738375</td>\n",
              "      <td>1.066900</td>\n",
              "      <td>-0.442752</td>\n",
              "      <td>-0.064163</td>\n",
              "      <td>-0.097063</td>\n",
              "      <td>-0.041266</td>\n",
              "      <td>-0.042465</td>\n",
              "      <td>-0.914261</td>\n",
              "      <td>0.937672</td>\n",
              "      <td>-0.104326</td>\n",
              "    </tr>\n",
              "    <tr>\n",
              "      <th>3</th>\n",
              "      <td>-0.905498</td>\n",
              "      <td>0.810161</td>\n",
              "      <td>0.164303</td>\n",
              "      <td>0.014861</td>\n",
              "      <td>0.111736</td>\n",
              "      <td>0.138865</td>\n",
              "      <td>0.188746</td>\n",
              "      <td>0.234917</td>\n",
              "      <td>0.253137</td>\n",
              "      <td>-0.057491</td>\n",
              "      <td>-0.013293</td>\n",
              "      <td>0.032846</td>\n",
              "      <td>-0.232373</td>\n",
              "      <td>-0.186729</td>\n",
              "      <td>-0.156579</td>\n",
              "      <td>-0.221191</td>\n",
              "      <td>-0.169361</td>\n",
              "      <td>-0.228645</td>\n",
              "      <td>-0.237846</td>\n",
              "      <td>-0.244166</td>\n",
              "      <td>-0.237130</td>\n",
              "      <td>-0.021608</td>\n",
              "      <td>-0.738375</td>\n",
              "      <td>1.066900</td>\n",
              "      <td>-0.442752</td>\n",
              "      <td>-0.064163</td>\n",
              "      <td>-0.097063</td>\n",
              "      <td>-0.041266</td>\n",
              "      <td>-0.042465</td>\n",
              "      <td>1.093780</td>\n",
              "      <td>-1.066471</td>\n",
              "      <td>-0.104326</td>\n",
              "    </tr>\n",
              "    <tr>\n",
              "      <th>4</th>\n",
              "      <td>-0.905498</td>\n",
              "      <td>-1.234323</td>\n",
              "      <td>2.334029</td>\n",
              "      <td>-0.874991</td>\n",
              "      <td>0.111736</td>\n",
              "      <td>-0.696663</td>\n",
              "      <td>0.188746</td>\n",
              "      <td>0.234917</td>\n",
              "      <td>0.253137</td>\n",
              "      <td>-0.578618</td>\n",
              "      <td>-0.611318</td>\n",
              "      <td>-0.161189</td>\n",
              "      <td>-0.346997</td>\n",
              "      <td>-0.348137</td>\n",
              "      <td>-0.331482</td>\n",
              "      <td>-0.221191</td>\n",
              "      <td>1.335034</td>\n",
              "      <td>0.271165</td>\n",
              "      <td>0.266434</td>\n",
              "      <td>-0.269039</td>\n",
              "      <td>-0.255187</td>\n",
              "      <td>-0.021608</td>\n",
              "      <td>-0.738375</td>\n",
              "      <td>1.066900</td>\n",
              "      <td>-0.442752</td>\n",
              "      <td>-0.064163</td>\n",
              "      <td>-0.097063</td>\n",
              "      <td>-0.041266</td>\n",
              "      <td>-0.042465</td>\n",
              "      <td>1.093780</td>\n",
              "      <td>-1.066471</td>\n",
              "      <td>-0.104326</td>\n",
              "    </tr>\n",
              "    <tr>\n",
              "      <th>...</th>\n",
              "      <td>...</td>\n",
              "      <td>...</td>\n",
              "      <td>...</td>\n",
              "      <td>...</td>\n",
              "      <td>...</td>\n",
              "      <td>...</td>\n",
              "      <td>...</td>\n",
              "      <td>...</td>\n",
              "      <td>...</td>\n",
              "      <td>...</td>\n",
              "      <td>...</td>\n",
              "      <td>...</td>\n",
              "      <td>...</td>\n",
              "      <td>...</td>\n",
              "      <td>...</td>\n",
              "      <td>...</td>\n",
              "      <td>...</td>\n",
              "      <td>...</td>\n",
              "      <td>...</td>\n",
              "      <td>...</td>\n",
              "      <td>...</td>\n",
              "      <td>...</td>\n",
              "      <td>...</td>\n",
              "      <td>...</td>\n",
              "      <td>...</td>\n",
              "      <td>...</td>\n",
              "      <td>...</td>\n",
              "      <td>...</td>\n",
              "      <td>...</td>\n",
              "      <td>...</td>\n",
              "      <td>...</td>\n",
              "      <td>...</td>\n",
              "    </tr>\n",
              "    <tr>\n",
              "      <th>29995</th>\n",
              "      <td>0.404759</td>\n",
              "      <td>-1.234323</td>\n",
              "      <td>0.381275</td>\n",
              "      <td>0.014861</td>\n",
              "      <td>0.111736</td>\n",
              "      <td>0.138865</td>\n",
              "      <td>0.188746</td>\n",
              "      <td>0.234917</td>\n",
              "      <td>0.253137</td>\n",
              "      <td>1.870379</td>\n",
              "      <td>2.018136</td>\n",
              "      <td>2.326690</td>\n",
              "      <td>0.695474</td>\n",
              "      <td>-0.149259</td>\n",
              "      <td>-0.384392</td>\n",
              "      <td>0.171250</td>\n",
              "      <td>0.611048</td>\n",
              "      <td>-0.012648</td>\n",
              "      <td>-0.113564</td>\n",
              "      <td>0.013131</td>\n",
              "      <td>-0.237130</td>\n",
              "      <td>-0.021608</td>\n",
              "      <td>-0.738375</td>\n",
              "      <td>-0.937295</td>\n",
              "      <td>2.258602</td>\n",
              "      <td>-0.064163</td>\n",
              "      <td>-0.097063</td>\n",
              "      <td>-0.041266</td>\n",
              "      <td>-0.042465</td>\n",
              "      <td>1.093780</td>\n",
              "      <td>-1.066471</td>\n",
              "      <td>-0.104326</td>\n",
              "    </tr>\n",
              "    <tr>\n",
              "      <th>29996</th>\n",
              "      <td>-0.134759</td>\n",
              "      <td>-1.234323</td>\n",
              "      <td>0.815221</td>\n",
              "      <td>-0.874991</td>\n",
              "      <td>-0.723570</td>\n",
              "      <td>-0.696663</td>\n",
              "      <td>-0.666599</td>\n",
              "      <td>0.234917</td>\n",
              "      <td>0.253137</td>\n",
              "      <td>-0.672786</td>\n",
              "      <td>-0.665299</td>\n",
              "      <td>-0.627430</td>\n",
              "      <td>-0.532924</td>\n",
              "      <td>-0.577691</td>\n",
              "      <td>-0.652724</td>\n",
              "      <td>-0.231032</td>\n",
              "      <td>-0.103955</td>\n",
              "      <td>0.214255</td>\n",
              "      <td>-0.299828</td>\n",
              "      <td>-0.314136</td>\n",
              "      <td>-0.293382</td>\n",
              "      <td>-0.021608</td>\n",
              "      <td>-0.738375</td>\n",
              "      <td>-0.937295</td>\n",
              "      <td>2.258602</td>\n",
              "      <td>-0.064163</td>\n",
              "      <td>-0.097063</td>\n",
              "      <td>-0.041266</td>\n",
              "      <td>-0.042465</td>\n",
              "      <td>-0.914261</td>\n",
              "      <td>0.937672</td>\n",
              "      <td>-0.104326</td>\n",
              "    </tr>\n",
              "    <tr>\n",
              "      <th>29997</th>\n",
              "      <td>-1.059646</td>\n",
              "      <td>-1.234323</td>\n",
              "      <td>0.164303</td>\n",
              "      <td>3.574267</td>\n",
              "      <td>2.617654</td>\n",
              "      <td>1.809921</td>\n",
              "      <td>-0.666599</td>\n",
              "      <td>0.234917</td>\n",
              "      <td>0.253137</td>\n",
              "      <td>-0.647227</td>\n",
              "      <td>-0.643830</td>\n",
              "      <td>-0.638158</td>\n",
              "      <td>-0.347961</td>\n",
              "      <td>-0.324517</td>\n",
              "      <td>-0.327687</td>\n",
              "      <td>-0.341942</td>\n",
              "      <td>-0.256990</td>\n",
              "      <td>0.952725</td>\n",
              "      <td>-0.039964</td>\n",
              "      <td>-0.183229</td>\n",
              "      <td>-0.119001</td>\n",
              "      <td>-0.021608</td>\n",
              "      <td>-0.738375</td>\n",
              "      <td>1.066900</td>\n",
              "      <td>-0.442752</td>\n",
              "      <td>-0.064163</td>\n",
              "      <td>-0.097063</td>\n",
              "      <td>-0.041266</td>\n",
              "      <td>-0.042465</td>\n",
              "      <td>-0.914261</td>\n",
              "      <td>0.937672</td>\n",
              "      <td>-0.104326</td>\n",
              "    </tr>\n",
              "    <tr>\n",
              "      <th>29998</th>\n",
              "      <td>-0.674276</td>\n",
              "      <td>-1.234323</td>\n",
              "      <td>0.598248</td>\n",
              "      <td>0.904712</td>\n",
              "      <td>-0.723570</td>\n",
              "      <td>0.138865</td>\n",
              "      <td>0.188746</td>\n",
              "      <td>0.234917</td>\n",
              "      <td>-0.616452</td>\n",
              "      <td>-0.717982</td>\n",
              "      <td>0.410269</td>\n",
              "      <td>0.422373</td>\n",
              "      <td>0.147844</td>\n",
              "      <td>-0.468063</td>\n",
              "      <td>0.169130</td>\n",
              "      <td>4.844316</td>\n",
              "      <td>-0.109033</td>\n",
              "      <td>-0.229895</td>\n",
              "      <td>-0.185120</td>\n",
              "      <td>3.152536</td>\n",
              "      <td>-0.191904</td>\n",
              "      <td>-0.021608</td>\n",
              "      <td>-0.738375</td>\n",
              "      <td>-0.937295</td>\n",
              "      <td>2.258602</td>\n",
              "      <td>-0.064163</td>\n",
              "      <td>-0.097063</td>\n",
              "      <td>-0.041266</td>\n",
              "      <td>-0.042465</td>\n",
              "      <td>1.093780</td>\n",
              "      <td>-1.066471</td>\n",
              "      <td>-0.104326</td>\n",
              "    </tr>\n",
              "    <tr>\n",
              "      <th>29999</th>\n",
              "      <td>-0.905498</td>\n",
              "      <td>-1.234323</td>\n",
              "      <td>1.140680</td>\n",
              "      <td>0.014861</td>\n",
              "      <td>0.111736</td>\n",
              "      <td>0.138865</td>\n",
              "      <td>0.188746</td>\n",
              "      <td>0.234917</td>\n",
              "      <td>0.253137</td>\n",
              "      <td>-0.044739</td>\n",
              "      <td>-0.003851</td>\n",
              "      <td>0.039667</td>\n",
              "      <td>-0.104582</td>\n",
              "      <td>-0.129669</td>\n",
              "      <td>-0.395592</td>\n",
              "      <td>-0.216481</td>\n",
              "      <td>-0.178866</td>\n",
              "      <td>-0.215582</td>\n",
              "      <td>-0.244230</td>\n",
              "      <td>-0.248683</td>\n",
              "      <td>-0.237130</td>\n",
              "      <td>-0.021608</td>\n",
              "      <td>-0.738375</td>\n",
              "      <td>1.066900</td>\n",
              "      <td>-0.442752</td>\n",
              "      <td>-0.064163</td>\n",
              "      <td>-0.097063</td>\n",
              "      <td>-0.041266</td>\n",
              "      <td>-0.042465</td>\n",
              "      <td>1.093780</td>\n",
              "      <td>-1.066471</td>\n",
              "      <td>-0.104326</td>\n",
              "    </tr>\n",
              "  </tbody>\n",
              "</table>\n",
              "<p>30000 rows × 32 columns</p>\n",
              "</div>\n",
              "      <button class=\"colab-df-convert\" onclick=\"convertToInteractive('df-cb78cdfb-ffc3-478e-aaf1-2f8b48e916c7')\"\n",
              "              title=\"Convert this dataframe to an interactive table.\"\n",
              "              style=\"display:none;\">\n",
              "        \n",
              "  <svg xmlns=\"http://www.w3.org/2000/svg\" height=\"24px\"viewBox=\"0 0 24 24\"\n",
              "       width=\"24px\">\n",
              "    <path d=\"M0 0h24v24H0V0z\" fill=\"none\"/>\n",
              "    <path d=\"M18.56 5.44l.94 2.06.94-2.06 2.06-.94-2.06-.94-.94-2.06-.94 2.06-2.06.94zm-11 1L8.5 8.5l.94-2.06 2.06-.94-2.06-.94L8.5 2.5l-.94 2.06-2.06.94zm10 10l.94 2.06.94-2.06 2.06-.94-2.06-.94-.94-2.06-.94 2.06-2.06.94z\"/><path d=\"M17.41 7.96l-1.37-1.37c-.4-.4-.92-.59-1.43-.59-.52 0-1.04.2-1.43.59L10.3 9.45l-7.72 7.72c-.78.78-.78 2.05 0 2.83L4 21.41c.39.39.9.59 1.41.59.51 0 1.02-.2 1.41-.59l7.78-7.78 2.81-2.81c.8-.78.8-2.07 0-2.86zM5.41 20L4 18.59l7.72-7.72 1.47 1.35L5.41 20z\"/>\n",
              "  </svg>\n",
              "      </button>\n",
              "      \n",
              "  <style>\n",
              "    .colab-df-container {\n",
              "      display:flex;\n",
              "      flex-wrap:wrap;\n",
              "      gap: 12px;\n",
              "    }\n",
              "\n",
              "    .colab-df-convert {\n",
              "      background-color: #E8F0FE;\n",
              "      border: none;\n",
              "      border-radius: 50%;\n",
              "      cursor: pointer;\n",
              "      display: none;\n",
              "      fill: #1967D2;\n",
              "      height: 32px;\n",
              "      padding: 0 0 0 0;\n",
              "      width: 32px;\n",
              "    }\n",
              "\n",
              "    .colab-df-convert:hover {\n",
              "      background-color: #E2EBFA;\n",
              "      box-shadow: 0px 1px 2px rgba(60, 64, 67, 0.3), 0px 1px 3px 1px rgba(60, 64, 67, 0.15);\n",
              "      fill: #174EA6;\n",
              "    }\n",
              "\n",
              "    [theme=dark] .colab-df-convert {\n",
              "      background-color: #3B4455;\n",
              "      fill: #D2E3FC;\n",
              "    }\n",
              "\n",
              "    [theme=dark] .colab-df-convert:hover {\n",
              "      background-color: #434B5C;\n",
              "      box-shadow: 0px 1px 3px 1px rgba(0, 0, 0, 0.15);\n",
              "      filter: drop-shadow(0px 1px 2px rgba(0, 0, 0, 0.3));\n",
              "      fill: #FFFFFF;\n",
              "    }\n",
              "  </style>\n",
              "\n",
              "      <script>\n",
              "        const buttonEl =\n",
              "          document.querySelector('#df-cb78cdfb-ffc3-478e-aaf1-2f8b48e916c7 button.colab-df-convert');\n",
              "        buttonEl.style.display =\n",
              "          google.colab.kernel.accessAllowed ? 'block' : 'none';\n",
              "\n",
              "        async function convertToInteractive(key) {\n",
              "          const element = document.querySelector('#df-cb78cdfb-ffc3-478e-aaf1-2f8b48e916c7');\n",
              "          const dataTable =\n",
              "            await google.colab.kernel.invokeFunction('convertToInteractive',\n",
              "                                                     [key], {});\n",
              "          if (!dataTable) return;\n",
              "\n",
              "          const docLinkHtml = 'Like what you see? Visit the ' +\n",
              "            '<a target=\"_blank\" href=https://colab.research.google.com/notebooks/data_table.ipynb>data table notebook</a>'\n",
              "            + ' to learn more about interactive tables.';\n",
              "          element.innerHTML = '';\n",
              "          dataTable['output_type'] = 'display_data';\n",
              "          await google.colab.output.renderOutput(dataTable, element);\n",
              "          const docLink = document.createElement('div');\n",
              "          docLink.innerHTML = docLinkHtml;\n",
              "          element.appendChild(docLink);\n",
              "        }\n",
              "      </script>\n",
              "    </div>\n",
              "  </div>\n",
              "  "
            ],
            "text/plain": [
              "             X1        X2        X5  ...     MAR_1     MAR_2     MAR_3\n",
              "0     -1.136720  0.810161 -1.246020  ...  1.093780 -1.066471 -0.104326\n",
              "1     -0.365981  0.810161 -1.029047  ... -0.914261  0.937672 -0.104326\n",
              "2     -0.597202  0.810161 -0.161156  ... -0.914261  0.937672 -0.104326\n",
              "3     -0.905498  0.810161  0.164303  ...  1.093780 -1.066471 -0.104326\n",
              "4     -0.905498 -1.234323  2.334029  ...  1.093780 -1.066471 -0.104326\n",
              "...         ...       ...       ...  ...       ...       ...       ...\n",
              "29995  0.404759 -1.234323  0.381275  ...  1.093780 -1.066471 -0.104326\n",
              "29996 -0.134759 -1.234323  0.815221  ... -0.914261  0.937672 -0.104326\n",
              "29997 -1.059646 -1.234323  0.164303  ... -0.914261  0.937672 -0.104326\n",
              "29998 -0.674276 -1.234323  0.598248  ...  1.093780 -1.066471 -0.104326\n",
              "29999 -0.905498 -1.234323  1.140680  ...  1.093780 -1.066471 -0.104326\n",
              "\n",
              "[30000 rows x 32 columns]"
            ]
          },
          "metadata": {},
          "execution_count": 20
        }
      ],
      "source": [
        "X"
      ]
    },
    {
      "cell_type": "code",
      "execution_count": null,
      "metadata": {
        "execution": {
          "iopub.execute_input": "2020-12-05T22:24:21.697374Z",
          "iopub.status.busy": "2020-12-05T22:24:21.696543Z",
          "iopub.status.idle": "2020-12-05T22:24:21.700748Z",
          "shell.execute_reply": "2020-12-05T22:24:21.700014Z"
        },
        "papermill": {
          "duration": 0.038033,
          "end_time": "2020-12-05T22:24:21.700889",
          "exception": false,
          "start_time": "2020-12-05T22:24:21.662856",
          "status": "completed"
        },
        "tags": [],
        "colab": {
          "base_uri": "https://localhost:8080/"
        },
        "id": "J-X8JI4_HBpG",
        "outputId": "68638024-bf59-4d58-c17c-217634562f99"
      },
      "outputs": [
        {
          "output_type": "execute_result",
          "data": {
            "text/plain": [
              "1        1\n",
              "2        1\n",
              "3        0\n",
              "4        0\n",
              "5        0\n",
              "        ..\n",
              "29996    0\n",
              "29997    0\n",
              "29998    1\n",
              "29999    1\n",
              "30000    1\n",
              "Name: Y, Length: 30000, dtype: object"
            ]
          },
          "metadata": {},
          "execution_count": 21
        }
      ],
      "source": [
        "y"
      ]
    },
    {
      "cell_type": "code",
      "execution_count": null,
      "metadata": {
        "execution": {
          "iopub.execute_input": "2020-12-05T22:24:21.763142Z",
          "iopub.status.busy": "2020-12-05T22:24:21.762335Z",
          "iopub.status.idle": "2020-12-05T22:24:21.786253Z",
          "shell.execute_reply": "2020-12-05T22:24:21.785365Z"
        },
        "papermill": {
          "duration": 0.057687,
          "end_time": "2020-12-05T22:24:21.786409",
          "exception": false,
          "start_time": "2020-12-05T22:24:21.728722",
          "status": "completed"
        },
        "tags": [],
        "colab": {
          "base_uri": "https://localhost:8080/"
        },
        "id": "lSSr0N3hHBpG",
        "outputId": "067fd20c-4a02-4070-9319-8dbd2691ee1d"
      },
      "outputs": [
        {
          "output_type": "execute_result",
          "data": {
            "text/plain": [
              "{'EDU_0': 2,\n",
              " 'EDU_1': 2,\n",
              " 'EDU_2': 2,\n",
              " 'EDU_3': 2,\n",
              " 'EDU_4': 2,\n",
              " 'EDU_5': 2,\n",
              " 'EDU_6': 2,\n",
              " 'MAR_0': 2,\n",
              " 'MAR_1': 2,\n",
              " 'MAR_2': 2,\n",
              " 'MAR_3': 2,\n",
              " 'X1': 81,\n",
              " 'X10': 10,\n",
              " 'X11': 10,\n",
              " 'X12': 22723,\n",
              " 'X13': 22346,\n",
              " 'X14': 22026,\n",
              " 'X15': 21548,\n",
              " 'X16': 21010,\n",
              " 'X17': 20604,\n",
              " 'X18': 7943,\n",
              " 'X19': 7899,\n",
              " 'X2': 2,\n",
              " 'X20': 7518,\n",
              " 'X21': 6937,\n",
              " 'X22': 6897,\n",
              " 'X23': 6939,\n",
              " 'X5': 56,\n",
              " 'X6': 11,\n",
              " 'X7': 11,\n",
              " 'X8': 11,\n",
              " 'X9': 11}"
            ]
          },
          "metadata": {},
          "execution_count": 22
        }
      ],
      "source": [
        "{column: len(X[column].unique()) for column in X.columns}"
      ]
    },
    {
      "cell_type": "markdown",
      "source": [
        "**Exercise 3** (4 Points)\n",
        "\n",
        "Train the model using the 4 ML models:\n",
        "\n",
        "- Logistic Regression\n",
        "- Perceptron\n",
        "- SVM\n",
        "- Random Forest"
      ],
      "metadata": {
        "id": "rxNRFvaydjoz"
      }
    },
    {
      "cell_type": "markdown",
      "metadata": {
        "papermill": {
          "duration": 0.028445,
          "end_time": "2020-12-05T22:24:21.843465",
          "exception": false,
          "start_time": "2020-12-05T22:24:21.815020",
          "status": "completed"
        },
        "tags": [],
        "id": "Oju_dNgMQk5T"
      },
      "source": [
        "## Training\n",
        "\n",
        "Application of machine learning models, such as\n",
        "\n",
        "### Logistic Regression\n",
        "Logistic regression is named for the function used at the core of the method, the logistic function.\n",
        "\n",
        "The logistic function, more popularly called the sigmoid function was to describe properties of population growth in ecology, rising quickly and maxing out at the carrying capacity of the environment. \n",
        "\n",
        "It’s an S-shaped curve that can take any real-valued number and map it into a value between 0 and 1, but never exactly at those limits.\n",
        "\n",
        "$\\frac{1}{ (1 + e^{-value})}$\n",
        "\n",
        "Where $e$ is the base of the natural logarithms and value is the actual numerical value that you want to transform. Below is a plot of the numbers between $-5$ and $5$ transformed into the range $0$ and $1$ using the logistic function.\n",
        "\n",
        "\n",
        "\n"
      ]
    },
    {
      "cell_type": "markdown",
      "metadata": {
        "id": "KBkkBAD8UNmD"
      },
      "source": [
        "### The Perceptron\n",
        "\n",
        "The Perceptron is one of the simplest ANN architectures, invented in 1957 by Frank Rosenblatt. It is based on a slightly different artificial neuron (shown in the figure below) called a **threshold logic unit (TLU)**. The inputs and the output are numbers (instead of binary on/off values), and each input connection is associated with a weight. The TLU computes a weighted sum of its inputs $$(z = w_1 x_1 + w_2 x_2 + ⋯ + w_n x_n = x^⊺ w)$$, then applies a step function to that sum and outputs the result: $$h_w(x) = step(z)$$, where $z = x^⊺ w$.\n",
        "<br><br>\n",
        "<center>\n",
        "<img src=\"https://www.oreilly.com/library/view/neural-networks-and/9781492037354/assets/mlst_1004.png\" width= 400px/>\n",
        "</center>\n",
        "\n",
        "$\\hspace{10cm} \\text {Threshold logic unit}$\n",
        "<br><br>\n",
        "The most common step function used in Perceptrons is the Heaviside step function. Sometimes the sign function is used instead.\n",
        "\n",
        "$$heaviside (z) = \\begin{equation}\n",
        "\\left\\{ \n",
        "  \\begin{aligned}\n",
        "    &0&  if\\ \\  z < 0\\\\ \n",
        "    &1&  if\\ \\  z \\ge 0\\\\ \n",
        "  \\end{aligned}\n",
        "  \\right.\n",
        "\\end{equation}\n",
        "$$\n",
        "\n",
        "$$sgn (z) = \\begin{equation}\n",
        "\\left\\{ \n",
        "  \\begin{aligned}\n",
        "    &-1&  if\\ \\  z < 0\\\\ \n",
        "    &0&  if\\ \\  z = 0\\\\\n",
        "    &1&  if\\ \\  z > 0\\\\ \n",
        "  \\end{aligned}\n",
        "  \\right.\n",
        "\\end{equation}\n",
        "$$\n",
        "\n",
        "A single TLU can be used for simple linear binary classification. It computes a linear combination of the inputs, and if the result exceeds a threshold, it outputs the positive class. Otherwise, it outputs the negative class. \n",
        "\n",
        "\n",
        "\n",
        "The decision boundary of each output neuron is linear, so Perceptrons are incapable of learning complex patterns (just like Logistic Regression classifiers). However, if the training instances are linearly separable, Rosenblatt demonstrated that this algorithm would converge to a solution. This is called the Perceptron convergence theorem."
      ]
    },
    {
      "cell_type": "markdown",
      "source": [
        "### Support Vector Machines: Maximizing the Margin\n",
        "\n",
        "Support vector machines offer one way to improve on this. The intuition is this: rather than simply drawing a zero-width line between the classes, we can draw around each line a margin of some width, up to the nearest point. Here is an example of how this might look:"
      ],
      "metadata": {
        "id": "T5wmmgtfuOZP"
      }
    },
    {
      "cell_type": "markdown",
      "source": [
        "### Random Forests\n",
        "\n",
        "A random forest is a collection of decision trees whose results are aggregated into one final result. Random Forest  is a supervised classification algorithm. There is a direct relationship between the number of trees in the forest and the results it can get: the larger the number of trees, the more accurate the result. But here creating the forest is not the same as constructing the decision tree with the information gain or gain index approach.\n",
        "\n",
        "The difference between the Random Forest algorithm and the decision tree algorithm is that in Random Forest, the process of finding the root node and splitting the feature nodes will run randomly."
      ],
      "metadata": {
        "id": "HaQoVnzxu_-Z"
      }
    },
    {
      "cell_type": "code",
      "execution_count": null,
      "metadata": {
        "execution": {
          "iopub.execute_input": "2020-12-05T22:24:21.908151Z",
          "iopub.status.busy": "2020-12-05T22:24:21.907313Z",
          "iopub.status.idle": "2020-12-05T22:24:21.921300Z",
          "shell.execute_reply": "2020-12-05T22:24:21.920494Z"
        },
        "papermill": {
          "duration": 0.049348,
          "end_time": "2020-12-05T22:24:21.921429",
          "exception": false,
          "start_time": "2020-12-05T22:24:21.872081",
          "status": "completed"
        },
        "tags": [],
        "id": "dkuCC27sHBpH"
      },
      "outputs": [],
      "source": [
        "X_train, X_test, y_train, y_test = train_test_split(X, y, train_size=0.7, random_state=123)"
      ]
    },
    {
      "cell_type": "code",
      "execution_count": null,
      "metadata": {
        "execution": {
          "iopub.execute_input": "2020-12-05T22:24:21.990019Z",
          "iopub.status.busy": "2020-12-05T22:24:21.988642Z",
          "iopub.status.idle": "2020-12-05T22:25:11.139623Z",
          "shell.execute_reply": "2020-12-05T22:25:11.140397Z"
        },
        "papermill": {
          "duration": 49.189936,
          "end_time": "2020-12-05T22:25:11.140585",
          "exception": false,
          "start_time": "2020-12-05T22:24:21.950649",
          "status": "completed"
        },
        "tags": [],
        "colab": {
          "base_uri": "https://localhost:8080/"
        },
        "id": "zlbsCyPpHBpI",
        "outputId": "c9e509cd-871c-4a09-b873-ecb1fddfe331"
      },
      "outputs": [
        {
          "output_type": "stream",
          "name": "stderr",
          "text": [
            "/usr/local/lib/python3.7/dist-packages/sklearn/neural_network/_multilayer_perceptron.py:696: ConvergenceWarning: Stochastic Optimizer: Maximum iterations (200) reached and the optimization hasn't converged yet.\n",
            "  ConvergenceWarning,\n"
          ]
        }
      ],
      "source": [
        "models = {\n",
        "    LogisticRegression(): \"   Logistic Regression\",\n",
        "    SVC():                \"Support Vector Machine\",\n",
        "    MLPClassifier():      \"        Neural Network\",\n",
        "    XGBClassifier():      \"    XGBoost classifier\",\n",
        "    RandomForestClassifier(): \"RandomForestClassifier\"\n",
        "  \n",
        "}\n",
        "\n",
        "for model in models.keys():\n",
        "    model.fit(X_train, y_train)"
      ]
    },
    {
      "cell_type": "markdown",
      "source": [
        "**Exercise 4**\n",
        "\n",
        "Evaluate the models and display the results ( 2 points)"
      ],
      "metadata": {
        "id": "qHgNIvrvd6wu"
      }
    },
    {
      "cell_type": "markdown",
      "source": [
        "### Model Evaluation \n",
        "\n",
        "To evaluate the performance of a classification model, the following metrics are used:\n",
        "\n",
        "* Confusion matrix\n",
        "  * Accuracy\n",
        "  * Precision\n",
        "  * Recall\n",
        "  * F1-Score"
      ],
      "metadata": {
        "id": "sw4YsYjK9Ova"
      }
    },
    {
      "cell_type": "code",
      "execution_count": null,
      "metadata": {
        "execution": {
          "iopub.execute_input": "2020-12-05T22:25:11.212376Z",
          "iopub.status.busy": "2020-12-05T22:25:11.211215Z",
          "iopub.status.idle": "2020-12-05T22:25:16.702880Z",
          "shell.execute_reply": "2020-12-05T22:25:16.703505Z"
        },
        "papermill": {
          "duration": 5.531104,
          "end_time": "2020-12-05T22:25:16.703687",
          "exception": false,
          "start_time": "2020-12-05T22:25:11.172583",
          "status": "completed"
        },
        "tags": [],
        "id": "Obj43wF2HBpI",
        "colab": {
          "base_uri": "https://localhost:8080/",
          "height": 1000
        },
        "outputId": "56c80ffe-3793-4ebf-d61b-4d5ec23ee19a"
      },
      "outputs": [
        {
          "output_type": "stream",
          "name": "stdout",
          "text": [
            "   Logistic Regression: 81.43%\n",
            "[[6847 1466]\n",
            " [ 205  482]]\n",
            "              precision    recall  f1-score   support\n",
            "\n",
            "           0       0.97      0.82      0.89      8313\n",
            "           1       0.25      0.70      0.37       687\n",
            "\n",
            "    accuracy                           0.81      9000\n",
            "   macro avg       0.61      0.76      0.63      9000\n",
            "weighted avg       0.92      0.81      0.85      9000\n",
            "\n"
          ]
        },
        {
          "output_type": "stream",
          "name": "stderr",
          "text": [
            "/usr/local/lib/python3.7/dist-packages/sklearn/utils/deprecation.py:87: FutureWarning: Function plot_precision_recall_curve is deprecated; Function `plot_precision_recall_curve` is deprecated in 1.0 and will be removed in 1.2. Use one of the class methods: PrecisionRecallDisplay.from_predictions or PrecisionRecallDisplay.from_estimator.\n",
            "  warnings.warn(msg, category=FutureWarning)\n"
          ]
        },
        {
          "output_type": "stream",
          "name": "stdout",
          "text": [
            "Support Vector Machine: 82.03%\n",
            "[[6726 1291]\n",
            " [ 326  657]]\n",
            "              precision    recall  f1-score   support\n",
            "\n",
            "           0       0.95      0.84      0.89      8017\n",
            "           1       0.34      0.67      0.45       983\n",
            "\n",
            "    accuracy                           0.82      9000\n",
            "   macro avg       0.65      0.75      0.67      9000\n",
            "weighted avg       0.89      0.82      0.84      9000\n",
            "\n"
          ]
        },
        {
          "output_type": "stream",
          "name": "stderr",
          "text": [
            "/usr/local/lib/python3.7/dist-packages/sklearn/utils/deprecation.py:87: FutureWarning: Function plot_precision_recall_curve is deprecated; Function `plot_precision_recall_curve` is deprecated in 1.0 and will be removed in 1.2. Use one of the class methods: PrecisionRecallDisplay.from_predictions or PrecisionRecallDisplay.from_estimator.\n",
            "  warnings.warn(msg, category=FutureWarning)\n"
          ]
        },
        {
          "output_type": "stream",
          "name": "stdout",
          "text": [
            "        Neural Network: 81.06%\n",
            "[[6600 1253]\n",
            " [ 452  695]]\n",
            "              precision    recall  f1-score   support\n",
            "\n",
            "           0       0.94      0.84      0.89      7853\n",
            "           1       0.36      0.61      0.45      1147\n",
            "\n",
            "    accuracy                           0.81      9000\n",
            "   macro avg       0.65      0.72      0.67      9000\n",
            "weighted avg       0.86      0.81      0.83      9000\n",
            "\n",
            "    XGBoost classifier: 82.21%\n"
          ]
        },
        {
          "output_type": "stream",
          "name": "stderr",
          "text": [
            "/usr/local/lib/python3.7/dist-packages/sklearn/utils/deprecation.py:87: FutureWarning: Function plot_precision_recall_curve is deprecated; Function `plot_precision_recall_curve` is deprecated in 1.0 and will be removed in 1.2. Use one of the class methods: PrecisionRecallDisplay.from_predictions or PrecisionRecallDisplay.from_estimator.\n",
            "  warnings.warn(msg, category=FutureWarning)\n"
          ]
        },
        {
          "output_type": "stream",
          "name": "stdout",
          "text": [
            "[[6671 1220]\n",
            " [ 381  728]]\n",
            "              precision    recall  f1-score   support\n",
            "\n",
            "           0       0.95      0.85      0.89      7891\n",
            "           1       0.37      0.66      0.48      1109\n",
            "\n",
            "    accuracy                           0.82      9000\n",
            "   macro avg       0.66      0.75      0.68      9000\n",
            "weighted avg       0.88      0.82      0.84      9000\n",
            "\n"
          ]
        },
        {
          "output_type": "stream",
          "name": "stderr",
          "text": [
            "/usr/local/lib/python3.7/dist-packages/sklearn/utils/deprecation.py:87: FutureWarning: Function plot_precision_recall_curve is deprecated; Function `plot_precision_recall_curve` is deprecated in 1.0 and will be removed in 1.2. Use one of the class methods: PrecisionRecallDisplay.from_predictions or PrecisionRecallDisplay.from_estimator.\n",
            "  warnings.warn(msg, category=FutureWarning)\n"
          ]
        },
        {
          "output_type": "stream",
          "name": "stdout",
          "text": [
            "RandomForestClassifier: 81.63%\n",
            "[[6613 1214]\n",
            " [ 439  734]]\n",
            "              precision    recall  f1-score   support\n",
            "\n",
            "           0       0.94      0.84      0.89      7827\n",
            "           1       0.38      0.63      0.47      1173\n",
            "\n",
            "    accuracy                           0.82      9000\n",
            "   macro avg       0.66      0.74      0.68      9000\n",
            "weighted avg       0.86      0.82      0.83      9000\n",
            "\n"
          ]
        },
        {
          "output_type": "stream",
          "name": "stderr",
          "text": [
            "/usr/local/lib/python3.7/dist-packages/sklearn/utils/deprecation.py:87: FutureWarning: Function plot_precision_recall_curve is deprecated; Function `plot_precision_recall_curve` is deprecated in 1.0 and will be removed in 1.2. Use one of the class methods: PrecisionRecallDisplay.from_predictions or PrecisionRecallDisplay.from_estimator.\n",
            "  warnings.warn(msg, category=FutureWarning)\n"
          ]
        },
        {
          "output_type": "display_data",
          "data": {
            "image/png": "[encoded data removed]",
            "text/plain": [
              "<Figure size 432x288 with 1 Axes>"
            ]
          },
          "metadata": {
            "needs_background": "light"
          }
        },
        {
          "output_type": "display_data",
          "data": {
            "image/png": "[encoded data removed]",
            "text/plain": [
              "<Figure size 432x288 with 1 Axes>"
            ]
          },
          "metadata": {
            "needs_background": "light"
          }
        },
        {
          "output_type": "display_data",
          "data": {
            "image/png": "[encoded data removed]",
            "text/plain": [
              "<Figure size 432x288 with 1 Axes>"
            ]
          },
          "metadata": {
            "needs_background": "light"
          }
        },
        {
          "output_type": "display_data",
          "data": {
            "image/png": "[encoded data removed]",
            "text/plain": [
              "<Figure size 432x288 with 1 Axes>"
            ]
          },
          "metadata": {
            "needs_background": "light"
          }
        },
        {
          "output_type": "display_data",
          "data": {
            "image/png": "[encoded data removed]",
            "text/plain": [
              "<Figure size 432x288 with 1 Axes>"
            ]
          },
          "metadata": {
            "needs_background": "light"
          }
        }
      ],
      "source": [
        "for model, name in models.items():\n",
        "    print(name + \": {:.2f}%\".format(model.score(X_test, y_test) * 100)) # calculate the accuracy\n",
        "    print(confusion_matrix(model.predict(X_test), y_test))              # Find the confusion matrix\n",
        "    print(classification_report(model.predict(X_test), y_test))         # caiculate the precision, recall and F1-score\n",
        "    plot_precision_recall_curve(model, X_test, y_test)                  # Plotting precision-recall curve using sklearn\n",
        "    "
      ]
    }
  ],
  "metadata": {
    "kernelspec": {
      "display_name": "Python 3",
      "language": "python",
      "name": "python3"
    },
    "language_info": {
      "codemirror_mode": {
        "name": "ipython",
        "version": 3
      },
      "file_extension": ".py",
      "mimetype": "text/x-python",
      "name": "python",
      "nbconvert_exporter": "python",
      "pygments_lexer": "ipython3",
      "version": "3.7.6"
    },
    "papermill": {
      "duration": 65.818299,
      "end_time": "2020-12-05T22:25:16.902366",
      "environment_variables": {},
      "exception": null,
      "input_path": "__notebook__.ipynb",
      "output_path": "__notebook__.ipynb",
      "parameters": {},
      "start_time": "2020-12-05T22:24:11.084067",
      "version": "2.1.0"
    },
    "colab": {
      "provenance": [],
      "include_colab_link": true
    }
  },
  "nbformat": 4,
  "nbformat_minor": 0
}