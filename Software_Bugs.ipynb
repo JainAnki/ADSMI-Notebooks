{
  "cells": [
    {
      "cell_type": "markdown",
      "metadata": {
        "id": "view-in-github",
        "colab_type": "text"
      },
      "source": [
        "<a href=\"https://colab.research.google.com/github/JainAnki/ADSMI-Notebooks/blob/main/Software_Bugs.ipynb\" target=\"_parent\"><img src=\"https://colab.research.google.com/assets/colab-badge.svg\" alt=\"Open In Colab\"/></a>"
      ]
    },
    {
      "cell_type": "markdown",
      "metadata": {
        "id": "powered-thong"
      },
      "source": [
        "# Applied Data Science and Machine Intelligence\n",
        "## A program by IIT Madras and TalentSprint\n",
        "### Mini Project 5 : Software Use Case - Issue Detection"
      ]
    },
    {
      "cell_type": "markdown",
      "metadata": {
        "id": "1nK0fzdQzk0g"
      },
      "source": [
        "## Learning Objectives\n",
        "\n",
        "At the end of the mini project, you will be able to -\n",
        "\n",
        "* Get an understanding of the dataset.\n",
        "* Perform Extensive EDA and Visualizations\n",
        "* Handraft the raw data suitable for a ML problem\n",
        "* Predict(Classify) the employee Attrition based on employee performance\n",
        "\n",
        "\n",
        "Perform Exhaustive EDA and engineer the features to build a model on a training data that predicts (Classifies) whether an employee (from a test dataset) will quit the company or not.\n"
      ]
    },
    {
      "cell_type": "markdown",
      "metadata": {
        "id": "5xoyNc-yTy7U"
      },
      "source": [
        "## Information"
      ]
    },
    {
      "cell_type": "markdown",
      "metadata": {
        "id": "FvhRny6xpviu"
      },
      "source": [
        "### Issue Classification\n",
        "\n",
        "A company that uses online issue tracking system, often gets a hurdle with the performance of the human resources and digital resource allocation. This is due the fact that the persons raising tickets sometimes put it in under a different tag or a category. Redirections to solve the issue throught the right person takes more time. So it is essential to solve it on time by linking the appropriate issue tags. This role will be taken care by the area of Machine Learning called as Natural Language Processing (NLP). In this Mini-Project we will be utilizing the fundamental building blocks of the NLP to classify the issues under appropriate categories based on the text body of the issue/ticket being raised."
      ]
    },
    {
      "cell_type": "markdown",
      "metadata": {
        "id": "mFyE8NDOUPyq"
      },
      "source": [
        "### About the Dataset\n",
        "\n",
        "This Mini-Project uses the Dataset from the [GitHub](https://github.com/roundcube/roundcubemail/issues). It contains the issues of Roundcube mail application, along with the software defect labelled across each issue."
      ]
    },
    {
      "cell_type": "markdown",
      "metadata": {
        "id": "hungry-accident"
      },
      "source": [
        "**Python Packages used:**  \n",
        "\n",
        "* [`Google.colab`](https://colab.research.google.com/notebooks/io.ipynb) for linking the notebook to your Google-drive\n",
        "* [`Pandas`](https://pandas.pydata.org/docs/reference/index.html) for data frames and easy to read csv files  \n",
        "* [`Numpy`](https://numpy.org/doc/stable/reference/index.html#reference) for array and matrix mathematics functions  \n",
        "* [`sklearn`](https://scikit-learn.org/stable/user_guide.html) for the pre-processing data, building ML models, and performance metrics\n",
        "* [`seaborn`](https://seaborn.pydata.org/) and [`matplotlib`](https://matplotlib.org/) for plotting\n",
        "* [`regex`](https://docs.python.org/3/library/re.html) and [`nltk`](https://www.nltk.org/) for text preocessing\n"
      ]
    },
    {
      "cell_type": "markdown",
      "metadata": {
        "id": "u-g3SLm-DLEW"
      },
      "source": [
        "## Importing the packages"
      ]
    },
    {
      "cell_type": "code",
      "execution_count": null,
      "metadata": {
        "id": "e_V0z4eaDILg",
        "colab": {
          "base_uri": "https://localhost:8080/"
        },
        "outputId": "766078d8-a37c-4d19-9406-7e6b121788aa"
      },
      "outputs": [
        {
          "output_type": "stream",
          "name": "stdout",
          "text": [
            "[nltk_data] Downloading package punkt to /root/nltk_data...\n",
            "[nltk_data]   Package punkt is already up-to-date!\n",
            "[nltk_data] Downloading package stopwords to /root/nltk_data...\n",
            "[nltk_data]   Package stopwords is already up-to-date!\n"
          ]
        }
      ],
      "source": [
        "### The required libraries and packages\n",
        "import pandas as pd\n",
        "import numpy as np\n",
        "from google.colab import drive\n",
        "import seaborn as sns\n",
        "import regex as re\n",
        "\n",
        "import nltk\n",
        "from nltk.tokenize import word_tokenize\n",
        "nltk.download('punkt')\n",
        "nltk.download('stopwords')\n",
        "from sklearn.feature_extraction.text import CountVectorizer, TfidfVectorizer\n",
        "\n",
        "from sklearn.decomposition import PCA\n",
        "from sklearn.preprocessing import Normalizer, StandardScaler\n",
        "from sklearn.preprocessing import LabelEncoder\n",
        "from sklearn.model_selection import train_test_split\n",
        "from sklearn.metrics import confusion_matrix, classification_report\n",
        "from sklearn.preprocessing import \n",
        "\n",
        "import warnings\n",
        "warnings.filterwarnings(\"ignore\")"
      ]
    },
    {
      "cell_type": "markdown",
      "metadata": {
        "id": "uw7Z9BHgU0PL"
      },
      "source": [
        "## Importing the Data"
      ]
    },
    {
      "cell_type": "code",
      "execution_count": null,
      "metadata": {
        "colab": {
          "base_uri": "https://localhost:8080/"
        },
        "id": "EtBadif5VixE",
        "outputId": "8f50176f-9f20-4bbb-aac9-a115e0925d4d"
      },
      "outputs": [
        {
          "output_type": "stream",
          "name": "stdout",
          "text": [
            "Drive already mounted at /content/drive; to attempt to forcibly remount, call drive.mount(\"/content/drive\", force_remount=True).\n"
          ]
        }
      ],
      "source": [
        "drive.mount('/content/drive')"
      ]
    },
    {
      "cell_type": "code",
      "execution_count": null,
      "metadata": {
        "colab": {
          "base_uri": "https://localhost:8080/",
          "height": 243
        },
        "id": "pdduayuwN171",
        "outputId": "962d453a-50ab-4e3c-e44c-381c5e9ee153"
      },
      "outputs": [
        {
          "output_type": "stream",
          "name": "stdout",
          "text": [
            "(525, 5)\n"
          ]
        },
        {
          "output_type": "execute_result",
          "data": {
            "text/plain": [
              "  Defect-ID in Roundcube Github issues repository  \\\n",
              "0                                           #4528   \n",
              "1                                           #4529   \n",
              "\n",
              "                                       Issue Title  \\\n",
              "0  Wrong alert when uploading attachment over size   \n",
              "1                    Recovery lost draft message ?   \n",
              "\n",
              "                                          Issue Body  \\\n",
              "0  _Reported by @alecpl on 17 Apr 2014 15:33 UTC ...   \n",
              "1  _Reported by L1Ntu on 17 Apr 2014 19:41 UTC as...   \n",
              "\n",
              "  Defect Type Family using IEEE Defect Type Family using ODC  \n",
              "0                ieee_logicData                 control_flow  \n",
              "1                ieee_logicData                 control_flow  "
            ],
            "text/html": [
              "\n",
              "  <div id=\"df-2bc73c46-bd47-4607-b887-3c88f65b4278\">\n",
              "    <div class=\"colab-df-container\">\n",
              "      <div>\n",
              "<style scoped>\n",
              "    .dataframe tbody tr th:only-of-type {\n",
              "        vertical-align: middle;\n",
              "    }\n",
              "\n",
              "    .dataframe tbody tr th {\n",
              "        vertical-align: top;\n",
              "    }\n",
              "\n",
              "    .dataframe thead th {\n",
              "        text-align: right;\n",
              "    }\n",
              "</style>\n",
              "<table border=\"1\" class=\"dataframe\">\n",
              "  <thead>\n",
              "    <tr style=\"text-align: right;\">\n",
              "      <th></th>\n",
              "      <th>Defect-ID in Roundcube Github issues repository</th>\n",
              "      <th>Issue Title</th>\n",
              "      <th>Issue Body</th>\n",
              "      <th>Defect Type Family using IEEE</th>\n",
              "      <th>Defect Type Family using ODC</th>\n",
              "    </tr>\n",
              "  </thead>\n",
              "  <tbody>\n",
              "    <tr>\n",
              "      <th>0</th>\n",
              "      <td>#4528</td>\n",
              "      <td>Wrong alert when uploading attachment over size</td>\n",
              "      <td>_Reported by @alecpl on 17 Apr 2014 15:33 UTC ...</td>\n",
              "      <td>ieee_logicData</td>\n",
              "      <td>control_flow</td>\n",
              "    </tr>\n",
              "    <tr>\n",
              "      <th>1</th>\n",
              "      <td>#4529</td>\n",
              "      <td>Recovery lost draft message ?</td>\n",
              "      <td>_Reported by L1Ntu on 17 Apr 2014 19:41 UTC as...</td>\n",
              "      <td>ieee_logicData</td>\n",
              "      <td>control_flow</td>\n",
              "    </tr>\n",
              "  </tbody>\n",
              "</table>\n",
              "</div>\n",
              "      <button class=\"colab-df-convert\" onclick=\"convertToInteractive('df-2bc73c46-bd47-4607-b887-3c88f65b4278')\"\n",
              "              title=\"Convert this dataframe to an interactive table.\"\n",
              "              style=\"display:none;\">\n",
              "        \n",
              "  <svg xmlns=\"http://www.w3.org/2000/svg\" height=\"24px\"viewBox=\"0 0 24 24\"\n",
              "       width=\"24px\">\n",
              "    <path d=\"M0 0h24v24H0V0z\" fill=\"none\"/>\n",
              "    <path d=\"M18.56 5.44l.94 2.06.94-2.06 2.06-.94-2.06-.94-.94-2.06-.94 2.06-2.06.94zm-11 1L8.5 8.5l.94-2.06 2.06-.94-2.06-.94L8.5 2.5l-.94 2.06-2.06.94zm10 10l.94 2.06.94-2.06 2.06-.94-2.06-.94-.94-2.06-.94 2.06-2.06.94z\"/><path d=\"M17.41 7.96l-1.37-1.37c-.4-.4-.92-.59-1.43-.59-.52 0-1.04.2-1.43.59L10.3 9.45l-7.72 7.72c-.78.78-.78 2.05 0 2.83L4 21.41c.39.39.9.59 1.41.59.51 0 1.02-.2 1.41-.59l7.78-7.78 2.81-2.81c.8-.78.8-2.07 0-2.86zM5.41 20L4 18.59l7.72-7.72 1.47 1.35L5.41 20z\"/>\n",
              "  </svg>\n",
              "      </button>\n",
              "      \n",
              "  <style>\n",
              "    .colab-df-container {\n",
              "      display:flex;\n",
              "      flex-wrap:wrap;\n",
              "      gap: 12px;\n",
              "    }\n",
              "\n",
              "    .colab-df-convert {\n",
              "      background-color: #E8F0FE;\n",
              "      border: none;\n",
              "      border-radius: 50%;\n",
              "      cursor: pointer;\n",
              "      display: none;\n",
              "      fill: #1967D2;\n",
              "      height: 32px;\n",
              "      padding: 0 0 0 0;\n",
              "      width: 32px;\n",
              "    }\n",
              "\n",
              "    .colab-df-convert:hover {\n",
              "      background-color: #E2EBFA;\n",
              "      box-shadow: 0px 1px 2px rgba(60, 64, 67, 0.3), 0px 1px 3px 1px rgba(60, 64, 67, 0.15);\n",
              "      fill: #174EA6;\n",
              "    }\n",
              "\n",
              "    [theme=dark] .colab-df-convert {\n",
              "      background-color: #3B4455;\n",
              "      fill: #D2E3FC;\n",
              "    }\n",
              "\n",
              "    [theme=dark] .colab-df-convert:hover {\n",
              "      background-color: #434B5C;\n",
              "      box-shadow: 0px 1px 3px 1px rgba(0, 0, 0, 0.15);\n",
              "      filter: drop-shadow(0px 1px 2px rgba(0, 0, 0, 0.3));\n",
              "      fill: #FFFFFF;\n",
              "    }\n",
              "  </style>\n",
              "\n",
              "      <script>\n",
              "        const buttonEl =\n",
              "          document.querySelector('#df-2bc73c46-bd47-4607-b887-3c88f65b4278 button.colab-df-convert');\n",
              "        buttonEl.style.display =\n",
              "          google.colab.kernel.accessAllowed ? 'block' : 'none';\n",
              "\n",
              "        async function convertToInteractive(key) {\n",
              "          const element = document.querySelector('#df-2bc73c46-bd47-4607-b887-3c88f65b4278');\n",
              "          const dataTable =\n",
              "            await google.colab.kernel.invokeFunction('convertToInteractive',\n",
              "                                                     [key], {});\n",
              "          if (!dataTable) return;\n",
              "\n",
              "          const docLinkHtml = 'Like what you see? Visit the ' +\n",
              "            '<a target=\"_blank\" href=https://colab.research.google.com/notebooks/data_table.ipynb>data table notebook</a>'\n",
              "            + ' to learn more about interactive tables.';\n",
              "          element.innerHTML = '';\n",
              "          dataTable['output_type'] = 'display_data';\n",
              "          await google.colab.output.renderOutput(dataTable, element);\n",
              "          const docLink = document.createElement('div');\n",
              "          docLink.innerHTML = docLinkHtml;\n",
              "          element.appendChild(docLink);\n",
              "        }\n",
              "      </script>\n",
              "    </div>\n",
              "  </div>\n",
              "  "
            ]
          },
          "metadata": {},
          "execution_count": 73
        }
      ],
      "source": [
        "path = 'drive/MyDrive/Colab Notebooks/M3_MP6_SoftwareBugs/'\n",
        "# path = 'drive/MyDrive/<YOUR FOLDER NAME AS IT APPEARS ON GOOGLE DRIVE>'\n",
        "\n",
        "df_raw = pd.read_csv(path+'issues_data.csv')\n",
        "print(df_raw.shape)\n",
        "df_raw.head(2)"
      ]
    },
    {
      "cell_type": "code",
      "execution_count": null,
      "metadata": {
        "colab": {
          "base_uri": "https://localhost:8080/",
          "height": 225
        },
        "id": "gbGi8TFG8MWy",
        "outputId": "7bd28592-5dfe-4dfd-8408-7d2c59a197ba"
      },
      "outputs": [
        {
          "output_type": "execute_result",
          "data": {
            "text/plain": [
              "  Defect-ID in Roundcube Github issues repository  \\\n",
              "0                                           #4528   \n",
              "1                                           #4529   \n",
              "\n",
              "                                       Issue Title  \\\n",
              "0  Wrong alert when uploading attachment over size   \n",
              "1                    Recovery lost draft message ?   \n",
              "\n",
              "                                          Issue Body  \\\n",
              "0  _Reported by @alecpl on 17 Apr 2014 15:33 UTC ...   \n",
              "1  _Reported by L1Ntu on 17 Apr 2014 19:41 UTC as...   \n",
              "\n",
              "  Defect Type Family using IEEE Defect Type Family using ODC  \n",
              "0                ieee_logicData                 control_flow  \n",
              "1                ieee_logicData                 control_flow  "
            ],
            "text/html": [
              "\n",
              "  <div id=\"df-2c3d2263-c2eb-4ab9-87db-57f14ea459a3\">\n",
              "    <div class=\"colab-df-container\">\n",
              "      <div>\n",
              "<style scoped>\n",
              "    .dataframe tbody tr th:only-of-type {\n",
              "        vertical-align: middle;\n",
              "    }\n",
              "\n",
              "    .dataframe tbody tr th {\n",
              "        vertical-align: top;\n",
              "    }\n",
              "\n",
              "    .dataframe thead th {\n",
              "        text-align: right;\n",
              "    }\n",
              "</style>\n",
              "<table border=\"1\" class=\"dataframe\">\n",
              "  <thead>\n",
              "    <tr style=\"text-align: right;\">\n",
              "      <th></th>\n",
              "      <th>Defect-ID in Roundcube Github issues repository</th>\n",
              "      <th>Issue Title</th>\n",
              "      <th>Issue Body</th>\n",
              "      <th>Defect Type Family using IEEE</th>\n",
              "      <th>Defect Type Family using ODC</th>\n",
              "    </tr>\n",
              "  </thead>\n",
              "  <tbody>\n",
              "    <tr>\n",
              "      <th>0</th>\n",
              "      <td>#4528</td>\n",
              "      <td>Wrong alert when uploading attachment over size</td>\n",
              "      <td>_Reported by @alecpl on 17 Apr 2014 15:33 UTC ...</td>\n",
              "      <td>ieee_logicData</td>\n",
              "      <td>control_flow</td>\n",
              "    </tr>\n",
              "    <tr>\n",
              "      <th>1</th>\n",
              "      <td>#4529</td>\n",
              "      <td>Recovery lost draft message ?</td>\n",
              "      <td>_Reported by L1Ntu on 17 Apr 2014 19:41 UTC as...</td>\n",
              "      <td>ieee_logicData</td>\n",
              "      <td>control_flow</td>\n",
              "    </tr>\n",
              "  </tbody>\n",
              "</table>\n",
              "</div>\n",
              "      <button class=\"colab-df-convert\" onclick=\"convertToInteractive('df-2c3d2263-c2eb-4ab9-87db-57f14ea459a3')\"\n",
              "              title=\"Convert this dataframe to an interactive table.\"\n",
              "              style=\"display:none;\">\n",
              "        \n",
              "  <svg xmlns=\"http://www.w3.org/2000/svg\" height=\"24px\"viewBox=\"0 0 24 24\"\n",
              "       width=\"24px\">\n",
              "    <path d=\"M0 0h24v24H0V0z\" fill=\"none\"/>\n",
              "    <path d=\"M18.56 5.44l.94 2.06.94-2.06 2.06-.94-2.06-.94-.94-2.06-.94 2.06-2.06.94zm-11 1L8.5 8.5l.94-2.06 2.06-.94-2.06-.94L8.5 2.5l-.94 2.06-2.06.94zm10 10l.94 2.06.94-2.06 2.06-.94-2.06-.94-.94-2.06-.94 2.06-2.06.94z\"/><path d=\"M17.41 7.96l-1.37-1.37c-.4-.4-.92-.59-1.43-.59-.52 0-1.04.2-1.43.59L10.3 9.45l-7.72 7.72c-.78.78-.78 2.05 0 2.83L4 21.41c.39.39.9.59 1.41.59.51 0 1.02-.2 1.41-.59l7.78-7.78 2.81-2.81c.8-.78.8-2.07 0-2.86zM5.41 20L4 18.59l7.72-7.72 1.47 1.35L5.41 20z\"/>\n",
              "  </svg>\n",
              "      </button>\n",
              "      \n",
              "  <style>\n",
              "    .colab-df-container {\n",
              "      display:flex;\n",
              "      flex-wrap:wrap;\n",
              "      gap: 12px;\n",
              "    }\n",
              "\n",
              "    .colab-df-convert {\n",
              "      background-color: #E8F0FE;\n",
              "      border: none;\n",
              "      border-radius: 50%;\n",
              "      cursor: pointer;\n",
              "      display: none;\n",
              "      fill: #1967D2;\n",
              "      height: 32px;\n",
              "      padding: 0 0 0 0;\n",
              "      width: 32px;\n",
              "    }\n",
              "\n",
              "    .colab-df-convert:hover {\n",
              "      background-color: #E2EBFA;\n",
              "      box-shadow: 0px 1px 2px rgba(60, 64, 67, 0.3), 0px 1px 3px 1px rgba(60, 64, 67, 0.15);\n",
              "      fill: #174EA6;\n",
              "    }\n",
              "\n",
              "    [theme=dark] .colab-df-convert {\n",
              "      background-color: #3B4455;\n",
              "      fill: #D2E3FC;\n",
              "    }\n",
              "\n",
              "    [theme=dark] .colab-df-convert:hover {\n",
              "      background-color: #434B5C;\n",
              "      box-shadow: 0px 1px 3px 1px rgba(0, 0, 0, 0.15);\n",
              "      filter: drop-shadow(0px 1px 2px rgba(0, 0, 0, 0.3));\n",
              "      fill: #FFFFFF;\n",
              "    }\n",
              "  </style>\n",
              "\n",
              "      <script>\n",
              "        const buttonEl =\n",
              "          document.querySelector('#df-2c3d2263-c2eb-4ab9-87db-57f14ea459a3 button.colab-df-convert');\n",
              "        buttonEl.style.display =\n",
              "          google.colab.kernel.accessAllowed ? 'block' : 'none';\n",
              "\n",
              "        async function convertToInteractive(key) {\n",
              "          const element = document.querySelector('#df-2c3d2263-c2eb-4ab9-87db-57f14ea459a3');\n",
              "          const dataTable =\n",
              "            await google.colab.kernel.invokeFunction('convertToInteractive',\n",
              "                                                     [key], {});\n",
              "          if (!dataTable) return;\n",
              "\n",
              "          const docLinkHtml = 'Like what you see? Visit the ' +\n",
              "            '<a target=\"_blank\" href=https://colab.research.google.com/notebooks/data_table.ipynb>data table notebook</a>'\n",
              "            + ' to learn more about interactive tables.';\n",
              "          element.innerHTML = '';\n",
              "          dataTable['output_type'] = 'display_data';\n",
              "          await google.colab.output.renderOutput(dataTable, element);\n",
              "          const docLink = document.createElement('div');\n",
              "          docLink.innerHTML = docLinkHtml;\n",
              "          element.appendChild(docLink);\n",
              "        }\n",
              "      </script>\n",
              "    </div>\n",
              "  </div>\n",
              "  "
            ]
          },
          "metadata": {},
          "execution_count": 74
        }
      ],
      "source": [
        "df = df_raw.copy()\n",
        "df.head(2)"
      ]
    },
    {
      "cell_type": "code",
      "source": [
        "df.iloc[:2, :10]"
      ],
      "metadata": {
        "colab": {
          "base_uri": "https://localhost:8080/",
          "height": 225
        },
        "id": "OgDSROVq1d5F",
        "outputId": "df3069aa-6baf-4c82-be01-cb8c1caed64d"
      },
      "execution_count": null,
      "outputs": [
        {
          "output_type": "execute_result",
          "data": {
            "text/plain": [
              "  Defect-ID in Roundcube Github issues repository  \\\n",
              "0                                           #4528   \n",
              "1                                           #4529   \n",
              "\n",
              "                                       Issue Title  \\\n",
              "0  Wrong alert when uploading attachment over size   \n",
              "1                    Recovery lost draft message ?   \n",
              "\n",
              "                                          Issue Body  \\\n",
              "0  _Reported by @alecpl on 17 Apr 2014 15:33 UTC ...   \n",
              "1  _Reported by L1Ntu on 17 Apr 2014 19:41 UTC as...   \n",
              "\n",
              "  Defect Type Family using IEEE Defect Type Family using ODC  \n",
              "0                ieee_logicData                 control_flow  \n",
              "1                ieee_logicData                 control_flow  "
            ],
            "text/html": [
              "\n",
              "  <div id=\"df-75872c9b-4bbc-475a-bc48-1cbfe0f993b6\">\n",
              "    <div class=\"colab-df-container\">\n",
              "      <div>\n",
              "<style scoped>\n",
              "    .dataframe tbody tr th:only-of-type {\n",
              "        vertical-align: middle;\n",
              "    }\n",
              "\n",
              "    .dataframe tbody tr th {\n",
              "        vertical-align: top;\n",
              "    }\n",
              "\n",
              "    .dataframe thead th {\n",
              "        text-align: right;\n",
              "    }\n",
              "</style>\n",
              "<table border=\"1\" class=\"dataframe\">\n",
              "  <thead>\n",
              "    <tr style=\"text-align: right;\">\n",
              "      <th></th>\n",
              "      <th>Defect-ID in Roundcube Github issues repository</th>\n",
              "      <th>Issue Title</th>\n",
              "      <th>Issue Body</th>\n",
              "      <th>Defect Type Family using IEEE</th>\n",
              "      <th>Defect Type Family using ODC</th>\n",
              "    </tr>\n",
              "  </thead>\n",
              "  <tbody>\n",
              "    <tr>\n",
              "      <th>0</th>\n",
              "      <td>#4528</td>\n",
              "      <td>Wrong alert when uploading attachment over size</td>\n",
              "      <td>_Reported by @alecpl on 17 Apr 2014 15:33 UTC ...</td>\n",
              "      <td>ieee_logicData</td>\n",
              "      <td>control_flow</td>\n",
              "    </tr>\n",
              "    <tr>\n",
              "      <th>1</th>\n",
              "      <td>#4529</td>\n",
              "      <td>Recovery lost draft message ?</td>\n",
              "      <td>_Reported by L1Ntu on 17 Apr 2014 19:41 UTC as...</td>\n",
              "      <td>ieee_logicData</td>\n",
              "      <td>control_flow</td>\n",
              "    </tr>\n",
              "  </tbody>\n",
              "</table>\n",
              "</div>\n",
              "      <button class=\"colab-df-convert\" onclick=\"convertToInteractive('df-75872c9b-4bbc-475a-bc48-1cbfe0f993b6')\"\n",
              "              title=\"Convert this dataframe to an interactive table.\"\n",
              "              style=\"display:none;\">\n",
              "        \n",
              "  <svg xmlns=\"http://www.w3.org/2000/svg\" height=\"24px\"viewBox=\"0 0 24 24\"\n",
              "       width=\"24px\">\n",
              "    <path d=\"M0 0h24v24H0V0z\" fill=\"none\"/>\n",
              "    <path d=\"M18.56 5.44l.94 2.06.94-2.06 2.06-.94-2.06-.94-.94-2.06-.94 2.06-2.06.94zm-11 1L8.5 8.5l.94-2.06 2.06-.94-2.06-.94L8.5 2.5l-.94 2.06-2.06.94zm10 10l.94 2.06.94-2.06 2.06-.94-2.06-.94-.94-2.06-.94 2.06-2.06.94z\"/><path d=\"M17.41 7.96l-1.37-1.37c-.4-.4-.92-.59-1.43-.59-.52 0-1.04.2-1.43.59L10.3 9.45l-7.72 7.72c-.78.78-.78 2.05 0 2.83L4 21.41c.39.39.9.59 1.41.59.51 0 1.02-.2 1.41-.59l7.78-7.78 2.81-2.81c.8-.78.8-2.07 0-2.86zM5.41 20L4 18.59l7.72-7.72 1.47 1.35L5.41 20z\"/>\n",
              "  </svg>\n",
              "      </button>\n",
              "      \n",
              "  <style>\n",
              "    .colab-df-container {\n",
              "      display:flex;\n",
              "      flex-wrap:wrap;\n",
              "      gap: 12px;\n",
              "    }\n",
              "\n",
              "    .colab-df-convert {\n",
              "      background-color: #E8F0FE;\n",
              "      border: none;\n",
              "      border-radius: 50%;\n",
              "      cursor: pointer;\n",
              "      display: none;\n",
              "      fill: #1967D2;\n",
              "      height: 32px;\n",
              "      padding: 0 0 0 0;\n",
              "      width: 32px;\n",
              "    }\n",
              "\n",
              "    .colab-df-convert:hover {\n",
              "      background-color: #E2EBFA;\n",
              "      box-shadow: 0px 1px 2px rgba(60, 64, 67, 0.3), 0px 1px 3px 1px rgba(60, 64, 67, 0.15);\n",
              "      fill: #174EA6;\n",
              "    }\n",
              "\n",
              "    [theme=dark] .colab-df-convert {\n",
              "      background-color: #3B4455;\n",
              "      fill: #D2E3FC;\n",
              "    }\n",
              "\n",
              "    [theme=dark] .colab-df-convert:hover {\n",
              "      background-color: #434B5C;\n",
              "      box-shadow: 0px 1px 3px 1px rgba(0, 0, 0, 0.15);\n",
              "      filter: drop-shadow(0px 1px 2px rgba(0, 0, 0, 0.3));\n",
              "      fill: #FFFFFF;\n",
              "    }\n",
              "  </style>\n",
              "\n",
              "      <script>\n",
              "        const buttonEl =\n",
              "          document.querySelector('#df-75872c9b-4bbc-475a-bc48-1cbfe0f993b6 button.colab-df-convert');\n",
              "        buttonEl.style.display =\n",
              "          google.colab.kernel.accessAllowed ? 'block' : 'none';\n",
              "\n",
              "        async function convertToInteractive(key) {\n",
              "          const element = document.querySelector('#df-75872c9b-4bbc-475a-bc48-1cbfe0f993b6');\n",
              "          const dataTable =\n",
              "            await google.colab.kernel.invokeFunction('convertToInteractive',\n",
              "                                                     [key], {});\n",
              "          if (!dataTable) return;\n",
              "\n",
              "          const docLinkHtml = 'Like what you see? Visit the ' +\n",
              "            '<a target=\"_blank\" href=https://colab.research.google.com/notebooks/data_table.ipynb>data table notebook</a>'\n",
              "            + ' to learn more about interactive tables.';\n",
              "          element.innerHTML = '';\n",
              "          dataTable['output_type'] = 'display_data';\n",
              "          await google.colab.output.renderOutput(dataTable, element);\n",
              "          const docLink = document.createElement('div');\n",
              "          docLink.innerHTML = docLinkHtml;\n",
              "          element.appendChild(docLink);\n",
              "        }\n",
              "      </script>\n",
              "    </div>\n",
              "  </div>\n",
              "  "
            ]
          },
          "metadata": {},
          "execution_count": 75
        }
      ]
    },
    {
      "cell_type": "markdown",
      "metadata": {
        "id": "mvHJsdQB4tYi"
      },
      "source": [
        "## Graded Exercises (10 points)\n",
        "\n",
        "**Exercises 1 to 4** (7 points)\n",
        "\n",
        "deal with the data, the basic anslysis, and its visualization and data preparation of **FEATURES** only.\n",
        "\n",
        "**Exercises 5 & 6** (3 points)\n",
        "\n",
        "Exercise 5 and 6 deal with the classification model and its performance Metrics.\n",
        "\n",
        "As you can see, this Mini-Project is centered around the data, rather than the algorithms"
      ]
    },
    {
      "cell_type": "markdown",
      "metadata": {
        "id": "M-wokqH94zBd"
      },
      "source": [
        "### Exercise 1 (1 point): Basic EDA\n",
        "\n",
        "- Check the shape of the data\n",
        "- Check the nulls present in each field\n",
        "- Check the unique number of entries per field\n",
        "- Drop the features that are either redundant or that do not help in modelling\n",
        "\n",
        "\n",
        "**Hint** : Use the `pandas` module"
      ]
    },
    {
      "cell_type": "code",
      "execution_count": null,
      "metadata": {
        "id": "dI8LpqKkSbNw",
        "colab": {
          "base_uri": "https://localhost:8080/"
        },
        "outputId": "c3198b01-4102-42c2-b5ad-bcccd0d6adb4"
      },
      "outputs": [
        {
          "output_type": "execute_result",
          "data": {
            "text/plain": [
              "(525, 5)"
            ]
          },
          "metadata": {},
          "execution_count": 76
        }
      ],
      "source": [
        "# Check the shape of the data\n",
        "df.shape"
      ]
    },
    {
      "cell_type": "code",
      "source": [
        "# Check the nulls present in each field\n",
        "df.isnull().sum()"
      ],
      "metadata": {
        "id": "jZgdhhHn4VpU",
        "colab": {
          "base_uri": "https://localhost:8080/"
        },
        "outputId": "73f1ea85-5a66-4f6b-8b73-f9ce4e8cb8c9"
      },
      "execution_count": null,
      "outputs": [
        {
          "output_type": "execute_result",
          "data": {
            "text/plain": [
              "Defect-ID in Roundcube Github issues repository    0\n",
              "Issue Title                                        0\n",
              "Issue Body                                         0\n",
              "Defect Type Family using IEEE                      0\n",
              "Defect Type Family using ODC                       0\n",
              "dtype: int64"
            ]
          },
          "metadata": {},
          "execution_count": 77
        }
      ]
    },
    {
      "cell_type": "code",
      "source": [
        "# Check the unique number of entries per field\n",
        "df.nunique()"
      ],
      "metadata": {
        "id": "o3pW2qjT4Zhw",
        "colab": {
          "base_uri": "https://localhost:8080/"
        },
        "outputId": "b0117fc5-14ca-490e-e33d-005af4806fdc"
      },
      "execution_count": null,
      "outputs": [
        {
          "output_type": "execute_result",
          "data": {
            "text/plain": [
              "Defect-ID in Roundcube Github issues repository    525\n",
              "Issue Title                                        524\n",
              "Issue Body                                         525\n",
              "Defect Type Family using IEEE                        6\n",
              "Defect Type Family using ODC                         3\n",
              "dtype: int64"
            ]
          },
          "metadata": {},
          "execution_count": 78
        }
      ]
    },
    {
      "cell_type": "code",
      "source": [
        "# Check the statistics of the data for each column\n",
        "df.dtypes"
      ],
      "metadata": {
        "id": "d2tzzX_T4eZu",
        "colab": {
          "base_uri": "https://localhost:8080/"
        },
        "outputId": "60a80e6a-70db-4ebd-80ab-880ab7907717"
      },
      "execution_count": null,
      "outputs": [
        {
          "output_type": "execute_result",
          "data": {
            "text/plain": [
              "Defect-ID in Roundcube Github issues repository    object\n",
              "Issue Title                                        object\n",
              "Issue Body                                         object\n",
              "Defect Type Family using IEEE                      object\n",
              "Defect Type Family using ODC                       object\n",
              "dtype: object"
            ]
          },
          "metadata": {},
          "execution_count": 79
        }
      ]
    },
    {
      "cell_type": "code",
      "source": [
        "# Remove the unwanted columns\n",
        "df = df.drop(columns=\"Defect-ID in Roundcube Github issues repository\")\n",
        "print(df.shape)\n",
        "df.head()"
      ],
      "metadata": {
        "colab": {
          "base_uri": "https://localhost:8080/",
          "height": 372
        },
        "id": "dl5YI07NT3RY",
        "outputId": "0af5d862-4433-4728-9115-f629f1d32539"
      },
      "execution_count": null,
      "outputs": [
        {
          "output_type": "stream",
          "name": "stdout",
          "text": [
            "(525, 4)\n"
          ]
        },
        {
          "output_type": "execute_result",
          "data": {
            "text/plain": [
              "                                         Issue Title  \\\n",
              "0    Wrong alert when uploading attachment over size   \n",
              "1                      Recovery lost draft message ?   \n",
              "2  Switching from html to text when initially com...   \n",
              "3                   problem with raw message headers   \n",
              "4         Followup-To always blank when sending mail   \n",
              "\n",
              "                                          Issue Body  \\\n",
              "0  _Reported by @alecpl on 17 Apr 2014 15:33 UTC ...   \n",
              "1  _Reported by L1Ntu on 17 Apr 2014 19:41 UTC as...   \n",
              "2  _Reported by arodier on 18 Apr 2014 16:09 UTC ...   \n",
              "3  _Reported by Thunderstick on 19 Apr 2014 10:06...   \n",
              "4  _Reported by brendan on 23 Apr 2014 17:05 UTC ...   \n",
              "\n",
              "  Defect Type Family using IEEE Defect Type Family using ODC  \n",
              "0                ieee_logicData                 control_flow  \n",
              "1                ieee_logicData                 control_flow  \n",
              "2                ieee_logicData                 control_flow  \n",
              "3                ieee_logicData                 control_flow  \n",
              "4                ieee_logicData                 control_flow  "
            ],
            "text/html": [
              "\n",
              "  <div id=\"df-48c79daf-47da-4b0a-812c-39df7edb2300\">\n",
              "    <div class=\"colab-df-container\">\n",
              "      <div>\n",
              "<style scoped>\n",
              "    .dataframe tbody tr th:only-of-type {\n",
              "        vertical-align: middle;\n",
              "    }\n",
              "\n",
              "    .dataframe tbody tr th {\n",
              "        vertical-align: top;\n",
              "    }\n",
              "\n",
              "    .dataframe thead th {\n",
              "        text-align: right;\n",
              "    }\n",
              "</style>\n",
              "<table border=\"1\" class=\"dataframe\">\n",
              "  <thead>\n",
              "    <tr style=\"text-align: right;\">\n",
              "      <th></th>\n",
              "      <th>Issue Title</th>\n",
              "      <th>Issue Body</th>\n",
              "      <th>Defect Type Family using IEEE</th>\n",
              "      <th>Defect Type Family using ODC</th>\n",
              "    </tr>\n",
              "  </thead>\n",
              "  <tbody>\n",
              "    <tr>\n",
              "      <th>0</th>\n",
              "      <td>Wrong alert when uploading attachment over size</td>\n",
              "      <td>_Reported by @alecpl on 17 Apr 2014 15:33 UTC ...</td>\n",
              "      <td>ieee_logicData</td>\n",
              "      <td>control_flow</td>\n",
              "    </tr>\n",
              "    <tr>\n",
              "      <th>1</th>\n",
              "      <td>Recovery lost draft message ?</td>\n",
              "      <td>_Reported by L1Ntu on 17 Apr 2014 19:41 UTC as...</td>\n",
              "      <td>ieee_logicData</td>\n",
              "      <td>control_flow</td>\n",
              "    </tr>\n",
              "    <tr>\n",
              "      <th>2</th>\n",
              "      <td>Switching from html to text when initially com...</td>\n",
              "      <td>_Reported by arodier on 18 Apr 2014 16:09 UTC ...</td>\n",
              "      <td>ieee_logicData</td>\n",
              "      <td>control_flow</td>\n",
              "    </tr>\n",
              "    <tr>\n",
              "      <th>3</th>\n",
              "      <td>problem with raw message headers</td>\n",
              "      <td>_Reported by Thunderstick on 19 Apr 2014 10:06...</td>\n",
              "      <td>ieee_logicData</td>\n",
              "      <td>control_flow</td>\n",
              "    </tr>\n",
              "    <tr>\n",
              "      <th>4</th>\n",
              "      <td>Followup-To always blank when sending mail</td>\n",
              "      <td>_Reported by brendan on 23 Apr 2014 17:05 UTC ...</td>\n",
              "      <td>ieee_logicData</td>\n",
              "      <td>control_flow</td>\n",
              "    </tr>\n",
              "  </tbody>\n",
              "</table>\n",
              "</div>\n",
              "      <button class=\"colab-df-convert\" onclick=\"convertToInteractive('df-48c79daf-47da-4b0a-812c-39df7edb2300')\"\n",
              "              title=\"Convert this dataframe to an interactive table.\"\n",
              "              style=\"display:none;\">\n",
              "        \n",
              "  <svg xmlns=\"http://www.w3.org/2000/svg\" height=\"24px\"viewBox=\"0 0 24 24\"\n",
              "       width=\"24px\">\n",
              "    <path d=\"M0 0h24v24H0V0z\" fill=\"none\"/>\n",
              "    <path d=\"M18.56 5.44l.94 2.06.94-2.06 2.06-.94-2.06-.94-.94-2.06-.94 2.06-2.06.94zm-11 1L8.5 8.5l.94-2.06 2.06-.94-2.06-.94L8.5 2.5l-.94 2.06-2.06.94zm10 10l.94 2.06.94-2.06 2.06-.94-2.06-.94-.94-2.06-.94 2.06-2.06.94z\"/><path d=\"M17.41 7.96l-1.37-1.37c-.4-.4-.92-.59-1.43-.59-.52 0-1.04.2-1.43.59L10.3 9.45l-7.72 7.72c-.78.78-.78 2.05 0 2.83L4 21.41c.39.39.9.59 1.41.59.51 0 1.02-.2 1.41-.59l7.78-7.78 2.81-2.81c.8-.78.8-2.07 0-2.86zM5.41 20L4 18.59l7.72-7.72 1.47 1.35L5.41 20z\"/>\n",
              "  </svg>\n",
              "      </button>\n",
              "      \n",
              "  <style>\n",
              "    .colab-df-container {\n",
              "      display:flex;\n",
              "      flex-wrap:wrap;\n",
              "      gap: 12px;\n",
              "    }\n",
              "\n",
              "    .colab-df-convert {\n",
              "      background-color: #E8F0FE;\n",
              "      border: none;\n",
              "      border-radius: 50%;\n",
              "      cursor: pointer;\n",
              "      display: none;\n",
              "      fill: #1967D2;\n",
              "      height: 32px;\n",
              "      padding: 0 0 0 0;\n",
              "      width: 32px;\n",
              "    }\n",
              "\n",
              "    .colab-df-convert:hover {\n",
              "      background-color: #E2EBFA;\n",
              "      box-shadow: 0px 1px 2px rgba(60, 64, 67, 0.3), 0px 1px 3px 1px rgba(60, 64, 67, 0.15);\n",
              "      fill: #174EA6;\n",
              "    }\n",
              "\n",
              "    [theme=dark] .colab-df-convert {\n",
              "      background-color: #3B4455;\n",
              "      fill: #D2E3FC;\n",
              "    }\n",
              "\n",
              "    [theme=dark] .colab-df-convert:hover {\n",
              "      background-color: #434B5C;\n",
              "      box-shadow: 0px 1px 3px 1px rgba(0, 0, 0, 0.15);\n",
              "      filter: drop-shadow(0px 1px 2px rgba(0, 0, 0, 0.3));\n",
              "      fill: #FFFFFF;\n",
              "    }\n",
              "  </style>\n",
              "\n",
              "      <script>\n",
              "        const buttonEl =\n",
              "          document.querySelector('#df-48c79daf-47da-4b0a-812c-39df7edb2300 button.colab-df-convert');\n",
              "        buttonEl.style.display =\n",
              "          google.colab.kernel.accessAllowed ? 'block' : 'none';\n",
              "\n",
              "        async function convertToInteractive(key) {\n",
              "          const element = document.querySelector('#df-48c79daf-47da-4b0a-812c-39df7edb2300');\n",
              "          const dataTable =\n",
              "            await google.colab.kernel.invokeFunction('convertToInteractive',\n",
              "                                                     [key], {});\n",
              "          if (!dataTable) return;\n",
              "\n",
              "          const docLinkHtml = 'Like what you see? Visit the ' +\n",
              "            '<a target=\"_blank\" href=https://colab.research.google.com/notebooks/data_table.ipynb>data table notebook</a>'\n",
              "            + ' to learn more about interactive tables.';\n",
              "          element.innerHTML = '';\n",
              "          dataTable['output_type'] = 'display_data';\n",
              "          await google.colab.output.renderOutput(dataTable, element);\n",
              "          const docLink = document.createElement('div');\n",
              "          docLink.innerHTML = docLinkHtml;\n",
              "          element.appendChild(docLink);\n",
              "        }\n",
              "      </script>\n",
              "    </div>\n",
              "  </div>\n",
              "  "
            ]
          },
          "metadata": {},
          "execution_count": 80
        }
      ]
    },
    {
      "cell_type": "code",
      "source": [
        "df[\"Defect Type Family using IEEE\"].value_counts().to_frame().reset_index().rename(columns={\"Defect Type Family using IEEE\":\"counts\"}).rename(columns={\"index\":\"Defect Type Family using IEEE\"})"
      ],
      "metadata": {
        "colab": {
          "base_uri": "https://localhost:8080/",
          "height": 237
        },
        "id": "7YM0xhZnxHbO",
        "outputId": "e7c3d2d5-1a2a-4697-d42d-6a68a0bd9f69"
      },
      "execution_count": null,
      "outputs": [
        {
          "output_type": "execute_result",
          "data": {
            "text/plain": [
              "  Defect Type Family using IEEE  counts\n",
              "0                ieee_logicData     347\n",
              "1                ieee_interface     102\n",
              "2  ieee_otherBuildConfigInstall      48\n",
              "3                   ieee_syntax      18\n",
              "4                ieee_standards       6\n",
              "5              ieee_description       4"
            ],
            "text/html": [
              "\n",
              "  <div id=\"df-9e4cd149-4090-4814-bec3-823c53b2e929\">\n",
              "    <div class=\"colab-df-container\">\n",
              "      <div>\n",
              "<style scoped>\n",
              "    .dataframe tbody tr th:only-of-type {\n",
              "        vertical-align: middle;\n",
              "    }\n",
              "\n",
              "    .dataframe tbody tr th {\n",
              "        vertical-align: top;\n",
              "    }\n",
              "\n",
              "    .dataframe thead th {\n",
              "        text-align: right;\n",
              "    }\n",
              "</style>\n",
              "<table border=\"1\" class=\"dataframe\">\n",
              "  <thead>\n",
              "    <tr style=\"text-align: right;\">\n",
              "      <th></th>\n",
              "      <th>Defect Type Family using IEEE</th>\n",
              "      <th>counts</th>\n",
              "    </tr>\n",
              "  </thead>\n",
              "  <tbody>\n",
              "    <tr>\n",
              "      <th>0</th>\n",
              "      <td>ieee_logicData</td>\n",
              "      <td>347</td>\n",
              "    </tr>\n",
              "    <tr>\n",
              "      <th>1</th>\n",
              "      <td>ieee_interface</td>\n",
              "      <td>102</td>\n",
              "    </tr>\n",
              "    <tr>\n",
              "      <th>2</th>\n",
              "      <td>ieee_otherBuildConfigInstall</td>\n",
              "      <td>48</td>\n",
              "    </tr>\n",
              "    <tr>\n",
              "      <th>3</th>\n",
              "      <td>ieee_syntax</td>\n",
              "      <td>18</td>\n",
              "    </tr>\n",
              "    <tr>\n",
              "      <th>4</th>\n",
              "      <td>ieee_standards</td>\n",
              "      <td>6</td>\n",
              "    </tr>\n",
              "    <tr>\n",
              "      <th>5</th>\n",
              "      <td>ieee_description</td>\n",
              "      <td>4</td>\n",
              "    </tr>\n",
              "  </tbody>\n",
              "</table>\n",
              "</div>\n",
              "      <button class=\"colab-df-convert\" onclick=\"convertToInteractive('df-9e4cd149-4090-4814-bec3-823c53b2e929')\"\n",
              "              title=\"Convert this dataframe to an interactive table.\"\n",
              "              style=\"display:none;\">\n",
              "        \n",
              "  <svg xmlns=\"http://www.w3.org/2000/svg\" height=\"24px\"viewBox=\"0 0 24 24\"\n",
              "       width=\"24px\">\n",
              "    <path d=\"M0 0h24v24H0V0z\" fill=\"none\"/>\n",
              "    <path d=\"M18.56 5.44l.94 2.06.94-2.06 2.06-.94-2.06-.94-.94-2.06-.94 2.06-2.06.94zm-11 1L8.5 8.5l.94-2.06 2.06-.94-2.06-.94L8.5 2.5l-.94 2.06-2.06.94zm10 10l.94 2.06.94-2.06 2.06-.94-2.06-.94-.94-2.06-.94 2.06-2.06.94z\"/><path d=\"M17.41 7.96l-1.37-1.37c-.4-.4-.92-.59-1.43-.59-.52 0-1.04.2-1.43.59L10.3 9.45l-7.72 7.72c-.78.78-.78 2.05 0 2.83L4 21.41c.39.39.9.59 1.41.59.51 0 1.02-.2 1.41-.59l7.78-7.78 2.81-2.81c.8-.78.8-2.07 0-2.86zM5.41 20L4 18.59l7.72-7.72 1.47 1.35L5.41 20z\"/>\n",
              "  </svg>\n",
              "      </button>\n",
              "      \n",
              "  <style>\n",
              "    .colab-df-container {\n",
              "      display:flex;\n",
              "      flex-wrap:wrap;\n",
              "      gap: 12px;\n",
              "    }\n",
              "\n",
              "    .colab-df-convert {\n",
              "      background-color: #E8F0FE;\n",
              "      border: none;\n",
              "      border-radius: 50%;\n",
              "      cursor: pointer;\n",
              "      display: none;\n",
              "      fill: #1967D2;\n",
              "      height: 32px;\n",
              "      padding: 0 0 0 0;\n",
              "      width: 32px;\n",
              "    }\n",
              "\n",
              "    .colab-df-convert:hover {\n",
              "      background-color: #E2EBFA;\n",
              "      box-shadow: 0px 1px 2px rgba(60, 64, 67, 0.3), 0px 1px 3px 1px rgba(60, 64, 67, 0.15);\n",
              "      fill: #174EA6;\n",
              "    }\n",
              "\n",
              "    [theme=dark] .colab-df-convert {\n",
              "      background-color: #3B4455;\n",
              "      fill: #D2E3FC;\n",
              "    }\n",
              "\n",
              "    [theme=dark] .colab-df-convert:hover {\n",
              "      background-color: #434B5C;\n",
              "      box-shadow: 0px 1px 3px 1px rgba(0, 0, 0, 0.15);\n",
              "      filter: drop-shadow(0px 1px 2px rgba(0, 0, 0, 0.3));\n",
              "      fill: #FFFFFF;\n",
              "    }\n",
              "  </style>\n",
              "\n",
              "      <script>\n",
              "        const buttonEl =\n",
              "          document.querySelector('#df-9e4cd149-4090-4814-bec3-823c53b2e929 button.colab-df-convert');\n",
              "        buttonEl.style.display =\n",
              "          google.colab.kernel.accessAllowed ? 'block' : 'none';\n",
              "\n",
              "        async function convertToInteractive(key) {\n",
              "          const element = document.querySelector('#df-9e4cd149-4090-4814-bec3-823c53b2e929');\n",
              "          const dataTable =\n",
              "            await google.colab.kernel.invokeFunction('convertToInteractive',\n",
              "                                                     [key], {});\n",
              "          if (!dataTable) return;\n",
              "\n",
              "          const docLinkHtml = 'Like what you see? Visit the ' +\n",
              "            '<a target=\"_blank\" href=https://colab.research.google.com/notebooks/data_table.ipynb>data table notebook</a>'\n",
              "            + ' to learn more about interactive tables.';\n",
              "          element.innerHTML = '';\n",
              "          dataTable['output_type'] = 'display_data';\n",
              "          await google.colab.output.renderOutput(dataTable, element);\n",
              "          const docLink = document.createElement('div');\n",
              "          docLink.innerHTML = docLinkHtml;\n",
              "          element.appendChild(docLink);\n",
              "        }\n",
              "      </script>\n",
              "    </div>\n",
              "  </div>\n",
              "  "
            ]
          },
          "metadata": {},
          "execution_count": 81
        }
      ]
    },
    {
      "cell_type": "code",
      "source": [
        "df[\"Defect Type Family using ODC\"].value_counts().to_frame().reset_index().rename(columns={\"Defect Type Family using ODC\":\"counts\"}).rename(columns={\"index\":\"Defect Type Family using ODC\"})"
      ],
      "metadata": {
        "colab": {
          "base_uri": "https://localhost:8080/",
          "height": 143
        },
        "id": "3Nuh2kjISmga",
        "outputId": "6819b888-49fd-4519-b375-ef046329c9a9"
      },
      "execution_count": null,
      "outputs": [
        {
          "output_type": "execute_result",
          "data": {
            "text/plain": [
              "  Defect Type Family using ODC  counts\n",
              "0                 control_flow     394\n",
              "1                   structural      76\n",
              "2               non_functional      55"
            ],
            "text/html": [
              "\n",
              "  <div id=\"df-6d6c2463-52b1-443a-8014-ad5437d3606c\">\n",
              "    <div class=\"colab-df-container\">\n",
              "      <div>\n",
              "<style scoped>\n",
              "    .dataframe tbody tr th:only-of-type {\n",
              "        vertical-align: middle;\n",
              "    }\n",
              "\n",
              "    .dataframe tbody tr th {\n",
              "        vertical-align: top;\n",
              "    }\n",
              "\n",
              "    .dataframe thead th {\n",
              "        text-align: right;\n",
              "    }\n",
              "</style>\n",
              "<table border=\"1\" class=\"dataframe\">\n",
              "  <thead>\n",
              "    <tr style=\"text-align: right;\">\n",
              "      <th></th>\n",
              "      <th>Defect Type Family using ODC</th>\n",
              "      <th>counts</th>\n",
              "    </tr>\n",
              "  </thead>\n",
              "  <tbody>\n",
              "    <tr>\n",
              "      <th>0</th>\n",
              "      <td>control_flow</td>\n",
              "      <td>394</td>\n",
              "    </tr>\n",
              "    <tr>\n",
              "      <th>1</th>\n",
              "      <td>structural</td>\n",
              "      <td>76</td>\n",
              "    </tr>\n",
              "    <tr>\n",
              "      <th>2</th>\n",
              "      <td>non_functional</td>\n",
              "      <td>55</td>\n",
              "    </tr>\n",
              "  </tbody>\n",
              "</table>\n",
              "</div>\n",
              "      <button class=\"colab-df-convert\" onclick=\"convertToInteractive('df-6d6c2463-52b1-443a-8014-ad5437d3606c')\"\n",
              "              title=\"Convert this dataframe to an interactive table.\"\n",
              "              style=\"display:none;\">\n",
              "        \n",
              "  <svg xmlns=\"http://www.w3.org/2000/svg\" height=\"24px\"viewBox=\"0 0 24 24\"\n",
              "       width=\"24px\">\n",
              "    <path d=\"M0 0h24v24H0V0z\" fill=\"none\"/>\n",
              "    <path d=\"M18.56 5.44l.94 2.06.94-2.06 2.06-.94-2.06-.94-.94-2.06-.94 2.06-2.06.94zm-11 1L8.5 8.5l.94-2.06 2.06-.94-2.06-.94L8.5 2.5l-.94 2.06-2.06.94zm10 10l.94 2.06.94-2.06 2.06-.94-2.06-.94-.94-2.06-.94 2.06-2.06.94z\"/><path d=\"M17.41 7.96l-1.37-1.37c-.4-.4-.92-.59-1.43-.59-.52 0-1.04.2-1.43.59L10.3 9.45l-7.72 7.72c-.78.78-.78 2.05 0 2.83L4 21.41c.39.39.9.59 1.41.59.51 0 1.02-.2 1.41-.59l7.78-7.78 2.81-2.81c.8-.78.8-2.07 0-2.86zM5.41 20L4 18.59l7.72-7.72 1.47 1.35L5.41 20z\"/>\n",
              "  </svg>\n",
              "      </button>\n",
              "      \n",
              "  <style>\n",
              "    .colab-df-container {\n",
              "      display:flex;\n",
              "      flex-wrap:wrap;\n",
              "      gap: 12px;\n",
              "    }\n",
              "\n",
              "    .colab-df-convert {\n",
              "      background-color: #E8F0FE;\n",
              "      border: none;\n",
              "      border-radius: 50%;\n",
              "      cursor: pointer;\n",
              "      display: none;\n",
              "      fill: #1967D2;\n",
              "      height: 32px;\n",
              "      padding: 0 0 0 0;\n",
              "      width: 32px;\n",
              "    }\n",
              "\n",
              "    .colab-df-convert:hover {\n",
              "      background-color: #E2EBFA;\n",
              "      box-shadow: 0px 1px 2px rgba(60, 64, 67, 0.3), 0px 1px 3px 1px rgba(60, 64, 67, 0.15);\n",
              "      fill: #174EA6;\n",
              "    }\n",
              "\n",
              "    [theme=dark] .colab-df-convert {\n",
              "      background-color: #3B4455;\n",
              "      fill: #D2E3FC;\n",
              "    }\n",
              "\n",
              "    [theme=dark] .colab-df-convert:hover {\n",
              "      background-color: #434B5C;\n",
              "      box-shadow: 0px 1px 3px 1px rgba(0, 0, 0, 0.15);\n",
              "      filter: drop-shadow(0px 1px 2px rgba(0, 0, 0, 0.3));\n",
              "      fill: #FFFFFF;\n",
              "    }\n",
              "  </style>\n",
              "\n",
              "      <script>\n",
              "        const buttonEl =\n",
              "          document.querySelector('#df-6d6c2463-52b1-443a-8014-ad5437d3606c button.colab-df-convert');\n",
              "        buttonEl.style.display =\n",
              "          google.colab.kernel.accessAllowed ? 'block' : 'none';\n",
              "\n",
              "        async function convertToInteractive(key) {\n",
              "          const element = document.querySelector('#df-6d6c2463-52b1-443a-8014-ad5437d3606c');\n",
              "          const dataTable =\n",
              "            await google.colab.kernel.invokeFunction('convertToInteractive',\n",
              "                                                     [key], {});\n",
              "          if (!dataTable) return;\n",
              "\n",
              "          const docLinkHtml = 'Like what you see? Visit the ' +\n",
              "            '<a target=\"_blank\" href=https://colab.research.google.com/notebooks/data_table.ipynb>data table notebook</a>'\n",
              "            + ' to learn more about interactive tables.';\n",
              "          element.innerHTML = '';\n",
              "          dataTable['output_type'] = 'display_data';\n",
              "          await google.colab.output.renderOutput(dataTable, element);\n",
              "          const docLink = document.createElement('div');\n",
              "          docLink.innerHTML = docLinkHtml;\n",
              "          element.appendChild(docLink);\n",
              "        }\n",
              "      </script>\n",
              "    </div>\n",
              "  </div>\n",
              "  "
            ]
          },
          "metadata": {},
          "execution_count": 82
        }
      ]
    },
    {
      "cell_type": "markdown",
      "metadata": {
        "id": "-F_8MS1xOIdg"
      },
      "source": [
        "### Exercise 2 (3 Marks): Text Pre-Processing for Feature Columns\n",
        "\n",
        "For each row of the data, write **functions** perform the following steps seperately for the feature Data columns - `Issue Title` and `Issue Body`\n",
        "\n"
      ]
    },
    {
      "cell_type": "code",
      "source": [
        "stopwords = nltk.corpus.stopwords.words('english')\n",
        "print(stopwords)"
      ],
      "metadata": {
        "colab": {
          "base_uri": "https://localhost:8080/"
        },
        "id": "gfrGKh9QOEXY",
        "outputId": "87ee7c7e-d4fe-4832-96c4-4596b70cbb99"
      },
      "execution_count": null,
      "outputs": [
        {
          "output_type": "stream",
          "name": "stdout",
          "text": [
            "['i', 'me', 'my', 'myself', 'we', 'our', 'ours', 'ourselves', 'you', \"you're\", \"you've\", \"you'll\", \"you'd\", 'your', 'yours', 'yourself', 'yourselves', 'he', 'him', 'his', 'himself', 'she', \"she's\", 'her', 'hers', 'herself', 'it', \"it's\", 'its', 'itself', 'they', 'them', 'their', 'theirs', 'themselves', 'what', 'which', 'who', 'whom', 'this', 'that', \"that'll\", 'these', 'those', 'am', 'is', 'are', 'was', 'were', 'be', 'been', 'being', 'have', 'has', 'had', 'having', 'do', 'does', 'did', 'doing', 'a', 'an', 'the', 'and', 'but', 'if', 'or', 'because', 'as', 'until', 'while', 'of', 'at', 'by', 'for', 'with', 'about', 'against', 'between', 'into', 'through', 'during', 'before', 'after', 'above', 'below', 'to', 'from', 'up', 'down', 'in', 'out', 'on', 'off', 'over', 'under', 'again', 'further', 'then', 'once', 'here', 'there', 'when', 'where', 'why', 'how', 'all', 'any', 'both', 'each', 'few', 'more', 'most', 'other', 'some', 'such', 'no', 'nor', 'not', 'only', 'own', 'same', 'so', 'than', 'too', 'very', 's', 't', 'can', 'will', 'just', 'don', \"don't\", 'should', \"should've\", 'now', 'd', 'll', 'm', 'o', 're', 've', 'y', 'ain', 'aren', \"aren't\", 'couldn', \"couldn't\", 'didn', \"didn't\", 'doesn', \"doesn't\", 'hadn', \"hadn't\", 'hasn', \"hasn't\", 'haven', \"haven't\", 'isn', \"isn't\", 'ma', 'mightn', \"mightn't\", 'mustn', \"mustn't\", 'needn', \"needn't\", 'shan', \"shan't\", 'shouldn', \"shouldn't\", 'wasn', \"wasn't\", 'weren', \"weren't\", 'won', \"won't\", 'wouldn', \"wouldn't\"]\n"
          ]
        }
      ]
    },
    {
      "cell_type": "markdown",
      "source": [
        "##### **Function - 1: (To be performed for `Issue Title` ONLY)**\n",
        "\n",
        "Hint: The following steps will be present in both the functions\n",
        "\n",
        "* Make all the texts to Lower case\n",
        "* Remove punctuations, numbers, symbols and other emojis and replace with empty spaces. \n",
        "\n",
        "  This is done to ensure only the text is retained.\n",
        "* Strip the excess spaces\n",
        "* Remove the stop words using english stop words of nltk library\n",
        "* Strip the excess spaces\n",
        "* Remove words smaller than 3 letters (example: a, i , n, it, js, ab etc. )"
      ],
      "metadata": {
        "id": "7Noj9heBpDFk"
      }
    },
    {
      "cell_type": "code",
      "source": [
        "def tp_title(paragraph):\n",
        "\n",
        "  # Step - Convert to lower case\n",
        "  paragraph = paragraph.lower()\n",
        "\n",
        "  # Step - Keep only alphabetical characters\n",
        "  paragraph = re.sub('[^a-z]+', ' ', paragraph)\n",
        "\n",
        "  # Step - Strip the excess spaces\n",
        "  paragraph = paragraph.strip()\n",
        "\n",
        "  # Step - Remove words smaller than 3 letters\n",
        "  list_words = paragraph.split()\n",
        "  words_min_size = [word for word in list_words if len(word)>2]\n",
        "\n",
        "  # Step - Join Back the words\n",
        "  paragraph = \" \".join(words_min_size)\n",
        "\n",
        "  # Step - Remove the English Stop words\n",
        "  stop_words_eng = nltk.corpus.stopwords.words('english')\n",
        "  # stop_words_eng = set(stopwords.words('english'))\n",
        "  word_tokens = word_tokenize(paragraph)\n",
        "  filtered_para = []\n",
        "  for w in word_tokens:\n",
        "      if w not in stop_words_eng:\n",
        "          filtered_para.append(w)  \n",
        "\n",
        "  # Step - Join Back the words\n",
        "  paragraph = \" \".join(filtered_para)\n",
        "  return paragraph\n",
        "  \n",
        "\n",
        "\n",
        "paragraph = df.iloc[1, 0]\n",
        "print(paragraph)\n",
        "print(\"=\"*30)\n",
        "tp_title(paragraph)"
      ],
      "metadata": {
        "colab": {
          "base_uri": "https://localhost:8080/",
          "height": 71
        },
        "id": "XGV3m50pNvvm",
        "outputId": "88712916-695f-461e-a00d-398bfffc01ee"
      },
      "execution_count": null,
      "outputs": [
        {
          "output_type": "stream",
          "name": "stdout",
          "text": [
            "Recovery lost draft message ?\n",
            "==============================\n"
          ]
        },
        {
          "output_type": "execute_result",
          "data": {
            "text/plain": [
              "'recovery lost draft message'"
            ],
            "application/vnd.google.colaboratory.intrinsic+json": {
              "type": "string"
            }
          },
          "metadata": {},
          "execution_count": 84
        }
      ]
    },
    {
      "cell_type": "markdown",
      "source": [
        "##### **Function - 2 (To be performed for `Issue Body` ONLY)**\n",
        "\n",
        "Hint: Either copy paste the steps of Function-1 or call the function and add the below steps\n",
        "\n",
        "* Split lines \n",
        "* Remove first and last lines such as \n",
        "\n",
        "  -`_Reported by L1Ntu on 17 Apr 2014 19:41 UTC as Trac ticket #1489818_`\n",
        "\n",
        "  -`_Migrated-From: http://trac.roundcube.net/ticket/1489818_`\n",
        "\n",
        "  by replacing with empty/no space - `\" \"` or `\"\"`\n",
        "* Remove lines containing urls\n",
        "\n",
        "  (**Hint**: it contains `http`,`www.`, `.com`, `.net` etc) by replacing with empty/no space\n",
        "* Join back the lines with a space `\" \"`\n",
        "* Strip the excess spaces\n",
        "\n",
        "**Hint:** For the below tasks, Copy paste the lines of code from above `Function-1`\n",
        "* Make all the texts to Lower case\n",
        "* Remove punctuations, numbers, symbols and other emojis and replace with empty spaces. \n",
        "\n",
        "  This is done to ensure only the text is retained.\n",
        "* Strip the excess spaces\n",
        "* Remove the stop words using english stop words of nltk library\n",
        "* Strip the excess spaces\n",
        "* Remove words smaller than 3 letters (example: a, i , n, it, js, ab etc. )\n",
        "* Strip the excess spaces\n",
        "* If the entry contains only a space `\" \"`, replace it with no character `\"\"`"
      ],
      "metadata": {
        "id": "0chK-YFGpDcv"
      }
    },
    {
      "cell_type": "markdown",
      "source": [
        "#### Using the functions: \n",
        "\n",
        "For each Use the above 2 functions on respective columns, to achieve the desired tasks."
      ],
      "metadata": {
        "id": "3UzV1DtrpTsB"
      }
    },
    {
      "cell_type": "code",
      "source": [
        "def tp_body(paragraph):\n",
        "\n",
        "  # Step - Splitlines\n",
        "  list_sentences = paragraph.splitlines()\n",
        "\n",
        "  # Step - Remove Last Lines\n",
        "  list_sentences[0] = \"\"\n",
        "  list_sentences[-1] = \"\"\n",
        "\n",
        "  # Step - Remove the lines that contain any URLs\n",
        "  url_terms = [\"www\", \"http\", \".net\", \".com\"]\n",
        "  for nth, sentence in enumerate(list_sentences):\n",
        "    for url_term in url_terms:\n",
        "      if url_term in sentence:\n",
        "        list_sentences[nth] = ''\n",
        "\n",
        "  # Step - Join Back the lines\n",
        "  paragraph = \" \".join(list_sentences)\n",
        "\n",
        "  # Step - Strip the excess spaces\n",
        "  paragraph = paragraph.strip()\n",
        "\n",
        "  # Step - Convert to lower case\n",
        "  paragraph = paragraph.lower()\n",
        "\n",
        "  # Step - Keep only alphabetical characters\n",
        "  paragraph = re.sub('[^a-z]+', ' ', paragraph)\n",
        "\n",
        "  # Step - Strip the excess spaces\n",
        "  paragraph = paragraph.strip()\n",
        "\n",
        "  # Step - Remove words smaller than 3 letters\n",
        "  list_words = paragraph.split()\n",
        "  words_min_size = [word for word in list_words if len(word)>2]\n",
        "\n",
        "  # Step - Join Back the words\n",
        "  paragraph = \" \".join(words_min_size)\n",
        "\n",
        "  # Step - Remove recurring Characters\n",
        "  paragraph = re.sub(r'([a-z])\\1+', r'\\1', paragraph)\n",
        "\n",
        "  # Step - Remove the English Stop words\n",
        "  stop_words_eng = nltk.corpus.stopwords.words('english')\n",
        "  # stop_words_eng = set(stopwords.words('english'))\n",
        "  word_tokens = word_tokenize(paragraph)\n",
        "  filtered_para = []\n",
        "  for w in word_tokens:\n",
        "      if w not in stop_words_eng:\n",
        "          filtered_para.append(w)  \n",
        "\n",
        "  # Step - Join Back the words\n",
        "  paragraph = \" \".join(filtered_para)\n",
        "\n",
        "  if paragraph==\" \": paragraph = \"\"\n",
        "\n",
        "  return paragraph\n",
        "\n",
        "\n",
        "paragraph = df.iloc[1, 1]\n",
        "print(paragraph)\n",
        "print(\"=\"*30)\n",
        "tp_body(paragraph)  "
      ],
      "metadata": {
        "colab": {
          "base_uri": "https://localhost:8080/",
          "height": 428
        },
        "id": "ruOuDCPNzxfv",
        "outputId": "998daf56-9f46-4736-f692-7d060dfb9865"
      },
      "execution_count": null,
      "outputs": [
        {
          "output_type": "stream",
          "name": "stdout",
          "text": [
            "_Reported by L1Ntu on 17 Apr 2014 19:41 UTC as Trac ticket #1489818_\n",
            "\n",
            "After updating from 0.9.4 to 1.0.0 when i click to compose i have popup :\n",
            "\n",
            "---\n",
            "\n",
            "Recovering message\n",
            "Founded early composed but not sended message.\n",
            "\n",
            "Theme : ...\n",
            "Saved : ...\n",
            "\n",
            "Do u want to recover it ?\n",
            "\n",
            "---\n",
            "\n",
            "After any option (recover/delete/ignore) after some period of time it appears again...\n",
            "\n",
            "_Migrated-From: http://trac.roundcube.net/ticket/1489818_\n",
            "\n",
            "==============================\n"
          ]
        },
        {
          "output_type": "execute_result",
          "data": {
            "text/plain": [
              "'updating click compose popup recovering mesage founded early composed sended mesage theme saved want recover option recover delete ignore period time apears'"
            ],
            "application/vnd.google.colaboratory.intrinsic+json": {
              "type": "string"
            }
          },
          "metadata": {},
          "execution_count": 85
        }
      ]
    },
    {
      "cell_type": "code",
      "source": [
        "df.columns"
      ],
      "metadata": {
        "colab": {
          "base_uri": "https://localhost:8080/"
        },
        "id": "Jec2MpL0a8R1",
        "outputId": "6b3c6a86-4077-4fdc-b121-f9ac0e996ff4"
      },
      "execution_count": null,
      "outputs": [
        {
          "output_type": "execute_result",
          "data": {
            "text/plain": [
              "Index(['Issue Title', 'Issue Body', 'Defect Type Family using IEEE',\n",
              "       'Defect Type Family using ODC'],\n",
              "      dtype='object')"
            ]
          },
          "metadata": {},
          "execution_count": 86
        }
      ]
    },
    {
      "cell_type": "code",
      "source": [
        "df['Issue Body'] = df['Issue Body'].apply(lambda x: tp_body(x))\n",
        "df['Issue Title'] = df['Issue Title'].apply(lambda x: tp_title(x))\n",
        "df.head()"
      ],
      "metadata": {
        "colab": {
          "base_uri": "https://localhost:8080/",
          "height": 354
        },
        "id": "iMZyyH72Niw4",
        "outputId": "75757b59-f3f0-4df8-ddc0-34a35bca0479"
      },
      "execution_count": null,
      "outputs": [
        {
          "output_type": "execute_result",
          "data": {
            "text/plain": [
              "                                         Issue Title  \\\n",
              "0              wrong alert uploading attachment size   \n",
              "1                        recovery lost draft message   \n",
              "2  switching html text initially composing messag...   \n",
              "3                        problem raw message headers   \n",
              "4                 followup always blank sending mail   \n",
              "\n",
              "                                          Issue Body  \\\n",
              "0  try upload file big se eror mesage alert ap up...   \n",
              "1  updating click compose popup recovering mesage...   \n",
              "2  composing new mesage default format html switc...   \n",
              "3  helo want togle raw mesage headers roundcube g...   \n",
              "4  composing mail chose ad folowup adres resultin...   \n",
              "\n",
              "  Defect Type Family using IEEE Defect Type Family using ODC  \n",
              "0                ieee_logicData                 control_flow  \n",
              "1                ieee_logicData                 control_flow  \n",
              "2                ieee_logicData                 control_flow  \n",
              "3                ieee_logicData                 control_flow  \n",
              "4                ieee_logicData                 control_flow  "
            ],
            "text/html": [
              "\n",
              "  <div id=\"df-9397f2d7-8ec5-44b2-aea9-6f9020a0fc31\">\n",
              "    <div class=\"colab-df-container\">\n",
              "      <div>\n",
              "<style scoped>\n",
              "    .dataframe tbody tr th:only-of-type {\n",
              "        vertical-align: middle;\n",
              "    }\n",
              "\n",
              "    .dataframe tbody tr th {\n",
              "        vertical-align: top;\n",
              "    }\n",
              "\n",
              "    .dataframe thead th {\n",
              "        text-align: right;\n",
              "    }\n",
              "</style>\n",
              "<table border=\"1\" class=\"dataframe\">\n",
              "  <thead>\n",
              "    <tr style=\"text-align: right;\">\n",
              "      <th></th>\n",
              "      <th>Issue Title</th>\n",
              "      <th>Issue Body</th>\n",
              "      <th>Defect Type Family using IEEE</th>\n",
              "      <th>Defect Type Family using ODC</th>\n",
              "    </tr>\n",
              "  </thead>\n",
              "  <tbody>\n",
              "    <tr>\n",
              "      <th>0</th>\n",
              "      <td>wrong alert uploading attachment size</td>\n",
              "      <td>try upload file big se eror mesage alert ap up...</td>\n",
              "      <td>ieee_logicData</td>\n",
              "      <td>control_flow</td>\n",
              "    </tr>\n",
              "    <tr>\n",
              "      <th>1</th>\n",
              "      <td>recovery lost draft message</td>\n",
              "      <td>updating click compose popup recovering mesage...</td>\n",
              "      <td>ieee_logicData</td>\n",
              "      <td>control_flow</td>\n",
              "    </tr>\n",
              "    <tr>\n",
              "      <th>2</th>\n",
              "      <td>switching html text initially composing messag...</td>\n",
              "      <td>composing new mesage default format html switc...</td>\n",
              "      <td>ieee_logicData</td>\n",
              "      <td>control_flow</td>\n",
              "    </tr>\n",
              "    <tr>\n",
              "      <th>3</th>\n",
              "      <td>problem raw message headers</td>\n",
              "      <td>helo want togle raw mesage headers roundcube g...</td>\n",
              "      <td>ieee_logicData</td>\n",
              "      <td>control_flow</td>\n",
              "    </tr>\n",
              "    <tr>\n",
              "      <th>4</th>\n",
              "      <td>followup always blank sending mail</td>\n",
              "      <td>composing mail chose ad folowup adres resultin...</td>\n",
              "      <td>ieee_logicData</td>\n",
              "      <td>control_flow</td>\n",
              "    </tr>\n",
              "  </tbody>\n",
              "</table>\n",
              "</div>\n",
              "      <button class=\"colab-df-convert\" onclick=\"convertToInteractive('df-9397f2d7-8ec5-44b2-aea9-6f9020a0fc31')\"\n",
              "              title=\"Convert this dataframe to an interactive table.\"\n",
              "              style=\"display:none;\">\n",
              "        \n",
              "  <svg xmlns=\"http://www.w3.org/2000/svg\" height=\"24px\"viewBox=\"0 0 24 24\"\n",
              "       width=\"24px\">\n",
              "    <path d=\"M0 0h24v24H0V0z\" fill=\"none\"/>\n",
              "    <path d=\"M18.56 5.44l.94 2.06.94-2.06 2.06-.94-2.06-.94-.94-2.06-.94 2.06-2.06.94zm-11 1L8.5 8.5l.94-2.06 2.06-.94-2.06-.94L8.5 2.5l-.94 2.06-2.06.94zm10 10l.94 2.06.94-2.06 2.06-.94-2.06-.94-.94-2.06-.94 2.06-2.06.94z\"/><path d=\"M17.41 7.96l-1.37-1.37c-.4-.4-.92-.59-1.43-.59-.52 0-1.04.2-1.43.59L10.3 9.45l-7.72 7.72c-.78.78-.78 2.05 0 2.83L4 21.41c.39.39.9.59 1.41.59.51 0 1.02-.2 1.41-.59l7.78-7.78 2.81-2.81c.8-.78.8-2.07 0-2.86zM5.41 20L4 18.59l7.72-7.72 1.47 1.35L5.41 20z\"/>\n",
              "  </svg>\n",
              "      </button>\n",
              "      \n",
              "  <style>\n",
              "    .colab-df-container {\n",
              "      display:flex;\n",
              "      flex-wrap:wrap;\n",
              "      gap: 12px;\n",
              "    }\n",
              "\n",
              "    .colab-df-convert {\n",
              "      background-color: #E8F0FE;\n",
              "      border: none;\n",
              "      border-radius: 50%;\n",
              "      cursor: pointer;\n",
              "      display: none;\n",
              "      fill: #1967D2;\n",
              "      height: 32px;\n",
              "      padding: 0 0 0 0;\n",
              "      width: 32px;\n",
              "    }\n",
              "\n",
              "    .colab-df-convert:hover {\n",
              "      background-color: #E2EBFA;\n",
              "      box-shadow: 0px 1px 2px rgba(60, 64, 67, 0.3), 0px 1px 3px 1px rgba(60, 64, 67, 0.15);\n",
              "      fill: #174EA6;\n",
              "    }\n",
              "\n",
              "    [theme=dark] .colab-df-convert {\n",
              "      background-color: #3B4455;\n",
              "      fill: #D2E3FC;\n",
              "    }\n",
              "\n",
              "    [theme=dark] .colab-df-convert:hover {\n",
              "      background-color: #434B5C;\n",
              "      box-shadow: 0px 1px 3px 1px rgba(0, 0, 0, 0.15);\n",
              "      filter: drop-shadow(0px 1px 2px rgba(0, 0, 0, 0.3));\n",
              "      fill: #FFFFFF;\n",
              "    }\n",
              "  </style>\n",
              "\n",
              "      <script>\n",
              "        const buttonEl =\n",
              "          document.querySelector('#df-9397f2d7-8ec5-44b2-aea9-6f9020a0fc31 button.colab-df-convert');\n",
              "        buttonEl.style.display =\n",
              "          google.colab.kernel.accessAllowed ? 'block' : 'none';\n",
              "\n",
              "        async function convertToInteractive(key) {\n",
              "          const element = document.querySelector('#df-9397f2d7-8ec5-44b2-aea9-6f9020a0fc31');\n",
              "          const dataTable =\n",
              "            await google.colab.kernel.invokeFunction('convertToInteractive',\n",
              "                                                     [key], {});\n",
              "          if (!dataTable) return;\n",
              "\n",
              "          const docLinkHtml = 'Like what you see? Visit the ' +\n",
              "            '<a target=\"_blank\" href=https://colab.research.google.com/notebooks/data_table.ipynb>data table notebook</a>'\n",
              "            + ' to learn more about interactive tables.';\n",
              "          element.innerHTML = '';\n",
              "          dataTable['output_type'] = 'display_data';\n",
              "          await google.colab.output.renderOutput(dataTable, element);\n",
              "          const docLink = document.createElement('div');\n",
              "          docLink.innerHTML = docLinkHtml;\n",
              "          element.appendChild(docLink);\n",
              "        }\n",
              "      </script>\n",
              "    </div>\n",
              "  </div>\n",
              "  "
            ]
          },
          "metadata": {},
          "execution_count": 87
        }
      ]
    },
    {
      "cell_type": "code",
      "source": [
        "# Drop all the rows that have no content in them\n",
        "n_title = df[\"Issue Title\"].apply(lambda x:len(x)).values\n",
        "df = df[n_title>0]\n",
        "\n",
        "n_body = df[\"Issue Body\"].apply(lambda x:len(x)).values\n",
        "df = df[n_body>0]\n",
        "\n",
        "df.shape"
      ],
      "metadata": {
        "colab": {
          "base_uri": "https://localhost:8080/"
        },
        "id": "CCKHCbw8NVih",
        "outputId": "105f3242-993e-4064-8749-c4dad6285e23"
      },
      "execution_count": null,
      "outputs": [
        {
          "output_type": "execute_result",
          "data": {
            "text/plain": [
              "(465, 4)"
            ]
          },
          "metadata": {},
          "execution_count": 88
        }
      ]
    },
    {
      "cell_type": "markdown",
      "source": [
        "### Exercise 3a (1 point): Feature Engineering Approach-1\n",
        "\n",
        "* Combine the title and body strings by a space\n",
        "*  the words\n",
        "* Use `CountVectorizer` to Tokenize and transform the the text to features\n",
        "* Reduce the features using PCA"
      ],
      "metadata": {
        "id": "HaATx5TCrXLr"
      }
    },
    {
      "cell_type": "code",
      "execution_count": null,
      "metadata": {
        "id": "JKGS3VaV4iNf",
        "colab": {
          "base_uri": "https://localhost:8080/",
          "height": 755
        },
        "outputId": "0a7c5efb-d3e8-4930-87a4-d07e8614e519"
      },
      "outputs": [
        {
          "output_type": "stream",
          "name": "stdout",
          "text": [
            "(465, 4133)\n",
            "explained_variance_ratio_ = \n",
            "[0.2306453  0.06420583 0.04483837 0.03680194 0.02874212 0.02293313\n",
            " 0.02081733 0.01892165 0.01617982 0.01390135 0.01341697 0.01267601\n",
            " 0.0112773  0.01083197 0.01015332 0.00964032 0.00929494 0.00916292\n",
            " 0.00831448 0.00801334 0.00784482 0.00738311 0.00715036 0.00707935\n",
            " 0.00687222 0.00662933 0.00617808 0.00592656 0.00562128 0.00534015]\n",
            "\n",
            "singular_values_ = \n",
            "[157.05002161  82.86152457  69.2453447   62.73372388  55.44023942\n",
            "  49.52190798  47.18220505  44.98267274  41.59608915  38.55619573\n",
            "  37.87850688  36.81772129  34.72708367  34.03450817  32.95108628\n",
            "  32.10787165  31.52745543  31.30276872  29.81831794  29.27335232\n",
            "  28.96390364  28.09864141  27.65219871  27.51455445  27.10903695\n",
            "  26.62565829  25.70351755  25.17486831  24.51789963  23.89694554]\n"
          ]
        },
        {
          "output_type": "execute_result",
          "data": {
            "text/plain": [
              "         pc_1      pc_2      pc_3      pc_4      pc_5      pc_6      pc_7  \\\n",
              "0   -0.411312 -0.259630 -0.190537 -0.637869  0.120840  0.073194  0.048938   \n",
              "1   -0.348630 -0.217357 -0.170838 -0.597383  0.141433  0.108930 -0.037247   \n",
              "2   -0.308380 -0.189357 -0.154638 -0.454194 -0.006973 -0.001592 -0.145060   \n",
              "3   -0.172041  0.108199 -0.065618  0.132007  0.294291  0.146843 -0.041479   \n",
              "4   -0.389038 -0.246249 -0.186070 -0.573014  0.069310  0.183606  0.062364   \n",
              "..        ...       ...       ...       ...       ...       ...       ...   \n",
              "460 -0.369225 -0.227878 -0.171010 -0.585165  0.118674  0.111273  0.053218   \n",
              "461 -0.054890 -0.012636 -0.036062  0.078210  0.113789 -0.003580 -0.003494   \n",
              "462 -0.072543 -0.190902 -0.132171 -0.217455 -0.218047  0.011336 -0.061939   \n",
              "463 -0.307321 -0.170565 -0.145197 -0.195464 -0.056510  0.174977  0.136618   \n",
              "464 -0.220364 -0.221001 -0.123956 -0.313285  0.092390  0.040623  0.078216   \n",
              "\n",
              "         pc_8      pc_9     pc_10  ...     pc_21     pc_22     pc_23  \\\n",
              "0    0.163435 -0.014750  0.089522  ... -0.079765 -0.124144 -0.018569   \n",
              "1    0.160761  0.099224 -0.046063  ... -0.247479  0.103427  0.183929   \n",
              "2    0.224000  0.196753 -0.174934  ...  0.067901 -0.125170  0.197107   \n",
              "3   -0.010489  0.150686  0.222461  ... -0.067191  0.117002 -0.233620   \n",
              "4    0.155677 -0.010392  0.035981  ... -0.054315  0.213451 -0.026702   \n",
              "..        ...       ...       ...  ...       ...       ...       ...   \n",
              "460  0.079988 -0.010194  0.139891  ... -0.371650 -0.244700 -0.064379   \n",
              "461  0.101278  0.115364 -0.315379  ... -0.065268  0.184322  0.235844   \n",
              "462 -0.037649  0.310451 -0.210116  ... -0.005241 -0.042949 -0.136323   \n",
              "463  0.037791  0.162467  0.153549  ... -0.026661 -0.035982 -0.258386   \n",
              "464 -0.010263 -0.085909  0.202406  ...  0.020204  0.215150 -0.006417   \n",
              "\n",
              "        pc_24     pc_25     pc_26     pc_27     pc_28     pc_29     pc_30  \n",
              "0    0.027867  0.101140  0.186077  0.290931 -0.158089 -0.122780 -0.029276  \n",
              "1    0.115840  0.144195  0.159648  0.041140 -0.045212 -0.174958 -0.023902  \n",
              "2   -0.018553 -0.003418  0.074125 -0.362943 -0.197501  0.026030  0.153037  \n",
              "3    0.165647  0.458310  0.233780 -0.087882 -0.052882 -0.231959 -0.039937  \n",
              "4   -0.260194 -0.101652 -0.104232 -0.210556 -0.010576 -0.047670 -0.340486  \n",
              "..        ...       ...       ...       ...       ...       ...       ...  \n",
              "460  0.128532 -0.052724  0.173728 -0.076481  0.019285 -0.010339  0.005221  \n",
              "461 -0.023969  0.192931  0.208856  0.118216  0.129982 -0.207769  0.087386  \n",
              "462 -0.087306 -0.253354  0.323936 -0.294303 -0.089426 -0.245807  0.134397  \n",
              "463  0.029397  0.366738  0.124428  0.175930 -0.317982  0.100957 -0.001967  \n",
              "464  0.011835 -0.096249 -0.027957 -0.177904 -0.035019 -0.038398  0.084244  \n",
              "\n",
              "[465 rows x 30 columns]"
            ],
            "text/html": [
              "\n",
              "  <div id=\"df-c5d4e698-f798-4cac-b2f8-299cdb1276da\">\n",
              "    <div class=\"colab-df-container\">\n",
              "      <div>\n",
              "<style scoped>\n",
              "    .dataframe tbody tr th:only-of-type {\n",
              "        vertical-align: middle;\n",
              "    }\n",
              "\n",
              "    .dataframe tbody tr th {\n",
              "        vertical-align: top;\n",
              "    }\n",
              "\n",
              "    .dataframe thead th {\n",
              "        text-align: right;\n",
              "    }\n",
              "</style>\n",
              "<table border=\"1\" class=\"dataframe\">\n",
              "  <thead>\n",
              "    <tr style=\"text-align: right;\">\n",
              "      <th></th>\n",
              "      <th>pc_1</th>\n",
              "      <th>pc_2</th>\n",
              "      <th>pc_3</th>\n",
              "      <th>pc_4</th>\n",
              "      <th>pc_5</th>\n",
              "      <th>pc_6</th>\n",
              "      <th>pc_7</th>\n",
              "      <th>pc_8</th>\n",
              "      <th>pc_9</th>\n",
              "      <th>pc_10</th>\n",
              "      <th>...</th>\n",
              "      <th>pc_21</th>\n",
              "      <th>pc_22</th>\n",
              "      <th>pc_23</th>\n",
              "      <th>pc_24</th>\n",
              "      <th>pc_25</th>\n",
              "      <th>pc_26</th>\n",
              "      <th>pc_27</th>\n",
              "      <th>pc_28</th>\n",
              "      <th>pc_29</th>\n",
              "      <th>pc_30</th>\n",
              "    </tr>\n",
              "  </thead>\n",
              "  <tbody>\n",
              "    <tr>\n",
              "      <th>0</th>\n",
              "      <td>-0.411312</td>\n",
              "      <td>-0.259630</td>\n",
              "      <td>-0.190537</td>\n",
              "      <td>-0.637869</td>\n",
              "      <td>0.120840</td>\n",
              "      <td>0.073194</td>\n",
              "      <td>0.048938</td>\n",
              "      <td>0.163435</td>\n",
              "      <td>-0.014750</td>\n",
              "      <td>0.089522</td>\n",
              "      <td>...</td>\n",
              "      <td>-0.079765</td>\n",
              "      <td>-0.124144</td>\n",
              "      <td>-0.018569</td>\n",
              "      <td>0.027867</td>\n",
              "      <td>0.101140</td>\n",
              "      <td>0.186077</td>\n",
              "      <td>0.290931</td>\n",
              "      <td>-0.158089</td>\n",
              "      <td>-0.122780</td>\n",
              "      <td>-0.029276</td>\n",
              "    </tr>\n",
              "    <tr>\n",
              "      <th>1</th>\n",
              "      <td>-0.348630</td>\n",
              "      <td>-0.217357</td>\n",
              "      <td>-0.170838</td>\n",
              "      <td>-0.597383</td>\n",
              "      <td>0.141433</td>\n",
              "      <td>0.108930</td>\n",
              "      <td>-0.037247</td>\n",
              "      <td>0.160761</td>\n",
              "      <td>0.099224</td>\n",
              "      <td>-0.046063</td>\n",
              "      <td>...</td>\n",
              "      <td>-0.247479</td>\n",
              "      <td>0.103427</td>\n",
              "      <td>0.183929</td>\n",
              "      <td>0.115840</td>\n",
              "      <td>0.144195</td>\n",
              "      <td>0.159648</td>\n",
              "      <td>0.041140</td>\n",
              "      <td>-0.045212</td>\n",
              "      <td>-0.174958</td>\n",
              "      <td>-0.023902</td>\n",
              "    </tr>\n",
              "    <tr>\n",
              "      <th>2</th>\n",
              "      <td>-0.308380</td>\n",
              "      <td>-0.189357</td>\n",
              "      <td>-0.154638</td>\n",
              "      <td>-0.454194</td>\n",
              "      <td>-0.006973</td>\n",
              "      <td>-0.001592</td>\n",
              "      <td>-0.145060</td>\n",
              "      <td>0.224000</td>\n",
              "      <td>0.196753</td>\n",
              "      <td>-0.174934</td>\n",
              "      <td>...</td>\n",
              "      <td>0.067901</td>\n",
              "      <td>-0.125170</td>\n",
              "      <td>0.197107</td>\n",
              "      <td>-0.018553</td>\n",
              "      <td>-0.003418</td>\n",
              "      <td>0.074125</td>\n",
              "      <td>-0.362943</td>\n",
              "      <td>-0.197501</td>\n",
              "      <td>0.026030</td>\n",
              "      <td>0.153037</td>\n",
              "    </tr>\n",
              "    <tr>\n",
              "      <th>3</th>\n",
              "      <td>-0.172041</td>\n",
              "      <td>0.108199</td>\n",
              "      <td>-0.065618</td>\n",
              "      <td>0.132007</td>\n",
              "      <td>0.294291</td>\n",
              "      <td>0.146843</td>\n",
              "      <td>-0.041479</td>\n",
              "      <td>-0.010489</td>\n",
              "      <td>0.150686</td>\n",
              "      <td>0.222461</td>\n",
              "      <td>...</td>\n",
              "      <td>-0.067191</td>\n",
              "      <td>0.117002</td>\n",
              "      <td>-0.233620</td>\n",
              "      <td>0.165647</td>\n",
              "      <td>0.458310</td>\n",
              "      <td>0.233780</td>\n",
              "      <td>-0.087882</td>\n",
              "      <td>-0.052882</td>\n",
              "      <td>-0.231959</td>\n",
              "      <td>-0.039937</td>\n",
              "    </tr>\n",
              "    <tr>\n",
              "      <th>4</th>\n",
              "      <td>-0.389038</td>\n",
              "      <td>-0.246249</td>\n",
              "      <td>-0.186070</td>\n",
              "      <td>-0.573014</td>\n",
              "      <td>0.069310</td>\n",
              "      <td>0.183606</td>\n",
              "      <td>0.062364</td>\n",
              "      <td>0.155677</td>\n",
              "      <td>-0.010392</td>\n",
              "      <td>0.035981</td>\n",
              "      <td>...</td>\n",
              "      <td>-0.054315</td>\n",
              "      <td>0.213451</td>\n",
              "      <td>-0.026702</td>\n",
              "      <td>-0.260194</td>\n",
              "      <td>-0.101652</td>\n",
              "      <td>-0.104232</td>\n",
              "      <td>-0.210556</td>\n",
              "      <td>-0.010576</td>\n",
              "      <td>-0.047670</td>\n",
              "      <td>-0.340486</td>\n",
              "    </tr>\n",
              "    <tr>\n",
              "      <th>...</th>\n",
              "      <td>...</td>\n",
              "      <td>...</td>\n",
              "      <td>...</td>\n",
              "      <td>...</td>\n",
              "      <td>...</td>\n",
              "      <td>...</td>\n",
              "      <td>...</td>\n",
              "      <td>...</td>\n",
              "      <td>...</td>\n",
              "      <td>...</td>\n",
              "      <td>...</td>\n",
              "      <td>...</td>\n",
              "      <td>...</td>\n",
              "      <td>...</td>\n",
              "      <td>...</td>\n",
              "      <td>...</td>\n",
              "      <td>...</td>\n",
              "      <td>...</td>\n",
              "      <td>...</td>\n",
              "      <td>...</td>\n",
              "      <td>...</td>\n",
              "    </tr>\n",
              "    <tr>\n",
              "      <th>460</th>\n",
              "      <td>-0.369225</td>\n",
              "      <td>-0.227878</td>\n",
              "      <td>-0.171010</td>\n",
              "      <td>-0.585165</td>\n",
              "      <td>0.118674</td>\n",
              "      <td>0.111273</td>\n",
              "      <td>0.053218</td>\n",
              "      <td>0.079988</td>\n",
              "      <td>-0.010194</td>\n",
              "      <td>0.139891</td>\n",
              "      <td>...</td>\n",
              "      <td>-0.371650</td>\n",
              "      <td>-0.244700</td>\n",
              "      <td>-0.064379</td>\n",
              "      <td>0.128532</td>\n",
              "      <td>-0.052724</td>\n",
              "      <td>0.173728</td>\n",
              "      <td>-0.076481</td>\n",
              "      <td>0.019285</td>\n",
              "      <td>-0.010339</td>\n",
              "      <td>0.005221</td>\n",
              "    </tr>\n",
              "    <tr>\n",
              "      <th>461</th>\n",
              "      <td>-0.054890</td>\n",
              "      <td>-0.012636</td>\n",
              "      <td>-0.036062</td>\n",
              "      <td>0.078210</td>\n",
              "      <td>0.113789</td>\n",
              "      <td>-0.003580</td>\n",
              "      <td>-0.003494</td>\n",
              "      <td>0.101278</td>\n",
              "      <td>0.115364</td>\n",
              "      <td>-0.315379</td>\n",
              "      <td>...</td>\n",
              "      <td>-0.065268</td>\n",
              "      <td>0.184322</td>\n",
              "      <td>0.235844</td>\n",
              "      <td>-0.023969</td>\n",
              "      <td>0.192931</td>\n",
              "      <td>0.208856</td>\n",
              "      <td>0.118216</td>\n",
              "      <td>0.129982</td>\n",
              "      <td>-0.207769</td>\n",
              "      <td>0.087386</td>\n",
              "    </tr>\n",
              "    <tr>\n",
              "      <th>462</th>\n",
              "      <td>-0.072543</td>\n",
              "      <td>-0.190902</td>\n",
              "      <td>-0.132171</td>\n",
              "      <td>-0.217455</td>\n",
              "      <td>-0.218047</td>\n",
              "      <td>0.011336</td>\n",
              "      <td>-0.061939</td>\n",
              "      <td>-0.037649</td>\n",
              "      <td>0.310451</td>\n",
              "      <td>-0.210116</td>\n",
              "      <td>...</td>\n",
              "      <td>-0.005241</td>\n",
              "      <td>-0.042949</td>\n",
              "      <td>-0.136323</td>\n",
              "      <td>-0.087306</td>\n",
              "      <td>-0.253354</td>\n",
              "      <td>0.323936</td>\n",
              "      <td>-0.294303</td>\n",
              "      <td>-0.089426</td>\n",
              "      <td>-0.245807</td>\n",
              "      <td>0.134397</td>\n",
              "    </tr>\n",
              "    <tr>\n",
              "      <th>463</th>\n",
              "      <td>-0.307321</td>\n",
              "      <td>-0.170565</td>\n",
              "      <td>-0.145197</td>\n",
              "      <td>-0.195464</td>\n",
              "      <td>-0.056510</td>\n",
              "      <td>0.174977</td>\n",
              "      <td>0.136618</td>\n",
              "      <td>0.037791</td>\n",
              "      <td>0.162467</td>\n",
              "      <td>0.153549</td>\n",
              "      <td>...</td>\n",
              "      <td>-0.026661</td>\n",
              "      <td>-0.035982</td>\n",
              "      <td>-0.258386</td>\n",
              "      <td>0.029397</td>\n",
              "      <td>0.366738</td>\n",
              "      <td>0.124428</td>\n",
              "      <td>0.175930</td>\n",
              "      <td>-0.317982</td>\n",
              "      <td>0.100957</td>\n",
              "      <td>-0.001967</td>\n",
              "    </tr>\n",
              "    <tr>\n",
              "      <th>464</th>\n",
              "      <td>-0.220364</td>\n",
              "      <td>-0.221001</td>\n",
              "      <td>-0.123956</td>\n",
              "      <td>-0.313285</td>\n",
              "      <td>0.092390</td>\n",
              "      <td>0.040623</td>\n",
              "      <td>0.078216</td>\n",
              "      <td>-0.010263</td>\n",
              "      <td>-0.085909</td>\n",
              "      <td>0.202406</td>\n",
              "      <td>...</td>\n",
              "      <td>0.020204</td>\n",
              "      <td>0.215150</td>\n",
              "      <td>-0.006417</td>\n",
              "      <td>0.011835</td>\n",
              "      <td>-0.096249</td>\n",
              "      <td>-0.027957</td>\n",
              "      <td>-0.177904</td>\n",
              "      <td>-0.035019</td>\n",
              "      <td>-0.038398</td>\n",
              "      <td>0.084244</td>\n",
              "    </tr>\n",
              "  </tbody>\n",
              "</table>\n",
              "<p>465 rows × 30 columns</p>\n",
              "</div>\n",
              "      <button class=\"colab-df-convert\" onclick=\"convertToInteractive('df-c5d4e698-f798-4cac-b2f8-299cdb1276da')\"\n",
              "              title=\"Convert this dataframe to an interactive table.\"\n",
              "              style=\"display:none;\">\n",
              "        \n",
              "  <svg xmlns=\"http://www.w3.org/2000/svg\" height=\"24px\"viewBox=\"0 0 24 24\"\n",
              "       width=\"24px\">\n",
              "    <path d=\"M0 0h24v24H0V0z\" fill=\"none\"/>\n",
              "    <path d=\"M18.56 5.44l.94 2.06.94-2.06 2.06-.94-2.06-.94-.94-2.06-.94 2.06-2.06.94zm-11 1L8.5 8.5l.94-2.06 2.06-.94-2.06-.94L8.5 2.5l-.94 2.06-2.06.94zm10 10l.94 2.06.94-2.06 2.06-.94-2.06-.94-.94-2.06-.94 2.06-2.06.94z\"/><path d=\"M17.41 7.96l-1.37-1.37c-.4-.4-.92-.59-1.43-.59-.52 0-1.04.2-1.43.59L10.3 9.45l-7.72 7.72c-.78.78-.78 2.05 0 2.83L4 21.41c.39.39.9.59 1.41.59.51 0 1.02-.2 1.41-.59l7.78-7.78 2.81-2.81c.8-.78.8-2.07 0-2.86zM5.41 20L4 18.59l7.72-7.72 1.47 1.35L5.41 20z\"/>\n",
              "  </svg>\n",
              "      </button>\n",
              "      \n",
              "  <style>\n",
              "    .colab-df-container {\n",
              "      display:flex;\n",
              "      flex-wrap:wrap;\n",
              "      gap: 12px;\n",
              "    }\n",
              "\n",
              "    .colab-df-convert {\n",
              "      background-color: #E8F0FE;\n",
              "      border: none;\n",
              "      border-radius: 50%;\n",
              "      cursor: pointer;\n",
              "      display: none;\n",
              "      fill: #1967D2;\n",
              "      height: 32px;\n",
              "      padding: 0 0 0 0;\n",
              "      width: 32px;\n",
              "    }\n",
              "\n",
              "    .colab-df-convert:hover {\n",
              "      background-color: #E2EBFA;\n",
              "      box-shadow: 0px 1px 2px rgba(60, 64, 67, 0.3), 0px 1px 3px 1px rgba(60, 64, 67, 0.15);\n",
              "      fill: #174EA6;\n",
              "    }\n",
              "\n",
              "    [theme=dark] .colab-df-convert {\n",
              "      background-color: #3B4455;\n",
              "      fill: #D2E3FC;\n",
              "    }\n",
              "\n",
              "    [theme=dark] .colab-df-convert:hover {\n",
              "      background-color: #434B5C;\n",
              "      box-shadow: 0px 1px 3px 1px rgba(0, 0, 0, 0.15);\n",
              "      filter: drop-shadow(0px 1px 2px rgba(0, 0, 0, 0.3));\n",
              "      fill: #FFFFFF;\n",
              "    }\n",
              "  </style>\n",
              "\n",
              "      <script>\n",
              "        const buttonEl =\n",
              "          document.querySelector('#df-c5d4e698-f798-4cac-b2f8-299cdb1276da button.colab-df-convert');\n",
              "        buttonEl.style.display =\n",
              "          google.colab.kernel.accessAllowed ? 'block' : 'none';\n",
              "\n",
              "        async function convertToInteractive(key) {\n",
              "          const element = document.querySelector('#df-c5d4e698-f798-4cac-b2f8-299cdb1276da');\n",
              "          const dataTable =\n",
              "            await google.colab.kernel.invokeFunction('convertToInteractive',\n",
              "                                                     [key], {});\n",
              "          if (!dataTable) return;\n",
              "\n",
              "          const docLinkHtml = 'Like what you see? Visit the ' +\n",
              "            '<a target=\"_blank\" href=https://colab.research.google.com/notebooks/data_table.ipynb>data table notebook</a>'\n",
              "            + ' to learn more about interactive tables.';\n",
              "          element.innerHTML = '';\n",
              "          dataTable['output_type'] = 'display_data';\n",
              "          await google.colab.output.renderOutput(dataTable, element);\n",
              "          const docLink = document.createElement('div');\n",
              "          docLink.innerHTML = docLinkHtml;\n",
              "          element.appendChild(docLink);\n",
              "        }\n",
              "      </script>\n",
              "    </div>\n",
              "  </div>\n",
              "  "
            ]
          },
          "metadata": {},
          "execution_count": 89
        }
      ],
      "source": [
        "corpus_body = list(df[\"Issue Title\"]+\" \"+df[\"Issue Body\"])\n",
        "vectorizer_body = CountVectorizer()\n",
        "Xbody           = vectorizer_body.fit_transform(corpus_body)\n",
        "X_body          = Xbody.toarray()\n",
        "\n",
        "features_body   = vectorizer_body.get_feature_names_out()\n",
        "print(X_body.shape)\n",
        "\n",
        "\n",
        "n_pc = 30\n",
        "pca = PCA(n_components=n_pc, svd_solver='full')\n",
        "X_body_new = pca.fit_transform(X_body)\n",
        "\n",
        "print(f\"explained_variance_ratio_ = \\n{pca.explained_variance_ratio_}\")\n",
        "print(f\"\\nsingular_values_ = \\n{pca.singular_values_}\")\n",
        "\n",
        "from sklearn.preprocessing import Normalizer\n",
        "X_body_new = Normalizer().fit_transform(X_body_new)\n",
        "\n",
        "\n",
        "cols_pc = []\n",
        "for nth_pc in range(n_pc):\n",
        "  cols_pc.append(f\"pc_{nth_pc+1}\")\n",
        "\n",
        "\n",
        "df_body_counts  = pd.DataFrame(data=X_body_new, columns=cols_pc)\n",
        "df_body_counts = df_body_counts.replace(np.nan, 0)\n",
        "df_body_counts = df_body_counts.replace(np.NaN, 0)\n",
        "df_body_counts"
      ]
    },
    {
      "cell_type": "markdown",
      "source": [
        "### Exercise 4a (1 point) : Data Preparation\n",
        "\n",
        "* Check for the data value counts to see the data imbalance\n",
        "  - Merge the smaller classes to a bigger class so that the number of classes is between 3 and 4\n",
        "\n",
        "* Perform Label Encoding for the Target variable classes\n",
        "\n",
        "* Create a New DataFrame\n",
        "  - Merge the dataframe with PCA filtered variables and \n",
        "\n",
        "    the Target variable-1 `\"Defect Type Family using IEEE\"` and  \n",
        "\n",
        "    the Target variable -2 `\"Defect Type Family using ODC\"`\n",
        "\n",
        "* Split the above data into Training and Testing Datasets\n",
        "\n",
        "\n"
      ],
      "metadata": {
        "id": "y3XHQPZrngAV"
      }
    },
    {
      "cell_type": "code",
      "source": [
        "# Check the class Distribution of the Target Variables\n",
        "df[\"Defect Type Family using IEEE\"].value_counts()"
      ],
      "metadata": {
        "id": "du7ph27bE74h",
        "colab": {
          "base_uri": "https://localhost:8080/"
        },
        "outputId": "bfe604ff-6999-4515-91bc-9b634481431a"
      },
      "execution_count": null,
      "outputs": [
        {
          "output_type": "execute_result",
          "data": {
            "text/plain": [
              "ieee_logicData                  304\n",
              "ieee_interface                   92\n",
              "ieee_otherBuildConfigInstall     43\n",
              "ieee_syntax                      17\n",
              "ieee_standards                    5\n",
              "ieee_description                  4\n",
              "Name: Defect Type Family using IEEE, dtype: int64"
            ]
          },
          "metadata": {},
          "execution_count": 90
        }
      ]
    },
    {
      "cell_type": "code",
      "source": [
        "# Replace the minority classes into a class with larger count\n",
        "condition = df[\"Defect Type Family using IEEE\"].isin([\"ieee_syntax\", \"ieee_standards\", \"ieee_description\"])\n",
        "df[\"Defect Type Family using IEEE\"][condition]= \"ieee_others\"\n",
        "df[\"Defect Type Family using IEEE\"].value_counts()"
      ],
      "metadata": {
        "colab": {
          "base_uri": "https://localhost:8080/"
        },
        "id": "bgU3vDBah9A4",
        "outputId": "9ead6a91-e623-46e6-d3e6-7757ab5f2f27"
      },
      "execution_count": null,
      "outputs": [
        {
          "output_type": "execute_result",
          "data": {
            "text/plain": [
              "ieee_logicData                  304\n",
              "ieee_interface                   92\n",
              "ieee_otherBuildConfigInstall     43\n",
              "ieee_others                      26\n",
              "Name: Defect Type Family using IEEE, dtype: int64"
            ]
          },
          "metadata": {},
          "execution_count": 91
        }
      ]
    },
    {
      "cell_type": "code",
      "source": [
        "df[\"Defect Type Family using ODC\"].value_counts()"
      ],
      "metadata": {
        "colab": {
          "base_uri": "https://localhost:8080/"
        },
        "id": "F3c2EQXxhQCQ",
        "outputId": "dc5ce4ac-758f-433e-b2cb-8c094a9091db"
      },
      "execution_count": null,
      "outputs": [
        {
          "output_type": "execute_result",
          "data": {
            "text/plain": [
              "control_flow      348\n",
              "structural         67\n",
              "non_functional     50\n",
              "Name: Defect Type Family using ODC, dtype: int64"
            ]
          },
          "metadata": {},
          "execution_count": 92
        }
      ]
    },
    {
      "cell_type": "code",
      "source": [
        "le_ieee = LabelEncoder()\n",
        "\n",
        "df[\"Defect Type Family using IEEE\"] = le_ieee.fit_transform(df[\"Defect Type Family using IEEE\"])"
      ],
      "metadata": {
        "id": "6vUq_CsQo1Jz"
      },
      "execution_count": null,
      "outputs": []
    },
    {
      "cell_type": "code",
      "source": [
        "le_odc = LabelEncoder()\n",
        "df[\"Defect Type Family using ODC\"] = le_odc.fit_transform(df[\"Defect Type Family using ODC\"])"
      ],
      "metadata": {
        "id": "w2pY1B9Ao1Fp"
      },
      "execution_count": null,
      "outputs": []
    },
    {
      "cell_type": "code",
      "source": [
        "df_ml_data = df_body_counts.copy()\n",
        "df_ml_data[\"Defect Type Family using IEEE\"] = df[\"Defect Type Family using IEEE\"].astype(int)\n",
        "df_ml_data[\"Defect Type Family using ODC\"] = df[\"Defect Type Family using ODC\"].astype(int)\n",
        "df_ml_data.head(2)"
      ],
      "metadata": {
        "colab": {
          "base_uri": "https://localhost:8080/",
          "height": 275
        },
        "id": "u7XFIyb7o092",
        "outputId": "5048d54e-2ee4-4229-d89f-9879944f70a3"
      },
      "execution_count": null,
      "outputs": [
        {
          "output_type": "execute_result",
          "data": {
            "text/plain": [
              "       pc_1      pc_2      pc_3      pc_4      pc_5      pc_6      pc_7  \\\n",
              "0 -0.411312 -0.259630 -0.190537 -0.637869  0.120840  0.073194  0.048938   \n",
              "1 -0.348630 -0.217357 -0.170838 -0.597383  0.141433  0.108930 -0.037247   \n",
              "\n",
              "       pc_8      pc_9     pc_10  ...     pc_23     pc_24     pc_25     pc_26  \\\n",
              "0  0.163435 -0.014750  0.089522  ... -0.018569  0.027867  0.101140  0.186077   \n",
              "1  0.160761  0.099224 -0.046063  ...  0.183929  0.115840  0.144195  0.159648   \n",
              "\n",
              "      pc_27     pc_28     pc_29     pc_30  Defect Type Family using IEEE  \\\n",
              "0  0.290931 -0.158089 -0.122780 -0.029276                            1.0   \n",
              "1  0.041140 -0.045212 -0.174958 -0.023902                            1.0   \n",
              "\n",
              "   Defect Type Family using ODC  \n",
              "0                           0.0  \n",
              "1                           0.0  \n",
              "\n",
              "[2 rows x 32 columns]"
            ],
            "text/html": [
              "\n",
              "  <div id=\"df-4fadaf63-6eb1-496c-b588-930a722cb1d7\">\n",
              "    <div class=\"colab-df-container\">\n",
              "      <div>\n",
              "<style scoped>\n",
              "    .dataframe tbody tr th:only-of-type {\n",
              "        vertical-align: middle;\n",
              "    }\n",
              "\n",
              "    .dataframe tbody tr th {\n",
              "        vertical-align: top;\n",
              "    }\n",
              "\n",
              "    .dataframe thead th {\n",
              "        text-align: right;\n",
              "    }\n",
              "</style>\n",
              "<table border=\"1\" class=\"dataframe\">\n",
              "  <thead>\n",
              "    <tr style=\"text-align: right;\">\n",
              "      <th></th>\n",
              "      <th>pc_1</th>\n",
              "      <th>pc_2</th>\n",
              "      <th>pc_3</th>\n",
              "      <th>pc_4</th>\n",
              "      <th>pc_5</th>\n",
              "      <th>pc_6</th>\n",
              "      <th>pc_7</th>\n",
              "      <th>pc_8</th>\n",
              "      <th>pc_9</th>\n",
              "      <th>pc_10</th>\n",
              "      <th>...</th>\n",
              "      <th>pc_23</th>\n",
              "      <th>pc_24</th>\n",
              "      <th>pc_25</th>\n",
              "      <th>pc_26</th>\n",
              "      <th>pc_27</th>\n",
              "      <th>pc_28</th>\n",
              "      <th>pc_29</th>\n",
              "      <th>pc_30</th>\n",
              "      <th>Defect Type Family using IEEE</th>\n",
              "      <th>Defect Type Family using ODC</th>\n",
              "    </tr>\n",
              "  </thead>\n",
              "  <tbody>\n",
              "    <tr>\n",
              "      <th>0</th>\n",
              "      <td>-0.411312</td>\n",
              "      <td>-0.259630</td>\n",
              "      <td>-0.190537</td>\n",
              "      <td>-0.637869</td>\n",
              "      <td>0.120840</td>\n",
              "      <td>0.073194</td>\n",
              "      <td>0.048938</td>\n",
              "      <td>0.163435</td>\n",
              "      <td>-0.014750</td>\n",
              "      <td>0.089522</td>\n",
              "      <td>...</td>\n",
              "      <td>-0.018569</td>\n",
              "      <td>0.027867</td>\n",
              "      <td>0.101140</td>\n",
              "      <td>0.186077</td>\n",
              "      <td>0.290931</td>\n",
              "      <td>-0.158089</td>\n",
              "      <td>-0.122780</td>\n",
              "      <td>-0.029276</td>\n",
              "      <td>1.0</td>\n",
              "      <td>0.0</td>\n",
              "    </tr>\n",
              "    <tr>\n",
              "      <th>1</th>\n",
              "      <td>-0.348630</td>\n",
              "      <td>-0.217357</td>\n",
              "      <td>-0.170838</td>\n",
              "      <td>-0.597383</td>\n",
              "      <td>0.141433</td>\n",
              "      <td>0.108930</td>\n",
              "      <td>-0.037247</td>\n",
              "      <td>0.160761</td>\n",
              "      <td>0.099224</td>\n",
              "      <td>-0.046063</td>\n",
              "      <td>...</td>\n",
              "      <td>0.183929</td>\n",
              "      <td>0.115840</td>\n",
              "      <td>0.144195</td>\n",
              "      <td>0.159648</td>\n",
              "      <td>0.041140</td>\n",
              "      <td>-0.045212</td>\n",
              "      <td>-0.174958</td>\n",
              "      <td>-0.023902</td>\n",
              "      <td>1.0</td>\n",
              "      <td>0.0</td>\n",
              "    </tr>\n",
              "  </tbody>\n",
              "</table>\n",
              "<p>2 rows × 32 columns</p>\n",
              "</div>\n",
              "      <button class=\"colab-df-convert\" onclick=\"convertToInteractive('df-4fadaf63-6eb1-496c-b588-930a722cb1d7')\"\n",
              "              title=\"Convert this dataframe to an interactive table.\"\n",
              "              style=\"display:none;\">\n",
              "        \n",
              "  <svg xmlns=\"http://www.w3.org/2000/svg\" height=\"24px\"viewBox=\"0 0 24 24\"\n",
              "       width=\"24px\">\n",
              "    <path d=\"M0 0h24v24H0V0z\" fill=\"none\"/>\n",
              "    <path d=\"M18.56 5.44l.94 2.06.94-2.06 2.06-.94-2.06-.94-.94-2.06-.94 2.06-2.06.94zm-11 1L8.5 8.5l.94-2.06 2.06-.94-2.06-.94L8.5 2.5l-.94 2.06-2.06.94zm10 10l.94 2.06.94-2.06 2.06-.94-2.06-.94-.94-2.06-.94 2.06-2.06.94z\"/><path d=\"M17.41 7.96l-1.37-1.37c-.4-.4-.92-.59-1.43-.59-.52 0-1.04.2-1.43.59L10.3 9.45l-7.72 7.72c-.78.78-.78 2.05 0 2.83L4 21.41c.39.39.9.59 1.41.59.51 0 1.02-.2 1.41-.59l7.78-7.78 2.81-2.81c.8-.78.8-2.07 0-2.86zM5.41 20L4 18.59l7.72-7.72 1.47 1.35L5.41 20z\"/>\n",
              "  </svg>\n",
              "      </button>\n",
              "      \n",
              "  <style>\n",
              "    .colab-df-container {\n",
              "      display:flex;\n",
              "      flex-wrap:wrap;\n",
              "      gap: 12px;\n",
              "    }\n",
              "\n",
              "    .colab-df-convert {\n",
              "      background-color: #E8F0FE;\n",
              "      border: none;\n",
              "      border-radius: 50%;\n",
              "      cursor: pointer;\n",
              "      display: none;\n",
              "      fill: #1967D2;\n",
              "      height: 32px;\n",
              "      padding: 0 0 0 0;\n",
              "      width: 32px;\n",
              "    }\n",
              "\n",
              "    .colab-df-convert:hover {\n",
              "      background-color: #E2EBFA;\n",
              "      box-shadow: 0px 1px 2px rgba(60, 64, 67, 0.3), 0px 1px 3px 1px rgba(60, 64, 67, 0.15);\n",
              "      fill: #174EA6;\n",
              "    }\n",
              "\n",
              "    [theme=dark] .colab-df-convert {\n",
              "      background-color: #3B4455;\n",
              "      fill: #D2E3FC;\n",
              "    }\n",
              "\n",
              "    [theme=dark] .colab-df-convert:hover {\n",
              "      background-color: #434B5C;\n",
              "      box-shadow: 0px 1px 3px 1px rgba(0, 0, 0, 0.15);\n",
              "      filter: drop-shadow(0px 1px 2px rgba(0, 0, 0, 0.3));\n",
              "      fill: #FFFFFF;\n",
              "    }\n",
              "  </style>\n",
              "\n",
              "      <script>\n",
              "        const buttonEl =\n",
              "          document.querySelector('#df-4fadaf63-6eb1-496c-b588-930a722cb1d7 button.colab-df-convert');\n",
              "        buttonEl.style.display =\n",
              "          google.colab.kernel.accessAllowed ? 'block' : 'none';\n",
              "\n",
              "        async function convertToInteractive(key) {\n",
              "          const element = document.querySelector('#df-4fadaf63-6eb1-496c-b588-930a722cb1d7');\n",
              "          const dataTable =\n",
              "            await google.colab.kernel.invokeFunction('convertToInteractive',\n",
              "                                                     [key], {});\n",
              "          if (!dataTable) return;\n",
              "\n",
              "          const docLinkHtml = 'Like what you see? Visit the ' +\n",
              "            '<a target=\"_blank\" href=https://colab.research.google.com/notebooks/data_table.ipynb>data table notebook</a>'\n",
              "            + ' to learn more about interactive tables.';\n",
              "          element.innerHTML = '';\n",
              "          dataTable['output_type'] = 'display_data';\n",
              "          await google.colab.output.renderOutput(dataTable, element);\n",
              "          const docLink = document.createElement('div');\n",
              "          docLink.innerHTML = docLinkHtml;\n",
              "          element.appendChild(docLink);\n",
              "        }\n",
              "      </script>\n",
              "    </div>\n",
              "  </div>\n",
              "  "
            ]
          },
          "metadata": {},
          "execution_count": 95
        }
      ]
    },
    {
      "cell_type": "code",
      "source": [
        "df_ml_data.shape"
      ],
      "metadata": {
        "colab": {
          "base_uri": "https://localhost:8080/"
        },
        "id": "If0yoNDx0u9u",
        "outputId": "7aad8b46-e8b7-4c8d-86f4-64777d6a7cc7"
      },
      "execution_count": null,
      "outputs": [
        {
          "output_type": "execute_result",
          "data": {
            "text/plain": [
              "(465, 32)"
            ]
          },
          "metadata": {},
          "execution_count": 96
        }
      ]
    },
    {
      "cell_type": "code",
      "source": [
        "print(df_ml_data[\"Defect Type Family using IEEE\"].isnull().sum())\n",
        "df_ml_data[\"Defect Type Family using IEEE\"].value_counts()"
      ],
      "metadata": {
        "colab": {
          "base_uri": "https://localhost:8080/"
        },
        "id": "quQ0jdQK0_UD",
        "outputId": "deb43206-be6e-4b4b-f191-1a2dae075578"
      },
      "execution_count": null,
      "outputs": [
        {
          "output_type": "stream",
          "name": "stdout",
          "text": [
            "58\n"
          ]
        },
        {
          "output_type": "execute_result",
          "data": {
            "text/plain": [
              "1.0    270\n",
              "0.0     80\n",
              "2.0     37\n",
              "3.0     20\n",
              "Name: Defect Type Family using IEEE, dtype: int64"
            ]
          },
          "metadata": {},
          "execution_count": 97
        }
      ]
    },
    {
      "cell_type": "code",
      "source": [
        "df_ml_data[\"Defect Type Family using IEEE\"] = df_ml_data[\"Defect Type Family using IEEE\"].fillna(4.0)\n",
        "df_ml_data[\"Defect Type Family using IEEE\"].value_counts()"
      ],
      "metadata": {
        "colab": {
          "base_uri": "https://localhost:8080/"
        },
        "id": "mRcrtzL5WqPs",
        "outputId": "d0dbbfae-fc98-4156-e9db-f8dea194ce0d"
      },
      "execution_count": null,
      "outputs": [
        {
          "output_type": "execute_result",
          "data": {
            "text/plain": [
              "1.0    270\n",
              "0.0     80\n",
              "4.0     58\n",
              "2.0     37\n",
              "3.0     20\n",
              "Name: Defect Type Family using IEEE, dtype: int64"
            ]
          },
          "metadata": {},
          "execution_count": 98
        }
      ]
    },
    {
      "cell_type": "code",
      "source": [
        "print(df_ml_data[\"Defect Type Family using ODC\"].isnull().sum())\n",
        "df_ml_data[\"Defect Type Family using ODC\"].value_counts()"
      ],
      "metadata": {
        "colab": {
          "base_uri": "https://localhost:8080/"
        },
        "id": "wgINvNs11NDN",
        "outputId": "a0467b30-09af-4292-c154-568e153ef7fa"
      },
      "execution_count": null,
      "outputs": [
        {
          "output_type": "stream",
          "name": "stdout",
          "text": [
            "58\n"
          ]
        },
        {
          "output_type": "execute_result",
          "data": {
            "text/plain": [
              "0.0    311\n",
              "2.0     54\n",
              "1.0     42\n",
              "Name: Defect Type Family using ODC, dtype: int64"
            ]
          },
          "metadata": {},
          "execution_count": 99
        }
      ]
    },
    {
      "cell_type": "code",
      "source": [
        "df_ml_data[\"Defect Type Family using ODC\"] = df_ml_data[\"Defect Type Family using ODC\"].fillna(3.0)\n",
        "df_ml_data[\"Defect Type Family using ODC\"].value_counts()"
      ],
      "metadata": {
        "colab": {
          "base_uri": "https://localhost:8080/"
        },
        "id": "zo7UzZL8W0t9",
        "outputId": "c738e084-c51d-40c9-c1eb-5bb8939057a6"
      },
      "execution_count": null,
      "outputs": [
        {
          "output_type": "execute_result",
          "data": {
            "text/plain": [
              "0.0    311\n",
              "3.0     58\n",
              "2.0     54\n",
              "1.0     42\n",
              "Name: Defect Type Family using ODC, dtype: int64"
            ]
          },
          "metadata": {},
          "execution_count": 100
        }
      ]
    },
    {
      "cell_type": "code",
      "source": [
        "df_ml_data.isnull().sum()"
      ],
      "metadata": {
        "colab": {
          "base_uri": "https://localhost:8080/"
        },
        "id": "CzAHpBZP0wzb",
        "outputId": "19b11ec2-5943-492f-87f3-bdaee47cf467"
      },
      "execution_count": null,
      "outputs": [
        {
          "output_type": "execute_result",
          "data": {
            "text/plain": [
              "pc_1                             0\n",
              "pc_2                             0\n",
              "pc_3                             0\n",
              "pc_4                             0\n",
              "pc_5                             0\n",
              "pc_6                             0\n",
              "pc_7                             0\n",
              "pc_8                             0\n",
              "pc_9                             0\n",
              "pc_10                            0\n",
              "pc_11                            0\n",
              "pc_12                            0\n",
              "pc_13                            0\n",
              "pc_14                            0\n",
              "pc_15                            0\n",
              "pc_16                            0\n",
              "pc_17                            0\n",
              "pc_18                            0\n",
              "pc_19                            0\n",
              "pc_20                            0\n",
              "pc_21                            0\n",
              "pc_22                            0\n",
              "pc_23                            0\n",
              "pc_24                            0\n",
              "pc_25                            0\n",
              "pc_26                            0\n",
              "pc_27                            0\n",
              "pc_28                            0\n",
              "pc_29                            0\n",
              "pc_30                            0\n",
              "Defect Type Family using IEEE    0\n",
              "Defect Type Family using ODC     0\n",
              "dtype: int64"
            ]
          },
          "metadata": {},
          "execution_count": 101
        }
      ]
    },
    {
      "cell_type": "code",
      "source": [
        "# Split the Data into training and testing\n",
        "\n",
        "X  = df_ml_data.iloc[:,:-2]\n",
        "y1 = df_ml_data.iloc[:,-2]\n",
        "y2 = df_ml_data.iloc[:,-1]\n",
        "\n",
        "X_train, X_test, y_train1, y_test1 = train_test_split( X, y1, test_size=0.3, random_state=123)\n",
        "X_train, X_test, y_train2, y_test2 = train_test_split( X, y2, test_size=0.3, random_state=123)\n"
      ],
      "metadata": {
        "id": "MGdnqVPMtY8r"
      },
      "execution_count": null,
      "outputs": []
    },
    {
      "cell_type": "markdown",
      "source": [
        "### Exercise 5a (1 point) : Classification\n",
        "\n",
        "* Classification-Target 1 (`\"Defect Type Family using IEEE\"`)\n",
        "\t\n",
        "    - Perform classification using any ONE of your favorite Sklearn's classifier\n",
        "\n",
        "    - Explain with metrics\n",
        "\n",
        "* Classification-Target 2 (`\"Defect Type Family using ODC\"`)\n",
        "\t\n",
        "    - Perform classification using any ONE of your favorite Sklearn's classifier\n",
        "\n",
        "    - Explain with metrics\n",
        "\n",
        "**Tip**: Train the model and predict on seperate cells. It will save time debugging."
      ],
      "metadata": {
        "id": "FcWqda-YrkJW"
      }
    },
    {
      "cell_type": "code",
      "source": [
        "# THE FOLLOWING SOLUTIONS ARE JUST PALCEHOLDERS for exercises\n",
        "# The teams may have to modify the parameters, perform grid search,\n",
        "# cross-validations and further preprocessing to improve the metrics\n",
        "\n",
        "from sklearn.linear_model import LogisticRegression\n",
        "from sklearn.svm import SVC"
      ],
      "metadata": {
        "id": "bCX6zID6ff3u"
      },
      "execution_count": null,
      "outputs": []
    },
    {
      "cell_type": "code",
      "execution_count": null,
      "metadata": {
        "id": "5N47ZVuly-O9",
        "colab": {
          "base_uri": "https://localhost:8080/"
        },
        "outputId": "b51ec933-9d4b-407f-ba43-292da2d742c3"
      },
      "outputs": [
        {
          "output_type": "execute_result",
          "data": {
            "text/plain": [
              "0.2571428571428571"
            ]
          },
          "metadata": {},
          "execution_count": 104
        }
      ],
      "source": [
        "# MODEL 1\n",
        "\n",
        "model_1 = LogisticRegression(multi_class='ovr', class_weight='balanced')\n",
        "model_1.fit(X_train, y_train1)\n",
        "y_pred1 = model_1.predict(X_test)\n",
        "model_1.score(X_test, y_test1)"
      ]
    },
    {
      "cell_type": "code",
      "source": [
        "print(f\"\\n Confusion Matrix = \\n{confusion_matrix(y_test1, y_pred1)}\")\n",
        "print(f\"\\n Classification Report = \\n{classification_report(y_test1, y_pred1)}\")"
      ],
      "metadata": {
        "colab": {
          "base_uri": "https://localhost:8080/"
        },
        "id": "pQVvTB7DXo7F",
        "outputId": "08dc1120-b8ca-4cb8-8813-f70bbda311fc"
      },
      "execution_count": null,
      "outputs": [
        {
          "output_type": "stream",
          "name": "stdout",
          "text": [
            "\n",
            " Confusion Matrix = \n",
            "[[ 7  6  6  7  2]\n",
            " [11 18 21 17 15]\n",
            " [ 2  1  3  2  2]\n",
            " [ 1  1  0  2  1]\n",
            " [ 1  4  0  4  6]]\n",
            "\n",
            " Classification Report = \n",
            "              precision    recall  f1-score   support\n",
            "\n",
            "         0.0       0.32      0.25      0.28        28\n",
            "         1.0       0.60      0.22      0.32        82\n",
            "         2.0       0.10      0.30      0.15        10\n",
            "         3.0       0.06      0.40      0.11         5\n",
            "         4.0       0.23      0.40      0.29        15\n",
            "\n",
            "    accuracy                           0.26       140\n",
            "   macro avg       0.26      0.31      0.23       140\n",
            "weighted avg       0.45      0.26      0.29       140\n",
            "\n"
          ]
        }
      ]
    },
    {
      "cell_type": "code",
      "source": [
        "# MODEL 2\n",
        "\n",
        "model_2 = LogisticRegression(multi_class='ovr', class_weight='balanced')\n",
        "model_2.fit(X_train, y_train2)\n",
        "y_pred2 = model_2.predict(X_test)\n",
        "model_2.score(X_test, y_test2)"
      ],
      "metadata": {
        "id": "6TNAljuFppHy",
        "colab": {
          "base_uri": "https://localhost:8080/"
        },
        "outputId": "f0cafd2f-6f39-460b-b728-e82939c7947c"
      },
      "execution_count": null,
      "outputs": [
        {
          "output_type": "execute_result",
          "data": {
            "text/plain": [
              "0.3"
            ]
          },
          "metadata": {},
          "execution_count": 106
        }
      ]
    },
    {
      "cell_type": "code",
      "source": [
        "print(f\"\\n Confusion Matrix = \\n{confusion_matrix(y_test2, y_pred2)}\")\n",
        "print(f\"\\n Classification Report = \\n{classification_report(y_test2, y_pred2)}\")"
      ],
      "metadata": {
        "colab": {
          "base_uri": "https://localhost:8080/"
        },
        "id": "LcGJxAuMbVvS",
        "outputId": "7e3771f4-731a-4a10-8e8f-936f9dc31c4c"
      },
      "execution_count": null,
      "outputs": [
        {
          "output_type": "stream",
          "name": "stdout",
          "text": [
            "\n",
            " Confusion Matrix = \n",
            "[[28 22 23 22]\n",
            " [ 5  2  2  2]\n",
            " [ 5  6  6  2]\n",
            " [ 3  3  3  6]]\n",
            "\n",
            " Classification Report = \n",
            "              precision    recall  f1-score   support\n",
            "\n",
            "         0.0       0.68      0.29      0.41        95\n",
            "         1.0       0.06      0.18      0.09        11\n",
            "         2.0       0.18      0.32      0.23        19\n",
            "         3.0       0.19      0.40      0.26        15\n",
            "\n",
            "    accuracy                           0.30       140\n",
            "   macro avg       0.28      0.30      0.25       140\n",
            "weighted avg       0.51      0.30      0.34       140\n",
            "\n"
          ]
        }
      ]
    },
    {
      "cell_type": "code",
      "source": [
        "model_3 = SVC(gamma='auto', class_weight='balanced').fit(X_train, y_train1)\n",
        "y_pred3 = model_3.predict(X_test)\n",
        "model_3.score(X_test, y_test1)"
      ],
      "metadata": {
        "colab": {
          "base_uri": "https://localhost:8080/"
        },
        "id": "R-z6luOabVrm",
        "outputId": "96c891ea-f25a-411f-da7b-df488535e052"
      },
      "execution_count": null,
      "outputs": [
        {
          "output_type": "execute_result",
          "data": {
            "text/plain": [
              "0.5214285714285715"
            ]
          },
          "metadata": {},
          "execution_count": 108
        }
      ]
    },
    {
      "cell_type": "code",
      "source": [
        "print(f\"\\n Confusion Matrix = \\n{confusion_matrix(y_test1, y_pred3)}\")\n",
        "print(f\"\\n Classification Report = \\n{classification_report(y_test1, y_pred3)}\")"
      ],
      "metadata": {
        "colab": {
          "base_uri": "https://localhost:8080/"
        },
        "id": "xMV-UvBdbVov",
        "outputId": "45b3aaba-a249-4c36-d9ce-5c83b6161522"
      },
      "execution_count": null,
      "outputs": [
        {
          "output_type": "stream",
          "name": "stdout",
          "text": [
            "\n",
            " Confusion Matrix = \n",
            "[[ 0 25  2  1  0]\n",
            " [ 0 72  4  6  0]\n",
            " [ 0  9  0  1  0]\n",
            " [ 0  4  0  1  0]\n",
            " [ 0 13  2  0  0]]\n",
            "\n",
            " Classification Report = \n",
            "              precision    recall  f1-score   support\n",
            "\n",
            "         0.0       0.00      0.00      0.00        28\n",
            "         1.0       0.59      0.88      0.70        82\n",
            "         2.0       0.00      0.00      0.00        10\n",
            "         3.0       0.11      0.20      0.14         5\n",
            "         4.0       0.00      0.00      0.00        15\n",
            "\n",
            "    accuracy                           0.52       140\n",
            "   macro avg       0.14      0.22      0.17       140\n",
            "weighted avg       0.35      0.52      0.42       140\n",
            "\n"
          ]
        }
      ]
    },
    {
      "cell_type": "code",
      "source": [
        "from sklearn.svm import SVC\n",
        "model_4 = SVC(gamma='auto', class_weight='balanced').fit(X_train, y_train2)\n",
        "y_pred4 = model_4.predict(X_test)\n",
        "model_4.score(X_test, y_test2)"
      ],
      "metadata": {
        "colab": {
          "base_uri": "https://localhost:8080/"
        },
        "id": "kdIvbAzebVmK",
        "outputId": "08188cd6-236f-4120-e94f-20053f1773ea"
      },
      "execution_count": null,
      "outputs": [
        {
          "output_type": "execute_result",
          "data": {
            "text/plain": [
              "0.12857142857142856"
            ]
          },
          "metadata": {},
          "execution_count": 110
        }
      ]
    },
    {
      "cell_type": "code",
      "source": [
        "print(f\"\\n Confusion Matrix = \\n{confusion_matrix(y_test2, y_pred4)}\")\n",
        "print(f\"\\n Classification Report = \\n{classification_report(y_test2, y_pred4)}\")"
      ],
      "metadata": {
        "colab": {
          "base_uri": "https://localhost:8080/"
        },
        "id": "xebpFtOkdEDz",
        "outputId": "9b1ca15c-ca89-455b-95c2-47fe750cc77b"
      },
      "execution_count": null,
      "outputs": [
        {
          "output_type": "stream",
          "name": "stdout",
          "text": [
            "\n",
            " Confusion Matrix = \n",
            "[[ 0 22 73  0]\n",
            " [ 0  0 11  0]\n",
            " [ 0  1 18  0]\n",
            " [ 0  3 12  0]]\n",
            "\n",
            " Classification Report = \n",
            "              precision    recall  f1-score   support\n",
            "\n",
            "         0.0       0.00      0.00      0.00        95\n",
            "         1.0       0.00      0.00      0.00        11\n",
            "         2.0       0.16      0.95      0.27        19\n",
            "         3.0       0.00      0.00      0.00        15\n",
            "\n",
            "    accuracy                           0.13       140\n",
            "   macro avg       0.04      0.24      0.07       140\n",
            "weighted avg       0.02      0.13      0.04       140\n",
            "\n"
          ]
        }
      ]
    },
    {
      "cell_type": "markdown",
      "source": [
        "#### YOUR FINDINGS/ Reasoning for which model is better and why (Qualitatively and Quantatively)\n",
        "\n",
        "Explain why one model behaves better than the other(s) in terms of Accuracy, Precision, Recall and F1-Score"
      ],
      "metadata": {
        "id": "wJhjqBh3hClZ"
      }
    },
    {
      "cell_type": "markdown",
      "source": [
        "### Exercise 3b (1 point): Feature Engineering Approach-2\n",
        "\n",
        "* Combine the title and body strings by a space\n",
        "*  the words\n",
        "* Use `TfidfVectorizer` to Tokenize and transform the the text to features\n",
        "* Reduce the features using PCA"
      ],
      "metadata": {
        "id": "fj3766rrgYBz"
      }
    },
    {
      "cell_type": "code",
      "source": [
        "from sklearn.feature_extraction.text import TfidfVectorizer\n",
        "\n",
        "corpus_body = list(df[\"Issue Title\"]+\" \"+df[\"Issue Body\"])\n",
        "vectorizer_body = TfidfVectorizer()\n",
        "Xbody           = vectorizer_body.fit_transform(corpus_body)\n",
        "X_body          = Xbody.toarray()\n",
        "\n",
        "features_body   = vectorizer_body.get_feature_names_out()\n",
        "print(X_body.shape)\n",
        "\n",
        "\n",
        "n_pc = 30\n",
        "pca = PCA(n_components=n_pc, svd_solver='full')\n",
        "X_body_new = pca.fit_transform(X_body)\n",
        "\n",
        "print(f\"explained_variance_ratio_ = \\n{pca.explained_variance_ratio_}\")\n",
        "print(f\"\\nsingular_values_ = \\n{pca.singular_values_}\")\n",
        "\n",
        "from sklearn.preprocessing import Normalizer\n",
        "X_body_new = Normalizer().fit_transform(X_body_new)\n",
        "\n",
        "\n",
        "cols_pc = []\n",
        "for nth_pc in range(n_pc):\n",
        "  cols_pc.append(f\"pc_{nth_pc+1}\")\n",
        "\n",
        "\n",
        "df_body_counts  = pd.DataFrame(data=X_body_new, columns=cols_pc)\n",
        "df_body_counts = df_body_counts.replace(np.nan, 0)\n",
        "df_body_counts = df_body_counts.replace(np.NaN, 0)\n",
        "df_body_counts"
      ],
      "metadata": {
        "colab": {
          "base_uri": "https://localhost:8080/",
          "height": 737
        },
        "id": "Lh4U2L04iXof",
        "outputId": "dadf4861-96dc-492d-943d-8e7b9d512982"
      },
      "execution_count": null,
      "outputs": [
        {
          "output_type": "stream",
          "name": "stdout",
          "text": [
            "(465, 4133)\n",
            "explained_variance_ratio_ = \n",
            "[0.0130334  0.01196143 0.00951836 0.00872583 0.00830007 0.00775776\n",
            " 0.00742875 0.00726365 0.00701375 0.00687013 0.00671995 0.00666135\n",
            " 0.00632475 0.00616669 0.00604518 0.00590551 0.00579446 0.00562445\n",
            " 0.00551639 0.00545467 0.00536913 0.00529191 0.00525443 0.00510412\n",
            " 0.00503857 0.00495113 0.00492934 0.0048732  0.00477464 0.00467463]\n",
            "\n",
            "singular_values_ = \n",
            "[2.43069922 2.32859509 2.07722483 1.98886691 1.93973885 1.87529926\n",
            " 1.83510286 1.81459537 1.78310803 1.76475709 1.74536109 1.7377348\n",
            " 1.69326177 1.67197034 1.65541573 1.63617952 1.62072308 1.5967709\n",
            " 1.58135756 1.57248493 1.56010712 1.54884701 1.54335282 1.5211172\n",
            " 1.51131939 1.49814778 1.4948465  1.48631051 1.47120337 1.45571331]\n"
          ]
        },
        {
          "output_type": "execute_result",
          "data": {
            "text/plain": [
              "         pc_1      pc_2      pc_3      pc_4      pc_5      pc_6      pc_7  \\\n",
              "0    0.096789 -0.060375  0.107373 -0.222810 -0.055013  0.238529  0.126703   \n",
              "1    0.369157  0.182510 -0.229715 -0.202387 -0.390429 -0.031405 -0.108973   \n",
              "2    0.603761 -0.305098  0.034900  0.350755 -0.008049 -0.278914 -0.082977   \n",
              "3   -0.124248  0.005525 -0.301813  0.049319 -0.121604  0.203210 -0.278912   \n",
              "4    0.254514  0.081285  0.172855 -0.101837 -0.154586 -0.024241  0.077717   \n",
              "..        ...       ...       ...       ...       ...       ...       ...   \n",
              "460 -0.050118  0.063850  0.429611 -0.086493 -0.335821  0.116245  0.079734   \n",
              "461  0.428768  0.122591 -0.300277  0.108071 -0.426952  0.228727 -0.268393   \n",
              "462  0.013493 -0.166492 -0.038531  0.211835 -0.058766 -0.017182 -0.059564   \n",
              "463  0.013362 -0.046017 -0.105295  0.252323 -0.107559  0.296066 -0.074695   \n",
              "464 -0.445956 -0.315483 -0.148856 -0.215799  0.128443  0.018811 -0.260102   \n",
              "\n",
              "         pc_8      pc_9     pc_10  ...     pc_21     pc_22     pc_23  \\\n",
              "0    0.109747 -0.131101  0.059851  ...  0.270315 -0.260290 -0.041776   \n",
              "1   -0.022522  0.203291  0.135411  ... -0.037542 -0.213049  0.020028   \n",
              "2    0.241088  0.101457 -0.000780  ...  0.080438 -0.041172  0.133590   \n",
              "3   -0.244047  0.034393  0.060727  ... -0.041599 -0.067779 -0.156308   \n",
              "4   -0.409406  0.310648 -0.229847  ...  0.160450 -0.395991 -0.378886   \n",
              "..        ...       ...       ...  ...       ...       ...       ...   \n",
              "460  0.245682  0.067913 -0.037557  ... -0.287112 -0.099317 -0.089627   \n",
              "461 -0.210379  0.144979 -0.018626  ... -0.163118 -0.159776  0.099575   \n",
              "462  0.110542  0.032717  0.090225  ...  0.111917 -0.341692 -0.282466   \n",
              "463 -0.171594  0.025673  0.231882  ... -0.233988 -0.145223 -0.029078   \n",
              "464  0.054040 -0.231980 -0.085349  ... -0.054532 -0.014563  0.126839   \n",
              "\n",
              "        pc_24     pc_25     pc_26     pc_27     pc_28     pc_29     pc_30  \n",
              "0   -0.129686 -0.001571  0.091215 -0.050850  0.162865 -0.148286 -0.254202  \n",
              "1    0.141376  0.162689  0.139088  0.091706  0.067486 -0.094169  0.282118  \n",
              "2    0.222375 -0.198280 -0.107597 -0.015442 -0.198744 -0.007843 -0.008028  \n",
              "3    0.176308  0.198437  0.053154 -0.332295 -0.001679  0.137726  0.217780  \n",
              "4    0.198066  0.113220  0.048099 -0.054681 -0.080073  0.015958  0.046424  \n",
              "..        ...       ...       ...       ...       ...       ...       ...  \n",
              "460 -0.067500 -0.021834 -0.152264  0.127815 -0.129473 -0.018512 -0.148145  \n",
              "461  0.106052 -0.028877  0.089145 -0.077975  0.118165 -0.021073  0.050156  \n",
              "462 -0.117753 -0.457593  0.191758 -0.065522  0.261677 -0.140995  0.391544  \n",
              "463  0.025952  0.118640 -0.174242 -0.115903 -0.222314 -0.020206 -0.117398  \n",
              "464  0.196578 -0.178019 -0.040986  0.106169  0.297877 -0.135822 -0.241926  \n",
              "\n",
              "[465 rows x 30 columns]"
            ],
            "text/html": [
              "\n",
              "  <div id=\"df-1ba4e341-4d25-47e9-8e9d-0f59ed1caf8d\">\n",
              "    <div class=\"colab-df-container\">\n",
              "      <div>\n",
              "<style scoped>\n",
              "    .dataframe tbody tr th:only-of-type {\n",
              "        vertical-align: middle;\n",
              "    }\n",
              "\n",
              "    .dataframe tbody tr th {\n",
              "        vertical-align: top;\n",
              "    }\n",
              "\n",
              "    .dataframe thead th {\n",
              "        text-align: right;\n",
              "    }\n",
              "</style>\n",
              "<table border=\"1\" class=\"dataframe\">\n",
              "  <thead>\n",
              "    <tr style=\"text-align: right;\">\n",
              "      <th></th>\n",
              "      <th>pc_1</th>\n",
              "      <th>pc_2</th>\n",
              "      <th>pc_3</th>\n",
              "      <th>pc_4</th>\n",
              "      <th>pc_5</th>\n",
              "      <th>pc_6</th>\n",
              "      <th>pc_7</th>\n",
              "      <th>pc_8</th>\n",
              "      <th>pc_9</th>\n",
              "      <th>pc_10</th>\n",
              "      <th>...</th>\n",
              "      <th>pc_21</th>\n",
              "      <th>pc_22</th>\n",
              "      <th>pc_23</th>\n",
              "      <th>pc_24</th>\n",
              "      <th>pc_25</th>\n",
              "      <th>pc_26</th>\n",
              "      <th>pc_27</th>\n",
              "      <th>pc_28</th>\n",
              "      <th>pc_29</th>\n",
              "      <th>pc_30</th>\n",
              "    </tr>\n",
              "  </thead>\n",
              "  <tbody>\n",
              "    <tr>\n",
              "      <th>0</th>\n",
              "      <td>0.096789</td>\n",
              "      <td>-0.060375</td>\n",
              "      <td>0.107373</td>\n",
              "      <td>-0.222810</td>\n",
              "      <td>-0.055013</td>\n",
              "      <td>0.238529</td>\n",
              "      <td>0.126703</td>\n",
              "      <td>0.109747</td>\n",
              "      <td>-0.131101</td>\n",
              "      <td>0.059851</td>\n",
              "      <td>...</td>\n",
              "      <td>0.270315</td>\n",
              "      <td>-0.260290</td>\n",
              "      <td>-0.041776</td>\n",
              "      <td>-0.129686</td>\n",
              "      <td>-0.001571</td>\n",
              "      <td>0.091215</td>\n",
              "      <td>-0.050850</td>\n",
              "      <td>0.162865</td>\n",
              "      <td>-0.148286</td>\n",
              "      <td>-0.254202</td>\n",
              "    </tr>\n",
              "    <tr>\n",
              "      <th>1</th>\n",
              "      <td>0.369157</td>\n",
              "      <td>0.182510</td>\n",
              "      <td>-0.229715</td>\n",
              "      <td>-0.202387</td>\n",
              "      <td>-0.390429</td>\n",
              "      <td>-0.031405</td>\n",
              "      <td>-0.108973</td>\n",
              "      <td>-0.022522</td>\n",
              "      <td>0.203291</td>\n",
              "      <td>0.135411</td>\n",
              "      <td>...</td>\n",
              "      <td>-0.037542</td>\n",
              "      <td>-0.213049</td>\n",
              "      <td>0.020028</td>\n",
              "      <td>0.141376</td>\n",
              "      <td>0.162689</td>\n",
              "      <td>0.139088</td>\n",
              "      <td>0.091706</td>\n",
              "      <td>0.067486</td>\n",
              "      <td>-0.094169</td>\n",
              "      <td>0.282118</td>\n",
              "    </tr>\n",
              "    <tr>\n",
              "      <th>2</th>\n",
              "      <td>0.603761</td>\n",
              "      <td>-0.305098</td>\n",
              "      <td>0.034900</td>\n",
              "      <td>0.350755</td>\n",
              "      <td>-0.008049</td>\n",
              "      <td>-0.278914</td>\n",
              "      <td>-0.082977</td>\n",
              "      <td>0.241088</td>\n",
              "      <td>0.101457</td>\n",
              "      <td>-0.000780</td>\n",
              "      <td>...</td>\n",
              "      <td>0.080438</td>\n",
              "      <td>-0.041172</td>\n",
              "      <td>0.133590</td>\n",
              "      <td>0.222375</td>\n",
              "      <td>-0.198280</td>\n",
              "      <td>-0.107597</td>\n",
              "      <td>-0.015442</td>\n",
              "      <td>-0.198744</td>\n",
              "      <td>-0.007843</td>\n",
              "      <td>-0.008028</td>\n",
              "    </tr>\n",
              "    <tr>\n",
              "      <th>3</th>\n",
              "      <td>-0.124248</td>\n",
              "      <td>0.005525</td>\n",
              "      <td>-0.301813</td>\n",
              "      <td>0.049319</td>\n",
              "      <td>-0.121604</td>\n",
              "      <td>0.203210</td>\n",
              "      <td>-0.278912</td>\n",
              "      <td>-0.244047</td>\n",
              "      <td>0.034393</td>\n",
              "      <td>0.060727</td>\n",
              "      <td>...</td>\n",
              "      <td>-0.041599</td>\n",
              "      <td>-0.067779</td>\n",
              "      <td>-0.156308</td>\n",
              "      <td>0.176308</td>\n",
              "      <td>0.198437</td>\n",
              "      <td>0.053154</td>\n",
              "      <td>-0.332295</td>\n",
              "      <td>-0.001679</td>\n",
              "      <td>0.137726</td>\n",
              "      <td>0.217780</td>\n",
              "    </tr>\n",
              "    <tr>\n",
              "      <th>4</th>\n",
              "      <td>0.254514</td>\n",
              "      <td>0.081285</td>\n",
              "      <td>0.172855</td>\n",
              "      <td>-0.101837</td>\n",
              "      <td>-0.154586</td>\n",
              "      <td>-0.024241</td>\n",
              "      <td>0.077717</td>\n",
              "      <td>-0.409406</td>\n",
              "      <td>0.310648</td>\n",
              "      <td>-0.229847</td>\n",
              "      <td>...</td>\n",
              "      <td>0.160450</td>\n",
              "      <td>-0.395991</td>\n",
              "      <td>-0.378886</td>\n",
              "      <td>0.198066</td>\n",
              "      <td>0.113220</td>\n",
              "      <td>0.048099</td>\n",
              "      <td>-0.054681</td>\n",
              "      <td>-0.080073</td>\n",
              "      <td>0.015958</td>\n",
              "      <td>0.046424</td>\n",
              "    </tr>\n",
              "    <tr>\n",
              "      <th>...</th>\n",
              "      <td>...</td>\n",
              "      <td>...</td>\n",
              "      <td>...</td>\n",
              "      <td>...</td>\n",
              "      <td>...</td>\n",
              "      <td>...</td>\n",
              "      <td>...</td>\n",
              "      <td>...</td>\n",
              "      <td>...</td>\n",
              "      <td>...</td>\n",
              "      <td>...</td>\n",
              "      <td>...</td>\n",
              "      <td>...</td>\n",
              "      <td>...</td>\n",
              "      <td>...</td>\n",
              "      <td>...</td>\n",
              "      <td>...</td>\n",
              "      <td>...</td>\n",
              "      <td>...</td>\n",
              "      <td>...</td>\n",
              "      <td>...</td>\n",
              "    </tr>\n",
              "    <tr>\n",
              "      <th>460</th>\n",
              "      <td>-0.050118</td>\n",
              "      <td>0.063850</td>\n",
              "      <td>0.429611</td>\n",
              "      <td>-0.086493</td>\n",
              "      <td>-0.335821</td>\n",
              "      <td>0.116245</td>\n",
              "      <td>0.079734</td>\n",
              "      <td>0.245682</td>\n",
              "      <td>0.067913</td>\n",
              "      <td>-0.037557</td>\n",
              "      <td>...</td>\n",
              "      <td>-0.287112</td>\n",
              "      <td>-0.099317</td>\n",
              "      <td>-0.089627</td>\n",
              "      <td>-0.067500</td>\n",
              "      <td>-0.021834</td>\n",
              "      <td>-0.152264</td>\n",
              "      <td>0.127815</td>\n",
              "      <td>-0.129473</td>\n",
              "      <td>-0.018512</td>\n",
              "      <td>-0.148145</td>\n",
              "    </tr>\n",
              "    <tr>\n",
              "      <th>461</th>\n",
              "      <td>0.428768</td>\n",
              "      <td>0.122591</td>\n",
              "      <td>-0.300277</td>\n",
              "      <td>0.108071</td>\n",
              "      <td>-0.426952</td>\n",
              "      <td>0.228727</td>\n",
              "      <td>-0.268393</td>\n",
              "      <td>-0.210379</td>\n",
              "      <td>0.144979</td>\n",
              "      <td>-0.018626</td>\n",
              "      <td>...</td>\n",
              "      <td>-0.163118</td>\n",
              "      <td>-0.159776</td>\n",
              "      <td>0.099575</td>\n",
              "      <td>0.106052</td>\n",
              "      <td>-0.028877</td>\n",
              "      <td>0.089145</td>\n",
              "      <td>-0.077975</td>\n",
              "      <td>0.118165</td>\n",
              "      <td>-0.021073</td>\n",
              "      <td>0.050156</td>\n",
              "    </tr>\n",
              "    <tr>\n",
              "      <th>462</th>\n",
              "      <td>0.013493</td>\n",
              "      <td>-0.166492</td>\n",
              "      <td>-0.038531</td>\n",
              "      <td>0.211835</td>\n",
              "      <td>-0.058766</td>\n",
              "      <td>-0.017182</td>\n",
              "      <td>-0.059564</td>\n",
              "      <td>0.110542</td>\n",
              "      <td>0.032717</td>\n",
              "      <td>0.090225</td>\n",
              "      <td>...</td>\n",
              "      <td>0.111917</td>\n",
              "      <td>-0.341692</td>\n",
              "      <td>-0.282466</td>\n",
              "      <td>-0.117753</td>\n",
              "      <td>-0.457593</td>\n",
              "      <td>0.191758</td>\n",
              "      <td>-0.065522</td>\n",
              "      <td>0.261677</td>\n",
              "      <td>-0.140995</td>\n",
              "      <td>0.391544</td>\n",
              "    </tr>\n",
              "    <tr>\n",
              "      <th>463</th>\n",
              "      <td>0.013362</td>\n",
              "      <td>-0.046017</td>\n",
              "      <td>-0.105295</td>\n",
              "      <td>0.252323</td>\n",
              "      <td>-0.107559</td>\n",
              "      <td>0.296066</td>\n",
              "      <td>-0.074695</td>\n",
              "      <td>-0.171594</td>\n",
              "      <td>0.025673</td>\n",
              "      <td>0.231882</td>\n",
              "      <td>...</td>\n",
              "      <td>-0.233988</td>\n",
              "      <td>-0.145223</td>\n",
              "      <td>-0.029078</td>\n",
              "      <td>0.025952</td>\n",
              "      <td>0.118640</td>\n",
              "      <td>-0.174242</td>\n",
              "      <td>-0.115903</td>\n",
              "      <td>-0.222314</td>\n",
              "      <td>-0.020206</td>\n",
              "      <td>-0.117398</td>\n",
              "    </tr>\n",
              "    <tr>\n",
              "      <th>464</th>\n",
              "      <td>-0.445956</td>\n",
              "      <td>-0.315483</td>\n",
              "      <td>-0.148856</td>\n",
              "      <td>-0.215799</td>\n",
              "      <td>0.128443</td>\n",
              "      <td>0.018811</td>\n",
              "      <td>-0.260102</td>\n",
              "      <td>0.054040</td>\n",
              "      <td>-0.231980</td>\n",
              "      <td>-0.085349</td>\n",
              "      <td>...</td>\n",
              "      <td>-0.054532</td>\n",
              "      <td>-0.014563</td>\n",
              "      <td>0.126839</td>\n",
              "      <td>0.196578</td>\n",
              "      <td>-0.178019</td>\n",
              "      <td>-0.040986</td>\n",
              "      <td>0.106169</td>\n",
              "      <td>0.297877</td>\n",
              "      <td>-0.135822</td>\n",
              "      <td>-0.241926</td>\n",
              "    </tr>\n",
              "  </tbody>\n",
              "</table>\n",
              "<p>465 rows × 30 columns</p>\n",
              "</div>\n",
              "      <button class=\"colab-df-convert\" onclick=\"convertToInteractive('df-1ba4e341-4d25-47e9-8e9d-0f59ed1caf8d')\"\n",
              "              title=\"Convert this dataframe to an interactive table.\"\n",
              "              style=\"display:none;\">\n",
              "        \n",
              "  <svg xmlns=\"http://www.w3.org/2000/svg\" height=\"24px\"viewBox=\"0 0 24 24\"\n",
              "       width=\"24px\">\n",
              "    <path d=\"M0 0h24v24H0V0z\" fill=\"none\"/>\n",
              "    <path d=\"M18.56 5.44l.94 2.06.94-2.06 2.06-.94-2.06-.94-.94-2.06-.94 2.06-2.06.94zm-11 1L8.5 8.5l.94-2.06 2.06-.94-2.06-.94L8.5 2.5l-.94 2.06-2.06.94zm10 10l.94 2.06.94-2.06 2.06-.94-2.06-.94-.94-2.06-.94 2.06-2.06.94z\"/><path d=\"M17.41 7.96l-1.37-1.37c-.4-.4-.92-.59-1.43-.59-.52 0-1.04.2-1.43.59L10.3 9.45l-7.72 7.72c-.78.78-.78 2.05 0 2.83L4 21.41c.39.39.9.59 1.41.59.51 0 1.02-.2 1.41-.59l7.78-7.78 2.81-2.81c.8-.78.8-2.07 0-2.86zM5.41 20L4 18.59l7.72-7.72 1.47 1.35L5.41 20z\"/>\n",
              "  </svg>\n",
              "      </button>\n",
              "      \n",
              "  <style>\n",
              "    .colab-df-container {\n",
              "      display:flex;\n",
              "      flex-wrap:wrap;\n",
              "      gap: 12px;\n",
              "    }\n",
              "\n",
              "    .colab-df-convert {\n",
              "      background-color: #E8F0FE;\n",
              "      border: none;\n",
              "      border-radius: 50%;\n",
              "      cursor: pointer;\n",
              "      display: none;\n",
              "      fill: #1967D2;\n",
              "      height: 32px;\n",
              "      padding: 0 0 0 0;\n",
              "      width: 32px;\n",
              "    }\n",
              "\n",
              "    .colab-df-convert:hover {\n",
              "      background-color: #E2EBFA;\n",
              "      box-shadow: 0px 1px 2px rgba(60, 64, 67, 0.3), 0px 1px 3px 1px rgba(60, 64, 67, 0.15);\n",
              "      fill: #174EA6;\n",
              "    }\n",
              "\n",
              "    [theme=dark] .colab-df-convert {\n",
              "      background-color: #3B4455;\n",
              "      fill: #D2E3FC;\n",
              "    }\n",
              "\n",
              "    [theme=dark] .colab-df-convert:hover {\n",
              "      background-color: #434B5C;\n",
              "      box-shadow: 0px 1px 3px 1px rgba(0, 0, 0, 0.15);\n",
              "      filter: drop-shadow(0px 1px 2px rgba(0, 0, 0, 0.3));\n",
              "      fill: #FFFFFF;\n",
              "    }\n",
              "  </style>\n",
              "\n",
              "      <script>\n",
              "        const buttonEl =\n",
              "          document.querySelector('#df-1ba4e341-4d25-47e9-8e9d-0f59ed1caf8d button.colab-df-convert');\n",
              "        buttonEl.style.display =\n",
              "          google.colab.kernel.accessAllowed ? 'block' : 'none';\n",
              "\n",
              "        async function convertToInteractive(key) {\n",
              "          const element = document.querySelector('#df-1ba4e341-4d25-47e9-8e9d-0f59ed1caf8d');\n",
              "          const dataTable =\n",
              "            await google.colab.kernel.invokeFunction('convertToInteractive',\n",
              "                                                     [key], {});\n",
              "          if (!dataTable) return;\n",
              "\n",
              "          const docLinkHtml = 'Like what you see? Visit the ' +\n",
              "            '<a target=\"_blank\" href=https://colab.research.google.com/notebooks/data_table.ipynb>data table notebook</a>'\n",
              "            + ' to learn more about interactive tables.';\n",
              "          element.innerHTML = '';\n",
              "          dataTable['output_type'] = 'display_data';\n",
              "          await google.colab.output.renderOutput(dataTable, element);\n",
              "          const docLink = document.createElement('div');\n",
              "          docLink.innerHTML = docLinkHtml;\n",
              "          element.appendChild(docLink);\n",
              "        }\n",
              "      </script>\n",
              "    </div>\n",
              "  </div>\n",
              "  "
            ]
          },
          "metadata": {},
          "execution_count": 133
        }
      ]
    },
    {
      "cell_type": "markdown",
      "source": [
        "### Exercise 4b (1 point) : Data Preparation\n",
        "\n",
        "* Check for the data value counts to see the data imbalance\n",
        "  - Merge the smaller classes to a bigger class so that the number of classes is between 3 and 4\n",
        "\n",
        "* Perform Label Encoding for the Target variable classes\n",
        "\n",
        "* Create a New DataFrame\n",
        "  - Merge the dataframe with PCA filtered variables and \n",
        "\n",
        "    the Target variable-1 `\"Defect Type Family using IEEE\"` and  \n",
        "\n",
        "    the Target variable -2 `\"Defect Type Family using ODC\"`\n",
        "\n",
        "* Split the above data into Training and Testing Datasets\n",
        "\n",
        "\n"
      ],
      "metadata": {
        "id": "NyCSlLTHjDek"
      }
    },
    {
      "cell_type": "code",
      "source": [
        "df_ml_data = df_body_counts.copy()\n",
        "df_ml_data[\"Defect Type Family using IEEE\"] = df[\"Defect Type Family using IEEE\"].astype(int)\n",
        "df_ml_data[\"Defect Type Family using ODC\"] = df[\"Defect Type Family using ODC\"].astype(int)\n",
        "df_ml_data.head(2)"
      ],
      "metadata": {
        "colab": {
          "base_uri": "https://localhost:8080/",
          "height": 275
        },
        "outputId": "08c7f95c-e0f5-4a1b-bd7a-dbb892dcea68",
        "id": "0GSy9HpXjZJW"
      },
      "execution_count": null,
      "outputs": [
        {
          "output_type": "execute_result",
          "data": {
            "text/plain": [
              "       pc_1      pc_2      pc_3      pc_4      pc_5      pc_6      pc_7  \\\n",
              "0  0.096789 -0.060375  0.107373 -0.222810 -0.055013  0.238529  0.126703   \n",
              "1  0.369157  0.182510 -0.229715 -0.202387 -0.390429 -0.031405 -0.108973   \n",
              "\n",
              "       pc_8      pc_9     pc_10  ...     pc_23     pc_24     pc_25     pc_26  \\\n",
              "0  0.109747 -0.131101  0.059851  ... -0.041776 -0.129686 -0.001571  0.091215   \n",
              "1 -0.022522  0.203291  0.135411  ...  0.020028  0.141376  0.162689  0.139088   \n",
              "\n",
              "      pc_27     pc_28     pc_29     pc_30  Defect Type Family using IEEE  \\\n",
              "0 -0.050850  0.162865 -0.148286 -0.254202                            1.0   \n",
              "1  0.091706  0.067486 -0.094169  0.282118                            1.0   \n",
              "\n",
              "   Defect Type Family using ODC  \n",
              "0                           0.0  \n",
              "1                           0.0  \n",
              "\n",
              "[2 rows x 32 columns]"
            ],
            "text/html": [
              "\n",
              "  <div id=\"df-911d279f-f0de-4c87-a381-a7914ba94a68\">\n",
              "    <div class=\"colab-df-container\">\n",
              "      <div>\n",
              "<style scoped>\n",
              "    .dataframe tbody tr th:only-of-type {\n",
              "        vertical-align: middle;\n",
              "    }\n",
              "\n",
              "    .dataframe tbody tr th {\n",
              "        vertical-align: top;\n",
              "    }\n",
              "\n",
              "    .dataframe thead th {\n",
              "        text-align: right;\n",
              "    }\n",
              "</style>\n",
              "<table border=\"1\" class=\"dataframe\">\n",
              "  <thead>\n",
              "    <tr style=\"text-align: right;\">\n",
              "      <th></th>\n",
              "      <th>pc_1</th>\n",
              "      <th>pc_2</th>\n",
              "      <th>pc_3</th>\n",
              "      <th>pc_4</th>\n",
              "      <th>pc_5</th>\n",
              "      <th>pc_6</th>\n",
              "      <th>pc_7</th>\n",
              "      <th>pc_8</th>\n",
              "      <th>pc_9</th>\n",
              "      <th>pc_10</th>\n",
              "      <th>...</th>\n",
              "      <th>pc_23</th>\n",
              "      <th>pc_24</th>\n",
              "      <th>pc_25</th>\n",
              "      <th>pc_26</th>\n",
              "      <th>pc_27</th>\n",
              "      <th>pc_28</th>\n",
              "      <th>pc_29</th>\n",
              "      <th>pc_30</th>\n",
              "      <th>Defect Type Family using IEEE</th>\n",
              "      <th>Defect Type Family using ODC</th>\n",
              "    </tr>\n",
              "  </thead>\n",
              "  <tbody>\n",
              "    <tr>\n",
              "      <th>0</th>\n",
              "      <td>0.096789</td>\n",
              "      <td>-0.060375</td>\n",
              "      <td>0.107373</td>\n",
              "      <td>-0.222810</td>\n",
              "      <td>-0.055013</td>\n",
              "      <td>0.238529</td>\n",
              "      <td>0.126703</td>\n",
              "      <td>0.109747</td>\n",
              "      <td>-0.131101</td>\n",
              "      <td>0.059851</td>\n",
              "      <td>...</td>\n",
              "      <td>-0.041776</td>\n",
              "      <td>-0.129686</td>\n",
              "      <td>-0.001571</td>\n",
              "      <td>0.091215</td>\n",
              "      <td>-0.050850</td>\n",
              "      <td>0.162865</td>\n",
              "      <td>-0.148286</td>\n",
              "      <td>-0.254202</td>\n",
              "      <td>1.0</td>\n",
              "      <td>0.0</td>\n",
              "    </tr>\n",
              "    <tr>\n",
              "      <th>1</th>\n",
              "      <td>0.369157</td>\n",
              "      <td>0.182510</td>\n",
              "      <td>-0.229715</td>\n",
              "      <td>-0.202387</td>\n",
              "      <td>-0.390429</td>\n",
              "      <td>-0.031405</td>\n",
              "      <td>-0.108973</td>\n",
              "      <td>-0.022522</td>\n",
              "      <td>0.203291</td>\n",
              "      <td>0.135411</td>\n",
              "      <td>...</td>\n",
              "      <td>0.020028</td>\n",
              "      <td>0.141376</td>\n",
              "      <td>0.162689</td>\n",
              "      <td>0.139088</td>\n",
              "      <td>0.091706</td>\n",
              "      <td>0.067486</td>\n",
              "      <td>-0.094169</td>\n",
              "      <td>0.282118</td>\n",
              "      <td>1.0</td>\n",
              "      <td>0.0</td>\n",
              "    </tr>\n",
              "  </tbody>\n",
              "</table>\n",
              "<p>2 rows × 32 columns</p>\n",
              "</div>\n",
              "      <button class=\"colab-df-convert\" onclick=\"convertToInteractive('df-911d279f-f0de-4c87-a381-a7914ba94a68')\"\n",
              "              title=\"Convert this dataframe to an interactive table.\"\n",
              "              style=\"display:none;\">\n",
              "        \n",
              "  <svg xmlns=\"http://www.w3.org/2000/svg\" height=\"24px\"viewBox=\"0 0 24 24\"\n",
              "       width=\"24px\">\n",
              "    <path d=\"M0 0h24v24H0V0z\" fill=\"none\"/>\n",
              "    <path d=\"M18.56 5.44l.94 2.06.94-2.06 2.06-.94-2.06-.94-.94-2.06-.94 2.06-2.06.94zm-11 1L8.5 8.5l.94-2.06 2.06-.94-2.06-.94L8.5 2.5l-.94 2.06-2.06.94zm10 10l.94 2.06.94-2.06 2.06-.94-2.06-.94-.94-2.06-.94 2.06-2.06.94z\"/><path d=\"M17.41 7.96l-1.37-1.37c-.4-.4-.92-.59-1.43-.59-.52 0-1.04.2-1.43.59L10.3 9.45l-7.72 7.72c-.78.78-.78 2.05 0 2.83L4 21.41c.39.39.9.59 1.41.59.51 0 1.02-.2 1.41-.59l7.78-7.78 2.81-2.81c.8-.78.8-2.07 0-2.86zM5.41 20L4 18.59l7.72-7.72 1.47 1.35L5.41 20z\"/>\n",
              "  </svg>\n",
              "      </button>\n",
              "      \n",
              "  <style>\n",
              "    .colab-df-container {\n",
              "      display:flex;\n",
              "      flex-wrap:wrap;\n",
              "      gap: 12px;\n",
              "    }\n",
              "\n",
              "    .colab-df-convert {\n",
              "      background-color: #E8F0FE;\n",
              "      border: none;\n",
              "      border-radius: 50%;\n",
              "      cursor: pointer;\n",
              "      display: none;\n",
              "      fill: #1967D2;\n",
              "      height: 32px;\n",
              "      padding: 0 0 0 0;\n",
              "      width: 32px;\n",
              "    }\n",
              "\n",
              "    .colab-df-convert:hover {\n",
              "      background-color: #E2EBFA;\n",
              "      box-shadow: 0px 1px 2px rgba(60, 64, 67, 0.3), 0px 1px 3px 1px rgba(60, 64, 67, 0.15);\n",
              "      fill: #174EA6;\n",
              "    }\n",
              "\n",
              "    [theme=dark] .colab-df-convert {\n",
              "      background-color: #3B4455;\n",
              "      fill: #D2E3FC;\n",
              "    }\n",
              "\n",
              "    [theme=dark] .colab-df-convert:hover {\n",
              "      background-color: #434B5C;\n",
              "      box-shadow: 0px 1px 3px 1px rgba(0, 0, 0, 0.15);\n",
              "      filter: drop-shadow(0px 1px 2px rgba(0, 0, 0, 0.3));\n",
              "      fill: #FFFFFF;\n",
              "    }\n",
              "  </style>\n",
              "\n",
              "      <script>\n",
              "        const buttonEl =\n",
              "          document.querySelector('#df-911d279f-f0de-4c87-a381-a7914ba94a68 button.colab-df-convert');\n",
              "        buttonEl.style.display =\n",
              "          google.colab.kernel.accessAllowed ? 'block' : 'none';\n",
              "\n",
              "        async function convertToInteractive(key) {\n",
              "          const element = document.querySelector('#df-911d279f-f0de-4c87-a381-a7914ba94a68');\n",
              "          const dataTable =\n",
              "            await google.colab.kernel.invokeFunction('convertToInteractive',\n",
              "                                                     [key], {});\n",
              "          if (!dataTable) return;\n",
              "\n",
              "          const docLinkHtml = 'Like what you see? Visit the ' +\n",
              "            '<a target=\"_blank\" href=https://colab.research.google.com/notebooks/data_table.ipynb>data table notebook</a>'\n",
              "            + ' to learn more about interactive tables.';\n",
              "          element.innerHTML = '';\n",
              "          dataTable['output_type'] = 'display_data';\n",
              "          await google.colab.output.renderOutput(dataTable, element);\n",
              "          const docLink = document.createElement('div');\n",
              "          docLink.innerHTML = docLinkHtml;\n",
              "          element.appendChild(docLink);\n",
              "        }\n",
              "      </script>\n",
              "    </div>\n",
              "  </div>\n",
              "  "
            ]
          },
          "metadata": {},
          "execution_count": 134
        }
      ]
    },
    {
      "cell_type": "code",
      "source": [
        "df_ml_data.shape"
      ],
      "metadata": {
        "colab": {
          "base_uri": "https://localhost:8080/"
        },
        "outputId": "0c9fd938-6f94-4eed-d694-f4ed1edd38c0",
        "id": "Aq1kdwWqjZJk"
      },
      "execution_count": null,
      "outputs": [
        {
          "output_type": "execute_result",
          "data": {
            "text/plain": [
              "(465, 32)"
            ]
          },
          "metadata": {},
          "execution_count": 135
        }
      ]
    },
    {
      "cell_type": "code",
      "source": [
        "print(df_ml_data[\"Defect Type Family using IEEE\"].isnull().sum())\n",
        "df_ml_data[\"Defect Type Family using IEEE\"].value_counts()"
      ],
      "metadata": {
        "colab": {
          "base_uri": "https://localhost:8080/"
        },
        "outputId": "322d5e60-2f84-4e3e-cd6d-06acd6401548",
        "id": "Y-ITgBXqjZJk"
      },
      "execution_count": null,
      "outputs": [
        {
          "output_type": "stream",
          "name": "stdout",
          "text": [
            "58\n"
          ]
        },
        {
          "output_type": "execute_result",
          "data": {
            "text/plain": [
              "1.0    270\n",
              "0.0     80\n",
              "2.0     37\n",
              "3.0     20\n",
              "Name: Defect Type Family using IEEE, dtype: int64"
            ]
          },
          "metadata": {},
          "execution_count": 136
        }
      ]
    },
    {
      "cell_type": "code",
      "source": [
        "df_ml_data[\"Defect Type Family using IEEE\"] = df_ml_data[\"Defect Type Family using IEEE\"].fillna(4.0)\n",
        "df_ml_data[\"Defect Type Family using IEEE\"].value_counts()"
      ],
      "metadata": {
        "colab": {
          "base_uri": "https://localhost:8080/"
        },
        "outputId": "347cc7df-213c-4ca4-e84a-c9a24c84b355",
        "id": "Kz4_kJVUjZJk"
      },
      "execution_count": null,
      "outputs": [
        {
          "output_type": "execute_result",
          "data": {
            "text/plain": [
              "1.0    270\n",
              "0.0     80\n",
              "4.0     58\n",
              "2.0     37\n",
              "3.0     20\n",
              "Name: Defect Type Family using IEEE, dtype: int64"
            ]
          },
          "metadata": {},
          "execution_count": 137
        }
      ]
    },
    {
      "cell_type": "code",
      "source": [
        "print(df_ml_data[\"Defect Type Family using ODC\"].isnull().sum())\n",
        "df_ml_data[\"Defect Type Family using ODC\"].value_counts()"
      ],
      "metadata": {
        "colab": {
          "base_uri": "https://localhost:8080/"
        },
        "outputId": "4fbce09e-1e30-41e7-ca95-43052ccd3b4b",
        "id": "OGBn1CxcjZJk"
      },
      "execution_count": null,
      "outputs": [
        {
          "output_type": "stream",
          "name": "stdout",
          "text": [
            "58\n"
          ]
        },
        {
          "output_type": "execute_result",
          "data": {
            "text/plain": [
              "0.0    311\n",
              "2.0     54\n",
              "1.0     42\n",
              "Name: Defect Type Family using ODC, dtype: int64"
            ]
          },
          "metadata": {},
          "execution_count": 138
        }
      ]
    },
    {
      "cell_type": "code",
      "source": [
        "df_ml_data[\"Defect Type Family using ODC\"] = df_ml_data[\"Defect Type Family using ODC\"].fillna(3.0)\n",
        "df_ml_data[\"Defect Type Family using ODC\"].value_counts()"
      ],
      "metadata": {
        "colab": {
          "base_uri": "https://localhost:8080/"
        },
        "outputId": "660f0969-e97e-42bd-dbd3-fb5e3003a338",
        "id": "my2mIz-sjZJl"
      },
      "execution_count": null,
      "outputs": [
        {
          "output_type": "execute_result",
          "data": {
            "text/plain": [
              "0.0    311\n",
              "3.0     58\n",
              "2.0     54\n",
              "1.0     42\n",
              "Name: Defect Type Family using ODC, dtype: int64"
            ]
          },
          "metadata": {},
          "execution_count": 139
        }
      ]
    },
    {
      "cell_type": "code",
      "source": [
        "df_ml_data.isnull().sum()"
      ],
      "metadata": {
        "colab": {
          "base_uri": "https://localhost:8080/"
        },
        "outputId": "da6bfe1c-bc4e-4928-ca71-0c4589db26d7",
        "id": "AnY5SFz9jZJl"
      },
      "execution_count": null,
      "outputs": [
        {
          "output_type": "execute_result",
          "data": {
            "text/plain": [
              "pc_1                             0\n",
              "pc_2                             0\n",
              "pc_3                             0\n",
              "pc_4                             0\n",
              "pc_5                             0\n",
              "pc_6                             0\n",
              "pc_7                             0\n",
              "pc_8                             0\n",
              "pc_9                             0\n",
              "pc_10                            0\n",
              "pc_11                            0\n",
              "pc_12                            0\n",
              "pc_13                            0\n",
              "pc_14                            0\n",
              "pc_15                            0\n",
              "pc_16                            0\n",
              "pc_17                            0\n",
              "pc_18                            0\n",
              "pc_19                            0\n",
              "pc_20                            0\n",
              "pc_21                            0\n",
              "pc_22                            0\n",
              "pc_23                            0\n",
              "pc_24                            0\n",
              "pc_25                            0\n",
              "pc_26                            0\n",
              "pc_27                            0\n",
              "pc_28                            0\n",
              "pc_29                            0\n",
              "pc_30                            0\n",
              "Defect Type Family using IEEE    0\n",
              "Defect Type Family using ODC     0\n",
              "dtype: int64"
            ]
          },
          "metadata": {},
          "execution_count": 140
        }
      ]
    },
    {
      "cell_type": "code",
      "source": [
        "# Split the Data into training and testing\n",
        "\n",
        "X  = df_ml_data.iloc[:,:-2]\n",
        "y1 = df_ml_data.iloc[:,-2]\n",
        "y2 = df_ml_data.iloc[:,-1]\n",
        "\n",
        "X_train, X_test, y_train1, y_test1 = train_test_split( X, y1, test_size=0.3, random_state=123)\n",
        "X_train, X_test, y_train2, y_test2 = train_test_split( X, y2, test_size=0.3, random_state=123)\n"
      ],
      "metadata": {
        "id": "HZwp9jmri7n9"
      },
      "execution_count": null,
      "outputs": []
    },
    {
      "cell_type": "markdown",
      "source": [
        "### Exercise 5b (1 point) : Classification\n",
        "\n",
        "* Classification-Target 1 (`\"Defect Type Family using IEEE\"`)\n",
        "\t\n",
        "    - Perform classification using any ONE of your favorite Sklearn's classifier\n",
        "\n",
        "    - Explain with metrics\n",
        "\n",
        "* Classification-Target 2 (`\"Defect Type Family using ODC\"`)\n",
        "\t\n",
        "    - Perform classification using any ONE of your favorite Sklearn's classifier\n",
        "\n",
        "    - Explain with metrics\n",
        "\n",
        "**Tip**: Train the model and predict on seperate cells. It will save time debugging."
      ],
      "metadata": {
        "id": "_SbQiOSIjfM2"
      }
    },
    {
      "cell_type": "code",
      "execution_count": null,
      "metadata": {
        "colab": {
          "base_uri": "https://localhost:8080/"
        },
        "outputId": "6f2885f6-35ef-47d9-9bb5-097bcb02e5ba",
        "id": "bqpaWH0UisfI"
      },
      "outputs": [
        {
          "output_type": "execute_result",
          "data": {
            "text/plain": [
              "0.22857142857142856"
            ]
          },
          "metadata": {},
          "execution_count": 142
        }
      ],
      "source": [
        "# MODEL 1\n",
        "\n",
        "model_1 = LogisticRegression(multi_class='ovr', class_weight='balanced')\n",
        "model_1.fit(X_train, y_train1)\n",
        "y_pred1 = model_1.predict(X_test)\n",
        "model_1.score(X_test, y_test1)"
      ]
    },
    {
      "cell_type": "code",
      "source": [
        "print(f\"\\n Confusion Matrix = \\n{confusion_matrix(y_test1, y_pred1)}\")\n",
        "print(f\"\\n Classification Report = \\n{classification_report(y_test1, y_pred1)}\")"
      ],
      "metadata": {
        "colab": {
          "base_uri": "https://localhost:8080/"
        },
        "outputId": "9b08ce5c-ee1f-45ea-8f61-e87bca823c7d",
        "id": "NnR3pUcqisfJ"
      },
      "execution_count": null,
      "outputs": [
        {
          "output_type": "stream",
          "name": "stdout",
          "text": [
            "\n",
            " Confusion Matrix = \n",
            "[[ 4  6 11  3  4]\n",
            " [10 23 20 13 16]\n",
            " [ 2  4  1  1  2]\n",
            " [ 1  2  1  1  0]\n",
            " [ 6  3  1  2  3]]\n",
            "\n",
            " Classification Report = \n",
            "              precision    recall  f1-score   support\n",
            "\n",
            "         0.0       0.17      0.14      0.16        28\n",
            "         1.0       0.61      0.28      0.38        82\n",
            "         2.0       0.03      0.10      0.05        10\n",
            "         3.0       0.05      0.20      0.08         5\n",
            "         4.0       0.12      0.20      0.15        15\n",
            "\n",
            "    accuracy                           0.23       140\n",
            "   macro avg       0.20      0.18      0.16       140\n",
            "weighted avg       0.41      0.23      0.28       140\n",
            "\n"
          ]
        }
      ]
    },
    {
      "cell_type": "code",
      "source": [
        "# MODEL 2\n",
        "\n",
        "model_2 = LogisticRegression(multi_class='ovr', class_weight='balanced')\n",
        "model_2.fit(X_train, y_train2)\n",
        "y_pred2 = model_2.predict(X_test)\n",
        "model_2.score(X_test, y_test2)"
      ],
      "metadata": {
        "colab": {
          "base_uri": "https://localhost:8080/"
        },
        "outputId": "26068c59-3039-4114-eaee-d811d3639cf2",
        "id": "dUIKeV2nisfK"
      },
      "execution_count": null,
      "outputs": [
        {
          "output_type": "execute_result",
          "data": {
            "text/plain": [
              "0.32857142857142857"
            ]
          },
          "metadata": {},
          "execution_count": 144
        }
      ]
    },
    {
      "cell_type": "code",
      "source": [
        "print(f\"\\n Confusion Matrix = \\n{confusion_matrix(y_test2, y_pred2)}\")\n",
        "print(f\"\\n Classification Report = \\n{classification_report(y_test2, y_pred2)}\")"
      ],
      "metadata": {
        "colab": {
          "base_uri": "https://localhost:8080/"
        },
        "outputId": "f6b84543-912b-4940-ecee-d4328cfe8a31",
        "id": "BP_cQllSisfK"
      },
      "execution_count": null,
      "outputs": [
        {
          "output_type": "stream",
          "name": "stdout",
          "text": [
            "\n",
            " Confusion Matrix = \n",
            "[[35 26 16 18]\n",
            " [ 4  2  3  2]\n",
            " [ 4  5  5  5]\n",
            " [ 6  2  3  4]]\n",
            "\n",
            " Classification Report = \n",
            "              precision    recall  f1-score   support\n",
            "\n",
            "         0.0       0.71      0.37      0.49        95\n",
            "         1.0       0.06      0.18      0.09        11\n",
            "         2.0       0.19      0.26      0.22        19\n",
            "         3.0       0.14      0.27      0.18        15\n",
            "\n",
            "    accuracy                           0.33       140\n",
            "   macro avg       0.27      0.27      0.24       140\n",
            "weighted avg       0.53      0.33      0.39       140\n",
            "\n"
          ]
        }
      ]
    },
    {
      "cell_type": "code",
      "source": [
        "model_3 = SVC(gamma='auto', class_weight='balanced').fit(X_train, y_train1)\n",
        "y_pred3 = model_3.predict(X_test)\n",
        "model_3.score(X_test, y_test1)"
      ],
      "metadata": {
        "colab": {
          "base_uri": "https://localhost:8080/"
        },
        "outputId": "9f1338db-4df0-4d71-a7e2-203f13ea4911",
        "id": "LgZOQuPGisfK"
      },
      "execution_count": null,
      "outputs": [
        {
          "output_type": "execute_result",
          "data": {
            "text/plain": [
              "0.5857142857142857"
            ]
          },
          "metadata": {},
          "execution_count": 146
        }
      ]
    },
    {
      "cell_type": "code",
      "source": [
        "print(f\"\\n Confusion Matrix = \\n{confusion_matrix(y_test1, y_pred3)}\")\n",
        "print(f\"\\n Classification Report = \\n{classification_report(y_test1, y_pred3)}\")"
      ],
      "metadata": {
        "colab": {
          "base_uri": "https://localhost:8080/"
        },
        "outputId": "cf2778e5-dab4-4c9f-f9b0-4a7275a580ff",
        "id": "-zln_PPpisfL"
      },
      "execution_count": null,
      "outputs": [
        {
          "output_type": "stream",
          "name": "stdout",
          "text": [
            "\n",
            " Confusion Matrix = \n",
            "[[ 0 28  0  0  0]\n",
            " [ 0 82  0  0  0]\n",
            " [ 0 10  0  0  0]\n",
            " [ 0  5  0  0  0]\n",
            " [ 0 15  0  0  0]]\n",
            "\n",
            " Classification Report = \n",
            "              precision    recall  f1-score   support\n",
            "\n",
            "         0.0       0.00      0.00      0.00        28\n",
            "         1.0       0.59      1.00      0.74        82\n",
            "         2.0       0.00      0.00      0.00        10\n",
            "         3.0       0.00      0.00      0.00         5\n",
            "         4.0       0.00      0.00      0.00        15\n",
            "\n",
            "    accuracy                           0.59       140\n",
            "   macro avg       0.12      0.20      0.15       140\n",
            "weighted avg       0.34      0.59      0.43       140\n",
            "\n"
          ]
        }
      ]
    },
    {
      "cell_type": "code",
      "source": [
        "from sklearn.svm import SVC\n",
        "model_4 = SVC(gamma='auto', class_weight='balanced').fit(X_train, y_train2)\n",
        "y_pred4 = model_4.predict(X_test)\n",
        "model_4.score(X_test, y_test2)"
      ],
      "metadata": {
        "colab": {
          "base_uri": "https://localhost:8080/"
        },
        "outputId": "ca716dc9-d915-4289-f3c0-ef916363f8b0",
        "id": "kG6RfC3DisfL"
      },
      "execution_count": null,
      "outputs": [
        {
          "output_type": "execute_result",
          "data": {
            "text/plain": [
              "0.14285714285714285"
            ]
          },
          "metadata": {},
          "execution_count": 148
        }
      ]
    },
    {
      "cell_type": "code",
      "source": [
        "print(f\"\\n Confusion Matrix = \\n{confusion_matrix(y_test2, y_pred4)}\")\n",
        "print(f\"\\n Classification Report = \\n{classification_report(y_test2, y_pred4)}\")"
      ],
      "metadata": {
        "colab": {
          "base_uri": "https://localhost:8080/"
        },
        "outputId": "1547ae9b-d3b4-4af8-c53c-1016af09ad5c",
        "id": "nK_9sfAEisfL"
      },
      "execution_count": null,
      "outputs": [
        {
          "output_type": "stream",
          "name": "stdout",
          "text": [
            "\n",
            " Confusion Matrix = \n",
            "[[ 0  9 85  1]\n",
            " [ 0  1 10  0]\n",
            " [ 0  1 18  0]\n",
            " [ 0  1 13  1]]\n",
            "\n",
            " Classification Report = \n",
            "              precision    recall  f1-score   support\n",
            "\n",
            "         0.0       0.00      0.00      0.00        95\n",
            "         1.0       0.08      0.09      0.09        11\n",
            "         2.0       0.14      0.95      0.25        19\n",
            "         3.0       0.50      0.07      0.12        15\n",
            "\n",
            "    accuracy                           0.14       140\n",
            "   macro avg       0.18      0.28      0.11       140\n",
            "weighted avg       0.08      0.14      0.05       140\n",
            "\n"
          ]
        }
      ]
    }
  ],
  "metadata": {
    "colab": {
      "provenance": [],
      "toc_visible": true,
      "include_colab_link": true
    },
    "kernelspec": {
      "display_name": "Python 3 (ipykernel)",
      "language": "python",
      "name": "python3"
    },
    "language_info": {
      "codemirror_mode": {
        "name": "ipython",
        "version": 3
      },
      "file_extension": ".py",
      "mimetype": "text/x-python",
      "name": "python",
      "nbconvert_exporter": "python",
      "pygments_lexer": "ipython3",
      "version": "3.9.7"
    }
  },
  "nbformat": 4,
  "nbformat_minor": 0
}