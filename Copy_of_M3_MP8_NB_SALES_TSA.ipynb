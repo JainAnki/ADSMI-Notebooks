{
  "cells": [
    {
      "cell_type": "markdown",
      "metadata": {
        "id": "view-in-github",
        "colab_type": "text"
      },
      "source": [
        "<a href=\"https://colab.research.google.com/github/JainAnki/ADSMI-Notebooks/blob/main/Copy_of_M3_MP8_NB_SALES_TSA.ipynb\" target=\"_parent\"><img src=\"https://colab.research.google.com/assets/colab-badge.svg\" alt=\"Open In Colab\"/></a>"
      ]
    },
    {
      "cell_type": "code",
      "source": [
        "import numpy as np\n",
        "import pandas as pd\n",
        "\n",
        "a = [00,11]\n",
        "b = ['This is a good dog', 'Climate is extreme']\n",
        "df = pd.DataFrame(list(zip(a,b)), columns = ['col_a', 'col_b'])\n",
        "df"
      ],
      "metadata": {
        "colab": {
          "base_uri": "https://localhost:8080/",
          "height": 112
        },
        "id": "McOUtJGw3DNd",
        "outputId": "0ddef889-7499-4fbd-a7e6-db9abb6b1639"
      },
      "id": "McOUtJGw3DNd",
      "execution_count": null,
      "outputs": [
        {
          "output_type": "execute_result",
          "data": {
            "text/plain": [
              "   col_a               col_b\n",
              "0      0  This is a good dog\n",
              "1     11  Climate is extreme"
            ],
            "text/html": [
              "\n",
              "  <div id=\"df-982ca422-a43b-4deb-a50c-b55ed2edef14\">\n",
              "    <div class=\"colab-df-container\">\n",
              "      <div>\n",
              "<style scoped>\n",
              "    .dataframe tbody tr th:only-of-type {\n",
              "        vertical-align: middle;\n",
              "    }\n",
              "\n",
              "    .dataframe tbody tr th {\n",
              "        vertical-align: top;\n",
              "    }\n",
              "\n",
              "    .dataframe thead th {\n",
              "        text-align: right;\n",
              "    }\n",
              "</style>\n",
              "<table border=\"1\" class=\"dataframe\">\n",
              "  <thead>\n",
              "    <tr style=\"text-align: right;\">\n",
              "      <th></th>\n",
              "      <th>col_a</th>\n",
              "      <th>col_b</th>\n",
              "    </tr>\n",
              "  </thead>\n",
              "  <tbody>\n",
              "    <tr>\n",
              "      <th>0</th>\n",
              "      <td>0</td>\n",
              "      <td>This is a good dog</td>\n",
              "    </tr>\n",
              "    <tr>\n",
              "      <th>1</th>\n",
              "      <td>11</td>\n",
              "      <td>Climate is extreme</td>\n",
              "    </tr>\n",
              "  </tbody>\n",
              "</table>\n",
              "</div>\n",
              "      <button class=\"colab-df-convert\" onclick=\"convertToInteractive('df-982ca422-a43b-4deb-a50c-b55ed2edef14')\"\n",
              "              title=\"Convert this dataframe to an interactive table.\"\n",
              "              style=\"display:none;\">\n",
              "        \n",
              "  <svg xmlns=\"http://www.w3.org/2000/svg\" height=\"24px\"viewBox=\"0 0 24 24\"\n",
              "       width=\"24px\">\n",
              "    <path d=\"M0 0h24v24H0V0z\" fill=\"none\"/>\n",
              "    <path d=\"M18.56 5.44l.94 2.06.94-2.06 2.06-.94-2.06-.94-.94-2.06-.94 2.06-2.06.94zm-11 1L8.5 8.5l.94-2.06 2.06-.94-2.06-.94L8.5 2.5l-.94 2.06-2.06.94zm10 10l.94 2.06.94-2.06 2.06-.94-2.06-.94-.94-2.06-.94 2.06-2.06.94z\"/><path d=\"M17.41 7.96l-1.37-1.37c-.4-.4-.92-.59-1.43-.59-.52 0-1.04.2-1.43.59L10.3 9.45l-7.72 7.72c-.78.78-.78 2.05 0 2.83L4 21.41c.39.39.9.59 1.41.59.51 0 1.02-.2 1.41-.59l7.78-7.78 2.81-2.81c.8-.78.8-2.07 0-2.86zM5.41 20L4 18.59l7.72-7.72 1.47 1.35L5.41 20z\"/>\n",
              "  </svg>\n",
              "      </button>\n",
              "      \n",
              "  <style>\n",
              "    .colab-df-container {\n",
              "      display:flex;\n",
              "      flex-wrap:wrap;\n",
              "      gap: 12px;\n",
              "    }\n",
              "\n",
              "    .colab-df-convert {\n",
              "      background-color: #E8F0FE;\n",
              "      border: none;\n",
              "      border-radius: 50%;\n",
              "      cursor: pointer;\n",
              "      display: none;\n",
              "      fill: #1967D2;\n",
              "      height: 32px;\n",
              "      padding: 0 0 0 0;\n",
              "      width: 32px;\n",
              "    }\n",
              "\n",
              "    .colab-df-convert:hover {\n",
              "      background-color: #E2EBFA;\n",
              "      box-shadow: 0px 1px 2px rgba(60, 64, 67, 0.3), 0px 1px 3px 1px rgba(60, 64, 67, 0.15);\n",
              "      fill: #174EA6;\n",
              "    }\n",
              "\n",
              "    [theme=dark] .colab-df-convert {\n",
              "      background-color: #3B4455;\n",
              "      fill: #D2E3FC;\n",
              "    }\n",
              "\n",
              "    [theme=dark] .colab-df-convert:hover {\n",
              "      background-color: #434B5C;\n",
              "      box-shadow: 0px 1px 3px 1px rgba(0, 0, 0, 0.15);\n",
              "      filter: drop-shadow(0px 1px 2px rgba(0, 0, 0, 0.3));\n",
              "      fill: #FFFFFF;\n",
              "    }\n",
              "  </style>\n",
              "\n",
              "      <script>\n",
              "        const buttonEl =\n",
              "          document.querySelector('#df-982ca422-a43b-4deb-a50c-b55ed2edef14 button.colab-df-convert');\n",
              "        buttonEl.style.display =\n",
              "          google.colab.kernel.accessAllowed ? 'block' : 'none';\n",
              "\n",
              "        async function convertToInteractive(key) {\n",
              "          const element = document.querySelector('#df-982ca422-a43b-4deb-a50c-b55ed2edef14');\n",
              "          const dataTable =\n",
              "            await google.colab.kernel.invokeFunction('convertToInteractive',\n",
              "                                                     [key], {});\n",
              "          if (!dataTable) return;\n",
              "\n",
              "          const docLinkHtml = 'Like what you see? Visit the ' +\n",
              "            '<a target=\"_blank\" href=https://colab.research.google.com/notebooks/data_table.ipynb>data table notebook</a>'\n",
              "            + ' to learn more about interactive tables.';\n",
              "          element.innerHTML = '';\n",
              "          dataTable['output_type'] = 'display_data';\n",
              "          await google.colab.output.renderOutput(dataTable, element);\n",
              "          const docLink = document.createElement('div');\n",
              "          docLink.innerHTML = docLinkHtml;\n",
              "          element.appendChild(docLink);\n",
              "        }\n",
              "      </script>\n",
              "    </div>\n",
              "  </div>\n",
              "  "
            ]
          },
          "metadata": {},
          "execution_count": 7
        }
      ]
    },
    {
      "cell_type": "code",
      "source": [
        "df['col_b']=df['col_b'].str.replace('dog','cat')\n",
        "df"
      ],
      "metadata": {
        "colab": {
          "base_uri": "https://localhost:8080/",
          "height": 112
        },
        "id": "oZJb2uLg4Nya",
        "outputId": "03cbf911-a51c-4ad2-8032-0289909ffc84"
      },
      "id": "oZJb2uLg4Nya",
      "execution_count": null,
      "outputs": [
        {
          "output_type": "execute_result",
          "data": {
            "text/plain": [
              "   col_a               col_b\n",
              "0      0  This is a good cat\n",
              "1     11  Climate is extreme"
            ],
            "text/html": [
              "\n",
              "  <div id=\"df-953dd70c-3385-463a-b040-2e3454a0be9f\">\n",
              "    <div class=\"colab-df-container\">\n",
              "      <div>\n",
              "<style scoped>\n",
              "    .dataframe tbody tr th:only-of-type {\n",
              "        vertical-align: middle;\n",
              "    }\n",
              "\n",
              "    .dataframe tbody tr th {\n",
              "        vertical-align: top;\n",
              "    }\n",
              "\n",
              "    .dataframe thead th {\n",
              "        text-align: right;\n",
              "    }\n",
              "</style>\n",
              "<table border=\"1\" class=\"dataframe\">\n",
              "  <thead>\n",
              "    <tr style=\"text-align: right;\">\n",
              "      <th></th>\n",
              "      <th>col_a</th>\n",
              "      <th>col_b</th>\n",
              "    </tr>\n",
              "  </thead>\n",
              "  <tbody>\n",
              "    <tr>\n",
              "      <th>0</th>\n",
              "      <td>0</td>\n",
              "      <td>This is a good cat</td>\n",
              "    </tr>\n",
              "    <tr>\n",
              "      <th>1</th>\n",
              "      <td>11</td>\n",
              "      <td>Climate is extreme</td>\n",
              "    </tr>\n",
              "  </tbody>\n",
              "</table>\n",
              "</div>\n",
              "      <button class=\"colab-df-convert\" onclick=\"convertToInteractive('df-953dd70c-3385-463a-b040-2e3454a0be9f')\"\n",
              "              title=\"Convert this dataframe to an interactive table.\"\n",
              "              style=\"display:none;\">\n",
              "        \n",
              "  <svg xmlns=\"http://www.w3.org/2000/svg\" height=\"24px\"viewBox=\"0 0 24 24\"\n",
              "       width=\"24px\">\n",
              "    <path d=\"M0 0h24v24H0V0z\" fill=\"none\"/>\n",
              "    <path d=\"M18.56 5.44l.94 2.06.94-2.06 2.06-.94-2.06-.94-.94-2.06-.94 2.06-2.06.94zm-11 1L8.5 8.5l.94-2.06 2.06-.94-2.06-.94L8.5 2.5l-.94 2.06-2.06.94zm10 10l.94 2.06.94-2.06 2.06-.94-2.06-.94-.94-2.06-.94 2.06-2.06.94z\"/><path d=\"M17.41 7.96l-1.37-1.37c-.4-.4-.92-.59-1.43-.59-.52 0-1.04.2-1.43.59L10.3 9.45l-7.72 7.72c-.78.78-.78 2.05 0 2.83L4 21.41c.39.39.9.59 1.41.59.51 0 1.02-.2 1.41-.59l7.78-7.78 2.81-2.81c.8-.78.8-2.07 0-2.86zM5.41 20L4 18.59l7.72-7.72 1.47 1.35L5.41 20z\"/>\n",
              "  </svg>\n",
              "      </button>\n",
              "      \n",
              "  <style>\n",
              "    .colab-df-container {\n",
              "      display:flex;\n",
              "      flex-wrap:wrap;\n",
              "      gap: 12px;\n",
              "    }\n",
              "\n",
              "    .colab-df-convert {\n",
              "      background-color: #E8F0FE;\n",
              "      border: none;\n",
              "      border-radius: 50%;\n",
              "      cursor: pointer;\n",
              "      display: none;\n",
              "      fill: #1967D2;\n",
              "      height: 32px;\n",
              "      padding: 0 0 0 0;\n",
              "      width: 32px;\n",
              "    }\n",
              "\n",
              "    .colab-df-convert:hover {\n",
              "      background-color: #E2EBFA;\n",
              "      box-shadow: 0px 1px 2px rgba(60, 64, 67, 0.3), 0px 1px 3px 1px rgba(60, 64, 67, 0.15);\n",
              "      fill: #174EA6;\n",
              "    }\n",
              "\n",
              "    [theme=dark] .colab-df-convert {\n",
              "      background-color: #3B4455;\n",
              "      fill: #D2E3FC;\n",
              "    }\n",
              "\n",
              "    [theme=dark] .colab-df-convert:hover {\n",
              "      background-color: #434B5C;\n",
              "      box-shadow: 0px 1px 3px 1px rgba(0, 0, 0, 0.15);\n",
              "      filter: drop-shadow(0px 1px 2px rgba(0, 0, 0, 0.3));\n",
              "      fill: #FFFFFF;\n",
              "    }\n",
              "  </style>\n",
              "\n",
              "      <script>\n",
              "        const buttonEl =\n",
              "          document.querySelector('#df-953dd70c-3385-463a-b040-2e3454a0be9f button.colab-df-convert');\n",
              "        buttonEl.style.display =\n",
              "          google.colab.kernel.accessAllowed ? 'block' : 'none';\n",
              "\n",
              "        async function convertToInteractive(key) {\n",
              "          const element = document.querySelector('#df-953dd70c-3385-463a-b040-2e3454a0be9f');\n",
              "          const dataTable =\n",
              "            await google.colab.kernel.invokeFunction('convertToInteractive',\n",
              "                                                     [key], {});\n",
              "          if (!dataTable) return;\n",
              "\n",
              "          const docLinkHtml = 'Like what you see? Visit the ' +\n",
              "            '<a target=\"_blank\" href=https://colab.research.google.com/notebooks/data_table.ipynb>data table notebook</a>'\n",
              "            + ' to learn more about interactive tables.';\n",
              "          element.innerHTML = '';\n",
              "          dataTable['output_type'] = 'display_data';\n",
              "          await google.colab.output.renderOutput(dataTable, element);\n",
              "          const docLink = document.createElement('div');\n",
              "          docLink.innerHTML = docLinkHtml;\n",
              "          element.appendChild(docLink);\n",
              "        }\n",
              "      </script>\n",
              "    </div>\n",
              "  </div>\n",
              "  "
            ]
          },
          "metadata": {},
          "execution_count": 15
        }
      ]
    },
    {
      "cell_type": "markdown",
      "metadata": {
        "id": "powered-thong"
      },
      "source": [
        "# Applied Data Science and Machine Intelligence\n",
        "## A program by IIT Madras and TalentSprint\n",
        "### Mini Project: Store Sales Analysis and Predeiction"
      ],
      "id": "powered-thong"
    },
    {
      "cell_type": "markdown",
      "source": [
        "## Description\n",
        "\n",
        "Time-Series Analysis is an integral part of various Financial and Non-Financial applications. It helps us to understand the trends of the underlying phenomenon and make predictions for the future time."
      ],
      "metadata": {
        "id": "atzgNrPSnFSo"
      },
      "id": "atzgNrPSnFSo"
    },
    {
      "cell_type": "markdown",
      "metadata": {
        "id": "1nK0fzdQzk0g"
      },
      "source": [
        "## Learning Objectives\n",
        "\n",
        "At the end of the mini project, you will be able to understand-\n",
        " \n",
        "* Perform exhaustive Exploratory-Data-Analysis (EDA)\n",
        "* Perform Data Engineering to convert the raw data into time series dataset\n",
        "* Perform Time-Series-Analysis (TSA)\n",
        "* Predict the sales of products"
      ],
      "id": "1nK0fzdQzk0g"
    },
    {
      "cell_type": "markdown",
      "source": [
        "## About the Dataset.\n",
        "\n",
        "The current Dataset is adapted from an **ongoing** Kaggle Competition from the [link](https://www.kaggle.com/competitions/store-sales-time-series-forecasting/data).\n",
        "But the end goals are slightly different from the competetion.\n",
        "\n",
        "The following Description for each file is pasted here for your convenience.\n",
        "\n",
        "* train.csv\n",
        "  - The training data, comprising time series of features store_nbr, family, and onpromotion as well as the target sales.\n",
        "  - **store_nbr** identifies the store at which the products are sold.\n",
        "  - **family** identifies the type of product sold.\n",
        "  - **sales** gives the total sales for a product family at a particular store at a given date. Fractional values are possible since products can be sold in fractional units (1.5 kg of cheese, for instance, as opposed to 1 bag of chips).\n",
        "  - **onpromotion** gives the total number of items in a product family that were being promoted at a store at a given date\n",
        "  \n",
        "* test.csv\n",
        "  - The test data, having the same features as the training data. You will predict the target sales for the dates in this file.\n",
        "  - The dates in the test data are for the 15 days after the last date in the training data.\n",
        "\n",
        "* stores.csv\n",
        "  - Store metadata, including city, state, type, and cluster.\n",
        "  - cluster is a grouping of similar stores.\n",
        "\n",
        "* oil.csv\n",
        "  - Daily oil price. Includes values during both the train and test data timeframes. (Ecuador is an oil-dependent country and it's economical health is highly vulnerable to shocks in oil prices.)\n",
        "\n",
        "* holidays_events.csv\n",
        "  - Holidays and Events, with metadata\n",
        "  - NOTE: Pay special attention to the transferred column. A holiday that is transferred officially falls on that calendar day, but was moved to another date by the government. A transferred day is more like a normal day than a holiday. To find the day that it was actually celebrated, look for the corresponding row where type is Transfer. For example, the holiday Independencia de Guayaquil was transferred from 2012-10-09 to 2012-10-12, which means it was celebrated on 2012-10-12. Days that are type Bridge are extra days that are added to a holiday (e.g., to extend the break across a long weekend). These are frequently made up by the type Work Day which is a day not normally scheduled for work (e.g., Saturday) that is meant to payback the Bridge.\n",
        "  - Additional holidays are days added a regular calendar holiday, for example, as typically happens around Christmas (making Christmas Eve a holiday).\n",
        "\n",
        "* transactions.csv\n",
        "  - Mentions the date, store and the number of transcations that happened\n",
        "\n",
        "* Additional Notes:\n",
        "  - Wages in the public sector are paid every two weeks on the 15 th and on the last day of the month. Supermarket sales could be affected by this.\n",
        "A magnitude 7.8 earthquake struck Ecuador on April 16, 2016. People rallied in relief efforts donating water and other first need products which greatly affected supermarket sales for several weeks after the earthquake.\n"
      ],
      "metadata": {
        "id": "aMhIkuNRyK9v"
      },
      "id": "aMhIkuNRyK9v"
    },
    {
      "cell_type": "markdown",
      "source": [
        "**Python Packages used:**  \n",
        "\n",
        "* [`Google.colab`](https://colab.research.google.com/notebooks/io.ipynb) for linking the notebook to your Google-drive\n",
        "* [`Pandas`](https://pandas.pydata.org/docs/reference/index.html) for data frames and easy to read csv files  \n",
        "* [`Numpy`](https://numpy.org/doc/stable/reference/index.html#reference) for array and matrix mathematics functions  \n",
        "* [`sklearn`](https://scikit-learn.org/stable/user_guide.html) for the pre-processing data, building ML models, and performance metrics\n",
        "* [`seaborn`](https://seaborn.pydata.org/) and [`matplotlib`](https://matplotlib.org/) for plotting\n",
        " and [`statsmodels`](https://www.statsmodels.org/dev/index.html) for time-series-analysis\n",
        "* [`datetime`](https://docs.python.org/3/library/datetime.html) for converting string to datetime objects and vice-versa\n"
      ],
      "metadata": {
        "id": "8SGC9UWTy_xK"
      },
      "id": "8SGC9UWTy_xK"
    },
    {
      "cell_type": "code",
      "execution_count": null,
      "id": "instant-bedroom",
      "metadata": {
        "execution": {
          "iopub.execute_input": "2021-09-27T02:05:56.012052Z",
          "iopub.status.busy": "2021-09-27T02:05:56.011395Z",
          "iopub.status.idle": "2021-09-27T02:05:57.536677Z",
          "shell.execute_reply": "2021-09-27T02:05:57.537164Z",
          "shell.execute_reply.started": "2021-09-27T02:02:44.515100Z"
        },
        "papermill": {
          "duration": 1.582162,
          "end_time": "2021-09-27T02:05:57.537355",
          "exception": false,
          "start_time": "2021-09-27T02:05:55.955193",
          "status": "completed"
        },
        "tags": [],
        "colab": {
          "base_uri": "https://localhost:8080/"
        },
        "id": "instant-bedroom",
        "outputId": "715614b1-27ad-4598-8ee1-0483ae905cff"
      },
      "outputs": [
        {
          "output_type": "stream",
          "name": "stderr",
          "text": [
            "/usr/local/lib/python3.7/dist-packages/statsmodels/tools/_testing.py:19: FutureWarning: pandas.util.testing is deprecated. Use the functions in the public API at pandas.testing instead.\n",
            "  import pandas.util.testing as tm\n"
          ]
        }
      ],
      "source": [
        "import numpy as np \n",
        "import pandas as pd \n",
        "import seaborn as sns\n",
        "import matplotlib.pyplot as plt\n",
        "from matplotlib.dates import DateFormatter\n",
        "from datetime import datetime, timedelta, date\n",
        "import statsmodels as sm\n",
        "from google.colab import drive\n",
        "from sklearn.metrics import mean_squared_error\n",
        "from statsmodels.graphics.tsaplots import plot_acf, plot_pacf"
      ]
    },
    {
      "cell_type": "markdown",
      "source": [
        "## Graded Exercise (10 Marks)"
      ],
      "metadata": {
        "id": "kj5l1Lo3bOQn"
      },
      "id": "kj5l1Lo3bOQn"
    },
    {
      "cell_type": "markdown",
      "source": [
        "### Exercise 1 (2 points): Data Acquision\n",
        "\n",
        "- Load all the provided files into seperate `pandas` DataFrames\n",
        "- Check the shape of the data\n",
        "- Check the datatypes\n",
        "- Check the Summary\n",
        "- Check the nulls present in each field\n",
        "- Discard/Fill with appropriate value, if any\n",
        "- Check the unique number of entries per field\n",
        "- Drop the features that are either redundant or that do not help in modelling\n",
        "\n",
        "**Hint:** Use `pandas` module"
      ],
      "metadata": {
        "id": "0Ye1zGEp8A3h"
      },
      "id": "0Ye1zGEp8A3h"
    },
    {
      "cell_type": "code",
      "source": [
        "# YOUR CODE HERE"
      ],
      "metadata": {
        "id": "vQK0FVNt87xy"
      },
      "id": "vQK0FVNt87xy",
      "execution_count": null,
      "outputs": []
    },
    {
      "cell_type": "markdown",
      "source": [
        "### Exercise 2 (1 point): Basic EDA\n",
        "\n",
        "* Visualize Sales volume based on \n",
        "\t- Date\n",
        "\t- Location\n",
        "\t- Store Number\n",
        "\t- Product under Promotion\n",
        "\t- Product family\n",
        "\n",
        "* Report in a sentence or two regarding - \n",
        "\t- Correlation of holidays and sales\n",
        "\t- Correlation of oil price and sales\n",
        "\t- Other correlated variables that the data suggests\n",
        "\n",
        "**Hint**: \n",
        "\t- Choose the appropriate DataFrames based on the data files\n",
        "\t- Choose appropriate charting/plotting tools from your learning experience with previous Mini-Projects\n",
        "\n",
        "Use `pandas`, `seaborn`, `matplotlib` modules"
      ],
      "metadata": {
        "id": "eSgg22uU8AXP"
      },
      "id": "eSgg22uU8AXP"
    },
    {
      "cell_type": "code",
      "source": [
        "# YOUR CODE HERE"
      ],
      "metadata": {
        "id": "K5LKVGmi88hb"
      },
      "id": "K5LKVGmi88hb",
      "execution_count": null,
      "outputs": []
    },
    {
      "cell_type": "markdown",
      "source": [
        "### Exercise 3 (1 point): Data Engineering\n",
        "\n",
        "* Perform the following\n",
        "  - Create new features from date - Day of the month, Week of the year, Month of the year, and Year using `datetime` module\n",
        "  - Check Feature Correlations\n",
        "  - Remove Redundant Data columns\n",
        "  - Scale the data points of the numerical features\n",
        "  - Discretize the categorical features\n",
        "  - Perform Label Encoding of the discretized features\n",
        "\n",
        "**Hint**: Use `pandas` module"
      ],
      "metadata": {
        "id": "ctaUN4V18ANm"
      },
      "id": "ctaUN4V18ANm"
    },
    {
      "cell_type": "code",
      "source": [
        "# YOUR CODE HERE"
      ],
      "metadata": {
        "id": "KQ3lHoqS89Vh"
      },
      "id": "KQ3lHoqS89Vh",
      "execution_count": null,
      "outputs": []
    },
    {
      "cell_type": "markdown",
      "source": [
        "### Exercise 4 (1 point): Advanced EDA\n",
        "\n",
        "* After Data Preparation, Visualize Sales volume based on \n",
        "\t- Date\n",
        "\t- Location\n",
        "\t- Store Number\n",
        "\t- Product under Promotion\n",
        "\t- Product family\n",
        "\n",
        "**Hint**: Use `pandas`, `seaborn`, `matplotlib` modules"
      ],
      "metadata": {
        "id": "mzCuXST28AJ_"
      },
      "id": "mzCuXST28AJ_"
    },
    {
      "cell_type": "code",
      "source": [
        "# YOUR CODE HERE"
      ],
      "metadata": {
        "id": "GeovoT4n8-Ko"
      },
      "id": "GeovoT4n8-Ko",
      "execution_count": null,
      "outputs": []
    },
    {
      "cell_type": "markdown",
      "source": [
        "### Exercise 5 (1 point): Time-Series-Analysis\n",
        "\n",
        "* Convert the date into `index`, using `pandas` module\n",
        "* Plot the Components:\n",
        "  - Trend\n",
        "  - Seasonality\n",
        "  - Randomness\n",
        "\n",
        "  **Hint**: Use `statsmodel`'s [`seasonal_decompose`](https://www.statsmodels.org/stable/generated/statsmodels.tsa.seasonal.seasonal_decompose.html) function"
      ],
      "metadata": {
        "id": "U2XXiwSx8AHF"
      },
      "id": "U2XXiwSx8AHF"
    },
    {
      "cell_type": "code",
      "source": [
        "# YOUR CODE HERE"
      ],
      "metadata": {
        "id": "dfeU5VWs8-00"
      },
      "id": "dfeU5VWs8-00",
      "execution_count": null,
      "outputs": []
    },
    {
      "cell_type": "markdown",
      "source": [
        "### Exercise 6 (1 point): Stationarity Check:\n",
        "\n",
        "* Perform the Stationary check using this ADF method from this link [ADF Method](https://www.statsmodels.org/devel/examples/notebooks/generated/stationarity_detrending_adf_kpss.html)\n",
        "\t- If the data is a stationary data, please proceed.\n",
        "\t- If not, convert to a stationary model"
      ],
      "metadata": {
        "id": "dGDkc1Ip8AEe"
      },
      "id": "dGDkc1Ip8AEe"
    },
    {
      "cell_type": "code",
      "source": [
        "# YOUR CODE HERE"
      ],
      "metadata": {
        "id": "qyMDJ-Of8_W7"
      },
      "id": "qyMDJ-Of8_W7",
      "execution_count": null,
      "outputs": []
    },
    {
      "cell_type": "markdown",
      "source": [
        "### Exercise 7 (1 point): Time-Series Modelling (Part-1):\n",
        "\n",
        "* Perform the following actions for **EACH** of the following models\n",
        "\n",
        "Actions:\n",
        " - Instantiate the model\n",
        " - Train the model\n",
        " - Fit the model\n",
        " - Predict the sales\n",
        " - Compute the Metrics - RMSE, MAPE\n",
        " - Use the provided Test Data for Testing (Prediction)   \n",
        " - **DO NOT USE traintestsplit**-It's a Timeseries Data.!\n",
        " - Visualise the train data, test data, and predicted data with different colors on the same plot\n",
        "\n",
        "Models:\n",
        "\n",
        "  - Moving-Average(MA) Model\n",
        "  - Autoregressive(AR) Model\n",
        "  - Autoregressive Moving-Average(ARMA) Model\n",
        "\n",
        "\n",
        "**Hint**: \n",
        "  - Use `statsmodels` for the models\n",
        "  - Use `sklearn` for the metrics\n",
        "  - You may refer to this [link](https://towardsdatascience.com/how-to-use-an-autoregressive-ar-model-for-time-series-analysis-bb12b7831024)"
      ],
      "metadata": {
        "id": "BiH2Pf9g8ABq"
      },
      "id": "BiH2Pf9g8ABq"
    },
    {
      "cell_type": "code",
      "source": [
        "# YOUR CODE HERE"
      ],
      "metadata": {
        "id": "2ODJSCmJ9Aot"
      },
      "id": "2ODJSCmJ9Aot",
      "execution_count": null,
      "outputs": []
    },
    {
      "cell_type": "markdown",
      "source": [
        "### Exercise 8 (2 point): Time-Series Modelling (Part-2):\n",
        "\n",
        "* Perform the following actions for **EACH** of the following models\n",
        "\n",
        "Actions:\n",
        " - Instantiate the model\n",
        " - Train the model\n",
        " - Fit the model\n",
        " - Predict the sales\n",
        " - Compute the Metrics - RMSE, MAPE\n",
        "\n",
        "Plot the following for ARIMA, SARIMA, and SARIMAX models:\n",
        "  - autocorrelation function (ACF) and \n",
        "  - partial autocorrelation (PACF) plots\n",
        "\n",
        "Models:\n",
        "\n",
        "  - Autoregressive Integrated Moving-Average(ARIMA) Model\n",
        "  - Seasonal Autoregressive Integrated Moving Average (SARIMA) Model\n",
        "  - Seasonal Autoregressive Integrated Moving Average Extended (SARIMAX) Model\n",
        "\n",
        "**Hint**: \n",
        "  - Use `statsmodels` for the models\n",
        "  - Use `sklearn` for the metrics\n",
        "  - Use `plot_acf`, `plot_pacf` for plotting the functions\n",
        "  - You may refer to this [link](https://towardsdatascience.com/how-to-use-an-autoregressive-ar-model-for-time-series-analysis-bb12b7831024)\n"
      ],
      "metadata": {
        "id": "VcKiS0-Z7_8b"
      },
      "id": "VcKiS0-Z7_8b"
    },
    {
      "cell_type": "code",
      "source": [
        "# YOUR CODE HERE"
      ],
      "metadata": {
        "id": "nduFCp4V9Bjj"
      },
      "id": "nduFCp4V9Bjj",
      "execution_count": null,
      "outputs": []
    },
    {
      "cell_type": "markdown",
      "source": [
        "### Discussion and Food for Thought:\n",
        "\n",
        "- What is the learning outcome?\n",
        "- How is the data preprocessing different from the previous ML projects?\n",
        "- How do the integrated models behave compared to MA, AR, and ARMA models?\n",
        "- What could be other alternate/supporting metrics to determine the model's performance?\n",
        "- **EXPLORE** the `var` model and repeat the above preocess on your own"
      ],
      "metadata": {
        "id": "1og_nwKEDMB-"
      },
      "id": "1og_nwKEDMB-"
    }
  ],
  "metadata": {
    "kernelspec": {
      "display_name": "Python 3",
      "language": "python",
      "name": "python3"
    },
    "language_info": {
      "codemirror_mode": {
        "name": "ipython",
        "version": 3
      },
      "file_extension": ".py",
      "mimetype": "text/x-python",
      "name": "python",
      "nbconvert_exporter": "python",
      "pygments_lexer": "ipython3",
      "version": "3.7.9"
    },
    "papermill": {
      "default_parameters": {},
      "duration": 230.438434,
      "end_time": "2021-09-27T02:09:40.302165",
      "environment_variables": {},
      "exception": null,
      "input_path": "__notebook__.ipynb",
      "output_path": "__notebook__.ipynb",
      "parameters": {},
      "start_time": "2021-09-27T02:05:49.863731",
      "version": "2.3.2"
    },
    "colab": {
      "name": "Copy of M3_MP8_NB_SALES_TSA.ipynb",
      "provenance": [],
      "collapsed_sections": [],
      "include_colab_link": true
    }
  },
  "nbformat": 4,
  "nbformat_minor": 5
}