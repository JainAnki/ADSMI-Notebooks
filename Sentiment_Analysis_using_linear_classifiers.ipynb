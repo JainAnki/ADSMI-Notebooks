{
  "nbformat": 4,
  "nbformat_minor": 0,
  "metadata": {
    "colab": {
      "provenance": [],
      "collapsed_sections": [],
      "include_colab_link": true
    },
    "kernelspec": {
      "name": "python3",
      "display_name": "Python 3"
    },
    "language_info": {
      "name": "python"
    }
  },
  "cells": [
    {
      "cell_type": "markdown",
      "metadata": {
        "id": "view-in-github",
        "colab_type": "text"
      },
      "source": [
        "<a href=\"https://colab.research.google.com/github/JainAnki/ADSMI-Notebooks/blob/main/Sentiment_Analysis_using_linear_classifiers.ipynb\" target=\"_parent\"><img src=\"https://colab.research.google.com/assets/colab-badge.svg\" alt=\"Open In Colab\"/></a>"
      ]
    },
    {
      "cell_type": "markdown",
      "metadata": {
        "id": "powered-thong"
      },
      "source": [
        "# Applied Data Science and Machine Intelligence\n",
        "## A program by IIT Madras and TalentSprint\n",
        "### Module 2 Mini Project: Sentiment Analysis using linear classifiers and unsupervised clustering."
      ]
    },
    {
      "cell_type": "markdown",
      "metadata": {
        "id": "1nK0fzdQzk0g"
      },
      "source": [
        "## Learning Objectives\n",
        "\n",
        "At the end of the mini project, you will be able to -\n",
        "\n",
        "* use a real world dataset.\n",
        "* undertake several important steps like cleaning the data and normalizing the data points.\n",
        "* do sentiment classification.\n",
        "* compare between different types of classification methods and their pros and cons. \n",
        "* compare between supervised and unsupervised (clustering) techniques. "
      ]
    },
    {
      "cell_type": "markdown",
      "source": [
        "### Goal of the project\n",
        "The goal of this project is to train linear classification models that can recognize the sentiment of the reviewer. In this project we will be dealing with only positive and negative sentiments (binary classification).\n",
        "\n",
        "**Disclaimer**: \n",
        "There are multiple ways to solve this problem, as there is no unique formula to solve.\n",
        "This is just one such approach.\n"
      ],
      "metadata": {
        "id": "FvhRny6xpviu"
      }
    },
    {
      "cell_type": "markdown",
      "metadata": {
        "id": "hungry-accident"
      },
      "source": [
        "**Packages used:**  \n",
        "* `Pandas` for data frames and easy to read csv files  \n",
        "* `Numpy` for array and matrix mathematics functions  \n",
        "* `Matplotlib` and `Seaborn` for visualization\n",
        "*  `sklearn` for the metrics and pre-processing\n",
        "* `scipy` for helper functions required at various stages of the project.\n",
        "* `warnings` is used to supress warnings from different libraries used in the project."
      ]
    },
    {
      "cell_type": "markdown",
      "metadata": {
        "id": "u-g3SLm-DLEW"
      },
      "source": [
        "### Importing the packages"
      ]
    },
    {
      "cell_type": "code",
      "metadata": {
        "id": "e_V0z4eaDILg"
      },
      "source": [
        "# Importing standard libraries\n",
        "import numpy as np\n",
        "import matplotlib.pyplot as plt\n",
        "import matplotlib.cm as cm\n",
        "import seaborn as sns\n",
        "import pandas as pd\n",
        "import scipy\n",
        "import math\n",
        "import random\n",
        "\n",
        "# Importing linear classification algorithms\n",
        "from sklearn.neighbors import KNeighborsClassifier\n",
        "from sklearn import svm\n",
        "from sklearn.linear_model import LogisticRegression\n",
        "from sklearn.discriminant_analysis import LinearDiscriminantAnalysis       \n",
        "from sklearn.tree import DecisionTreeClassifier       \n",
        "from sklearn.naive_bayes import GaussianNB\n",
        "from sklearn import tree\n",
        "from sklearn.ensemble import VotingClassifier, RandomForestClassifier\n",
        "\n",
        "# Importing the clustering algorithms\n",
        "from sklearn.cluster import MiniBatchKMeans\n",
        "from sklearn.cluster import AgglomerativeClustering\n",
        "from sklearn.mixture import GaussianMixture\n",
        "\n",
        "# Importing preprocessing functions\n",
        "from sklearn.preprocessing import MinMaxScaler\n",
        "from sklearn.preprocessing import StandardScaler\n",
        "from sklearn.model_selection import train_test_split\n",
        "from sklearn.feature_extraction.text import TfidfVectorizer\n",
        "from sklearn.decomposition import PCA\n",
        "from sklearn.decomposition import TruncatedSVD\n",
        "\n",
        "# Importing metrics\n",
        "from sklearn.metrics import accuracy_score\n",
        "from sklearn.metrics import f1_score\n",
        "\n",
        "# Suppressing warnings\n",
        "import warnings\n",
        "warnings.filterwarnings('ignore')"
      ],
      "execution_count": 5,
      "outputs": []
    },
    {
      "cell_type": "markdown",
      "metadata": {
        "id": "0L9eRrC6ABcy"
      },
      "source": [
        "### Downloading a dataset containing amazon review information along with ratings\n",
        "To download the data, we will use **`!gdown`**. \n"
      ]
    },
    {
      "cell_type": "code",
      "metadata": {
        "id": "GWP8wZ-2ABcy",
        "colab": {
          "base_uri": "https://localhost:8080/"
        },
        "outputId": "fb4d0c0f-b98f-4bb7-8106-23df6c1d04be"
      },
      "source": [
        "# Downloading the dataset from the Google Drive link.\n",
        "!gdown https://drive.google.com/uc?id=1kd0RZvI4ur2ehkv4zAriXg6g2W1Mh3xO"
      ],
      "execution_count": 6,
      "outputs": [
        {
          "output_type": "stream",
          "name": "stdout",
          "text": [
            "Downloading...\n",
            "From: https://drive.google.com/uc?id=1kd0RZvI4ur2ehkv4zAriXg6g2W1Mh3xO\n",
            "To: /content/amazon_baby.csv\n",
            "100% 88.8M/88.8M [00:00<00:00, 151MB/s]\n"
          ]
        }
      ]
    },
    {
      "cell_type": "markdown",
      "metadata": {
        "id": "9padyuWLABc0"
      },
      "source": [
        "## How does the dataset look like?\n",
        "Lets use a standard dataset from Amazon which contains reviews and ratings from the customer. The original dataset has three features: name(name of the products), review(Customer reviews of the products), and rating(rating of the customer of a product ranging from 1 to 5). The review column will be the input column and the rating column will be used to understand the sentiments of the review. Here are some important data preprocessing steps:\n",
        "The dataset has about 183,500 rows of data. There are 1147 null values which will be removed.\n",
        "As the dataset is pretty big, it takes a lot of time to run some machine learning algorithms. We will use 30% of the data in this project which is still 54,000+ data points! The sample will be representative of the whole dataset.\n",
        "If the rating is 1 and 2 that will be considered a negative review. And if the review is 3, 4, and 5, the review will be considered as a  positive review. We add a new column named ‘sentiments’ to the dataset that will use 1 for the positive reviews and 0 for the negative reviews. We read and display the contents of the dataset down below."
      ]
    },
    {
      "cell_type": "markdown",
      "source": [
        "**Exercise 1**: Load the data and perform the following (1 points)\n",
        "- Exploratory Data Analysis \n",
        "- Preprocessing \n",
        "\n",
        "\n",
        "**Hints:** \n",
        "\n",
        "- checking for the number of rows and columns\n",
        "- summary of the dataset\n",
        "- statistical description of the features \n",
        "- check for the duplicate values\n",
        "- Show the top 5 and the last 5 rows of the data\n",
        "- check for the null values, and handle them if *any*"
      ],
      "metadata": {
        "id": "o2tXX5YAqcqX"
      }
    },
    {
      "cell_type": "markdown",
      "source": [
        "For Exercises, 2 to 9, use sklearn library to model, fir, train and see the metrics [Accuracy and F1_score]. Writing your own custom functions is  not required.\n",
        "\n",
        "\n",
        "1.   **Exercise 1**: Load the data and perform the following : (1 point)\n",
        "      - Exploratory Data Analysis \n",
        "      - Preprocessing \n",
        "2.   **Exercise 2**: **Implementation using K-Nearest Neighbor (KNN) Classifier**:  (1 point)\n",
        "\n",
        "3.   **Exercise 3**: **Implementation using Support Vector Machines (SVM) Classifier**:  (3 points)\n",
        "      - First Reduce the features using PCA\n",
        "      - use Hard-Margin Classifier\n",
        "      - use Soft-Margin Classifier\n",
        "      - use Kernel SVM Classifier\n",
        "4.   **Exercise 4**: **Implementation using Decision Trees**:  (1 point)\n",
        "5.   **Exercise 5**: **Implementation using Ensemble Classifier**:  (1 point) \n",
        "      - use LogisticRegression, KNN, SVM, and VotingClassifier as the weak classifiers\n",
        "\n",
        "6.   **Exercise 6**: **Implementation using Random Forest Classifier**:  (1 point)\n",
        "7.   **Exercise 7**: **Implementation using Clustering**: (1 point)\n",
        "      - k Means Clustering\n",
        "      - Gaussian Mixture Models\n",
        "8.   **Exercise 8**: **Test your own sentence**: (1 point)\n",
        "      - Input your sentences ( One for positive and negative each)\n",
        "      - Print the output sentiment."
      ],
      "metadata": {
        "id": "s7F0lQeoxJa3"
      }
    },
    {
      "cell_type": "markdown",
      "source": [
        "**Sample code using Logistic Regression**\n",
        "\n",
        "The logistic function, more popularly called the sigmoid function was to describe properties of population growth in ecology, rising quickly and maxing out at the carrying capacity of the environment. \n",
        "\n",
        "It’s an S-shaped curve that can take any real-valued number and map it into a value between 0 and 1, but never exactly at those limits.\n",
        "\n",
        "$\\frac{1}{ (1 + e^{-value})}$\n",
        "\n",
        "Where $e$ is the base of the natural logarithms and value is the actual numerical value that you want to transform. Below is a plot of the numbers between $-5$ and $5$ transformed into the range $0$ and $1$ using the logistic function.\n",
        "\n"
      ],
      "metadata": {
        "id": "k7Raxweqx6UL"
      }
    },
    {
      "cell_type": "code",
      "source": [
        "'''\n",
        "# Logistic regression model is defined\n",
        "logistic_regression = LogisticRegression()\n",
        "\n",
        "# Training the logistic regression classifier\n",
        "logistic_regression.fit(X_train_vec, y_train)\n",
        "\n",
        "# Calculating accuracy on the logistic regression classifier\n",
        "# The accuracy is within 0 and 1 in this snippet\n",
        "lr_score = logistic_regression.score(X_test_vec, y_test)\n",
        "print(\"Accuracy of the sentiment classification using the Logistic Regression based classifier: \", lr_score)\n",
        "\n",
        "# Predicting on the test set\n",
        "y_pred_lr = logistic_regression.predict(X_test_vec)\n",
        "\n",
        "# F1 score calculation\n",
        "lr_f1_score = f1_score(y_pred_lr, y_test)\n",
        "\n",
        "print (\"F1 Score for sentiment classification using the Logistic Regression based classifier: \", lr_f1_score)\n",
        "'''"
      ],
      "metadata": {
        "id": "uoH7Z9uiwbbd",
        "colab": {
          "base_uri": "https://localhost:8080/",
          "height": 105
        },
        "outputId": "0a8cf307-38b0-482f-cc8e-ee0c473bf565"
      },
      "execution_count": 7,
      "outputs": [
        {
          "output_type": "execute_result",
          "data": {
            "text/plain": [
              "'\\n# Logistic regression model is defined\\nlogistic_regression = LogisticRegression()\\n\\n# Training the logistic regression classifier\\nlogistic_regression.fit(X_train_vec, y_train)\\n\\n# Calculating accuracy on the logistic regression classifier\\n# The accuracy is within 0 and 1 in this snippet\\nlr_score = logistic_regression.score(X_test_vec, y_test)\\nprint(\"Accuracy of the sentiment classification using the Logistic Regression based classifier: \", lr_score)\\n\\n# Predicting on the test set\\ny_pred_lr = logistic_regression.predict(X_test_vec)\\n\\n# F1 score calculation\\nlr_f1_score = f1_score(y_pred_lr, y_test)\\n\\nprint (\"F1 Score for sentiment classification using the Logistic Regression based classifier: \", lr_f1_score)\\n'"
            ],
            "application/vnd.google.colaboratory.intrinsic+json": {
              "type": "string"
            }
          },
          "metadata": {},
          "execution_count": 7
        }
      ]
    },
    {
      "cell_type": "markdown",
      "source": [
        "**Exercise 1**: Load the data and perform the following: (1 point)\n",
        "\n",
        "- Exploratory Data Analysis (Use Pandas, Seaborn)\n",
        "- Preprocessing (Use Pandas)\n",
        "\n",
        "**Hints:** \n",
        "\n",
        "- checking for the number of rows and columns\n",
        "- summary of the dataset\n",
        "- statistical description of the features \n",
        "- check for the duplicate values\n",
        "- Show the top 5 and the last 5 rows of the data\n",
        "- check for the null values, and handle them if *any*"
      ],
      "metadata": {
        "id": "pOMTJSEH3_JY"
      }
    },
    {
      "cell_type": "code",
      "source": [
        "# YOUR CODE HERE\n",
        "review_data = pd.read_csv('amazon_baby.csv')\n",
        "review_data"
      ],
      "metadata": {
        "colab": {
          "base_uri": "https://localhost:8080/",
          "height": 424
        },
        "id": "qivUB8P9SgOJ",
        "outputId": "fdbb159e-86da-4a8b-9712-2d6ed2ba3d4c"
      },
      "execution_count": 8,
      "outputs": [
        {
          "output_type": "execute_result",
          "data": {
            "text/plain": [
              "                                                     name  \\\n",
              "0                                Planetwise Flannel Wipes   \n",
              "1                                   Planetwise Wipe Pouch   \n",
              "2                     Annas Dream Full Quilt with 2 Shams   \n",
              "3       Stop Pacifier Sucking without tears with Thumb...   \n",
              "4       Stop Pacifier Sucking without tears with Thumb...   \n",
              "...                                                   ...   \n",
              "183526  Baby Teething Necklace for Mom Pretty Donut Sh...   \n",
              "183527  Baby Teething Necklace for Mom Pretty Donut Sh...   \n",
              "183528   Abstract 2 PK Baby / Toddler Training Cup (Pink)   \n",
              "183529  Baby Food Freezer Tray - Bacteria Resistant, B...   \n",
              "183530  Best 2 Pack Baby Car Shade for Kids - Window S...   \n",
              "\n",
              "                                                   review  rating  \n",
              "0       These flannel wipes are OK, but in my opinion ...       3  \n",
              "1       it came early and was not disappointed. i love...       5  \n",
              "2       Very soft and comfortable and warmer than it l...       5  \n",
              "3       This is a product well worth the purchase.  I ...       5  \n",
              "4       All of my kids have cried non-stop when I trie...       5  \n",
              "...                                                   ...     ...  \n",
              "183526  Such a great idea! very handy to have and look...       5  \n",
              "183527  This product rocks!  It is a great blend of fu...       5  \n",
              "183528  This item looks great and cool for my kids.......       5  \n",
              "183529  I am extremely happy with this product. I have...       5  \n",
              "183530  I love this product very mush . I have bought ...       5  \n",
              "\n",
              "[183531 rows x 3 columns]"
            ],
            "text/html": [
              "\n",
              "  <div id=\"df-b96cd7a9-0cb0-43d7-9ec4-69bec01d565e\">\n",
              "    <div class=\"colab-df-container\">\n",
              "      <div>\n",
              "<style scoped>\n",
              "    .dataframe tbody tr th:only-of-type {\n",
              "        vertical-align: middle;\n",
              "    }\n",
              "\n",
              "    .dataframe tbody tr th {\n",
              "        vertical-align: top;\n",
              "    }\n",
              "\n",
              "    .dataframe thead th {\n",
              "        text-align: right;\n",
              "    }\n",
              "</style>\n",
              "<table border=\"1\" class=\"dataframe\">\n",
              "  <thead>\n",
              "    <tr style=\"text-align: right;\">\n",
              "      <th></th>\n",
              "      <th>name</th>\n",
              "      <th>review</th>\n",
              "      <th>rating</th>\n",
              "    </tr>\n",
              "  </thead>\n",
              "  <tbody>\n",
              "    <tr>\n",
              "      <th>0</th>\n",
              "      <td>Planetwise Flannel Wipes</td>\n",
              "      <td>These flannel wipes are OK, but in my opinion ...</td>\n",
              "      <td>3</td>\n",
              "    </tr>\n",
              "    <tr>\n",
              "      <th>1</th>\n",
              "      <td>Planetwise Wipe Pouch</td>\n",
              "      <td>it came early and was not disappointed. i love...</td>\n",
              "      <td>5</td>\n",
              "    </tr>\n",
              "    <tr>\n",
              "      <th>2</th>\n",
              "      <td>Annas Dream Full Quilt with 2 Shams</td>\n",
              "      <td>Very soft and comfortable and warmer than it l...</td>\n",
              "      <td>5</td>\n",
              "    </tr>\n",
              "    <tr>\n",
              "      <th>3</th>\n",
              "      <td>Stop Pacifier Sucking without tears with Thumb...</td>\n",
              "      <td>This is a product well worth the purchase.  I ...</td>\n",
              "      <td>5</td>\n",
              "    </tr>\n",
              "    <tr>\n",
              "      <th>4</th>\n",
              "      <td>Stop Pacifier Sucking without tears with Thumb...</td>\n",
              "      <td>All of my kids have cried non-stop when I trie...</td>\n",
              "      <td>5</td>\n",
              "    </tr>\n",
              "    <tr>\n",
              "      <th>...</th>\n",
              "      <td>...</td>\n",
              "      <td>...</td>\n",
              "      <td>...</td>\n",
              "    </tr>\n",
              "    <tr>\n",
              "      <th>183526</th>\n",
              "      <td>Baby Teething Necklace for Mom Pretty Donut Sh...</td>\n",
              "      <td>Such a great idea! very handy to have and look...</td>\n",
              "      <td>5</td>\n",
              "    </tr>\n",
              "    <tr>\n",
              "      <th>183527</th>\n",
              "      <td>Baby Teething Necklace for Mom Pretty Donut Sh...</td>\n",
              "      <td>This product rocks!  It is a great blend of fu...</td>\n",
              "      <td>5</td>\n",
              "    </tr>\n",
              "    <tr>\n",
              "      <th>183528</th>\n",
              "      <td>Abstract 2 PK Baby / Toddler Training Cup (Pink)</td>\n",
              "      <td>This item looks great and cool for my kids.......</td>\n",
              "      <td>5</td>\n",
              "    </tr>\n",
              "    <tr>\n",
              "      <th>183529</th>\n",
              "      <td>Baby Food Freezer Tray - Bacteria Resistant, B...</td>\n",
              "      <td>I am extremely happy with this product. I have...</td>\n",
              "      <td>5</td>\n",
              "    </tr>\n",
              "    <tr>\n",
              "      <th>183530</th>\n",
              "      <td>Best 2 Pack Baby Car Shade for Kids - Window S...</td>\n",
              "      <td>I love this product very mush . I have bought ...</td>\n",
              "      <td>5</td>\n",
              "    </tr>\n",
              "  </tbody>\n",
              "</table>\n",
              "<p>183531 rows × 3 columns</p>\n",
              "</div>\n",
              "      <button class=\"colab-df-convert\" onclick=\"convertToInteractive('df-b96cd7a9-0cb0-43d7-9ec4-69bec01d565e')\"\n",
              "              title=\"Convert this dataframe to an interactive table.\"\n",
              "              style=\"display:none;\">\n",
              "        \n",
              "  <svg xmlns=\"http://www.w3.org/2000/svg\" height=\"24px\"viewBox=\"0 0 24 24\"\n",
              "       width=\"24px\">\n",
              "    <path d=\"M0 0h24v24H0V0z\" fill=\"none\"/>\n",
              "    <path d=\"M18.56 5.44l.94 2.06.94-2.06 2.06-.94-2.06-.94-.94-2.06-.94 2.06-2.06.94zm-11 1L8.5 8.5l.94-2.06 2.06-.94-2.06-.94L8.5 2.5l-.94 2.06-2.06.94zm10 10l.94 2.06.94-2.06 2.06-.94-2.06-.94-.94-2.06-.94 2.06-2.06.94z\"/><path d=\"M17.41 7.96l-1.37-1.37c-.4-.4-.92-.59-1.43-.59-.52 0-1.04.2-1.43.59L10.3 9.45l-7.72 7.72c-.78.78-.78 2.05 0 2.83L4 21.41c.39.39.9.59 1.41.59.51 0 1.02-.2 1.41-.59l7.78-7.78 2.81-2.81c.8-.78.8-2.07 0-2.86zM5.41 20L4 18.59l7.72-7.72 1.47 1.35L5.41 20z\"/>\n",
              "  </svg>\n",
              "      </button>\n",
              "      \n",
              "  <style>\n",
              "    .colab-df-container {\n",
              "      display:flex;\n",
              "      flex-wrap:wrap;\n",
              "      gap: 12px;\n",
              "    }\n",
              "\n",
              "    .colab-df-convert {\n",
              "      background-color: #E8F0FE;\n",
              "      border: none;\n",
              "      border-radius: 50%;\n",
              "      cursor: pointer;\n",
              "      display: none;\n",
              "      fill: #1967D2;\n",
              "      height: 32px;\n",
              "      padding: 0 0 0 0;\n",
              "      width: 32px;\n",
              "    }\n",
              "\n",
              "    .colab-df-convert:hover {\n",
              "      background-color: #E2EBFA;\n",
              "      box-shadow: 0px 1px 2px rgba(60, 64, 67, 0.3), 0px 1px 3px 1px rgba(60, 64, 67, 0.15);\n",
              "      fill: #174EA6;\n",
              "    }\n",
              "\n",
              "    [theme=dark] .colab-df-convert {\n",
              "      background-color: #3B4455;\n",
              "      fill: #D2E3FC;\n",
              "    }\n",
              "\n",
              "    [theme=dark] .colab-df-convert:hover {\n",
              "      background-color: #434B5C;\n",
              "      box-shadow: 0px 1px 3px 1px rgba(0, 0, 0, 0.15);\n",
              "      filter: drop-shadow(0px 1px 2px rgba(0, 0, 0, 0.3));\n",
              "      fill: #FFFFFF;\n",
              "    }\n",
              "  </style>\n",
              "\n",
              "      <script>\n",
              "        const buttonEl =\n",
              "          document.querySelector('#df-b96cd7a9-0cb0-43d7-9ec4-69bec01d565e button.colab-df-convert');\n",
              "        buttonEl.style.display =\n",
              "          google.colab.kernel.accessAllowed ? 'block' : 'none';\n",
              "\n",
              "        async function convertToInteractive(key) {\n",
              "          const element = document.querySelector('#df-b96cd7a9-0cb0-43d7-9ec4-69bec01d565e');\n",
              "          const dataTable =\n",
              "            await google.colab.kernel.invokeFunction('convertToInteractive',\n",
              "                                                     [key], {});\n",
              "          if (!dataTable) return;\n",
              "\n",
              "          const docLinkHtml = 'Like what you see? Visit the ' +\n",
              "            '<a target=\"_blank\" href=https://colab.research.google.com/notebooks/data_table.ipynb>data table notebook</a>'\n",
              "            + ' to learn more about interactive tables.';\n",
              "          element.innerHTML = '';\n",
              "          dataTable['output_type'] = 'display_data';\n",
              "          await google.colab.output.renderOutput(dataTable, element);\n",
              "          const docLink = document.createElement('div');\n",
              "          docLink.innerHTML = docLinkHtml;\n",
              "          element.appendChild(docLink);\n",
              "        }\n",
              "      </script>\n",
              "    </div>\n",
              "  </div>\n",
              "  "
            ]
          },
          "metadata": {},
          "execution_count": 8
        }
      ]
    },
    {
      "cell_type": "code",
      "source": [
        "review_data.shape #checking for the number of rows and columns"
      ],
      "metadata": {
        "colab": {
          "base_uri": "https://localhost:8080/"
        },
        "id": "xVWhK9YWSiYC",
        "outputId": "65dc0b3e-3d87-48f4-debb-5b2314a3b9e0"
      },
      "execution_count": 9,
      "outputs": [
        {
          "output_type": "execute_result",
          "data": {
            "text/plain": [
              "(183531, 3)"
            ]
          },
          "metadata": {},
          "execution_count": 9
        }
      ]
    },
    {
      "cell_type": "code",
      "source": [
        "review_data.info() #summary of the dataset"
      ],
      "metadata": {
        "colab": {
          "base_uri": "https://localhost:8080/"
        },
        "id": "B5BZIf4MSlLG",
        "outputId": "0e192053-c10a-457f-bf07-98b58f281f19"
      },
      "execution_count": 10,
      "outputs": [
        {
          "output_type": "stream",
          "name": "stdout",
          "text": [
            "<class 'pandas.core.frame.DataFrame'>\n",
            "RangeIndex: 183531 entries, 0 to 183530\n",
            "Data columns (total 3 columns):\n",
            " #   Column  Non-Null Count   Dtype \n",
            "---  ------  --------------   ----- \n",
            " 0   name    183213 non-null  object\n",
            " 1   review  182702 non-null  object\n",
            " 2   rating  183531 non-null  int64 \n",
            "dtypes: int64(1), object(2)\n",
            "memory usage: 4.2+ MB\n"
          ]
        }
      ]
    },
    {
      "cell_type": "code",
      "source": [
        "review_data.describe() #statistical description of the features"
      ],
      "metadata": {
        "colab": {
          "base_uri": "https://localhost:8080/",
          "height": 300
        },
        "id": "8XYXLP-3SnP5",
        "outputId": "0d7b5c11-501b-4fc7-99e7-399a6fb2a991"
      },
      "execution_count": 11,
      "outputs": [
        {
          "output_type": "execute_result",
          "data": {
            "text/plain": [
              "              rating\n",
              "count  183531.000000\n",
              "mean        4.120448\n",
              "std         1.285017\n",
              "min         1.000000\n",
              "25%         4.000000\n",
              "50%         5.000000\n",
              "75%         5.000000\n",
              "max         5.000000"
            ],
            "text/html": [
              "\n",
              "  <div id=\"df-9bf7c851-cf37-4491-b318-f7c4bd7dad1b\">\n",
              "    <div class=\"colab-df-container\">\n",
              "      <div>\n",
              "<style scoped>\n",
              "    .dataframe tbody tr th:only-of-type {\n",
              "        vertical-align: middle;\n",
              "    }\n",
              "\n",
              "    .dataframe tbody tr th {\n",
              "        vertical-align: top;\n",
              "    }\n",
              "\n",
              "    .dataframe thead th {\n",
              "        text-align: right;\n",
              "    }\n",
              "</style>\n",
              "<table border=\"1\" class=\"dataframe\">\n",
              "  <thead>\n",
              "    <tr style=\"text-align: right;\">\n",
              "      <th></th>\n",
              "      <th>rating</th>\n",
              "    </tr>\n",
              "  </thead>\n",
              "  <tbody>\n",
              "    <tr>\n",
              "      <th>count</th>\n",
              "      <td>183531.000000</td>\n",
              "    </tr>\n",
              "    <tr>\n",
              "      <th>mean</th>\n",
              "      <td>4.120448</td>\n",
              "    </tr>\n",
              "    <tr>\n",
              "      <th>std</th>\n",
              "      <td>1.285017</td>\n",
              "    </tr>\n",
              "    <tr>\n",
              "      <th>min</th>\n",
              "      <td>1.000000</td>\n",
              "    </tr>\n",
              "    <tr>\n",
              "      <th>25%</th>\n",
              "      <td>4.000000</td>\n",
              "    </tr>\n",
              "    <tr>\n",
              "      <th>50%</th>\n",
              "      <td>5.000000</td>\n",
              "    </tr>\n",
              "    <tr>\n",
              "      <th>75%</th>\n",
              "      <td>5.000000</td>\n",
              "    </tr>\n",
              "    <tr>\n",
              "      <th>max</th>\n",
              "      <td>5.000000</td>\n",
              "    </tr>\n",
              "  </tbody>\n",
              "</table>\n",
              "</div>\n",
              "      <button class=\"colab-df-convert\" onclick=\"convertToInteractive('df-9bf7c851-cf37-4491-b318-f7c4bd7dad1b')\"\n",
              "              title=\"Convert this dataframe to an interactive table.\"\n",
              "              style=\"display:none;\">\n",
              "        \n",
              "  <svg xmlns=\"http://www.w3.org/2000/svg\" height=\"24px\"viewBox=\"0 0 24 24\"\n",
              "       width=\"24px\">\n",
              "    <path d=\"M0 0h24v24H0V0z\" fill=\"none\"/>\n",
              "    <path d=\"M18.56 5.44l.94 2.06.94-2.06 2.06-.94-2.06-.94-.94-2.06-.94 2.06-2.06.94zm-11 1L8.5 8.5l.94-2.06 2.06-.94-2.06-.94L8.5 2.5l-.94 2.06-2.06.94zm10 10l.94 2.06.94-2.06 2.06-.94-2.06-.94-.94-2.06-.94 2.06-2.06.94z\"/><path d=\"M17.41 7.96l-1.37-1.37c-.4-.4-.92-.59-1.43-.59-.52 0-1.04.2-1.43.59L10.3 9.45l-7.72 7.72c-.78.78-.78 2.05 0 2.83L4 21.41c.39.39.9.59 1.41.59.51 0 1.02-.2 1.41-.59l7.78-7.78 2.81-2.81c.8-.78.8-2.07 0-2.86zM5.41 20L4 18.59l7.72-7.72 1.47 1.35L5.41 20z\"/>\n",
              "  </svg>\n",
              "      </button>\n",
              "      \n",
              "  <style>\n",
              "    .colab-df-container {\n",
              "      display:flex;\n",
              "      flex-wrap:wrap;\n",
              "      gap: 12px;\n",
              "    }\n",
              "\n",
              "    .colab-df-convert {\n",
              "      background-color: #E8F0FE;\n",
              "      border: none;\n",
              "      border-radius: 50%;\n",
              "      cursor: pointer;\n",
              "      display: none;\n",
              "      fill: #1967D2;\n",
              "      height: 32px;\n",
              "      padding: 0 0 0 0;\n",
              "      width: 32px;\n",
              "    }\n",
              "\n",
              "    .colab-df-convert:hover {\n",
              "      background-color: #E2EBFA;\n",
              "      box-shadow: 0px 1px 2px rgba(60, 64, 67, 0.3), 0px 1px 3px 1px rgba(60, 64, 67, 0.15);\n",
              "      fill: #174EA6;\n",
              "    }\n",
              "\n",
              "    [theme=dark] .colab-df-convert {\n",
              "      background-color: #3B4455;\n",
              "      fill: #D2E3FC;\n",
              "    }\n",
              "\n",
              "    [theme=dark] .colab-df-convert:hover {\n",
              "      background-color: #434B5C;\n",
              "      box-shadow: 0px 1px 3px 1px rgba(0, 0, 0, 0.15);\n",
              "      filter: drop-shadow(0px 1px 2px rgba(0, 0, 0, 0.3));\n",
              "      fill: #FFFFFF;\n",
              "    }\n",
              "  </style>\n",
              "\n",
              "      <script>\n",
              "        const buttonEl =\n",
              "          document.querySelector('#df-9bf7c851-cf37-4491-b318-f7c4bd7dad1b button.colab-df-convert');\n",
              "        buttonEl.style.display =\n",
              "          google.colab.kernel.accessAllowed ? 'block' : 'none';\n",
              "\n",
              "        async function convertToInteractive(key) {\n",
              "          const element = document.querySelector('#df-9bf7c851-cf37-4491-b318-f7c4bd7dad1b');\n",
              "          const dataTable =\n",
              "            await google.colab.kernel.invokeFunction('convertToInteractive',\n",
              "                                                     [key], {});\n",
              "          if (!dataTable) return;\n",
              "\n",
              "          const docLinkHtml = 'Like what you see? Visit the ' +\n",
              "            '<a target=\"_blank\" href=https://colab.research.google.com/notebooks/data_table.ipynb>data table notebook</a>'\n",
              "            + ' to learn more about interactive tables.';\n",
              "          element.innerHTML = '';\n",
              "          dataTable['output_type'] = 'display_data';\n",
              "          await google.colab.output.renderOutput(dataTable, element);\n",
              "          const docLink = document.createElement('div');\n",
              "          docLink.innerHTML = docLinkHtml;\n",
              "          element.appendChild(docLink);\n",
              "        }\n",
              "      </script>\n",
              "    </div>\n",
              "  </div>\n",
              "  "
            ]
          },
          "metadata": {},
          "execution_count": 11
        }
      ]
    },
    {
      "cell_type": "code",
      "source": [
        "#check for the duplicate values\n",
        "review_data.duplicated()"
      ],
      "metadata": {
        "colab": {
          "base_uri": "https://localhost:8080/"
        },
        "id": "4PLp6NB1SpOh",
        "outputId": "f379440e-d694-4398-b247-5a4007327a43"
      },
      "execution_count": 12,
      "outputs": [
        {
          "output_type": "execute_result",
          "data": {
            "text/plain": [
              "0         False\n",
              "1         False\n",
              "2         False\n",
              "3         False\n",
              "4         False\n",
              "          ...  \n",
              "183526    False\n",
              "183527    False\n",
              "183528    False\n",
              "183529    False\n",
              "183530    False\n",
              "Length: 183531, dtype: bool"
            ]
          },
          "metadata": {},
          "execution_count": 12
        }
      ]
    },
    {
      "cell_type": "code",
      "source": [
        "print(review_data.duplicated().value_counts()) #count of duplicated values if any"
      ],
      "metadata": {
        "colab": {
          "base_uri": "https://localhost:8080/"
        },
        "id": "6VoS3c1CSrBU",
        "outputId": "a0530237-e335-4678-9cdc-5df066744692"
      },
      "execution_count": 13,
      "outputs": [
        {
          "output_type": "stream",
          "name": "stdout",
          "text": [
            "False    183469\n",
            "True         62\n",
            "dtype: int64\n"
          ]
        }
      ]
    },
    {
      "cell_type": "code",
      "source": [
        "review_data.head() #top 5 rows of the dataset"
      ],
      "metadata": {
        "colab": {
          "base_uri": "https://localhost:8080/",
          "height": 206
        },
        "id": "mzmhGhGmSs32",
        "outputId": "da90e066-6d83-4b88-d69f-e16025bce9f8"
      },
      "execution_count": 14,
      "outputs": [
        {
          "output_type": "execute_result",
          "data": {
            "text/plain": [
              "                                                name  \\\n",
              "0                           Planetwise Flannel Wipes   \n",
              "1                              Planetwise Wipe Pouch   \n",
              "2                Annas Dream Full Quilt with 2 Shams   \n",
              "3  Stop Pacifier Sucking without tears with Thumb...   \n",
              "4  Stop Pacifier Sucking without tears with Thumb...   \n",
              "\n",
              "                                              review  rating  \n",
              "0  These flannel wipes are OK, but in my opinion ...       3  \n",
              "1  it came early and was not disappointed. i love...       5  \n",
              "2  Very soft and comfortable and warmer than it l...       5  \n",
              "3  This is a product well worth the purchase.  I ...       5  \n",
              "4  All of my kids have cried non-stop when I trie...       5  "
            ],
            "text/html": [
              "\n",
              "  <div id=\"df-17e1a27d-cd9c-441c-97a6-f05ecee60a34\">\n",
              "    <div class=\"colab-df-container\">\n",
              "      <div>\n",
              "<style scoped>\n",
              "    .dataframe tbody tr th:only-of-type {\n",
              "        vertical-align: middle;\n",
              "    }\n",
              "\n",
              "    .dataframe tbody tr th {\n",
              "        vertical-align: top;\n",
              "    }\n",
              "\n",
              "    .dataframe thead th {\n",
              "        text-align: right;\n",
              "    }\n",
              "</style>\n",
              "<table border=\"1\" class=\"dataframe\">\n",
              "  <thead>\n",
              "    <tr style=\"text-align: right;\">\n",
              "      <th></th>\n",
              "      <th>name</th>\n",
              "      <th>review</th>\n",
              "      <th>rating</th>\n",
              "    </tr>\n",
              "  </thead>\n",
              "  <tbody>\n",
              "    <tr>\n",
              "      <th>0</th>\n",
              "      <td>Planetwise Flannel Wipes</td>\n",
              "      <td>These flannel wipes are OK, but in my opinion ...</td>\n",
              "      <td>3</td>\n",
              "    </tr>\n",
              "    <tr>\n",
              "      <th>1</th>\n",
              "      <td>Planetwise Wipe Pouch</td>\n",
              "      <td>it came early and was not disappointed. i love...</td>\n",
              "      <td>5</td>\n",
              "    </tr>\n",
              "    <tr>\n",
              "      <th>2</th>\n",
              "      <td>Annas Dream Full Quilt with 2 Shams</td>\n",
              "      <td>Very soft and comfortable and warmer than it l...</td>\n",
              "      <td>5</td>\n",
              "    </tr>\n",
              "    <tr>\n",
              "      <th>3</th>\n",
              "      <td>Stop Pacifier Sucking without tears with Thumb...</td>\n",
              "      <td>This is a product well worth the purchase.  I ...</td>\n",
              "      <td>5</td>\n",
              "    </tr>\n",
              "    <tr>\n",
              "      <th>4</th>\n",
              "      <td>Stop Pacifier Sucking without tears with Thumb...</td>\n",
              "      <td>All of my kids have cried non-stop when I trie...</td>\n",
              "      <td>5</td>\n",
              "    </tr>\n",
              "  </tbody>\n",
              "</table>\n",
              "</div>\n",
              "      <button class=\"colab-df-convert\" onclick=\"convertToInteractive('df-17e1a27d-cd9c-441c-97a6-f05ecee60a34')\"\n",
              "              title=\"Convert this dataframe to an interactive table.\"\n",
              "              style=\"display:none;\">\n",
              "        \n",
              "  <svg xmlns=\"http://www.w3.org/2000/svg\" height=\"24px\"viewBox=\"0 0 24 24\"\n",
              "       width=\"24px\">\n",
              "    <path d=\"M0 0h24v24H0V0z\" fill=\"none\"/>\n",
              "    <path d=\"M18.56 5.44l.94 2.06.94-2.06 2.06-.94-2.06-.94-.94-2.06-.94 2.06-2.06.94zm-11 1L8.5 8.5l.94-2.06 2.06-.94-2.06-.94L8.5 2.5l-.94 2.06-2.06.94zm10 10l.94 2.06.94-2.06 2.06-.94-2.06-.94-.94-2.06-.94 2.06-2.06.94z\"/><path d=\"M17.41 7.96l-1.37-1.37c-.4-.4-.92-.59-1.43-.59-.52 0-1.04.2-1.43.59L10.3 9.45l-7.72 7.72c-.78.78-.78 2.05 0 2.83L4 21.41c.39.39.9.59 1.41.59.51 0 1.02-.2 1.41-.59l7.78-7.78 2.81-2.81c.8-.78.8-2.07 0-2.86zM5.41 20L4 18.59l7.72-7.72 1.47 1.35L5.41 20z\"/>\n",
              "  </svg>\n",
              "      </button>\n",
              "      \n",
              "  <style>\n",
              "    .colab-df-container {\n",
              "      display:flex;\n",
              "      flex-wrap:wrap;\n",
              "      gap: 12px;\n",
              "    }\n",
              "\n",
              "    .colab-df-convert {\n",
              "      background-color: #E8F0FE;\n",
              "      border: none;\n",
              "      border-radius: 50%;\n",
              "      cursor: pointer;\n",
              "      display: none;\n",
              "      fill: #1967D2;\n",
              "      height: 32px;\n",
              "      padding: 0 0 0 0;\n",
              "      width: 32px;\n",
              "    }\n",
              "\n",
              "    .colab-df-convert:hover {\n",
              "      background-color: #E2EBFA;\n",
              "      box-shadow: 0px 1px 2px rgba(60, 64, 67, 0.3), 0px 1px 3px 1px rgba(60, 64, 67, 0.15);\n",
              "      fill: #174EA6;\n",
              "    }\n",
              "\n",
              "    [theme=dark] .colab-df-convert {\n",
              "      background-color: #3B4455;\n",
              "      fill: #D2E3FC;\n",
              "    }\n",
              "\n",
              "    [theme=dark] .colab-df-convert:hover {\n",
              "      background-color: #434B5C;\n",
              "      box-shadow: 0px 1px 3px 1px rgba(0, 0, 0, 0.15);\n",
              "      filter: drop-shadow(0px 1px 2px rgba(0, 0, 0, 0.3));\n",
              "      fill: #FFFFFF;\n",
              "    }\n",
              "  </style>\n",
              "\n",
              "      <script>\n",
              "        const buttonEl =\n",
              "          document.querySelector('#df-17e1a27d-cd9c-441c-97a6-f05ecee60a34 button.colab-df-convert');\n",
              "        buttonEl.style.display =\n",
              "          google.colab.kernel.accessAllowed ? 'block' : 'none';\n",
              "\n",
              "        async function convertToInteractive(key) {\n",
              "          const element = document.querySelector('#df-17e1a27d-cd9c-441c-97a6-f05ecee60a34');\n",
              "          const dataTable =\n",
              "            await google.colab.kernel.invokeFunction('convertToInteractive',\n",
              "                                                     [key], {});\n",
              "          if (!dataTable) return;\n",
              "\n",
              "          const docLinkHtml = 'Like what you see? Visit the ' +\n",
              "            '<a target=\"_blank\" href=https://colab.research.google.com/notebooks/data_table.ipynb>data table notebook</a>'\n",
              "            + ' to learn more about interactive tables.';\n",
              "          element.innerHTML = '';\n",
              "          dataTable['output_type'] = 'display_data';\n",
              "          await google.colab.output.renderOutput(dataTable, element);\n",
              "          const docLink = document.createElement('div');\n",
              "          docLink.innerHTML = docLinkHtml;\n",
              "          element.appendChild(docLink);\n",
              "        }\n",
              "      </script>\n",
              "    </div>\n",
              "  </div>\n",
              "  "
            ]
          },
          "metadata": {},
          "execution_count": 14
        }
      ]
    },
    {
      "cell_type": "code",
      "source": [
        "review_data.tail() #last 5 rows of the data"
      ],
      "metadata": {
        "colab": {
          "base_uri": "https://localhost:8080/",
          "height": 206
        },
        "id": "7WZi_GfXSuZt",
        "outputId": "1d0a37ba-37bd-487c-83a0-d033e3749411"
      },
      "execution_count": 15,
      "outputs": [
        {
          "output_type": "execute_result",
          "data": {
            "text/plain": [
              "                                                     name  \\\n",
              "183526  Baby Teething Necklace for Mom Pretty Donut Sh...   \n",
              "183527  Baby Teething Necklace for Mom Pretty Donut Sh...   \n",
              "183528   Abstract 2 PK Baby / Toddler Training Cup (Pink)   \n",
              "183529  Baby Food Freezer Tray - Bacteria Resistant, B...   \n",
              "183530  Best 2 Pack Baby Car Shade for Kids - Window S...   \n",
              "\n",
              "                                                   review  rating  \n",
              "183526  Such a great idea! very handy to have and look...       5  \n",
              "183527  This product rocks!  It is a great blend of fu...       5  \n",
              "183528  This item looks great and cool for my kids.......       5  \n",
              "183529  I am extremely happy with this product. I have...       5  \n",
              "183530  I love this product very mush . I have bought ...       5  "
            ],
            "text/html": [
              "\n",
              "  <div id=\"df-98db200c-9589-465e-95c5-9cecba0f4a6d\">\n",
              "    <div class=\"colab-df-container\">\n",
              "      <div>\n",
              "<style scoped>\n",
              "    .dataframe tbody tr th:only-of-type {\n",
              "        vertical-align: middle;\n",
              "    }\n",
              "\n",
              "    .dataframe tbody tr th {\n",
              "        vertical-align: top;\n",
              "    }\n",
              "\n",
              "    .dataframe thead th {\n",
              "        text-align: right;\n",
              "    }\n",
              "</style>\n",
              "<table border=\"1\" class=\"dataframe\">\n",
              "  <thead>\n",
              "    <tr style=\"text-align: right;\">\n",
              "      <th></th>\n",
              "      <th>name</th>\n",
              "      <th>review</th>\n",
              "      <th>rating</th>\n",
              "    </tr>\n",
              "  </thead>\n",
              "  <tbody>\n",
              "    <tr>\n",
              "      <th>183526</th>\n",
              "      <td>Baby Teething Necklace for Mom Pretty Donut Sh...</td>\n",
              "      <td>Such a great idea! very handy to have and look...</td>\n",
              "      <td>5</td>\n",
              "    </tr>\n",
              "    <tr>\n",
              "      <th>183527</th>\n",
              "      <td>Baby Teething Necklace for Mom Pretty Donut Sh...</td>\n",
              "      <td>This product rocks!  It is a great blend of fu...</td>\n",
              "      <td>5</td>\n",
              "    </tr>\n",
              "    <tr>\n",
              "      <th>183528</th>\n",
              "      <td>Abstract 2 PK Baby / Toddler Training Cup (Pink)</td>\n",
              "      <td>This item looks great and cool for my kids.......</td>\n",
              "      <td>5</td>\n",
              "    </tr>\n",
              "    <tr>\n",
              "      <th>183529</th>\n",
              "      <td>Baby Food Freezer Tray - Bacteria Resistant, B...</td>\n",
              "      <td>I am extremely happy with this product. I have...</td>\n",
              "      <td>5</td>\n",
              "    </tr>\n",
              "    <tr>\n",
              "      <th>183530</th>\n",
              "      <td>Best 2 Pack Baby Car Shade for Kids - Window S...</td>\n",
              "      <td>I love this product very mush . I have bought ...</td>\n",
              "      <td>5</td>\n",
              "    </tr>\n",
              "  </tbody>\n",
              "</table>\n",
              "</div>\n",
              "      <button class=\"colab-df-convert\" onclick=\"convertToInteractive('df-98db200c-9589-465e-95c5-9cecba0f4a6d')\"\n",
              "              title=\"Convert this dataframe to an interactive table.\"\n",
              "              style=\"display:none;\">\n",
              "        \n",
              "  <svg xmlns=\"http://www.w3.org/2000/svg\" height=\"24px\"viewBox=\"0 0 24 24\"\n",
              "       width=\"24px\">\n",
              "    <path d=\"M0 0h24v24H0V0z\" fill=\"none\"/>\n",
              "    <path d=\"M18.56 5.44l.94 2.06.94-2.06 2.06-.94-2.06-.94-.94-2.06-.94 2.06-2.06.94zm-11 1L8.5 8.5l.94-2.06 2.06-.94-2.06-.94L8.5 2.5l-.94 2.06-2.06.94zm10 10l.94 2.06.94-2.06 2.06-.94-2.06-.94-.94-2.06-.94 2.06-2.06.94z\"/><path d=\"M17.41 7.96l-1.37-1.37c-.4-.4-.92-.59-1.43-.59-.52 0-1.04.2-1.43.59L10.3 9.45l-7.72 7.72c-.78.78-.78 2.05 0 2.83L4 21.41c.39.39.9.59 1.41.59.51 0 1.02-.2 1.41-.59l7.78-7.78 2.81-2.81c.8-.78.8-2.07 0-2.86zM5.41 20L4 18.59l7.72-7.72 1.47 1.35L5.41 20z\"/>\n",
              "  </svg>\n",
              "      </button>\n",
              "      \n",
              "  <style>\n",
              "    .colab-df-container {\n",
              "      display:flex;\n",
              "      flex-wrap:wrap;\n",
              "      gap: 12px;\n",
              "    }\n",
              "\n",
              "    .colab-df-convert {\n",
              "      background-color: #E8F0FE;\n",
              "      border: none;\n",
              "      border-radius: 50%;\n",
              "      cursor: pointer;\n",
              "      display: none;\n",
              "      fill: #1967D2;\n",
              "      height: 32px;\n",
              "      padding: 0 0 0 0;\n",
              "      width: 32px;\n",
              "    }\n",
              "\n",
              "    .colab-df-convert:hover {\n",
              "      background-color: #E2EBFA;\n",
              "      box-shadow: 0px 1px 2px rgba(60, 64, 67, 0.3), 0px 1px 3px 1px rgba(60, 64, 67, 0.15);\n",
              "      fill: #174EA6;\n",
              "    }\n",
              "\n",
              "    [theme=dark] .colab-df-convert {\n",
              "      background-color: #3B4455;\n",
              "      fill: #D2E3FC;\n",
              "    }\n",
              "\n",
              "    [theme=dark] .colab-df-convert:hover {\n",
              "      background-color: #434B5C;\n",
              "      box-shadow: 0px 1px 3px 1px rgba(0, 0, 0, 0.15);\n",
              "      filter: drop-shadow(0px 1px 2px rgba(0, 0, 0, 0.3));\n",
              "      fill: #FFFFFF;\n",
              "    }\n",
              "  </style>\n",
              "\n",
              "      <script>\n",
              "        const buttonEl =\n",
              "          document.querySelector('#df-98db200c-9589-465e-95c5-9cecba0f4a6d button.colab-df-convert');\n",
              "        buttonEl.style.display =\n",
              "          google.colab.kernel.accessAllowed ? 'block' : 'none';\n",
              "\n",
              "        async function convertToInteractive(key) {\n",
              "          const element = document.querySelector('#df-98db200c-9589-465e-95c5-9cecba0f4a6d');\n",
              "          const dataTable =\n",
              "            await google.colab.kernel.invokeFunction('convertToInteractive',\n",
              "                                                     [key], {});\n",
              "          if (!dataTable) return;\n",
              "\n",
              "          const docLinkHtml = 'Like what you see? Visit the ' +\n",
              "            '<a target=\"_blank\" href=https://colab.research.google.com/notebooks/data_table.ipynb>data table notebook</a>'\n",
              "            + ' to learn more about interactive tables.';\n",
              "          element.innerHTML = '';\n",
              "          dataTable['output_type'] = 'display_data';\n",
              "          await google.colab.output.renderOutput(dataTable, element);\n",
              "          const docLink = document.createElement('div');\n",
              "          docLink.innerHTML = docLinkHtml;\n",
              "          element.appendChild(docLink);\n",
              "        }\n",
              "      </script>\n",
              "    </div>\n",
              "  </div>\n",
              "  "
            ]
          },
          "metadata": {},
          "execution_count": 15
        }
      ]
    },
    {
      "cell_type": "code",
      "source": [
        "#check of the null values\n",
        "review_data.isnull().values.any()"
      ],
      "metadata": {
        "colab": {
          "base_uri": "https://localhost:8080/"
        },
        "id": "r_SLoXOVS0Uj",
        "outputId": "7bca4fb7-28e3-457b-b200-94419c36c9d3"
      },
      "execution_count": 16,
      "outputs": [
        {
          "output_type": "execute_result",
          "data": {
            "text/plain": [
              "True"
            ]
          },
          "metadata": {},
          "execution_count": 16
        }
      ]
    },
    {
      "cell_type": "code",
      "source": [
        "review_data.isnull().value_counts() #count null values if any"
      ],
      "metadata": {
        "colab": {
          "base_uri": "https://localhost:8080/"
        },
        "id": "2QUSWtMyS23Y",
        "outputId": "cb5085a4-f019-4149-e7a6-abcaf3dcce69"
      },
      "execution_count": 17,
      "outputs": [
        {
          "output_type": "execute_result",
          "data": {
            "text/plain": [
              "name   review  rating\n",
              "False  False   False     182384\n",
              "       True    False        829\n",
              "True   False   False        318\n",
              "dtype: int64"
            ]
          },
          "metadata": {},
          "execution_count": 17
        }
      ]
    },
    {
      "cell_type": "code",
      "source": [
        "len(review_data) - len(review_data.dropna())"
      ],
      "metadata": {
        "colab": {
          "base_uri": "https://localhost:8080/"
        },
        "id": "IG2BASIgTCrY",
        "outputId": "a6762eff-3548-4e7e-ad8f-87ad4eda6587"
      },
      "execution_count": 18,
      "outputs": [
        {
          "output_type": "execute_result",
          "data": {
            "text/plain": [
              "1147"
            ]
          },
          "metadata": {},
          "execution_count": 18
        }
      ]
    },
    {
      "cell_type": "code",
      "source": [
        "#Handle null values in case any\n",
        "review_data.dropna(inplace=True)\n",
        "\n",
        "#Handle null values in case any\n",
        "# dropna()\n",
        "# fillna(pad, bfill)\n",
        "# replace()\n",
        "# interpolate()"
      ],
      "metadata": {
        "id": "X84sjG5ZTHj4"
      },
      "execution_count": 19,
      "outputs": []
    },
    {
      "cell_type": "code",
      "source": [
        "review_data.shape"
      ],
      "metadata": {
        "colab": {
          "base_uri": "https://localhost:8080/"
        },
        "id": "qLE1X1MgTK2K",
        "outputId": "116789d7-03c0-49da-8957-531e2b069c4e"
      },
      "execution_count": 20,
      "outputs": [
        {
          "output_type": "execute_result",
          "data": {
            "text/plain": [
              "(182384, 3)"
            ]
          },
          "metadata": {},
          "execution_count": 20
        }
      ]
    },
    {
      "cell_type": "code",
      "source": [
        "'''\n",
        "# YOUR CODE(s) HERE\n",
        "# Loading the dataset\n",
        "df = pd.read_csv('amazon_baby.csv')\n",
        "nrows, ncols = df.shape\n",
        "print(\"No. of rows = \", str(nrows), \"\\nNo. of columns = \", str(ncols))\n",
        "print(\"\\n A summary of hte plots can be seen as below:\\n\")\n",
        "print(df.info())\n",
        "print(\"\\nA statistical description of the features of the data can be s een a s below:\\n\")\n",
        "print(df.describe())\n",
        "print(\"\\n Duplicate values present: \", df.duplicated().any())\n",
        "print(\"\\nTop 5 rows of the data:\\n\")\n",
        "print(df.head())\n",
        "print(\"\\nLast 5 rows of the data:\\n\")\n",
        "print(df.tail())\n",
        "print(\"\\n Null values present: \", df.isnull().sum())\n",
        "print(\"\\n Dropping Null values\")\n",
        "df1 = df.dropna(axis =0)\n",
        "print(\"\\n Null values present: \", df1.isnull().sum())\n",
        "for i in range(0,len(df1)-1):\n",
        "    if type(df1.iloc[i]['review']) != str:\n",
        "        df1.iloc[i]['review'] = str(df1.iloc[i]['review'])\n",
        "def sentiment(n):\n",
        "    return 1 if n >= 3 else 0\n",
        "\n",
        "df1['sentiment'] = df1['rating'].apply(sentiment)\n",
        "df1.head()\n",
        "def combined_features(row):\n",
        "    return row['name'] + ' '+ row['review']\n",
        "df1['all_features'] = df1.apply(combined_features, axis=1)\n",
        "df1.head()\n",
        "X = df1['all_features']\n",
        "y = df1['sentiment']\n",
        "\n",
        "X_tr, _, y_tr, _ = train_test_split(X, y, test_size=0.7)\n",
        "X_train, X_test, y_train, y_test = train_test_split(X_tr, y_tr, test_size=0.3)\n",
        "from sklearn.feature_extraction.text import CountVectorizer\n",
        "cv = CountVectorizer()\n",
        "ctmTr = cv.fit_transform(X_train)\n",
        "X_test_dtm = cv.transform(X_test)\n",
        "'''"
      ],
      "metadata": {
        "id": "_iKegvGG3_TP"
      },
      "execution_count": null,
      "outputs": []
    },
    {
      "cell_type": "markdown",
      "source": [
        "**Exercise 2**: **Implementation using K-Nearest Neighbor (KNN) Classifier**:  (1 point)\n",
        "\n",
        "\n",
        "[Refer to the Logistic Regression Example in the above cells]\n",
        "\n",
        "- Define the KNN classifier with Number of neighbours=5 using sklearn's **KNeighborsClassifier** function\n",
        "- Train the KNN classifier\n",
        "- Predict the test set\n",
        "- Calculate accuracy on the KNN classifier\n",
        "- Compute the F1 score"
      ],
      "metadata": {
        "id": "EX9ah2Jc4X_M"
      }
    },
    {
      "cell_type": "code",
      "source": [
        "#lets first create sentiments column with 0, 1 values (0: review 1,2; 1: review 3,4,5)\n",
        "review_data['sentiment'] = 1 \n",
        "review_data.loc[review_data['rating'] < 3, 'sentiment'] = 0\n",
        "int(0.3 * len(review_data))\n",
        "review_data = review_data[:54715]\n",
        "X = review_data['review'] #input\n",
        "y = review_data['sentiment'] #target\n",
        "x_train, x_test, y_train, y_test = train_test_split(X, y, random_state=42) #split data into train, test\n",
        "#convert string to float\n",
        "from sklearn.feature_extraction.text import CountVectorizer\n",
        "cv = CountVectorizer()\n",
        "X_train = cv.fit_transform(x_train)\n",
        "X_test = cv.transform(x_test)\n",
        "knn = KNeighborsClassifier() #instansiate model object\n",
        "knn.fit(X_train, y_train) #fit on training data\n",
        "\n",
        "test_pred = knn.predict(X_test) #predict on test data\n",
        "print(test_pred)\n",
        "\n",
        "print(\"accuracy\",accuracy_score(y_test, test_pred) )#accuracy\n",
        "\n",
        "print(\"f1_score\",f1_score(y_test, test_pred)) #f1 score\n"
      ],
      "metadata": {
        "colab": {
          "base_uri": "https://localhost:8080/"
        },
        "id": "vbgeD7iSVJl8",
        "outputId": "0f7d3e0c-6e32-41fe-afb8-7887fac79d6a"
      },
      "execution_count": 23,
      "outputs": [
        {
          "output_type": "stream",
          "name": "stdout",
          "text": [
            "[1 1 1 ... 1 1 1]\n",
            "accuracy 0.8369032824036845\n",
            "f1_score 0.9101019462465245\n"
          ]
        }
      ]
    },
    {
      "cell_type": "code",
      "source": [
        "'''\n",
        "# YOUR CODE(s) HERE\n",
        "from sklearn.neighbors import KNeighborsClassifier\n",
        "\n",
        "# Logistic regression model is defined\n",
        "KNC = KNeighborsClassifier()\n",
        "\n",
        "# Training the logistic regression classifier\n",
        "KNC.fit(ctmTr, y_train)\n",
        "\n",
        "# Calculating accuracy on the logistic regression classifier\n",
        "# The accuracy is within 0 and 1 in this snippet\n",
        "knc_score = KNC.score(X_test_dtm, y_test)\n",
        "print(\"Accuracy of the sentiment classification using the K Neighbors Classifier based classifier: \", knc_score)\n",
        "\n",
        "# Predicting on the test set\n",
        "y_pred_knc = KNC.predict(X_test_dtm)\n",
        "\n",
        "# F1 score calculation\n",
        "knc_f1_score = f1_score(y_pred_knc, y_test)\n",
        "\n",
        "print (\"F1 Score for sentiment classification using the K Neighbors Classifier based classifier: \", knc_f1_score)\n",
        "'''"
      ],
      "metadata": {
        "id": "omrI_SQk4jA8",
        "colab": {
          "base_uri": "https://localhost:8080/"
        },
        "outputId": "7f756815-2373-4b3c-e62b-d64e0e9621d2"
      },
      "execution_count": null,
      "outputs": [
        {
          "output_type": "stream",
          "name": "stdout",
          "text": [
            "Accuracy of the sentiment classification using the K Neighbors Classifier based classifier:  0.8554980201035638\n",
            "F1 Score for sentiment classification using the K Neighbors Classifier based classifier:  0.9213736409440466\n"
          ]
        }
      ]
    },
    {
      "cell_type": "markdown",
      "source": [
        "**Exercise 3**: **Implementation using Support Vector Machines (SVM) Classifier**:  (3 points)\n",
        "  - First Reduce the features using PCA\n",
        "  - use Hard-Margin Classifier\n",
        "  - use Soft-Margin Classifier\n",
        "  - use Kernel SVM Classifier\n",
        "\n",
        "\n",
        "\n",
        "Background:\n",
        "The next classifier we look into are support vector machines. \n",
        "\n",
        "![wget](https://cdn.talentsprint.com/aiml/aiml_2020_b14_hyd/experiment_details_backup/linear_data.png)\n",
        "\n",
        "While the other classifiers such as the perceptron and the logistic regression uses a similar concept of finding a boundary between two classes using a straight line, SVMs aim to maximize this boundary. Therefore, not only the SVM tries to find a boundary, it tries to find the best boundary that separates the two classes. Again, with very simple tricks the two class classification can be easily extended to a multiclass classification. The formal formulation of a SVM is,\n",
        "\n",
        "$g(x) = w^Tx + b$, is the equation of the line we want to find with weights $w$ and a bias $b$.\n",
        "\n",
        "Now as seen from the figure, $g(x) = k$ and $g(x) = -k$ will give two worst lines for classification as they are right at the boundary of one of the classes. We need to maximize the distance of the line from both of the classes.\n",
        "\n",
        "Therefore,\n",
        "\n",
        "Maximize $k$ such that :\n",
        "\n",
        "$-w^Tx + b \\geq k \\: for \\: d_i == 1$\n",
        "\n",
        "$-w^Tx + b \\leq k \\: for \\: d_i == -1$\n",
        "\n",
        "We keep $g(x) \\geq 1$ and minimize $||w||$.\n",
        "\n",
        "We finally write the final minimization function (uses Lagrangians to come to this solution).\n",
        "\n",
        "Minimize: $J(w, b, \\alpha) = \\frac{1}{2}w^Tw - \\Sigma_{i=1}^{N}(\\alpha_id_i(w^Tx_i + b)) + \\Sigma_{i=1}^{N}(\\alpha_i)$\n",
        "\n",
        "There are multiple types of SVM. We first use the standard linear SVM and check the performance of the model. However, SVM cannot be directly used on this dataset.   "
      ],
      "metadata": {
        "id": "LHgubZ294yfU"
      }
    },
    {
      "cell_type": "markdown",
      "source": [
        "The data is too large and the normal SVM function from `sklearn` will take a lot of time to run. Therefore, we first apply a PCA based dimensionality reduction technique on the input data. This will be followed by different types of SVM techniques and the performance can be compared. Since, dimensionality reduction is applied, a slight drop in performance is expected. However, with the improvement in the time taken for training a SVM in mind, it is important we first apply PCA based dimensionality reduction.\n",
        "\n",
        "In principal component analysis, this relationship is quantified by finding a list of the principal axes in the data, and using those axes to describe the dataset.Using PCA for dimensionality reduction involves zeroing out one or more of the smallest principal components, resulting in a lower-dimensional projection of the data that preserves the maximal data variance.\n",
        "\n",
        "\n",
        "**Hints**\n",
        "- Define the PCA model using sklearn's **TruncatedSVD**\n",
        "- Fit the training data using **model.fit**\n",
        "- Reduce the dimensions of the training data using **model.transform**\n",
        "- Reduce the dimensions of the testing data using **model.transform**\n",
        "\n",
        "\n",
        "- Use sklearn's **svm.SVC**. Appropriately choose the arguments - *kernel*, *gamma*, and *C* for hard-margin, soft-margin and kernel SVM classifiers.\n",
        "\n"
      ],
      "metadata": {
        "id": "75AdOM0W9qJz"
      }
    },
    {
      "cell_type": "code",
      "source": [
        "pca_model = TruncatedSVD() #initansiate pca model\n",
        "pca_model.fit(X_train, y_train) #train pca model\n",
        "red_x_train = pca_model.transform(X_train) #transform training data\n",
        "red_x_test = pca_model.transform(X_test) #transform test data\n",
        "#hard-margin\n",
        "model = svm.SVC() #C=1, kernel='rbf'\n",
        "model.fit(red_x_train, y_train)\n",
        "test_pred = model.predict(red_x_test)\n",
        "print(\"accuracy: \",accuracy_score(y_test, test_pred))\n",
        "print(\"f1_score: \", f1_score(y_test, test_pred)) #f1 score\n",
        "#soft-margin\n",
        "model = svm.SVC(C=0.1, kernel='linear', gamma='auto')\n",
        "model.fit(red_x_train, y_train)\n",
        "test_pred = model.predict(red_x_test)\n",
        "print(accuracy_score(y_test, test_pred))\n",
        "print(f1_score(y_test, test_pred)) #f1 score\n",
        "#kernel SVM\n",
        "model = svm.SVC(C=0.8, kernel='rbf', gamma='auto')\n",
        "# YOUR CODE(s) HERE\n",
        "model.fit(red_x_train, y_train)\n",
        "test_pred = model.predict(red_x_test)\n",
        "print(accuracy_score(y_test, test_pred))\n",
        "print(f1_score(y_test, test_pred)) #f1 score\n"
      ],
      "metadata": {
        "colab": {
          "base_uri": "https://localhost:8080/"
        },
        "id": "z1SG3zV2WFUi",
        "outputId": "5f0f7217-cfdb-4c60-a74a-870ac18e911d"
      },
      "execution_count": 25,
      "outputs": [
        {
          "output_type": "stream",
          "name": "stdout",
          "text": [
            "accuracy:  0.8385846918634403\n",
            "f1_score:  0.91220675944334\n",
            "0.8385846918634403\n",
            "0.91220675944334\n",
            "0.8385115871043205\n",
            "0.9121635055071773\n"
          ]
        }
      ]
    },
    {
      "cell_type": "code",
      "source": [
        "'''\n",
        "# YOUR CODE(s) HERE\n",
        "from sklearn.decomposition import TruncatedSVD\n",
        "from scipy.sparse import csr_matrix\n",
        "import numpy as np\n",
        "np.random.seed(0)\n",
        "#X_te = \n",
        "svd = TruncatedSVD(n_components=5, n_iter=7, random_state=42)\n",
        "svd.fit(ctmTr)\n",
        "X_tr = svd.transform(ctmTr)\n",
        "X_te =svd.transform(X_test_dtm)\n",
        "\n",
        "# we create an instance of SVM and fit out data. We do not scale our\n",
        "# data since we want to plot the support vectors\n",
        "C = 0.1  # Soft SVM regularization parameter\n",
        "models = (\n",
        "    svm.SVC(kernel=\"linear\", C=C),\n",
        "    svm.SVC(kernel=\"rbf\", gamma=0.7, C=C)\n",
        "    )\n",
        "models = (clf.fit(ctmTr, y_train) for clf in models)\n",
        "Z = clf.predict(np.c_[xx.ravel(), yy.ravel()])\n",
        "'''"
      ],
      "metadata": {
        "id": "rHfsD6lR4yfU"
      },
      "execution_count": null,
      "outputs": []
    },
    {
      "cell_type": "markdown",
      "source": [
        "4.   **Exercise 4**: **Implementation using Decision Trees**:  (1 point)\n",
        "\n",
        "Decision Trees are supervised Machine Learning algorithms that can perform both classification and regression tasks and even multioutput tasks. They can handle complex datasets. As the name shows, it uses a tree-like model to make decisions in order to classify or predict according to the problem. It is an ML algorithm that progressively divides datasets into smaller data groups based on a descriptive feature until it reaches sets that are small enough to be described by some label.\n",
        "\n",
        "The most important part of a decision tree is its explainability!\n",
        "\n",
        "The importance of decision tree algorithm is that it has many applications in the real world. For example:\n",
        "\n",
        "1. In the Healthcare sector: To develop Clinical Decision Analysis tools which allow decision-makers to apply for evidence-based medicine and make objective clinical decisions when faced with complex situations.\n",
        "2. Virtual Assistants (Chatbots): To develop chatbots that provide information and assistance to customers in any required domain.\n",
        "3. Retail and Marketing: Sentiment analysis detects the pulse of customer feedback and emotions and allows organizations to learn about customer choices and drives decisions.\n",
        "\n",
        "**Hint**\n",
        "Use sklearn's **DecisionTreeClassifier** function"
      ],
      "metadata": {
        "id": "RD_CHfNy4zCM"
      }
    },
    {
      "cell_type": "code",
      "source": [
        "DT = DecisionTreeClassifier()\n",
        "\n",
        "DT.fit(red_x_train, y_train)\n",
        "test_pred = DT.predict(red_x_test)\n",
        "print(\"Accuracy\", accuracy_score(y_test, test_pred))\n",
        "print(\"F1 Score for sentiment classification using the Decision Tree Classifier based classifier: \", f1_score(y_test, test_pred)) #f1 score"
      ],
      "metadata": {
        "colab": {
          "base_uri": "https://localhost:8080/"
        },
        "id": "IpEnLqRTW6tN",
        "outputId": "19fb81b4-bc7c-4794-d6ed-b911064aa69a"
      },
      "execution_count": 26,
      "outputs": [
        {
          "output_type": "stream",
          "name": "stdout",
          "text": [
            "Accuracy 0.7336062577673806\n",
            "F1 Score for sentiment classification using the Decision Tree Classifier based classifier:  0.8409150440932507\n"
          ]
        }
      ]
    },
    {
      "cell_type": "code",
      "source": [
        "'''\n",
        "# YOUR CODE(s) HERE\n",
        "from sklearn.tree import DecisionTreeClassifier\n",
        "clf = DecisionTreeClassifier(random_state=0).fit(ctmTr, y_train)\n",
        "y_pred_dt = clf.predict(X_test_dtm)\n",
        "dt_f1_score = f1_score(y_pred_dt, y_test)\n",
        "\n",
        "print (\"F1 Score for sentiment classification using the Decision Tree Classifier based classifier: \", dt_f1_score)\n",
        "'''"
      ],
      "metadata": {
        "id": "o2yJdTmm4zCN",
        "colab": {
          "base_uri": "https://localhost:8080/"
        },
        "outputId": "8aaaaae0-9a3c-4306-ebb8-aeef3b513d42"
      },
      "execution_count": null,
      "outputs": [
        {
          "output_type": "stream",
          "name": "stdout",
          "text": [
            "F1 Score for sentiment classification using the Decision Tree Classifier based classifier:  0.908481749250573\n"
          ]
        }
      ]
    },
    {
      "cell_type": "markdown",
      "source": [
        "**Exercise 5**: **Implementation using Ensemble Classifier**:  (1 point) \n",
        "- use LogisticRegression, KNN, SVM, Naive Bayes and VotingClassifier as the weak classifiers"
      ],
      "metadata": {
        "id": "IJncymcr42fg"
      }
    },
    {
      "cell_type": "code",
      "source": [
        "#clf1 = svm.SVC()\n",
        "clf2 = KNeighborsClassifier()\n",
        "clf3 = GaussianNB()\n",
        "clf4 = LogisticRegression()\n",
        "eclf1 = VotingClassifier(estimators=[('knn', clf2), ('gnb', clf3), ('lr', clf4)], voting='hard')\n",
        "from scipy import sparse\n",
        "eclf1.fit(sparse.csr_matrix(red_x_train).toarray(), y_train)"
      ],
      "metadata": {
        "colab": {
          "base_uri": "https://localhost:8080/"
        },
        "id": "-1D1TupjXj3B",
        "outputId": "dd9c15eb-72e9-47de-8371-98b131101540"
      },
      "execution_count": 27,
      "outputs": [
        {
          "output_type": "execute_result",
          "data": {
            "text/plain": [
              "VotingClassifier(estimators=[('knn', KNeighborsClassifier()),\n",
              "                             ('gnb', GaussianNB()),\n",
              "                             ('lr', LogisticRegression())])"
            ]
          },
          "metadata": {},
          "execution_count": 27
        }
      ]
    },
    {
      "cell_type": "code",
      "source": [
        "test_pred =eclf1.predict(red_x_test)\n",
        "print(accuracy_score(y_test, test_pred))\n",
        "print(f1_score(y_test, test_pred)) #f1 score"
      ],
      "metadata": {
        "colab": {
          "base_uri": "https://localhost:8080/"
        },
        "id": "czQxEQNJXnL0",
        "outputId": "f119cb3a-5f99-4dda-bf2e-fd9b4040a0c8"
      },
      "execution_count": 28,
      "outputs": [
        {
          "output_type": "stream",
          "name": "stdout",
          "text": [
            "0.8371957014401638\n",
            "0.911363184079602\n"
          ]
        }
      ]
    },
    {
      "cell_type": "code",
      "source": [
        "'''\n",
        "# YOUR CODE(s) HERE\n",
        "# Voting Ensemble for Classification\n",
        "import pandas\n",
        "from sklearn import model_selection\n",
        "from sklearn.neighbors import KNeighborsClassifier\n",
        "from sklearn.naive_bayes import GaussianNB\n",
        "from sklearn.svm import SVC\n",
        "from sklearn.ensemble import VotingClassifier\n",
        "kfold = model_selection.KFold(n_splits=10)\n",
        "# create the sub models\n",
        "estimators = []\n",
        "model1 = KNeighborsClassifier()\n",
        "estimators.append(('logistic', model1))\n",
        "model2 = GaussianNB()\n",
        "estimators.append(('cart', model2))\n",
        "model3 = SVC()\n",
        "estimators.append(('svm', model3))\n",
        "# create the ensemble model\n",
        "ensemble = VotingClassifier(estimators)\n",
        "results = model_selection.cross_val_score(ensemble, ctmTr, y_train, cv=kfold)\n",
        "print(results.mean())\n",
        "'''"
      ],
      "metadata": {
        "id": "18F2cxVG40F2",
        "colab": {
          "base_uri": "https://localhost:8080/"
        },
        "outputId": "18f95c37-4a1b-4b17-a69f-6840eddef78b"
      },
      "execution_count": null,
      "outputs": [
        {
          "output_type": "stream",
          "name": "stdout",
          "text": [
            "nan\n"
          ]
        }
      ]
    },
    {
      "cell_type": "markdown",
      "source": [
        "**Exercise 6**: **Implementation using Random Forest Classifier**:  (1 point)\n",
        "\n",
        "A random forest is a collection of decision trees whose results are aggregated into one final result. Random Forest  is a supervised classification algorithm. There is a direct relationship between the number of trees in the forest and the results it can get: the larger the number of trees, the more accurate the result. But here creating the forest is not the same as constructing the decision tree with the information gain or gain index approach.\n",
        "Steps:\n",
        "1. Randomly select “k” features from total “m” features where k << m as shown in the figure below\n",
        "2. Among the “k” features, calculate the node “d” using the best split point\n",
        "3. Split the node into leaf nodes using the best split\n",
        "4. Repeat the 1 to 3 steps until “l” number of nodes has been reached.\n",
        "5. Build forest by repeating steps 1 to 4 for “n” number times to create “n” number of trees.\n",
        "6. Take the test features and use the rules of each randomly created decision tree to predict the outcome and stores the predicted outcome (target)\n",
        "7. Calculate the votes for each predicted target\n",
        "8. Consider the high voted predicted target as the final prediction from the random forest algorithm\n",
        "\n",
        "**Hint**:\n",
        "- Use sklearn's **RandomForestClassifier**\n",
        "- Experiment with n_estimators, max_depth, max_leaf_nodes"
      ],
      "metadata": {
        "id": "fW-wW8Or40zA"
      }
    },
    {
      "cell_type": "code",
      "source": [
        "# YOUR CODE(s) HERE\n",
        "forest = RandomForestClassifier(n_estimators=1000, max_leaf_nodes=50)\n",
        "forest.fit(X_train, y_train)\n",
        "test_pred = forest.predict(X_test)\n",
        "print(accuracy_score(y_test, test_pred))\n",
        "print(f1_score(y_test, test_pred)) #f1 score"
      ],
      "metadata": {
        "id": "SvvDAwWe40zB",
        "colab": {
          "base_uri": "https://localhost:8080/"
        },
        "outputId": "5a2ea70a-be15-43a2-a108-6510e28e9e4d"
      },
      "execution_count": 29,
      "outputs": [
        {
          "output_type": "stream",
          "name": "stdout",
          "text": [
            "0.8385846918634403\n",
            "0.91220675944334\n"
          ]
        }
      ]
    },
    {
      "cell_type": "markdown",
      "source": [
        "**Exercise 7**: **Implementation using Clustering**: (1 point)\n",
        "- k Means Clustering, with and without PCA=2\n",
        "- Gaussian Mixture Models\n",
        "\n",
        "**Hints**:\n",
        "- Use sklearn's **MiniBatchKMeans**\n",
        "- Use sklearn's **GaussianMixture**"
      ],
      "metadata": {
        "id": "ohCDKM-Z47AQ"
      }
    },
    {
      "cell_type": "code",
      "source": [
        "# A helper function to help labelling the test predictions\n",
        "def label(n_clusters, real_labels, labels):\n",
        "    permutation=[]\n",
        "    for i in range(n_clusters):\n",
        "        idx = labels == i\n",
        "        new_label=scipy.stats.mode(real_labels[idx])[0][0]  # Choose the most common label among data points in the cluster\n",
        "        permutation.append(new_label)\n",
        "    return permutation\n",
        "\n",
        "# Use the above custom function\n",
        "# YOUR CODE(s) HERE\n",
        "from sklearn.cluster import MiniBatchKMeans\n",
        "from sklearn.cluster import AgglomerativeClustering\n",
        "from sklearn.mixture import GaussianMixture\n",
        "kmeans  = MiniBatchKMeans()\n",
        "kmeans.fit(X_train)\n",
        "test_pred = kmeans.predict(X_test)"
      ],
      "metadata": {
        "id": "pvHT636eXy1G"
      },
      "execution_count": 30,
      "outputs": []
    },
    {
      "cell_type": "code",
      "source": [
        "'''\n",
        "# A helper function to help labelling the test predictions\n",
        "def label(n_clusters, real_labels, labels):\n",
        "    permutation=[]\n",
        "    for i in range(n_clusters):\n",
        "        idx = labels == i\n",
        "        new_label=scipy.stats.mode(real_labels[idx])[0][0]  # Choose the most common label among data points in the cluster\n",
        "        permutation.append(new_label)\n",
        "    return permutation\n",
        "\n",
        "# Use the above custom function\n",
        "# YOUR CODE(s) HERE\n",
        "'''"
      ],
      "metadata": {
        "id": "iHXnEVJ147AQ"
      },
      "execution_count": null,
      "outputs": []
    },
    {
      "cell_type": "markdown",
      "source": [
        "**Exercise 8**: **Test your own sentence**: (1 point)\n",
        "- Input your sentences ( One for positive and negative each)\n",
        "- Print the output sentiment.**Exercise**"
      ],
      "metadata": {
        "id": "ZF5k-DwF4838"
      }
    },
    {
      "cell_type": "code",
      "source": [
        "# YOUR CODE(s) HERE\n",
        "negative = 'i did not liek the product, it was damaged'\n",
        "positive = 'i loved using this kit. it has great quality'\n",
        "vc = CountVectorizer()\n",
        "test = vc.fit_transform([negative, positive])\n",
        "test = test.toarray()\n",
        "print(\"Ensemble predicted: \",eclf1.predict(test.T))\n",
        "print(\"SVM predicted\", model.predict(test.T))\n",
        "print(\"X_test\",X_test)\n",
        "print(\"test\",test)"
      ],
      "metadata": {
        "id": "MJpgmJV844yS",
        "colab": {
          "base_uri": "https://localhost:8080/"
        },
        "outputId": "b5dc6947-fe7f-4259-fba0-2789c0f03458"
      },
      "execution_count": 31,
      "outputs": [
        {
          "output_type": "stream",
          "name": "stdout",
          "text": [
            "Ensemble predicted:  [1 1 1 1 1 1 1 1 1 1 1 1 1 1 1]\n",
            "SVM predicted [1 1 1 1 1 1 1 1 1 1 1 1 1 1 1]\n",
            "X_test   (0, 230)\t1\n",
            "  (0, 1153)\t1\n",
            "  (0, 1727)\t1\n",
            "  (0, 1730)\t1\n",
            "  (0, 1890)\t1\n",
            "  (0, 2104)\t1\n",
            "  (0, 2226)\t1\n",
            "  (0, 2351)\t8\n",
            "  (0, 2497)\t1\n",
            "  (0, 2520)\t1\n",
            "  (0, 2762)\t1\n",
            "  (0, 2812)\t2\n",
            "  (0, 2943)\t3\n",
            "  (0, 3276)\t4\n",
            "  (0, 3853)\t1\n",
            "  (0, 3869)\t1\n",
            "  (0, 4177)\t2\n",
            "  (0, 4516)\t1\n",
            "  (0, 4580)\t1\n",
            "  (0, 5182)\t2\n",
            "  (0, 5215)\t1\n",
            "  (0, 5378)\t1\n",
            "  (0, 5541)\t2\n",
            "  (0, 5543)\t1\n",
            "  (0, 5550)\t1\n",
            "  :\t:\n",
            "  (13678, 19523)\t1\n",
            "  (13678, 20092)\t2\n",
            "  (13678, 21647)\t1\n",
            "  (13678, 22309)\t1\n",
            "  (13678, 22885)\t1\n",
            "  (13678, 22953)\t1\n",
            "  (13678, 24982)\t1\n",
            "  (13678, 25770)\t1\n",
            "  (13678, 26902)\t1\n",
            "  (13678, 26969)\t1\n",
            "  (13678, 27100)\t1\n",
            "  (13678, 28980)\t1\n",
            "  (13678, 29191)\t1\n",
            "  (13678, 29202)\t1\n",
            "  (13678, 29414)\t2\n",
            "  (13678, 29738)\t3\n",
            "  (13678, 30365)\t1\n",
            "  (13678, 31561)\t2\n",
            "  (13678, 31946)\t3\n",
            "  (13678, 32063)\t1\n",
            "  (13678, 32256)\t3\n",
            "  (13678, 32602)\t1\n",
            "  (13678, 32666)\t1\n",
            "  (13678, 32719)\t1\n",
            "  (13678, 32899)\t1\n",
            "test [[1 1 0 0 1 0 1 0 1 1 0 1 0 0 1]\n",
            " [0 0 1 1 1 1 0 1 0 0 1 0 1 1 0]]\n"
          ]
        }
      ]
    }
  ]
}