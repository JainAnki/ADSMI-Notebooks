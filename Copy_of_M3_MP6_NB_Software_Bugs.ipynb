{
  "cells": [
    {
      "cell_type": "markdown",
      "metadata": {
        "id": "view-in-github",
        "colab_type": "text"
      },
      "source": [
        "<a href=\"https://colab.research.google.com/github/JainAnki/ADSMI-Notebooks/blob/main/Copy_of_M3_MP6_NB_Software_Bugs.ipynb\" target=\"_parent\"><img src=\"https://colab.research.google.com/assets/colab-badge.svg\" alt=\"Open In Colab\"/></a>"
      ]
    },
    {
      "cell_type": "markdown",
      "metadata": {
        "id": "powered-thong"
      },
      "source": [
        "# Applied Data Science and Machine Intelligence\n",
        "## A program by IIT Madras and TalentSprint\n",
        "### Mini Project 5 : Software Use Case - Issue Detection"
      ]
    },
    {
      "cell_type": "markdown",
      "metadata": {
        "id": "1nK0fzdQzk0g"
      },
      "source": [
        "## Learning Objectives\n",
        "\n",
        "At the end of the mini project, you will be able to -\n",
        "\n",
        "* Get an understanding of the dataset.\n",
        "* Perform Extensive EDA and Visualizations\n",
        "* Handraft the raw data suitable for a ML problem\n",
        "* Predict(Classify) the employee Attrition based on employee performance\n",
        "\n",
        "\n",
        "Perform Exhaustive EDA and engineer the features to build a model on a training data that predicts (Classifies) whether an employee (from a test dataset) will quit the company or not.\n"
      ]
    },
    {
      "cell_type": "markdown",
      "metadata": {
        "id": "5xoyNc-yTy7U"
      },
      "source": [
        "## Information"
      ]
    },
    {
      "cell_type": "markdown",
      "metadata": {
        "id": "FvhRny6xpviu"
      },
      "source": [
        "### Issue Classification\n",
        "\n",
        "A company that uses online issue tracking system, often gets a hurdle with the performance of the human resources and digital resource allocation. This is due the fact that the persons raising tickets sometimes put it in under a different tag or a category. Redirections to solve the issue throught the right person takes more time. So it is essential to solve it on time by linking the appropriate issue tags. This role will be taken care by the area of Machine Learning called as Natural Language Processing (NLP). In this Mini-Project we will be utilizing the fundamental building blocks of the NLP to classify the issues under appropriate categories based on the text body of the issue/ticket being raised."
      ]
    },
    {
      "cell_type": "markdown",
      "metadata": {
        "id": "mFyE8NDOUPyq"
      },
      "source": [
        "### About the Dataset\n",
        "\n",
        "This Mini-Project uses the Dataset from the [GitHub](https://github.com/roundcube/roundcubemail/issues). It contains the issues of Roundcube mail application, along with the software defect labelled across each issue."
      ]
    },
    {
      "cell_type": "markdown",
      "metadata": {
        "id": "hungry-accident"
      },
      "source": [
        "**Python Packages used:**  \n",
        "\n",
        "* [`Google.colab`](https://colab.research.google.com/notebooks/io.ipynb) for linking the notebook to your Google-drive\n",
        "* [`Pandas`](https://pandas.pydata.org/docs/reference/index.html) for data frames and easy to read csv files  \n",
        "* [`Numpy`](https://numpy.org/doc/stable/reference/index.html#reference) for array and matrix mathematics functions  \n",
        "* [`sklearn`](https://scikit-learn.org/stable/user_guide.html) for the pre-processing data, building ML models, and performance metrics\n",
        "* [`seaborn`](https://seaborn.pydata.org/) and [`matplotlib`](https://matplotlib.org/) for plotting\n",
        "* [`regex`](https://docs.python.org/3/library/re.html) and [`nltk`](https://www.nltk.org/) for text preocessing\n"
      ]
    },
    {
      "cell_type": "markdown",
      "metadata": {
        "id": "u-g3SLm-DLEW"
      },
      "source": [
        "## Importing the packages"
      ]
    },
    {
      "cell_type": "code",
      "execution_count": null,
      "metadata": {
        "id": "e_V0z4eaDILg",
        "colab": {
          "base_uri": "https://localhost:8080/"
        },
        "outputId": "cdd03863-9247-40c1-cb7f-b2885b64d262"
      },
      "outputs": [
        {
          "output_type": "stream",
          "name": "stdout",
          "text": [
            "[nltk_data] Downloading package punkt to /root/nltk_data...\n",
            "[nltk_data]   Unzipping tokenizers/punkt.zip.\n",
            "[nltk_data] Downloading package stopwords to /root/nltk_data...\n",
            "[nltk_data]   Unzipping corpora/stopwords.zip.\n"
          ]
        }
      ],
      "source": [
        "### The required libraries and packages ###\n",
        "import pandas as pd\n",
        "import numpy as np\n",
        "from google.colab import drive\n",
        "import seaborn as sns\n",
        "import regex as re\n",
        "\n",
        "import nltk\n",
        "from nltk.tokenize import word_tokenize\n",
        "nltk.download('punkt')\n",
        "nltk.download('stopwords')\n",
        "from sklearn.feature_extraction.text import CountVectorizer, TfidfVectorizer\n",
        "from nltk.corpus import stopwords \n",
        "\n",
        "from sklearn.decomposition import PCA\n",
        "from sklearn.preprocessing import Normalizer, StandardScaler\n",
        "from sklearn.preprocessing import LabelEncoder\n",
        "from sklearn.model_selection import train_test_split\n",
        "from sklearn.metrics import confusion_matrix, classification_report\n",
        "from sklearn.preprocessing import *\n",
        "\n",
        "import string\n",
        "import warnings\n",
        "warnings.filterwarnings(\"ignore\")"
      ]
    },
    {
      "cell_type": "markdown",
      "metadata": {
        "id": "uw7Z9BHgU0PL"
      },
      "source": [
        "## Importing the Data"
      ]
    },
    {
      "cell_type": "code",
      "execution_count": null,
      "metadata": {
        "id": "EtBadif5VixE",
        "colab": {
          "base_uri": "https://localhost:8080/"
        },
        "outputId": "37112f93-f597-4c88-b1e0-e88d4b65e136"
      },
      "outputs": [
        {
          "output_type": "stream",
          "name": "stdout",
          "text": [
            "Mounted at /content/drive\n"
          ]
        }
      ],
      "source": [
        "drive.mount('/content/drive')"
      ]
    },
    {
      "cell_type": "code",
      "execution_count": null,
      "metadata": {
        "id": "pdduayuwN171",
        "colab": {
          "base_uri": "https://localhost:8080/",
          "height": 226
        },
        "outputId": "f467f849-6d5f-43ec-bb92-fe051b3588b6"
      },
      "outputs": [
        {
          "output_type": "stream",
          "name": "stdout",
          "text": [
            "(525, 5)\n"
          ]
        },
        {
          "output_type": "execute_result",
          "data": {
            "text/plain": [
              "  Defect-ID in Roundcube Github issues repository  \\\n",
              "0                                           #4528   \n",
              "1                                           #4529   \n",
              "\n",
              "                                       Issue Title  \\\n",
              "0  Wrong alert when uploading attachment over size   \n",
              "1                    Recovery lost draft message ?   \n",
              "\n",
              "                                          Issue Body  \\\n",
              "0  _Reported by @alecpl on 17 Apr 2014 15:33 UTC ...   \n",
              "1  _Reported by L1Ntu on 17 Apr 2014 19:41 UTC as...   \n",
              "\n",
              "  Defect Type Family using IEEE Defect Type Family using ODC  \n",
              "0                ieee_logicData                 control_flow  \n",
              "1                ieee_logicData                 control_flow  "
            ],
            "text/html": [
              "\n",
              "  <div id=\"df-6dbaec0d-fc8e-429b-8202-08ec2af86376\">\n",
              "    <div class=\"colab-df-container\">\n",
              "      <div>\n",
              "<style scoped>\n",
              "    .dataframe tbody tr th:only-of-type {\n",
              "        vertical-align: middle;\n",
              "    }\n",
              "\n",
              "    .dataframe tbody tr th {\n",
              "        vertical-align: top;\n",
              "    }\n",
              "\n",
              "    .dataframe thead th {\n",
              "        text-align: right;\n",
              "    }\n",
              "</style>\n",
              "<table border=\"1\" class=\"dataframe\">\n",
              "  <thead>\n",
              "    <tr style=\"text-align: right;\">\n",
              "      <th></th>\n",
              "      <th>Defect-ID in Roundcube Github issues repository</th>\n",
              "      <th>Issue Title</th>\n",
              "      <th>Issue Body</th>\n",
              "      <th>Defect Type Family using IEEE</th>\n",
              "      <th>Defect Type Family using ODC</th>\n",
              "    </tr>\n",
              "  </thead>\n",
              "  <tbody>\n",
              "    <tr>\n",
              "      <th>0</th>\n",
              "      <td>#4528</td>\n",
              "      <td>Wrong alert when uploading attachment over size</td>\n",
              "      <td>_Reported by @alecpl on 17 Apr 2014 15:33 UTC ...</td>\n",
              "      <td>ieee_logicData</td>\n",
              "      <td>control_flow</td>\n",
              "    </tr>\n",
              "    <tr>\n",
              "      <th>1</th>\n",
              "      <td>#4529</td>\n",
              "      <td>Recovery lost draft message ?</td>\n",
              "      <td>_Reported by L1Ntu on 17 Apr 2014 19:41 UTC as...</td>\n",
              "      <td>ieee_logicData</td>\n",
              "      <td>control_flow</td>\n",
              "    </tr>\n",
              "  </tbody>\n",
              "</table>\n",
              "</div>\n",
              "      <button class=\"colab-df-convert\" onclick=\"convertToInteractive('df-6dbaec0d-fc8e-429b-8202-08ec2af86376')\"\n",
              "              title=\"Convert this dataframe to an interactive table.\"\n",
              "              style=\"display:none;\">\n",
              "        \n",
              "  <svg xmlns=\"http://www.w3.org/2000/svg\" height=\"24px\"viewBox=\"0 0 24 24\"\n",
              "       width=\"24px\">\n",
              "    <path d=\"M0 0h24v24H0V0z\" fill=\"none\"/>\n",
              "    <path d=\"M18.56 5.44l.94 2.06.94-2.06 2.06-.94-2.06-.94-.94-2.06-.94 2.06-2.06.94zm-11 1L8.5 8.5l.94-2.06 2.06-.94-2.06-.94L8.5 2.5l-.94 2.06-2.06.94zm10 10l.94 2.06.94-2.06 2.06-.94-2.06-.94-.94-2.06-.94 2.06-2.06.94z\"/><path d=\"M17.41 7.96l-1.37-1.37c-.4-.4-.92-.59-1.43-.59-.52 0-1.04.2-1.43.59L10.3 9.45l-7.72 7.72c-.78.78-.78 2.05 0 2.83L4 21.41c.39.39.9.59 1.41.59.51 0 1.02-.2 1.41-.59l7.78-7.78 2.81-2.81c.8-.78.8-2.07 0-2.86zM5.41 20L4 18.59l7.72-7.72 1.47 1.35L5.41 20z\"/>\n",
              "  </svg>\n",
              "      </button>\n",
              "      \n",
              "  <style>\n",
              "    .colab-df-container {\n",
              "      display:flex;\n",
              "      flex-wrap:wrap;\n",
              "      gap: 12px;\n",
              "    }\n",
              "\n",
              "    .colab-df-convert {\n",
              "      background-color: #E8F0FE;\n",
              "      border: none;\n",
              "      border-radius: 50%;\n",
              "      cursor: pointer;\n",
              "      display: none;\n",
              "      fill: #1967D2;\n",
              "      height: 32px;\n",
              "      padding: 0 0 0 0;\n",
              "      width: 32px;\n",
              "    }\n",
              "\n",
              "    .colab-df-convert:hover {\n",
              "      background-color: #E2EBFA;\n",
              "      box-shadow: 0px 1px 2px rgba(60, 64, 67, 0.3), 0px 1px 3px 1px rgba(60, 64, 67, 0.15);\n",
              "      fill: #174EA6;\n",
              "    }\n",
              "\n",
              "    [theme=dark] .colab-df-convert {\n",
              "      background-color: #3B4455;\n",
              "      fill: #D2E3FC;\n",
              "    }\n",
              "\n",
              "    [theme=dark] .colab-df-convert:hover {\n",
              "      background-color: #434B5C;\n",
              "      box-shadow: 0px 1px 3px 1px rgba(0, 0, 0, 0.15);\n",
              "      filter: drop-shadow(0px 1px 2px rgba(0, 0, 0, 0.3));\n",
              "      fill: #FFFFFF;\n",
              "    }\n",
              "  </style>\n",
              "\n",
              "      <script>\n",
              "        const buttonEl =\n",
              "          document.querySelector('#df-6dbaec0d-fc8e-429b-8202-08ec2af86376 button.colab-df-convert');\n",
              "        buttonEl.style.display =\n",
              "          google.colab.kernel.accessAllowed ? 'block' : 'none';\n",
              "\n",
              "        async function convertToInteractive(key) {\n",
              "          const element = document.querySelector('#df-6dbaec0d-fc8e-429b-8202-08ec2af86376');\n",
              "          const dataTable =\n",
              "            await google.colab.kernel.invokeFunction('convertToInteractive',\n",
              "                                                     [key], {});\n",
              "          if (!dataTable) return;\n",
              "\n",
              "          const docLinkHtml = 'Like what you see? Visit the ' +\n",
              "            '<a target=\"_blank\" href=https://colab.research.google.com/notebooks/data_table.ipynb>data table notebook</a>'\n",
              "            + ' to learn more about interactive tables.';\n",
              "          element.innerHTML = '';\n",
              "          dataTable['output_type'] = 'display_data';\n",
              "          await google.colab.output.renderOutput(dataTable, element);\n",
              "          const docLink = document.createElement('div');\n",
              "          docLink.innerHTML = docLinkHtml;\n",
              "          element.appendChild(docLink);\n",
              "        }\n",
              "      </script>\n",
              "    </div>\n",
              "  </div>\n",
              "  "
            ]
          },
          "metadata": {},
          "execution_count": 4
        }
      ],
      "source": [
        "path = 'drive/MyDrive/Colab Notebooks/Week 6 (Software Bug Classification)/'\n",
        "\n",
        "df_raw = pd.read_csv(path+'issues_data.csv')\n",
        "print(df_raw.shape)\n",
        "df_raw.head(2)"
      ]
    },
    {
      "cell_type": "code",
      "execution_count": null,
      "metadata": {
        "id": "gbGi8TFG8MWy",
        "colab": {
          "base_uri": "https://localhost:8080/",
          "height": 208
        },
        "outputId": "69331964-5056-48b6-ff93-561c754aab06"
      },
      "outputs": [
        {
          "output_type": "execute_result",
          "data": {
            "text/plain": [
              "  Defect-ID in Roundcube Github issues repository  \\\n",
              "0                                           #4528   \n",
              "1                                           #4529   \n",
              "\n",
              "                                       Issue Title  \\\n",
              "0  Wrong alert when uploading attachment over size   \n",
              "1                    Recovery lost draft message ?   \n",
              "\n",
              "                                          Issue Body  \\\n",
              "0  _Reported by @alecpl on 17 Apr 2014 15:33 UTC ...   \n",
              "1  _Reported by L1Ntu on 17 Apr 2014 19:41 UTC as...   \n",
              "\n",
              "  Defect Type Family using IEEE Defect Type Family using ODC  \n",
              "0                ieee_logicData                 control_flow  \n",
              "1                ieee_logicData                 control_flow  "
            ],
            "text/html": [
              "\n",
              "  <div id=\"df-853ea03d-dec5-4bb3-98aa-a63b2d211fa3\">\n",
              "    <div class=\"colab-df-container\">\n",
              "      <div>\n",
              "<style scoped>\n",
              "    .dataframe tbody tr th:only-of-type {\n",
              "        vertical-align: middle;\n",
              "    }\n",
              "\n",
              "    .dataframe tbody tr th {\n",
              "        vertical-align: top;\n",
              "    }\n",
              "\n",
              "    .dataframe thead th {\n",
              "        text-align: right;\n",
              "    }\n",
              "</style>\n",
              "<table border=\"1\" class=\"dataframe\">\n",
              "  <thead>\n",
              "    <tr style=\"text-align: right;\">\n",
              "      <th></th>\n",
              "      <th>Defect-ID in Roundcube Github issues repository</th>\n",
              "      <th>Issue Title</th>\n",
              "      <th>Issue Body</th>\n",
              "      <th>Defect Type Family using IEEE</th>\n",
              "      <th>Defect Type Family using ODC</th>\n",
              "    </tr>\n",
              "  </thead>\n",
              "  <tbody>\n",
              "    <tr>\n",
              "      <th>0</th>\n",
              "      <td>#4528</td>\n",
              "      <td>Wrong alert when uploading attachment over size</td>\n",
              "      <td>_Reported by @alecpl on 17 Apr 2014 15:33 UTC ...</td>\n",
              "      <td>ieee_logicData</td>\n",
              "      <td>control_flow</td>\n",
              "    </tr>\n",
              "    <tr>\n",
              "      <th>1</th>\n",
              "      <td>#4529</td>\n",
              "      <td>Recovery lost draft message ?</td>\n",
              "      <td>_Reported by L1Ntu on 17 Apr 2014 19:41 UTC as...</td>\n",
              "      <td>ieee_logicData</td>\n",
              "      <td>control_flow</td>\n",
              "    </tr>\n",
              "  </tbody>\n",
              "</table>\n",
              "</div>\n",
              "      <button class=\"colab-df-convert\" onclick=\"convertToInteractive('df-853ea03d-dec5-4bb3-98aa-a63b2d211fa3')\"\n",
              "              title=\"Convert this dataframe to an interactive table.\"\n",
              "              style=\"display:none;\">\n",
              "        \n",
              "  <svg xmlns=\"http://www.w3.org/2000/svg\" height=\"24px\"viewBox=\"0 0 24 24\"\n",
              "       width=\"24px\">\n",
              "    <path d=\"M0 0h24v24H0V0z\" fill=\"none\"/>\n",
              "    <path d=\"M18.56 5.44l.94 2.06.94-2.06 2.06-.94-2.06-.94-.94-2.06-.94 2.06-2.06.94zm-11 1L8.5 8.5l.94-2.06 2.06-.94-2.06-.94L8.5 2.5l-.94 2.06-2.06.94zm10 10l.94 2.06.94-2.06 2.06-.94-2.06-.94-.94-2.06-.94 2.06-2.06.94z\"/><path d=\"M17.41 7.96l-1.37-1.37c-.4-.4-.92-.59-1.43-.59-.52 0-1.04.2-1.43.59L10.3 9.45l-7.72 7.72c-.78.78-.78 2.05 0 2.83L4 21.41c.39.39.9.59 1.41.59.51 0 1.02-.2 1.41-.59l7.78-7.78 2.81-2.81c.8-.78.8-2.07 0-2.86zM5.41 20L4 18.59l7.72-7.72 1.47 1.35L5.41 20z\"/>\n",
              "  </svg>\n",
              "      </button>\n",
              "      \n",
              "  <style>\n",
              "    .colab-df-container {\n",
              "      display:flex;\n",
              "      flex-wrap:wrap;\n",
              "      gap: 12px;\n",
              "    }\n",
              "\n",
              "    .colab-df-convert {\n",
              "      background-color: #E8F0FE;\n",
              "      border: none;\n",
              "      border-radius: 50%;\n",
              "      cursor: pointer;\n",
              "      display: none;\n",
              "      fill: #1967D2;\n",
              "      height: 32px;\n",
              "      padding: 0 0 0 0;\n",
              "      width: 32px;\n",
              "    }\n",
              "\n",
              "    .colab-df-convert:hover {\n",
              "      background-color: #E2EBFA;\n",
              "      box-shadow: 0px 1px 2px rgba(60, 64, 67, 0.3), 0px 1px 3px 1px rgba(60, 64, 67, 0.15);\n",
              "      fill: #174EA6;\n",
              "    }\n",
              "\n",
              "    [theme=dark] .colab-df-convert {\n",
              "      background-color: #3B4455;\n",
              "      fill: #D2E3FC;\n",
              "    }\n",
              "\n",
              "    [theme=dark] .colab-df-convert:hover {\n",
              "      background-color: #434B5C;\n",
              "      box-shadow: 0px 1px 3px 1px rgba(0, 0, 0, 0.15);\n",
              "      filter: drop-shadow(0px 1px 2px rgba(0, 0, 0, 0.3));\n",
              "      fill: #FFFFFF;\n",
              "    }\n",
              "  </style>\n",
              "\n",
              "      <script>\n",
              "        const buttonEl =\n",
              "          document.querySelector('#df-853ea03d-dec5-4bb3-98aa-a63b2d211fa3 button.colab-df-convert');\n",
              "        buttonEl.style.display =\n",
              "          google.colab.kernel.accessAllowed ? 'block' : 'none';\n",
              "\n",
              "        async function convertToInteractive(key) {\n",
              "          const element = document.querySelector('#df-853ea03d-dec5-4bb3-98aa-a63b2d211fa3');\n",
              "          const dataTable =\n",
              "            await google.colab.kernel.invokeFunction('convertToInteractive',\n",
              "                                                     [key], {});\n",
              "          if (!dataTable) return;\n",
              "\n",
              "          const docLinkHtml = 'Like what you see? Visit the ' +\n",
              "            '<a target=\"_blank\" href=https://colab.research.google.com/notebooks/data_table.ipynb>data table notebook</a>'\n",
              "            + ' to learn more about interactive tables.';\n",
              "          element.innerHTML = '';\n",
              "          dataTable['output_type'] = 'display_data';\n",
              "          await google.colab.output.renderOutput(dataTable, element);\n",
              "          const docLink = document.createElement('div');\n",
              "          docLink.innerHTML = docLinkHtml;\n",
              "          element.appendChild(docLink);\n",
              "        }\n",
              "      </script>\n",
              "    </div>\n",
              "  </div>\n",
              "  "
            ]
          },
          "metadata": {},
          "execution_count": 263
        }
      ],
      "source": [
        "df = df_raw.copy()\n",
        "df.head(2)"
      ]
    },
    {
      "cell_type": "markdown",
      "metadata": {
        "id": "mvHJsdQB4tYi"
      },
      "source": [
        "## Graded Exercises (10 points)"
      ]
    },
    {
      "cell_type": "markdown",
      "metadata": {
        "id": "M-wokqH94zBd"
      },
      "source": [
        "### Exercise 1 (1 point): Basic EDA\n",
        "\n",
        "- Check the shape of the data\n",
        "- Check the nulls present in each field\n",
        "- Check the unique number of entries per field\n",
        "- Drop the features that are either redundant or that do not help in modelling\n",
        "\n",
        "\n",
        "**Hint** : Use the `pandas` module"
      ]
    },
    {
      "cell_type": "code",
      "execution_count": null,
      "metadata": {
        "id": "dI8LpqKkSbNw",
        "colab": {
          "base_uri": "https://localhost:8080/"
        },
        "outputId": "8de33a91-e2c5-48f4-f53e-84410de0b002"
      },
      "outputs": [
        {
          "output_type": "execute_result",
          "data": {
            "text/plain": [
              "(525, 5)"
            ]
          },
          "metadata": {},
          "execution_count": 264
        }
      ],
      "source": [
        "# Check the shape of the data\n",
        "# YOUR CODE HERE\n",
        "df.shape"
      ]
    },
    {
      "cell_type": "code",
      "source": [
        "# Check the nulls present in each field\n",
        "# YOUR CODE HERE\n",
        "df.isnull().sum()"
      ],
      "metadata": {
        "id": "jZgdhhHn4VpU",
        "colab": {
          "base_uri": "https://localhost:8080/"
        },
        "outputId": "858c6aaf-aaf0-40be-f564-9219281f0ba7"
      },
      "execution_count": null,
      "outputs": [
        {
          "output_type": "execute_result",
          "data": {
            "text/plain": [
              "Defect-ID in Roundcube Github issues repository    0\n",
              "Issue Title                                        0\n",
              "Issue Body                                         0\n",
              "Defect Type Family using IEEE                      0\n",
              "Defect Type Family using ODC                       0\n",
              "dtype: int64"
            ]
          },
          "metadata": {},
          "execution_count": 265
        }
      ]
    },
    {
      "cell_type": "code",
      "source": [
        "# Check the unique number of entries per field\n",
        "# YOUR CODE HERE\n",
        "for col in df.columns:\n",
        "  print(col,df[col].nunique(dropna = False))"
      ],
      "metadata": {
        "id": "o3pW2qjT4Zhw",
        "colab": {
          "base_uri": "https://localhost:8080/"
        },
        "outputId": "de76dfcd-4fd5-481f-a2ae-a4c6054d2ec0"
      },
      "execution_count": null,
      "outputs": [
        {
          "output_type": "stream",
          "name": "stdout",
          "text": [
            "Defect-ID in Roundcube Github issues repository 525\n",
            "Issue Title 524\n",
            "Issue Body 525\n",
            "Defect Type Family using IEEE 6\n",
            "Defect Type Family using ODC 3\n"
          ]
        }
      ]
    },
    {
      "cell_type": "code",
      "source": [
        "# Check the statistics of the data for each column\n",
        "# YOUR CODE HERE\n",
        "cat_cols=df.select_dtypes(include=object).columns.tolist()\n",
        "cat_df=pd.DataFrame(df[cat_cols].melt(var_name='column', value_name='value')\n",
        "                    .value_counts()).rename(columns={0: 'count'}).sort_values(by=['column', 'count'])\n",
        "display(df.select_dtypes(include=object).describe())\n",
        "display(cat_df)"
      ],
      "metadata": {
        "id": "d2tzzX_T4eZu",
        "colab": {
          "base_uri": "https://localhost:8080/",
          "height": 692
        },
        "outputId": "dfbb55c5-04ca-4e35-d2c8-6ef7a1303d79"
      },
      "execution_count": null,
      "outputs": [
        {
          "output_type": "display_data",
          "data": {
            "text/plain": [
              "       Defect-ID in Roundcube Github issues repository           Issue Title  \\\n",
              "count                                              525                   525   \n",
              "unique                                             525                   524   \n",
              "top                                              #4528  Accessibility issues   \n",
              "freq                                                 1                     2   \n",
              "\n",
              "                                               Issue Body  \\\n",
              "count                                                 525   \n",
              "unique                                                525   \n",
              "top     _Reported by @alecpl on 17 Apr 2014 15:33 UTC ...   \n",
              "freq                                                    1   \n",
              "\n",
              "       Defect Type Family using IEEE Defect Type Family using ODC  \n",
              "count                            525                          525  \n",
              "unique                             6                            3  \n",
              "top                   ieee_logicData                 control_flow  \n",
              "freq                             347                          394  "
            ],
            "text/html": [
              "\n",
              "  <div id=\"df-91ef3c47-4c8f-4907-9a51-d5f8cdd876a1\">\n",
              "    <div class=\"colab-df-container\">\n",
              "      <div>\n",
              "<style scoped>\n",
              "    .dataframe tbody tr th:only-of-type {\n",
              "        vertical-align: middle;\n",
              "    }\n",
              "\n",
              "    .dataframe tbody tr th {\n",
              "        vertical-align: top;\n",
              "    }\n",
              "\n",
              "    .dataframe thead th {\n",
              "        text-align: right;\n",
              "    }\n",
              "</style>\n",
              "<table border=\"1\" class=\"dataframe\">\n",
              "  <thead>\n",
              "    <tr style=\"text-align: right;\">\n",
              "      <th></th>\n",
              "      <th>Defect-ID in Roundcube Github issues repository</th>\n",
              "      <th>Issue Title</th>\n",
              "      <th>Issue Body</th>\n",
              "      <th>Defect Type Family using IEEE</th>\n",
              "      <th>Defect Type Family using ODC</th>\n",
              "    </tr>\n",
              "  </thead>\n",
              "  <tbody>\n",
              "    <tr>\n",
              "      <th>count</th>\n",
              "      <td>525</td>\n",
              "      <td>525</td>\n",
              "      <td>525</td>\n",
              "      <td>525</td>\n",
              "      <td>525</td>\n",
              "    </tr>\n",
              "    <tr>\n",
              "      <th>unique</th>\n",
              "      <td>525</td>\n",
              "      <td>524</td>\n",
              "      <td>525</td>\n",
              "      <td>6</td>\n",
              "      <td>3</td>\n",
              "    </tr>\n",
              "    <tr>\n",
              "      <th>top</th>\n",
              "      <td>#4528</td>\n",
              "      <td>Accessibility issues</td>\n",
              "      <td>_Reported by @alecpl on 17 Apr 2014 15:33 UTC ...</td>\n",
              "      <td>ieee_logicData</td>\n",
              "      <td>control_flow</td>\n",
              "    </tr>\n",
              "    <tr>\n",
              "      <th>freq</th>\n",
              "      <td>1</td>\n",
              "      <td>2</td>\n",
              "      <td>1</td>\n",
              "      <td>347</td>\n",
              "      <td>394</td>\n",
              "    </tr>\n",
              "  </tbody>\n",
              "</table>\n",
              "</div>\n",
              "      <button class=\"colab-df-convert\" onclick=\"convertToInteractive('df-91ef3c47-4c8f-4907-9a51-d5f8cdd876a1')\"\n",
              "              title=\"Convert this dataframe to an interactive table.\"\n",
              "              style=\"display:none;\">\n",
              "        \n",
              "  <svg xmlns=\"http://www.w3.org/2000/svg\" height=\"24px\"viewBox=\"0 0 24 24\"\n",
              "       width=\"24px\">\n",
              "    <path d=\"M0 0h24v24H0V0z\" fill=\"none\"/>\n",
              "    <path d=\"M18.56 5.44l.94 2.06.94-2.06 2.06-.94-2.06-.94-.94-2.06-.94 2.06-2.06.94zm-11 1L8.5 8.5l.94-2.06 2.06-.94-2.06-.94L8.5 2.5l-.94 2.06-2.06.94zm10 10l.94 2.06.94-2.06 2.06-.94-2.06-.94-.94-2.06-.94 2.06-2.06.94z\"/><path d=\"M17.41 7.96l-1.37-1.37c-.4-.4-.92-.59-1.43-.59-.52 0-1.04.2-1.43.59L10.3 9.45l-7.72 7.72c-.78.78-.78 2.05 0 2.83L4 21.41c.39.39.9.59 1.41.59.51 0 1.02-.2 1.41-.59l7.78-7.78 2.81-2.81c.8-.78.8-2.07 0-2.86zM5.41 20L4 18.59l7.72-7.72 1.47 1.35L5.41 20z\"/>\n",
              "  </svg>\n",
              "      </button>\n",
              "      \n",
              "  <style>\n",
              "    .colab-df-container {\n",
              "      display:flex;\n",
              "      flex-wrap:wrap;\n",
              "      gap: 12px;\n",
              "    }\n",
              "\n",
              "    .colab-df-convert {\n",
              "      background-color: #E8F0FE;\n",
              "      border: none;\n",
              "      border-radius: 50%;\n",
              "      cursor: pointer;\n",
              "      display: none;\n",
              "      fill: #1967D2;\n",
              "      height: 32px;\n",
              "      padding: 0 0 0 0;\n",
              "      width: 32px;\n",
              "    }\n",
              "\n",
              "    .colab-df-convert:hover {\n",
              "      background-color: #E2EBFA;\n",
              "      box-shadow: 0px 1px 2px rgba(60, 64, 67, 0.3), 0px 1px 3px 1px rgba(60, 64, 67, 0.15);\n",
              "      fill: #174EA6;\n",
              "    }\n",
              "\n",
              "    [theme=dark] .colab-df-convert {\n",
              "      background-color: #3B4455;\n",
              "      fill: #D2E3FC;\n",
              "    }\n",
              "\n",
              "    [theme=dark] .colab-df-convert:hover {\n",
              "      background-color: #434B5C;\n",
              "      box-shadow: 0px 1px 3px 1px rgba(0, 0, 0, 0.15);\n",
              "      filter: drop-shadow(0px 1px 2px rgba(0, 0, 0, 0.3));\n",
              "      fill: #FFFFFF;\n",
              "    }\n",
              "  </style>\n",
              "\n",
              "      <script>\n",
              "        const buttonEl =\n",
              "          document.querySelector('#df-91ef3c47-4c8f-4907-9a51-d5f8cdd876a1 button.colab-df-convert');\n",
              "        buttonEl.style.display =\n",
              "          google.colab.kernel.accessAllowed ? 'block' : 'none';\n",
              "\n",
              "        async function convertToInteractive(key) {\n",
              "          const element = document.querySelector('#df-91ef3c47-4c8f-4907-9a51-d5f8cdd876a1');\n",
              "          const dataTable =\n",
              "            await google.colab.kernel.invokeFunction('convertToInteractive',\n",
              "                                                     [key], {});\n",
              "          if (!dataTable) return;\n",
              "\n",
              "          const docLinkHtml = 'Like what you see? Visit the ' +\n",
              "            '<a target=\"_blank\" href=https://colab.research.google.com/notebooks/data_table.ipynb>data table notebook</a>'\n",
              "            + ' to learn more about interactive tables.';\n",
              "          element.innerHTML = '';\n",
              "          dataTable['output_type'] = 'display_data';\n",
              "          await google.colab.output.renderOutput(dataTable, element);\n",
              "          const docLink = document.createElement('div');\n",
              "          docLink.innerHTML = docLinkHtml;\n",
              "          element.appendChild(docLink);\n",
              "        }\n",
              "      </script>\n",
              "    </div>\n",
              "  </div>\n",
              "  "
            ]
          },
          "metadata": {}
        },
        {
          "output_type": "display_data",
          "data": {
            "text/plain": [
              "                                                                                  count\n",
              "column                        value                                                    \n",
              "Defect Type Family using IEEE ieee_description                                        4\n",
              "                              ieee_standards                                          6\n",
              "                              ieee_syntax                                            18\n",
              "                              ieee_otherBuildConfigInstall                           48\n",
              "                              ieee_interface                                        102\n",
              "...                                                                                 ...\n",
              "Issue Title                   PDO::quote() bugs on postgres/sqlite/mssql              1\n",
              "                              Option to add a new contact should be inactive ...      1\n",
              "                              Optimize framed HTML responses                          1\n",
              "                              your own mailadress is removed from cc when you...      1\n",
              "                              Accessibility issues                                    2\n",
              "\n",
              "[1583 rows x 1 columns]"
            ],
            "text/html": [
              "\n",
              "  <div id=\"df-7d42a95a-3c60-4179-91fe-37a747ed2e8f\">\n",
              "    <div class=\"colab-df-container\">\n",
              "      <div>\n",
              "<style scoped>\n",
              "    .dataframe tbody tr th:only-of-type {\n",
              "        vertical-align: middle;\n",
              "    }\n",
              "\n",
              "    .dataframe tbody tr th {\n",
              "        vertical-align: top;\n",
              "    }\n",
              "\n",
              "    .dataframe thead th {\n",
              "        text-align: right;\n",
              "    }\n",
              "</style>\n",
              "<table border=\"1\" class=\"dataframe\">\n",
              "  <thead>\n",
              "    <tr style=\"text-align: right;\">\n",
              "      <th></th>\n",
              "      <th></th>\n",
              "      <th>count</th>\n",
              "    </tr>\n",
              "    <tr>\n",
              "      <th>column</th>\n",
              "      <th>value</th>\n",
              "      <th></th>\n",
              "    </tr>\n",
              "  </thead>\n",
              "  <tbody>\n",
              "    <tr>\n",
              "      <th rowspan=\"5\" valign=\"top\">Defect Type Family using IEEE</th>\n",
              "      <th>ieee_description</th>\n",
              "      <td>4</td>\n",
              "    </tr>\n",
              "    <tr>\n",
              "      <th>ieee_standards</th>\n",
              "      <td>6</td>\n",
              "    </tr>\n",
              "    <tr>\n",
              "      <th>ieee_syntax</th>\n",
              "      <td>18</td>\n",
              "    </tr>\n",
              "    <tr>\n",
              "      <th>ieee_otherBuildConfigInstall</th>\n",
              "      <td>48</td>\n",
              "    </tr>\n",
              "    <tr>\n",
              "      <th>ieee_interface</th>\n",
              "      <td>102</td>\n",
              "    </tr>\n",
              "    <tr>\n",
              "      <th>...</th>\n",
              "      <th>...</th>\n",
              "      <td>...</td>\n",
              "    </tr>\n",
              "    <tr>\n",
              "      <th rowspan=\"5\" valign=\"top\">Issue Title</th>\n",
              "      <th>PDO::quote() bugs on postgres/sqlite/mssql</th>\n",
              "      <td>1</td>\n",
              "    </tr>\n",
              "    <tr>\n",
              "      <th>Option to add a new contact should be inactive for read-only addressbooks</th>\n",
              "      <td>1</td>\n",
              "    </tr>\n",
              "    <tr>\n",
              "      <th>Optimize framed HTML responses</th>\n",
              "      <td>1</td>\n",
              "    </tr>\n",
              "    <tr>\n",
              "      <th>your own mailadress is removed from cc when you save a draft</th>\n",
              "      <td>1</td>\n",
              "    </tr>\n",
              "    <tr>\n",
              "      <th>Accessibility issues</th>\n",
              "      <td>2</td>\n",
              "    </tr>\n",
              "  </tbody>\n",
              "</table>\n",
              "<p>1583 rows × 1 columns</p>\n",
              "</div>\n",
              "      <button class=\"colab-df-convert\" onclick=\"convertToInteractive('df-7d42a95a-3c60-4179-91fe-37a747ed2e8f')\"\n",
              "              title=\"Convert this dataframe to an interactive table.\"\n",
              "              style=\"display:none;\">\n",
              "        \n",
              "  <svg xmlns=\"http://www.w3.org/2000/svg\" height=\"24px\"viewBox=\"0 0 24 24\"\n",
              "       width=\"24px\">\n",
              "    <path d=\"M0 0h24v24H0V0z\" fill=\"none\"/>\n",
              "    <path d=\"M18.56 5.44l.94 2.06.94-2.06 2.06-.94-2.06-.94-.94-2.06-.94 2.06-2.06.94zm-11 1L8.5 8.5l.94-2.06 2.06-.94-2.06-.94L8.5 2.5l-.94 2.06-2.06.94zm10 10l.94 2.06.94-2.06 2.06-.94-2.06-.94-.94-2.06-.94 2.06-2.06.94z\"/><path d=\"M17.41 7.96l-1.37-1.37c-.4-.4-.92-.59-1.43-.59-.52 0-1.04.2-1.43.59L10.3 9.45l-7.72 7.72c-.78.78-.78 2.05 0 2.83L4 21.41c.39.39.9.59 1.41.59.51 0 1.02-.2 1.41-.59l7.78-7.78 2.81-2.81c.8-.78.8-2.07 0-2.86zM5.41 20L4 18.59l7.72-7.72 1.47 1.35L5.41 20z\"/>\n",
              "  </svg>\n",
              "      </button>\n",
              "      \n",
              "  <style>\n",
              "    .colab-df-container {\n",
              "      display:flex;\n",
              "      flex-wrap:wrap;\n",
              "      gap: 12px;\n",
              "    }\n",
              "\n",
              "    .colab-df-convert {\n",
              "      background-color: #E8F0FE;\n",
              "      border: none;\n",
              "      border-radius: 50%;\n",
              "      cursor: pointer;\n",
              "      display: none;\n",
              "      fill: #1967D2;\n",
              "      height: 32px;\n",
              "      padding: 0 0 0 0;\n",
              "      width: 32px;\n",
              "    }\n",
              "\n",
              "    .colab-df-convert:hover {\n",
              "      background-color: #E2EBFA;\n",
              "      box-shadow: 0px 1px 2px rgba(60, 64, 67, 0.3), 0px 1px 3px 1px rgba(60, 64, 67, 0.15);\n",
              "      fill: #174EA6;\n",
              "    }\n",
              "\n",
              "    [theme=dark] .colab-df-convert {\n",
              "      background-color: #3B4455;\n",
              "      fill: #D2E3FC;\n",
              "    }\n",
              "\n",
              "    [theme=dark] .colab-df-convert:hover {\n",
              "      background-color: #434B5C;\n",
              "      box-shadow: 0px 1px 3px 1px rgba(0, 0, 0, 0.15);\n",
              "      filter: drop-shadow(0px 1px 2px rgba(0, 0, 0, 0.3));\n",
              "      fill: #FFFFFF;\n",
              "    }\n",
              "  </style>\n",
              "\n",
              "      <script>\n",
              "        const buttonEl =\n",
              "          document.querySelector('#df-7d42a95a-3c60-4179-91fe-37a747ed2e8f button.colab-df-convert');\n",
              "        buttonEl.style.display =\n",
              "          google.colab.kernel.accessAllowed ? 'block' : 'none';\n",
              "\n",
              "        async function convertToInteractive(key) {\n",
              "          const element = document.querySelector('#df-7d42a95a-3c60-4179-91fe-37a747ed2e8f');\n",
              "          const dataTable =\n",
              "            await google.colab.kernel.invokeFunction('convertToInteractive',\n",
              "                                                     [key], {});\n",
              "          if (!dataTable) return;\n",
              "\n",
              "          const docLinkHtml = 'Like what you see? Visit the ' +\n",
              "            '<a target=\"_blank\" href=https://colab.research.google.com/notebooks/data_table.ipynb>data table notebook</a>'\n",
              "            + ' to learn more about interactive tables.';\n",
              "          element.innerHTML = '';\n",
              "          dataTable['output_type'] = 'display_data';\n",
              "          await google.colab.output.renderOutput(dataTable, element);\n",
              "          const docLink = document.createElement('div');\n",
              "          docLink.innerHTML = docLinkHtml;\n",
              "          element.appendChild(docLink);\n",
              "        }\n",
              "      </script>\n",
              "    </div>\n",
              "  </div>\n",
              "  "
            ]
          },
          "metadata": {}
        }
      ]
    },
    {
      "cell_type": "code",
      "source": [
        "# Remove the unwanted columns\n",
        "# YOUR CODE HERE\n",
        "df = df.drop([\"Defect-ID in Roundcube Github issues repository\"], axis=1)"
      ],
      "metadata": {
        "id": "dl5YI07NT3RY"
      },
      "execution_count": null,
      "outputs": []
    },
    {
      "cell_type": "markdown",
      "metadata": {
        "id": "-F_8MS1xOIdg"
      },
      "source": [
        "### Exercise 2 (3 Marks): Text Pre-Processing for Feature Columns\n",
        "\n",
        "For each row of the data, write **functions** perform the following steps seperately for the feature Data columns - `Issue Title` and `Issue Body`\n",
        "\n"
      ]
    },
    {
      "cell_type": "code",
      "source": [
        "#stopwords = nltk.corpus.stopwords.words('english')\n",
        "#print(stopwords)"
      ],
      "metadata": {
        "id": "gfrGKh9QOEXY"
      },
      "execution_count": null,
      "outputs": []
    },
    {
      "cell_type": "markdown",
      "source": [
        "##### **Function - 1: (To be performed for `Issue Title` ONLY)**\n",
        "\n",
        "Hint: The following steps will be present in both the functions\n",
        "\n",
        "* Make all the texts to Lower case\n",
        "* Remove punctuations, numbers, symbols and other emojis and replace with empty spaces. \n",
        "\n",
        "  This is done to ensure only the text is retained.\n",
        "* Strip the excess spaces\n",
        "* Remove the stop words using english stop words of nltk library\n",
        "* Strip the excess spaces\n",
        "* Remove words smaller than 3 letters (example: a, i , n, it, js, ab etc. )"
      ],
      "metadata": {
        "id": "7Noj9heBpDFk"
      }
    },
    {
      "cell_type": "code",
      "source": [
        "def tp_title(text: str) -> str:\n",
        "    def is_valid_word(word: str) -> bool:\n",
        "        valid_patterns = {'->', '=>', '?:',}\n",
        "        return word in valid_patterns or (word.isascii())\n",
        "\n",
        "    def clean(word: str) -> str:\n",
        "        strip_chars = string.punctuation + ' '\n",
        "        return word.strip(strip_chars)\n",
        "\n",
        "    STOPWORDS = nltk.corpus.stopwords.words('english')\n",
        "\n",
        "    stop_words_eng = set(STOPWORDS)\n",
        "    return ' '.join(clean(word) for word in text.lower().split() if is_valid_word(word) and word not in stop_words_eng)"
      ],
      "metadata": {
        "id": "XGV3m50pNvvm"
      },
      "execution_count": null,
      "outputs": []
    },
    {
      "cell_type": "code",
      "source": [
        "df['Issue Title'] = df['Issue Title'].apply(lambda x: tp_title(x))"
      ],
      "metadata": {
        "id": "ZEIrCPLpeaeu"
      },
      "execution_count": null,
      "outputs": []
    },
    {
      "cell_type": "code",
      "source": [
        "df['Issue Title']"
      ],
      "metadata": {
        "colab": {
          "base_uri": "https://localhost:8080/"
        },
        "id": "0AmMSoWt78oq",
        "outputId": "11ca7b92-633e-4008-ef5c-5ceba5f83bca"
      },
      "execution_count": null,
      "outputs": [
        {
          "output_type": "execute_result",
          "data": {
            "text/plain": [
              "0                  wrong alert uploading attachment size\n",
              "1                           recovery lost draft message \n",
              "2      switching html text initially composing messag...\n",
              "3                            problem raw message headers\n",
              "4                  followup-to always blank sending mail\n",
              "                             ...                        \n",
              "520          can't import contact csv thunderbird 17.0.5\n",
              "521                       alter message-id draft sending\n",
              "522         two possible minor bugs rcube_mime::wordwrap\n",
              "523      could load message server error upgrading 0.9.2\n",
              "524                pdo::quote bugs postgres/sqlite/mssql\n",
              "Name: Issue Title, Length: 525, dtype: object"
            ]
          },
          "metadata": {},
          "execution_count": 274
        }
      ]
    },
    {
      "cell_type": "markdown",
      "source": [
        "##### **Function - 2 (To be performed for `Issue Body` ONLY)**\n",
        "\n",
        "Hint: Either copy paste the steps of Function-1 or call the function and add the below steps\n",
        "\n",
        "* Split lines \n",
        "* Remove first and last lines such as \n",
        "\n",
        "  -`_Reported by L1Ntu on 17 Apr 2014 19:41 UTC as Trac ticket #1489818_`\n",
        "\n",
        "  -`_Migrated-From: http://trac.roundcube.net/ticket/1489818_`\n",
        "\n",
        "  by replacing with empty/no space - `\" \"` or `\"\"`\n",
        "* Remove lines containing urls\n",
        "\n",
        "  (**Hint**: it contains `http`,`www.`, `.com`, `.net` etc) by replacing with empty/no space\n",
        "* Join back the lines with a space `\" \"`\n",
        "* Strip the excess spaces\n",
        "\n",
        "**Hint:** For the below tasks, Copy paste the lines of code from above `Function-1`\n",
        "* Make all the texts to Lower case\n",
        "* Remove punctuations, numbers, symbols and other emojis and replace with empty spaces. \n",
        "\n",
        "  This is done to ensure only the text is retained.\n",
        "* Strip the excess spaces\n",
        "* Remove the stop words using english stop words of nltk library\n",
        "* Strip the excess spaces\n",
        "* Remove words smaller than 3 letters (example: a, i , n, it, js, ab etc. )\n",
        "* Strip the excess spaces\n",
        "* If the entry contains only a space `\" \"`, replace it with no character `\"\"`"
      ],
      "metadata": {
        "id": "0chK-YFGpDcv"
      }
    },
    {
      "cell_type": "markdown",
      "source": [
        "#### Using the functions: \n",
        "\n",
        "For each Use the above 2 functions on respective columns, to achieve the desired tasks."
      ],
      "metadata": {
        "id": "3UzV1DtrpTsB"
      }
    },
    {
      "cell_type": "code",
      "source": [
        "def tp_body(txt: str) -> str:\n",
        "    def not_metadata(txt: str) -> bool:\n",
        "        return not (txt.startswith('_') and txt.endswith('_'))\n",
        "\n",
        "    def clean(txt: str) -> str:\n",
        "        def not_url(txt: str) -> bool:\n",
        "            urls = {\"www\", \"http\", \".net\", \".com\"}\n",
        "            return not any(url in txt for url in urls)\n",
        "        return ' '.join(word for word in tp_title(txt).split() if not_url(word))\n",
        "\n",
        "    lines = txt.replace('\\r', '').split('\\n')\n",
        "    return ' '.join(clean(line) for line in lines if not_metadata(line)).strip()\n"
      ],
      "metadata": {
        "id": "ruOuDCPNzxfv"
      },
      "execution_count": null,
      "outputs": []
    },
    {
      "cell_type": "code",
      "source": [
        "df['Issue Body'] = df['Issue Body'].apply(lambda x: tp_body(x))\n",
        "df['Issue Body']"
      ],
      "metadata": {
        "colab": {
          "base_uri": "https://localhost:8080/"
        },
        "id": "wQ4dGIX0FBfX",
        "outputId": "9080805b-61ec-49be-88b3-53fe27804c54"
      },
      "execution_count": null,
      "outputs": [
        {
          "output_type": "execute_result",
          "data": {
            "text/plain": [
              "0      try upload file big see error message alert ap...\n",
              "1      updating 0.9.4 1.0.0 click compose popup    re...\n",
              "2      composing new message default format html swit...\n",
              "3      hello  want toggle raw message headers roundcu...\n",
              "4      composing mail choose add followup-to address ...\n",
              "                             ...                        \n",
              "520    trying import contact csv format nothing happe...\n",
              "521    roundcube generate new message-id necessary rf...\n",
              "522    hi there  far tell may two glitches rcube_mime...\n",
              "523    i'm issue viewing messages html attachments se...\n",
              "524    makes roundcube caching working serialized str...\n",
              "Name: Issue Body, Length: 525, dtype: object"
            ]
          },
          "metadata": {},
          "execution_count": 276
        }
      ]
    },
    {
      "cell_type": "code",
      "source": [
        "# Drop all the rows that have no content in them\n",
        "# YOUR CODE HERE\n",
        "df.isnull().sum()"
      ],
      "metadata": {
        "id": "CCKHCbw8NVih",
        "colab": {
          "base_uri": "https://localhost:8080/"
        },
        "outputId": "05d1071e-29f6-4875-a179-07bcb64203e4"
      },
      "execution_count": null,
      "outputs": [
        {
          "output_type": "execute_result",
          "data": {
            "text/plain": [
              "Issue Title                      0\n",
              "Issue Body                       0\n",
              "Defect Type Family using IEEE    0\n",
              "Defect Type Family using ODC     0\n",
              "dtype: int64"
            ]
          },
          "metadata": {},
          "execution_count": 282
        }
      ]
    },
    {
      "cell_type": "code",
      "source": [
        "df"
      ],
      "metadata": {
        "colab": {
          "base_uri": "https://localhost:8080/",
          "height": 659
        },
        "id": "GFRzndLHShbR",
        "outputId": "a56fa9f2-830b-421f-a2da-f25b20adca7e"
      },
      "execution_count": null,
      "outputs": [
        {
          "output_type": "execute_result",
          "data": {
            "text/plain": [
              "                                           Issue Title  \\\n",
              "0                wrong alert uploading attachment size   \n",
              "1                         recovery lost draft message    \n",
              "2    switching html text initially composing messag...   \n",
              "3                          problem raw message headers   \n",
              "4                followup-to always blank sending mail   \n",
              "..                                                 ...   \n",
              "520        can't import contact csv thunderbird 17.0.5   \n",
              "521                     alter message-id draft sending   \n",
              "522       two possible minor bugs rcube_mime::wordwrap   \n",
              "523    could load message server error upgrading 0.9.2   \n",
              "524              pdo::quote bugs postgres/sqlite/mssql   \n",
              "\n",
              "                                            Issue Body  \\\n",
              "0    try upload file big see error message alert ap...   \n",
              "1    updating 0.9.4 1.0.0 click compose popup    re...   \n",
              "2    composing new message default format html swit...   \n",
              "3    hello  want toggle raw message headers roundcu...   \n",
              "4    composing mail choose add followup-to address ...   \n",
              "..                                                 ...   \n",
              "520  trying import contact csv format nothing happe...   \n",
              "521  roundcube generate new message-id necessary rf...   \n",
              "522  hi there  far tell may two glitches rcube_mime...   \n",
              "523  i'm issue viewing messages html attachments se...   \n",
              "524  makes roundcube caching working serialized str...   \n",
              "\n",
              "    Defect Type Family using IEEE Defect Type Family using ODC  \n",
              "0                  ieee_logicData                 control_flow  \n",
              "1                  ieee_logicData                 control_flow  \n",
              "2                  ieee_logicData                 control_flow  \n",
              "3                  ieee_logicData                 control_flow  \n",
              "4                  ieee_logicData                 control_flow  \n",
              "..                            ...                          ...  \n",
              "520                ieee_interface                   structural  \n",
              "521                ieee_logicData                 control_flow  \n",
              "522                ieee_logicData                 control_flow  \n",
              "523                ieee_logicData                 control_flow  \n",
              "524                ieee_interface                   structural  \n",
              "\n",
              "[525 rows x 4 columns]"
            ],
            "text/html": [
              "\n",
              "  <div id=\"df-846cf50f-7d3b-4133-9ce2-13ba9e1457d3\">\n",
              "    <div class=\"colab-df-container\">\n",
              "      <div>\n",
              "<style scoped>\n",
              "    .dataframe tbody tr th:only-of-type {\n",
              "        vertical-align: middle;\n",
              "    }\n",
              "\n",
              "    .dataframe tbody tr th {\n",
              "        vertical-align: top;\n",
              "    }\n",
              "\n",
              "    .dataframe thead th {\n",
              "        text-align: right;\n",
              "    }\n",
              "</style>\n",
              "<table border=\"1\" class=\"dataframe\">\n",
              "  <thead>\n",
              "    <tr style=\"text-align: right;\">\n",
              "      <th></th>\n",
              "      <th>Issue Title</th>\n",
              "      <th>Issue Body</th>\n",
              "      <th>Defect Type Family using IEEE</th>\n",
              "      <th>Defect Type Family using ODC</th>\n",
              "    </tr>\n",
              "  </thead>\n",
              "  <tbody>\n",
              "    <tr>\n",
              "      <th>0</th>\n",
              "      <td>wrong alert uploading attachment size</td>\n",
              "      <td>try upload file big see error message alert ap...</td>\n",
              "      <td>ieee_logicData</td>\n",
              "      <td>control_flow</td>\n",
              "    </tr>\n",
              "    <tr>\n",
              "      <th>1</th>\n",
              "      <td>recovery lost draft message</td>\n",
              "      <td>updating 0.9.4 1.0.0 click compose popup    re...</td>\n",
              "      <td>ieee_logicData</td>\n",
              "      <td>control_flow</td>\n",
              "    </tr>\n",
              "    <tr>\n",
              "      <th>2</th>\n",
              "      <td>switching html text initially composing messag...</td>\n",
              "      <td>composing new message default format html swit...</td>\n",
              "      <td>ieee_logicData</td>\n",
              "      <td>control_flow</td>\n",
              "    </tr>\n",
              "    <tr>\n",
              "      <th>3</th>\n",
              "      <td>problem raw message headers</td>\n",
              "      <td>hello  want toggle raw message headers roundcu...</td>\n",
              "      <td>ieee_logicData</td>\n",
              "      <td>control_flow</td>\n",
              "    </tr>\n",
              "    <tr>\n",
              "      <th>4</th>\n",
              "      <td>followup-to always blank sending mail</td>\n",
              "      <td>composing mail choose add followup-to address ...</td>\n",
              "      <td>ieee_logicData</td>\n",
              "      <td>control_flow</td>\n",
              "    </tr>\n",
              "    <tr>\n",
              "      <th>...</th>\n",
              "      <td>...</td>\n",
              "      <td>...</td>\n",
              "      <td>...</td>\n",
              "      <td>...</td>\n",
              "    </tr>\n",
              "    <tr>\n",
              "      <th>520</th>\n",
              "      <td>can't import contact csv thunderbird 17.0.5</td>\n",
              "      <td>trying import contact csv format nothing happe...</td>\n",
              "      <td>ieee_interface</td>\n",
              "      <td>structural</td>\n",
              "    </tr>\n",
              "    <tr>\n",
              "      <th>521</th>\n",
              "      <td>alter message-id draft sending</td>\n",
              "      <td>roundcube generate new message-id necessary rf...</td>\n",
              "      <td>ieee_logicData</td>\n",
              "      <td>control_flow</td>\n",
              "    </tr>\n",
              "    <tr>\n",
              "      <th>522</th>\n",
              "      <td>two possible minor bugs rcube_mime::wordwrap</td>\n",
              "      <td>hi there  far tell may two glitches rcube_mime...</td>\n",
              "      <td>ieee_logicData</td>\n",
              "      <td>control_flow</td>\n",
              "    </tr>\n",
              "    <tr>\n",
              "      <th>523</th>\n",
              "      <td>could load message server error upgrading 0.9.2</td>\n",
              "      <td>i'm issue viewing messages html attachments se...</td>\n",
              "      <td>ieee_logicData</td>\n",
              "      <td>control_flow</td>\n",
              "    </tr>\n",
              "    <tr>\n",
              "      <th>524</th>\n",
              "      <td>pdo::quote bugs postgres/sqlite/mssql</td>\n",
              "      <td>makes roundcube caching working serialized str...</td>\n",
              "      <td>ieee_interface</td>\n",
              "      <td>structural</td>\n",
              "    </tr>\n",
              "  </tbody>\n",
              "</table>\n",
              "<p>525 rows × 4 columns</p>\n",
              "</div>\n",
              "      <button class=\"colab-df-convert\" onclick=\"convertToInteractive('df-846cf50f-7d3b-4133-9ce2-13ba9e1457d3')\"\n",
              "              title=\"Convert this dataframe to an interactive table.\"\n",
              "              style=\"display:none;\">\n",
              "        \n",
              "  <svg xmlns=\"http://www.w3.org/2000/svg\" height=\"24px\"viewBox=\"0 0 24 24\"\n",
              "       width=\"24px\">\n",
              "    <path d=\"M0 0h24v24H0V0z\" fill=\"none\"/>\n",
              "    <path d=\"M18.56 5.44l.94 2.06.94-2.06 2.06-.94-2.06-.94-.94-2.06-.94 2.06-2.06.94zm-11 1L8.5 8.5l.94-2.06 2.06-.94-2.06-.94L8.5 2.5l-.94 2.06-2.06.94zm10 10l.94 2.06.94-2.06 2.06-.94-2.06-.94-.94-2.06-.94 2.06-2.06.94z\"/><path d=\"M17.41 7.96l-1.37-1.37c-.4-.4-.92-.59-1.43-.59-.52 0-1.04.2-1.43.59L10.3 9.45l-7.72 7.72c-.78.78-.78 2.05 0 2.83L4 21.41c.39.39.9.59 1.41.59.51 0 1.02-.2 1.41-.59l7.78-7.78 2.81-2.81c.8-.78.8-2.07 0-2.86zM5.41 20L4 18.59l7.72-7.72 1.47 1.35L5.41 20z\"/>\n",
              "  </svg>\n",
              "      </button>\n",
              "      \n",
              "  <style>\n",
              "    .colab-df-container {\n",
              "      display:flex;\n",
              "      flex-wrap:wrap;\n",
              "      gap: 12px;\n",
              "    }\n",
              "\n",
              "    .colab-df-convert {\n",
              "      background-color: #E8F0FE;\n",
              "      border: none;\n",
              "      border-radius: 50%;\n",
              "      cursor: pointer;\n",
              "      display: none;\n",
              "      fill: #1967D2;\n",
              "      height: 32px;\n",
              "      padding: 0 0 0 0;\n",
              "      width: 32px;\n",
              "    }\n",
              "\n",
              "    .colab-df-convert:hover {\n",
              "      background-color: #E2EBFA;\n",
              "      box-shadow: 0px 1px 2px rgba(60, 64, 67, 0.3), 0px 1px 3px 1px rgba(60, 64, 67, 0.15);\n",
              "      fill: #174EA6;\n",
              "    }\n",
              "\n",
              "    [theme=dark] .colab-df-convert {\n",
              "      background-color: #3B4455;\n",
              "      fill: #D2E3FC;\n",
              "    }\n",
              "\n",
              "    [theme=dark] .colab-df-convert:hover {\n",
              "      background-color: #434B5C;\n",
              "      box-shadow: 0px 1px 3px 1px rgba(0, 0, 0, 0.15);\n",
              "      filter: drop-shadow(0px 1px 2px rgba(0, 0, 0, 0.3));\n",
              "      fill: #FFFFFF;\n",
              "    }\n",
              "  </style>\n",
              "\n",
              "      <script>\n",
              "        const buttonEl =\n",
              "          document.querySelector('#df-846cf50f-7d3b-4133-9ce2-13ba9e1457d3 button.colab-df-convert');\n",
              "        buttonEl.style.display =\n",
              "          google.colab.kernel.accessAllowed ? 'block' : 'none';\n",
              "\n",
              "        async function convertToInteractive(key) {\n",
              "          const element = document.querySelector('#df-846cf50f-7d3b-4133-9ce2-13ba9e1457d3');\n",
              "          const dataTable =\n",
              "            await google.colab.kernel.invokeFunction('convertToInteractive',\n",
              "                                                     [key], {});\n",
              "          if (!dataTable) return;\n",
              "\n",
              "          const docLinkHtml = 'Like what you see? Visit the ' +\n",
              "            '<a target=\"_blank\" href=https://colab.research.google.com/notebooks/data_table.ipynb>data table notebook</a>'\n",
              "            + ' to learn more about interactive tables.';\n",
              "          element.innerHTML = '';\n",
              "          dataTable['output_type'] = 'display_data';\n",
              "          await google.colab.output.renderOutput(dataTable, element);\n",
              "          const docLink = document.createElement('div');\n",
              "          docLink.innerHTML = docLinkHtml;\n",
              "          element.appendChild(docLink);\n",
              "        }\n",
              "      </script>\n",
              "    </div>\n",
              "  </div>\n",
              "  "
            ]
          },
          "metadata": {},
          "execution_count": 286
        }
      ]
    },
    {
      "cell_type": "markdown",
      "source": [
        "### Exercise 3a (1 point): Feature Engineering Approach-1\n",
        "\n",
        "* Combine the title and body strings by a space\n",
        "*  the words\n",
        "* Use `CountVectorizer` to Tokenize and transform the the text to features\n",
        "* Reduce the features using PCA"
      ],
      "metadata": {
        "id": "HaATx5TCrXLr"
      }
    },
    {
      "cell_type": "code",
      "execution_count": null,
      "metadata": {
        "id": "JKGS3VaV4iNf",
        "colab": {
          "base_uri": "https://localhost:8080/",
          "height": 382
        },
        "outputId": "5b90f6ba-1db8-4838-a74a-3bc8393db491"
      },
      "outputs": [
        {
          "output_type": "stream",
          "name": "stdout",
          "text": [
            "Vocabulary:  {'wrong': 5384, 'alert': 751, 'uploading': 5144, 'attachment': 922, 'size': 4519, 'try': 5024, 'upload': 5142, 'file': 2171, 'big': 1048, 'see': 4379, 'error': 2005, 'message': 3222, 'app': 832, 'js': 2852, '1078': 71, 'fails': 2125, 'displayed': 1802, 'recovery': 4065, 'lost': 3067, 'draft': 1864, 'updating': 5138, 'click': 1297, 'compose': 1382, 'popup': 3748, 'recovering': 4064, 'founded': 2286, 'early': 1901, 'composed': 1385, 'sended': 4400, 'theme': 4891, 'saved': 4320, 'want': 5278, 'recover': 4063, 'option': 3531, 'delete': 1675, 'ignore': 2599, 'period': 3666, 'time': 4936, 'appears': 838, 'again': 735, 'switching': 4806, 'html': 2543, 'text': 4879, 'initially': 2717, 'composing': 1387, 'display': 1799, 'warning': 5282, 'new': 3391, 'default': 1653, 'format': 2270, 'switch': 4803, 'straight': 4697, 'since': 4514, 'body': 1082, 'empty': 1952, 'annoying': 803, 'problem': 3844, 'raw': 3958, 'headers': 2476, 'hello': 2481, 'toggle': 4961, 'roundcube': 4266, 'get': 2352, 'could': 1494, 'load': 3015, 'server': 4422, 'entry': 1991, 'imap': 2616, 'logfile': 3037, '19': 175, '04': 19, '44': 386, '0200': 14, '10': 56, 'apr': 854, '2014': 205, 'ok': 3490, 'capability': 1188, 'imap4rev1': 2619, 'uidplus': 5061, 'children': 1264, 'namespace': 3359, 'thread': 4911, 'orderedsubject': 3541, 'references': 4081, 'sort': 4584, 'quota': 3933, 'idle': 2584, 'acl': 684, 'acl2': 685, 'union': 5095, 'starttls': 4663, 'cb3d': 1212, 'courier': 1504, 'ready': 4035, 'copyright': 1483, '1998': 185, '2010': 200, 'double': 1853, 'precision': 3782, 'inc': 2668, 'copying': 1482, 'distribution': 1813, 'information': 2700, 'a0001': 618, 'login': 3042, 'xxxx': 5415, 'xxxxx': 5416, 'a0002': 619, 'select': 4386, 'junk': 2865, 'mailbox': 3094, 'exist': 2061, 'must': 3322, 'subscribed': 4750, 'to': 4957, 'a0003': 620, 'logout': 3049, 'bye': 1141, 'shutting': 4492, 'completed': 1378, 'followup': 2252, 'always': 786, 'blank': 1069, 'sending': 4403, 'mail': 3087, 'choose': 1269, 'add': 697, 'address': 711, 'resulting': 4219, 'header': 2475, 'email': 1944, 'importing': 2649, 'contacts': 1446, 'outlook': 3562, 'csv': 1538, 'addressbook': 712, 'import': 2645, 'spellchecker': 4618, 'generate': 2339, 'errormessage': 2009, 'exists': 2064, 'without': 5356, 'entering': 1986, 'press': 3810, 'spellchecking': 4619, 'button': 1137, 'an': 793, 'encountered': 1968, 'please': 3721, 'later': 2926, 'postgresql': 3772, 'initialization': 2714, 'working': 5369, 'properly': 3872, 'db': 1601, 'prefix': 3795, 'past': 3632, 'separated': 4413, 'data': 1580, 'different': 1754, 'versions': 5238, 'using': 5173, 'schemas': 4334, 'tweaking': 5037, 'code': 1323, 'search_path': 4364, 'set': 4434, 'accordingly': 676, 'upgrading': 5141, 'thought': 4909, 'give': 2383, 'installer': 2744, 'instead': 2750, 'separate': 4412, 'schema': 4333, 'fix_table_names': 2218, 'rcmail_installer': 3977, 'php': 3688, 'indexes': 2689, 'handled': 2447, 'adding': 705, 'similar': 4508, 'create': 1513, 'sequence': 4415, 'help': 2482, 'constraints': 1439, 'explicit': 2084, 'name': 3350, 'would': 5373, 'need': 3372, 'added': 702, 'table': 4822, 'users': 5171, 'read': 4028, 'constraint': 1438, 'dbprefixusers_username_key': 1616, 'unique': 5096, 'username': 5169, 'mail_host': 3090, 'otherwise': 3551, 'naming': 3360, 'conflicts': 1413, 'easiest': 1902, 'avoid': 963, 'use': 5156, 'names': 3358, 'which': 5326, 'according': 675, 'tablename': 4825, 'columnname': 1339, 'suffix': 4770, 'broken': 1116, 'threading': 4912, 'structure': 4726, 'messages': 3228, 'list': 3002, 'git': 2380, 'master': 3153, 'release': 4119, 'branch': 1102, 'displays': 1806, 'two': 5040, 'levels': 2968, 'one': 3504, 'three': 4916, 'searching': 4368, 'current': 1548, 'assumes': 911, 'isnt': 2813, 'passed': 3624, 's_mods': 4300, 'either': 1928, 'automatically': 957, 'even': 2025, 'draft_autosave': 1865, 'disabled': 1778, 'update': 5133, '01': 9, 'last': 2922, 'night': 3403, 'major': 3115, 'bug': 1127, 'found': 2285, 'clicked': 1299, 'editor': 1912, 'window': 5347, 'shows': 4490, 'usual': 5176, 'however': 2538, 'box': 1097, 'appeared': 837, 'immediately': 2630, 'said': 4305, 'save': 4318, 'checked': 1258, 'env': 1992, 'variables': 5210, 'value': 5203, 'except': 2042, 'whole': 5333, 'process': 3850, 'network': 3386, 'flows': 2231, 'extra': 2107, 'post': 3760, 'request': 4182, 'sent': 4408, 'params': 3601, 'task': 4840, '_action': 593, 'send': 4397, '_draft': 597, 'think': 4902, 'may': 3174, 'come': 1345, 'javascript': 2836, 'part': 3613, 'fix': 2214, 'soon': 4580, 'possible': 3758, 'google': 2401, 'maps': 3137, 'url': 5151, 'converting': 1473, 'link': 2995, 'kind': 2888, 'generated': 2340, 'view': 5247, 'starting': 4662, 'included': 2671, 'thanks': 4886, 'rendering': 4149, 'problems': 3846, 'comments': 1355, 'following': 2248, 'breaks': 1108, 'showing': 4488, 'comment': 1352, 'content': 1455, 'hidden': 2496, 'hr': 2539, 'tag': 4828, 'visible': 5254, 'rendered': 4148, 'doctype': 1825, 'public': 3896, 'w3c_dtd': 5275, 'xhtml': 5403, 'transitional': 4993, 'en': 1953, 'center': 1219, 'this': 4906, 'simple': 4510, 'strong': 4720, 'test': 4871, 'unselect': 5114, 'issue': 2817, 'all': 761, 'steps': 4682, 'go': 2395, 'mouse': 3297, 'ctrl': 1540, 'key': 2880, 'observe': 3460, 'unselected': 5115, 'becomes': 1021, 'selected': 4389, 'another': 807, 'case': 1199, 'previously': 3827, 'tested': 4875, 'threads': 4913, 'views': 5251, 'reset': 4194, 'range': 3953, 'shown': 4489, 'summary': 4778, 'says': 4327, 'certain': 1223, 'cases': 1200, 'lead': 2942, 'anomalous': 804, 'ranges': 3954, 'pages': 3590, 'reproduce': 4177, 'enough': 1981, 'least': 2948, 'single': 4515, 'step': 4681, 'sufficiently': 4769, 'thready': 4914, 'that': 4887, 'page': 3588, 'note': 3429, 'bottom': 1093, 'void': 5262, 'erroneous': 2004, 'probably': 3842, 'beginning': 1026, 'search': 4360, 'cyrillic': 1563, 'symbols': 4808, 'receive': 4048, 'a0005': 622, 'badcharset': 996, 'us': 5154, 'ascii': 892, 'character': 1243, 'supported': 4786, 'dear': 1627, 'support': 4784, 'connect': 1418, 'mailserver': 3106, 'mailenable': 3098, 'log': 3035, 'mailenbale': 3099, 'resolve': 4200, 'insert': 2731, 'response': 4209, 'close': 1308, 'clicking': 1300, 'open': 3512, 'pulldown': 3902, 'predefined': 3786, 'responses': 4210, 'hides': 2499, 'best': 1041, 'regards': 4097, 'andi': 798, 'contains': 1453, 'unreadable': 5111, 'lines': 2993, 'multi': 3317, 'mime': 3246, 'corrupt': 1492, 'several': 4460, 'written': 5382, 'other': 3549, 'somehow': 4573, 'correct': 1487, 'line': 2989, 'spacing': 4595, 'missing': 3271, 'there': 4896, 'cascading': 1198, 'style': 4732, 'sheet': 4471, 'attached': 917, 'rcube_utils': 4021, 'normalize_string': 3421, 'method': 3235, 'normalize': 3420, 'latin': 2928, 'characters': 1244, 'opening': 3516, 'unread': 5110, 'mails': 3104, 'counter': 1500, 'preferences': 3793, 'interface': 2764, 'beside': 1039, 'folder': 2238, 'parent': 3603, 'never': 3389, 'decreased': 1646, 'counted': 1499, 'zero': 5444, 'like': 2981, 'closing': 1315, 'still': 4685, 'suggests': 4774, 'actually': 696, 'also': 777, 'marked': 3145, 'refresh': 4089, 'updates': 5137, 'marks': 3148, 'reading': 4032, 'status': 4673, 'sends': 4405, 'plain': 3716, 'normal': 3419, 'afterwards': 734, 'numbered': 3447, 'gets': 2375, 'including': 2674, 'tags': 4830, 'accessibility': 670, 'issues': 2818, 'firefox': 2207, 'pressing': 3812, 'tab': 4821, 'folders': 2242, 'moves': 3305, 'focus': 2234, 'footer': 2256, 'fine': 2203, 'scrolls': 4356, 'good': 2400, 'tinymce': 4946, 'area': 864, 'opera': 3524, 'focused': 2235, 'elements': 1938, 'blue': 1078, 'outline': 3561, 'border': 1091, 'redundant': 4076, 'unwanted': 5129, 'accessible': 671, 'actions': 688, 'toolbar': 4970, 'enter': 1984, 'first': 2208, 'item': 2821, 'menu': 3214, 'menus': 3215, 'keyboard': 2881, 'preview': 3821, 'frame': 2294, 'can': 1178, 'accessed': 668, 'arrow': 886, 'keys': 2882, 'with': 5354, 'many': 3134, 'works': 5370, 'makes': 3117, 'scroll': 4352, 'much': 3316, 'element': 1936, 'might': 3244, 'become': 1020, 'refreshes': 4091, 'fwd': 2322, 'reply': 4164, 're': 4026, 'recently': 4053, 'upgraded': 5140, 'freebsd': 2298, 'find': 2199, 'replying': 4166, 'forwarding': 2280, 'example': 2038, 'scrolled': 4354, '15th': 154, 'hit': 2511, 'top': 4972, 'classic': 1283, 'skin': 4524, 'regressions': 4104, 'popups': 3749, 'handling': 2451, 'options': 3533, 'move': 3298, 'too': 4967, 'copy': 1481, 'gear': 2332, 'icon': 2560, 'left': 2952, 'hand': 2445, 'end': 1974, 'tigger': 4934, 'plugins': 3724, 'input': 2726, 'fonts': 2254, 'mozilla': 3307, 'browsers': 1120, 'sheets': 4472, 'themes': 4892, 'textarea': 4880, 'font': 2253, 'family': 2133, 'inherit': 2703, 'system': 4817, 'sometimes': 4576, 'look': 3053, 'really': 4041, 'ugly': 5057, 'depending': 1696, 'configuration': 1402, 'prevent': 3817, 'memory': 3208, 'exhaustion': 2057, 'image': 2609, 'resizing': 4199, 'gd': 2331, 'dont_override': 1847, 'config': 1398, 'array': 874, 'default_folders': 1654, 'corresponding': 1490, 'section': 4375, 'settings': 4456, 'hangs': 2454, 'logs': 3050, 'fatal': 2139, 'call': 1170, 'member': 3205, 'function': 2312, 'show': 4484, 'non': 3413, 'object': 3457, '1058': 67, 'guess': 2432, 'setting': 4454, 'codepage': 1326, 'created': 1515, 'browser': 1119, 'chrome': 1271, 'ie': 2587, '11': 75, 'message_cache': 3223, 'requirements': 4190, 'lot': 3068, 'synchronize': 4812, 'program': 3862, 'lib': 2971, 'rcube_imap_cache': 4004, 'provided': 3885, 'source': 4590, 'clients': 1304, 'by': 1140, 'mean': 3194, 'postfix': 3764, 'dovecot': 1855, 've': 5222, 'patch': 3636, 'clarify': 1280, 'specify': 4613, 'connection': 1422, 'smtp': 4542, 'via': 5241, 'smtp_conn_options': 4546, 'allow': 764, 'attributes': 933, 'reason': 4043, 'peer': 3653, 'verfication': 5229, 'ssl': 4645, 'disable': 1777, 'change': 1234, 'certs': 1227, 'location': 3032, 'odd': 3477, 'horizontal': 2525, 'scrollbar': 4353, 'loads': 3024, 'bar': 999, 'fit': 2212, 'width': 5339, 'recent': 4052, 'version': 5237, '35': 329, '1916': 176, '153': 148, 'skins': 4527, 'larry': 2920, 'editor_content': 1913, 'css': 1537, 'background': 987, 'color': 1334, 'ffffff': 2164, 'margin': 3139, '4px': 407, 'right': 4251, '2px': 296, '98': 586, 'binded': 1056, 'cache': 1154, 'breaker': 1106, 'hard': 2460, 'reload': 4124, 'rename': 4143, 'contact': 1442, 'group': 2419, 'jquery': 2850, 'ui': 5059, 'dialog': 1741, 'inline': 2724, 'groups': 2426, 'perfect': 3658, 'aligned': 759, 'esc': 2012, 'etc': 2021, 'propose': 3877, 'replace': 4156, 'something': 4575, 'independent': 2685, 'extwin': 2112, 'mainscreen': 3113, 'offset': 3487, 'class': 1281, 'happens': 2458, 'edit': 1908, 'identities': 2575, 'already': 774, 'external': 2106, 'argument': 867, 'ignored': 2600, 'gives': 2385, 'typing': 5049, 'pops': 3746, 'incorrect': 2680, 'finished': 2206, 'it': 2820, 'return': 4224, 'receipt': 4047, 'translation': 4997, 'english': 1980, 'word': 5362, 'date': 1585, 'heading': 2477, 'languages': 2917, 'chinese': 1265, 'share': 4468, 'better': 1044, 'no': 3407, 'widget': 5338, 'addresses': 715, 'skipped': 4530, 'autocompletion': 952, 'screen': 4341, 'inserts': 2733, 'invalid': 2781, 'recipient': 4055, 'field': 2167, 'make': 3116, 'virtual': 5253, 'deactivate': 1623, 'action': 687, 'deleting': 1681, 'deleted': 1679, 'deactivated': 1624, 'vcard': 5217, 'images': 2613, 'thats': 4888, 'base64': 1002, 'string': 4709, 'decoded': 1642, 'unquoted': 5108, 'seams': 4359, 'decoder': 1643, 'encoded': 1965, 'untested': 5127, 'installto': 2748, 'sh': 4464, 'script': 4347, 'remove': 4138, 'old': 3492, 'htaccess': 2541, 'hi': 2494, 'seems': 4383, 'capabilities': 1187, 'check': 1248, 'codebase': 1324, 'min': 3254, 'everytime': 2031, 'resources': 4205, 'tif': 4932, 'loaded': 3018, '403': 371, 'forbidden': 2258, 'suggest': 4771, 'ifmodule': 2595, 'mod_rewrite': 3282, 'rewriteengine': 4241, 'rewriterule': 4242, 'gif': 2379, 'sorting': 4587, 'command': 1350, 'me': 3193, 'feature': 2144, 'gui': 2435, 'so': 4557, 'confused': 1414, 'anymore': 816, 'type': 5044, 'checks': 1261, 'hiawatha': 2495, 'types': 5046, 'contain': 1447, 'application': 844, 'java': 2835, 'archive': 858, 'rcube_mime': 4010, 'get_mime_extensions': 2360, 'returns': 4227, 'hash': 2467, 'we': 5295, 'checking': 1260, 'index': 2686, '501': 410, 'rcube_install': 4006, 'tar': 4836, 'result': 4217, 'tgz': 4882, 'illegal': 2606, 'rcube_imap': 4003, '3302': 317, 'comes': 1346, 'immediatly': 2631, 'caued': 1205, '07893b3cdd': 30, 'caching': 1162, 'enabled': 1959, 'charset': 1246, 'plaintext': 3717, 'flowed': 2230, 'send_format_flowed': 4398, 'false': 2131, 'looks': 3056, 'true': 5019, 'present': 3807, '9x': 591, 'utf': 5180, 'rather': 3957, 'prefer': 3790, 'local': 3025, 'unicode': 5093, 'here': 2490, 'various': 5214, 'icloud': 2559, 'fallback': 2130, 'photos': 3687, 'apple': 843, 'vcards': 5219, 'photo': 3686, 'encoding': 1966, 'ahr0chm6ly9w': 741, 'masked': 3151, 'mwvjywu0ztm1njzin2q2mthkmjy': 3323, 'pane': 3592, '67ff': 502, 'let': 2961, 'fancy': 2134, 'things': 4901, 'plugin': 3723, 'rcmail': 3967, 'exec_hook': 2051, 'contact_photo': 1444, 'record': 4061, 'filter_var': 2194, 'filter_validate_url': 2193, 'up': 5132, 'down': 1856, 'used': 5159, 'from': 2304, 'sources': 4592, 'jump': 2864, 'addressbooks': 714, 'searches': 4366, 'receives': 4050, 'nice': 3401, 'book': 1085, 'flag': 2222, 'forwarded': 2279, 'expect': 2070, 'hmailserver': 2513, 'not': 3425, 'nevertheless': 3390, 'disappears': 1785, 'investigated': 2784, 'injects': 2723, 'treats': 5002, 'imo': 2633, 'assume': 909, 'back': 981, 'id': 2564, 'session': 4429, 'compose_data': 1384, 'more': 3294, 'apparently': 834, 'form': 2269, 'write': 5378, 'obvious': 3463, 'solution': 4561, 'claims': 1278, 'abort': 649, 'infinite': 2697, 'redirect': 4072, 'loops': 3059, '1487028': 132, 'report': 4167, 'understand': 5085, 'redirects': 4074, 'happen': 2455, 'loosing': 3062, 'generation': 2343, 'cause': 1207, 'loop': 3058, 'causes': 1209, 'second': 4371, 'iteration': 2824, 'real': 4036, 'possibility': 3756, 'situation': 4518, 'cannot': 1184, 'but': 1136, 'break': 1105, 'usage': 5155, 'impossible': 2651, 'anyway': 821, 'safe': 4303, 'maybe': 3175, 'relevant': 4122, 'filter': 2189, 'applied': 846, 'the': 4889, 'requested': 4183, 'newly': 3395, 'details': 1719, 'environment': 1994, '14': 120, 'deb7u12': 1628, 'apache': 824, 'debian': 1630, '36': 334, '1985': 184, '125': 97, '31': 305, 'ie11': 2589, 'application_passwords': 845, 'reminder': 4134, 'markasjunk': 3142, 'password': 3628, 'vcard_attachments': 5218, 'enable': 1957, 'sql': 4630, 'criteria': 1522, 'plus': 3725, 'standard': 4656, 'screenshot': 4344, 'panel': 3593, 'v1': 5194, 'build': 1130, 'in': 2660, 'behavior': 1027, 'occur': 3468, 'tell': 4850, 'defined': 1667, 'drop': 1872, 'dug': 1884, 'bit': 1059, 'rcmail_js_contacts_list': 3978, 'func': 2311, 'ends': 1977, 'appended': 840, 'lookup': 3057, 'failure': 2126, 'query': 3924, 'parameter': 3599, 'sorry': 4583, 'work': 5366, 'dig': 1761, 'stringify': 4711, 'rcube_message_header': 4009, 'multiple': 3321, 'times': 4942, 'received': 4049, 'calling': 1174, 'decode_header': 1641, 'rcube_charset': 3994, 'clean': 1287, 'stringifies': 4710, 'returning': 4226, 'itself': 2826, 'path': 3640, 'generally': 2338, 'did': 1745, 'get_header': 2356, 'column': 1337, 'removed': 4140, 'scope': 4340, 'title': 4947, 'keep': 2875, 'results': 4220, 'previous': 3826, 'currently': 1549, 'info': 2698, 'thumbnail': 4923, 'rotation': 4262, 'exif': 2058, 'orientation': 3543, 'ios': 2790, 'devices': 1732, 'take': 4831, 'pictures': 3702, 'inside': 2734, 'simply': 4513, 'rotating': 4261, 'goes': 2397, 'displaying': 1804, 'strips': 4717, 'leaving': 2951, 'imagemagick': 2612, 'suspect': 4798, 'installed': 2743, 'creating': 1517, 'database': 1581, 'remains': 4131, 'fixed': 2219, 'place': 3712, 'reported': 4168, 'positioning': 3754, '23': 243, 'able': 647, 'small': 4540, 'screens': 4343, 'vertical': 5239, 'viewing': 5249, 'renendered': 4151, 'lower': 3073, 'be': 1017, 'taking': 4834, 'accoting': 677, 'overall': 3567, 'quoted': 3939, 'domain': 1838, 'today': 4958, 'got': 2402, 'curious': 1544, 'thing': 4900, 'person': 3673, 'user': 5163, 'tld': 4950, 'org': 3542, 'space': 4593, 'quotes': 3940, 'and': 797, 'span': 4601, 'adr': 724, 'comm_path': 1348, 'variable': 5209, 'set_task': 4444, 'called': 1173, 'side': 4494, 'output': 3563, 'set_env': 4437, 'then': 4893, 'uses': 5172, 'requests': 4185, 'handle': 2446, 'unknown': 5100, 'cte': 1539, 'windows': 5348, '1251': 98, 'transfer': 4991, 'moduserprefs': 3291, 'minor': 3259, 'cant': 1186, 'tool': 4969, 'specific': 4610, 'aka': 747, 'host': 2527, 'based': 1007, 'conf': 1397, 'binary': 1052, 'pref': 3789, 'inconsistent': 2678, 'behaviour': 1028, 'criterias': 1523, 'sure': 4791, 'should': 4483, 'mssql': 3314, '2013061000': 204, 'performing': 3663, 'install': 2739, 'queries': 3923, '213061000': 232, 'alter': 780, 'expires': 2079, 'dbo': 1615, 'null': 3443, 'datetime': 1592, 'cache_shared': 1158, 'cache_index': 1155, 'cache_thread': 1159, 'cache_messages': 1157, 'keyword': 2883, 'downloaded': 1859, 'github': 2382, 'repository': 4173, 'download': 1857, 'occour': 3466, '12': 88, '09': 37, '39': 359, 'europe': 2023, 'rome': 4259, 'sep': 4411, 'pear': 3650, 'inetpub': 2696, 'roundcubemail': 4272, 'bootstrap': 1089, '100': 57, 'stable': 4650, 'mailto': 3108, 'punycode': 3905, 'domains': 1842, 'went': 5313, 'rcube': 3989, 'namely': 3356, 'stopped': 4688, 'supporting': 4787, 'charsets': 1247, 'successfully': 4761, 'started': 4661, 'triggered': 5014, 'attempts': 931, 'upon': 5147, 'investigation': 2785, 'check_email': 1250, 'discovered': 1793, 'statement': 4667, '111': 77, 'changes': 1238, 'made': 3085, '07': 28, '20': 193, '16': 155, '17': 161, '58': 442, '000000000': 3, '0400': 20, '15': 142, '13': 107, '110': 76, 'preg_match': 3798, 'array_pop_tmp': 882, 'array_pop': 881, 'domain_array': 1839, 'xn': 5410, 'za': 5438, 'z0': 5436, 'else': 1940, 'unset': 5118, 'get_instance': 2358, 'afer': 730, 'applying': 849, 'adjustment': 717, 'correctly': 1489, 'signature': 4500, 'opened': 3514, 'manually': 3133, 'reloading': 4126, 'activated': 691, 'activation': 693, 'change_identity': 1235, '3862ff': 355, 'apprently': 852, 'specifying': 4614, '3166': 310, 'init_messageform': 2712, '3117ff': 306, 'manual': 3132, 'signatures': 4501, 'enable_command': 1958, 'sig': 4497, 'far': 2135, 'functions': 2316, 'twice': 5039, 'desirable': 1711, 'permanentflags': 3667, 'optional': 3532, 'noticed': 3434, 'flags': 2223, 'hints': 2509, 'though': 4908, 'client': 1302, 'permanently': 3668, 'changed': 1236, 'effects': 1919, 'are': 863, 'moved': 3304, 'attachments': 923, 'winmail': 5349, 'dat': 1579, 'sized': 4520, 'print': 3829, 'underlines': 5083, 'spans': 4602, 'large': 2918, 'middle': 3243, 'underlined': 5082, 'xx': 5412, 'decoration': 1645, 'underline': 5081, 'stylesheet': 4734, 'overrides': 3573, 'portion': 3751, 'rule': 4290, 'culprit': 1542, 'td': 4844, 'th': 4883, 'div': 1814, '9pt': 590, '000': 1, 'directive': 1770, 'attribute': 932, 'containing': 1452, 'microsoft': 3240, 'uuencoded': 5191, 'messages_cache': 3229, 'cached': 1160, 'rcube_message': 4008, 'uu_decode': 5189, 'mimetype': 3251, 'modification': 3285, 'redeclare': 4071, 'library': 2975, 'days': 1600, 'vendor': 5224, 'directory': 1773, 'classes': 1282, 'composer': 1386, 'home': 2519, 'alec': 750, 'repos': 4171, 'net': 3380, '87': 557, '46': 391, '28': 273, 'warsaw': 5284, 'oct': 3473, 'stack': 4651, 'trace': 4983, 'main': 3111, 'include_once': 2670, '303': 301, 'spl_autoload_call': 4625, '341': 324, 'autoload': 953, 'classloader': 1284, 'loadclass': 3017, 'includefile': 2672, '274': 271, 'include': 2669, '382': 348, 'related': 4111, 'unable': 5070, 'sub': 4738, 'telnet': 4853, 'greyed': 2416, 'out': 3557, 'global': 2389, 'utilize': 5186, 'capacity': 1189, 'drag': 1867, 'trying': 5025, '127': 100, 'connected': 1419, 'localhost': 3028, 'escape': 2013, 'literal': 3012, 'sasl': 4317, 'ir': 2799, 'referrals': 4085, 'auth': 940, 'yyyyyy': 5435, 'xxxxxxx': 5418, 'refs': 4093, 'multiappend': 3318, 'partial': 3616, 'catenate': 1204, 'extended': 2099, 'i18nlevel': 2555, 'condstore': 1396, 'qresync': 3921, 'esearch': 2016, 'esort': 2017, 'searchres': 4369, 'within': 5355, 'context': 1458, 'special': 4607, 'fuzzy': 2319, 'compress': 1389, 'deflate': 1672, 'logged': 3038, 'hasnochildren': 2469, 'drafts': 1866, 'trash': 5000, 'haschildren': 2466, 'ham': 2444, 'noselect': 3423, 'inbox': 2667, 'testsubfolder': 4878, 'a086': 634, 'os': 3547, 'linux': 3000, 'webmail': 5299, 'authenticate': 943, '49': 400, 'a0004': 621, 'logging': 3039, 'scrolling': 4355, 'mode': 3283, 'start': 4660, 'quote': 3938, 'configured': 1405, 'along': 770, 'long': 3051, 'cursor': 1551, 'viewport': 5250, 'short': 4479, 'ternary': 4869, 'rcube_imap_generic': 4005, '868': 556, 'writing': 5381, 'teranry': 4864, 'available': 959, 'performance': 3661, 'unnecessary': 5105, 'previewing': 3824, 'mostly': 3296, 'caused': 1208, 'differs': 1757, 'switches': 4805, 'dirty': 1776, 'executed': 2053, 'or': 3537, 'updated': 5135, 'nothing': 3432, 'rid': 4250, 'alias': 757, 'auto': 947, 'disables': 1780, 'spellcheck': 4617, 'wait': 5277, 'layer': 2929, 'switched': 4804, 'off': 3480, 'iconv': 2562, 'apgrade': 829, 'recognize': 4057, 'eml': 1950, 'arrival': 884, 'now': 3439, 'say': 4325, 'order': 3540, 'selects': 4395, 'don': 1844, 'know': 2892, 'meanwhile': 3199, 'list_cols': 3003, 'subject': 4743, 'russian': 4298, 'thunderbird': 4926, 'cvs': 1559, 'canceling': 1181, 'precondition': 3784, 'existing': 2063, 'cancel': 1179, 'confirmation': 1408, 'continues': 1461, 'forward': 2277, 'became': 1019, 'messed': 3231, 'letter': 2963, 'summed': 4779, 'nonsense': 3417, 'proide': 3866, 'explanation': 2083, 'delimiter': 1684, 'recipients': 4056, 'cc': 1213, 'sendmail': 4404, 'together': 4960, 'honoring': 2522, 'show_real_foldernames': 4486, 'foldernames': 2241, 'dropdown': 1873, 'collapsed': 1330, 'expanded': 2067, 'doesnt': 1835, 'expands': 2069, 'subfolders': 4742, 'parten': 3615, 'selectable': 4388, 'worked': 5368, 'selection': 4391, 'busy': 1135, 'loading': 3019, 'listed': 3007, 'treelist': 5004, 'aware': 966, 'state': 4665, 'aborted': 650, 'experiences': 2076, 'tried': 5009, 'imports': 2650, 'exports': 2094, 'rc': 3959, 'neccessary': 3369, 'happened': 2456, 'dont': 1846, 'especially': 2018, 'export': 2092, 'imported': 2648, 'assigned': 904, 'groupnames': 2425, 'anytodatetime': 820, 'follow': 2246, 'dates': 1590, 'produce': 3855, 'timezone': 4944, 'constructor': 1441, 'throws': 4920, 'exception': 2043, 'if': 2593, 'block': 1071, 'shifted': 4475, 'day': 1598, 'taken': 4832, 'account': 678, 'strtotime': 4725, 'confusing': 1415, 'design': 1710, 'supercritical': 4781, 'improvement': 2657, 'backbutton': 982, 'corner': 1486, 'implies': 2642, 'visual': 5256, 'skip': 4528, 'directing': 1769, 'symbolised': 4807, 'slightly': 4535, 'collides': 1333, 'next': 3399, 'moving': 3306, 'emailaddress1': 1947, 'discussed': 1794, 'struggles': 4728, 'sample': 4308, 'restore': 4213, 'choices': 1268, 'asked': 897, 'inconsistently': 2679, 'capitalized': 1190, 'choice': 1267, 'overwrite': 3575, 'inheritance': 2704, 'inherits': 2705, 'addcontact': 701, 'png': 3732, 'template': 4856, 'put': 3909, 'resolved': 4201, 'fixes': 2220, 'way': 5294, 'icons': 2561, 'deleteicon': 1680, '1623': 158, 'rcmail_address_string': 3968, 'max': 3159, 'linked': 2996, 'addicon': 704, 'rcmail_output': 3982, 'js_object_name': 2854, 'jq': 2849, 'img': 2628, 'src': 4641, 'skin_path': 4525, 'abs_url': 655, 'alt': 778, 'ldap': 2933, 'libs': 2976, 'described': 1707, 'required': 4187, 'operations': 3526, 'require': 4186, 'installation': 2741, 'sieverules': 4496, 'managesieve': 3129, 'readme': 4033, 'instructions': 2751, 'json': 2857, 'phar': 3681, 'project': 3868, 'repositories': 4172, 'package': 3582, 'initializing': 2716, 'execute': 2052, 'clone': 1306, 'mirror': 3263, 'kolab': 2897, 'net_ldap3': 3383, 'ser': 4417, 'vcs': 5221, 'ldap3': 2934, '95': 580, '128': 102, 'runtimeexception': 4296, 'failed': 2122, 'errno': 2003, 'timed': 4937, 'proceed': 3848, 'absolute': 657, 'relative': 4114, 'module': 3290, 'noted': 3430, 'opens': 3519, 'iframe': 2596, 'pdf': 3646, 'directly': 1771, 'ip': 2791, 'messagepartframe': 3226, 'frameborder': 2295, 'inspecting': 2736, 'apaches': 826, 'miss': 3269, 'dot': 1850, 'others': 3550, 'urls': 5153, 'they': 4899, 'wita': 5353, 'thank': 4885, 'you': 5432, 'stored': 4692, 'although': 785, 'deb7u14': 1629, 'resize': 4197, 'maximized': 3170, 'maximize': 3169, 'remain': 4129, 'scaled': 4329, 'interestingly': 2763, 'dragging': 1868, 'affected': 731, 'observed': 3461, 'occurs': 3472, 'ie10': 2588, 'ie9': 2591, 'ie8': 2590, 'legacy_browser': 2954, 'everything': 2030, 'max_group_members': 3162, 'assignments': 907, 'limit': 2983, 'assigning': 905, 'is': 2803, 'maxnum': 3173, 'counts': 1502, 'count': 1497, 'show_message': 4485, 'maxgroupmembersreached': 3168, 'add_to_group': 700, 'ids': 2586, 'group_id': 2422, 'clause': 1286, 'grey': 2415, 'dsn': 1878, 'checkbox': 1255, 'delivery': 1687, 'notification': 3436, 'dsn_default': 1879, 'refreshed': 4090, 'composition': 1388, 'restrict': 4215, 'identities_level': 2576, 'xss': 5411, 'vulnerability': 5271, 'guys': 2436, 'someone': 4574, 'xxx1': 5414, 'aaa': 641, 'onerror': 3505, 'occured': 3469, 'rcube_washtml': 4024, 'wash_style': 5288, 'quot': 3932, 'strpos': 4721, 'closed': 1310, 'btw': 1124, 'submenu': 4745, 'h2': 2438, 'zipdownload': 5447, 'partially': 3617, 'facing': 2117, 'releases': 4121, 'product': 3857, 'screenshots': 4345, 'yourself': 5434, 'lists': 3011, 'persons': 3676, 'mainly': 3112, 'aliases': 758, 'retrieve': 4223, 'autocomplete': 950, 'ch_users': 1229, 'ch_liste': 1228, 'rcmail_config': 3970, 'ldap_public': 2937, 'autocomplete_addressbooks': 951, 'utilisateurs': 5185, 'xxx': 5413, 'hosts': 2531, 'xxxxxx': 5417, 'port': 3750, '389': 358, 'use_tls': 5157, 'user_specific': 5165, 'base_dn': 1005, 'ou': 3554, 'dc': 1618, 'bind_dn': 1054, 'bind_pass': 1055, 'writable': 5377, 'ldap_object_classes': 2936, 'inetorgperson': 2695, 'required_fields': 4188, 'cn': 1320, 'sn': 4555, 'ldap_rdn': 2938, 'ldap_version': 2940, 'search_fields': 4362, 'firstname_field': 2211, 'email_field': 1946, 'surname_field': 4793, 'name_field': 3354, 'displayname': 1805, 'fuzzy_search': 2320, 'sizelimit': 4521, 'timelimit': 4938, 'listes': 3008, 'couriermailalias': 1505, 'built': 1131, 'mailing': 3101, 'people': 3656, 'expected': 2071, 'pftinymlm': 3678, 'delivered': 1685, 'fri': 2302, 'jan': 2832, '2015': 206, '02': 13, '0100': 10, 'skiferie': 4523, 'ski2015': 4522, 'sender': 4401, 'agent': 737, 'printable': 3831, 'receiving': 4051, 'completely': 1379, 'ignoring': 2602, 'files': 2181, 'attach': 916, 'txt': 5041, 'extension': 2102, 'permission': 3669, 'denied': 1691, 'followsymlinks': 2251, 'allowed': 765, 'recognized': 4058, 'access': 667, 'ist': 2819, 'apache2': 825, 'rewrite': 4240, 'needs': 3375, 'done': 1845, 'developer': 1728, 'tom': 4966, 'security': 4378, 'description': 1708, 'shipped': 4477, 'allows': 767, 'authenticated': 944, 'web': 5297, 'purpose': 3906, 'offers': 3483, 'drivers': 1871, 'perform': 3660, 'actual': 695, 'dbmail': 1613, 'driver': 1870, 'suffers': 4767, 'critical': 1524, 'remote': 4135, 'execution': 2055, 'enables': 1961, 'attacker': 925, 'arbitrary': 856, 'commands': 1351, 'root': 4260, 'privileges': 3840, 'password_driver': 3629, 'about': 653, '41': 373, 'extends': 2101, 'rcube_plugin': 4011, 'password_save': 3630, '116': 84, 'newpwd': 3397, 'get_input_value': 2357, '_newpasswd': 606, 'input_post': 2728, '154': 150, '_save': 611, 'curpwd': 1547, '241': 251, 'private': 3838, 'curpass': 1546, 'passwd': 3627, '244': 254, '245': 255, 'rcube_': 3990, '_password': 608, '270': 269, '271': 270, '18': 167, 'rcube_dbmail_password': 3999, 'currpass': 1550, 'newpass': 3396, '26': 264, 'exec': 2050, 'curdir': 1543, 'chgdbmailusers': 1263, 'args': 866, 'returnvalue': 4228, 'vuln': 5269, 'exploit': 2087, 'entered': 1985, 'sanitized': 4313, 'injecting': 2721, 'shell': 4473, 'meta': 3233, 'thus': 4927, 'providing': 3888, 'sleep': 4533, 'targeted': 4839, 'moreover': 3295, 'run': 4292, 'helpers': 2483, 'uid': 5060, 'define': 1666, 'cmd': 1318, 'usr': 5174, 'sbin': 4328, 'int': 2753, 'argc': 865, 'char': 1242, 'argv': 869, 'cnt': 1321, 'cmnd': 1319, '255': 259, '21': 229, 'strcpy': 4701, '22': 239, '24': 250, '25': 256, '27': 268, 'strcat': 4700, '29': 281, '30': 297, '37': 344, 'setuid': 4457, '38': 347, 'buffer': 1126, 'overflow': 3568, 'longer': 3052, 'fail': 2121, 'amount': 791, '2146': 233, '_filter': 598, '_q': 609, 'michelle': 3238, '_headers': 601, '_mbox': 605, '_remote': 610, 'display_message': 1800, 'returned': 4225, 'matches': 3156, 'notice': 3433, 'set_rowcount': 4442, 'idea': 2565, 'categories': 1203, 'assign': 903, 'internal': 2765, 'representation': 4175, 'assignment': 906, 'prepare_for_export': 3803, 'storage': 4690, 'calculated': 1165, 'substring': 4756, 'des': 1703, 'user_id': 5164, 'uniquely': 5097, 'identifies': 2574, 'get_hash': 2355, 'substr': 4755, 'des_key': 1704, 'md5': 3189, 'console': 1435, 'means': 3196, 'knows': 2895, 'iterate': 2823, 'four': 2287, 'strings': 4712, 'until': 5128, 'secret': 4373, 'attack': 924, 'number_of_users': 3446, 'hashes': 2468, 'hours': 2535, 'modern': 3284, 'gpu': 2405, 'per': 3657, 'necessary': 3371, 'salt': 4306, 'sufficient': 4768, 'course': 1506, 'reproducible': 4180, 'calculate': 1164, 'own': 3579, 'deterministic': 1726, 'administrators': 721, 'breaking': 1107, 'mbstring': 3184, 'duplicate': 1888, 'defs': 1673, 'mb_strlen': 3181, 'around': 872, '374': 345, 'conditional': 1394, 'function_exists': 2313, 'eradicate': 1999, 'dup': 1887, 'patchwork': 3639, 'utf8': 5182, 'bootup': 1090, 'mb_regex_encoding': 3180, 'crashed': 1512, '83': 548, 'extension_loaded': 2103, 'mb_internal_encoding': 3178, 'deprecated': 1699, 'ticket': 4929, 'filled': 2187, '43': 383, 'feb': 2146, 'static': 4670, 'iserror': 2811, 'statically': 4671, 'assuming': 912, 'incompatible': 2676, 'net_smtp': 3385, '448': 388, '465': 392, '472': 395, '515': 418, '263': 267, '519': 419, 'rcube_smtp': 4015, '129': 104, '243': 253, '945': 578, '948': 579, '975': 584, '978': 585, '291': 283, '1054': 65, '1057': 66, '1117': 80, '1127': 82, '1132': 83, '489': 399, '492': 401, '495': 402, 'bmp': 1079, 'warnings': 5283, 'officially': 3486, 'registered': 4101, 'iana': 2556, 'systems': 4819, 'detected': 1721, 'ms': 3308, 'triggers': 5015, 'packet': 3586, 'rcube_cache': 3992, 'rcube_cache_shared': 3993, 'mysql': 3334, 'engines': 1979, 'provide': 3884, 'detect': 1720, '2mb': 293, 'database_attachments': 1582, 'suppose': 4789, 'answer': 810, 'blockquoted': 1076, 'fragment': 2293, 'incorrectly': 2681, 'parsed': 3608, 'bom': 1084, 'newsletter': 3398, 'transitional_en': 4994, '2ew3': 292, 'tr': 4981, 'xhtml1': 5404, 'dtd': 1882, 'ef': 1915, 'bb': 1013, 'bf': 1046, 'domdocument': 1843, 'parser': 3609, 'sequences': 4416, 'rcube_config': 3995, 'timezone_name_from_abbr': 4945, '300': 298, 'asia': 895, 'karachi': 2871, 'kabul': 2870, '686': 506, '688': 507, 'respected': 4207, 'latest': 2927, 'company': 1362, 'centos': 1220, 'am': 787, 'outgoing': 3560, 'wife': 5340, 'came': 1177, 'similarly': 4509, 'textbox': 4881, 'trac': 4982, 'site': 4517, 'anything': 818, 'david': 1596, 'whitehurst': 5329, 'sent_mbox': 4409, 'preference': 3792, 'resetted': 4196, 'special_use': 4608, 'every': 2029, 'identity_image_size': 2582, '64': 486, 'bigger': 1049, 'incomplete': 2677, 'blob': 1070, 'bytes': 1148, 'kilobytes': 2887, 'mediumblob': 3202, 'mediumtext': 3203, 'megabytes': 3204, 'larger': 2919, 'keeps': 2876, 'spinning': 4624, 'errors': 2010, 'appear': 835, 'mar': 3138, '08': 31, '00': 0, '651851': 490, 'sun': 4780, 'pid': 3703, '15781': 153, 'clientip': 1303, '56415': 436, 'exceeds': 2041, 'referer': 4083, '652258': 492, 'getmessage': 2371, '297': 286, '670988': 500, '500': 409, '14223403008': 123, 'submit_messageformapp': 4747, '78': 530, '_task': 614, '_id': 603, '193292301054fca0bc7bf4a': 178, '139': 117, 'onclick': 3503, 'backtick': 991, 'rcube_db': 3997, 'serialized': 4419, 'prefs': 3797, 'doubled': 1854, 'unserializable': 5116, 'timeouts': 4940, 'refactoring': 4077, 'inactivity': 2665, 'introduced': 2778, 'commit': 1356, '2755471f335624ad64751dc101aa23787e436be4': 272, 'minutes': 3262, 'minute': 3261, 'finally': 2198, 'timeout': 4939, 'vcalendar': 5216, 'downloadable': 1858, 'ics': 2563, 'mimetypes': 3252, 'sensitive': 4407, 'list_tables': 3006, 'reliable': 4123, 'tables': 4826, 'table_name': 4823, 'information_schema': 2701, 'fetchall': 2156, 'pdo': 3647, 'fetch_column': 2154, 'databases': 1583, 'hosted': 2528, 'name1': 3351, 'calendars': 1169, 'name2': 3352, 'table_schema': 4824, 'backends': 986, 'seterrorhandling': 4446, '102': 63, 'front': 2306, 'helpfull': 2484, 'handler': 2449, 'href': 2540, '61lec': 455, '40alec': 372, '2e': 291, '70': 515, '6c': 513, 'separator': 4414, 'consistent': 1431, 'artifacts': 889, 'well': 5311, 'demo': 1689, 'online': 3508, 'office': 3484, 'desktop': 1713, 'slimmed': 4536, 'xyz': 5422, 'remebered': 4132, 'highlight': 2503, 'regression': 4103, 'viewed': 5248, 'shoud': 4481, 'highlighted': 2504, '28331d5ed23029753e0a8c5202e60b02716628cc': 277, 'procedure': 3847, 'temp': 4854, 'functionality': 2314, 'performs': 3664, 'temporary': 4860, 'picture': 3701, 'identified': 2571, 'identifier': 2572, 'original': 3546, 'such': 4765, 'unix': 5099, 'instance': 2749, 'file_ident': 2176, 'thumbnail_size': 4924, 'luckily': 3077, 'machines': 3084, 'perhaps': 3665, 'aiding': 743, 'attacks': 927, 'hosting': 2529, 'webserver': 5304, 'outside': 3565, 'requires': 4191, 'active': 694, 'ubuntu': 5055, 'potential': 3775, 'uploaded': 5143, 'uploads': 5146, 'specially': 4609, 'crafted': 1510, 'trigger': 5012, 'myself': 3333, 'dangerous': 1573, '67': 499, '96': 583, 'through': 4917, 'valid': 5199, 'alt_img': 779, '_alt': 594, 'input_gpc': 2727, 'is_file': 2806, 'file_get_contents': 2174, 'echo': 1905, 'image_content_type': 2611, 'concerning': 1391, 'seem': 4382, 'wise': 5351, 'supplying': 4783, 'param': 3597, 'ensure': 1982, 'memcache': 3207, 'apc': 827, 'consistency': 1430, 'due': 1883, 'nature': 3363, 'entries': 1989, 'records': 4062, 'disappear': 1783, 'store': 4691, 'therefore': 4897, 'rely': 4128, 'php5': 3690, 'imap_conn_options': 2622, 'testing': 4876, 'didn': 1746, 'smtps': 4553, 'tls': 4951, 'connections': 1423, 'socket': 4558, 'defaults': 1663, 'ckey': 1276, 'delete_record': 1678, 'roundcube_cache_shared': 4269, '508': 412, '511': 414, 'referenced': 4080, 'undefined': 5077, 'missed': 3270, 'b120d42f5b944a7b4ff801b82f048b71ec2bd288': 971, 'secure': 4376, 'review': 4235, 'cryptographically': 1533, 'weak': 5296, 'random': 3950, 'number': 3445, 'generators': 2345, 'encryption': 1973, 'attackers': 926, 'predict': 3787, 'values': 5204, 'samples': 4309, 'entropy': 1990, 'pool': 3744, 'generator': 2344, 'guessing': 2434, 'impersonate': 2635, 'predicting': 3788, 'identifiers': 2573, 'recommended': 4060, 'analysis': 794, 'performed': 3662, 'improve': 2655, 'generating': 2342, 'language': 2916, 'openssl_random_pseudo_bytes': 3521, 'purposes': 3907, 'encrypt': 1971, 'passwords': 3631, '3des': 365, 'algorithm': 755, 'sha': 4465, 'algorithms': 756, 'anti': 811, 'csrf': 1535, 'token': 4962, 'cryptographic': 1532, 'increases': 2682, 'risk': 4255, 'disclosure': 1790, 'unauthorized': 5071, 'additionally': 708, 'brute': 1122, 'force': 2259, 'random_bytes': 3951, 'html_signature': 2547, 'saving': 4323, 'identity': 2577, 'editing': 1911, 'jpeg': 2846, 'inspect': 2735, 'investingating': 2786, 'little': 3013, 'modifying': 3289, 'regexp': 4100, '210': 230, 'rcmail_attach_images': 3969, 'poster': 3762, 'rcmfile': 3988, 'php7': 3692, 'compatibility': 1368, 'reviewed': 4236, 'php4': 3689, 'planned': 3719, 'supposed': 4790, 'mail_mime': 3091, 'll': 3014, 'mail_mimedecode': 3092, 'net_sieve': 3384, 'tickets': 4930, 'bugtrackers': 1129, 'mbox': 3183, 'appending': 841, 'malicious': 3123, 'pop': 3745, 'steal': 4678, 'cookies': 1477, 'extract': 2108, 'safari': 4302, 'mac': 3082, 'osx': 3548, 'session_storage': 4432, 'sess_id': 4427, '7nkmaor7jmutbfqa90io0ji744': 537, '543': 430, 'rcube_session': 4014, '03': 17, '54': 429, '06': 25, '886873000': 561, '144': 126, 'destroy': 1715, 'mc_destroy': 3185, 'db_destroy': 1604, 'elseif': 1941, 'destination': 1714, '840': 550, 'making': 3118, 'subfolder': 4741, 'chars': 1245, 'teste': 4874, 'de': 1620, 'busca': 1133, 'com': 1341, 'acentuao': 683, 'formatted': 2272, '20de': 224, '20busca': 221, '20com': 222, '20acentua': 219, 'aoca4w': 823, 'browsing': 1121, 'preconditions': 3785, 'stop': 4687, 'reproduced': 4179, 'jul': 2863, 'race': 3944, 'condition': 1393, 'vs': 5268, 'rcube_user': 4020, 'save_prefs': 4319, 'search_mods': 4363, 'executing': 2054, 'load_config': 3016, 'replaced': 4157, 'html2text': 2544, 'consider': 1426, 'converted': 1472, 'links': 2999, 'clickable': 1298, 'applies': 847, 'conversion': 1469, 'nbsp': 3365, 'pre': 3780, 'eye': 2113, 'br': 1099, 'tes': 4870, 'spaces': 4594, 'less': 2960, 'wanted': 5279, 'self': 4396, 'detection': 1723, 'have': 2471, 'in_array': 2662, 'ident': 2569, 'fvalue': 2321, 'detecting': 1722, 'precisely': 3781, 'braces': 1100, 'compare': 1363, 'microseconds': 3239, 'log_date_format': 3036, 'write_log': 5379, 'tricky': 5008, 'trick': 5006, 'proper': 3871, 'date_create_from_format': 1586, 'microtime': 3241, 'date_default_timezone_get': 1587, 'date_format': 1588, 'inserted': 2732, 'noinferriors': 3412, 'insensitive': 2730, 'definition': 1669, 'fuction': 2308, 'render_folder_tree_select': 4147, 'doing': 1836, 'noinferiors': 3411, 'attrs': 934, 'match': 3154, 'coparsion': 1479, 'stays': 4675, '53': 422, 'prague': 3779, 'intranet': 2776, 'rcube_ldap': 4007, 'err_content_length_mismatch': 2001, 'printed': 3832, 'occours': 3467, 'length': 2958, 'equal': 1996, '364': 337, 'setted': 4452, '363': 336, 'get_part_body': 2361, 'mime_id': 3248, '365': 338, 'strlen': 4718, '366': 339, '367': 340, '368': 342, 'hot': 2533, 'validation': 5201, 'accomodate': 674, 'convensions': 1467, 'upper': 5148, 'terms': 4868, 'control': 1465, 'login_lc': 3043, 'effect': 1917, 'whitespace': 5331, 'entire': 1988, 'paragraphs': 3596, 'usernames': 5170, 'lack': 2912, 'whitelist': 5330, 'owasp': 3578, 'threats': 4915, 'injection': 2722, 'exploitation': 2089, 'vulnerabilities': 5270, 'shellshock': 4474, 'attempting': 930, 'impossibly': 2652, 'lots': 3069, 'leads': 2943, 'aug': 938, 'myhost': 3330, 'disconnected': 1792, 'secs': 4374, 'rip': 4253, '178': 166, '79': 534, 'lip': 3001, 'yczxtnidmgcyt4nx': 5425, 'international': 2768, '05': 21, 'h0aajb6uc': 2437, '7gudidzqcyt4nx': 536, 'paragraph': 3595, 'lorem': 3063, 'ipsum': 2796, 'words': 5364, '6443': 487, 'dismissed': 1797, 'outputs': 3564, '2007': 198, 'asks': 899, 'whether': 5325, 'mine': 3256, 'asking': 898, 'question': 3926, 'styles': 4733, 'parts': 3620, 'at': 914, 'rcmbody': 3987, 'inculding': 2684, 'typo': 5050, 'gc': 2330, 'sessions': 4433, 'cleans': 1290, 'caches': 1161, 'likely': 2982, 'cleaned': 1289, 'cron': 1527, 'multipart': 3319, 'alternative': 783, 'jessie': 2840, 'turkish': 5033, 'imap_disabled_caps': 2623, 'documents': 1830, 'relayed': 4118, 'apear': 828, 'somewhat': 4577, 'trivial': 5017, 'webapp': 5298, 'scanners': 4330, 'picked': 3700, 'scanning': 4331, 'cpanel': 1509, 'whm': 5332, 'named': 3355, 'bc': 1014, 'constants': 1437, 'items': 2822, 'leave': 2949, 'iniset': 2710, 'troubles': 5018, 'yet': 5429, 'declaration': 1638, 'compatible': 1369, 'configuring': 1406, 'sqlite': 4633, 'running': 4293, 'sqliteman': 4637, 'ran': 3949, 'intial': 2773, 'setup': 4458, 'letting': 2965, 'calls': 1175, 'hacking': 2442, 'clearly': 1295, 'arrays': 883, 'selecting': 4390, 'needed': 3373, 'xxxxxxxxxxxxxx': 5420, 'xxxxxxxxxxx': 5419, '546': 432, 'vars': 5215, 'ts': 5026, 'l33jumas4qfmi7s2i3aoe60o21': 2908, 'session_start': 4431, 'limiter': 2986, '117': 85, 'del': 1674, 'desc': 1706, 'asc': 891, 'identity_id': 2581, 'tasks': 4843, 'logo': 3045, 'administrator': 720, 'dgvtchxioje7bgfuz3vhz2v8czo1oijlbl9vuyi7': 1733, 'ouput': 3556, 'sets': 4451, 'phpversion': 3699, 'factory': 2120, 'rci': 3965, 'set_debug': 4435, 'bool': 1087, 'sql_debug': 4632, 'db_dsnw': 1606, 'db_connect': 1603, 'db_error_msg': 1607, 'is_error': 2805, 'pass': 3623, 'db_working': 1612, 'hint': 2508, 'print_r': 3830, 'is_connected': 2804, 'fetch_array': 2153, 'sqlite_temp_master': 4636, '14baf178b3101dc57f86574afbe8fb56': 141, 'dgvtchxioje7bgfuz3vhz2v8czo1oijlbl9vuyi7dgfza3xzoju6imxvz2luijs': 1734, 'basic': 1011, 'prevention': 3819, 'aid': 742, 'preventing': 3818, 'successful': 4760, 'otp': 3553, 'typical': 5047, 'deployments': 1698, 'locked': 3034, 'centralized': 1222, 'infrastructure': 2702, 'protect': 3880, 'core': 1485, 'regenerated': 4098, 'temporarily': 4859, 'deletion': 1682, 'duplicated': 1889, 'total': 4975, 'printscreen': 3833, 'pc': 3644, 'posting': 3773, 'precissely': 3783, 'writting': 5383, 'multiplart': 3320, 'excessive': 2046, 'linkes': 2998, 'before': 1023, 'tries': 5010, 'convert': 1470, 'uh': 5058, 'what': 5316, 'interesting': 2762, 'do': 1823, 'fastcgi': 2137, 'anytime': 819, 'submit': 4746, 'cookie': 1476, 'debugged': 1634, '528': 421, 'set_secret': 4443, 'dirname': 1774, '_server': 612, 'script_filename': 4348, 'script_name': 4349, 'dir': 1767, 'presume': 3813, 'collide': 1332, 'debug': 1632, 'resulted': 4218, 'these': 4898, 'extracted': 2109, 'speed': 4615, 'hungry': 2553, 'reporting': 4169, 'sanitizer': 4314, 'node': 3410, 'bunch': 1132, 'diff': 1751, 'c3f73fa': 1151, 'e4faaa7': 1893, '100644': 60, '347': 328, 'xml_document_type_node': 5409, 'xml_comment_node': 5408, 'head': 2474, '3d': 362, '3dutf': 366, '12pt': 105, 'arial': 870, 'helve': 2487, 'tica': 4928, 'sans': 4315, 'serif': 4420, 'helvetica': 2488, 'msonormal': 3313, '2596b8': 263, 'ansi': 808, 'pl': 3711, 'ty': 5042, 'pe': 3649, 'upgrade': 5139, 'rfc822': 4245, 'undelivered': 5079, 'coding': 1327, 'ignores': 2601, 'rs_support': 4286, 'byk': 1142, 'bykov2016': 1143, 'j37fvpiorg4ejt5fi': 2830, 'messahe': 3230, 'ver': 5225, '45': 389, 'same': 4307, 'attaches': 920, '1490606': 140, 'screensots': 4346, 'append': 839, 'rcmail_save_attachment': 3985, 'fact': 2118, 'var': 5206, 'reference': 4079, 'exclude': 2048, 'known': 2894, 'acme': 686, 'challenge': 1232, 'protection': 3882, 'provides': 3887, 'webroot': 5303, 'places': 3714, 'excluding': 2049, 'f0': 2114, 'great': 2412, 'high': 2501, 'tech': 4846, 'bridge': 1110, 'research': 4193, 'lab': 2909, 'developers': 1729, 'advisory': 728, 'questions': 3927, 'visit': 5255, 'general': 2337, 'policy': 3741, 'authentication': 945, 'going': 2398, 'coming': 1347, 'webmaster': 5300, 'myuser': 3340, 'default_smtp_server': 1660, 'default_smtp_port': 1659, 'default_smtp_user': 1661, 'default_smtp_pass': 1658, 'send_mail': 4399, 'msg_body': 3310, 'disconnect': 1791, 'treated': 5001, 'equivalent': 1997, 'talking': 4835, 'patched': 3637, '666286254': 498, '0800': 32, '680457109': 503, '61': 454, 'smtp_connect': 4547, 'smtp_server': 4550, 'smtp_port': 4549, 'smtp_user': 4552, 'smtp_pass': 4548, 'is_null': 2807, 'smtp_auth_cid': 4543, 'smtp_auth_pw': 4544, 'smtp_auth_type': 4545, 'as': 890, 'differentiate': 1755, 'explicitly': 2085, 'mechanism': 3200, 'callback': 1172, 'expects': 2072, 'beta': 1042, 'fpm': 2289, 'svg': 4801, 'persistent': 3671, 'cross': 1528, 'scripting': 4350, 'importantly': 2647, 'presents': 3809, 'unexpected': 5089, 'vector': 5223, 'xml': 5406, 'standalone': 4655, '1_en': 186, 'baseprofile': 1010, 'full': 2309, 'polygon': 3743, 'triangle': 5005, 'points': 3740, '50': 408, 'fill': 2186, '009900': 8, 'stroke': 4719, '004400': 6, 'document': 1827, 'dictionary': 1743, 'usualy': 5178, 'en_us': 1956, 'failing': 2124, 'tlsv1': 4952, 'reports': 4170, 'ike': 2604, '192': 177, '168': 159, 'for': 2257, 'negotiate': 3376, '56': 435, '0500': 22, '2016': 209, 'lsdh5ojl': 3075, 'logindisabled': 3044, '0a9a': 39, 'begin': 1025, 'negotiation': 3377, 'stacked': 4652, '140760fc': 121, 'routines': 4280, 'ssl23_get_client_hello': 4646, 'protocol': 3883, 'handshaking': 2452, 'ssl_accept': 4647, 'kierrkmp6pykaael': 2885, 'only': 3510, 'bak': 997, '48': 397, '258176423': 262, '498171055': 404, '910': 574, 'stream_socket_enable_crypto': 4705, 'fp': 2288, 'stream_crypto_method_tls_client': 4703, 'stream_crypto_method_tlsv1_2_client': 4704, 'seterror': 4445, 'error_bad': 2006, 'closeconnection': 1309, 'indicates': 2693, 'unfortunately': 5092, 'resource': 4204, 'secured': 4377, 'forgetting': 2267, 'openssl': 3520, 'often': 3488, 'pretty': 3815, 'gross': 2418, 'nailed': 3347, 'st': 4649, 'sess_tok': 4428, 'tk': 4949, 'quickly': 3929, 'comparison': 1366, 'bla': 1062, 'blahblahblahblahbla': 1068, 'blahbl': 1067, 'bla_': 1063, 'bla_blahb': 1064, 'blah': 1066, 'auditing': 936, 'seeking': 4381, 'encode': 1964, 'decode': 1640, 'immediate': 2629, 'mod_openssl': 3281, 'proposed': 3878, 'downloads': 1861, '3rd': 368, 'party': 3622, 'guessed': 2433, 'victims': 5243, 'disclose': 1788, 'puts': 3911, 'fills': 2188, 'disk': 1796, 'repeatedly': 4155, 'tokens': 4964, 'requiring': 4192, 'cve': 1558, '2181': 235, 'hope': 2523, 'mistake': 3274, 'misunderstanding': 3275, 'folded': 2237, 'exchange': 2047, 'fields': 2168, 'structured': 4727, 'bodies': 1081, 'folding': 2243, 'lexical': 2970, 'limited': 2985, 'placing': 3715, 'crlf': 1525, 'higher': 2502, 'level': 2967, 'syntactic': 4814, 'sadly': 4301, 'requirement': 4189, 'carter': 1196, 'cam': 1176, 'dpc22': 1862, 'ac': 662, 'uk': 5064, 'okay': 3491, 'exim': 2060, 'complains': 1375, 'unqualified': 5107, 'rejected': 4109, 'suspicion': 4799, 'leaked': 2946, 'quite': 3931, 'rfc': 4243, '5322': 425, 'cyrus': 1564, 'mailstore': 3107, 'significant': 4503, 'hide': 2497, 'mdn': 3191, '1490221': 139, 'checkboxes': 1256, 'requesting': 4184, 'fro': 2303, 'confusion': 1416, 'amongst': 790, 'reasons': 4045, 'jstz': 2860, 'extending': 2100, 'templates': 4858, 'assets': 902, 'documentation': 1828, 'basically': 1012, 'adds': 716, 'base': 1001, 'reality': 4039, 'limits': 2988, 'usefulness': 5161, 'fortunately': 2275, 'easy': 1904, '658': 495, 'rcmail_output_html': 3983, 'paths': 3641, 'base_path': 1006, 'get_skin_file': 2365, 'timestamp': 4943, 'dependencies': 1693, 'speak': 4603, 'after': 733, 'downloading': 1860, 'cloning': 1307, 'bare': 1000, 'certificate': 1225, 'verification': 5230, 'cafile': 1163, 'ca': 1153, 'certificates': 1226, 'crt': 1529, 'crlfile': 1526, 'none': 3414, 'diffusion': 1760, 'pnl': 3733, 'net_ldap': 3382, 'dry': 1877, 'dist': 1810, 'dev': 1727, 'custom': 1552, 'installers': 2745, 'scripts': 4351, 'autoloader': 954, 'vv': 5272, 'vvv': 5273, 'verbose': 5227, 'progress': 3865, 'classmap': 1285, 'authoritative': 946, 'optimize': 3530, 'platform': 3720, 'reqs': 4181, 'packages': 3583, 'wgetting': 5315, 'gateway': 2327, 'wget': 5314, '57': 438, 'resolving': 4203, '55': 434, 'connecting': 1421, '443': 387, 'awaiting': 965, '200': 194, 'unspecified': 5122, '812': 542, '005s': 7, '32': 312, 'mb': 3176, '11812': 86, 'subscribe': 4749, '2900': 282, 'them': 4890, 'str_replacement': 4695, 'ttt': 5027, 'str_replacement_0': 4696, 'internals': 2767, 'get_record': 2363, 'stale': 4654, 'rcmail_contacts': 3971, 'existent': 2062, 'any': 814, 'workaround': 5367, 'restores': 4214, 'bad': 995, 'necessarily': 3370, 'matching': 3157, 'looking': 3055, 'tnx': 4956, 'clarification': 1279, 'mailvelope': 3110, 'encryp': 1970, 'api': 830, 'wrongly': 5385, 'inactive': 2664, 'map': 3135, 'confirm': 1407, 'below': 1033, 'usemap': 5162, 'foo': 2255, 'shape': 4467, 'near': 3367, 'dropping': 1875, 'wrote': 5386, 'chance': 1233, 'nginx': 3400, 'mapping': 3136, 'stock': 4686, 'openresty': 3518, 'compiled': 1372, 'quicksearchbar': 3930, 'perfectly': 3659, 'week': 5307, 'position': 3753, 'escapes': 2015, 'annoyance': 802, 'blocked': 1073, 'navigation': 3364, 'jacking': 2831, 'poc': 3735, '0px': 47, 'lenny': 2959, 'seen': 4384, '2005': 196, 'team': 4845, 'test2': 4872, 'test3': 4873, 'modify': 3288, 'list_folders_subscribed': 3004, 'arguments': 868, 'older': 3494, 'libraries': 2974, 'syslog': 4816, 'closelog': 1311, 'causing': 1210, 'continue': 1460, 'appication': 842, 'senders': 4402, 'getting': 2376, 'privacy': 3837, 'particular': 3618, 'pasted': 3634, 'focusing': 2236, 'eg': 1922, 'ivborw0kggoaaaansuheugaaacuaaaa7cayaaaaklpfzaaafwkleqvr4ae3do6xtqxwh4b': 2827, 'ur4hxqufdcxwcwqvrqjwagomeecsie2p6rqjrsssuhhfrsvqojcoihgkfcq94p': 5149, 'olmzuvc': 3496, 'be9': 1018, 'ssc8': 4643, 'mm2tfpxtm1jqzvlv8m7pwmkkkagqiecbagaabagqiecdwbwlcl': 3279, 'tucbkb': 5029, 'q2tog8bagqiedieaick': 3916, 'tpjiyto3j': 4979, 'kocxvvdkec3gct': 2896, 'p4ve2vesbagacbay2wditljp6rpj9n6eskv4yauqmdogiecbagsbucy6d4x6lh3y': 3580, 'y543a19hgrztglitmr7ivltofbbr55cazagqiecbweatm9onrsrrqzlcbaa3bcn4zfhlut99fjbkoyty': 5423, 'afaxerb7r7f1pfayg3cr': 729, 'kcaaaecbi4mcgjroahtxyq': 2872, 'jtlrlm8haw5mcmwsc5i0vy49motyjd8n': 2861, 'tjjs0lusfluugoueybagacbgykwdiodic70xjlzk5wycp5j8k2sz5pcnrut': 4948, 'o59xgbezvpoxs7l5qkqiecawieswn5txobnqzbfjd6eo0z7hyb5bcmvvjhk1tgl2nurhvu2keoecbagqodacywd4brodjr0hxf': 3454, '8nck169rmotwjock6um7xyr5omlng9qrikcaaaecwymwlwa6l6wp30gecbagqiaaaqiecbagqiaaaqiecbagqiaaaqiecbagqiaaaqie': 570, 'hccf45vavzd7f4futlru1v': 2472, 'qxkbagqienhxgqatlsxwt5dt66f5rnf6t5ihvvsmy7f9voc1upfabswfuesaaaecbpzfoegxs7r1zf3nk7wy8pcm6uo0n6': 3941, 'o0idjlh7viq6oplk013zhdpahqiaaaqlhu6bbsavw': 3453, 'jdkgytvj3x': 2837, 'nyh2x8u5emx': 3452, 'po4k': 3734, 'y7ixps7o8s7z': 5424, 'xie7zr23cwo9kd7zhohcr7ni46lhegqiaagx0xono9vwa9a8ci34': 5405, 'vmdjtygvqu3keyjfx9l7t7khy9mjxuebo1oxjtkpywpj7k': 5260, 'pksaaaecbpzvyfnq7jtqo2p0ug6xi6fgenddwurldt1': 3710, 'bywqoyl8diwyl82fshjdkrth4cnlsnkcbagqilafapuc4vlv75zunhx3jbl6bmzoj65lxf': 1149, '09y4vsdl1u09fnoy5u1bqbunexjtleibagacbfrxya1bc16mrkrw9aumv6xqnuwl3apybfxfxjzm6ghjt7uneg3lfbagqiebg3wx': 38, 'avb8ekyfvjxula67ggvgclep0ntj4exogx2qp2v9zepbdsdqtoaaaqietkfg3dtqqr5varupbtw5lbegqiaaaqiecbagqiaaaqiecbagqiaaaqiecbagqiaaaqiecbagqiaaaqiecbagqiaaaqiejrpasa412vccj': 960, 'xy43zj': 5421, 'jwbagqiengt0pcd': 2868, '1l9sbzip3fj2h1wjqqiecbayasfutnfg2i': 188, 'r4': 3943, 'dxuowfbikjsbsowtp2': 1891, 'rpmwtlwgqiecawfyldb3sbruguunjors': 4284, 'zxxbptxfkdj': 5451, 'z7vl27bpulhebb6tsdnqfbegqida9grm6dmz1lqzcangr4j9np': 5437, 'q2px3grh7xtnybu': 3915, 'v6zkbagqiefgi9f5ig928p9ga2n': 5197, 'hk1w2vjucboqugk2b20q1khzbb4kaaqiecpxnbbrogvaagbsi': 2512, '7vtp02dxm1qbh3tdiznz': 538, 'umrz8jzb9b': 5068, 'zcaaqiecgypwbwdvjj6': 5441, '9gija2o': 589, 'tqwdnq4f897iw2ehsm23im2w': 4980, 'qfr9secbagsftg50ivv1ev7t5yd7tvbzqriecaaaecbagqiecaaaecbagqiecaaaecbagqiecaaaecbagqiecaaaecbagqiecaaaecbagqiecaaaecbagqiecaaaecbagqiecaaaecbagqiecaaaecbagqiecaaaecbagqiecaaaecbagqiecaaaecbagqiecaaaecbagqiecaaaecbagqiecaaaecbagqiecawfqbvwahn7ehx1hh1aaaaabjru5erkjggg': 3918, 'happening': 2457, 'anyone': 817, 'cheers': 1262, 'arthur': 888, 'removes': 4141, 'minimal': 3257, 'meaning': 3195, 'compser': 1390, 'runs': 4294, 'obviously': 3464, 'dmarc': 1818, 'zip': 5446, 'whatsoever': 5319, 'disposition': 1807, 'disabling': 1781, 'includes': 2673, 'consists': 1434, 'solely': 4560, 'indicating': 2694, 'software': 4559, '20160701': 210, '1012': 62, 'revision': 4237, '3d9e170d8b2aed545749a86028d4e17758f562c1': 363, 'dotdeb': 1851, 'localization': 3029, 'de_de': 1622, 'de_ch': 1621, 'labels': 2911, 'offen': 3481, 'additional': 707, 'label': 2910, 'elsewhere': 1942, 'blockquote': 1075, 'saw': 4324, 'convert_blockquotes': 1471, 'rcube_html2text': 4001, 'stripos': 4715, 'imagick': 2614, '5351': 426, 'thumbnails': 4925, 'setimagealphachannel': 4447, 'alpha': 771, 'channel': 1240, 'tied': 4931, 'gen_message_id': 2335, 'domain_part': 1840, 'get_username': 2368, 'yielding': 5430, 'disclosing': 1789, 'primary': 3828, 'emails': 1948, 'auth_sasl': 941, 'deprecation': 1700, '578': 441, 'nonstatic': 3418, '575': 439, 'digestmd5': 1763, 'base64_encode': 1004, 'getresponse': 2374, 'authc': 942, 'base64_decode': 1003, 'philippe': 3682, 'unless': 5101, 'recreate': 4066, 'occurred': 3471, 'spam': 4596, 'spamassassin': 4598, 'needle': 3374, '333': 318, 'shared': 4469, 'couple': 1503, 'select_folder': 4387, 'urlencode': 5152, 'target': 4837, 'reflects': 4088, 'addeventlistener': 703, 'init': 2711, 'settimeout': 4453, 'topline': 4974, 'flicker': 2227, 'produces': 3856, 'activates': 692, 'minmodetoggle': 3258, 'briefly': 1112, 'flickering': 2228, 'logic': 3041, 'flexible': 2226, 'galera': 2324, 'cluster': 1317, 'possibiltiy': 3757, 'auto_increment': 948, 'easily': 1903, 'misleading': 3267, 'accessing': 672, 'accesses': 669, 'disabled_actions': 1779, 'he': 2473, 'presented': 3808, 'rare': 3955, 'subscription': 4753, 'gb2312': 2329, 'mb_list_encodings': 3179, 'mb_convert_encoding': 3177, 'commited': 1357, '42ddfe5ec9f0': 382, 'backported': 988, 'max_packet': 3164, 'prevents': 3820, 'max_packet_size': 3165, '5mb': 451, 'holy': 2518, 'grail': 2406, 'dividing': 1816, 'remaining': 4130, 'free': 2297, 'smaller': 4541, 'create_default_folders': 1514, 'functioning': 2315, '42': 377, '5qnqf6fd': 452, 'ba41': 980, 'nil': 3405, 'a0006': 623, 'a0007': 624, 'a0008': 625, 'a0009': 626, 'a0010': 627, 'a0011': 628, 'a0012': 629, 'a0013': 630, '33': 316, 'a0014': 631, '34': 323, 'a0015': 632, 'pek4l7i6': 3654, 'a0016': 633, 't1rlfvhg': 4820, '2adf': 288, 'nonexistent': 3416, 'prefixed': 3796, 'delete_folder': 1677, 'leaves': 2950, 'directories': 1772, 'hierarchy': 2500, 'leaf': 2944, 'stem': 4680, 'recursive': 4069, 'tree': 5003, 'overlaps': 3571, 'whereby': 5324, 'legibly': 2955, 'exposed': 2096, 'conditions': 1395, 'extremely': 2111, 'machine': 3083, 'expose': 2095, 'changing': 1239, 'subscribtion': 4752, 'unchecking': 5073, 'unsubscribing': 5124, 'row': 4281, 'selections': 4393, 'diacritics': 1737, 'undeliverable': 5078, 'diagnostic': 1739, 'smtputf8': 4554, 'offered': 3482, 'mx1': 3325, 'seznam': 4461, 'cz': 1565, '77': 528, '75': 524, '76': 526, 'warn': 5281, '7064d8839677ef7381b047d68a1fb082': 517, 'ea816a0': 1899, 'matter': 3158, 'messagepreview': 3227, 'suggested': 4772, 'bypass': 1144, 'swf': 4802, 'jpg': 2847, 'modifies': 3287, 'whatever': 5317, 'skinname': 4526, 'replies': 4163, 'globals': 2390, 'parse_with_globals': 3606, 'fix_paths': 2217, 'alive': 760, 'expired': 2078, 'session_error': 4430, 'logon': 3047, 'locally': 3030, 'sth': 4683, 'intervals': 2772, '1325': 109, 'post_query': 3761, '1330': 111, 'given': 2384, '1336': 112, '0rc5': 49, 'packed': 3585, '306': 303, 'md5sum': 3190, 'sql_arr': 4631, 'unserialize': 5117, 'depth': 1701, 'set_prefs': 4440, 'property': 3874, 'protected': 3881, '143': 124, 'array_key_exists': 877, 'relax': 4116, 'ibm': 2557, 'notes': 3431, 'pink': 3707, 'rectangle': 4067, 'bin': 1050, 'repeat': 4153, 'reboot': 4046, 'sieve': 4495, 'management': 3127, 'integrated': 2756, 'generic': 2346, 'advanced': 726, 'books': 1086, 'remember': 4133, 'exactly': 2037, 'personal': 3674, 'catalog': 1201, 'properties': 3873, 'k0oc94s5': 2869, 'syntax': 4815, 'integer': 2755, 'q049twvyemxpywtvdibwyxnpbglpiefuyxrvbcdldmljacxpvt1trkvevsxeqz1hzcxeqz1zzmvkdsxeqz1ydq': 3914, 'sfedu': 4462, 'contact_id': 1443, 'q049twvyemxpy': 3913, '421': 379, '539': 428, '_framed': 600, '_source': 613, '_cid': 595, 'finding': 2200, 'detailed': 1717, 'uris': 5150, 'evil': 2033, 'renders': 4150, 'referencing': 4082, 'confirming': 1410, 'definitions': 1670, 'diplay': 1766, 'leak': 2945, 'saying': 4326, 'unrelated': 5112, 'installations': 2742, 'website': 5305, 'autoplay': 958, 'video': 5244, 'circumstances': 1274, 'doesn': 1834, 'typically': 5048, 'channels': 1241, 'published': 3900, 'privately': 3839, 'signed': 4502, 'ask': 896, 'bounced': 1094, 'dedicated': 1647, 'webpage': 5301, 'detailing': 1718, 'preferably': 3791, 'pgp': 3679, 'jsdeps': 2855, 'migration': 3245, 'followed': 2247, 'told': 4965, 'took': 4968, 'moment': 3292, 'realize': 4040, 'copied': 1480, 'foreach': 2262, 'changelog': 1237, 'md': 3187, 'license': 2978, 'oh': 3489, 'yeah': 5426, 'vm': 5258, 'turned': 5035, 'unzip': 5131, 'relating': 4113, 'trim': 5016, 'awesome': 968, 'expand': 2066, '1000': 58, 'members': 3206, 'bcc': 1015, '1600': 156, '3000': 299, 'hardcoded': 2462, 'abook': 648, 'set_pagesize': 4439, 'todo': 4959, 'solved': 4564, 'increasing': 2683, 'hardcored': 2463, 'overwrited': 3576, 'max_pagesize': 3166, '2500': 257, 'max_recipients': 3167, 'advance': 725, 'completion': 1380, 'final': 2197, 'matched': 3155, 'huge': 2551, 'watermark': 5292, 'when': 5321, 'display_next': 1801, 'read_when_deleted': 4029, 'skip_deleted': 4529, 'widescreen': 5337, 'layout': 2931, 'extention': 2105, 'edge': 1907, 'pagenav': 3589, 'searchfield': 4367, 'tabs': 4827, 'taskicons': 4841, 'forces': 2261, '28741ed0322': 279, '51': 413, 'byte': 1147, 'seeing': 4380, 'understood': 5086, 'relates': 4112, 'tnef': 4955, 'considers': 1429, 'octet': 3474, 'stream': 4702, 'placed': 3713, 'top_posting': 4973, 'sig_below': 4498, 'cited': 1275, 'believe': 1032, 'get_caret_pos': 2354, 'corresponds': 1491, 'setlectionstart': 4448, 'selectionend': 4392, 'dom': 1837, 'caret': 1195, 'respect': 4206, 'filenames': 2180, 'commented': 1353, 'somebody': 4569, 'pasting': 3635, '257': 261, 'rcube_tnef_decoder': 4019, 'str_replace': 4694, 'speaking': 4604, 'usually': 5177, 'arabic': 855, 'japanese': 2834, 'hebrew': 2479, 'dealt': 1626, 'particularly': 3619, 'strip': 4713, 'excess': 2045, 'alphabet': 772, 'pretend': 3814, 'fix_attachment_name': 2215, 'undo': 5088, 'transport': 4999, 'neutral': 3388, 'encapsulation': 1963, '16le': 160, '0x05': 53, 'stripping': 4716, 'zeros': 5445, 'terminator': 4866, 'gibberish': 2377, 'utf16_to_utf8': 5181, 'le': 2941, 'pairs': 3591, 'reverse': 4231, 'terminators': 4867, 'contents': 1457, 'pr': 3777, 'fractured': 2292, 'possibly': 3759, 'set_group_prop': 4438, 'update_contact_group': 5134, 'renamed': 4144, 'event': 2026, 'group_update': 2424, 'groupupdate': 2427, 'group_insert': 2423, 'group_delete': 2420, 'wondering': 5360, 'combined': 1344, 'reflection': 4087, 'accidentally': 673, 'subscribing': 4751, 'once': 3501, 'released': 4120, 'late': 2925, 'suddenly': 4766, 'grandparent': 2407, 'unsubscribe': 5123, 'net_idna2': 3381, 'greetings': 2413, 'figure': 2170, 'apologize': 831, 'un': 5069, 'educated': 1914, 'centos7': 1221, 'rh': 4247, 'php56': 3691, 'stuck': 4730, 'removing': 4142, 'reduces': 4075, 'rate': 3956, 'limiting': 2987, 'postgres': 3766, 'undesired': 5087, 'utc': 5179, 'bratislava': 1103, 'failed_login': 2123, 'zone': 5448, 'omits': 3498, 'calculations': 1167, 'rcube_db_pgsql': 3998, 'orig': 3544, '2017': 211, '713984686': 521, '654363537': 493, '231': 244, 'iso': 2814, '8601': 554, 'fromunixtime': 2305, 'listing': 3010, 'expanding': 2068, 'shrinking': 4491, 'staying': 4674, 'timer': 4941, 'elapses': 1933, 'reloaded': 4125, 'group_filters': 2421, 'began': 1024, 'filters': 2195, 'myaddress': 3328, '663': 497, 'network_timeout': 3387, 'some': 4566, 'dn': 1820, 'somebook': 4570, 'objectclass': 3458, 'name_attr': 3353, 'customers': 1554, 'somebook2': 4571, 'third': 4905, 'roundecube': 4279, 'stubbornly': 4729, 'replacing': 4160, 'solve': 4563, 'a1f679adca': 635, 'rcmail_install': 3976, 'db_schema_check': 1609, 'initial': 2713, 'chack': 1230, 'columns': 1340, 'european': 2024, 'countries': 1501, 'asort': 900, 'sort_locale_string': 4586, 'uasort': 5054, 'sort_folder_comparator': 4585, 'array_multisort': 880, 'array_map': 879, 'strtolower': 4724, 'silently': 4507, 'discards': 1787, 'accountname': 679, 'forgot': 2268, 'dialogue': 1742, 'dpc99': 1863, 'drops': 1876, 'transforms': 4992, 'into': 2775, 'reveals': 4230, 'rcmail_email_input_format': 3972, 'sticks': 4684, 'notations': 3428, 'strange': 4699, 'dealing': 1625, 'massage': 3152, 'preview_1': 3822, 'formatting': 2273, 'colors': 1335, 'environments': 1995, 'gender': 2336, 'female': 2149, 'male': 3120, 'females': 2150, 'openbsd': 3513, 'accents': 664, 'stuff': 4731, 'cut': 1555, 'canci': 1182, 'gmail': 2391, 'mariadb': 3140, 'rows': 4282, 'rcube_contacts': 3996, '59': 446, '0300': 18, 'f66r76ge': 2115, '1064': 69, 'emai': 1943, 'wiki': 5341, 'of': 3479, 'regarding': 4095, 'mcrypt': 3186, 'mention': 3211, 'obsolete': 3462, 'unmaintained': 5103, 'hopefully': 2524, 'lingering': 2994, 'touch': 4977, 'events': 2027, 'hold': 2517, 'touched': 4978, 'canceled': 1180, 'regardless': 4096, 'scolling': 4339, 'contextmenu': 1459, 'configure': 1404, 'a_user_prefs': 640, 'isset': 2816, 'old_prefs': 3493, 'tend': 4862, 'bin2ascii': 1051, 'uninitialized': 5094, 'mask': 3150, 'hextab': 2492, 'unfocused': 5091, 'unfocus': 5090, 'gray': 2409, 'ish': 2812, '328': 313, 'rise': 4254, 'filename': 2179, 'beeing': 1022, 'attachement': 918, 'lv': 3079, 'el7877': 1931, 'pavadz': 3642, 'fixing': 2221, 'dmy': 1819, 'mdy': 3192, 'datestyle': 1591, 'absender': 656, 'worth': 5372, 'collapse': 1329, '3029': 300, 'captura': 1191, 'pantalla': 3594, 'las': 2921, 'complete': 1377, 'attempt': 928, 'crypt': 1530, 'gpg': 2404, 'pinentry': 3706, 'caveated': 1211, 'admission': 723, 'knowledge': 2893, 'surrounding': 4796, 'face': 2116, 'aborts': 652, 'inaccessible': 2663, 'installing': 2746, 'crypt_gpg': 1531, 'errorexception': 2008, 'file_put_contents': 2177, 'symlink': 4809, 'dependency': 1694, '5833': 444, 'underlying': 5084, '2015111100': 208, 'was': 5286, '1067': 70, '42000': 378, 'implements': 2641, 'countable': 1498, 'rcube_plugin_api': 4012, '438': 385, 'berlin': 1038, 'didnt': 1747, '2987': 287, '133': 110, 'ps': 3892, 'filesystem_attachments': 2184, 'html5_notifier': 2546, 'jqueryui': 2851, 'markasjunk2': 3143, 'persistent_login': 3672, '60': 453, 'lets': 2962, 'imap_cache': 2621, 'sanitize': 4312, 'replacements': 4158, 'incoming': 2675, 'errror': 2011, 'ah02430': 740, 'x109em4': 5390, 'aborting': 651, 'x1d': 5392, '20o': 226, '5b0': 448, 'x18': 5391, 'x1f': 5393, 'x10': 5389, 'raise': 3947, 'diacritic': 1736, 'paste': 3633, 'se': 4357, 'ke': 2873, 'zabloudit': 5439, 'anebo': 800, 'jsem': 2856, 'turistka': 5032, 'dvou': 1890, 'sklony': 4531, 'zapomenout': 5440, 'co': 1322, 'si': 4493, 'pro': 3841, 'jistotu': 2841, 'vybrat': 5274, 'fotky': 2283, 'ze': 5442, 'fotografie': 2284, 'nebo': 3368, 'fotkami': 2282, 'mezi': 3237, 'roky': 4256, '2008': 199, 'brontosaurus': 1117, 'tento': 4863, 'od': 3476, 'tu': 5028, 'bude': 1125, 'najdete': 3348, 'turistickou': 5031, 'inspiraci': 2738, 'jste': 2858, 'starosti': 4659, 'radosti': 3946, 'psem': 3893, 'najdou': 3349, 'previews': 3825, 'experiencing': 2077, 'container': 1448, 'previewed': 3823, 'overlap': 3569, '205px': 217, 'ideally': 2566, 'efforts': 1921, 'styling': 4736, 'conflict': 1412, 'savetarget': 4322, 'spelling': 4620, '46c96bf0': 393, 'on': 3500, 'forever': 2264, 'does': 1833, 'she': 4470, 'reloads': 4127, 'alerting': 752, 'shop': 4478, 'partxx': 3621, 'mixed': 3278, 'boundary': 1096, '_part_9_958628515': 607, '1502433972518': 143, 'part_9_958628515': 3614, 'iso8859': 2815, 'cid': 1273, 'logo_jmhu': 3046, 'wishes': 5352, 'rectangles': 4068, 'srv': 4642, '95b2b487745247921bfbd4779004322e': 582, 'tmp': 4953, '536': 427, 'noticing': 3435, 'quick': 3928, 'succession': 4762, 'popular': 3747, 'render': 4146, 'fast': 2136, 'slower': 4538, 'mentioning': 3213, 'traditional': 4989, 'highlights': 2506, 'rewind': 4238, 'supports': 4788, 'rewinding': 4239, '0ubuntu0': 50, 'straightforward': 4698, 'indicated': 2692, 'nt': 3441, 'suggestion': 4773, 'copyuid': 1484, 'untagged': 5125, 'rfc6851': 4244, 'parseresult': 3610, 'parses': 3611, 'tagged': 4829, 'imapd': 2626, '69': 508, '432432': 384, '1202': 89, '1229': 90, 'expunge': 2097, 'expunges': 2098, 'caught': 1206, 'objects': 3459, 'stylesheets': 4735, 'cutting': 1557, 'ul': 5065, 'containig': 1451, 'sign': 4499, 'containes': 1450, 'followning': 2249, 'exploited': 2090, 'hackers': 2441, 'credentials': 1519, 'mangles': 3131, 'specifically': 4611, 'mangled': 3130, '827': 545, 'neither': 3378, 'implement': 2636, 'il3ctro': 2605, 'nad': 3346, 'prod': 3853, 'rights': 4252, 'both': 1092, 'production': 3858, 'prod1': 3854, 'dbs': 1617, 'backup': 993, 'pointing': 3739, 'broswer': 1118, 'differences': 1753, 'gone': 2399, 'thru': 4921, 'problematic': 3845, 'column_name': 1338, 'some_rc_table_name': 4568, 'compares': 1365, 'array_diff': 876, 'array_keys': 878, 'cols': 1336, 'db_cols': 1602, 'join': 2844, 'not_updated_db': 3427, 'backup_db': 994, 'already_updated_db': 775, 'met': 3232, 'my_roundcube_database_name': 3327, 'desired': 1712, 'how': 2537, 'yes': 5428, 'sentence': 4410, 'grant': 2408, 'ussual': 5175, 'useful': 5160, 'fetch': 2152, 'asi': 894, 'mentioned': 3212, 'above': 654, 'pull': 3901, 'imap4d': 2618, 'gnu': 2394, 'mailutils': 3109, 'docx': 1831, 'mime_param_folding': 3250, 'envelope': 1993, 'tue': 5030, 'nov': 3438, 'jdoe': 2838, '5bccbc62d02ae2e4d591bea1': 449, '7bit': 535, 'vnd': 5261, 'openxmlformats': 3523, 'officedocument': 3485, 'wordprocessingml': 5363, '0ldqsdcy0lpqtnc10zhqttc30ljqutc70lzqvdc': 46, '0l': 45, 'rgngb0ylrg9ge': 4246, '0yxrhtgh0yjridgk0yvrjngn0y7rjy5kb2n4': 55, 'd0': 1566, 'b0': 969, 'b1': 970, 'b2': 972, 'b3': 973, 'b4': 974, 'b5': 975, 'd1': 1567, '91': 573, 'b6': 976, 'b7': 977, 'b8': 978, 'ba': 979, 'bd': 1016, '80': 539, '81': 541, '82': 544, '84': 549, '85': 552, '86': 553, '88': 558, '89': 562, '8a': 564, '8b': 565, '8c': 566, '8d': 567, '8e': 568, '8f': 569, '6f': 514, '63': 459, 'uesdbbqabgaiaaaaiqdfpnjswgeaacafaaataagcw0nvbnrlbnrfvhlwzxndlnhtbccibaio': 5056, 'oaacaaaaaaaaaaaaaaaaaaaaaaaaaaaaaaaaaaaaaaaaaaaaaaaaaaaaaaaaaaaaaaaaaaaa': 3456, 'peek': 3652, '565': 437, '16196': 157, 'qekqslgo': 3917, '2bac': 289, 'miscelaneous': 3266, 'uudeview': 5190, 'decodes': 1644, '1510651013': 144, 'm946286p86037q0': 3081, 'relay': 4117, 'rs': 4285, 'rw': 4299, 'binding': 1057, 'docker': 1824, '631467': 460, '172': 164, '57562': 440, 'uncaught': 5072, 'ldap_set_option': 2939, 'config_set_debug': 1400, 'config_set': 1399, '__construct': 592, 'ifw': 2598, 'dresden': 1869, 'get_address_book': 2353, 'thrown': 4919, '1934': 179, '225': 241, 'comma': 1349, 'dec': 1636, '2174': 234, '314': 309, '2188': 238, '1435': 125, '1534': 149, '1938': 180, '2185': 237, '47': 394, '2184': 236, '5845': 445, 'ten': 4861, 'screencast': 4342, 'accross': 682, 'allready': 768, 'my': 3326, 'agains': 736, 'profiles': 3861, 'detail': 1716, '1476': 127, 'last_login': 2923, 'mailboy': 3096, 'cs_cz': 1534, 'opt': 3528, 'logi': 3040, 'altering': 782, 'john': 2843, 'doe': 1832, 'jane': 2833, 'rcube_addressbook': 3991, 'compose_contact_key': 1383, 'roundcubemail_db_type': 4276, 'managed': 3126, 'yml': 5431, 'services': 4426, 'roundcubedb': 4271, 'alpine': 773, 'container_name': 1449, 'postgres_db': 3767, 'postgres_user': 3771, 'postgres_password': 3770, 'elastic': 1934, 'pgsql': 3680, 'roundcubemail_db_host': 4273, 'roundcubemail_db_name': 4274, 'roundcubemail_db_user': 4277, 'roundcubemail_db_password': 4275, 'startup': 4664, 'db_dsnr': 1605, 'encounter': 1967, 'appropriate': 853, 'postgres_env_postgres_something': 3769, 'generates': 2341, 'postgres_env_postgres_enabled': 3768, 'mysql_env_mysql': 3336, 'sense': 4406, 'thomascube': 4907, 'j0wi': 2829, 'thoughts': 4910, 'mind': 3255, 'helping': 2485, 'postgre': 3765, 'debug_level': 1633, '1267': 99, 'rcm': 3966, 'exif_read_data': 2059, 'ifd': 2594, '52': 420, 'fastweb': 2138, '2056e7578723a659a35fbc5ee171b0e8': 216, 'dhosting': 1735, 'rcube_image': 4002, '261': 266, 'uploadprogress': 5145, 'pecl': 3651, 'compile': 1371, 'compiles': 1373, 'backchannels': 983, 'blocking': 1074, 'academic': 663, 'efail': 1916, 'cooperation': 1478, 'ruhr': 4289, 'university': 5098, 'bochum': 1080, 'fh': 2166, 'germany': 2349, 'systematically': 4818, 'analyzed': 795, 'bugs': 1128, 'impact': 2634, 'follows': 2250, 'introduction': 2779, 'spammers': 4600, 'abuse': 661, '1x1': 192, 'pixel': 3709, 'track': 4986, 'bypasses': 1146, '72': 522, 'credits': 1520, 'endroid': 1976, 'qrcode': 3920, 'abandoned': 644, 'qr': 3919, 'foreign': 2263, 'formed': 2274, '2018021600': 213, 'apply': 848, 'unsigned': 5120, 'solves': 4565, 'strip_tags': 4714, '_fra': 599, 'med': 3201, '20xxx': 228, 'commenting': 1354, '1520587800': 146, '7800': 531, '2821': 275, '2018': 212, 'msk': 3312, 'clean_datestr': 1288, 'parenheses': 3602, 'interpret': 2770, 'prepared': 3804, 'dots': 1852, 'locales': 3027, 'weekdays': 5308, 'affects': 732, 'combination': 1342, 'lastname': 2924, 'mx': 3324, 'juggling': 2862, 'exploitable': 2088, 'wild': 5342, 'nonetheless': 3415, 'priority': 3836, 'chained': 1231, 'realistic': 4038, 'pov': 3776, 'efficient': 1920, 'ongoing': 3507, 'grow': 2428, 'introduce': 2777, 'features': 2145, 'leverage': 2969, 'spot': 4628, 'explain': 2080, 'clearest': 1293, 'refer': 4078, 'conclude': 1392, 'brief': 1111, 'move_messages': 3301, '817': 543, 'schermata': 4335, 'alle': 762, 'get_uids': 2367, 'cycle': 1560, 'responsible': 4211, 'uids': 5062, '132': 108, 'passing': 3626, 'split': 4626, '157': 152, 'prerequisite': 3806, 'archive_type': 859, 'move_messages_worker': 3302, 'job': 2842, 'move_message': 3300, 'rcube_storage': 4017, 'parse_uids': 3605, 'lies': 2980, '170': 162, '176': 165, 'fetch_headers': 2155, '1235': 92, 'fetchheaders': 2158, 'msgs': 3311, '2600': 265, 'message_set': 3225, 'is_uid': 2809, 'query_items': 3925, 'everywhere': 2032, 'fetching': 2159, '893': 563, '2360': 246, 'controlled': 1466, '2369': 247, 'check_request': 1254, '950': 581, 'operator': 3527, 'loose': 3060, 'strict': 4707, 'theorical': 4894, 'paramaters': 3598, 'typed': 5045, 'var_dump': 5207, '84829randomstring': 551, 'csrfs9499': 1536, 'parameters': 3600, 'clear': 1292, 'willing': 5344, 'publish': 3899, 'technical': 4847, 'blog': 1077, 'findings': 2201, 'hided': 2498, 'familiar': 2132, 'rcube_spellcheck_enchant': 4016, '104': 64, '280767': 274, 'mark': 3141, 'silent': 4506, 'uidset': 5063, '001': 5, '6229': 457, 'explained': 2081, '135': 113, '156': 151, 'injected': 2720, 'passes': 3625, 'move2archive': 3299, '_uid': 615, 'considered': 1428, 'ajax': 745, 'tricking': 5007, 'victim': 5242, 'posterior': 3763, 'difficult': 1758, 'origin': 3545, '20body': 220, '0d': 44, '0aa0006': 40, '20create': 223, '22hacked5': 242, '0aa0007': 41, '20uid': 227, '20fetch': 225, '20255': 215, 'flawless': 2224, 'sop': 4581, 'kick': 2884, 'bypassed': 1145, 'will': 5343, 'packetstorm': 3587, 'push': 3908, 'prior': 3835, 'constant': 1436, 'idna_default': 2585, 'mailog': 3103, 'assumed': 910, 'throw': 4918, 'future': 2318, '908': 572, 'manager': 3128, 'renaming': 4145, '5905': 447, 'specified': 4612, 'prio': 3834, '0c79af92': 42, '6956': 512, 'creation': 1518, 'wed': 5306, 'gmt': 2392, '0c79af92bc4ca4fc88eaa9abe2bff835': 43, 'airdus': 744, 'win64': 5346, '2o': 295, 'libmysql': 2973, 'mysqlnd': 3339, '20150407': 207, 'mysqli': 3337, 'curl': 1545, 'intl': 2774, '1803': 169, 'biuld': 1061, '17134': 163, 'red': 4070, 'letters': 2964, 'rollback': 4257, 'rouncube': 4263, 'ideas': 2567, '181': 173, 'setlocale': 4449, 'lc_all': 2932, 'lang': 2914, 'ru_ru': 4288, 'cp1251': 1508, 'rus_rus': 4297, '6270': 458, 'arch': 857, 'gssapi': 2429, 'proxy': 3890, 'kerberos': 2878, 'layers': 2930, 'echoing': 1906, 'payload': 3643, 'construct': 1440, 'proposal': 3875, 'proposals': 3876, 'identical': 2570, 'products': 3859, 'integrity': 2757, 'tells': 4852, 'wants': 5280, '4752': 396, 'besides': 1040, 'managasieve': 3125, 'reasonable': 4044, 'krb5': 2907, 'exceptions': 2044, '024375880': 15, '636': 465, 'success': 4759, 'gssapicontext': 2431, 'initseccontext': 2718, 'gssapi_context': 2430, 'catch': 1202, '652': 491, '655': 494, 'unwrap': 5130, 'wrap': 5375, 'itoken': 2825, 'server_layers': 4423, 'ord': 3539, '0x00': 51, 'implementations': 2638, '0x1': 54, '0x01': 52, 'octets': 3475, 'pack': 3581, 'cccc': 1214, 'otoken': 3552, 'trigger_error': 5013, 'e_user_warning': 1898, '662': 496, '682': 505, 'putline': 3910, 'readreply': 4034, 'improper': 2654, 'roundcoube': 4264, 'sope': 4582, 'win': 5345, 'indicate': 2691, 'bold': 1083, 'dos': 1849, 'cosmetic': 1493, 'userinterface': 5167, 'getquota': 2372, 'array_chunk': 875, '3129': 308, 'supplied': 4782, 'quotas': 3936, 'a3': 636, 'getquotaroot': 2373, 'quotaroot': 3935, '138743417': 116, '3126': 307, 'quota_root': 3934, 'tokenizeresponse': 4963, 'overlapping': 3570, 'german': 2348, 'einstellungen': 1927, 'over': 3566, 'pointer': 3738, 'kolab_activesync': 2899, 'el7': 1930, 'kolab_wf': 2905, 'noarch': 3408, 'libkolab': 2972, 'kolab_tags': 2904, 'calendar': 1168, 'kolab_files': 2902, 'kolab_notes': 2903, 'tasklist': 4842, 'kolab_delegation': 2901, 'kolab_addressbook': 2900, 'whenever': 5322, 'parse': 3604, '012': 12, '011': 11, 'whereas': 5323, '74': 523, 'php73': 3693, 'lemp': 2957, '8288': 546, 'stderr': 4676, 'racter': 3945, '71': 519, 'rcube_vcard': 4022, '547php': 433, 'preg_replace_callback': 3800, 'compilation': 1370, '530php': 423, 'preg_replace': 3799, 'in2018': 2661, '8290': 547, 'inva': 2780, 'onload': 3509, 'sinister': 4516, 'chromium': 1272, 'ipad': 2792, 'appearance': 836, 'stretched': 4706, 'height': 2480, 'mobile': 3280, 'pcre': 3645, 'backtrack_limit': 992, '3kb': 367, '1804': 170, 'referer_check': 4084, 'refreshing': 4092, 'history': 2510, 'replacestate': 4159, 'unsets': 5119, 'referrer': 4086, 'imagine': 2615, 'brings': 1113, 'benefits': 1034, 'spoofed': 4627, 'sound': 4589, 'subactions': 4739, 'arrows': 887, 'common': 1358, 'buttons': 1138, 'harder': 2464, 'washing': 5290, 'roundcube1': 4267, '_html': 602, '37d23': 346, 'zzz': 5453, 'vm2': 5259, 'first_name': 2209, 'zzzzzzzz': 5456, 'zz': 5452, 'zzzzz': 5454, 'zzzzzzz': 5455, 'phone_1': 3684, 'zzzzzzzzz': 5457, 'valign': 5202, '39d24': 361, 'exceed': 2040, 'shortname': 4480, 'portrait': 3752, 'landscape': 2913, 'subsequent': 4754, 'horizontally': 2526, 'thu': 4922, 'malformed': 3121, 'low': 3072, 'confirmed': 1409, 'memory_limit': 3209, '64m': 489, '10mb': 74, 'iis': 2603, 'temp_dir_ttl': 4855, 'settingfilenames': 4455, '4beta': 405, 'truncated': 5021, 'elipsis': 1939, 'important': 2646, 'buy': 1139, 'wider': 5336, 'eugh': 2022, 'white': 5328, 'loving': 3071, 'grayed': 2410, 'activate': 690, 'phones': 3685, 'zones': 5449, 'december': 1637, 'brazil': 1104, 'america': 788, 'sao_paulo': 4316, 'daylight': 1599, 'months': 3293, 'ago': 738, 'tz': 5052, '222': 240, 'datetimezone': 1593, 'listidentifiers': 3009, 'tzs': 5053, '45000': 390, 'sortkey': 4588, 'sprintf': 4629, '06d': 27, 'funny': 2317, 'resuming': 4222, 'mua': 3315, 'resume': 4221, 'point': 3736, 'mid': 3242, 'phone': 3683, 'numbers': 3448, 'discarded': 1786, 'fn': 2233, 'tel': 4849, '12354612': 93, '67890': 501, 'cell': 1218, 'fax': 2141, '123': 91, 'processing': 3852, 'resets': 4195, '392': 360, 'simplest': 4511, 'inputs': 2729, 'wide': 5335, 'boxes': 1098, 'intentional': 2758, 'ff64': 2162, 'marking': 3147, '328c324': 314, 'unsolicited': 5121, 'inject': 2719, 'alerts': 753, 'connects': 1424, 'convo': 1475, '2019': 214, 'm8bccice': 3080, '2c45': 290, 'imap4': 2617, 'notify': 3437, 'snip': 4556, 'max_message_size': 3163, 'learned': 2947, 'forwards': 2281, '1m': 189, 'klick': 2889, 'dns': 1821, 'servers': 4424, 'bind': 1053, 'knot': 2891, 'validating': 5200, 'checkdnsrr': 1257, 'cloudflare': 1316, 'ietf': 2592, 'dns_check': 1822, 'aaaa': 642, 'spent': 4623, 'filetype': 2185, 'fileinfo': 2178, 'mime_content_type': 3247, 'magic': 3086, 'mime_magic': 3249, 'garbage': 2326, 'dirs': 1775, 'subdirs': 4740, 'love': 3070, 'thinks': 4904, 'check_mime_detection': 1251, 'roundcube_logo': 4270, 'tiff': 4933, 'file_content_type': 2172, 'install_path': 2740, 'basename': 1009, 'service': 4425, 'strictly': 4708, 'resized': 4198, 'encrypted': 1972, 'favicon': 2140, 'buster': 1134, 'elastic4mobile': 1935, 'plug': 3722, 'tracker': 4988, 'digging': 1764, 'limitation': 2984, 'weird': 5310, 'inadvertently': 2666, 'override': 3572, 'overriding': 3574, 'automagically': 955, 'reverts': 4234, 'giving': 2386, 'seamless': 4358, 'experience': 2074, 'er': 1998, 'human': 2552, 'interaction': 2760, 'pressed': 3811, 'disappeared': 1784, 'prev': 3816, 'fully': 2310, 'marker': 3146, '2nd': 294, 'rc1': 3960, 'x_frame_options': 5402, 'deny': 1692, 'jstimezonedetect': 2859, 'publickey': 3898, 'sha1': 4466, 'sum': 4777, 'js_cache': 2853, '08b0757264adb86066940bbafb7aa9ec0c7c6685': 35, 'mailboxes': 3095, 'under': 5080, 'uncovered': 5075, 'rcmail_mailbox_select': 3979, 'noselection': 3424, 'realnames': 4042, 'maxlength': 3172, 'folder_filter': 2239, 'folder_rights': 2240, '1486114': 130, '1488279': 133, 'onchange': 3502, 'val': 5198, 'explains': 2082, 'pointed': 3737, 'replied': 4162, 'content_type': 1456, '759': 525, '180s': 172, '180': 168, 'seconds': 4372, 'wont': 5361, 'suceed': 4764, 'regular': 4106, 'verify': 5232, 'statements': 4668, '2013': 202, 'add_identity': 699, 'logon_user': 3048, 'userabc': 5166, '1e0de99fa4f0b8555f717faaa4c8d029': 187, 'fb3d25dfde8a81e0fb25ff0849df0735': 2142, 'arises': 871, 'killing': 2886, 'ajax_call': 746, 'rc_request_header': 3962, 'get_request_token': 2364, 'die': 1748, 'updatedb': 5136, 'exit': 2065, 'cli': 1296, 'debian32': 1631, 'imscp': 2659, 'suhosin': 4775, 'php_admin_flag': 3694, 'elementary': 1937, 'watson': 5293, 'support_url': 4785, 'prefererred': 3794, 'poll': 3742, 'normally': 3422, 'development': 1730, '76f4f79': 527, 'debugging': 1635, 'traced': 4984, 'finfo': 2204, 'refuses': 4094, 'helps': 2486, 'http': 2550, 'sso': 4648, 'wlan': 5357, 'hotspot': 2534, 'vanishes': 5205, 'solutions': 4562, 'configurable': 1401, 'locations': 3033, 'aks': 748, 'redirecting': 4073, 'him': 2507, 'her': 2489, 'clipboard': 1305, 'tweaks': 5038, 'depends': 1697, 'resolves': 4202, 'installs': 2747, 'forum': 2276, 'stating': 4672, 'profile': 3860, 'defferent': 1665, 'admin': 718, 'some_domain': 4567, 'distributed': 1812, 'new_mail': 3392, 'choosed': 1270, 'till': 4935, 'handy': 2453, 'additonal': 709, '2006': 197, 'storing': 4693, 'max_allowed_packet': 3160, 'cache_message': 1156, 'avoided': 964, 'mysql_bind_param': 3335, 'mysqli_stmt_send_long_data': 3338, 'programming': 3863, 'truncate': 5020, '31k': 311, '32k': 315, '5m': 450, '128k': 103, 'divisible': 1817, 'rcmail_get_cids': 3974, 'got_source': 2403, 'comparission': 1367, 'succeeds': 4758, 'looses': 3061, 'digits': 1765, 'divided': 1815, 'whose': 5334, 'add_footer': 698, 'myplugin': 3331, 'overwritten': 3577, 'template_exists': 4857, 'imap_timeout': 2625, 'prenote': 3802, 'antispam': 812, 'joke': 2845, 'attachements': 919, 'mes_sage': 3219, 'seriously': 4421, 'squeeze': 4639, 'accounts': 680, 'customer': 1553, '4000': 370, 'internaldate': 2766, 'analyzing': 796, 'mes_sages': 3220, 'unseen': 5113, 'replaying': 4161, 'terminal': 4865, 'intercompatibility': 2761, '40': 369, 'hey': 2493, 'lowest': 3074, 'corrected': 1488, 'selector': 4394, 'check_referer': 1253, '239': 249, 'outdated': 3558, 'aroused': 873, 'jpgs': 2848, 'quotation': 3937, 'subjects': 4744, 'complaining': 1374, 'fresh': 2301, 'fieled': 2169, 'gethostbyaddr': 2370, 'ipv4': 2797, 'ipv6': 2798, '350': 330, 'extracts': 2110, '423137602': 380, 'strstr': 4723, 'ips': 2795, 'explode': 2086, 'hostname': 2530, 'rcmail_encrypt_header': 3973, 'rcube_string_replacer': 4018, 'utf_domain': 5183, 'highlighting': 2505, 'simplified': 4512, 'x00': 5387, 'x2f': 5394, 'x3b': 5395, 'x40': 5396, 'x5b': 5397, 'x60': 5398, 'x7b': 5399, 'x7f': 5400, 'utf_domain_part': 5184, 'unneeded': 5106, 'indexing': 2690, 'enabling': 1962, 'unreachable': 5109, '101': 61, '0000': 2, '1485': 128, 'unlock': 5102, 'loading1363604383576': 3022, '_lang': 604, 'complaint': 1376, 'years': 5427, '1485989': 129, 'reversed': 4232, '188': 174, '195': 182, '11e670da': 87, 'backed': 984, 'setmetadata': 4450, 'responds': 4208, 'metadata': 3234, 'escaped': 2014, 'x86_64': 5401, 'gitb6c37b': 2381, 'el6': 1929, 'kolab_3': 2898, 'nightlybuilds': 3404, 'symptoms': 4811, 'device': 1731, 'dropped': 1874, 'attempted': 929, 'ipad1': 2793, 'iphone4': 2794, 'atomic': 915, 'fewer': 2161, 'minus': 3260, 'ones': 3506, 'compact': 1361, 'totally': 4976, 'very': 5240, 'misnumbered': 3268, '7801': 532, '6951': 511, '6946': 509, '6950': 510, 'definitely': 1668, '7751': 529, 'pine': 3705, 'confirms': 1411, 'misbehaving': 3265, 'absolutely': 658, 'invisible': 2787, '863': 555, 'loss': 3066, 'diagnose': 1738, 'clicks': 1301, 'langs': 2915, 'pspell': 3894, 'engine': 1978, 'gb': 2328, 'aspell': 901, 'dump': 1885, 'dicts': 1744, 'variant_0': 5211, 'variant_1': 5212, 'variant_2': 5213, 'w_accents': 5276, 'wo_accents': 5358, 'en_ca': 1954, 'en_gb': 1955, 'ise': 2810, 'ize': 2828, 'removal': 4137, 'anybody': 815, 'rcabook': 3964, 'addopts': 710, 'remove_from_group': 4139, 'cyp': 1561, 'proprerly': 3879, 'submitted': 4748, 'forget': 2266, '995': 588, 'dsn_string': 1881, 'hostspec': 2532, 'phptype': 3698, 'accept': 665, 'dbname': 1614, 'implode': 2643, 'dsn_options': 1880, 'basekeys': 1008, 'firstname': 2210, 'html5': 2545, 'consistently': 1432, 'misspelt': 3273, 'spell': 4616, 'frequently': 2300, 'telling': 4851, 'mis': 3264, 'spells': 4621, 'amusing': 792, 'intentionally': 2759, 'ironic': 2801, 'grep': 2414, 'finds': 2202, 'spelt': 4622, 'differently': 1756, 'british': 1114, 'american': 789, 'surprisingly': 4795, 'shoudn': 4482, 'e6': 1895, 'e7': 1896, 'e9': 1897, 'ab': 643, '94': 577, 'e4': 1892, 'a4': 637, 'e5': 1894, 'a8': 639, 'a0': 617, '3den': 364, 'tools': 4971, 'forced': 2260, 'determined': 1724, 'anyways': 822, 'assigns': 908, '51391082767092387700': 415, 'disapear': 1782, 'plylst10': 3726, 'wpl': 5374, 'plylst11': 3727, 'plylst12': 3728, 'vpl': 5266, '51391082767093947700': 416, 'plylst13': 3729, '51391082767095507800': 417, 'plylst14': 3730, 'plylst15': 3731, 'couldnt': 1496, 'framed': 2296, '1396164787': 118, '1397142019': 119, 'rcube_webmail': 4025, 'iframe_loaded': 2597, 'loading1397142474621': 3023, 'set_draft_id': 4436, '5316': 424, 'auto_save_start': 949, 'cdata': 1216, 'delete_all': 1676, '496': 403, 'cascades': 1197, 'certains': 1224, 'archiving': 862, 'pst': 3895, 'mailer': 3100, 'daemon': 1571, 'somebusinessname': 4572, 'theory': 4895, 'difficulty': 1759, '54511': 431, 'smtp_timeout': 4551, 'fsockopen': 2307, 'documented': 1829, 'somewhere': 4578, 'factored': 2119, '_convert_blockquotes': 596, 'v5': 5196, 'claim': 1277, 'proceeding': 3849, '142': 122, 'registers': 4102, 'failures': 2127, '237': 248, '242': 252, 'methods': 3236, 'rc_install': 3961, 'pdo_mysql': 3648, 'optimal': 3529, 'verified': 5231, 'operation': 3525, 'sqlite3': 4635, 'washtml': 5291, 'recieves': 4054, 'unmodified': 5104, 'probalby': 3843, 'unclosed': 5074, 'rest': 4212, 'markup': 3149, 'roundcubes': 4278, 'block_elements': 1072, 'birthday': 1058, 'formats': 2271, 'improvements': 2658, 'assumption': 913, 'average': 962, '10000': 59, 'inform': 2699, 'consideration': 1427, 'estimate': 2019, 'estimated': 2020, 'finish': 2205, 'omit': 3497, 'searched': 4365, 'translated': 4996, 'takes': 4833, 'forward_uid': 2278, 'myrights': 3332, 'preparing': 3805, 'slow': 4537, 'implementation': 2637, 'utils': 5187, 'possibilities': 3755, '1062': 68, 'roundcube_cache_index': 4268, '108': 72, 'rcube_result_index': 4013, '0raw_data': 48, '4253': 381, '63818': 478, '63841': 485, '63840': 484, '63837': 483, '63833': 482, '63824': 481, '63823': 480, '63820': 479, '63808': 477, '63730': 475, '63751': 476, '63712': 474, '63701': 473, '63691': 472, '63678': 471, '63676': 470, '63670': 469, '63664': 468, '63647': 467, '63636': 466, '63589': 464, '63584': 463, '63568': 462, '63565': 461, 'randomly': 3952, 'relatively': 4115, 'away': 967, 'hear': 2478, 'checker': 1259, 'misspellings': 3272, 'punctuation': 3904, 'displaced': 1798, 'hallo': 2443, 'leute': 2966, 'ich': 2558, 'habe': 2440, 'schon': 4336, 'immer': 2632, 'ein': 1923, 'mit': 3276, 'und': 5076, 'der': 1702, 'schriftart': 4337, 'wenn': 5312, 'eine': 1924, 'nachricht': 3343, 'versende': 5236, 'kommt': 2906, 'diese': 1750, 'roman': 4258, 'nutze': 3450, 'den': 1690, 'von': 5264, 'auch': 935, 'empfnger': 1951, 'hat': 2470, 'das': 1577, 'einsehen': 1926, 'nachrichten': 3344, 'aktiv': 749, 'dem': 1688, 'mal': 3119, 'gefolgt': 2333, 'gesucht': 2351, 'dabei': 1570, 'auf': 937, 'folgende': 2244, 'erkenntnis': 2000, 'gestoen': 2350, 'man': 3124, 'unter': 5126, 'nachrichtenerstellung': 3345, 'standardschriftart': 4658, 'nicht': 3402, 'einmal': 1925, 'abspeichert': 660, 'nutzt': 3451, 'bzw': 1150, 'im': 2608, 'quellcode': 3922, 'wird': 5350, 'gar': 2325, 'keine': 2877, 'mitgegeben': 3277, 'warum': 5285, 'liegt': 2979, 'datei': 1589, 'zeile': 5443, '482': 398, 'dort': 1848, 'steht': 4679, 'nmlich': 3406, 'folgendes': 2245, 'rcube_fontdefs': 4000, 'default_font': 1655, 'verdana': 5228, 'bevor': 1045, 'abgespeichert': 645, 'bergeben': 1037, 'anstatt': 809, 'namen': 3357, 'darunter': 1576, 'dann': 1575, 'verarbeitet': 5226, 'bstyle': 1123, 'is_string': 2808, 'nachdem': 3342, 'richtig': 4249, 'belegt': 1031, 'leider': 2956, 'fehlt': 2148, 'allerdings': 763, 'schriftgre': 4338, 'gre': 2411, 'oder': 3478, 'verschickt': 5234, 'jeden': 2839, 'fall': 2129, 'viel': 5245, 'zu': 5450, 'da': 1569, 'selbst': 4385, 'gehe': 2334, 'als': 776, 'anwender': 813, 'davon': 1597, 'aus': 939, 'dass': 1578, 'deshalb': 1709, 'noch': 3409, 'versehen': 5235, '12px': 106, 'knnte': 2890, 'dies': 1749, 'bitte': 1060, 'nchsten': 3366, 'bercksichtigen': 1036, 'vielen': 5246, 'dank': 1574, 'signing': 4504, 'userlogins': 5168, '1488918': 136, 'alex': 754, 'parsing': 3612, 'extensions': 2104, 'real_mimetype': 4037, 'suse': 4797, 'enterprise': 1987, 'consequently': 1425, 'suspicious': 4800, 'declared': 1639, 'trust': 5022, 'revealed': 4229, 'regex': 4099, 'fgrep': 2165, 'pot': 3774, 'brf': 1109, 'sles': 4534, 'turn': 5034, 'illuminating': 2607, 'than': 4884, 'each': 1900, 'delimited': 1683, 'maildir': 3097, '70k': 518, 'world': 5371, 'wolrld': 5359, 'openldap': 3517, 'ldap_abook': 2935, 'domainname': 1841, 'c6': 1152, 'maillist': 3102, 'accountstatus': 681, 'enabledservice': 1960, 'displayedinglobaladdressbook': 1803, 'card': 1193, 'htdocs': 2542, 'example_addressbook': 2039, 'spec': 4606, 'improved': 2656, 'exact': 2036, 'implemented': 2639, 'hml': 2514, 'regularly': 4107, 'complex': 1381, 'get_message_part': 2359, '2092': 218, 'handlepartbody': 2448, 'conn': 1417, 'o_part': 3455, 'ctype_primary': 1541, 'max_bytes': 3161, 'cleanup': 1291, '2554': 260, 'rtrim': 4287, 'x0b': 5388, 'malforms': 3122, 'somwhere': 4579, 'writeable': 5380, 'nas': 3361, 'almost': 769, 'md0_data': 3188, '233': 245, 'absolutly': 659, 'inifinite': 2709, 'dumphtml': 1886, 'maximum': 3171, 'nesting': 3379, 'reached': 4027, '289': 280, '0001': 4, '645480': 488, '0299': 16, '2913480': 284, '285': 278, '0551': 23, '3334312': 319, '293': 285, '3334392': 320, '0565': 24, '3341976': 321, 'parse_xml': 3607, '504': 411, '3342936': 322, '804': 540, '0817': 33, '3430016': 325, 'xml_command': 5407, '0818': 34, '3431672': 326, 'call_user_func': 1171, '924': 576, '3431728': 327, 'rcmail_message_body': 3980, '1094': 73, '3523536': 332, 'rcmail_print_body': 3984, '1125': 81, '3524992': 333, 'rcmail_wash_html': 3986, '713': 520, '1112': 78, '3677080': 341, 'wash': 5287, '681': 504, '1242': 94, '3854200': 349, '362': 335, '1243': 95, '3855608': 350, '3856488': 351, '305': 302, '1247': 96, '3858928': 352, '3859904': 353, '3861216': 354, '1270': 101, '3865872': 356, '3866912': 357, 'repeated': 4154, 'broke': 1115, 'junk_mbox': 2866, 'markasjunk2_spam_mbox': 3144, 'spam_mbox': 4597, '913eacb': 575, 'cde9f04': 1217, '194': 181, 'def': 1652, 'prop': 3870, 'spammed': 4599, '621': 456, 'evolution': 2034, 'packates': 3584, 'wheezy': 5320, 'keen': 2874, '1488750': 135, '1489251': 137, 'legacy': 2953, 'merge': 3216, 'reply_mode': 4165, 'fix_legacy_props': 2216, 'merged': 3217, 'recommend': 4059, 'merges': 3218, 'persist': 3670, 'collected': 1331, 'kevin': 2879, 'canned': 1183, 'losing': 3065, 'newlines': 3394, '1806': 171, 'email_ascii': 1945, 'scenario': 4332, '2003': 195, 'gmx': 2393, 'couldn': 1495, 'violates': 5252, 'standards': 4657, 'endoding': 1975, 'syncing': 4813, '90': 571, 'ini_get': 2707, 'canonized': 1185, 'crit_opts': 1521, 'optname': 3534, 'optval': 3536, 'boolean': 1088, 'meantime': 3198, 'filter_val': 2191, 'filter_validate_boolean': 2192, 'filter_null_on_failure': 2190, 'safely': 4304, 'contactgroup_id': 1445, 'saves': 4321, 'gid': 2378, 'nowhere': 3440, 'meant': 3197, 'imap_init': 2624, 'fetched': 2157, '2822': 276, 'newline': 3393, 'handles': 2450, 'openerror': 3515, 'gentoo': 2347, 'msg': 3309, 'located': 3031, 'raised': 3948, 'piece': 3704, 'programs': 3864, 'rcmail_message_error': 3981, 'looked': 3054, 'deeper': 1650, '1114': 79, 'get_part_content': 2362, 'advice': 727, 'deeply': 1651, 'runtime': 4295, 'addition': 706, 'showed': 4487, 'definitly': 1671, 'appreciated': 851, 'html_table': 2548, 'set_row_attribs': 4441, 'edit_prefs': 1909, '787': 533, 'readable': 4030, 'filesystem_attachements': 2183, 'imply': 2644, 'ssh': 4644, 'suitable': 4776, 'umask': 5066, 'phps': 3697, 'move_uploaded_file': 3303, 'tmpfname': 4954, 'file_exists': 2173, 'chmod': 1266, '0640': 26, 'file_id': 2175, 'appreciate': 850, 'irrespective': 2802, 'fcgid': 2143, 'has_html_part': 2465, 'deep': 1649, 'linkedin': 2997, 'invite': 2788, '213': 231, 'feel': 2147, 'sane': 4310, 'identity01': 2578, 'identity02': 2579, 'identity03': 2580, 'not_bla': 3426, 'grmpf': 2417, 'hmpf': 2515, 'identity_select': 2583, '4d480b36': 406, 'invalidates': 2782, 'modified': 3286, 'effectively': 1918, 'gain': 2323, 'discussion': 1795, '1486776': 131, 'verifying': 5233, 'reverted': 4233, 'proxy_whitelist': 3891, 'proxies': 3889, 'trusted': 5023, 'check_auth': 1249, 'remote_addr': 4136, 'a520f331': 638, 'encounters': 1969, 'forgeable': 2265, 'agree': 739, 'volunteer': 5263, 'php_admin_value': 3695, 'error_reporting': 2007, '30711': 304, 'ini_set': 2708, 'ini': 2706, 'internet': 2769, 'explorer': 2091, 'distinct': 1811, 'experienced': 2075, 'default_host': 1656, 'mail2': 3088, 'dependent': 1695, 'ex': 2035, 'surprises': 4794, 'disrupted': 1809, 'involved': 2789, 'whats': 5318, 'list_groups': 3005, 'addressbook_search_mode': 713, 'anonymous': 806, 'delivers': 1686, 'states': 4669, '1523': 147, 'instructs': 2752, 'admins': 722, 'backend': 985, 'docu': 1826, 'care': 1194, 'contats': 1454, 'oraz': 3538, 'triger': 5011, 'backslash': 989, 'backslashes': 990, 'vcf': 5220, 'fake': 2128, 'pishing': 3708, 'calculatessan97': 1166, 'proj': 3867, 'cuts': 1556, 'hover': 2536, 'prominently': 3869, 'implementing': 2640, 'angle': 801, '1488732': 134, 'db_table_xxxx': 1611, 'combine': 1343, 'creates': 1516, 'coded': 1325, 'thinking': 4903, 'db_read': 1608, 'db_table_users': 1610, 'automated': 956, 'disregards': 1808, 'flexibility': 2225, 'allowing': 766, 'readily': 4031, 'apparent': 833, 'initialize': 2715, 'administrative': 719, 'sqlite2': 4634, 'symptom': 4810, 'ddl': 1619, '2013011000': 203, 'reimport': 4108, 'closes': 1313, 'prematurely': 3801, 'mailserv': 3105, 'tedious': 4848, 'tracing': 4985, 'tracked': 4987, 'being': 1030, 'default_socket_timeout': 1662, 'feof': 2151, 'closesocket': 1314, 'coerces': 1328, 'elapsed': 1932, 'numeric': 3449, 'conversation': 1468, 'ever': 2028, 'stops': 4689, 'impression': 2653, 'betas': 1043, 'squirrelmail': 4640, 'sm': 4539, 'shifting': 4476, '8859': 560, 'personel': 3675, 'webpages': 5302, 'staff': 4653, 'locale': 3026, 'exported': 2093, 'few': 2160, 'index_cache': 2687, 'while': 5327, 'occasionally': 3465, 'flushing': 2232, 'clearing': 1294, 'turning': 5036, '1ubuntu2': 191, 'arrived': 885, 'exerpt': 2056, 'reproduceable': 4178, 'imapproxy': 2627, 'glance': 2387, 'succeed': 4757, 'closer': 1312, 'inspection': 2737, 'regret': 4105, 'r2': 3942, 'v3': 5195, '0700': 29, '4104': 374, 'native': 3362, 'surname': 4792, 'bound': 1095, '416': 376, '_unlock': 616, 'loading1362380468758': 3020, '1362380468763': 114, 'loading1362381239472': 3021, '1362381239479': 115, 'inner_tbl': 2725, 'outer_tbl': 3559, 'mailadress': 3093, 'reopen': 4152, '254': 258, '3696': 343, 'errata': 2002, 'search_contacts': 4361, 'square': 4638, 'brackets': 1101, 'connectet': 1420, '3501': 331, 'rules': 4291, 'sec': 4370, '581': 443, 'plaintextpart': 3718, 'rc_wordwrap': 3963, 'h2t': 2439, 'get_text': 2366, 'line_length': 2990, 'message_charset': 3224, 'communication': 1360, 'opensuse': 3522, 'irc': 2800, 'nul': 3442, 'rejects': 4110, 'nuls': 3444, 'd917': 1568, 'image001': 2610, '151327': 145, 'rcmail_identity_select': 3975, 'onmouseover': 3511, 'asd': 893, 'andrea': 799, 'menin': 3210, 'translator': 4998, 'umlaut': 5067, 'uuml': 5192, 'ber': 1035, 'washed': 5289, 'defective': 1664, 'hyperlink': 2554, 'here__href': 2491, 'rcube_wash': 4023, 'tests': 4877, 'check_mime_extensions': 1252, 'lts': 3076, 'strrpos': 4722, 'source_id': 4591, '700': 516, 'sanitisation': 4311, 'loses': 3064, 'anonymized': 805, 'weeks': 5309, 'utter': 5188, 'mess': 3221, 'homegrown': 2521, 'libtidy': 2977, 'direct': 1768, 'dial': 1740, 'maintainers': 3114, 'ought': 3555, 'edited': 1910, 'filesmatch': 2182, 'slash': 4532, 'rich': 4248, 'capture': 1192, 'processes': 3851, 'archiver': 861, 'lurker': 3078, 'archived': 860, 'pencil': 3655, 'attaching': 921, 'represents': 4176, 'configurations': 1403, 'commonly': 1359, 'accepted': 666, 'practice': 3778, 'contradiction': 1462, 'ability': 646, 'omitting': 3499, 'provider': 3886, 'banned': 998, 'intallto': 2754, 'su': 4737, 'interpreter': 2771, 'cd': 1215, 'target_dir': 4838, 'oldversion': 3495, '149': 138, 'opts': 3535, 'indexcontacts': 2688, 'restrictions': 4216, 'daggett': 1572, 'v0': 5193, 'mydomain': 3329, 'fr': 2290, 'default_port': 1657, '993': 587, 'idefix': 2568, 'ffff': 2163, '198': 183, 'imap_auth_type': 2620, 'cram': 1511, 'roundcub': 4265, 'occurences': 3470, 'deduce': 1648, 'hardcode': 2461, 'digest': 1762, 'contributed': 1464, 'happy': 2459, 'cyrille': 1562, 'htmlspecialchars': 2549, 'ent_substitute': 1983, 'expensive': 2073, 'french': 2299, 'inverted': 2783, 'translantion': 4995, 'fr_fr': 2291, 'python': 3912, 'filtre': 2196, 'desactiv': 1705, 'avec': 961, 'succs': 4763, 'activ': 689, 'embedded': 1949, 'your': 5433, 'pevod': 3677, 'datovho': 1595, 'typu': 5051, 'varchar': 5208, 'na': 3341, 'datov': 1594, 'typ': 5043, 'vrtil': 5267, 'hodnotu': 2516, 'mimo': 3253, 'rozsah': 4283, '415': 375, 'datatype': 1584, 'sgmst8a4ukdfteopnib4lgo2f0': 4463, 'vlasta': 5257, 'getdate': 2369, '08iglgvg6dbvf0n72hr5q6h196': 36, 'bgfuz3vhz2v8czo1oijlbl9vuyi7c2tpbnxzoju6imxhcnj5ijtpbwfwx25hbwvzcgfjzxxhojq6e3m6odoicgvyc29uywwio2e6mtp7atowo2e6mjp7atowo3m6mdoiijtpoje7czoxoiiuijt9fxm6ntoib3rozxiio047czo2oijzagfyzwqio2e6mtp7atowo2e6mjp7atowo3m6nzoii1b1ymxpyyi7atoxo3m6mtoilii7fx1zojy6inbyzwzpeci7czowoiiio31pbwfwx2rlbgltaxrlcnxzoje6ii4io3vzzxjfawr8czoxoiiyijt1c2vybmftzxxzoje4oij2bgfzdgfaamfvc29ibmuuy3oio3n0b3jhz2vfag9zdhxzojexoijqyw9zb2juzs5jeii7c3rvcmfnzv9wb3j0fgk6mtqzo3n0b3jhz2vfc3nsfe47cgfzc3dvcmr8czozmjoiofpmuw1vtg1oanziwittwwhcnkh6aw4vwwdwefrhamqio2xvz2lux3rpbwv8atoxmzu4nzu2njy5o3rpbwv6b25lfhm6mtm6ikv1cm9wzs9czxjsaw4iow': 1047, '2012': 201, 'php_pdo_sqlsrv': 3696, 'home1': 2520, 'vpabooke': 5265, 'public_html': 3897, 'mail_beta': 3089, '883': 559, 'convey': 1474, 'determines': 1725, 'difference': 1752, 'speaks': 4605, 'stated': 4666, 'altered': 781, 'usecase': 5158, 'patches': 3638, 'signoff': 4505, 'stdout': 4677, 'cover': 1507, 'represent': 4174, 'goal': 2396, 'alters': 784, 'wordwrap': 5365, 'glitches': 2388, '1st': 190, 'consisting': 1433, 'linebreaks': 2992, 'wrapped': 5376, 'behind': 1029, 'just': 2867, 'blabla': 1065, 'seventy': 4459, 'five': 2213, 'mb_substr': 3182, 'compared': 1364, 'contrary': 1463, 'trailing': 4990, 'linebreak': 2991, 'florian': 2229, 'pulling': 3903, 'serialize': 4418}\n",
            "Encoded Document is:\n",
            "[[0 0 0 ... 0 0 0]\n",
            " [0 0 0 ... 0 0 0]\n",
            " [0 0 0 ... 0 0 0]\n",
            " ...\n",
            " [0 0 0 ... 0 0 0]\n",
            " [0 0 0 ... 0 0 0]\n",
            " [0 0 0 ... 0 0 0]]\n"
          ]
        },
        {
          "output_type": "execute_result",
          "data": {
            "text/plain": [
              "        PC1       PC2       PC3\n",
              "0 -1.043585 -0.241191 -0.742350\n",
              "1 -1.040775 -0.249932 -0.770995\n",
              "2 -1.023397 -0.261139 -0.589711\n",
              "3  1.485315  3.456178  0.707023\n",
              "4 -0.544160 -0.378202 -0.935648"
            ],
            "text/html": [
              "\n",
              "  <div id=\"df-747a708e-eba9-4d04-a325-41b38938dd90\">\n",
              "    <div class=\"colab-df-container\">\n",
              "      <div>\n",
              "<style scoped>\n",
              "    .dataframe tbody tr th:only-of-type {\n",
              "        vertical-align: middle;\n",
              "    }\n",
              "\n",
              "    .dataframe tbody tr th {\n",
              "        vertical-align: top;\n",
              "    }\n",
              "\n",
              "    .dataframe thead th {\n",
              "        text-align: right;\n",
              "    }\n",
              "</style>\n",
              "<table border=\"1\" class=\"dataframe\">\n",
              "  <thead>\n",
              "    <tr style=\"text-align: right;\">\n",
              "      <th></th>\n",
              "      <th>PC1</th>\n",
              "      <th>PC2</th>\n",
              "      <th>PC3</th>\n",
              "    </tr>\n",
              "  </thead>\n",
              "  <tbody>\n",
              "    <tr>\n",
              "      <th>0</th>\n",
              "      <td>-1.043585</td>\n",
              "      <td>-0.241191</td>\n",
              "      <td>-0.742350</td>\n",
              "    </tr>\n",
              "    <tr>\n",
              "      <th>1</th>\n",
              "      <td>-1.040775</td>\n",
              "      <td>-0.249932</td>\n",
              "      <td>-0.770995</td>\n",
              "    </tr>\n",
              "    <tr>\n",
              "      <th>2</th>\n",
              "      <td>-1.023397</td>\n",
              "      <td>-0.261139</td>\n",
              "      <td>-0.589711</td>\n",
              "    </tr>\n",
              "    <tr>\n",
              "      <th>3</th>\n",
              "      <td>1.485315</td>\n",
              "      <td>3.456178</td>\n",
              "      <td>0.707023</td>\n",
              "    </tr>\n",
              "    <tr>\n",
              "      <th>4</th>\n",
              "      <td>-0.544160</td>\n",
              "      <td>-0.378202</td>\n",
              "      <td>-0.935648</td>\n",
              "    </tr>\n",
              "  </tbody>\n",
              "</table>\n",
              "</div>\n",
              "      <button class=\"colab-df-convert\" onclick=\"convertToInteractive('df-747a708e-eba9-4d04-a325-41b38938dd90')\"\n",
              "              title=\"Convert this dataframe to an interactive table.\"\n",
              "              style=\"display:none;\">\n",
              "        \n",
              "  <svg xmlns=\"http://www.w3.org/2000/svg\" height=\"24px\"viewBox=\"0 0 24 24\"\n",
              "       width=\"24px\">\n",
              "    <path d=\"M0 0h24v24H0V0z\" fill=\"none\"/>\n",
              "    <path d=\"M18.56 5.44l.94 2.06.94-2.06 2.06-.94-2.06-.94-.94-2.06-.94 2.06-2.06.94zm-11 1L8.5 8.5l.94-2.06 2.06-.94-2.06-.94L8.5 2.5l-.94 2.06-2.06.94zm10 10l.94 2.06.94-2.06 2.06-.94-2.06-.94-.94-2.06-.94 2.06-2.06.94z\"/><path d=\"M17.41 7.96l-1.37-1.37c-.4-.4-.92-.59-1.43-.59-.52 0-1.04.2-1.43.59L10.3 9.45l-7.72 7.72c-.78.78-.78 2.05 0 2.83L4 21.41c.39.39.9.59 1.41.59.51 0 1.02-.2 1.41-.59l7.78-7.78 2.81-2.81c.8-.78.8-2.07 0-2.86zM5.41 20L4 18.59l7.72-7.72 1.47 1.35L5.41 20z\"/>\n",
              "  </svg>\n",
              "      </button>\n",
              "      \n",
              "  <style>\n",
              "    .colab-df-container {\n",
              "      display:flex;\n",
              "      flex-wrap:wrap;\n",
              "      gap: 12px;\n",
              "    }\n",
              "\n",
              "    .colab-df-convert {\n",
              "      background-color: #E8F0FE;\n",
              "      border: none;\n",
              "      border-radius: 50%;\n",
              "      cursor: pointer;\n",
              "      display: none;\n",
              "      fill: #1967D2;\n",
              "      height: 32px;\n",
              "      padding: 0 0 0 0;\n",
              "      width: 32px;\n",
              "    }\n",
              "\n",
              "    .colab-df-convert:hover {\n",
              "      background-color: #E2EBFA;\n",
              "      box-shadow: 0px 1px 2px rgba(60, 64, 67, 0.3), 0px 1px 3px 1px rgba(60, 64, 67, 0.15);\n",
              "      fill: #174EA6;\n",
              "    }\n",
              "\n",
              "    [theme=dark] .colab-df-convert {\n",
              "      background-color: #3B4455;\n",
              "      fill: #D2E3FC;\n",
              "    }\n",
              "\n",
              "    [theme=dark] .colab-df-convert:hover {\n",
              "      background-color: #434B5C;\n",
              "      box-shadow: 0px 1px 3px 1px rgba(0, 0, 0, 0.15);\n",
              "      filter: drop-shadow(0px 1px 2px rgba(0, 0, 0, 0.3));\n",
              "      fill: #FFFFFF;\n",
              "    }\n",
              "  </style>\n",
              "\n",
              "      <script>\n",
              "        const buttonEl =\n",
              "          document.querySelector('#df-747a708e-eba9-4d04-a325-41b38938dd90 button.colab-df-convert');\n",
              "        buttonEl.style.display =\n",
              "          google.colab.kernel.accessAllowed ? 'block' : 'none';\n",
              "\n",
              "        async function convertToInteractive(key) {\n",
              "          const element = document.querySelector('#df-747a708e-eba9-4d04-a325-41b38938dd90');\n",
              "          const dataTable =\n",
              "            await google.colab.kernel.invokeFunction('convertToInteractive',\n",
              "                                                     [key], {});\n",
              "          if (!dataTable) return;\n",
              "\n",
              "          const docLinkHtml = 'Like what you see? Visit the ' +\n",
              "            '<a target=\"_blank\" href=https://colab.research.google.com/notebooks/data_table.ipynb>data table notebook</a>'\n",
              "            + ' to learn more about interactive tables.';\n",
              "          element.innerHTML = '';\n",
              "          dataTable['output_type'] = 'display_data';\n",
              "          await google.colab.output.renderOutput(dataTable, element);\n",
              "          const docLink = document.createElement('div');\n",
              "          docLink.innerHTML = docLinkHtml;\n",
              "          element.appendChild(docLink);\n",
              "        }\n",
              "      </script>\n",
              "    </div>\n",
              "  </div>\n",
              "  "
            ]
          },
          "metadata": {},
          "execution_count": 285
        }
      ],
      "source": [
        "corpus_body = df[\"Issue Title\"]+\" \"+df[\"Issue Body\"]\n",
        "# YOUR CODE HERE\n",
        "vectorizer = CountVectorizer()\n",
        "  \n",
        "vectorizer.fit(corpus_body)\n",
        "  \n",
        "# Printing the identified Unique words along with their indices\n",
        "print(\"Vocabulary: \", vectorizer.vocabulary_)\n",
        "  \n",
        "# Encode the Document\n",
        "vector = vectorizer.transform(corpus_body)\n",
        "  \n",
        "# Summarizing the Encoded Texts\n",
        "print(\"Encoded Document is:\")\n",
        "print(vector.toarray())\n",
        "\n",
        "pca = PCA(n_components = 3)\n",
        "pca.fit(vector.toarray())\n",
        "data_pca = pca.transform(vector.toarray())\n",
        "data_pca = pd.DataFrame(data_pca,columns=['PC1','PC2','PC3'])\n",
        "data_pca.head()"
      ]
    },
    {
      "cell_type": "markdown",
      "source": [
        "### Exercise 4a (1 point) : Data Preparation\n",
        "\n",
        "* Check for the data value counts to see the data imbalance\n",
        "  - Merge the smaller classes to a bigger class so that the number of classes is between 3 and 4\n",
        "\n",
        "* Perform Label Encoding for the Target variable classes\n",
        "\n",
        "* Create a New DataFrame\n",
        "  - Merge the dataframe with PCA filtered variables and \n",
        "\n",
        "    the Target variable-1 `\"Defect Type Family using IEEE\"` and  \n",
        "\n",
        "    the Target variable -2 `\"Defect Type Family using ODC\"`\n",
        "\n",
        "* Split the above data into Training and Testing Datasets\n",
        "\n",
        "\n"
      ],
      "metadata": {
        "id": "y3XHQPZrngAV"
      }
    },
    {
      "cell_type": "code",
      "source": [
        "# Check the class Distribution of the Target Variables\n",
        "# YOUR CODE HERE\n",
        "\n",
        "cols = ('Issue Title', 'Issue Body')\n",
        "label = 'Issues'\n",
        "X =pd.DataFrame({label: df[cols[0]].str.cat(df[cols[1]], sep=' ')})\n",
        "y = pd.Series(df.filter(like='IEEE').to_numpy().ravel())"
      ],
      "metadata": {
        "id": "du7ph27bE74h"
      },
      "execution_count": null,
      "outputs": []
    },
    {
      "cell_type": "code",
      "source": [
        "# Replace the minority classes into a class with larger count\n",
        "# YOUR CODE HERE"
      ],
      "metadata": {
        "id": "bgU3vDBah9A4"
      },
      "execution_count": null,
      "outputs": []
    },
    {
      "cell_type": "code",
      "source": [
        "# Check the class Distribution of the Target Variables AGAIN\n",
        "# YOUR CODE HERE"
      ],
      "metadata": {
        "id": "F3c2EQXxhQCQ"
      },
      "execution_count": null,
      "outputs": []
    },
    {
      "cell_type": "code",
      "source": [
        "# Label Encode the Target Variable-1\n",
        "# YOUR CODE HERE"
      ],
      "metadata": {
        "id": "6vUq_CsQo1Jz"
      },
      "execution_count": null,
      "outputs": []
    },
    {
      "cell_type": "code",
      "source": [
        "# Label Encode the Target Variable-2\n",
        "# YOUR CODE HERE"
      ],
      "metadata": {
        "id": "w2pY1B9Ao1Fp"
      },
      "execution_count": null,
      "outputs": []
    },
    {
      "cell_type": "code",
      "source": [
        "# MERGE the features and target in a single DataFrame\n",
        "# YOUR CODE HERE"
      ],
      "metadata": {
        "id": "u7XFIyb7o092"
      },
      "execution_count": null,
      "outputs": []
    },
    {
      "cell_type": "code",
      "source": [
        "# Check for nulls if any, and fill the values with a new class (integer)\n",
        "# YOUR CODE HERE"
      ],
      "metadata": {
        "id": "quQ0jdQK0_UD"
      },
      "execution_count": null,
      "outputs": []
    },
    {
      "cell_type": "code",
      "source": [
        "# Split the Data into training and testing, for Target Variable-1 \n",
        "# YOUR CODE HERE"
      ],
      "metadata": {
        "id": "MGdnqVPMtY8r"
      },
      "execution_count": null,
      "outputs": []
    },
    {
      "cell_type": "code",
      "source": [
        "# Split the Data into training and testing, for Target Variable-2\n",
        "# YOUR CODE HERE"
      ],
      "metadata": {
        "id": "he1v7anXnVOS"
      },
      "execution_count": null,
      "outputs": []
    },
    {
      "cell_type": "markdown",
      "source": [
        "### Exercise 5a (1 point) : Classification\n",
        "\n",
        "* Classification-Target 1 (`\"Defect Type Family using IEEE\"`)\n",
        "\t\n",
        "    - Perform classification using any ONE of your favorite Sklearn's classifier\n",
        "\n",
        "    - Explain with metrics\n",
        "\n",
        "* Classification-Target 2 (`\"Defect Type Family using ODC\"`)\n",
        "\t\n",
        "    - Perform classification using any ONE of your favorite Sklearn's classifier\n",
        "\n",
        "    - Explain with metrics\n",
        "\n",
        "**Tip**: Train the model and predict on seperate cells. It will save time debugging."
      ],
      "metadata": {
        "id": "FcWqda-YrkJW"
      }
    },
    {
      "cell_type": "code",
      "source": [
        "# Import the classifier Functions\n",
        "# YOUR CODE HERE"
      ],
      "metadata": {
        "id": "bCX6zID6ff3u"
      },
      "execution_count": null,
      "outputs": []
    },
    {
      "cell_type": "code",
      "execution_count": null,
      "metadata": {
        "id": "5N47ZVuly-O9"
      },
      "outputs": [],
      "source": [
        "# MODEL 1\n",
        "\n",
        "# Call and fit the model on Training Data\n",
        "# Predict on the test data\n",
        "# YOUR CODE HERE"
      ]
    },
    {
      "cell_type": "code",
      "source": [
        "# Print confusion_matrix,  andclassification_report\n",
        "# YOUR CODE HERE"
      ],
      "metadata": {
        "id": "pQVvTB7DXo7F"
      },
      "execution_count": null,
      "outputs": []
    },
    {
      "cell_type": "code",
      "source": [
        "# MODEL 2\n",
        "\n",
        "# Call and fit the model on Training Data\n",
        "# Predict on the test data\n",
        "# YOUR CODE HERE"
      ],
      "metadata": {
        "id": "6TNAljuFppHy"
      },
      "execution_count": null,
      "outputs": []
    },
    {
      "cell_type": "code",
      "source": [
        "# Print confusion_matrix,  andclassification_report\n",
        "# YOUR CODE HERE"
      ],
      "metadata": {
        "id": "LcGJxAuMbVvS"
      },
      "execution_count": null,
      "outputs": []
    },
    {
      "cell_type": "markdown",
      "source": [
        "#### YOUR FINDINGS/ Reasoning for which model is better and why (Qualitatively and Quantatively)\n",
        "\n",
        "Explain why one model behaves better than the other(s) in terms of Accuracy, Precision, Recall and F1-Score"
      ],
      "metadata": {
        "id": "wJhjqBh3hClZ"
      }
    },
    {
      "cell_type": "markdown",
      "source": [
        "### Exercise 3b (1 point): Feature Engineering Approach-2\n",
        "\n",
        "* Combine the title and body strings by a space\n",
        "*  the words\n",
        "* Use `TfidfVectorizer` to Tokenize and transform the the text to features\n",
        "* Reduce the features using PCA"
      ],
      "metadata": {
        "id": "fj3766rrgYBz"
      }
    },
    {
      "cell_type": "code",
      "source": [
        "\n",
        "corpus_body = list(df[\"Issue Title\"]+\" \"+df[\"Issue Body\"])\n",
        "vectorizer_body = TfidfVectorizer()\n",
        "Xbody           = vectorizer_body.fit_transform(corpus_body)\n",
        "X_body          = Xbody.toarray()\n",
        "\n",
        "features_body   = vectorizer_body.get_feature_names_out()\n",
        "print(X_body.shape)\n",
        "\n",
        "\n",
        "n_pc = 30\n",
        "pca = PCA(n_components=n_pc, svd_solver='full')\n",
        "X_body_new = pca.fit_transform(X_body)\n",
        "\n",
        "print(f\"explained_variance_ratio_ = \\n{pca.explained_variance_ratio_}\")\n",
        "print(f\"\\nsingular_values_ = \\n{pca.singular_values_}\")\n",
        "\n",
        "from sklearn.preprocessing import Normalizer\n",
        "X_body_new = Normalizer().fit_transform(X_body_new)\n",
        "\n",
        "\n",
        "cols_pc = []\n",
        "for nth_pc in range(n_pc):\n",
        "  cols_pc.append(f\"pc_{nth_pc+1}\")\n",
        "\n",
        "\n",
        "df_body_counts  = pd.DataFrame(data=X_body_new, columns=cols_pc)\n",
        "df_body_counts = df_body_counts.replace(np.nan, 0)\n",
        "df_body_counts = df_body_counts.replace(np.NaN, 0)\n",
        "df_body_counts"
      ],
      "metadata": {
        "id": "Lh4U2L04iXof"
      },
      "execution_count": null,
      "outputs": []
    },
    {
      "cell_type": "markdown",
      "source": [
        "### Exercise 4b (1 point) : Data Preparation\n",
        "\n",
        "* Check for the data value counts to see the data imbalance\n",
        "  - Merge the smaller classes to a bigger class so that the number of classes is between 3 and 4\n",
        "\n",
        "* Perform Label Encoding for the Target variable classes\n",
        "\n",
        "* Create a New DataFrame\n",
        "  - Merge the dataframe with PCA filtered variables and \n",
        "\n",
        "    the Target variable-1 `\"Defect Type Family using IEEE\"` and  \n",
        "\n",
        "    the Target variable -2 `\"Defect Type Family using ODC\"`\n",
        "\n",
        "* Split the above data into Training and Testing Datasets\n",
        "\n",
        "\n"
      ],
      "metadata": {
        "id": "NyCSlLTHjDek"
      }
    },
    {
      "cell_type": "code",
      "source": [
        "# Check the class Distribution of the Target Variables\n",
        "# YOUR CODE HERE"
      ],
      "metadata": {
        "id": "A4q5zuXsogrL"
      },
      "execution_count": null,
      "outputs": []
    },
    {
      "cell_type": "code",
      "source": [
        "# Replace the minority classes into a class with larger count\n",
        "# YOUR CODE HERE"
      ],
      "metadata": {
        "id": "jXkTYVafogrZ"
      },
      "execution_count": null,
      "outputs": []
    },
    {
      "cell_type": "code",
      "source": [
        "# Check the class Distribution of the Target Variables AGAIN\n",
        "# YOUR CODE HERE"
      ],
      "metadata": {
        "id": "UUFyaxXnogrZ"
      },
      "execution_count": null,
      "outputs": []
    },
    {
      "cell_type": "code",
      "source": [
        "# Label Encode the Target Variable-1\n",
        "# YOUR CODE HERE"
      ],
      "metadata": {
        "id": "Jw9Dt1aeogra"
      },
      "execution_count": null,
      "outputs": []
    },
    {
      "cell_type": "code",
      "source": [
        "# Label Encode the Target Variable-2\n",
        "# YOUR CODE HERE"
      ],
      "metadata": {
        "id": "uZ2FJgJGogrb"
      },
      "execution_count": null,
      "outputs": []
    },
    {
      "cell_type": "code",
      "source": [
        "# MERGE the features and target in a single DataFrame\n",
        "# YOUR CODE HERE"
      ],
      "metadata": {
        "id": "mS538Muaogrb"
      },
      "execution_count": null,
      "outputs": []
    },
    {
      "cell_type": "code",
      "source": [
        "# Check for nulls if any, and fill the values with a new class (integer)\n",
        "# YOUR CODE HERE"
      ],
      "metadata": {
        "id": "9eA3Nlhbogrb"
      },
      "execution_count": null,
      "outputs": []
    },
    {
      "cell_type": "code",
      "source": [
        "# Split the Data into training and testing, for Target Variable-1 \n",
        "# YOUR CODE HERE"
      ],
      "metadata": {
        "id": "T8n_O7atogrb"
      },
      "execution_count": null,
      "outputs": []
    },
    {
      "cell_type": "code",
      "source": [
        "# Split the Data into training and testing, for Target Variable-2\n",
        "# YOUR CODE HERE"
      ],
      "metadata": {
        "id": "hTs8ezVtogrc"
      },
      "execution_count": null,
      "outputs": []
    },
    {
      "cell_type": "markdown",
      "source": [
        "### Exercise 5b (1 point) : Classification\n",
        "\n",
        "* Classification-Target 1 (`\"Defect Type Family using IEEE\"`)\n",
        "\t\n",
        "    - Perform classification using any ONE of your favorite Sklearn's classifier\n",
        "\n",
        "    - Explain with metrics\n",
        "\n",
        "* Classification-Target 2 (`\"Defect Type Family using ODC\"`)\n",
        "\t\n",
        "    - Perform classification using any ONE of your favorite Sklearn's classifier\n",
        "\n",
        "    - Explain with metrics\n",
        "\n",
        "**Tip**: Train the model and predict on seperate cells. It will save time debugging."
      ],
      "metadata": {
        "id": "_SbQiOSIjfM2"
      }
    },
    {
      "cell_type": "code",
      "source": [
        "# Import the classifier Functions\n",
        "# YOUR CODE HERE"
      ],
      "metadata": {
        "id": "g1zrnYjPoSGR"
      },
      "execution_count": null,
      "outputs": []
    },
    {
      "cell_type": "code",
      "execution_count": null,
      "metadata": {
        "id": "bNYvO-R8oSGU"
      },
      "outputs": [],
      "source": [
        "# MODEL 1\n",
        "\n",
        "# Call and fit the model on Training Data\n",
        "# Predict on the test data\n",
        "# YOUR CODE HERE"
      ]
    },
    {
      "cell_type": "code",
      "source": [
        "# Print confusion_matrix,  andclassification_report\n",
        "# YOUR CODE HERE"
      ],
      "metadata": {
        "id": "z8tg9KEsoSGV"
      },
      "execution_count": null,
      "outputs": []
    },
    {
      "cell_type": "code",
      "source": [
        "# MODEL 2\n",
        "\n",
        "# Call and fit the model on Training Data\n",
        "# Predict on the test data\n",
        "# YOUR CODE HERE"
      ],
      "metadata": {
        "id": "T6FZdQI9oSGV"
      },
      "execution_count": null,
      "outputs": []
    },
    {
      "cell_type": "code",
      "source": [
        "# Print confusion_matrix,  andclassification_report\n",
        "# YOUR CODE HERE"
      ],
      "metadata": {
        "id": "DmJvcu4KoSGV"
      },
      "execution_count": null,
      "outputs": []
    },
    {
      "cell_type": "markdown",
      "metadata": {
        "id": "hopfRuo7WHVR"
      },
      "source": [
        "## Additional Ungraded Exercise for Practice:\n",
        "\n",
        "From the Data Perspective:\n",
        "\n",
        "- Try taking ONLY the Issue Title as the feature set\n",
        "- Try taking ONLY the Issue Body as the feature set\n",
        "- Try various data scaling techniques\n",
        "\n",
        "From the ML Model Perspective:\n",
        "- Try out for other ML Models\n",
        "- Try GridSearch\n",
        "- Try Cross-Validation techniques"
      ]
    },
    {
      "cell_type": "code",
      "source": [
        "# Python code demonstrate creating\n",
        "\n",
        "import pandas as pd\n",
        "\n",
        "# initialise data of lists.\n",
        "data = {'Name':[ 'Mohe' , 'Karnal' , 'Yrik' , 'jack' ],\n",
        "\t\t'Age':[ 30 , 21 , 29 , 28 ]}\n",
        "\n",
        "# Create DataFrame\n",
        "df = pd.DataFrame( data )\n",
        "\n",
        "# Print the output.\n",
        "df\n"
      ],
      "metadata": {
        "colab": {
          "base_uri": "https://localhost:8080/",
          "height": 175
        },
        "id": "qzgMbgAtpVAo",
        "outputId": "6c76e586-bea6-465e-ea60-0e2c07a16772"
      },
      "execution_count": null,
      "outputs": [
        {
          "output_type": "execute_result",
          "data": {
            "text/plain": [
              "     Name  Age\n",
              "0    Mohe   30\n",
              "1  Karnal   21\n",
              "2    Yrik   29\n",
              "3    jack   28"
            ],
            "text/html": [
              "\n",
              "  <div id=\"df-f14004fe-a808-4d93-8e3b-40c01bb732ed\">\n",
              "    <div class=\"colab-df-container\">\n",
              "      <div>\n",
              "<style scoped>\n",
              "    .dataframe tbody tr th:only-of-type {\n",
              "        vertical-align: middle;\n",
              "    }\n",
              "\n",
              "    .dataframe tbody tr th {\n",
              "        vertical-align: top;\n",
              "    }\n",
              "\n",
              "    .dataframe thead th {\n",
              "        text-align: right;\n",
              "    }\n",
              "</style>\n",
              "<table border=\"1\" class=\"dataframe\">\n",
              "  <thead>\n",
              "    <tr style=\"text-align: right;\">\n",
              "      <th></th>\n",
              "      <th>Name</th>\n",
              "      <th>Age</th>\n",
              "    </tr>\n",
              "  </thead>\n",
              "  <tbody>\n",
              "    <tr>\n",
              "      <th>0</th>\n",
              "      <td>Mohe</td>\n",
              "      <td>30</td>\n",
              "    </tr>\n",
              "    <tr>\n",
              "      <th>1</th>\n",
              "      <td>Karnal</td>\n",
              "      <td>21</td>\n",
              "    </tr>\n",
              "    <tr>\n",
              "      <th>2</th>\n",
              "      <td>Yrik</td>\n",
              "      <td>29</td>\n",
              "    </tr>\n",
              "    <tr>\n",
              "      <th>3</th>\n",
              "      <td>jack</td>\n",
              "      <td>28</td>\n",
              "    </tr>\n",
              "  </tbody>\n",
              "</table>\n",
              "</div>\n",
              "      <button class=\"colab-df-convert\" onclick=\"convertToInteractive('df-f14004fe-a808-4d93-8e3b-40c01bb732ed')\"\n",
              "              title=\"Convert this dataframe to an interactive table.\"\n",
              "              style=\"display:none;\">\n",
              "        \n",
              "  <svg xmlns=\"http://www.w3.org/2000/svg\" height=\"24px\"viewBox=\"0 0 24 24\"\n",
              "       width=\"24px\">\n",
              "    <path d=\"M0 0h24v24H0V0z\" fill=\"none\"/>\n",
              "    <path d=\"M18.56 5.44l.94 2.06.94-2.06 2.06-.94-2.06-.94-.94-2.06-.94 2.06-2.06.94zm-11 1L8.5 8.5l.94-2.06 2.06-.94-2.06-.94L8.5 2.5l-.94 2.06-2.06.94zm10 10l.94 2.06.94-2.06 2.06-.94-2.06-.94-.94-2.06-.94 2.06-2.06.94z\"/><path d=\"M17.41 7.96l-1.37-1.37c-.4-.4-.92-.59-1.43-.59-.52 0-1.04.2-1.43.59L10.3 9.45l-7.72 7.72c-.78.78-.78 2.05 0 2.83L4 21.41c.39.39.9.59 1.41.59.51 0 1.02-.2 1.41-.59l7.78-7.78 2.81-2.81c.8-.78.8-2.07 0-2.86zM5.41 20L4 18.59l7.72-7.72 1.47 1.35L5.41 20z\"/>\n",
              "  </svg>\n",
              "      </button>\n",
              "      \n",
              "  <style>\n",
              "    .colab-df-container {\n",
              "      display:flex;\n",
              "      flex-wrap:wrap;\n",
              "      gap: 12px;\n",
              "    }\n",
              "\n",
              "    .colab-df-convert {\n",
              "      background-color: #E8F0FE;\n",
              "      border: none;\n",
              "      border-radius: 50%;\n",
              "      cursor: pointer;\n",
              "      display: none;\n",
              "      fill: #1967D2;\n",
              "      height: 32px;\n",
              "      padding: 0 0 0 0;\n",
              "      width: 32px;\n",
              "    }\n",
              "\n",
              "    .colab-df-convert:hover {\n",
              "      background-color: #E2EBFA;\n",
              "      box-shadow: 0px 1px 2px rgba(60, 64, 67, 0.3), 0px 1px 3px 1px rgba(60, 64, 67, 0.15);\n",
              "      fill: #174EA6;\n",
              "    }\n",
              "\n",
              "    [theme=dark] .colab-df-convert {\n",
              "      background-color: #3B4455;\n",
              "      fill: #D2E3FC;\n",
              "    }\n",
              "\n",
              "    [theme=dark] .colab-df-convert:hover {\n",
              "      background-color: #434B5C;\n",
              "      box-shadow: 0px 1px 3px 1px rgba(0, 0, 0, 0.15);\n",
              "      filter: drop-shadow(0px 1px 2px rgba(0, 0, 0, 0.3));\n",
              "      fill: #FFFFFF;\n",
              "    }\n",
              "  </style>\n",
              "\n",
              "      <script>\n",
              "        const buttonEl =\n",
              "          document.querySelector('#df-f14004fe-a808-4d93-8e3b-40c01bb732ed button.colab-df-convert');\n",
              "        buttonEl.style.display =\n",
              "          google.colab.kernel.accessAllowed ? 'block' : 'none';\n",
              "\n",
              "        async function convertToInteractive(key) {\n",
              "          const element = document.querySelector('#df-f14004fe-a808-4d93-8e3b-40c01bb732ed');\n",
              "          const dataTable =\n",
              "            await google.colab.kernel.invokeFunction('convertToInteractive',\n",
              "                                                     [key], {});\n",
              "          if (!dataTable) return;\n",
              "\n",
              "          const docLinkHtml = 'Like what you see? Visit the ' +\n",
              "            '<a target=\"_blank\" href=https://colab.research.google.com/notebooks/data_table.ipynb>data table notebook</a>'\n",
              "            + ' to learn more about interactive tables.';\n",
              "          element.innerHTML = '';\n",
              "          dataTable['output_type'] = 'display_data';\n",
              "          await google.colab.output.renderOutput(dataTable, element);\n",
              "          const docLink = document.createElement('div');\n",
              "          docLink.innerHTML = docLinkHtml;\n",
              "          element.appendChild(docLink);\n",
              "        }\n",
              "      </script>\n",
              "    </div>\n",
              "  </div>\n",
              "  "
            ]
          },
          "metadata": {},
          "execution_count": 1
        }
      ]
    },
    {
      "cell_type": "code",
      "source": [
        "# import module\n",
        "import seaborn\n",
        "\n",
        "seaborn.set(style = 'whitegrid')\n",
        "\n",
        "# read csv and plot\n",
        "seaborn.barplot(df, \"Age\", \"Name\")\n"
      ],
      "metadata": {
        "colab": {
          "base_uri": "https://localhost:8080/",
          "height": 417
        },
        "id": "r1mBNX5CpWZ-",
        "outputId": "260b0fcb-4d97-4cc6-87ce-8e2d23e3f8a3"
      },
      "execution_count": null,
      "outputs": [
        {
          "output_type": "stream",
          "name": "stderr",
          "text": [
            "/usr/local/lib/python3.7/dist-packages/seaborn/_decorators.py:43: FutureWarning: Pass the following variables as keyword args: x, y, hue. From version 0.12, the only valid positional argument will be `data`, and passing other arguments without an explicit keyword will result in an error or misinterpretation.\n",
            "  FutureWarning\n"
          ]
        },
        {
          "output_type": "error",
          "ename": "ValueError",
          "evalue": "ignored",
          "traceback": [
            "\u001b[0;31m---------------------------------------------------------------------------\u001b[0m",
            "\u001b[0;31mValueError\u001b[0m                                Traceback (most recent call last)",
            "\u001b[0;32m<ipython-input-8-008e148b11c0>\u001b[0m in \u001b[0;36m<module>\u001b[0;34m()\u001b[0m\n\u001b[1;32m      5\u001b[0m \u001b[0;34m\u001b[0m\u001b[0m\n\u001b[1;32m      6\u001b[0m \u001b[0;31m# read csv and plot\u001b[0m\u001b[0;34m\u001b[0m\u001b[0;34m\u001b[0m\u001b[0;34m\u001b[0m\u001b[0m\n\u001b[0;32m----> 7\u001b[0;31m \u001b[0mseaborn\u001b[0m\u001b[0;34m.\u001b[0m\u001b[0mbarplot\u001b[0m\u001b[0;34m(\u001b[0m\u001b[0mdf\u001b[0m\u001b[0;34m,\u001b[0m \u001b[0;34m\"Age\"\u001b[0m\u001b[0;34m,\u001b[0m \u001b[0;34m\"Name\"\u001b[0m\u001b[0;34m)\u001b[0m\u001b[0;34m\u001b[0m\u001b[0;34m\u001b[0m\u001b[0m\n\u001b[0m",
            "\u001b[0;32m/usr/local/lib/python3.7/dist-packages/seaborn/_decorators.py\u001b[0m in \u001b[0;36minner_f\u001b[0;34m(*args, **kwargs)\u001b[0m\n\u001b[1;32m     44\u001b[0m             )\n\u001b[1;32m     45\u001b[0m         \u001b[0mkwargs\u001b[0m\u001b[0;34m.\u001b[0m\u001b[0mupdate\u001b[0m\u001b[0;34m(\u001b[0m\u001b[0;34m{\u001b[0m\u001b[0mk\u001b[0m\u001b[0;34m:\u001b[0m \u001b[0marg\u001b[0m \u001b[0;32mfor\u001b[0m \u001b[0mk\u001b[0m\u001b[0;34m,\u001b[0m \u001b[0marg\u001b[0m \u001b[0;32min\u001b[0m \u001b[0mzip\u001b[0m\u001b[0;34m(\u001b[0m\u001b[0msig\u001b[0m\u001b[0;34m.\u001b[0m\u001b[0mparameters\u001b[0m\u001b[0;34m,\u001b[0m \u001b[0margs\u001b[0m\u001b[0;34m)\u001b[0m\u001b[0;34m}\u001b[0m\u001b[0;34m)\u001b[0m\u001b[0;34m\u001b[0m\u001b[0;34m\u001b[0m\u001b[0m\n\u001b[0;32m---> 46\u001b[0;31m         \u001b[0;32mreturn\u001b[0m \u001b[0mf\u001b[0m\u001b[0;34m(\u001b[0m\u001b[0;34m**\u001b[0m\u001b[0mkwargs\u001b[0m\u001b[0;34m)\u001b[0m\u001b[0;34m\u001b[0m\u001b[0;34m\u001b[0m\u001b[0m\n\u001b[0m\u001b[1;32m     47\u001b[0m     \u001b[0;32mreturn\u001b[0m \u001b[0minner_f\u001b[0m\u001b[0;34m\u001b[0m\u001b[0;34m\u001b[0m\u001b[0m\n\u001b[1;32m     48\u001b[0m \u001b[0;34m\u001b[0m\u001b[0m\n",
            "\u001b[0;32m/usr/local/lib/python3.7/dist-packages/seaborn/categorical.py\u001b[0m in \u001b[0;36mbarplot\u001b[0;34m(x, y, hue, data, order, hue_order, estimator, ci, n_boot, units, seed, orient, color, palette, saturation, errcolor, errwidth, capsize, dodge, ax, **kwargs)\u001b[0m\n\u001b[1;32m   3183\u001b[0m                           \u001b[0mestimator\u001b[0m\u001b[0;34m,\u001b[0m \u001b[0mci\u001b[0m\u001b[0;34m,\u001b[0m \u001b[0mn_boot\u001b[0m\u001b[0;34m,\u001b[0m \u001b[0munits\u001b[0m\u001b[0;34m,\u001b[0m \u001b[0mseed\u001b[0m\u001b[0;34m,\u001b[0m\u001b[0;34m\u001b[0m\u001b[0;34m\u001b[0m\u001b[0m\n\u001b[1;32m   3184\u001b[0m                           \u001b[0morient\u001b[0m\u001b[0;34m,\u001b[0m \u001b[0mcolor\u001b[0m\u001b[0;34m,\u001b[0m \u001b[0mpalette\u001b[0m\u001b[0;34m,\u001b[0m \u001b[0msaturation\u001b[0m\u001b[0;34m,\u001b[0m\u001b[0;34m\u001b[0m\u001b[0;34m\u001b[0m\u001b[0m\n\u001b[0;32m-> 3185\u001b[0;31m                           errcolor, errwidth, capsize, dodge)\n\u001b[0m\u001b[1;32m   3186\u001b[0m \u001b[0;34m\u001b[0m\u001b[0m\n\u001b[1;32m   3187\u001b[0m     \u001b[0;32mif\u001b[0m \u001b[0max\u001b[0m \u001b[0;32mis\u001b[0m \u001b[0;32mNone\u001b[0m\u001b[0;34m:\u001b[0m\u001b[0;34m\u001b[0m\u001b[0;34m\u001b[0m\u001b[0m\n",
            "\u001b[0;32m/usr/local/lib/python3.7/dist-packages/seaborn/categorical.py\u001b[0m in \u001b[0;36m__init__\u001b[0;34m(self, x, y, hue, data, order, hue_order, estimator, ci, n_boot, units, seed, orient, color, palette, saturation, errcolor, errwidth, capsize, dodge)\u001b[0m\n\u001b[1;32m   1583\u001b[0m         \u001b[0;34m\"\"\"Initialize the plotter.\"\"\"\u001b[0m\u001b[0;34m\u001b[0m\u001b[0;34m\u001b[0m\u001b[0m\n\u001b[1;32m   1584\u001b[0m         self.establish_variables(x, y, hue, data, orient,\n\u001b[0;32m-> 1585\u001b[0;31m                                  order, hue_order, units)\n\u001b[0m\u001b[1;32m   1586\u001b[0m         \u001b[0mself\u001b[0m\u001b[0;34m.\u001b[0m\u001b[0mestablish_colors\u001b[0m\u001b[0;34m(\u001b[0m\u001b[0mcolor\u001b[0m\u001b[0;34m,\u001b[0m \u001b[0mpalette\u001b[0m\u001b[0;34m,\u001b[0m \u001b[0msaturation\u001b[0m\u001b[0;34m)\u001b[0m\u001b[0;34m\u001b[0m\u001b[0;34m\u001b[0m\u001b[0m\n\u001b[1;32m   1587\u001b[0m         \u001b[0mself\u001b[0m\u001b[0;34m.\u001b[0m\u001b[0mestimate_statistic\u001b[0m\u001b[0;34m(\u001b[0m\u001b[0mestimator\u001b[0m\u001b[0;34m,\u001b[0m \u001b[0mci\u001b[0m\u001b[0;34m,\u001b[0m \u001b[0mn_boot\u001b[0m\u001b[0;34m,\u001b[0m \u001b[0mseed\u001b[0m\u001b[0;34m)\u001b[0m\u001b[0;34m\u001b[0m\u001b[0;34m\u001b[0m\u001b[0m\n",
            "\u001b[0;32m/usr/local/lib/python3.7/dist-packages/seaborn/categorical.py\u001b[0m in \u001b[0;36mestablish_variables\u001b[0;34m(self, x, y, hue, data, orient, order, hue_order, units)\u001b[0m\n\u001b[1;32m    151\u001b[0m                 \u001b[0;32mif\u001b[0m \u001b[0misinstance\u001b[0m\u001b[0;34m(\u001b[0m\u001b[0mvar\u001b[0m\u001b[0;34m,\u001b[0m \u001b[0mstr\u001b[0m\u001b[0;34m)\u001b[0m\u001b[0;34m:\u001b[0m\u001b[0;34m\u001b[0m\u001b[0;34m\u001b[0m\u001b[0m\n\u001b[1;32m    152\u001b[0m                     \u001b[0merr\u001b[0m \u001b[0;34m=\u001b[0m \u001b[0;34m\"Could not interpret input '{}'\"\u001b[0m\u001b[0;34m.\u001b[0m\u001b[0mformat\u001b[0m\u001b[0;34m(\u001b[0m\u001b[0mvar\u001b[0m\u001b[0;34m)\u001b[0m\u001b[0;34m\u001b[0m\u001b[0;34m\u001b[0m\u001b[0m\n\u001b[0;32m--> 153\u001b[0;31m                     \u001b[0;32mraise\u001b[0m \u001b[0mValueError\u001b[0m\u001b[0;34m(\u001b[0m\u001b[0merr\u001b[0m\u001b[0;34m)\u001b[0m\u001b[0;34m\u001b[0m\u001b[0;34m\u001b[0m\u001b[0m\n\u001b[0m\u001b[1;32m    154\u001b[0m \u001b[0;34m\u001b[0m\u001b[0m\n\u001b[1;32m    155\u001b[0m             \u001b[0;31m# Figure out the plotting orientation\u001b[0m\u001b[0;34m\u001b[0m\u001b[0;34m\u001b[0m\u001b[0;34m\u001b[0m\u001b[0m\n",
            "\u001b[0;31mValueError\u001b[0m: Could not interpret input 'Age'"
          ]
        }
      ]
    },
    {
      "cell_type": "code",
      "source": [
        "import pandas as pd\n",
        "def f1(x):\n",
        "  return x\n",
        "\n",
        "df1 = pd.DataFrame({'c1' : [-1,2,8,4], 'c2':[2,3,6,4]}, index = ['r1', 'r2', 'r3', 'r4'])\n",
        "df2 = df1\n",
        "df = pd.concat([df1,df2], ignore_index = True)\n",
        "\n",
        "#df ['c2'] = df ['c1']. apply ( lambda x : f1 (x))\n",
        "#df ['c2'] = [ f1 (x) for x in df ['c1']]\n",
        "#df ['c2'] = match ( f1 , df ['c2'])\n",
        "\n",
        "df ['c2'] = f1 ( df ['c1'])\n",
        "df"
      ],
      "metadata": {
        "colab": {
          "base_uri": "https://localhost:8080/",
          "height": 301
        },
        "id": "4Fr2BVrCpytd",
        "outputId": "360bd060-c4d1-470f-bdef-c6461e3fb49a"
      },
      "execution_count": null,
      "outputs": [
        {
          "output_type": "execute_result",
          "data": {
            "text/plain": [
              "   c1  c2\n",
              "0  -1  -1\n",
              "1   2   2\n",
              "2   8   8\n",
              "3   4   4\n",
              "4  -1  -1\n",
              "5   2   2\n",
              "6   8   8\n",
              "7   4   4"
            ],
            "text/html": [
              "\n",
              "  <div id=\"df-e8315619-2baf-4973-bd8a-1ae72e3f439a\">\n",
              "    <div class=\"colab-df-container\">\n",
              "      <div>\n",
              "<style scoped>\n",
              "    .dataframe tbody tr th:only-of-type {\n",
              "        vertical-align: middle;\n",
              "    }\n",
              "\n",
              "    .dataframe tbody tr th {\n",
              "        vertical-align: top;\n",
              "    }\n",
              "\n",
              "    .dataframe thead th {\n",
              "        text-align: right;\n",
              "    }\n",
              "</style>\n",
              "<table border=\"1\" class=\"dataframe\">\n",
              "  <thead>\n",
              "    <tr style=\"text-align: right;\">\n",
              "      <th></th>\n",
              "      <th>c1</th>\n",
              "      <th>c2</th>\n",
              "    </tr>\n",
              "  </thead>\n",
              "  <tbody>\n",
              "    <tr>\n",
              "      <th>0</th>\n",
              "      <td>-1</td>\n",
              "      <td>-1</td>\n",
              "    </tr>\n",
              "    <tr>\n",
              "      <th>1</th>\n",
              "      <td>2</td>\n",
              "      <td>2</td>\n",
              "    </tr>\n",
              "    <tr>\n",
              "      <th>2</th>\n",
              "      <td>8</td>\n",
              "      <td>8</td>\n",
              "    </tr>\n",
              "    <tr>\n",
              "      <th>3</th>\n",
              "      <td>4</td>\n",
              "      <td>4</td>\n",
              "    </tr>\n",
              "    <tr>\n",
              "      <th>4</th>\n",
              "      <td>-1</td>\n",
              "      <td>-1</td>\n",
              "    </tr>\n",
              "    <tr>\n",
              "      <th>5</th>\n",
              "      <td>2</td>\n",
              "      <td>2</td>\n",
              "    </tr>\n",
              "    <tr>\n",
              "      <th>6</th>\n",
              "      <td>8</td>\n",
              "      <td>8</td>\n",
              "    </tr>\n",
              "    <tr>\n",
              "      <th>7</th>\n",
              "      <td>4</td>\n",
              "      <td>4</td>\n",
              "    </tr>\n",
              "  </tbody>\n",
              "</table>\n",
              "</div>\n",
              "      <button class=\"colab-df-convert\" onclick=\"convertToInteractive('df-e8315619-2baf-4973-bd8a-1ae72e3f439a')\"\n",
              "              title=\"Convert this dataframe to an interactive table.\"\n",
              "              style=\"display:none;\">\n",
              "        \n",
              "  <svg xmlns=\"http://www.w3.org/2000/svg\" height=\"24px\"viewBox=\"0 0 24 24\"\n",
              "       width=\"24px\">\n",
              "    <path d=\"M0 0h24v24H0V0z\" fill=\"none\"/>\n",
              "    <path d=\"M18.56 5.44l.94 2.06.94-2.06 2.06-.94-2.06-.94-.94-2.06-.94 2.06-2.06.94zm-11 1L8.5 8.5l.94-2.06 2.06-.94-2.06-.94L8.5 2.5l-.94 2.06-2.06.94zm10 10l.94 2.06.94-2.06 2.06-.94-2.06-.94-.94-2.06-.94 2.06-2.06.94z\"/><path d=\"M17.41 7.96l-1.37-1.37c-.4-.4-.92-.59-1.43-.59-.52 0-1.04.2-1.43.59L10.3 9.45l-7.72 7.72c-.78.78-.78 2.05 0 2.83L4 21.41c.39.39.9.59 1.41.59.51 0 1.02-.2 1.41-.59l7.78-7.78 2.81-2.81c.8-.78.8-2.07 0-2.86zM5.41 20L4 18.59l7.72-7.72 1.47 1.35L5.41 20z\"/>\n",
              "  </svg>\n",
              "      </button>\n",
              "      \n",
              "  <style>\n",
              "    .colab-df-container {\n",
              "      display:flex;\n",
              "      flex-wrap:wrap;\n",
              "      gap: 12px;\n",
              "    }\n",
              "\n",
              "    .colab-df-convert {\n",
              "      background-color: #E8F0FE;\n",
              "      border: none;\n",
              "      border-radius: 50%;\n",
              "      cursor: pointer;\n",
              "      display: none;\n",
              "      fill: #1967D2;\n",
              "      height: 32px;\n",
              "      padding: 0 0 0 0;\n",
              "      width: 32px;\n",
              "    }\n",
              "\n",
              "    .colab-df-convert:hover {\n",
              "      background-color: #E2EBFA;\n",
              "      box-shadow: 0px 1px 2px rgba(60, 64, 67, 0.3), 0px 1px 3px 1px rgba(60, 64, 67, 0.15);\n",
              "      fill: #174EA6;\n",
              "    }\n",
              "\n",
              "    [theme=dark] .colab-df-convert {\n",
              "      background-color: #3B4455;\n",
              "      fill: #D2E3FC;\n",
              "    }\n",
              "\n",
              "    [theme=dark] .colab-df-convert:hover {\n",
              "      background-color: #434B5C;\n",
              "      box-shadow: 0px 1px 3px 1px rgba(0, 0, 0, 0.15);\n",
              "      filter: drop-shadow(0px 1px 2px rgba(0, 0, 0, 0.3));\n",
              "      fill: #FFFFFF;\n",
              "    }\n",
              "  </style>\n",
              "\n",
              "      <script>\n",
              "        const buttonEl =\n",
              "          document.querySelector('#df-e8315619-2baf-4973-bd8a-1ae72e3f439a button.colab-df-convert');\n",
              "        buttonEl.style.display =\n",
              "          google.colab.kernel.accessAllowed ? 'block' : 'none';\n",
              "\n",
              "        async function convertToInteractive(key) {\n",
              "          const element = document.querySelector('#df-e8315619-2baf-4973-bd8a-1ae72e3f439a');\n",
              "          const dataTable =\n",
              "            await google.colab.kernel.invokeFunction('convertToInteractive',\n",
              "                                                     [key], {});\n",
              "          if (!dataTable) return;\n",
              "\n",
              "          const docLinkHtml = 'Like what you see? Visit the ' +\n",
              "            '<a target=\"_blank\" href=https://colab.research.google.com/notebooks/data_table.ipynb>data table notebook</a>'\n",
              "            + ' to learn more about interactive tables.';\n",
              "          element.innerHTML = '';\n",
              "          dataTable['output_type'] = 'display_data';\n",
              "          await google.colab.output.renderOutput(dataTable, element);\n",
              "          const docLink = document.createElement('div');\n",
              "          docLink.innerHTML = docLinkHtml;\n",
              "          element.appendChild(docLink);\n",
              "        }\n",
              "      </script>\n",
              "    </div>\n",
              "  </div>\n",
              "  "
            ]
          },
          "metadata": {},
          "execution_count": 11
        }
      ]
    },
    {
      "cell_type": "code",
      "source": [
        "mysentence = \"My name is Ankita Jain\"\n",
        "#mysentence =mysentence.split ()\n",
        "#mysentence = list (mysentence)\n",
        "import nltk\n",
        "nltk.download('punkt')\n",
        "'''\n",
        "from nltk . tokenize import word_tokenize\n",
        "mysentence = word_tokenize ( mysentence )\n",
        "mysentence\n",
        "'''\n",
        "from nltk.tokenize import sent_tokenize \n",
        "mysentence =sent_tokenize ( mysentence )\n",
        "mysentence"
      ],
      "metadata": {
        "colab": {
          "base_uri": "https://localhost:8080/"
        },
        "id": "EIUzAEKrrQV7",
        "outputId": "2e1973d5-f895-4526-8cab-a33d33e3a8ad"
      },
      "execution_count": null,
      "outputs": [
        {
          "output_type": "stream",
          "name": "stdout",
          "text": [
            "[nltk_data] Downloading package punkt to /root/nltk_data...\n",
            "[nltk_data]   Package punkt is already up-to-date!\n"
          ]
        },
        {
          "output_type": "execute_result",
          "data": {
            "text/plain": [
              "['My name is Ankita Jain']"
            ]
          },
          "metadata": {},
          "execution_count": 19
        }
      ]
    },
    {
      "cell_type": "code",
      "source": [
        "import regex as re\n",
        "my_sentence = \" fill your sentence \"\n",
        "\n",
        "my_sentence = re.sub ('[^aA -zZ]+ ', 'gh', my_sentence )\n",
        "my_sentence"
      ],
      "metadata": {
        "colab": {
          "base_uri": "https://localhost:8080/",
          "height": 35
        },
        "id": "-juCHF9nriqH",
        "outputId": "5ab77538-9f16-4950-a6e3-3f675c030cf3"
      },
      "execution_count": null,
      "outputs": [
        {
          "output_type": "execute_result",
          "data": {
            "text/plain": [
              "' fill your sentence '"
            ],
            "application/vnd.google.colaboratory.intrinsic+json": {
              "type": "string"
            }
          },
          "metadata": {},
          "execution_count": 28
        }
      ]
    },
    {
      "cell_type": "code",
      "source": [
        "df.iloc['r3':'r4']"
      ],
      "metadata": {
        "colab": {
          "base_uri": "https://localhost:8080/",
          "height": 328
        },
        "id": "lFqr3byFrrWl",
        "outputId": "eeff86c2-0deb-45f5-f187-a0b5adf67ba5"
      },
      "execution_count": null,
      "outputs": [
        {
          "output_type": "error",
          "ename": "TypeError",
          "evalue": "ignored",
          "traceback": [
            "\u001b[0;31m---------------------------------------------------------------------------\u001b[0m",
            "\u001b[0;31mTypeError\u001b[0m                                 Traceback (most recent call last)",
            "\u001b[0;32m<ipython-input-14-81175cc91248>\u001b[0m in \u001b[0;36m<module>\u001b[0;34m()\u001b[0m\n\u001b[0;32m----> 1\u001b[0;31m \u001b[0mdf\u001b[0m\u001b[0;34m.\u001b[0m\u001b[0miloc\u001b[0m\u001b[0;34m[\u001b[0m\u001b[0;34m'r3'\u001b[0m\u001b[0;34m:\u001b[0m\u001b[0;34m'r4'\u001b[0m\u001b[0;34m]\u001b[0m\u001b[0;34m\u001b[0m\u001b[0;34m\u001b[0m\u001b[0m\n\u001b[0m",
            "\u001b[0;32m/usr/local/lib/python3.7/dist-packages/pandas/core/indexing.py\u001b[0m in \u001b[0;36m__getitem__\u001b[0;34m(self, key)\u001b[0m\n\u001b[1;32m    929\u001b[0m \u001b[0;34m\u001b[0m\u001b[0m\n\u001b[1;32m    930\u001b[0m             \u001b[0mmaybe_callable\u001b[0m \u001b[0;34m=\u001b[0m \u001b[0mcom\u001b[0m\u001b[0;34m.\u001b[0m\u001b[0mapply_if_callable\u001b[0m\u001b[0;34m(\u001b[0m\u001b[0mkey\u001b[0m\u001b[0;34m,\u001b[0m \u001b[0mself\u001b[0m\u001b[0;34m.\u001b[0m\u001b[0mobj\u001b[0m\u001b[0;34m)\u001b[0m\u001b[0;34m\u001b[0m\u001b[0;34m\u001b[0m\u001b[0m\n\u001b[0;32m--> 931\u001b[0;31m             \u001b[0;32mreturn\u001b[0m \u001b[0mself\u001b[0m\u001b[0;34m.\u001b[0m\u001b[0m_getitem_axis\u001b[0m\u001b[0;34m(\u001b[0m\u001b[0mmaybe_callable\u001b[0m\u001b[0;34m,\u001b[0m \u001b[0maxis\u001b[0m\u001b[0;34m=\u001b[0m\u001b[0maxis\u001b[0m\u001b[0;34m)\u001b[0m\u001b[0;34m\u001b[0m\u001b[0;34m\u001b[0m\u001b[0m\n\u001b[0m\u001b[1;32m    932\u001b[0m \u001b[0;34m\u001b[0m\u001b[0m\n\u001b[1;32m    933\u001b[0m     \u001b[0;32mdef\u001b[0m \u001b[0m_is_scalar_access\u001b[0m\u001b[0;34m(\u001b[0m\u001b[0mself\u001b[0m\u001b[0;34m,\u001b[0m \u001b[0mkey\u001b[0m\u001b[0;34m:\u001b[0m \u001b[0mtuple\u001b[0m\u001b[0;34m)\u001b[0m\u001b[0;34m:\u001b[0m\u001b[0;34m\u001b[0m\u001b[0;34m\u001b[0m\u001b[0m\n",
            "\u001b[0;32m/usr/local/lib/python3.7/dist-packages/pandas/core/indexing.py\u001b[0m in \u001b[0;36m_getitem_axis\u001b[0;34m(self, key, axis)\u001b[0m\n\u001b[1;32m   1541\u001b[0m \u001b[0;34m\u001b[0m\u001b[0m\n\u001b[1;32m   1542\u001b[0m         \u001b[0;32mif\u001b[0m \u001b[0misinstance\u001b[0m\u001b[0;34m(\u001b[0m\u001b[0mkey\u001b[0m\u001b[0;34m,\u001b[0m \u001b[0mslice\u001b[0m\u001b[0;34m)\u001b[0m\u001b[0;34m:\u001b[0m\u001b[0;34m\u001b[0m\u001b[0;34m\u001b[0m\u001b[0m\n\u001b[0;32m-> 1543\u001b[0;31m             \u001b[0;32mreturn\u001b[0m \u001b[0mself\u001b[0m\u001b[0;34m.\u001b[0m\u001b[0m_get_slice_axis\u001b[0m\u001b[0;34m(\u001b[0m\u001b[0mkey\u001b[0m\u001b[0;34m,\u001b[0m \u001b[0maxis\u001b[0m\u001b[0;34m=\u001b[0m\u001b[0maxis\u001b[0m\u001b[0;34m)\u001b[0m\u001b[0;34m\u001b[0m\u001b[0;34m\u001b[0m\u001b[0m\n\u001b[0m\u001b[1;32m   1544\u001b[0m \u001b[0;34m\u001b[0m\u001b[0m\n\u001b[1;32m   1545\u001b[0m         \u001b[0;32mif\u001b[0m \u001b[0mis_iterator\u001b[0m\u001b[0;34m(\u001b[0m\u001b[0mkey\u001b[0m\u001b[0;34m)\u001b[0m\u001b[0;34m:\u001b[0m\u001b[0;34m\u001b[0m\u001b[0;34m\u001b[0m\u001b[0m\n",
            "\u001b[0;32m/usr/local/lib/python3.7/dist-packages/pandas/core/indexing.py\u001b[0m in \u001b[0;36m_get_slice_axis\u001b[0;34m(self, slice_obj, axis)\u001b[0m\n\u001b[1;32m   1576\u001b[0m \u001b[0;34m\u001b[0m\u001b[0m\n\u001b[1;32m   1577\u001b[0m         \u001b[0mlabels\u001b[0m \u001b[0;34m=\u001b[0m \u001b[0mobj\u001b[0m\u001b[0;34m.\u001b[0m\u001b[0m_get_axis\u001b[0m\u001b[0;34m(\u001b[0m\u001b[0maxis\u001b[0m\u001b[0;34m)\u001b[0m\u001b[0;34m\u001b[0m\u001b[0;34m\u001b[0m\u001b[0m\n\u001b[0;32m-> 1578\u001b[0;31m         \u001b[0mlabels\u001b[0m\u001b[0;34m.\u001b[0m\u001b[0m_validate_positional_slice\u001b[0m\u001b[0;34m(\u001b[0m\u001b[0mslice_obj\u001b[0m\u001b[0;34m)\u001b[0m\u001b[0;34m\u001b[0m\u001b[0;34m\u001b[0m\u001b[0m\n\u001b[0m\u001b[1;32m   1579\u001b[0m         \u001b[0;32mreturn\u001b[0m \u001b[0mself\u001b[0m\u001b[0;34m.\u001b[0m\u001b[0mobj\u001b[0m\u001b[0;34m.\u001b[0m\u001b[0m_slice\u001b[0m\u001b[0;34m(\u001b[0m\u001b[0mslice_obj\u001b[0m\u001b[0;34m,\u001b[0m \u001b[0maxis\u001b[0m\u001b[0;34m=\u001b[0m\u001b[0maxis\u001b[0m\u001b[0;34m)\u001b[0m\u001b[0;34m\u001b[0m\u001b[0;34m\u001b[0m\u001b[0m\n\u001b[1;32m   1580\u001b[0m \u001b[0;34m\u001b[0m\u001b[0m\n",
            "\u001b[0;32m/usr/local/lib/python3.7/dist-packages/pandas/core/indexes/base.py\u001b[0m in \u001b[0;36m_validate_positional_slice\u001b[0;34m(self, key)\u001b[0m\n\u001b[1;32m   3681\u001b[0m         \u001b[0;32mfor\u001b[0m \u001b[0meach\u001b[0m \u001b[0mof\u001b[0m \u001b[0mstart\u001b[0m\u001b[0;34m,\u001b[0m \u001b[0mstop\u001b[0m\u001b[0;34m,\u001b[0m \u001b[0;32mand\u001b[0m \u001b[0mstep\u001b[0m\u001b[0;34m.\u001b[0m\u001b[0;34m\u001b[0m\u001b[0;34m\u001b[0m\u001b[0m\n\u001b[1;32m   3682\u001b[0m         \"\"\"\n\u001b[0;32m-> 3683\u001b[0;31m         \u001b[0mself\u001b[0m\u001b[0;34m.\u001b[0m\u001b[0m_validate_indexer\u001b[0m\u001b[0;34m(\u001b[0m\u001b[0;34m\"positional\"\u001b[0m\u001b[0;34m,\u001b[0m \u001b[0mkey\u001b[0m\u001b[0;34m.\u001b[0m\u001b[0mstart\u001b[0m\u001b[0;34m,\u001b[0m \u001b[0;34m\"iloc\"\u001b[0m\u001b[0;34m)\u001b[0m\u001b[0;34m\u001b[0m\u001b[0;34m\u001b[0m\u001b[0m\n\u001b[0m\u001b[1;32m   3684\u001b[0m         \u001b[0mself\u001b[0m\u001b[0;34m.\u001b[0m\u001b[0m_validate_indexer\u001b[0m\u001b[0;34m(\u001b[0m\u001b[0;34m\"positional\"\u001b[0m\u001b[0;34m,\u001b[0m \u001b[0mkey\u001b[0m\u001b[0;34m.\u001b[0m\u001b[0mstop\u001b[0m\u001b[0;34m,\u001b[0m \u001b[0;34m\"iloc\"\u001b[0m\u001b[0;34m)\u001b[0m\u001b[0;34m\u001b[0m\u001b[0;34m\u001b[0m\u001b[0m\n\u001b[1;32m   3685\u001b[0m         \u001b[0mself\u001b[0m\u001b[0;34m.\u001b[0m\u001b[0m_validate_indexer\u001b[0m\u001b[0;34m(\u001b[0m\u001b[0;34m\"positional\"\u001b[0m\u001b[0;34m,\u001b[0m \u001b[0mkey\u001b[0m\u001b[0;34m.\u001b[0m\u001b[0mstep\u001b[0m\u001b[0;34m,\u001b[0m \u001b[0;34m\"iloc\"\u001b[0m\u001b[0;34m)\u001b[0m\u001b[0;34m\u001b[0m\u001b[0;34m\u001b[0m\u001b[0m\n",
            "\u001b[0;32m/usr/local/lib/python3.7/dist-packages/pandas/core/indexes/base.py\u001b[0m in \u001b[0;36m_validate_indexer\u001b[0;34m(self, form, key, kind)\u001b[0m\n\u001b[1;32m   5717\u001b[0m \u001b[0;34m\u001b[0m\u001b[0m\n\u001b[1;32m   5718\u001b[0m         \u001b[0;32mif\u001b[0m \u001b[0mkey\u001b[0m \u001b[0;32mis\u001b[0m \u001b[0;32mnot\u001b[0m \u001b[0;32mNone\u001b[0m \u001b[0;32mand\u001b[0m \u001b[0;32mnot\u001b[0m \u001b[0mis_integer\u001b[0m\u001b[0;34m(\u001b[0m\u001b[0mkey\u001b[0m\u001b[0;34m)\u001b[0m\u001b[0;34m:\u001b[0m\u001b[0;34m\u001b[0m\u001b[0;34m\u001b[0m\u001b[0m\n\u001b[0;32m-> 5719\u001b[0;31m             \u001b[0;32mraise\u001b[0m \u001b[0mself\u001b[0m\u001b[0;34m.\u001b[0m\u001b[0m_invalid_indexer\u001b[0m\u001b[0;34m(\u001b[0m\u001b[0mform\u001b[0m\u001b[0;34m,\u001b[0m \u001b[0mkey\u001b[0m\u001b[0;34m)\u001b[0m\u001b[0;34m\u001b[0m\u001b[0;34m\u001b[0m\u001b[0m\n\u001b[0m\u001b[1;32m   5720\u001b[0m \u001b[0;34m\u001b[0m\u001b[0m\n\u001b[1;32m   5721\u001b[0m     \u001b[0;32mdef\u001b[0m \u001b[0m_maybe_cast_slice_bound\u001b[0m\u001b[0;34m(\u001b[0m\u001b[0mself\u001b[0m\u001b[0;34m,\u001b[0m \u001b[0mlabel\u001b[0m\u001b[0;34m,\u001b[0m \u001b[0mside\u001b[0m\u001b[0;34m:\u001b[0m \u001b[0mstr_t\u001b[0m\u001b[0;34m,\u001b[0m \u001b[0mkind\u001b[0m\u001b[0;34m=\u001b[0m\u001b[0mno_default\u001b[0m\u001b[0;34m)\u001b[0m\u001b[0;34m:\u001b[0m\u001b[0;34m\u001b[0m\u001b[0;34m\u001b[0m\u001b[0m\n",
            "\u001b[0;31mTypeError\u001b[0m: cannot do positional indexing on Index with these indexers [r3] of type str"
          ]
        }
      ]
    },
    {
      "cell_type": "code",
      "source": [
        "df.iloc[-2:]"
      ],
      "metadata": {
        "colab": {
          "base_uri": "https://localhost:8080/",
          "height": 112
        },
        "id": "Ud4aGF38rx1s",
        "outputId": "41380b0e-02dc-4f41-e335-0216511831d9"
      },
      "execution_count": null,
      "outputs": [
        {
          "output_type": "execute_result",
          "data": {
            "text/plain": [
              "    A  B\n",
              "r3  8  6\n",
              "r4  4  4"
            ],
            "text/html": [
              "\n",
              "  <div id=\"df-0be9fa38-8bc5-4343-ba29-b08a1f9a1940\">\n",
              "    <div class=\"colab-df-container\">\n",
              "      <div>\n",
              "<style scoped>\n",
              "    .dataframe tbody tr th:only-of-type {\n",
              "        vertical-align: middle;\n",
              "    }\n",
              "\n",
              "    .dataframe tbody tr th {\n",
              "        vertical-align: top;\n",
              "    }\n",
              "\n",
              "    .dataframe thead th {\n",
              "        text-align: right;\n",
              "    }\n",
              "</style>\n",
              "<table border=\"1\" class=\"dataframe\">\n",
              "  <thead>\n",
              "    <tr style=\"text-align: right;\">\n",
              "      <th></th>\n",
              "      <th>A</th>\n",
              "      <th>B</th>\n",
              "    </tr>\n",
              "  </thead>\n",
              "  <tbody>\n",
              "    <tr>\n",
              "      <th>r3</th>\n",
              "      <td>8</td>\n",
              "      <td>6</td>\n",
              "    </tr>\n",
              "    <tr>\n",
              "      <th>r4</th>\n",
              "      <td>4</td>\n",
              "      <td>4</td>\n",
              "    </tr>\n",
              "  </tbody>\n",
              "</table>\n",
              "</div>\n",
              "      <button class=\"colab-df-convert\" onclick=\"convertToInteractive('df-0be9fa38-8bc5-4343-ba29-b08a1f9a1940')\"\n",
              "              title=\"Convert this dataframe to an interactive table.\"\n",
              "              style=\"display:none;\">\n",
              "        \n",
              "  <svg xmlns=\"http://www.w3.org/2000/svg\" height=\"24px\"viewBox=\"0 0 24 24\"\n",
              "       width=\"24px\">\n",
              "    <path d=\"M0 0h24v24H0V0z\" fill=\"none\"/>\n",
              "    <path d=\"M18.56 5.44l.94 2.06.94-2.06 2.06-.94-2.06-.94-.94-2.06-.94 2.06-2.06.94zm-11 1L8.5 8.5l.94-2.06 2.06-.94-2.06-.94L8.5 2.5l-.94 2.06-2.06.94zm10 10l.94 2.06.94-2.06 2.06-.94-2.06-.94-.94-2.06-.94 2.06-2.06.94z\"/><path d=\"M17.41 7.96l-1.37-1.37c-.4-.4-.92-.59-1.43-.59-.52 0-1.04.2-1.43.59L10.3 9.45l-7.72 7.72c-.78.78-.78 2.05 0 2.83L4 21.41c.39.39.9.59 1.41.59.51 0 1.02-.2 1.41-.59l7.78-7.78 2.81-2.81c.8-.78.8-2.07 0-2.86zM5.41 20L4 18.59l7.72-7.72 1.47 1.35L5.41 20z\"/>\n",
              "  </svg>\n",
              "      </button>\n",
              "      \n",
              "  <style>\n",
              "    .colab-df-container {\n",
              "      display:flex;\n",
              "      flex-wrap:wrap;\n",
              "      gap: 12px;\n",
              "    }\n",
              "\n",
              "    .colab-df-convert {\n",
              "      background-color: #E8F0FE;\n",
              "      border: none;\n",
              "      border-radius: 50%;\n",
              "      cursor: pointer;\n",
              "      display: none;\n",
              "      fill: #1967D2;\n",
              "      height: 32px;\n",
              "      padding: 0 0 0 0;\n",
              "      width: 32px;\n",
              "    }\n",
              "\n",
              "    .colab-df-convert:hover {\n",
              "      background-color: #E2EBFA;\n",
              "      box-shadow: 0px 1px 2px rgba(60, 64, 67, 0.3), 0px 1px 3px 1px rgba(60, 64, 67, 0.15);\n",
              "      fill: #174EA6;\n",
              "    }\n",
              "\n",
              "    [theme=dark] .colab-df-convert {\n",
              "      background-color: #3B4455;\n",
              "      fill: #D2E3FC;\n",
              "    }\n",
              "\n",
              "    [theme=dark] .colab-df-convert:hover {\n",
              "      background-color: #434B5C;\n",
              "      box-shadow: 0px 1px 3px 1px rgba(0, 0, 0, 0.15);\n",
              "      filter: drop-shadow(0px 1px 2px rgba(0, 0, 0, 0.3));\n",
              "      fill: #FFFFFF;\n",
              "    }\n",
              "  </style>\n",
              "\n",
              "      <script>\n",
              "        const buttonEl =\n",
              "          document.querySelector('#df-0be9fa38-8bc5-4343-ba29-b08a1f9a1940 button.colab-df-convert');\n",
              "        buttonEl.style.display =\n",
              "          google.colab.kernel.accessAllowed ? 'block' : 'none';\n",
              "\n",
              "        async function convertToInteractive(key) {\n",
              "          const element = document.querySelector('#df-0be9fa38-8bc5-4343-ba29-b08a1f9a1940');\n",
              "          const dataTable =\n",
              "            await google.colab.kernel.invokeFunction('convertToInteractive',\n",
              "                                                     [key], {});\n",
              "          if (!dataTable) return;\n",
              "\n",
              "          const docLinkHtml = 'Like what you see? Visit the ' +\n",
              "            '<a target=\"_blank\" href=https://colab.research.google.com/notebooks/data_table.ipynb>data table notebook</a>'\n",
              "            + ' to learn more about interactive tables.';\n",
              "          element.innerHTML = '';\n",
              "          dataTable['output_type'] = 'display_data';\n",
              "          await google.colab.output.renderOutput(dataTable, element);\n",
              "          const docLink = document.createElement('div');\n",
              "          docLink.innerHTML = docLinkHtml;\n",
              "          element.appendChild(docLink);\n",
              "        }\n",
              "      </script>\n",
              "    </div>\n",
              "  </div>\n",
              "  "
            ]
          },
          "metadata": {},
          "execution_count": 15
        }
      ]
    },
    {
      "cell_type": "code",
      "source": [
        ""
      ],
      "metadata": {
        "id": "KdQc5nDVr16H"
      },
      "execution_count": null,
      "outputs": []
    }
  ],
  "metadata": {
    "colab": {
      "collapsed_sections": [],
      "name": "Copy of M3_MP6_NB_Software_Bugs.ipynb",
      "provenance": [],
      "include_colab_link": true
    },
    "kernelspec": {
      "display_name": "Python 3 (ipykernel)",
      "language": "python",
      "name": "python3"
    },
    "language_info": {
      "codemirror_mode": {
        "name": "ipython",
        "version": 3
      },
      "file_extension": ".py",
      "mimetype": "text/x-python",
      "name": "python",
      "nbconvert_exporter": "python",
      "pygments_lexer": "ipython3",
      "version": "3.9.7"
    }
  },
  "nbformat": 4,
  "nbformat_minor": 0
}